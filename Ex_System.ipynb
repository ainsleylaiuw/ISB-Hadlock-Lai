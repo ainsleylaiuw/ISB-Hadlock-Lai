{
 "cells": [
  {
   "cell_type": "markdown",
   "id": "3ccfe06a",
   "metadata": {},
   "source": [
    " # Systems:\n",
    " - Gene network switch (pg 120, Ch 4.3)\n",
    " - Can also do repressilator model w/ 6 equations?\n",
    " - Morris-Lecar Model (pg 154 Ch 5.5 & end of Ch 3.4)\n",
    " - 1D ODE in Ch 5.1\n",
    " - Maybe check out linear systems of diff eq in 5.3.3 pg 145\n",
    " \n",
    " #### misc\n",
    " - MSE: https://stackoverflow.com/questions/16774849/mean-squared-error-in-numpy\n",
    " - colorednoise library for different noise `cn.powerlaw_psd_gaussian(beta, 10000)* (sigmaVal + 0.03)` for noise that follows the np.normal thing for gaussian noise and a bit lower for pink. `* 0.03` to correct standard deviation. Not perfect though\n",
    " - https://github.com/dynamicslab/pysindy/issues/171\n",
    " - https://github.com/dynamicslab/pysindy/issues/132\n",
    " - https://github.com/dynamicslab/pysindy/issues/101 May be relevant for hill functions\n",
    " \n",
    "## To-do\n",
    "##### GENERAL\n",
    " - watch pySINDy tutorials to learn how to use it\n",
    " - Hadlock lab cloud computing work?\n",
    "\n",
    "##### TOPICAL GOALS\n",
    " - Issue with ODE solver where it blows up. Numerical error dividing small values or soln has huge derivative?? Need to fix, lengthens computation time and lowers accuracy of model.\n",
    "  - ODEint warning is from a Stiff Equation. \"hole\" or jump in our solution points that occurs from having too wide timesteps\n",
    " - model.simulate has an `interpolator` parameter. See issue #171 for an application with cubicspline\n",
    "\n",
    "\n",
    "##### 7/17\n",
    "Ran sigma test again with BDF integration and 5k timesteps. Ran for ~2.5hrs and error when calculating MSE. Error comes from differing array shapes which stems from some solution \"sheets\" in the simulation stack not being 'complete'. BDF error? Atleast there ain't any Excess Work warnings :')\n",
    "    \n",
    "##### 7/19\n",
    "Check out SINDy-PI\n",
    "solve explicit ODE to implicit ODE\n",
    "Add fraction term to LHS, add xdot to fraction, multiply out denom, move terms back over to RHS and simplify. ezpz\n",
    "\n",
    "investigate ICs in Ex-System to try to diagnose integration error\n",
    "Try to find terminal for jupyter notebook to observe errors directly to know if kernel is having issues or just taking a long time to run\n",
    "\n",
    "MSE, divide by number of IC too\n",
    "    \n",
    "https://scicomp.stackexchange.com/questions/40130/solve-ivp-from-scipy-does-not-integrate-the-whole-range-of-tspan\n",
    "https://stackoverflow.com/questions/69352999/solve-ivp-from-scipy-does-not-integrate-the-whole-range-of-tspan\n",
    "Explanation for Radau/BDF not integrating fully?\n",
    "\n",
    "##### 7/25\n",
    "Tried to implement SINDy-PI method like ex. 9 notebook. Running into problem where $\\dot{v}$ would be in the equation for $\\dot{u}$ and make it unable to evaluate the integral when we try to simulate it. Look into complex PDE example and see how they resolve it. At first glance, looks like they explicitly define a derivative variable and use `model.predict()` instead.\n",
    "\n",
    "##### 8/02\n",
    "SINDyPI with multiple trajectories accomplished; use `dt` for all `t` params. Need to open github issue RE inconsistency in x_dot calculation between library derivatives and pysindy class derivatives, specifically in preprocess_multi_traj and it usuing a concatenated list which results in a really long array. Models kinda suck tho w/ a 10x20000x2 training set. Will need to try more traj. and less timestep?"
   ]
  },
  {
   "cell_type": "code",
   "execution_count": 2,
   "id": "92237d9c",
   "metadata": {},
   "outputs": [],
   "source": [
    "import matplotlib.pyplot as plt\n",
    "import numpy as np\n",
    "from scipy.integrate import solve_ivp\n",
    "import pysindy as ps\n",
    "import colorednoise as cn\n",
    "import sympy as sp\n",
    "# from matplotlib.cm import rainbow\n",
    "# from scipy.io import loadmat\n",
    "# V correct RMSE method, 6 is prefactor\n",
    "# rmse_test = np.sqrt(np.square(np.subtract(A, B)).sum()) / 6\n"
   ]
  },
  {
   "cell_type": "markdown",
   "id": "94086ea4",
   "metadata": {},
   "source": [
    "## Gene Network Switch"
   ]
  },
  {
   "cell_type": "code",
   "execution_count": 2,
   "id": "b55b14b0",
   "metadata": {},
   "outputs": [],
   "source": [
    "# contains functions + basic parameters\n",
    "a_u, a_v = 1, 1\n",
    "beta, gamma = 2, 2\n",
    "dudt = lambda u, v: -u + (a_u / (1+v**beta))\n",
    "dvdt = lambda u, v: -v + (a_v / (1+u**gamma))\n",
    "sigma = 0.01\n",
    "sigma_list = np.linspace(0.001, 0.8, 10)\n",
    "netswitch = lambda t, x: np.array([dudt(x[0], x[1]), dvdt(x[0], x[1])])\n",
    "# 0-5 minus some value between 0-1, no negatives for IC?\n",
    "n_of_ic = 1000\n",
    "u_ic = np.random.random(size=n_of_ic) * 5 - np.random.random(size=n_of_ic)\n",
    "v_ic = np.random.random(size=n_of_ic) * 5 - np.random.random(size=n_of_ic)\n",
    "\n",
    "def plot_data_and_derivative(x, dt, deriv):\n",
    "    feature_name = [\"u\", \"v\"]\n",
    "    plt.figure(figsize=(20, 5))\n",
    "    for i in range(2):\n",
    "        plt.subplot(1, 2, i + 1)\n",
    "        plt.plot(x[:, i], label=feature_name[i])\n",
    "        plt.grid(True)\n",
    "        plt.xlabel(\"t\", fontsize=24)\n",
    "        plt.xticks(fontsize=18)\n",
    "        plt.yticks(fontsize=18)\n",
    "        plt.legend(fontsize=24)\n",
    "    x_dot = deriv(x, t=dt)\n",
    "    plt.figure(figsize=(20, 5))\n",
    "    for i in range(2):\n",
    "        plt.subplot(1, 2, i + 1)\n",
    "        plt.plot(x_dot[:, i], label=r\"$\\dot{\" + feature_name[i] + \"}$\")\n",
    "        plt.grid(True)\n",
    "        plt.xlabel(\"t\", fontsize=24)\n",
    "        plt.xticks(fontsize=18)\n",
    "        plt.yticks(fontsize=18)\n",
    "        plt.legend(fontsize=24)\n",
    "library_functions = [\n",
    "    lambda x: x,\n",
    "    lambda x: 1 / (1 + x**1),\n",
    "    lambda x: 1 / (1 + x**2),\n",
    "    lambda x: 1 / (1 + x**3),\n",
    "    lambda x: 1 / (1 + x**4),\n",
    "    lambda x: 1 / (1 + x**5)\n",
    "]\n",
    "library_function_names = [\n",
    "    lambda x: x,\n",
    "    lambda x: '1/(1 + ' + x + '^1)',\n",
    "    lambda x: '1/(1 + ' + x + '^2)',\n",
    "    lambda x: '1/(1 + ' + x + '^3)',\n",
    "    lambda x: '1/(1 + ' + x + '^4)',\n",
    "    lambda x: '1/(1 + ' + x + '^5)'\n",
    "]\n",
    "netswitch_library = ps.CustomLibrary(\n",
    "    library_functions=library_functions, function_names=library_function_names\n",
    ")"
   ]
  },
  {
   "cell_type": "code",
   "execution_count": 5,
   "id": "f72f8cb4",
   "metadata": {},
   "outputs": [
    {
     "name": "stdout",
     "output_type": "stream",
     "text": [
      "0.24438130497691968\n",
      "0.5656309304000191\n",
      "65\n",
      "0.24438130497691965\n"
     ]
    },
    {
     "data": {
      "text/plain": [
       "1.466287829861518"
      ]
     },
     "execution_count": 5,
     "metadata": {},
     "output_type": "execute_result"
    }
   ],
   "source": [
    "first = netswitch_train_multi[0][0]\n",
    "#print(netswitch_train_multi[0].shape)\n",
    "#print(first.dot(first))\n",
    "A = np.array([[3, 2],[4, 6],[1, 5]])\n",
    "B = np.array([[3.2, 1.8],[3.4, 7.3],[.9, 5.1]])\n",
    "testarr = np.array([[-.2, .2],[.6, -1.3],[.1, -.1]])\n",
    "manualrmse = np.sqrt(testarr[:,0].dot(testarr[:,0])+testarr[:,1].dot(testarr[:,1])) / 6\n",
    "computerrmse = mean_squared_error(A, B, squared=False)\n",
    "print(manualrmse)\n",
    "print(computerrmse)\n",
    "print(A[:, 1].dot(A[:, 1]))\n",
    "# V correct RMSE method, 6 is prefactor\n",
    "rmse_test = np.sqrt(np.square(np.subtract(A, B)).sum()) / 6\n",
    "\n",
    "print(np.sqrt(np.square(np.subtract(A, B)).sum()) / 6)\n",
    "diff = np.subtract(A, B)\n",
    "np.sqrt(diff[:,0].dot(diff[:,0])+diff[:,1].dot(diff[:,1]))"
   ]
  },
  {
   "cell_type": "code",
   "execution_count": null,
   "id": "e41e5c7e",
   "metadata": {
    "scrolled": true
   },
   "outputs": [
    {
     "name": "stdout",
     "output_type": "stream",
     "text": [
      "{'method': 'LSODA'}\n",
      "300\n",
      "(4000, 2)\n",
      "RMSE = 0.13831185357939185\n",
      "0.001\n",
      "0.03252631578947368\n",
      "0.06405263157894736\n",
      "0.09557894736842104\n"
     ]
    }
   ],
   "source": [
    "# test of model w/ varying sigma\n",
    "T = 20\n",
    "dt = 0.01\n",
    "trange = np.array([0, T])\n",
    "#tvals = np.arange(0, T + dt, dt)\n",
    "tvals = np.linspace(0, T, 400)\n",
    "n_of_ic = 30\n",
    "feature_count = 2\n",
    "fig, axs = plt.subplots(figsize=(10,8))\n",
    "netswitch_x0s = (np.random.rand(n_of_ic, feature_count) * 5 - np.random.rand(n_of_ic, feature_count))\n",
    "sigma = 0.01\n",
    "sigma_list = np.linspace(0.001, 0.6, 20)\n",
    "mu = np.zeros(feature_count)\n",
    "sparse_regression_optimizer = ps.STLSQ(threshold=0.5)\n",
    "MSE_list = []\n",
    "netswitch_train_multi = []\n",
    "integrator_keywords = {}\n",
    "# 0 for white, 1 for pink, 2 for brown\n",
    "beta = 0\n",
    "#integrator_keywords['full_output'] = True\n",
    "#integrator_keywords['rtol'] = 1e-12\n",
    "integrator_keywords['method'] = 'LSODA'\n",
    "#integrator_keywords['atol'] = 1e-12\n",
    "\n",
    "print(integrator_keywords)\n",
    "\n",
    "# creation of TRUE data/solution\n",
    "for i in range(n_of_ic):     \n",
    "    netswitch_train_temp = solve_ivp(\n",
    "        netswitch, trange, netswitch_x0s[i], t_eval=tvals\n",
    "    ).y.T\n",
    "    netswitch_train_multi.append(netswitch_train_temp)\n",
    "print(len(netswitch_train_multi))\n",
    "print(netswitch_train_multi[0].shape)\n",
    "# may need to use np.zeros\n",
    "rmse = np.sqrt(np.square(netswitch_train_multi).sum()) / (len(tvals) * feature_count)\n",
    "print(f\"RMSE = {rmse}\")\n",
    "# train models\n",
    "for j in range(len(sigma_list)):\n",
    "    sigma = np.zeros((feature_count, feature_count))\n",
    "    sigmaVal = sigma_list[j]\n",
    "    np.fill_diagonal(sigma, sigmaVal)\n",
    "    print(sigmaVal)\n",
    "    #noise = np.random.multivariate_normal(mu, sigma**2, (n_of_ic, len(tvals)))\n",
    "    noise = cn.powerlaw_psd_gaussian(beta, (n_of_ic, len(tvals), feature_count)) * (sigmaVal + 0.03)\n",
    "    model = ps.SINDy(feature_names=['u', 'v'], optimizer=sparse_regression_optimizer, feature_library=netswitch_library)\n",
    "    model.fit(list(netswitch_train_multi + noise), t=dt, multiple_trajectories=True)\n",
    "    simulations = []\n",
    "    # create simulations list to hold simulated data for corresponding IC\n",
    "    for k in range(n_of_ic):\n",
    "        # problem area with warnings\n",
    "        netswitch_sim = model.simulate(netswitch_x0s[k], t=tvals, integrator=\"solve_ivp\", integrator_kws=integrator_keywords)\n",
    "        simulations.append(netswitch_sim) \n",
    "    MSE = np.square(np.subtract(netswitch_train_multi, simulations)).sum() / (len(tvals) * feature_count * n_of_ic)\n",
    "    MSE_list.append(MSE)\n",
    "print(sigma_list)\n",
    "print(MSE_list)\n",
    "axs.plot(sigma_list, MSE_list)\n",
    "axs.set(xlabel=\"$\\sigma$\", ylabel=\"MSE\")\n",
    "plt.grid(True)\n",
    "plt.xlabel(\"$\\sigma$\", fontsize=24)\n",
    "plt.ylabel(\"MSE\", fontsize=24)\n",
    "fig.suptitle('Mean Squared Error vs. Standard Deviation in Gaussian Noise', fontsize=28)\n",
    "plt.yscale('log')"
   ]
  },
  {
   "cell_type": "code",
   "execution_count": 4,
   "id": "3e1f8a55",
   "metadata": {},
   "outputs": [
    {
     "name": "stdout",
     "output_type": "stream",
     "text": [
      "{'method': 'LSODA'}\n",
      "30\n",
      "(2000, 2)\n",
      "RMSE = 0.07034165287905368\n",
      "[[2.98771068 3.15654753]\n",
      " [2.25457553 4.48639763]\n",
      " [0.08914293 1.13715894]\n",
      " [3.65728246 0.02984008]\n",
      " [4.1560517  2.75801598]\n",
      " [2.12556612 1.67697186]\n",
      " [4.16197447 1.54612162]\n",
      " [2.08360947 1.31768694]\n",
      " [1.23137216 2.90706118]\n",
      " [4.28031808 0.87338987]\n",
      " [4.75797566 1.27449125]\n",
      " [4.86238267 1.09523746]\n",
      " [2.93142983 4.15234293]\n",
      " [2.0520647  3.58244936]\n",
      " [4.26243365 3.06855113]\n",
      " [0.63842553 1.39995761]\n",
      " [2.68600938 1.49196941]\n",
      " [1.55198852 1.38287628]\n",
      " [4.64773987 0.55120638]\n",
      " [2.78492901 4.50677637]\n",
      " [4.85198831 2.84797458]\n",
      " [0.1786146  2.72379257]\n",
      " [3.05668153 2.32411969]\n",
      " [0.40814022 2.217721  ]\n",
      " [3.38902346 1.97316146]\n",
      " [3.9020216  1.81676799]\n",
      " [0.06065321 4.80347814]\n",
      " [4.32333546 3.43656835]\n",
      " [0.21723667 2.77954476]\n",
      " [3.85832123 1.28776832]]\n"
     ]
    }
   ],
   "source": [
    "# troubleshooting above test# test of model w/ varying sigma\n",
    "T = 20\n",
    "dt = 0.01\n",
    "trange = np.array([0, T])\n",
    "#tvals = np.arange(0, T + dt, dt)\n",
    "tvals = np.linspace(0, T, 2000)\n",
    "n_of_ic = 30\n",
    "feature_count = 2\n",
    "#fig, axs = plt.subplots(figsize=(10,8))\n",
    "netswitch_x0s = (np.random.rand(n_of_ic, feature_count) * 5)\n",
    "sigma = 0.01\n",
    "sigma_list = np.linspace(0.001, 0.6, 20)\n",
    "mu = np.zeros(feature_count)\n",
    "sparse_regression_optimizer = ps.STLSQ(threshold=0.5)\n",
    "netswitch_train_multi = []\n",
    "integrator_keywords = {}\n",
    "# 0 for white, 1 for pink, 2 for brown\n",
    "beta = 0\n",
    "#integrator_keywords['full_output'] = True\n",
    "#integrator_keywords['rtol'] = 1e-12\n",
    "integrator_keywords['method'] = 'LSODA'\n",
    "#integrator_keywords['atol'] = 1e-12\n",
    "\n",
    "print(integrator_keywords)\n",
    "\n",
    "# creation of TRUE data/solution\n",
    "for i in range(n_of_ic):     \n",
    "    netswitch_train_temp = solve_ivp(\n",
    "        netswitch, trange, netswitch_x0s[i], t_eval=tvals\n",
    "    ).y.T\n",
    "    netswitch_train_multi.append(netswitch_train_temp)\n",
    "print(len(netswitch_train_multi))\n",
    "print(netswitch_train_multi[0].shape)\n",
    "# may need to use np.zeros\n",
    "rmse = np.sqrt(np.square(netswitch_train_multi).sum()) / (len(tvals) * feature_count)\n",
    "print(f\"RMSE = {rmse}\")\n",
    "print(netswitch_x0s)"
   ]
  },
  {
   "cell_type": "code",
   "execution_count": 26,
   "id": "8d7b7889",
   "metadata": {},
   "outputs": [
    {
     "name": "stdout",
     "output_type": "stream",
     "text": [
      "0.001\n",
      "(u)' = -0.965 u + -2.228 1/(1 + u^1) + 39.040 1/(1 + u^2) + -3.774 1/(1 + v^2) + -97.393 1/(1 + u^3) + 3.865 1/(1 + v^3) + 95.521 1/(1 + u^4) + -0.849 1/(1 + v^4) + -33.265 1/(1 + u^5)\n",
      "(v)' = -0.979 v + 2.536 1/(1 + u^1) + 11.344 1/(1 + v^1) + -2.822 1/(1 + u^2) + -72.003 1/(1 + v^2) + 160.722 1/(1 + v^3) + 1.684 1/(1 + u^4) + -154.810 1/(1 + v^4) + 54.317 1/(1 + v^5)\n",
      "[2.02509684 3.00322762]\n",
      "[3.76202857 2.18043422]\n",
      "[2.5667126  2.18684537]\n",
      "[0.31497897 3.80047259]\n",
      "[0.75834496 1.36487447]\n",
      "[2.45842811 1.43859345]\n",
      "[1.44206144 0.49745614]\n",
      "[1.30406876 1.95030417]\n",
      "[2.06108279 1.81331975]\n",
      "[1.95428241 3.69742737]\n",
      "[3.62438987 2.64272581]\n",
      "[1.23739272 2.27084102]\n",
      "[0.68504378 0.09415168]\n",
      "[2.14858937 1.13850504]\n",
      "[3.02416868 2.4618377 ]\n",
      "[0.13497447 0.96337779]\n",
      "[3.30529246 4.60109906]\n",
      "[0.78247674 1.06464271]\n",
      "[4.59193883 4.56665017]\n",
      "[0.98168913 0.42179265]\n",
      "[2.62938407 3.60267814]\n",
      "[0.6397077  1.61352554]\n",
      "[1.36425646 0.15345143]\n",
      "[3.08006486 1.07850664]\n",
      "[0.67606689 1.27723107]\n",
      "[4.30417165 2.98725445]\n",
      "[3.16202148 4.59051787]\n",
      "[2.9953268  1.61409867]\n",
      "[4.02420051 3.45458634]\n",
      "[3.21183432 1.42490988]\n",
      "List for sigma=0.001: [0.006955213707520929]\n",
      "0.03252631578947368\n",
      "(u)' = -1.324 u + 22.103 1/(1 + v^1) + 18.621 1/(1 + u^2) + -65.585 1/(1 + v^2) + -59.328 1/(1 + u^3) + 82.568 1/(1 + v^3) + 62.587 1/(1 + u^4) + -44.277 1/(1 + v^4) + -22.234 1/(1 + u^5) + 7.486 1/(1 + v^5)\n",
      "(v)' = -1.692 v + 3.680 1/(1 + u^1) + 5.603 1/(1 + v^1) + -9.629 1/(1 + u^2) + 34.924 1/(1 + v^2) + 6.888 1/(1 + u^3) + -123.031 1/(1 + v^3) + 136.697 1/(1 + v^4) + -52.496 1/(1 + v^5)\n",
      "[2.02509684 3.00322762]\n",
      "[3.76202857 2.18043422]\n",
      "[2.5667126  2.18684537]\n",
      "[0.31497897 3.80047259]\n",
      "[0.75834496 1.36487447]\n",
      "[2.45842811 1.43859345]\n",
      "[1.44206144 0.49745614]\n",
      "[1.30406876 1.95030417]\n",
      "[2.06108279 1.81331975]\n",
      "[1.95428241 3.69742737]\n",
      "[3.62438987 2.64272581]\n",
      "[1.23739272 2.27084102]\n",
      "[0.68504378 0.09415168]\n",
      "[2.14858937 1.13850504]\n",
      "[3.02416868 2.4618377 ]\n",
      "[0.13497447 0.96337779]\n",
      "[3.30529246 4.60109906]\n",
      "[0.78247674 1.06464271]\n",
      "[4.59193883 4.56665017]\n",
      "[0.98168913 0.42179265]\n",
      "[2.62938407 3.60267814]\n",
      "[0.6397077  1.61352554]\n",
      "[1.36425646 0.15345143]\n",
      "[3.08006486 1.07850664]\n",
      "[0.67606689 1.27723107]\n",
      "[4.30417165 2.98725445]\n",
      "[3.16202148 4.59051787]\n",
      "[2.9953268  1.61409867]\n",
      "[4.02420051 3.45458634]\n",
      "[3.21183432 1.42490988]\n",
      "List for sigma=0.03252631578947368: [0.006955213707520929, 0.09245692292161539]\n",
      "0.06405263157894736\n",
      "(u)' = -0.965 u + 11.706 1/(1 + u^1) + 8.492 1/(1 + v^1) + -67.005 1/(1 + u^2) + -23.475 1/(1 + v^2) + 163.724 1/(1 + u^3) + 38.756 1/(1 + v^3) + -185.765 1/(1 + u^4) + -40.894 1/(1 + v^4) + 77.047 1/(1 + u^5) + 18.420 1/(1 + v^5)\n",
      "(v)' = -0.805 v + 18.180 1/(1 + v^1) + -12.088 1/(1 + u^2) + -87.633 1/(1 + v^2) + 42.818 1/(1 + u^3) + 189.900 1/(1 + v^3) + -59.253 1/(1 + u^4) + -191.253 1/(1 + v^4) + 28.697 1/(1 + u^5) + 71.308 1/(1 + v^5)\n",
      "[2.02509684 3.00322762]\n",
      "[3.76202857 2.18043422]\n",
      "[2.5667126  2.18684537]\n",
      "[0.31497897 3.80047259]\n",
      "[0.75834496 1.36487447]\n",
      "[2.45842811 1.43859345]\n",
      "[1.44206144 0.49745614]\n",
      "[1.30406876 1.95030417]\n",
      "[2.06108279 1.81331975]\n",
      "[1.95428241 3.69742737]\n",
      "[3.62438987 2.64272581]\n",
      "[1.23739272 2.27084102]\n",
      "[0.68504378 0.09415168]\n",
      "[2.14858937 1.13850504]\n",
      "[3.02416868 2.4618377 ]\n",
      "[0.13497447 0.96337779]\n",
      "[3.30529246 4.60109906]\n",
      "[0.78247674 1.06464271]\n",
      "[4.59193883 4.56665017]\n",
      "[0.98168913 0.42179265]\n",
      "[2.62938407 3.60267814]\n",
      "[0.6397077  1.61352554]\n",
      "[1.36425646 0.15345143]\n",
      "[3.08006486 1.07850664]\n",
      "[0.67606689 1.27723107]\n",
      "[4.30417165 2.98725445]\n",
      "[3.16202148 4.59051787]\n",
      "[2.9953268  1.61409867]\n",
      "[4.02420051 3.45458634]\n",
      "[3.21183432 1.42490988]\n",
      "List for sigma=0.06405263157894736: [0.006955213707520929, 0.09245692292161539, 0.19567288261280327]\n",
      "0.09557894736842104\n",
      "(u)' = -1.398 u + 0.827 v + 1.360 1/(1 + u^1) + 0.854 1/(1 + v^1) + 8.200 1/(1 + u^2) + -5.898 1/(1 + v^2) + -32.742 1/(1 + u^3) + 28.735 1/(1 + u^4) + 19.986 1/(1 + v^4) + -6.451 1/(1 + u^5) + -13.759 1/(1 + v^5)\n",
      "(v)' = -1.337 v + 9.120 1/(1 + v^1) + -1.392 1/(1 + u^2) + 3.452 1/(1 + v^2) + -6.690 1/(1 + u^3) + -51.511 1/(1 + v^3) + 12.099 1/(1 + u^4) + 68.160 1/(1 + v^4) + -3.501 1/(1 + u^5) + -28.145 1/(1 + v^5)\n",
      "[2.02509684 3.00322762]\n",
      "[3.76202857 2.18043422]\n",
      "[2.5667126  2.18684537]\n",
      "[0.31497897 3.80047259]\n",
      "[0.75834496 1.36487447]\n",
      "[2.45842811 1.43859345]\n",
      "[1.44206144 0.49745614]\n",
      "[1.30406876 1.95030417]\n",
      "[2.06108279 1.81331975]\n",
      "[1.95428241 3.69742737]\n",
      "[3.62438987 2.64272581]\n",
      "[1.23739272 2.27084102]\n",
      "[0.68504378 0.09415168]\n",
      "[2.14858937 1.13850504]\n",
      "[3.02416868 2.4618377 ]\n",
      "[0.13497447 0.96337779]\n",
      "[3.30529246 4.60109906]\n",
      "[0.78247674 1.06464271]\n",
      "[4.59193883 4.56665017]\n",
      "[0.98168913 0.42179265]\n",
      "[2.62938407 3.60267814]\n",
      "[0.6397077  1.61352554]\n",
      "[1.36425646 0.15345143]\n",
      "[3.08006486 1.07850664]\n",
      "[0.67606689 1.27723107]\n",
      "[4.30417165 2.98725445]\n",
      "[3.16202148 4.59051787]\n",
      "[2.9953268  1.61409867]\n",
      "[4.02420051 3.45458634]\n",
      "[3.21183432 1.42490988]\n",
      "List for sigma=0.09557894736842104: [0.006955213707520929, 0.09245692292161539, 0.19567288261280327, 0.1318310241574493]\n",
      "0.12710526315789472\n",
      "(u)' = -2.042 u + 1.677 v + -5.220 1/(1 + u^1) + -1.607 1/(1 + v^1) + 4.122 1/(1 + u^2) + -4.560 1/(1 + v^2) + 8.149 1/(1 + u^3) + 33.955 1/(1 + v^3) + -23.264 1/(1 + u^4) + -43.126 1/(1 + v^4) + 12.871 1/(1 + u^5) + 18.382 1/(1 + v^5)\n",
      "(v)' = -0.680 v + 0.828 1/(1 + u^1) + 2.052 1/(1 + v^1) + -1.184 1/(1 + u^2) + 3.713 1/(1 + v^2) + -8.929 1/(1 + u^3) + -34.319 1/(1 + v^3) + 25.009 1/(1 + u^4) + 55.915 1/(1 + v^4) + -15.007 1/(1 + u^5) + -27.326 1/(1 + v^5)\n",
      "[2.02509684 3.00322762]\n",
      "[3.76202857 2.18043422]\n",
      "[2.5667126  2.18684537]\n",
      "[0.31497897 3.80047259]\n",
      "[0.75834496 1.36487447]\n",
      "[2.45842811 1.43859345]\n",
      "[1.44206144 0.49745614]\n",
      "[1.30406876 1.95030417]\n",
      "[2.06108279 1.81331975]\n",
      "[1.95428241 3.69742737]\n",
      "[3.62438987 2.64272581]\n",
      "[1.23739272 2.27084102]\n",
      "[0.68504378 0.09415168]\n",
      "[2.14858937 1.13850504]\n",
      "[3.02416868 2.4618377 ]\n",
      "[0.13497447 0.96337779]\n",
      "[3.30529246 4.60109906]\n",
      "[0.78247674 1.06464271]\n",
      "[4.59193883 4.56665017]\n",
      "[0.98168913 0.42179265]\n",
      "[2.62938407 3.60267814]\n",
      "[0.6397077  1.61352554]\n",
      "[1.36425646 0.15345143]\n",
      "[3.08006486 1.07850664]\n",
      "[0.67606689 1.27723107]\n",
      "[4.30417165 2.98725445]\n",
      "[3.16202148 4.59051787]\n",
      "[2.9953268  1.61409867]\n",
      "[4.02420051 3.45458634]\n",
      "[3.21183432 1.42490988]\n",
      "List for sigma=0.12710526315789472: [0.006955213707520929, 0.09245692292161539, 0.19567288261280327, 0.1318310241574493, 0.17488449289923327]\n",
      "0.1586315789473684\n",
      "(u)' = -0.964 u + 0.539 v + -1.805 1/(1 + u^1) + 5.014 1/(1 + u^2) + 4.669 1/(1 + v^3) + -11.805 1/(1 + u^4) + -6.737 1/(1 + v^4) + 7.939 1/(1 + u^5) + 2.967 1/(1 + v^5)\n",
      "(v)' = -3.241 1/(1 + v^1) + -3.259 1/(1 + v^2) + 10.500 1/(1 + v^3) + -5.277 1/(1 + v^4) + 0.691 1/(1 + u^5)\n",
      "[2.02509684 3.00322762]\n",
      "[3.76202857 2.18043422]\n",
      "[2.5667126  2.18684537]\n",
      "[0.31497897 3.80047259]\n",
      "[0.75834496 1.36487447]\n",
      "[2.45842811 1.43859345]\n",
      "[1.44206144 0.49745614]\n",
      "[1.30406876 1.95030417]\n",
      "[2.06108279 1.81331975]\n",
      "[1.95428241 3.69742737]\n",
      "[3.62438987 2.64272581]\n",
      "[1.23739272 2.27084102]\n",
      "[0.68504378 0.09415168]\n",
      "[2.14858937 1.13850504]\n",
      "[3.02416868 2.4618377 ]\n",
      "[0.13497447 0.96337779]\n",
      "[3.30529246 4.60109906]\n",
      "[0.78247674 1.06464271]\n",
      "[4.59193883 4.56665017]\n",
      "[0.98168913 0.42179265]\n",
      "[2.62938407 3.60267814]\n",
      "[0.6397077  1.61352554]\n",
      "[1.36425646 0.15345143]\n",
      "[3.08006486 1.07850664]\n",
      "[0.67606689 1.27723107]\n",
      "[4.30417165 2.98725445]\n",
      "[3.16202148 4.59051787]\n",
      "[2.9953268  1.61409867]\n",
      "[4.02420051 3.45458634]\n",
      "[3.21183432 1.42490988]\n",
      "List for sigma=0.1586315789473684: [0.006955213707520929, 0.09245692292161539, 0.19567288261280327, 0.1318310241574493, 0.17488449289923327, 6.829428457580093]\n",
      "0.19015789473684208\n",
      "(u)' = -2.329 1/(1 + u^1) + 0.958 1/(1 + v^1) + 1.416 1/(1 + u^2) + -4.421 1/(1 + v^2) + 7.624 1/(1 + u^3) + -1.838 1/(1 + v^3) + -3.142 1/(1 + u^4) + 3.847 1/(1 + v^4) + -2.521 1/(1 + u^5)\n",
      "(v)' = -0.511 u + 1.839 1/(1 + u^1) + -1.910 1/(1 + v^1) + 2.807 1/(1 + u^2) + -5.229 1/(1 + v^2) + -7.305 1/(1 + u^3) + 11.673 1/(1 + v^3) + -1.014 1/(1 + u^4) + 6.940 1/(1 + v^4) + 3.956 1/(1 + u^5) + -11.414 1/(1 + v^5)\n",
      "[2.02509684 3.00322762]\n",
      "[3.76202857 2.18043422]\n",
      "[2.5667126  2.18684537]\n",
      "[0.31497897 3.80047259]\n",
      "[0.75834496 1.36487447]\n",
      "[2.45842811 1.43859345]\n",
      "[1.44206144 0.49745614]\n",
      "[1.30406876 1.95030417]\n",
      "[2.06108279 1.81331975]\n",
      "[1.95428241 3.69742737]\n",
      "[3.62438987 2.64272581]\n",
      "[1.23739272 2.27084102]\n",
      "[0.68504378 0.09415168]\n"
     ]
    },
    {
     "name": "stderr",
     "output_type": "stream",
     "text": [
      "C:\\Users\\UserALai\\miniconda3\\lib\\site-packages\\scipy\\integrate\\_odepack_py.py:247: ODEintWarning: Excess work done on this call (perhaps wrong Dfun type). Run with full_output = 1 to get quantitative information.\n",
      "  warnings.warn(warning_msg, ODEintWarning)\n"
     ]
    },
    {
     "name": "stdout",
     "output_type": "stream",
     "text": [
      "[2.14858937 1.13850504]\n",
      "[3.02416868 2.4618377 ]\n",
      "[0.13497447 0.96337779]\n",
      "[3.30529246 4.60109906]\n",
      "[0.78247674 1.06464271]\n",
      "[4.59193883 4.56665017]\n",
      "[0.98168913 0.42179265]\n",
      "[2.62938407 3.60267814]\n",
      "[0.6397077  1.61352554]\n",
      "[1.36425646 0.15345143]\n"
     ]
    },
    {
     "name": "stderr",
     "output_type": "stream",
     "text": [
      "C:\\Users\\UserALai\\miniconda3\\lib\\site-packages\\scipy\\integrate\\_odepack_py.py:247: ODEintWarning: Excess work done on this call (perhaps wrong Dfun type). Run with full_output = 1 to get quantitative information.\n",
      "  warnings.warn(warning_msg, ODEintWarning)\n"
     ]
    },
    {
     "name": "stdout",
     "output_type": "stream",
     "text": [
      "[3.08006486 1.07850664]\n",
      "[0.67606689 1.27723107]\n",
      "[4.30417165 2.98725445]\n",
      "[3.16202148 4.59051787]\n",
      "[2.9953268  1.61409867]\n",
      "[4.02420051 3.45458634]\n",
      "[3.21183432 1.42490988]\n",
      "List for sigma=0.19015789473684208: [0.006955213707520929, 0.09245692292161539, 0.19567288261280327, 0.1318310241574493, 0.17488449289923327, 6.829428457580093, 1.8291053066053333]\n",
      "0.22168421052631576\n",
      "(u)' = 0.897 1/(1 + u^1) + 3.549 1/(1 + u^2) + -4.320 1/(1 + u^3) + -2.706 1/(1 + u^4) + 2.736 1/(1 + u^5)\n",
      "(v)' = -0.668 u + 1.516 1/(1 + u^1) + 5.650 1/(1 + u^2) + 5.415 1/(1 + v^2) + -18.137 1/(1 + u^3) + -3.900 1/(1 + v^3) + -12.219 1/(1 + u^4) + -6.181 1/(1 + v^4) + 22.578 1/(1 + u^5) + 5.908 1/(1 + v^5)\n",
      "[2.02509684 3.00322762]\n"
     ]
    },
    {
     "name": "stderr",
     "output_type": "stream",
     "text": [
      "C:\\Users\\UserALai\\miniconda3\\lib\\site-packages\\scipy\\integrate\\_odepack_py.py:247: ODEintWarning: Excess work done on this call (perhaps wrong Dfun type). Run with full_output = 1 to get quantitative information.\n",
      "  warnings.warn(warning_msg, ODEintWarning)\n"
     ]
    },
    {
     "name": "stdout",
     "output_type": "stream",
     "text": [
      "[3.76202857 2.18043422]\n"
     ]
    },
    {
     "name": "stderr",
     "output_type": "stream",
     "text": [
      "C:\\Users\\UserALai\\miniconda3\\lib\\site-packages\\scipy\\integrate\\_odepack_py.py:247: ODEintWarning: Excess work done on this call (perhaps wrong Dfun type). Run with full_output = 1 to get quantitative information.\n",
      "  warnings.warn(warning_msg, ODEintWarning)\n"
     ]
    },
    {
     "name": "stdout",
     "output_type": "stream",
     "text": [
      "[2.5667126  2.18684537]\n"
     ]
    },
    {
     "name": "stderr",
     "output_type": "stream",
     "text": [
      "C:\\Users\\UserALai\\miniconda3\\lib\\site-packages\\scipy\\integrate\\_odepack_py.py:247: ODEintWarning: Excess work done on this call (perhaps wrong Dfun type). Run with full_output = 1 to get quantitative information.\n",
      "  warnings.warn(warning_msg, ODEintWarning)\n"
     ]
    },
    {
     "name": "stdout",
     "output_type": "stream",
     "text": [
      "[0.31497897 3.80047259]\n",
      "[0.75834496 1.36487447]\n",
      "[2.45842811 1.43859345]\n"
     ]
    },
    {
     "name": "stderr",
     "output_type": "stream",
     "text": [
      "C:\\Users\\UserALai\\miniconda3\\lib\\site-packages\\scipy\\integrate\\_odepack_py.py:247: ODEintWarning: Excess work done on this call (perhaps wrong Dfun type). Run with full_output = 1 to get quantitative information.\n",
      "  warnings.warn(warning_msg, ODEintWarning)\n"
     ]
    },
    {
     "name": "stdout",
     "output_type": "stream",
     "text": [
      "[1.44206144 0.49745614]\n"
     ]
    },
    {
     "name": "stderr",
     "output_type": "stream",
     "text": [
      "C:\\Users\\UserALai\\miniconda3\\lib\\site-packages\\scipy\\integrate\\_odepack_py.py:247: ODEintWarning: Excess work done on this call (perhaps wrong Dfun type). Run with full_output = 1 to get quantitative information.\n",
      "  warnings.warn(warning_msg, ODEintWarning)\n"
     ]
    },
    {
     "name": "stdout",
     "output_type": "stream",
     "text": [
      "[1.30406876 1.95030417]\n"
     ]
    },
    {
     "name": "stderr",
     "output_type": "stream",
     "text": [
      "C:\\Users\\UserALai\\miniconda3\\lib\\site-packages\\scipy\\integrate\\_odepack_py.py:247: ODEintWarning: Excess work done on this call (perhaps wrong Dfun type). Run with full_output = 1 to get quantitative information.\n",
      "  warnings.warn(warning_msg, ODEintWarning)\n"
     ]
    },
    {
     "name": "stdout",
     "output_type": "stream",
     "text": [
      "[2.06108279 1.81331975]\n"
     ]
    },
    {
     "name": "stderr",
     "output_type": "stream",
     "text": [
      "C:\\Users\\UserALai\\miniconda3\\lib\\site-packages\\scipy\\integrate\\_odepack_py.py:247: ODEintWarning: Excess work done on this call (perhaps wrong Dfun type). Run with full_output = 1 to get quantitative information.\n",
      "  warnings.warn(warning_msg, ODEintWarning)\n"
     ]
    },
    {
     "name": "stdout",
     "output_type": "stream",
     "text": [
      "[1.95428241 3.69742737]\n"
     ]
    },
    {
     "name": "stderr",
     "output_type": "stream",
     "text": [
      "C:\\Users\\UserALai\\miniconda3\\lib\\site-packages\\scipy\\integrate\\_odepack_py.py:247: ODEintWarning: Excess work done on this call (perhaps wrong Dfun type). Run with full_output = 1 to get quantitative information.\n",
      "  warnings.warn(warning_msg, ODEintWarning)\n"
     ]
    },
    {
     "name": "stdout",
     "output_type": "stream",
     "text": [
      "[3.62438987 2.64272581]\n"
     ]
    },
    {
     "name": "stderr",
     "output_type": "stream",
     "text": [
      "C:\\Users\\UserALai\\miniconda3\\lib\\site-packages\\scipy\\integrate\\_odepack_py.py:247: ODEintWarning: Excess work done on this call (perhaps wrong Dfun type). Run with full_output = 1 to get quantitative information.\n",
      "  warnings.warn(warning_msg, ODEintWarning)\n"
     ]
    },
    {
     "name": "stdout",
     "output_type": "stream",
     "text": [
      "[1.23739272 2.27084102]\n"
     ]
    },
    {
     "name": "stderr",
     "output_type": "stream",
     "text": [
      "C:\\Users\\UserALai\\miniconda3\\lib\\site-packages\\scipy\\integrate\\_odepack_py.py:247: ODEintWarning: Excess work done on this call (perhaps wrong Dfun type). Run with full_output = 1 to get quantitative information.\n",
      "  warnings.warn(warning_msg, ODEintWarning)\n"
     ]
    },
    {
     "name": "stdout",
     "output_type": "stream",
     "text": [
      "[0.68504378 0.09415168]\n",
      "[2.14858937 1.13850504]\n"
     ]
    },
    {
     "name": "stderr",
     "output_type": "stream",
     "text": [
      "C:\\Users\\UserALai\\miniconda3\\lib\\site-packages\\scipy\\integrate\\_odepack_py.py:247: ODEintWarning: Excess work done on this call (perhaps wrong Dfun type). Run with full_output = 1 to get quantitative information.\n",
      "  warnings.warn(warning_msg, ODEintWarning)\n"
     ]
    },
    {
     "name": "stdout",
     "output_type": "stream",
     "text": [
      "[3.02416868 2.4618377 ]\n"
     ]
    },
    {
     "name": "stderr",
     "output_type": "stream",
     "text": [
      "C:\\Users\\UserALai\\miniconda3\\lib\\site-packages\\scipy\\integrate\\_odepack_py.py:247: ODEintWarning: Excess work done on this call (perhaps wrong Dfun type). Run with full_output = 1 to get quantitative information.\n",
      "  warnings.warn(warning_msg, ODEintWarning)\n"
     ]
    },
    {
     "name": "stdout",
     "output_type": "stream",
     "text": [
      "[0.13497447 0.96337779]\n",
      "[3.30529246 4.60109906]\n"
     ]
    },
    {
     "name": "stderr",
     "output_type": "stream",
     "text": [
      "C:\\Users\\UserALai\\miniconda3\\lib\\site-packages\\scipy\\integrate\\_odepack_py.py:247: ODEintWarning: Excess work done on this call (perhaps wrong Dfun type). Run with full_output = 1 to get quantitative information.\n",
      "  warnings.warn(warning_msg, ODEintWarning)\n"
     ]
    },
    {
     "name": "stdout",
     "output_type": "stream",
     "text": [
      "[0.78247674 1.06464271]\n",
      "[4.59193883 4.56665017]\n"
     ]
    },
    {
     "name": "stderr",
     "output_type": "stream",
     "text": [
      "C:\\Users\\UserALai\\miniconda3\\lib\\site-packages\\scipy\\integrate\\_odepack_py.py:247: ODEintWarning: Excess work done on this call (perhaps wrong Dfun type). Run with full_output = 1 to get quantitative information.\n",
      "  warnings.warn(warning_msg, ODEintWarning)\n"
     ]
    },
    {
     "name": "stdout",
     "output_type": "stream",
     "text": [
      "[0.98168913 0.42179265]\n"
     ]
    },
    {
     "name": "stderr",
     "output_type": "stream",
     "text": [
      "C:\\Users\\UserALai\\miniconda3\\lib\\site-packages\\scipy\\integrate\\_odepack_py.py:247: ODEintWarning: Excess work done on this call (perhaps wrong Dfun type). Run with full_output = 1 to get quantitative information.\n",
      "  warnings.warn(warning_msg, ODEintWarning)\n"
     ]
    },
    {
     "name": "stdout",
     "output_type": "stream",
     "text": [
      "[2.62938407 3.60267814]\n"
     ]
    },
    {
     "name": "stderr",
     "output_type": "stream",
     "text": [
      "C:\\Users\\UserALai\\miniconda3\\lib\\site-packages\\scipy\\integrate\\_odepack_py.py:247: ODEintWarning: Excess work done on this call (perhaps wrong Dfun type). Run with full_output = 1 to get quantitative information.\n",
      "  warnings.warn(warning_msg, ODEintWarning)\n"
     ]
    },
    {
     "name": "stdout",
     "output_type": "stream",
     "text": [
      "[0.6397077  1.61352554]\n",
      "[1.36425646 0.15345143]\n"
     ]
    },
    {
     "name": "stderr",
     "output_type": "stream",
     "text": [
      "C:\\Users\\UserALai\\miniconda3\\lib\\site-packages\\scipy\\integrate\\_odepack_py.py:247: ODEintWarning: Excess work done on this call (perhaps wrong Dfun type). Run with full_output = 1 to get quantitative information.\n",
      "  warnings.warn(warning_msg, ODEintWarning)\n"
     ]
    },
    {
     "name": "stdout",
     "output_type": "stream",
     "text": [
      "[3.08006486 1.07850664]\n"
     ]
    },
    {
     "name": "stderr",
     "output_type": "stream",
     "text": [
      "C:\\Users\\UserALai\\miniconda3\\lib\\site-packages\\scipy\\integrate\\_odepack_py.py:247: ODEintWarning: Excess work done on this call (perhaps wrong Dfun type). Run with full_output = 1 to get quantitative information.\n",
      "  warnings.warn(warning_msg, ODEintWarning)\n"
     ]
    },
    {
     "name": "stdout",
     "output_type": "stream",
     "text": [
      "[0.67606689 1.27723107]\n",
      "[4.30417165 2.98725445]\n"
     ]
    },
    {
     "name": "stderr",
     "output_type": "stream",
     "text": [
      "C:\\Users\\UserALai\\miniconda3\\lib\\site-packages\\scipy\\integrate\\_odepack_py.py:247: ODEintWarning: Excess work done on this call (perhaps wrong Dfun type). Run with full_output = 1 to get quantitative information.\n",
      "  warnings.warn(warning_msg, ODEintWarning)\n"
     ]
    },
    {
     "name": "stdout",
     "output_type": "stream",
     "text": [
      "[3.16202148 4.59051787]\n"
     ]
    },
    {
     "name": "stderr",
     "output_type": "stream",
     "text": [
      "C:\\Users\\UserALai\\miniconda3\\lib\\site-packages\\scipy\\integrate\\_odepack_py.py:247: ODEintWarning: Excess work done on this call (perhaps wrong Dfun type). Run with full_output = 1 to get quantitative information.\n",
      "  warnings.warn(warning_msg, ODEintWarning)\n"
     ]
    },
    {
     "name": "stdout",
     "output_type": "stream",
     "text": [
      "[2.9953268  1.61409867]\n"
     ]
    },
    {
     "name": "stderr",
     "output_type": "stream",
     "text": [
      "C:\\Users\\UserALai\\miniconda3\\lib\\site-packages\\scipy\\integrate\\_odepack_py.py:247: ODEintWarning: Excess work done on this call (perhaps wrong Dfun type). Run with full_output = 1 to get quantitative information.\n",
      "  warnings.warn(warning_msg, ODEintWarning)\n"
     ]
    },
    {
     "name": "stdout",
     "output_type": "stream",
     "text": [
      "[4.02420051 3.45458634]\n"
     ]
    },
    {
     "name": "stderr",
     "output_type": "stream",
     "text": [
      "C:\\Users\\UserALai\\miniconda3\\lib\\site-packages\\scipy\\integrate\\_odepack_py.py:247: ODEintWarning: Excess work done on this call (perhaps wrong Dfun type). Run with full_output = 1 to get quantitative information.\n",
      "  warnings.warn(warning_msg, ODEintWarning)\n"
     ]
    },
    {
     "name": "stdout",
     "output_type": "stream",
     "text": [
      "[3.21183432 1.42490988]\n"
     ]
    },
    {
     "name": "stderr",
     "output_type": "stream",
     "text": [
      "C:\\Users\\UserALai\\miniconda3\\lib\\site-packages\\scipy\\integrate\\_odepack_py.py:247: ODEintWarning: Excess work done on this call (perhaps wrong Dfun type). Run with full_output = 1 to get quantitative information.\n",
      "  warnings.warn(warning_msg, ODEintWarning)\n"
     ]
    },
    {
     "name": "stdout",
     "output_type": "stream",
     "text": [
      "List for sigma=0.22168421052631576: [0.006955213707520929, 0.09245692292161539, 0.19567288261280327, 0.1318310241574493, 0.17488449289923327, 6.829428457580093, 1.8291053066053333, 0.4122520163228721]\n",
      "0.25321052631578944\n",
      "(u)' = -0.967 1/(1 + u^1) + 0.674 1/(1 + v^1) + -7.742 1/(1 + u^2) + -4.171 1/(1 + v^2) + 10.577 1/(1 + u^3) + 2.211 1/(1 + v^3) + 10.570 1/(1 + u^4) + 8.360 1/(1 + v^4) + -12.787 1/(1 + u^5) + -7.118 1/(1 + v^5)\n",
      "(v)' = -1.439 1/(1 + u^3) + 1.577 1/(1 + v^3) + -1.078 1/(1 + u^4) + 1.069 1/(1 + v^4) + 2.451 1/(1 + u^5) + -2.578 1/(1 + v^5)\n",
      "[2.02509684 3.00322762]\n",
      "[3.76202857 2.18043422]\n",
      "[2.5667126  2.18684537]\n",
      "[0.31497897 3.80047259]\n",
      "[0.75834496 1.36487447]\n",
      "[2.45842811 1.43859345]\n",
      "[1.44206144 0.49745614]\n",
      "[1.30406876 1.95030417]\n",
      "[2.06108279 1.81331975]\n",
      "[1.95428241 3.69742737]\n",
      "[3.62438987 2.64272581]\n",
      "[1.23739272 2.27084102]\n",
      "[0.68504378 0.09415168]\n",
      "[2.14858937 1.13850504]\n",
      "[3.02416868 2.4618377 ]\n",
      "[0.13497447 0.96337779]\n",
      "[3.30529246 4.60109906]\n",
      "[0.78247674 1.06464271]\n",
      "[4.59193883 4.56665017]\n",
      "[0.98168913 0.42179265]\n",
      "[2.62938407 3.60267814]\n",
      "[0.6397077  1.61352554]\n",
      "[1.36425646 0.15345143]\n",
      "[3.08006486 1.07850664]\n",
      "[0.67606689 1.27723107]\n",
      "[4.30417165 2.98725445]\n",
      "[3.16202148 4.59051787]\n",
      "[2.9953268  1.61409867]\n",
      "[4.02420051 3.45458634]\n",
      "[3.21183432 1.42490988]\n",
      "List for sigma=0.25321052631578944: [0.006955213707520929, 0.09245692292161539, 0.19567288261280327, 0.1318310241574493, 0.17488449289923327, 6.829428457580093, 1.8291053066053333, 0.4122520163228721, 2.5592465216964606]\n",
      "0.2847368421052631\n",
      "(u)' = -0.834 u + 1.039 v + -2.506 1/(1 + u^1) + -7.648 1/(1 + v^2) + 5.680 1/(1 + u^3) + 7.319 1/(1 + v^3) + -7.610 1/(1 + u^4) + 13.142 1/(1 + v^4) + 2.993 1/(1 + u^5) + -12.079 1/(1 + v^5)\n",
      "(v)' = -1.609 1/(1 + u^1) + -1.924 1/(1 + v^1) + 0.862 1/(1 + u^2) + -7.342 1/(1 + v^2) + 4.838 1/(1 + u^3) + 3.819 1/(1 + v^3) + -2.295 1/(1 + u^4) + 3.259 1/(1 + v^5)\n",
      "[2.02509684 3.00322762]\n",
      "[3.76202857 2.18043422]\n",
      "[2.5667126  2.18684537]\n",
      "[0.31497897 3.80047259]\n",
      "[0.75834496 1.36487447]\n",
      "[2.45842811 1.43859345]\n",
      "[1.44206144 0.49745614]\n",
      "[1.30406876 1.95030417]\n",
      "[2.06108279 1.81331975]\n",
      "[1.95428241 3.69742737]\n",
      "[3.62438987 2.64272581]\n",
      "[1.23739272 2.27084102]\n",
      "[0.68504378 0.09415168]\n",
      "[2.14858937 1.13850504]\n",
      "[3.02416868 2.4618377 ]\n",
      "[0.13497447 0.96337779]\n",
      "[3.30529246 4.60109906]\n",
      "[0.78247674 1.06464271]\n",
      "[4.59193883 4.56665017]\n",
      "[0.98168913 0.42179265]\n",
      "[2.62938407 3.60267814]\n",
      "[0.6397077  1.61352554]\n",
      "[1.36425646 0.15345143]\n",
      "[3.08006486 1.07850664]\n",
      "[0.67606689 1.27723107]\n",
      "[4.30417165 2.98725445]\n",
      "[3.16202148 4.59051787]\n",
      "[2.9953268  1.61409867]\n",
      "[4.02420051 3.45458634]\n",
      "[3.21183432 1.42490988]\n",
      "List for sigma=0.2847368421052631: [0.006955213707520929, 0.09245692292161539, 0.19567288261280327, 0.1318310241574493, 0.17488449289923327, 6.829428457580093, 1.8291053066053333, 0.4122520163228721, 2.5592465216964606, 0.48098181071843293]\n",
      "0.3162631578947368\n",
      "(u)' = -0.554 1/(1 + u^1) + -7.692 1/(1 + v^2) + 2.716 1/(1 + u^3) + 4.304 1/(1 + v^3) + 9.961 1/(1 + v^4) + -1.766 1/(1 + u^5) + -7.177 1/(1 + v^5)\n",
      "(v)' = 5.062 1/(1 + u^2) + -0.986 1/(1 + v^2) + -3.835 1/(1 + u^3) + -7.266 1/(1 + u^4) + 0.642 1/(1 + v^4) + 6.410 1/(1 + u^5)\n",
      "[2.02509684 3.00322762]\n",
      "[3.76202857 2.18043422]\n",
      "[2.5667126  2.18684537]\n"
     ]
    },
    {
     "name": "stderr",
     "output_type": "stream",
     "text": [
      "C:\\Users\\UserALai\\miniconda3\\lib\\site-packages\\scipy\\integrate\\_odepack_py.py:247: ODEintWarning: Excess work done on this call (perhaps wrong Dfun type). Run with full_output = 1 to get quantitative information.\n",
      "  warnings.warn(warning_msg, ODEintWarning)\n"
     ]
    },
    {
     "name": "stdout",
     "output_type": "stream",
     "text": [
      "[0.31497897 3.80047259]\n",
      "[0.75834496 1.36487447]\n",
      "[2.45842811 1.43859345]\n",
      "[1.44206144 0.49745614]\n",
      "[1.30406876 1.95030417]\n"
     ]
    },
    {
     "name": "stderr",
     "output_type": "stream",
     "text": [
      "C:\\Users\\UserALai\\miniconda3\\lib\\site-packages\\scipy\\integrate\\_odepack_py.py:247: ODEintWarning: Excess work done on this call (perhaps wrong Dfun type). Run with full_output = 1 to get quantitative information.\n",
      "  warnings.warn(warning_msg, ODEintWarning)\n"
     ]
    },
    {
     "name": "stdout",
     "output_type": "stream",
     "text": [
      "[2.06108279 1.81331975]\n"
     ]
    },
    {
     "name": "stderr",
     "output_type": "stream",
     "text": [
      "C:\\Users\\UserALai\\miniconda3\\lib\\site-packages\\scipy\\integrate\\_odepack_py.py:247: ODEintWarning: Excess work done on this call (perhaps wrong Dfun type). Run with full_output = 1 to get quantitative information.\n",
      "  warnings.warn(warning_msg, ODEintWarning)\n"
     ]
    },
    {
     "name": "stdout",
     "output_type": "stream",
     "text": [
      "[1.95428241 3.69742737]\n",
      "[3.62438987 2.64272581]\n",
      "[1.23739272 2.27084102]\n"
     ]
    },
    {
     "name": "stderr",
     "output_type": "stream",
     "text": [
      "C:\\Users\\UserALai\\miniconda3\\lib\\site-packages\\scipy\\integrate\\_odepack_py.py:247: ODEintWarning: Excess work done on this call (perhaps wrong Dfun type). Run with full_output = 1 to get quantitative information.\n",
      "  warnings.warn(warning_msg, ODEintWarning)\n"
     ]
    },
    {
     "name": "stdout",
     "output_type": "stream",
     "text": [
      "[0.68504378 0.09415168]\n",
      "[2.14858937 1.13850504]\n",
      "[3.02416868 2.4618377 ]\n",
      "[0.13497447 0.96337779]\n",
      "[3.30529246 4.60109906]\n",
      "[0.78247674 1.06464271]\n",
      "[4.59193883 4.56665017]\n",
      "[0.98168913 0.42179265]\n",
      "[2.62938407 3.60267814]\n",
      "[0.6397077  1.61352554]\n",
      "[1.36425646 0.15345143]\n",
      "[3.08006486 1.07850664]\n",
      "[0.67606689 1.27723107]\n",
      "[4.30417165 2.98725445]\n",
      "[3.16202148 4.59051787]\n",
      "[2.9953268  1.61409867]\n"
     ]
    },
    {
     "name": "stderr",
     "output_type": "stream",
     "text": [
      "C:\\Users\\UserALai\\miniconda3\\lib\\site-packages\\scipy\\integrate\\_odepack_py.py:247: ODEintWarning: Excess work done on this call (perhaps wrong Dfun type). Run with full_output = 1 to get quantitative information.\n",
      "  warnings.warn(warning_msg, ODEintWarning)\n"
     ]
    },
    {
     "name": "stdout",
     "output_type": "stream",
     "text": [
      "[4.02420051 3.45458634]\n",
      "[3.21183432 1.42490988]\n",
      "List for sigma=0.3162631578947368: [0.006955213707520929, 0.09245692292161539, 0.19567288261280327, 0.1318310241574493, 0.17488449289923327, 6.829428457580093, 1.8291053066053333, 0.4122520163228721, 2.5592465216964606, 0.48098181071843293, 5.136240016817402]\n",
      "0.3477894736842105\n",
      "(u)' = 0.727 v + -2.203 1/(1 + u^1) + 6.123 1/(1 + v^1) + -13.816 1/(1 + u^2) + 4.038 1/(1 + v^2) + 14.129 1/(1 + u^3) + -27.763 1/(1 + v^3) + 12.848 1/(1 + u^4) + 2.214 1/(1 + v^4) + -12.531 1/(1 + u^5) + 15.631 1/(1 + v^5)\n",
      "(v)' = -1.028 1/(1 + u^1) + -2.848 1/(1 + v^1) + 2.122 1/(1 + u^2) + -9.939 1/(1 + v^2) + 3.083 1/(1 + u^3) + 14.092 1/(1 + v^3) + -2.445 1/(1 + u^4) + 5.900 1/(1 + v^4) + -9.202 1/(1 + v^5)\n",
      "[2.02509684 3.00322762]\n",
      "[3.76202857 2.18043422]\n",
      "[2.5667126  2.18684537]\n",
      "[0.31497897 3.80047259]\n",
      "[0.75834496 1.36487447]\n",
      "[2.45842811 1.43859345]\n",
      "[1.44206144 0.49745614]\n",
      "[1.30406876 1.95030417]\n",
      "[2.06108279 1.81331975]\n",
      "[1.95428241 3.69742737]\n",
      "[3.62438987 2.64272581]\n",
      "[1.23739272 2.27084102]\n",
      "[0.68504378 0.09415168]\n",
      "[2.14858937 1.13850504]\n",
      "[3.02416868 2.4618377 ]\n",
      "[0.13497447 0.96337779]\n",
      "[3.30529246 4.60109906]\n",
      "[0.78247674 1.06464271]\n",
      "[4.59193883 4.56665017]\n",
      "[0.98168913 0.42179265]\n",
      "[2.62938407 3.60267814]\n",
      "[0.6397077  1.61352554]\n",
      "[1.36425646 0.15345143]\n",
      "[3.08006486 1.07850664]\n",
      "[0.67606689 1.27723107]\n",
      "[4.30417165 2.98725445]\n",
      "[3.16202148 4.59051787]\n",
      "[2.9953268  1.61409867]\n",
      "[4.02420051 3.45458634]\n",
      "[3.21183432 1.42490988]\n",
      "List for sigma=0.3477894736842105: [0.006955213707520929, 0.09245692292161539, 0.19567288261280327, 0.1318310241574493, 0.17488449289923327, 6.829428457580093, 1.8291053066053333, 0.4122520163228721, 2.5592465216964606, 0.48098181071843293, 5.136240016817402, 2.603137111025691]\n",
      "0.37931578947368416\n",
      "(u)' = -0.648 1/(1 + u^1) + 2.902 1/(1 + v^1) + -9.503 1/(1 + u^2) + 3.088 1/(1 + v^2) + 11.437 1/(1 + u^3) + -13.262 1/(1 + v^3) + 13.804 1/(1 + u^4) + -15.842 1/(1 + u^5) + 7.586 1/(1 + v^5)\n",
      "(v)' = 1.636 1/(1 + v^1) + -5.569 1/(1 + u^2) + 7.692 1/(1 + v^2) + -9.347 1/(1 + v^3) + 4.065 1/(1 + u^4) + -5.821 1/(1 + v^4) + 7.405 1/(1 + v^5)\n",
      "[2.02509684 3.00322762]\n",
      "[3.76202857 2.18043422]\n",
      "[2.5667126  2.18684537]\n",
      "[0.31497897 3.80047259]\n",
      "[0.75834496 1.36487447]\n",
      "[2.45842811 1.43859345]\n",
      "[1.44206144 0.49745614]\n",
      "[1.30406876 1.95030417]\n",
      "[2.06108279 1.81331975]\n",
      "[1.95428241 3.69742737]\n",
      "[3.62438987 2.64272581]\n",
      "[1.23739272 2.27084102]\n",
      "[0.68504378 0.09415168]\n",
      "[2.14858937 1.13850504]\n",
      "[3.02416868 2.4618377 ]\n",
      "[0.13497447 0.96337779]\n",
      "[3.30529246 4.60109906]\n",
      "[0.78247674 1.06464271]\n",
      "[4.59193883 4.56665017]\n",
      "[0.98168913 0.42179265]\n",
      "[2.62938407 3.60267814]\n",
      "[0.6397077  1.61352554]\n",
      "[1.36425646 0.15345143]\n",
      "[3.08006486 1.07850664]\n",
      "[0.67606689 1.27723107]\n",
      "[4.30417165 2.98725445]\n",
      "[3.16202148 4.59051787]\n",
      "[2.9953268  1.61409867]\n",
      "[4.02420051 3.45458634]\n",
      "[3.21183432 1.42490988]\n",
      "List for sigma=0.37931578947368416: [0.006955213707520929, 0.09245692292161539, 0.19567288261280327, 0.1318310241574493, 0.17488449289923327, 6.829428457580093, 1.8291053066053333, 0.4122520163228721, 2.5592465216964606, 0.48098181071843293, 5.136240016817402, 2.603137111025691, 5.820872519435047]\n",
      "0.41084210526315784\n",
      "(u)' = 2.830 1/(1 + u^1) + -2.659 1/(1 + v^1) + -1.386 1/(1 + u^2) + -12.961 1/(1 + v^2) + -2.251 1/(1 + u^3) + 19.293 1/(1 + v^3) + 12.757 1/(1 + u^4) + 12.835 1/(1 + v^4) + -10.409 1/(1 + u^5) + -18.865 1/(1 + v^5)\n",
      "(v)' = -4.378 1/(1 + u^1) + 2.885 1/(1 + v^1) + -11.752 1/(1 + u^2) + 3.777 1/(1 + v^2) + 27.417 1/(1 + u^3) + -8.646 1/(1 + v^3) + 11.726 1/(1 + u^4) + 2.334 1/(1 + v^4) + -23.782 1/(1 + u^5)\n",
      "[2.02509684 3.00322762]\n",
      "[3.76202857 2.18043422]\n",
      "[2.5667126  2.18684537]\n",
      "[0.31497897 3.80047259]\n",
      "[0.75834496 1.36487447]\n",
      "[2.45842811 1.43859345]\n",
      "[1.44206144 0.49745614]\n",
      "[1.30406876 1.95030417]\n",
      "[2.06108279 1.81331975]\n",
      "[1.95428241 3.69742737]\n",
      "[3.62438987 2.64272581]\n",
      "[1.23739272 2.27084102]\n",
      "[0.68504378 0.09415168]\n",
      "[2.14858937 1.13850504]\n",
      "[3.02416868 2.4618377 ]\n",
      "[0.13497447 0.96337779]\n",
      "[3.30529246 4.60109906]\n",
      "[0.78247674 1.06464271]\n",
      "[4.59193883 4.56665017]\n",
      "[0.98168913 0.42179265]\n",
      "[2.62938407 3.60267814]\n",
      "[0.6397077  1.61352554]\n",
      "[1.36425646 0.15345143]\n",
      "[3.08006486 1.07850664]\n",
      "[0.67606689 1.27723107]\n",
      "[4.30417165 2.98725445]\n",
      "[3.16202148 4.59051787]\n",
      "[2.9953268  1.61409867]\n",
      "[4.02420051 3.45458634]\n",
      "[3.21183432 1.42490988]\n",
      "List for sigma=0.41084210526315784: [0.006955213707520929, 0.09245692292161539, 0.19567288261280327, 0.1318310241574493, 0.17488449289923327, 6.829428457580093, 1.8291053066053333, 0.4122520163228721, 2.5592465216964606, 0.48098181071843293, 5.136240016817402, 2.603137111025691, 5.820872519435047, 6.042241241137343]\n",
      "0.4423684210526315\n",
      "(u)' = -0.518 u + -2.458 1/(1 + u^1) + -3.077 1/(1 + v^1) + 5.559 1/(1 + u^2) + 4.510 1/(1 + v^2) + 12.100 1/(1 + u^3) + 13.252 1/(1 + v^3) + -7.273 1/(1 + u^4) + -7.590 1/(1 + v^4) + -7.844 1/(1 + u^5) + -6.634 1/(1 + v^5)\n",
      "(v)' = 0.539 1/(1 + v^1) + 2.960 1/(1 + u^2) + -1.752 1/(1 + v^2) + -5.338 1/(1 + u^3) + -5.598 1/(1 + u^4) + 2.853 1/(1 + v^4) + 8.915 1/(1 + u^5) + -2.641 1/(1 + v^5)\n",
      "[2.02509684 3.00322762]\n",
      "[3.76202857 2.18043422]\n",
      "[2.5667126  2.18684537]\n",
      "[0.31497897 3.80047259]\n",
      "[0.75834496 1.36487447]\n",
      "[2.45842811 1.43859345]\n",
      "[1.44206144 0.49745614]\n",
      "[1.30406876 1.95030417]\n",
      "[2.06108279 1.81331975]\n",
      "[1.95428241 3.69742737]\n",
      "[3.62438987 2.64272581]\n",
      "[1.23739272 2.27084102]\n",
      "[0.68504378 0.09415168]\n",
      "[2.14858937 1.13850504]\n",
      "[3.02416868 2.4618377 ]\n",
      "[0.13497447 0.96337779]\n",
      "[3.30529246 4.60109906]\n",
      "[0.78247674 1.06464271]\n",
      "[4.59193883 4.56665017]\n",
      "[0.98168913 0.42179265]\n",
      "[2.62938407 3.60267814]\n",
      "[0.6397077  1.61352554]\n",
      "[1.36425646 0.15345143]\n",
      "[3.08006486 1.07850664]\n",
      "[0.67606689 1.27723107]\n",
      "[4.30417165 2.98725445]\n",
      "[3.16202148 4.59051787]\n",
      "[2.9953268  1.61409867]\n",
      "[4.02420051 3.45458634]\n",
      "[3.21183432 1.42490988]\n",
      "List for sigma=0.4423684210526315: [0.006955213707520929, 0.09245692292161539, 0.19567288261280327, 0.1318310241574493, 0.17488449289923327, 6.829428457580093, 1.8291053066053333, 0.4122520163228721, 2.5592465216964606, 0.48098181071843293, 5.136240016817402, 2.603137111025691, 5.820872519435047, 6.042241241137343, 8.604986567941536]\n",
      "0.4738947368421052\n",
      "(u)' = -0.663 v + 1.010 1/(1 + u^1) + 8.224 1/(1 + u^2) + 3.643 1/(1 + v^2) + -12.292 1/(1 + u^3) + -4.604 1/(1 + v^3) + -11.516 1/(1 + u^4) + -6.717 1/(1 + v^4) + 15.470 1/(1 + u^5) + 7.674 1/(1 + v^5)\n",
      "(v)' = 0.543 u + -0.532 1/(1 + v^1) + -1.004 1/(1 + u^2) + -5.823 1/(1 + v^2) + -1.624 1/(1 + u^3) + 8.022 1/(1 + v^3) + -0.799 1/(1 + u^4) + 9.126 1/(1 + v^4) + 2.729 1/(1 + u^5) + -10.711 1/(1 + v^5)\n",
      "[2.02509684 3.00322762]\n",
      "[3.76202857 2.18043422]\n",
      "[2.5667126  2.18684537]\n",
      "[0.31497897 3.80047259]\n",
      "[0.75834496 1.36487447]\n",
      "[2.45842811 1.43859345]\n",
      "[1.44206144 0.49745614]\n",
      "[1.30406876 1.95030417]\n",
      "[2.06108279 1.81331975]\n",
      "[1.95428241 3.69742737]\n",
      "[3.62438987 2.64272581]\n",
      "[1.23739272 2.27084102]\n",
      "[0.68504378 0.09415168]\n",
      "[2.14858937 1.13850504]\n",
      "[3.02416868 2.4618377 ]\n",
      "[0.13497447 0.96337779]\n",
      "[3.30529246 4.60109906]\n",
      "[0.78247674 1.06464271]\n",
      "[4.59193883 4.56665017]\n",
      "[0.98168913 0.42179265]\n",
      "[2.62938407 3.60267814]\n",
      "[0.6397077  1.61352554]\n",
      "[1.36425646 0.15345143]\n",
      "[3.08006486 1.07850664]\n",
      "[0.67606689 1.27723107]\n",
      "[4.30417165 2.98725445]\n",
      "[3.16202148 4.59051787]\n",
      "[2.9953268  1.61409867]\n",
      "[4.02420051 3.45458634]\n",
      "[3.21183432 1.42490988]\n",
      "List for sigma=0.4738947368421052: [0.006955213707520929, 0.09245692292161539, 0.19567288261280327, 0.1318310241574493, 0.17488449289923327, 6.829428457580093, 1.8291053066053333, 0.4122520163228721, 2.5592465216964606, 0.48098181071843293, 5.136240016817402, 2.603137111025691, 5.820872519435047, 6.042241241137343, 8.604986567941536, 54919.81835851455]\n",
      "0.5054210526315789\n",
      "(u)' = 3.162 1/(1 + u^1) + -1.214 1/(1 + v^1) + 11.856 1/(1 + u^2) + -6.240 1/(1 + v^2) + -17.758 1/(1 + u^3) + 9.076 1/(1 + v^3) + -8.983 1/(1 + u^4) + 5.001 1/(1 + v^4) + 13.767 1/(1 + u^5) + -9.040 1/(1 + v^5)\n",
      "(v)' = -2.029 1/(1 + u^1) + -2.050 1/(1 + v^1) + -10.773 1/(1 + u^2) + -7.124 1/(1 + v^2) + 11.912 1/(1 + u^3) + 19.223 1/(1 + v^3) + 10.196 1/(1 + u^4) + 11.835 1/(1 + v^4) + -9.692 1/(1 + u^5) + -21.753 1/(1 + v^5)\n",
      "[2.02509684 3.00322762]\n",
      "[3.76202857 2.18043422]\n",
      "[2.5667126  2.18684537]\n",
      "[0.31497897 3.80047259]\n",
      "[0.75834496 1.36487447]\n",
      "[2.45842811 1.43859345]\n",
      "[1.44206144 0.49745614]\n",
      "[1.30406876 1.95030417]\n"
     ]
    },
    {
     "name": "stdout",
     "output_type": "stream",
     "text": [
      "[2.06108279 1.81331975]\n",
      "[1.95428241 3.69742737]\n",
      "[3.62438987 2.64272581]\n",
      "[1.23739272 2.27084102]\n",
      "[0.68504378 0.09415168]\n",
      "[2.14858937 1.13850504]\n",
      "[3.02416868 2.4618377 ]\n",
      "[0.13497447 0.96337779]\n",
      "[3.30529246 4.60109906]\n",
      "[0.78247674 1.06464271]\n",
      "[4.59193883 4.56665017]\n",
      "[0.98168913 0.42179265]\n",
      "[2.62938407 3.60267814]\n",
      "[0.6397077  1.61352554]\n",
      "[1.36425646 0.15345143]\n",
      "[3.08006486 1.07850664]\n",
      "[0.67606689 1.27723107]\n",
      "[4.30417165 2.98725445]\n",
      "[3.16202148 4.59051787]\n",
      "[2.9953268  1.61409867]\n",
      "[4.02420051 3.45458634]\n",
      "[3.21183432 1.42490988]\n",
      "List for sigma=0.5054210526315789: [0.006955213707520929, 0.09245692292161539, 0.19567288261280327, 0.1318310241574493, 0.17488449289923327, 6.829428457580093, 1.8291053066053333, 0.4122520163228721, 2.5592465216964606, 0.48098181071843293, 5.136240016817402, 2.603137111025691, 5.820872519435047, 6.042241241137343, 8.604986567941536, 54919.81835851455, 7.752806192075716]\n",
      "0.5369473684210525\n",
      "(u)' = -1.333 1/(1 + u^1) + 1.173 1/(1 + v^1) + -7.122 1/(1 + u^2) + 5.296 1/(1 + v^2) + 8.911 1/(1 + u^3) + -14.744 1/(1 + v^3) + 6.840 1/(1 + u^4) + -9.290 1/(1 + v^4) + -8.182 1/(1 + u^5) + 18.670 1/(1 + v^5)\n",
      "(v)' = 0.697 u + -1.350 1/(1 + v^1) + 1.944 1/(1 + u^2) + -9.186 1/(1 + v^2) + -9.195 1/(1 + u^3) + 5.520 1/(1 + v^3) + -7.743 1/(1 + u^4) + 6.578 1/(1 + v^4) + 15.344 1/(1 + u^5) + -2.501 1/(1 + v^5)\n",
      "[2.02509684 3.00322762]\n",
      "[3.76202857 2.18043422]\n",
      "[2.5667126  2.18684537]\n",
      "[0.31497897 3.80047259]\n",
      "[0.75834496 1.36487447]\n",
      "[2.45842811 1.43859345]\n",
      "[1.44206144 0.49745614]\n",
      "[1.30406876 1.95030417]\n",
      "[2.06108279 1.81331975]\n",
      "[1.95428241 3.69742737]\n",
      "[3.62438987 2.64272581]\n",
      "[1.23739272 2.27084102]\n",
      "[0.68504378 0.09415168]\n",
      "[2.14858937 1.13850504]\n",
      "[3.02416868 2.4618377 ]\n",
      "[0.13497447 0.96337779]\n",
      "[3.30529246 4.60109906]\n",
      "[0.78247674 1.06464271]\n",
      "[4.59193883 4.56665017]\n",
      "[0.98168913 0.42179265]\n",
      "[2.62938407 3.60267814]\n",
      "[0.6397077  1.61352554]\n",
      "[1.36425646 0.15345143]\n",
      "[3.08006486 1.07850664]\n",
      "[0.67606689 1.27723107]\n",
      "[4.30417165 2.98725445]\n",
      "[3.16202148 4.59051787]\n",
      "[2.9953268  1.61409867]\n",
      "[4.02420051 3.45458634]\n",
      "[3.21183432 1.42490988]\n",
      "List for sigma=0.5369473684210525: [0.006955213707520929, 0.09245692292161539, 0.19567288261280327, 0.1318310241574493, 0.17488449289923327, 6.829428457580093, 1.8291053066053333, 0.4122520163228721, 2.5592465216964606, 0.48098181071843293, 5.136240016817402, 2.603137111025691, 5.820872519435047, 6.042241241137343, 8.604986567941536, 54919.81835851455, 7.752806192075716, 19.528181061843956]\n",
      "0.5684736842105262\n",
      "(u)' = -2.655 1/(1 + u^1) + 0.930 1/(1 + v^1) + -4.738 1/(1 + v^2) + 13.228 1/(1 + u^3) + 1.137 1/(1 + v^3) + -1.663 1/(1 + u^4) + 8.852 1/(1 + v^4) + -8.771 1/(1 + u^5) + -6.553 1/(1 + v^5)\n",
      "(v)' = 2.432 1/(1 + u^1) + -1.072 1/(1 + v^1) + 3.290 1/(1 + u^2) + -6.426 1/(1 + v^2) + -10.457 1/(1 + u^3) + 1.522 1/(1 + v^3) + 1.232 1/(1 + u^4) + 1.619 1/(1 + v^4) + 5.266 1/(1 + u^5) + 2.832 1/(1 + v^5)\n",
      "[2.02509684 3.00322762]\n",
      "[3.76202857 2.18043422]\n",
      "[2.5667126  2.18684537]\n",
      "[0.31497897 3.80047259]\n",
      "[0.75834496 1.36487447]\n",
      "[2.45842811 1.43859345]\n",
      "[1.44206144 0.49745614]\n",
      "[1.30406876 1.95030417]\n",
      "[2.06108279 1.81331975]\n",
      "[1.95428241 3.69742737]\n",
      "[3.62438987 2.64272581]\n",
      "[1.23739272 2.27084102]\n",
      "[0.68504378 0.09415168]\n",
      "[2.14858937 1.13850504]\n",
      "[3.02416868 2.4618377 ]\n",
      "[0.13497447 0.96337779]\n",
      "[3.30529246 4.60109906]\n",
      "[0.78247674 1.06464271]\n",
      "[4.59193883 4.56665017]\n",
      "[0.98168913 0.42179265]\n",
      "[2.62938407 3.60267814]\n",
      "[0.6397077  1.61352554]\n",
      "[1.36425646 0.15345143]\n",
      "[3.08006486 1.07850664]\n",
      "[0.67606689 1.27723107]\n",
      "[4.30417165 2.98725445]\n",
      "[3.16202148 4.59051787]\n",
      "[2.9953268  1.61409867]\n",
      "[4.02420051 3.45458634]\n",
      "[3.21183432 1.42490988]\n",
      "List for sigma=0.5684736842105262: [0.006955213707520929, 0.09245692292161539, 0.19567288261280327, 0.1318310241574493, 0.17488449289923327, 6.829428457580093, 1.8291053066053333, 0.4122520163228721, 2.5592465216964606, 0.48098181071843293, 5.136240016817402, 2.603137111025691, 5.820872519435047, 6.042241241137343, 8.604986567941536, 54919.81835851455, 7.752806192075716, 19.528181061843956, 6.505633699756212]\n",
      "0.6\n",
      "(u)' = 4.201 1/(1 + u^1) + -1.025 1/(1 + v^1) + -3.819 1/(1 + u^2) + 5.148 1/(1 + v^2) + -23.573 1/(1 + u^3) + 1.067 1/(1 + v^3) + 3.554 1/(1 + u^4) + -6.892 1/(1 + v^4) + 18.264 1/(1 + u^5) + 3.350 1/(1 + v^5)\n",
      "(v)' = -1.705 1/(1 + u^1) + 3.919 1/(1 + v^1) + 6.003 1/(1 + u^2) + -1.394 1/(1 + v^2) + 7.513 1/(1 + u^3) + -21.470 1/(1 + v^3) + -6.681 1/(1 + u^4) + 1.645 1/(1 + v^4) + -3.999 1/(1 + u^5) + 16.190 1/(1 + v^5)\n",
      "[2.02509684 3.00322762]\n",
      "[3.76202857 2.18043422]\n",
      "[2.5667126  2.18684537]\n",
      "[0.31497897 3.80047259]\n",
      "[0.75834496 1.36487447]\n",
      "[2.45842811 1.43859345]\n",
      "[1.44206144 0.49745614]\n",
      "[1.30406876 1.95030417]\n",
      "[2.06108279 1.81331975]\n",
      "[1.95428241 3.69742737]\n",
      "[3.62438987 2.64272581]\n",
      "[1.23739272 2.27084102]\n",
      "[0.68504378 0.09415168]\n",
      "[2.14858937 1.13850504]\n",
      "[3.02416868 2.4618377 ]\n",
      "[0.13497447 0.96337779]\n",
      "[3.30529246 4.60109906]\n",
      "[0.78247674 1.06464271]\n",
      "[4.59193883 4.56665017]\n",
      "[0.98168913 0.42179265]\n",
      "[2.62938407 3.60267814]\n",
      "[0.6397077  1.61352554]\n",
      "[1.36425646 0.15345143]\n",
      "[3.08006486 1.07850664]\n",
      "[0.67606689 1.27723107]\n",
      "[4.30417165 2.98725445]\n",
      "[3.16202148 4.59051787]\n",
      "[2.9953268  1.61409867]\n",
      "[4.02420051 3.45458634]\n",
      "[3.21183432 1.42490988]\n",
      "List for sigma=0.6: [0.006955213707520929, 0.09245692292161539, 0.19567288261280327, 0.1318310241574493, 0.17488449289923327, 6.829428457580093, 1.8291053066053333, 0.4122520163228721, 2.5592465216964606, 0.48098181071843293, 5.136240016817402, 2.603137111025691, 5.820872519435047, 6.042241241137343, 8.604986567941536, 54919.81835851455, 7.752806192075716, 19.528181061843956, 6.505633699756212, 39.780524145257104]\n",
      "[0.001      0.03252632 0.06405263 0.09557895 0.12710526 0.15863158\n",
      " 0.19015789 0.22168421 0.25321053 0.28473684 0.31626316 0.34778947\n",
      " 0.37931579 0.41084211 0.44236842 0.47389474 0.50542105 0.53694737\n",
      " 0.56847368 0.6       ]\n",
      "[0.006955213707520929, 0.09245692292161539, 0.19567288261280327, 0.1318310241574493, 0.17488449289923327, 6.829428457580093, 1.8291053066053333, 0.4122520163228721, 2.5592465216964606, 0.48098181071843293, 5.136240016817402, 2.603137111025691, 5.820872519435047, 6.042241241137343, 8.604986567941536, 54919.81835851455, 7.752806192075716, 19.528181061843956, 6.505633699756212, 39.780524145257104]\n"
     ]
    },
    {
     "data": {
      "text/plain": [
       "Text(0.5, 0.98, 'Mean Squared Error vs. Standard Deviation in Gaussian Noise')"
      ]
     },
     "execution_count": 26,
     "metadata": {},
     "output_type": "execute_result"
    },
    {
     "data": {
      "image/png": "[encoded data removed]",
      "text/plain": [
       "<Figure size 432x288 with 1 Axes>"
      ]
     },
     "metadata": {
      "needs_background": "light"
     },
     "output_type": "display_data"
    }
   ],
   "source": [
    "# troubleshoot/debug\n",
    "# train models\n",
    "MSE_list = []\n",
    "for j in range(len(sigma_list)):\n",
    "    sigma = np.zeros((feature_count, feature_count))\n",
    "    sigmaVal = sigma_list[j]\n",
    "    np.fill_diagonal(sigma, sigmaVal)\n",
    "    print(sigmaVal)\n",
    "    #noise = np.random.multivariate_normal(mu, sigma**2, (n_of_ic, len(tvals)))\n",
    "    noise = cn.powerlaw_psd_gaussian(beta, (n_of_ic, len(tvals), feature_count)) * (sigmaVal + 0.03)\n",
    "    model = ps.SINDy(feature_names=['u', 'v'], optimizer=sparse_regression_optimizer, feature_library=netswitch_library)\n",
    "    model.fit(list(netswitch_train_multi + noise), t=dt, multiple_trajectories=True)\n",
    "    model.print()\n",
    "    simulations = []\n",
    "    # create simulations list to hold simulated data for corresponding IC\n",
    "    for k in range(n_of_ic):\n",
    "        # problem area with warnings\n",
    "        print(netswitch_x0s[k])\n",
    "        netswitch_sim = model.simulate(netswitch_x0s[k], t=tvals, integrator=\"odeint\", integrator_kws=integrator_keywords)\n",
    "        simulations.append(netswitch_sim) \n",
    "    MSE = np.square(np.subtract(netswitch_train_multi, simulations)).sum() / (len(tvals) * feature_count * n_of_ic)\n",
    "    MSE_list.append(MSE)\n",
    "    print(f\"List for sigma={sigmaVal}: {MSE_list}\")\n",
    "print(sigma_list)\n",
    "print(MSE_list)\n",
    "axs.plot(sigma_list, MSE_list)\n",
    "axs.set(xlabel=\"$\\sigma$\", ylabel=\"MSE\")\n",
    "plt.grid(True)\n",
    "plt.xlabel(\"$\\sigma$\", fontsize=24)\n",
    "plt.ylabel(\"MSE\", fontsize=24)\n",
    "fig.suptitle('Mean Squared Error vs. Standard Deviation in Gaussian Noise', fontsize=28)\n",
    "#plt.yscale('log')"
   ]
  },
  {
   "cell_type": "code",
   "execution_count": 29,
   "id": "4a8ed0f9",
   "metadata": {},
   "outputs": [
    {
     "data": {
      "image/png": "[encoded data removed]",
      "text/plain": [
       "<Figure size 720x576 with 1 Axes>"
      ]
     },
     "metadata": {
      "needs_background": "light"
     },
     "output_type": "display_data"
    }
   ],
   "source": [
    "fig, axs = plt.subplots(figsize=(10,8))\n",
    "axs.plot(sigma_list, MSE_list)\n",
    "axs.set(xlabel=\"$\\sigma$\", ylabel=\"MSE\")\n",
    "plt.grid(True)\n",
    "plt.xlabel(\"$\\sigma$\", fontsize=24)\n",
    "plt.ylabel(\"MSE\", fontsize=24)\n",
    "fig.suptitle('Mean Squared Error vs. Standard Deviation in Gaussian Noise', fontsize=28)\n",
    "plt.yscale('log')"
   ]
  },
  {
   "cell_type": "code",
   "execution_count": 6,
   "id": "99c42c13",
   "metadata": {},
   "outputs": [
    {
     "name": "stdout",
     "output_type": "stream",
     "text": [
      "0.001\n",
      "(u)' = -1.072 u + 7.001 1/(1 + u^1) + -3.777 1/(1 + v^1) + -8.236 1/(1 + u^2) + 13.636 1/(1 + v^2) + -17.845 1/(1 + v^3) + 2.738 1/(1 + u^4) + 7.562 1/(1 + v^4) + 0.133 1/(1 + v^5)\n",
      "(v)' = -1.026 v + -7.046 1/(1 + u^1) + 41.285 1/(1 + u^2) + -8.947 1/(1 + v^2) + -88.352 1/(1 + u^3) + 37.776 1/(1 + v^3) + 85.457 1/(1 + u^4) + -49.521 1/(1 + v^4) + -30.327 1/(1 + u^5) + 20.735 1/(1 + v^5)\n",
      "0.06755555555555555\n",
      "(u)' = -0.813 u + 5.615 1/(1 + u^1) + -2.469 1/(1 + v^1) + -30.482 1/(1 + u^2) + 13.259 1/(1 + v^2) + 65.847 1/(1 + u^3) + -7.969 1/(1 + v^3) + -71.226 1/(1 + u^4) + -15.397 1/(1 + v^4) + 30.278 1/(1 + u^5) + 13.008 1/(1 + v^5)\n",
      "(v)' = -1.081 v + 0.609 1/(1 + u^1) + 4.167 1/(1 + v^1) + 4.745 1/(1 + u^2) + -5.514 1/(1 + v^2) + -6.820 1/(1 + u^3) + -13.397 1/(1 + v^3) + -0.162 1/(1 + u^4) + 31.194 1/(1 + v^4) + 3.319 1/(1 + u^5) + -16.818 1/(1 + v^5)\n",
      "0.1341111111111111\n",
      "(u)' = -1.369 u + 0.894 v + 3.030 1/(1 + v^1) + -7.303 1/(1 + u^2) + 4.579 1/(1 + u^3) + -8.582 1/(1 + v^3) + 5.628 1/(1 + u^4) + 14.717 1/(1 + v^4) + -5.449 1/(1 + u^5) + -6.270 1/(1 + v^5)\n",
      "(v)' = -0.679 v + 6.947 1/(1 + u^2) + 3.481 1/(1 + v^2) + -6.376 1/(1 + u^3) + -1.943 1/(1 + v^3) + -9.603 1/(1 + u^4) + -3.956 1/(1 + v^4) + 9.848 1/(1 + u^5) + 2.551 1/(1 + v^5)\n",
      "0.20066666666666666\n",
      "(u)' = -2.012 u + 1.620 v + -2.025 1/(1 + u^1) + 1.784 1/(1 + v^1) + -2.842 1/(1 + v^2) + 2.750 1/(1 + u^3) + 2.055 1/(1 + v^3) + -9.989 1/(1 + u^4) + 15.632 1/(1 + v^4) + 5.591 1/(1 + u^5) + -12.750 1/(1 + v^5)\n",
      "(v)' = 1.317 1/(1 + u^1) + -1.706 1/(1 + v^1) + -0.752 1/(1 + u^2) + -5.243 1/(1 + u^3) + 5.671 1/(1 + v^3) + 2.406 1/(1 + u^4) + -4.092 1/(1 + v^4) + 2.190 1/(1 + u^5)\n",
      "0.2672222222222222\n",
      "(u)' = -0.891 u + 0.841 v + -2.895 1/(1 + u^1) + 2.637 1/(1 + v^1) + -3.319 1/(1 + u^2) + -1.096 1/(1 + v^2) + 7.862 1/(1 + u^3) + -6.545 1/(1 + v^3) + -4.951 1/(1 + u^4) + 8.976 1/(1 + v^4) + 1.397 1/(1 + u^5) + -2.419 1/(1 + v^5)\n",
      "(v)' = -3.595 1/(1 + v^1) + -4.439 1/(1 + u^2) + 2.082 1/(1 + v^2) + 2.439 1/(1 + u^3) + 9.672 1/(1 + v^3) + 5.650 1/(1 + u^4) + -9.894 1/(1 + v^4) + -4.025 1/(1 + u^5) + 1.924 1/(1 + v^5)\n",
      "0.33377777777777773\n",
      "(u)' = -0.917 v + 1.524 1/(1 + u^1) + -0.616 1/(1 + u^2) + -1.074 1/(1 + u^3) + 3.624 1/(1 + v^3) + 6.962 1/(1 + u^4) + 2.237 1/(1 + v^4) + -5.880 1/(1 + u^5) + -6.012 1/(1 + v^5)\n",
      "(v)' = 0.984 1/(1 + u^1) + -1.258 1/(1 + v^1) + 8.292 1/(1 + u^2) + -11.254 1/(1 + v^2) + -8.191 1/(1 + u^3) + 14.971 1/(1 + v^3) + -9.210 1/(1 + u^4) + 15.385 1/(1 + v^4) + 8.773 1/(1 + u^5) + -18.634 1/(1 + v^5)\n"
     ]
    },
    {
     "name": "stderr",
     "output_type": "stream",
     "text": [
      "C:\\Users\\UserALai\\miniconda3\\lib\\site-packages\\scipy\\integrate\\_odepack_py.py:247: ODEintWarning: Excess work done on this call (perhaps wrong Dfun type). Run with full_output = 1 to get quantitative information.\n",
      "  warnings.warn(warning_msg, ODEintWarning)\n",
      "C:\\Users\\UserALai\\miniconda3\\lib\\site-packages\\scipy\\integrate\\_odepack_py.py:247: ODEintWarning: Excess work done on this call (perhaps wrong Dfun type). Run with full_output = 1 to get quantitative information.\n",
      "  warnings.warn(warning_msg, ODEintWarning)\n",
      "C:\\Users\\UserALai\\miniconda3\\lib\\site-packages\\scipy\\integrate\\_odepack_py.py:247: ODEintWarning: Excess work done on this call (perhaps wrong Dfun type). Run with full_output = 1 to get quantitative information.\n",
      "  warnings.warn(warning_msg, ODEintWarning)\n",
      "C:\\Users\\UserALai\\miniconda3\\lib\\site-packages\\scipy\\integrate\\_odepack_py.py:247: ODEintWarning: Excess work done on this call (perhaps wrong Dfun type). Run with full_output = 1 to get quantitative information.\n",
      "  warnings.warn(warning_msg, ODEintWarning)\n",
      "C:\\Users\\UserALai\\miniconda3\\lib\\site-packages\\scipy\\integrate\\_odepack_py.py:247: ODEintWarning: Excess work done on this call (perhaps wrong Dfun type). Run with full_output = 1 to get quantitative information.\n",
      "  warnings.warn(warning_msg, ODEintWarning)\n"
     ]
    },
    {
     "name": "stdout",
     "output_type": "stream",
     "text": [
      "0.4003333333333333\n",
      "(u)' = 0.947 v + -5.166 1/(1 + u^1) + -2.085 1/(1 + v^1) + -18.512 1/(1 + u^2) + -12.478 1/(1 + v^2) + 36.144 1/(1 + u^3) + 14.365 1/(1 + v^3) + 21.129 1/(1 + u^4) + 12.561 1/(1 + v^4) + -34.393 1/(1 + u^5) + -13.531 1/(1 + v^5)\n",
      "(v)' = -0.737 u + -0.821 1/(1 + v^1) + -3.166 1/(1 + u^2) + 5.653 1/(1 + v^2) + 2.933 1/(1 + u^3) + 4.905 1/(1 + u^4) + -8.086 1/(1 + v^4) + -4.879 1/(1 + u^5) + 4.085 1/(1 + v^5)\n"
     ]
    },
    {
     "name": "stderr",
     "output_type": "stream",
     "text": [
      "C:\\Users\\UserALai\\miniconda3\\lib\\site-packages\\scipy\\integrate\\_odepack_py.py:247: ODEintWarning: Excess work done on this call (perhaps wrong Dfun type). Run with full_output = 1 to get quantitative information.\n",
      "  warnings.warn(warning_msg, ODEintWarning)\n",
      "C:\\Users\\UserALai\\miniconda3\\lib\\site-packages\\scipy\\integrate\\_odepack_py.py:247: ODEintWarning: Excess work done on this call (perhaps wrong Dfun type). Run with full_output = 1 to get quantitative information.\n",
      "  warnings.warn(warning_msg, ODEintWarning)\n",
      "C:\\Users\\UserALai\\miniconda3\\lib\\site-packages\\scipy\\integrate\\_odepack_py.py:247: ODEintWarning: Excess work done on this call (perhaps wrong Dfun type). Run with full_output = 1 to get quantitative information.\n",
      "  warnings.warn(warning_msg, ODEintWarning)\n",
      "C:\\Users\\UserALai\\miniconda3\\lib\\site-packages\\scipy\\integrate\\_odepack_py.py:247: ODEintWarning: Excess work done on this call (perhaps wrong Dfun type). Run with full_output = 1 to get quantitative information.\n",
      "  warnings.warn(warning_msg, ODEintWarning)\n",
      "C:\\Users\\UserALai\\miniconda3\\lib\\site-packages\\scipy\\integrate\\_odepack_py.py:247: ODEintWarning: Excess work done on this call (perhaps wrong Dfun type). Run with full_output = 1 to get quantitative information.\n",
      "  warnings.warn(warning_msg, ODEintWarning)\n",
      "C:\\Users\\UserALai\\miniconda3\\lib\\site-packages\\scipy\\integrate\\_odepack_py.py:247: ODEintWarning: Excess work done on this call (perhaps wrong Dfun type). Run with full_output = 1 to get quantitative information.\n",
      "  warnings.warn(warning_msg, ODEintWarning)\n",
      "C:\\Users\\UserALai\\miniconda3\\lib\\site-packages\\scipy\\integrate\\_odepack_py.py:247: ODEintWarning: Excess work done on this call (perhaps wrong Dfun type). Run with full_output = 1 to get quantitative information.\n",
      "  warnings.warn(warning_msg, ODEintWarning)\n",
      "C:\\Users\\UserALai\\miniconda3\\lib\\site-packages\\scipy\\integrate\\_odepack_py.py:247: ODEintWarning: Excess work done on this call (perhaps wrong Dfun type). Run with full_output = 1 to get quantitative information.\n",
      "  warnings.warn(warning_msg, ODEintWarning)\n",
      "C:\\Users\\UserALai\\miniconda3\\lib\\site-packages\\scipy\\integrate\\_odepack_py.py:247: ODEintWarning: Excess work done on this call (perhaps wrong Dfun type). Run with full_output = 1 to get quantitative information.\n",
      "  warnings.warn(warning_msg, ODEintWarning)\n",
      "C:\\Users\\UserALai\\miniconda3\\lib\\site-packages\\scipy\\integrate\\_odepack_py.py:247: ODEintWarning: Excess work done on this call (perhaps wrong Dfun type). Run with full_output = 1 to get quantitative information.\n",
      "  warnings.warn(warning_msg, ODEintWarning)\n",
      "C:\\Users\\UserALai\\miniconda3\\lib\\site-packages\\scipy\\integrate\\_odepack_py.py:247: ODEintWarning: Excess work done on this call (perhaps wrong Dfun type). Run with full_output = 1 to get quantitative information.\n",
      "  warnings.warn(warning_msg, ODEintWarning)\n",
      "C:\\Users\\UserALai\\miniconda3\\lib\\site-packages\\scipy\\integrate\\_odepack_py.py:247: ODEintWarning: Excess work done on this call (perhaps wrong Dfun type). Run with full_output = 1 to get quantitative information.\n",
      "  warnings.warn(warning_msg, ODEintWarning)\n"
     ]
    },
    {
     "name": "stdout",
     "output_type": "stream",
     "text": [
      "0.46688888888888885\n",
      "(u)' = -4.770 1/(1 + u^1) + 1.236 1/(1 + v^1) + -9.648 1/(1 + u^2) + 13.013 1/(1 + v^2) + 20.814 1/(1 + u^3) + -15.740 1/(1 + v^3) + 3.921 1/(1 + u^4) + -17.809 1/(1 + v^4) + -10.840 1/(1 + u^5) + 20.053 1/(1 + v^5)\n",
      "(v)' = 2.102 1/(1 + u^1) + 1.673 1/(1 + v^1) + -3.098 1/(1 + u^2) + -1.672 1/(1 + v^2) + -11.714 1/(1 + u^3) + -5.017 1/(1 + v^3) + 3.403 1/(1 + u^4) + 5.117 1/(1 + v^4) + 9.023 1/(1 + u^5)\n",
      "0.5334444444444444\n",
      "(u)' = -6.761 1/(1 + u^1) + 4.627 1/(1 + v^1) + -13.854 1/(1 + u^2) + 12.201 1/(1 + v^2) + 36.209 1/(1 + u^3) + -28.577 1/(1 + v^3) + 9.974 1/(1 + u^4) + -11.961 1/(1 + v^4) + -26.539 1/(1 + u^5) + 24.489 1/(1 + v^5)\n",
      "(v)' = -1.171 1/(1 + u^1) + -1.300 1/(1 + v^1) + -5.902 1/(1 + u^2) + -4.424 1/(1 + v^2) + 7.837 1/(1 + v^3) + 0.658 1/(1 + u^4) + 5.306 1/(1 + v^4) + 5.851 1/(1 + u^5) + -6.561 1/(1 + v^5)\n",
      "0.6\n",
      "(u)' = -5.401 1/(1 + v^1) + 4.725 1/(1 + u^2) + -11.873 1/(1 + v^2) + 1.496 1/(1 + u^3) + 30.882 1/(1 + v^3) + -2.876 1/(1 + u^4) + 9.609 1/(1 + v^4) + -2.497 1/(1 + u^5) + -24.498 1/(1 + v^5)\n",
      "(v)' = -1.875 1/(1 + u^1) + -6.055 1/(1 + v^1) + -1.397 1/(1 + u^2) + -12.938 1/(1 + v^2) + 7.004 1/(1 + u^3) + 32.295 1/(1 + v^3) + 9.028 1/(1 + v^4) + -2.296 1/(1 + u^5) + -23.529 1/(1 + v^5)\n"
     ]
    },
    {
     "name": "stderr",
     "output_type": "stream",
     "text": [
      "C:\\Users\\UserALai\\miniconda3\\lib\\site-packages\\scipy\\integrate\\_odepack_py.py:247: ODEintWarning: Excess work done on this call (perhaps wrong Dfun type). Run with full_output = 1 to get quantitative information.\n",
      "  warnings.warn(warning_msg, ODEintWarning)\n",
      "C:\\Users\\UserALai\\miniconda3\\lib\\site-packages\\scipy\\integrate\\_odepack_py.py:247: ODEintWarning: Excess work done on this call (perhaps wrong Dfun type). Run with full_output = 1 to get quantitative information.\n",
      "  warnings.warn(warning_msg, ODEintWarning)\n",
      "C:\\Users\\UserALai\\miniconda3\\lib\\site-packages\\scipy\\integrate\\_odepack_py.py:247: ODEintWarning: Excess work done on this call (perhaps wrong Dfun type). Run with full_output = 1 to get quantitative information.\n",
      "  warnings.warn(warning_msg, ODEintWarning)\n",
      "C:\\Users\\UserALai\\miniconda3\\lib\\site-packages\\scipy\\integrate\\_odepack_py.py:247: ODEintWarning: Excess work done on this call (perhaps wrong Dfun type). Run with full_output = 1 to get quantitative information.\n",
      "  warnings.warn(warning_msg, ODEintWarning)\n",
      "C:\\Users\\UserALai\\miniconda3\\lib\\site-packages\\scipy\\integrate\\_odepack_py.py:247: ODEintWarning: Excess work done on this call (perhaps wrong Dfun type). Run with full_output = 1 to get quantitative information.\n",
      "  warnings.warn(warning_msg, ODEintWarning)\n",
      "C:\\Users\\UserALai\\miniconda3\\lib\\site-packages\\scipy\\integrate\\_odepack_py.py:247: ODEintWarning: Excess work done on this call (perhaps wrong Dfun type). Run with full_output = 1 to get quantitative information.\n",
      "  warnings.warn(warning_msg, ODEintWarning)\n",
      "C:\\Users\\UserALai\\miniconda3\\lib\\site-packages\\scipy\\integrate\\_odepack_py.py:247: ODEintWarning: Excess work done on this call (perhaps wrong Dfun type). Run with full_output = 1 to get quantitative information.\n",
      "  warnings.warn(warning_msg, ODEintWarning)\n"
     ]
    },
    {
     "name": "stdout",
     "output_type": "stream",
     "text": [
      "[0.001      0.06755556 0.13411111 0.20066667 0.26722222 0.33377778\n",
      " 0.40033333 0.46688889 0.53344444 0.6       ]\n",
      "[0.0010550913954350727, 0.11063429336984976, 0.11868538277051725, 0.7816262365161329, 0.30424318340607276, 1.4730096952090788, 1.2042068082046127, 0.9676818579026083, 2.7954007861098384, 10.03425205378798]\n",
      "0.001\n",
      "(u)' = -1.288 u + 12.079 1/(1 + u^1) + 0.109 1/(1 + v^1) + -17.031 1/(1 + u^2) + -1.079 1/(1 + v^2) + 0.653 1/(1 + v^3) + 14.502 1/(1 + u^4) + -7.494 1/(1 + u^5)\n",
      "(v)' = -1.308 v + 7.359 1/(1 + u^1) + 1.905 1/(1 + v^1) + -6.375 1/(1 + u^2) + -20.192 1/(1 + v^2) + 50.708 1/(1 + v^3) + 2.107 1/(1 + u^4) + -54.435 1/(1 + v^4) + 20.706 1/(1 + v^5)\n",
      "0.06755555555555555\n",
      "(u)' = -0.962 u + 4.139 1/(1 + u^1) + 5.596 1/(1 + v^1) + -53.413 1/(1 + u^2) + -1.316 1/(1 + v^2) + 160.439 1/(1 + u^3) + -196.595 1/(1 + u^4) + -9.948 1/(1 + v^4) + 84.230 1/(1 + u^5) + 7.807 1/(1 + v^5)\n",
      "(v)' = -1.190 v + -1.982 1/(1 + u^1) + 1.995 1/(1 + v^1) + 29.303 1/(1 + u^2) + -2.828 1/(1 + v^2) + -89.684 1/(1 + u^3) + 14.808 1/(1 + v^3) + 111.326 1/(1 + u^4) + -26.285 1/(1 + v^4) + -47.510 1/(1 + u^5) + 12.516 1/(1 + v^5)\n",
      "0.1341111111111111\n",
      "(u)' = -1.567 u + 1.040 v + -1.930 1/(1 + u^1) + -1.036 1/(1 + v^1) + 10.329 1/(1 + v^2) + 3.919 1/(1 + u^3) + 2.571 1/(1 + v^3) + -10.066 1/(1 + u^4) + -22.602 1/(1 + v^4) + 5.654 1/(1 + u^5) + 13.660 1/(1 + v^5)\n",
      "(v)' = -0.818 v + 1.328 1/(1 + u^1) + 2.704 1/(1 + v^1) + 4.732 1/(1 + u^2) + -8.378 1/(1 + u^3) + -7.951 1/(1 + v^3) + -2.067 1/(1 + u^4) + 3.567 1/(1 + v^4) + 5.825 1/(1 + u^5) + 1.245 1/(1 + v^5)\n",
      "0.20066666666666666\n",
      "(u)' = -1.365 u + 1.010 v + -0.913 1/(1 + v^1) + 2.787 1/(1 + u^2) + -5.262 1/(1 + v^2) + -5.942 1/(1 + u^3) + 10.824 1/(1 + v^3) + -8.355 1/(1 + u^4) + 9.572 1/(1 + v^4) + 9.389 1/(1 + u^5) + -12.016 1/(1 + v^5)\n",
      "(v)' = 1.959 1/(1 + u^1) + -2.017 1/(1 + v^1) + 5.356 1/(1 + u^2) + -15.433 1/(1 + v^2) + -10.603 1/(1 + u^3) + 19.662 1/(1 + v^3) + -4.159 1/(1 + u^4) + 19.571 1/(1 + v^4) + 8.079 1/(1 + u^5) + -22.782 1/(1 + v^5)\n",
      "0.2672222222222222\n",
      "(u)' = -1.452 u + 0.961 v + 1.632 1/(1 + u^1) + 12.420 1/(1 + u^2) + -1.988 1/(1 + v^2) + -20.965 1/(1 + u^3) + 3.610 1/(1 + v^3) + -21.967 1/(1 + u^4) + 7.288 1/(1 + v^4) + 26.792 1/(1 + u^5) + -6.266 1/(1 + v^5)\n",
      "(v)' = -0.813 1/(1 + u^1) + 2.094 1/(1 + v^1) + 0.951 1/(1 + u^2) + -5.219 1/(1 + v^2) + 5.687 1/(1 + u^3) + -3.755 1/(1 + v^3) + 10.542 1/(1 + v^4) + -5.421 1/(1 + u^5) + -4.219 1/(1 + v^5)\n",
      "0.33377777777777773\n",
      "(u)' = 1.720 1/(1 + v^1) + 0.728 1/(1 + u^2) + 1.252 1/(1 + u^3) + -5.803 1/(1 + v^3) + 3.184 1/(1 + v^4) + -2.101 1/(1 + u^5) + 1.055 1/(1 + v^5)\n",
      "(v)' = -0.790 1/(1 + v^1) + -4.145 1/(1 + u^2) + 5.817 1/(1 + v^2) + -3.229 1/(1 + v^3) + 3.317 1/(1 + u^4) + -10.271 1/(1 + v^4) + 9.300 1/(1 + v^5)\n"
     ]
    },
    {
     "name": "stderr",
     "output_type": "stream",
     "text": [
      "C:\\Users\\UserALai\\miniconda3\\lib\\site-packages\\scipy\\integrate\\_odepack_py.py:247: ODEintWarning: Excess work done on this call (perhaps wrong Dfun type). Run with full_output = 1 to get quantitative information.\n",
      "  warnings.warn(warning_msg, ODEintWarning)\n",
      "C:\\Users\\UserALai\\miniconda3\\lib\\site-packages\\scipy\\integrate\\_odepack_py.py:247: ODEintWarning: Excess work done on this call (perhaps wrong Dfun type). Run with full_output = 1 to get quantitative information.\n",
      "  warnings.warn(warning_msg, ODEintWarning)\n",
      "C:\\Users\\UserALai\\miniconda3\\lib\\site-packages\\scipy\\integrate\\_odepack_py.py:247: ODEintWarning: Excess work done on this call (perhaps wrong Dfun type). Run with full_output = 1 to get quantitative information.\n",
      "  warnings.warn(warning_msg, ODEintWarning)\n"
     ]
    },
    {
     "name": "stdout",
     "output_type": "stream",
     "text": [
      "0.4003333333333333\n",
      "(u)' = -0.901 1/(1 + u^1) + 5.666 1/(1 + u^2) + -12.482 1/(1 + v^2) + 2.702 1/(1 + u^3) + 8.343 1/(1 + v^3) + -5.777 1/(1 + u^4) + 15.977 1/(1 + v^4) + -13.918 1/(1 + v^5)\n",
      "(v)' = -1.971 1/(1 + u^1) + 2.716 1/(1 + v^1) + -12.033 1/(1 + u^2) + 3.149 1/(1 + v^2) + 17.073 1/(1 + u^3) + -7.013 1/(1 + v^3) + 14.083 1/(1 + u^4) + 4.166 1/(1 + v^4) + -18.599 1/(1 + u^5) + -1.863 1/(1 + v^5)\n",
      "0.46688888888888885\n",
      "(u)' = 3.313 1/(1 + u^1) + 17.619 1/(1 + u^2) + -8.362 1/(1 + v^2) + -18.884 1/(1 + u^3) + -1.620 1/(1 + v^3) + -14.752 1/(1 + u^4) + 5.053 1/(1 + v^4) + 14.910 1/(1 + u^5) + 2.718 1/(1 + v^5)\n",
      "(v)' = -1.937 1/(1 + u^1) + 1.608 1/(1 + v^1) + 3.369 1/(1 + u^2) + 1.528 1/(1 + v^2) + 9.590 1/(1 + u^3) + -13.730 1/(1 + v^3) + -3.051 1/(1 + u^4) + -6.000 1/(1 + v^4) + -6.288 1/(1 + u^5) + 14.839 1/(1 + v^5)\n"
     ]
    },
    {
     "name": "stderr",
     "output_type": "stream",
     "text": [
      "C:\\Users\\UserALai\\miniconda3\\lib\\site-packages\\scipy\\integrate\\_odepack_py.py:247: ODEintWarning: Excess work done on this call (perhaps wrong Dfun type). Run with full_output = 1 to get quantitative information.\n",
      "  warnings.warn(warning_msg, ODEintWarning)\n",
      "C:\\Users\\UserALai\\miniconda3\\lib\\site-packages\\scipy\\integrate\\_odepack_py.py:247: ODEintWarning: Excess work done on this call (perhaps wrong Dfun type). Run with full_output = 1 to get quantitative information.\n",
      "  warnings.warn(warning_msg, ODEintWarning)\n",
      "C:\\Users\\UserALai\\miniconda3\\lib\\site-packages\\scipy\\integrate\\_odepack_py.py:247: ODEintWarning: Excess work done on this call (perhaps wrong Dfun type). Run with full_output = 1 to get quantitative information.\n",
      "  warnings.warn(warning_msg, ODEintWarning)\n",
      "C:\\Users\\UserALai\\miniconda3\\lib\\site-packages\\scipy\\integrate\\_odepack_py.py:247: ODEintWarning: Excess work done on this call (perhaps wrong Dfun type). Run with full_output = 1 to get quantitative information.\n",
      "  warnings.warn(warning_msg, ODEintWarning)\n",
      "C:\\Users\\UserALai\\miniconda3\\lib\\site-packages\\scipy\\integrate\\_odepack_py.py:247: ODEintWarning: Excess work done on this call (perhaps wrong Dfun type). Run with full_output = 1 to get quantitative information.\n",
      "  warnings.warn(warning_msg, ODEintWarning)\n",
      "C:\\Users\\UserALai\\miniconda3\\lib\\site-packages\\scipy\\integrate\\_odepack_py.py:247: ODEintWarning: Excess work done on this call (perhaps wrong Dfun type). Run with full_output = 1 to get quantitative information.\n",
      "  warnings.warn(warning_msg, ODEintWarning)\n",
      "C:\\Users\\UserALai\\miniconda3\\lib\\site-packages\\scipy\\integrate\\_odepack_py.py:247: ODEintWarning: Excess work done on this call (perhaps wrong Dfun type). Run with full_output = 1 to get quantitative information.\n",
      "  warnings.warn(warning_msg, ODEintWarning)\n",
      "C:\\Users\\UserALai\\miniconda3\\lib\\site-packages\\scipy\\integrate\\_odepack_py.py:247: ODEintWarning: Excess work done on this call (perhaps wrong Dfun type). Run with full_output = 1 to get quantitative information.\n",
      "  warnings.warn(warning_msg, ODEintWarning)\n",
      "C:\\Users\\UserALai\\miniconda3\\lib\\site-packages\\scipy\\integrate\\_odepack_py.py:247: ODEintWarning: Excess work done on this call (perhaps wrong Dfun type). Run with full_output = 1 to get quantitative information.\n",
      "  warnings.warn(warning_msg, ODEintWarning)\n",
      "C:\\Users\\UserALai\\miniconda3\\lib\\site-packages\\scipy\\integrate\\_odepack_py.py:247: ODEintWarning: Excess work done on this call (perhaps wrong Dfun type). Run with full_output = 1 to get quantitative information.\n",
      "  warnings.warn(warning_msg, ODEintWarning)\n",
      "C:\\Users\\UserALai\\miniconda3\\lib\\site-packages\\scipy\\integrate\\_odepack_py.py:247: ODEintWarning: Excess work done on this call (perhaps wrong Dfun type). Run with full_output = 1 to get quantitative information.\n",
      "  warnings.warn(warning_msg, ODEintWarning)\n",
      "C:\\Users\\UserALai\\miniconda3\\lib\\site-packages\\scipy\\integrate\\_odepack_py.py:247: ODEintWarning: Excess work done on this call (perhaps wrong Dfun type). Run with full_output = 1 to get quantitative information.\n",
      "  warnings.warn(warning_msg, ODEintWarning)\n",
      "C:\\Users\\UserALai\\miniconda3\\lib\\site-packages\\scipy\\integrate\\_odepack_py.py:247: ODEintWarning: Excess work done on this call (perhaps wrong Dfun type). Run with full_output = 1 to get quantitative information.\n",
      "  warnings.warn(warning_msg, ODEintWarning)\n",
      "C:\\Users\\UserALai\\miniconda3\\lib\\site-packages\\scipy\\integrate\\_odepack_py.py:247: ODEintWarning: Excess work done on this call (perhaps wrong Dfun type). Run with full_output = 1 to get quantitative information.\n",
      "  warnings.warn(warning_msg, ODEintWarning)\n",
      "C:\\Users\\UserALai\\miniconda3\\lib\\site-packages\\scipy\\integrate\\_odepack_py.py:247: ODEintWarning: Excess work done on this call (perhaps wrong Dfun type). Run with full_output = 1 to get quantitative information.\n",
      "  warnings.warn(warning_msg, ODEintWarning)\n",
      "C:\\Users\\UserALai\\miniconda3\\lib\\site-packages\\scipy\\integrate\\_odepack_py.py:247: ODEintWarning: Excess work done on this call (perhaps wrong Dfun type). Run with full_output = 1 to get quantitative information.\n",
      "  warnings.warn(warning_msg, ODEintWarning)\n",
      "C:\\Users\\UserALai\\miniconda3\\lib\\site-packages\\scipy\\integrate\\_odepack_py.py:247: ODEintWarning: Excess work done on this call (perhaps wrong Dfun type). Run with full_output = 1 to get quantitative information.\n",
      "  warnings.warn(warning_msg, ODEintWarning)\n",
      "C:\\Users\\UserALai\\miniconda3\\lib\\site-packages\\scipy\\integrate\\_odepack_py.py:247: ODEintWarning: Excess work done on this call (perhaps wrong Dfun type). Run with full_output = 1 to get quantitative information.\n",
      "  warnings.warn(warning_msg, ODEintWarning)\n"
     ]
    },
    {
     "name": "stdout",
     "output_type": "stream",
     "text": [
      "0.5334444444444444\n",
      "(u)' = -2.165 1/(1 + v^1) + 4.226 1/(1 + u^2) + -7.309 1/(1 + v^2) + 3.521 1/(1 + u^3) + 11.064 1/(1 + v^3) + 3.908 1/(1 + v^4) + -5.869 1/(1 + u^5) + -7.614 1/(1 + v^5)\n",
      "(v)' = -1.304 1/(1 + u^1) + -1.782 1/(1 + v^1) + -8.300 1/(1 + u^2) + 2.851 1/(1 + v^2) + 1.117 1/(1 + u^3) + 3.690 1/(1 + v^3) + 3.031 1/(1 + u^4) + -6.352 1/(1 + v^4) + 4.657 1/(1 + u^5) + 2.754 1/(1 + v^5)\n"
     ]
    },
    {
     "name": "stderr",
     "output_type": "stream",
     "text": [
      "C:\\Users\\UserALai\\miniconda3\\lib\\site-packages\\scipy\\integrate\\_odepack_py.py:247: ODEintWarning: Excess work done on this call (perhaps wrong Dfun type). Run with full_output = 1 to get quantitative information.\n",
      "  warnings.warn(warning_msg, ODEintWarning)\n",
      "C:\\Users\\UserALai\\miniconda3\\lib\\site-packages\\scipy\\integrate\\_odepack_py.py:247: ODEintWarning: Excess work done on this call (perhaps wrong Dfun type). Run with full_output = 1 to get quantitative information.\n",
      "  warnings.warn(warning_msg, ODEintWarning)\n",
      "C:\\Users\\UserALai\\miniconda3\\lib\\site-packages\\scipy\\integrate\\_odepack_py.py:247: ODEintWarning: Excess work done on this call (perhaps wrong Dfun type). Run with full_output = 1 to get quantitative information.\n",
      "  warnings.warn(warning_msg, ODEintWarning)\n",
      "C:\\Users\\UserALai\\miniconda3\\lib\\site-packages\\scipy\\integrate\\_odepack_py.py:247: ODEintWarning: Excess work done on this call (perhaps wrong Dfun type). Run with full_output = 1 to get quantitative information.\n",
      "  warnings.warn(warning_msg, ODEintWarning)\n",
      "C:\\Users\\UserALai\\miniconda3\\lib\\site-packages\\scipy\\integrate\\_odepack_py.py:247: ODEintWarning: Excess work done on this call (perhaps wrong Dfun type). Run with full_output = 1 to get quantitative information.\n",
      "  warnings.warn(warning_msg, ODEintWarning)\n",
      "C:\\Users\\UserALai\\miniconda3\\lib\\site-packages\\scipy\\integrate\\_odepack_py.py:247: ODEintWarning: Excess work done on this call (perhaps wrong Dfun type). Run with full_output = 1 to get quantitative information.\n",
      "  warnings.warn(warning_msg, ODEintWarning)\n",
      "C:\\Users\\UserALai\\miniconda3\\lib\\site-packages\\scipy\\integrate\\_odepack_py.py:247: ODEintWarning: Excess work done on this call (perhaps wrong Dfun type). Run with full_output = 1 to get quantitative information.\n",
      "  warnings.warn(warning_msg, ODEintWarning)\n",
      "C:\\Users\\UserALai\\miniconda3\\lib\\site-packages\\scipy\\integrate\\_odepack_py.py:247: ODEintWarning: Excess work done on this call (perhaps wrong Dfun type). Run with full_output = 1 to get quantitative information.\n",
      "  warnings.warn(warning_msg, ODEintWarning)\n",
      "C:\\Users\\UserALai\\miniconda3\\lib\\site-packages\\scipy\\integrate\\_odepack_py.py:247: ODEintWarning: Excess work done on this call (perhaps wrong Dfun type). Run with full_output = 1 to get quantitative information.\n",
      "  warnings.warn(warning_msg, ODEintWarning)\n",
      "C:\\Users\\UserALai\\miniconda3\\lib\\site-packages\\scipy\\integrate\\_odepack_py.py:247: ODEintWarning: Excess work done on this call (perhaps wrong Dfun type). Run with full_output = 1 to get quantitative information.\n",
      "  warnings.warn(warning_msg, ODEintWarning)\n",
      "C:\\Users\\UserALai\\miniconda3\\lib\\site-packages\\scipy\\integrate\\_odepack_py.py:247: ODEintWarning: Excess work done on this call (perhaps wrong Dfun type). Run with full_output = 1 to get quantitative information.\n",
      "  warnings.warn(warning_msg, ODEintWarning)\n",
      "C:\\Users\\UserALai\\miniconda3\\lib\\site-packages\\scipy\\integrate\\_odepack_py.py:247: ODEintWarning: Excess work done on this call (perhaps wrong Dfun type). Run with full_output = 1 to get quantitative information.\n",
      "  warnings.warn(warning_msg, ODEintWarning)\n",
      "C:\\Users\\UserALai\\miniconda3\\lib\\site-packages\\scipy\\integrate\\_odepack_py.py:247: ODEintWarning: Excess work done on this call (perhaps wrong Dfun type). Run with full_output = 1 to get quantitative information.\n",
      "  warnings.warn(warning_msg, ODEintWarning)\n",
      "C:\\Users\\UserALai\\miniconda3\\lib\\site-packages\\scipy\\integrate\\_odepack_py.py:247: ODEintWarning: Excess work done on this call (perhaps wrong Dfun type). Run with full_output = 1 to get quantitative information.\n",
      "  warnings.warn(warning_msg, ODEintWarning)\n",
      "C:\\Users\\UserALai\\miniconda3\\lib\\site-packages\\scipy\\integrate\\_odepack_py.py:247: ODEintWarning: Excess work done on this call (perhaps wrong Dfun type). Run with full_output = 1 to get quantitative information.\n",
      "  warnings.warn(warning_msg, ODEintWarning)\n",
      "C:\\Users\\UserALai\\miniconda3\\lib\\site-packages\\scipy\\integrate\\_odepack_py.py:247: ODEintWarning: Excess work done on this call (perhaps wrong Dfun type). Run with full_output = 1 to get quantitative information.\n",
      "  warnings.warn(warning_msg, ODEintWarning)\n",
      "C:\\Users\\UserALai\\miniconda3\\lib\\site-packages\\scipy\\integrate\\_odepack_py.py:247: ODEintWarning: Excess work done on this call (perhaps wrong Dfun type). Run with full_output = 1 to get quantitative information.\n",
      "  warnings.warn(warning_msg, ODEintWarning)\n",
      "C:\\Users\\UserALai\\miniconda3\\lib\\site-packages\\scipy\\integrate\\_odepack_py.py:247: ODEintWarning: Excess work done on this call (perhaps wrong Dfun type). Run with full_output = 1 to get quantitative information.\n",
      "  warnings.warn(warning_msg, ODEintWarning)\n",
      "C:\\Users\\UserALai\\miniconda3\\lib\\site-packages\\scipy\\integrate\\_odepack_py.py:247: ODEintWarning: Excess work done on this call (perhaps wrong Dfun type). Run with full_output = 1 to get quantitative information.\n",
      "  warnings.warn(warning_msg, ODEintWarning)\n",
      "C:\\Users\\UserALai\\miniconda3\\lib\\site-packages\\scipy\\integrate\\_odepack_py.py:247: ODEintWarning: Excess work done on this call (perhaps wrong Dfun type). Run with full_output = 1 to get quantitative information.\n",
      "  warnings.warn(warning_msg, ODEintWarning)\n",
      "C:\\Users\\UserALai\\miniconda3\\lib\\site-packages\\scipy\\integrate\\_odepack_py.py:247: ODEintWarning: Excess work done on this call (perhaps wrong Dfun type). Run with full_output = 1 to get quantitative information.\n",
      "  warnings.warn(warning_msg, ODEintWarning)\n",
      "C:\\Users\\UserALai\\miniconda3\\lib\\site-packages\\scipy\\integrate\\_odepack_py.py:247: ODEintWarning: Excess work done on this call (perhaps wrong Dfun type). Run with full_output = 1 to get quantitative information.\n",
      "  warnings.warn(warning_msg, ODEintWarning)\n",
      "C:\\Users\\UserALai\\miniconda3\\lib\\site-packages\\scipy\\integrate\\_odepack_py.py:247: ODEintWarning: Excess work done on this call (perhaps wrong Dfun type). Run with full_output = 1 to get quantitative information.\n",
      "  warnings.warn(warning_msg, ODEintWarning)\n",
      "C:\\Users\\UserALai\\miniconda3\\lib\\site-packages\\scipy\\integrate\\_odepack_py.py:247: ODEintWarning: Excess work done on this call (perhaps wrong Dfun type). Run with full_output = 1 to get quantitative information.\n",
      "  warnings.warn(warning_msg, ODEintWarning)\n",
      "C:\\Users\\UserALai\\miniconda3\\lib\\site-packages\\scipy\\integrate\\_odepack_py.py:247: ODEintWarning: Excess work done on this call (perhaps wrong Dfun type). Run with full_output = 1 to get quantitative information.\n",
      "  warnings.warn(warning_msg, ODEintWarning)\n",
      "C:\\Users\\UserALai\\miniconda3\\lib\\site-packages\\scipy\\integrate\\_odepack_py.py:247: ODEintWarning: Excess work done on this call (perhaps wrong Dfun type). Run with full_output = 1 to get quantitative information.\n",
      "  warnings.warn(warning_msg, ODEintWarning)\n",
      "C:\\Users\\UserALai\\miniconda3\\lib\\site-packages\\scipy\\integrate\\_odepack_py.py:247: ODEintWarning: Excess work done on this call (perhaps wrong Dfun type). Run with full_output = 1 to get quantitative information.\n",
      "  warnings.warn(warning_msg, ODEintWarning)\n",
      "C:\\Users\\UserALai\\miniconda3\\lib\\site-packages\\scipy\\integrate\\_odepack_py.py:247: ODEintWarning: Excess work done on this call (perhaps wrong Dfun type). Run with full_output = 1 to get quantitative information.\n",
      "  warnings.warn(warning_msg, ODEintWarning)\n",
      "C:\\Users\\UserALai\\miniconda3\\lib\\site-packages\\scipy\\integrate\\_odepack_py.py:247: ODEintWarning: Excess work done on this call (perhaps wrong Dfun type). Run with full_output = 1 to get quantitative information.\n",
      "  warnings.warn(warning_msg, ODEintWarning)\n"
     ]
    },
    {
     "name": "stdout",
     "output_type": "stream",
     "text": [
      "0.6\n",
      "(u)' = 2.152 1/(1 + v^1) + -0.523 1/(1 + u^2) + 1.680 1/(1 + u^3) + -2.744 1/(1 + v^3) + 1.046 1/(1 + u^4) + 6.761 1/(1 + v^4) + -2.800 1/(1 + u^5) + -6.217 1/(1 + v^5)\n",
      "(v)' = -2.880 1/(1 + u^1) + 1.077 1/(1 + v^1) + -2.328 1/(1 + u^2) + -9.796 1/(1 + v^2) + 15.972 1/(1 + u^3) + 3.600 1/(1 + u^4) + 12.065 1/(1 + v^4) + -12.205 1/(1 + u^5) + -5.368 1/(1 + v^5)\n"
     ]
    },
    {
     "name": "stderr",
     "output_type": "stream",
     "text": [
      "C:\\Users\\UserALai\\miniconda3\\lib\\site-packages\\scipy\\integrate\\_odepack_py.py:247: ODEintWarning: Excess work done on this call (perhaps wrong Dfun type). Run with full_output = 1 to get quantitative information.\n",
      "  warnings.warn(warning_msg, ODEintWarning)\n",
      "C:\\Users\\UserALai\\miniconda3\\lib\\site-packages\\scipy\\integrate\\_odepack_py.py:247: ODEintWarning: Excess work done on this call (perhaps wrong Dfun type). Run with full_output = 1 to get quantitative information.\n",
      "  warnings.warn(warning_msg, ODEintWarning)\n",
      "C:\\Users\\UserALai\\miniconda3\\lib\\site-packages\\scipy\\integrate\\_odepack_py.py:247: ODEintWarning: Excess work done on this call (perhaps wrong Dfun type). Run with full_output = 1 to get quantitative information.\n",
      "  warnings.warn(warning_msg, ODEintWarning)\n",
      "C:\\Users\\UserALai\\miniconda3\\lib\\site-packages\\scipy\\integrate\\_odepack_py.py:247: ODEintWarning: Excess work done on this call (perhaps wrong Dfun type). Run with full_output = 1 to get quantitative information.\n",
      "  warnings.warn(warning_msg, ODEintWarning)\n",
      "C:\\Users\\UserALai\\miniconda3\\lib\\site-packages\\scipy\\integrate\\_odepack_py.py:247: ODEintWarning: Excess work done on this call (perhaps wrong Dfun type). Run with full_output = 1 to get quantitative information.\n",
      "  warnings.warn(warning_msg, ODEintWarning)\n",
      "C:\\Users\\UserALai\\miniconda3\\lib\\site-packages\\scipy\\integrate\\_odepack_py.py:247: ODEintWarning: Excess work done on this call (perhaps wrong Dfun type). Run with full_output = 1 to get quantitative information.\n",
      "  warnings.warn(warning_msg, ODEintWarning)\n"
     ]
    },
    {
     "name": "stdout",
     "output_type": "stream",
     "text": [
      "[0.001      0.06755556 0.13411111 0.20066667 0.26722222 0.33377778\n",
      " 0.40033333 0.46688889 0.53344444 0.6       ]\n",
      "[0.003640583233622771, 0.14470352813811915, 0.26254522921478163, 0.4332246491067572, 7.355216054237609, 11.130413436012592, 2.355144170207471, 25.783720912167038, 15.54532273296697, 38.14941784344314]\n",
      "0.001\n",
      "(u)' = -1.044 u + -1.919 1/(1 + u^1) + 3.097 1/(1 + v^1) + 22.059 1/(1 + u^2) + -2.813 1/(1 + v^2) + -60.622 1/(1 + u^3) + 64.565 1/(1 + u^4) + -23.964 1/(1 + u^5) + 0.682 1/(1 + v^5)\n",
      "(v)' = -1.271 v + 3.889 1/(1 + u^1) + 1.396 1/(1 + v^2) + -4.638 1/(1 + u^3) + -6.321 1/(1 + v^4) + 3.000 1/(1 + u^5) + 4.343 1/(1 + v^5)\n",
      "0.06755555555555555\n",
      "(u)' = -0.614 u + 2.160 1/(1 + v^1) + 0.343 1/(1 + u^2) + -31.893 1/(1 + v^2) + 23.564 1/(1 + u^3) + 69.211 1/(1 + v^3) + -56.932 1/(1 + u^4) + -55.880 1/(1 + v^4) + 34.031 1/(1 + u^5) + 15.346 1/(1 + v^5)\n",
      "(v)' = -1.691 v + 0.888 1/(1 + u^1) + 8.872 1/(1 + v^1) + 10.296 1/(1 + u^2) + -16.659 1/(1 + v^2) + -24.847 1/(1 + u^3) + 37.365 1/(1 + v^3) + 15.983 1/(1 + u^4) + -56.701 1/(1 + v^4) + -0.669 1/(1 + u^5) + 27.964 1/(1 + v^5)\n",
      "0.1341111111111111\n",
      "(u)' = -0.635 u + -1.512 1/(1 + u^1) + -3.653 1/(1 + v^1) + -9.505 1/(1 + u^2) + 15.069 1/(1 + v^2) + 10.826 1/(1 + u^3) + 14.453 1/(1 + u^4) + -27.867 1/(1 + v^4) + -15.497 1/(1 + u^5) + 18.084 1/(1 + v^5)\n",
      "(v)' = 1.042 1/(1 + u^1) + 1.101 1/(1 + v^1) + -8.240 1/(1 + u^2) + -2.281 1/(1 + v^2) + -7.366 1/(1 + u^3) + -3.077 1/(1 + v^3) + 27.717 1/(1 + u^4) + 7.996 1/(1 + v^4) + -13.906 1/(1 + u^5) + -3.530 1/(1 + v^5)\n"
     ]
    },
    {
     "name": "stderr",
     "output_type": "stream",
     "text": [
      "C:\\Users\\UserALai\\miniconda3\\lib\\site-packages\\scipy\\integrate\\_odepack_py.py:247: ODEintWarning: Excess work done on this call (perhaps wrong Dfun type). Run with full_output = 1 to get quantitative information.\n",
      "  warnings.warn(warning_msg, ODEintWarning)\n"
     ]
    },
    {
     "name": "stdout",
     "output_type": "stream",
     "text": [
      "0.20066666666666666\n",
      "(u)' = -0.689 u + -1.313 1/(1 + u^1) + 2.549 1/(1 + v^1) + -6.840 1/(1 + u^2) + 22.822 1/(1 + v^2) + 6.943 1/(1 + u^3) + -24.886 1/(1 + v^3) + 4.286 1/(1 + u^4) + -28.200 1/(1 + v^4) + -4.618 1/(1 + u^5) + 30.184 1/(1 + v^5)\n",
      "(v)' = -1.555 1/(1 + u^1) + -4.920 1/(1 + v^1) + -1.837 1/(1 + u^2) + 1.009 1/(1 + v^2) + 4.527 1/(1 + u^3) + 15.274 1/(1 + v^3) + -0.638 1/(1 + u^4) + -11.626 1/(1 + v^4) + -0.609 1/(1 + u^5)\n",
      "0.2672222222222222\n",
      "(u)' = -1.995 1/(1 + u^1) + -12.458 1/(1 + u^2) + -6.248 1/(1 + v^2) + 15.756 1/(1 + u^3) + 7.479 1/(1 + v^3) + 13.992 1/(1 + u^4) + 10.701 1/(1 + v^4) + -16.146 1/(1 + u^5) + -11.777 1/(1 + v^5)\n",
      "(v)' = -0.920 v + 2.585 1/(1 + v^1) + 5.115 1/(1 + u^2) + 17.307 1/(1 + v^2) + -20.694 1/(1 + v^3) + -4.123 1/(1 + u^4) + -20.429 1/(1 + v^4) + 21.762 1/(1 + v^5)\n",
      "0.33377777777777773\n",
      "(u)' = -1.500 1/(1 + u^1) + 1.735 1/(1 + v^1) + -3.132 1/(1 + u^2) + 3.438 1/(1 + v^2) + 4.937 1/(1 + u^3) + -10.470 1/(1 + v^3) + -2.940 1/(1 + v^4) + -0.739 1/(1 + u^5) + 8.680 1/(1 + v^5)\n",
      "(v)' = 0.562 u + -0.622 v + 1.390 1/(1 + u^1) + -2.899 1/(1 + v^1) + 1.546 1/(1 + u^2) + -2.199 1/(1 + v^2) + -4.175 1/(1 + u^3) + 9.913 1/(1 + v^3) + 2.985 1/(1 + u^4) + -4.600 1/(1 + v^4) + -2.000 1/(1 + v^5)\n"
     ]
    },
    {
     "name": "stderr",
     "output_type": "stream",
     "text": [
      "C:\\Users\\UserALai\\miniconda3\\lib\\site-packages\\scipy\\integrate\\_odepack_py.py:247: ODEintWarning: Excess work done on this call (perhaps wrong Dfun type). Run with full_output = 1 to get quantitative information.\n",
      "  warnings.warn(warning_msg, ODEintWarning)\n"
     ]
    },
    {
     "name": "stdout",
     "output_type": "stream",
     "text": [
      "0.4003333333333333\n",
      "(u)' = -0.899 1/(1 + u^1) + -1.245 1/(1 + v^1) + -3.765 1/(1 + u^2) + -9.378 1/(1 + v^2) + 16.633 1/(1 + u^3) + 9.002 1/(1 + v^3) + 12.312 1/(1 + u^4) + 8.914 1/(1 + v^4) + -23.172 1/(1 + u^5) + -8.783 1/(1 + v^5)\n",
      "(v)' = -0.860 v + -1.164 1/(1 + u^1) + -0.978 1/(1 + v^1) + 1.110 1/(1 + u^2) + 7.475 1/(1 + v^2) + 9.582 1/(1 + u^3) + 2.472 1/(1 + u^4) + -12.293 1/(1 + v^4) + -10.115 1/(1 + u^5) + 4.892 1/(1 + v^5)\n",
      "0.46688888888888885\n",
      "(u)' = -0.588 u + -0.684 1/(1 + u^1) + 4.237 1/(1 + v^1) + -2.124 1/(1 + u^2) + 8.720 1/(1 + v^2) + 4.557 1/(1 + u^3) + -20.563 1/(1 + v^3) + -2.672 1/(1 + v^4) + -4.173 1/(1 + u^5) + 13.177 1/(1 + v^5)\n",
      "(v)' = 2.739 1/(1 + u^1) + -5.147 1/(1 + v^1) + 3.282 1/(1 + u^2) + -14.991 1/(1 + v^2) + -12.491 1/(1 + u^3) + 33.524 1/(1 + v^3) + -0.564 1/(1 + u^4) + 16.161 1/(1 + v^4) + 7.123 1/(1 + u^5) + -30.134 1/(1 + v^5)\n",
      "0.5334444444444444\n",
      "(u)' = -0.501 u + 0.612 v + 0.875 1/(1 + u^1) + -4.722 1/(1 + v^1) + 2.025 1/(1 + u^2) + -12.699 1/(1 + v^2) + 2.796 1/(1 + u^3) + 30.500 1/(1 + v^3) + 2.658 1/(1 + u^4) + 14.156 1/(1 + v^4) + -9.023 1/(1 + u^5) + -27.220 1/(1 + v^5)\n",
      "(v)' = -0.653 1/(1 + u^1) + -4.466 1/(1 + v^1) + -8.261 1/(1 + u^2) + -5.239 1/(1 + v^2) + -6.029 1/(1 + u^3) + 31.085 1/(1 + v^3) + 9.775 1/(1 + v^4) + 13.261 1/(1 + u^5) + -29.474 1/(1 + v^5)\n",
      "0.6\n",
      "(u)' = -0.858 v + 2.090 1/(1 + u^1) + 4.218 1/(1 + v^1) + 5.166 1/(1 + u^2) + 7.813 1/(1 + v^2) + -10.411 1/(1 + u^3) + -15.826 1/(1 + v^3) + -3.388 1/(1 + u^4) + -1.213 1/(1 + v^4) + 6.900 1/(1 + u^5) + 5.269 1/(1 + v^5)\n",
      "(v)' = 0.551 v + 6.152 1/(1 + u^1) + -10.496 1/(1 + v^1) + 10.986 1/(1 + u^2) + -30.165 1/(1 + v^2) + -29.963 1/(1 + u^3) + 61.437 1/(1 + v^3) + -5.888 1/(1 + u^4) + 28.061 1/(1 + v^4) + 19.178 1/(1 + u^5) + -49.913 1/(1 + v^5)\n",
      "[0.001      0.06755556 0.13411111 0.20066667 0.26722222 0.33377778\n",
      " 0.40033333 0.46688889 0.53344444 0.6       ]\n",
      "[0.0031589795431878486, 0.09550433593388385, 0.5566394317467206, 0.31880399486431543, 0.5020818886433512, 3.7579026191671603, 1.6335506952226442, 1.4344677716376772, 2.456855013672523, 5.605633920433159]\n",
      "0.001\n",
      "(u)' = -1.248 u + 9.890 1/(1 + u^1) + 9.062 1/(1 + v^1) + -11.159 1/(1 + u^2) + -45.156 1/(1 + v^2) + -13.902 1/(1 + u^3) + 93.338 1/(1 + v^3) + 30.895 1/(1 + u^4) + -87.336 1/(1 + v^4) + -14.261 1/(1 + u^5) + 30.280 1/(1 + v^5)\n",
      "(v)' = -0.807 v + -1.627 1/(1 + u^1) + 1.110 1/(1 + u^2) + -3.138 1/(1 + v^2) + 0.753 1/(1 + u^3) + 14.445 1/(1 + v^3) + -17.394 1/(1 + v^4) + 6.476 1/(1 + v^5)\n",
      "0.06755555555555555\n",
      "(u)' = -1.017 u + -3.125 1/(1 + u^1) + 3.209 1/(1 + v^1) + 6.290 1/(1 + v^2) + 17.373 1/(1 + u^3) + -9.656 1/(1 + v^3) + -34.872 1/(1 + u^4) + 19.227 1/(1 + u^5) + 2.725 1/(1 + v^5)\n",
      "(v)' = -1.303 v + 4.057 1/(1 + u^1) + 7.706 1/(1 + v^1) + -13.588 1/(1 + u^2) + 10.394 1/(1 + v^2) + 25.791 1/(1 + u^3) + -66.119 1/(1 + v^3) + -24.224 1/(1 + u^4) + 78.892 1/(1 + v^4) + 9.065 1/(1 + u^5) + -29.938 1/(1 + v^5)\n",
      "0.1341111111111111\n",
      "(u)' = -1.306 u + 0.752 v + -2.064 1/(1 + u^1) + 3.948 1/(1 + u^2) + 9.426 1/(1 + v^2) + 0.810 1/(1 + u^3) + -6.284 1/(1 + v^3) + -16.736 1/(1 + u^4) + -16.417 1/(1 + v^4) + 12.234 1/(1 + u^5) + 15.490 1/(1 + v^5)\n",
      "(v)' = 1.549 1/(1 + u^1) + -6.666 1/(1 + u^2) + 0.713 1/(1 + v^2) + 2.070 1/(1 + u^3) + -1.390 1/(1 + v^3) + 12.633 1/(1 + u^4) + -9.845 1/(1 + u^5) + 0.875 1/(1 + v^5)\n",
      "0.20066666666666666\n",
      "(u)' = -0.655 u + 0.628 v + -1.310 1/(1 + u^1) + -1.439 1/(1 + v^1) + -7.247 1/(1 + u^2) + 0.765 1/(1 + v^2) + 8.328 1/(1 + u^3) + 6.289 1/(1 + v^3) + 6.322 1/(1 + u^4) + -1.666 1/(1 + v^4) + -7.400 1/(1 + u^5) + -3.154 1/(1 + v^5)\n",
      "(v)' = -1.116 v + 1.519 1/(1 + u^1) + 4.991 1/(1 + u^2) + 12.677 1/(1 + v^2) + -7.874 1/(1 + u^3) + -10.134 1/(1 + v^3) + -2.637 1/(1 + u^4) + -19.505 1/(1 + v^4) + 5.939 1/(1 + u^5) + 16.491 1/(1 + v^5)\n",
      "0.2672222222222222\n",
      "(u)' = -2.199 1/(1 + u^1) + -1.173 1/(1 + v^1) + -11.237 1/(1 + u^2) + 2.229 1/(1 + v^2) + 18.195 1/(1 + u^3) + 1.905 1/(1 + v^3) + 14.190 1/(1 + u^4) + -5.990 1/(1 + v^4) + -19.286 1/(1 + u^5) + 2.892 1/(1 + v^5)\n",
      "(v)' = -1.008 1/(1 + u^1) + -3.557 1/(1 + v^1) + 2.805 1/(1 + u^2) + -11.847 1/(1 + v^2) + 21.715 1/(1 + v^3) + -6.323 1/(1 + u^4) + 11.461 1/(1 + v^4) + 5.039 1/(1 + u^5) + -18.610 1/(1 + v^5)\n"
     ]
    },
    {
     "name": "stderr",
     "output_type": "stream",
     "text": [
      "C:\\Users\\UserALai\\miniconda3\\lib\\site-packages\\scipy\\integrate\\_odepack_py.py:247: ODEintWarning: Excess work done on this call (perhaps wrong Dfun type). Run with full_output = 1 to get quantitative information.\n",
      "  warnings.warn(warning_msg, ODEintWarning)\n"
     ]
    },
    {
     "name": "stdout",
     "output_type": "stream",
     "text": [
      "0.33377777777777773\n",
      "(u)' = -3.554 1/(1 + u^1) + -1.404 1/(1 + v^1) + -10.388 1/(1 + u^2) + 25.937 1/(1 + u^3) + 2.068 1/(1 + v^3) + 13.654 1/(1 + u^4) + -4.696 1/(1 + v^4) + -25.462 1/(1 + u^5) + 3.543 1/(1 + v^5)\n",
      "(v)' = -3.494 1/(1 + u^1) + -3.105 1/(1 + v^1) + -10.606 1/(1 + u^2) + 19.986 1/(1 + u^3) + 17.283 1/(1 + v^3) + 8.798 1/(1 + u^4) + -15.830 1/(1 + u^5) + -13.243 1/(1 + v^5)\n",
      "0.4003333333333333\n",
      "(u)' = -2.822 1/(1 + u^1) + -3.485 1/(1 + v^1) + 2.082 1/(1 + u^2) + 2.403 1/(1 + v^2) + 10.757 1/(1 + u^3) + 10.436 1/(1 + v^3) + -6.169 1/(1 + u^4) + -9.099 1/(1 + v^4) + -3.823 1/(1 + u^5)\n",
      "(v)' = -0.577 u + 1.846 1/(1 + u^1) + -2.863 1/(1 + v^1) + 4.364 1/(1 + u^2) + -6.715 1/(1 + v^2) + -6.844 1/(1 + u^3) + 21.272 1/(1 + v^3) + -1.889 1/(1 + u^4) + 10.236 1/(1 + v^4) + 2.177 1/(1 + u^5) + -21.154 1/(1 + v^5)\n"
     ]
    },
    {
     "name": "stderr",
     "output_type": "stream",
     "text": [
      "C:\\Users\\UserALai\\miniconda3\\lib\\site-packages\\scipy\\integrate\\_odepack_py.py:247: ODEintWarning: Excess work done on this call (perhaps wrong Dfun type). Run with full_output = 1 to get quantitative information.\n",
      "  warnings.warn(warning_msg, ODEintWarning)\n",
      "C:\\Users\\UserALai\\miniconda3\\lib\\site-packages\\scipy\\integrate\\_odepack_py.py:247: ODEintWarning: Excess work done on this call (perhaps wrong Dfun type). Run with full_output = 1 to get quantitative information.\n",
      "  warnings.warn(warning_msg, ODEintWarning)\n",
      "C:\\Users\\UserALai\\miniconda3\\lib\\site-packages\\scipy\\integrate\\_odepack_py.py:247: ODEintWarning: Excess work done on this call (perhaps wrong Dfun type). Run with full_output = 1 to get quantitative information.\n",
      "  warnings.warn(warning_msg, ODEintWarning)\n",
      "C:\\Users\\UserALai\\miniconda3\\lib\\site-packages\\scipy\\integrate\\_odepack_py.py:247: ODEintWarning: Excess work done on this call (perhaps wrong Dfun type). Run with full_output = 1 to get quantitative information.\n",
      "  warnings.warn(warning_msg, ODEintWarning)\n",
      "C:\\Users\\UserALai\\miniconda3\\lib\\site-packages\\scipy\\integrate\\_odepack_py.py:247: ODEintWarning: Excess work done on this call (perhaps wrong Dfun type). Run with full_output = 1 to get quantitative information.\n",
      "  warnings.warn(warning_msg, ODEintWarning)\n",
      "C:\\Users\\UserALai\\miniconda3\\lib\\site-packages\\scipy\\integrate\\_odepack_py.py:247: ODEintWarning: Excess work done on this call (perhaps wrong Dfun type). Run with full_output = 1 to get quantitative information.\n",
      "  warnings.warn(warning_msg, ODEintWarning)\n",
      "C:\\Users\\UserALai\\miniconda3\\lib\\site-packages\\scipy\\integrate\\_odepack_py.py:247: ODEintWarning: Excess work done on this call (perhaps wrong Dfun type). Run with full_output = 1 to get quantitative information.\n",
      "  warnings.warn(warning_msg, ODEintWarning)\n",
      "C:\\Users\\UserALai\\miniconda3\\lib\\site-packages\\scipy\\integrate\\_odepack_py.py:247: ODEintWarning: Excess work done on this call (perhaps wrong Dfun type). Run with full_output = 1 to get quantitative information.\n",
      "  warnings.warn(warning_msg, ODEintWarning)\n",
      "C:\\Users\\UserALai\\miniconda3\\lib\\site-packages\\scipy\\integrate\\_odepack_py.py:247: ODEintWarning: Excess work done on this call (perhaps wrong Dfun type). Run with full_output = 1 to get quantitative information.\n",
      "  warnings.warn(warning_msg, ODEintWarning)\n",
      "C:\\Users\\UserALai\\miniconda3\\lib\\site-packages\\scipy\\integrate\\_odepack_py.py:247: ODEintWarning: Excess work done on this call (perhaps wrong Dfun type). Run with full_output = 1 to get quantitative information.\n",
      "  warnings.warn(warning_msg, ODEintWarning)\n",
      "C:\\Users\\UserALai\\miniconda3\\lib\\site-packages\\scipy\\integrate\\_odepack_py.py:247: ODEintWarning: Excess work done on this call (perhaps wrong Dfun type). Run with full_output = 1 to get quantitative information.\n",
      "  warnings.warn(warning_msg, ODEintWarning)\n",
      "C:\\Users\\UserALai\\miniconda3\\lib\\site-packages\\scipy\\integrate\\_odepack_py.py:247: ODEintWarning: Excess work done on this call (perhaps wrong Dfun type). Run with full_output = 1 to get quantitative information.\n",
      "  warnings.warn(warning_msg, ODEintWarning)\n",
      "C:\\Users\\UserALai\\miniconda3\\lib\\site-packages\\scipy\\integrate\\_odepack_py.py:247: ODEintWarning: Excess work done on this call (perhaps wrong Dfun type). Run with full_output = 1 to get quantitative information.\n",
      "  warnings.warn(warning_msg, ODEintWarning)\n",
      "C:\\Users\\UserALai\\miniconda3\\lib\\site-packages\\scipy\\integrate\\_odepack_py.py:247: ODEintWarning: Excess work done on this call (perhaps wrong Dfun type). Run with full_output = 1 to get quantitative information.\n",
      "  warnings.warn(warning_msg, ODEintWarning)\n",
      "C:\\Users\\UserALai\\miniconda3\\lib\\site-packages\\scipy\\integrate\\_odepack_py.py:247: ODEintWarning: Excess work done on this call (perhaps wrong Dfun type). Run with full_output = 1 to get quantitative information.\n",
      "  warnings.warn(warning_msg, ODEintWarning)\n",
      "C:\\Users\\UserALai\\miniconda3\\lib\\site-packages\\scipy\\integrate\\_odepack_py.py:247: ODEintWarning: Excess work done on this call (perhaps wrong Dfun type). Run with full_output = 1 to get quantitative information.\n",
      "  warnings.warn(warning_msg, ODEintWarning)\n",
      "C:\\Users\\UserALai\\miniconda3\\lib\\site-packages\\scipy\\integrate\\_odepack_py.py:247: ODEintWarning: Excess work done on this call (perhaps wrong Dfun type). Run with full_output = 1 to get quantitative information.\n",
      "  warnings.warn(warning_msg, ODEintWarning)\n",
      "C:\\Users\\UserALai\\miniconda3\\lib\\site-packages\\scipy\\integrate\\_odepack_py.py:247: ODEintWarning: Excess work done on this call (perhaps wrong Dfun type). Run with full_output = 1 to get quantitative information.\n",
      "  warnings.warn(warning_msg, ODEintWarning)\n",
      "C:\\Users\\UserALai\\miniconda3\\lib\\site-packages\\scipy\\integrate\\_odepack_py.py:247: ODEintWarning: Excess work done on this call (perhaps wrong Dfun type). Run with full_output = 1 to get quantitative information.\n",
      "  warnings.warn(warning_msg, ODEintWarning)\n"
     ]
    },
    {
     "name": "stdout",
     "output_type": "stream",
     "text": [
      "0.46688888888888885\n",
      "(u)' = 2.114 1/(1 + u^1) + -4.340 1/(1 + v^1) + 5.137 1/(1 + u^2) + -8.926 1/(1 + v^2) + -11.239 1/(1 + u^3) + 15.210 1/(1 + v^3) + -2.377 1/(1 + u^4) + 8.167 1/(1 + u^5) + -3.690 1/(1 + v^5)\n",
      "(v)' = -5.037 1/(1 + u^1) + -1.115 1/(1 + v^1) + -11.384 1/(1 + u^2) + 6.306 1/(1 + v^2) + 29.391 1/(1 + u^3) + 1.040 1/(1 + v^3) + 9.712 1/(1 + u^4) + -8.897 1/(1 + v^4) + -23.799 1/(1 + u^5) + 3.820 1/(1 + v^5)\n"
     ]
    },
    {
     "name": "stderr",
     "output_type": "stream",
     "text": [
      "C:\\Users\\UserALai\\miniconda3\\lib\\site-packages\\scipy\\integrate\\_odepack_py.py:247: ODEintWarning: Excess work done on this call (perhaps wrong Dfun type). Run with full_output = 1 to get quantitative information.\n",
      "  warnings.warn(warning_msg, ODEintWarning)\n"
     ]
    },
    {
     "name": "stdout",
     "output_type": "stream",
     "text": [
      "0.5334444444444444\n",
      "(u)' = -1.191 1/(1 + u^1) + -3.302 1/(1 + u^2) + 2.241 1/(1 + v^2) + 1.737 1/(1 + v^3) + -2.596 1/(1 + u^4) + 5.925 1/(1 + u^5) + -2.901 1/(1 + v^5)\n",
      "(v)' = 2.628 1/(1 + u^1) + -3.540 1/(1 + v^1) + 3.081 1/(1 + u^2) + -19.442 1/(1 + u^3) + 20.977 1/(1 + v^3) + -6.568 1/(1 + u^4) + 0.994 1/(1 + v^4) + 19.235 1/(1 + u^5) + -17.252 1/(1 + v^5)\n"
     ]
    },
    {
     "name": "stderr",
     "output_type": "stream",
     "text": [
      "C:\\Users\\UserALai\\miniconda3\\lib\\site-packages\\scipy\\integrate\\_odepack_py.py:247: ODEintWarning: Excess work done on this call (perhaps wrong Dfun type). Run with full_output = 1 to get quantitative information.\n",
      "  warnings.warn(warning_msg, ODEintWarning)\n",
      "C:\\Users\\UserALai\\miniconda3\\lib\\site-packages\\scipy\\integrate\\_odepack_py.py:247: ODEintWarning: Excess work done on this call (perhaps wrong Dfun type). Run with full_output = 1 to get quantitative information.\n",
      "  warnings.warn(warning_msg, ODEintWarning)\n",
      "C:\\Users\\UserALai\\miniconda3\\lib\\site-packages\\scipy\\integrate\\_odepack_py.py:247: ODEintWarning: Excess work done on this call (perhaps wrong Dfun type). Run with full_output = 1 to get quantitative information.\n",
      "  warnings.warn(warning_msg, ODEintWarning)\n",
      "C:\\Users\\UserALai\\miniconda3\\lib\\site-packages\\scipy\\integrate\\_odepack_py.py:247: ODEintWarning: Excess work done on this call (perhaps wrong Dfun type). Run with full_output = 1 to get quantitative information.\n",
      "  warnings.warn(warning_msg, ODEintWarning)\n"
     ]
    },
    {
     "name": "stdout",
     "output_type": "stream",
     "text": [
      "0.6\n",
      "(u)' = -1.741 1/(1 + u^1) + 2.912 1/(1 + v^1) + -11.253 1/(1 + u^2) + 0.887 1/(1 + v^2) + 6.935 1/(1 + u^3) + -8.262 1/(1 + v^3) + 8.036 1/(1 + u^4) + 6.003 1/(1 + v^4) + -2.900 1/(1 + u^5) + -0.850 1/(1 + v^5)\n",
      "(v)' = -6.802 1/(1 + u^1) + -0.648 1/(1 + v^1) + -24.243 1/(1 + u^2) + 3.649 1/(1 + v^2) + 43.879 1/(1 + u^3) + 4.865 1/(1 + v^3) + 24.718 1/(1 + u^4) + -1.350 1/(1 + v^4) + -39.133 1/(1 + u^5) + -4.953 1/(1 + v^5)\n"
     ]
    },
    {
     "name": "stderr",
     "output_type": "stream",
     "text": [
      "C:\\Users\\UserALai\\miniconda3\\lib\\site-packages\\scipy\\integrate\\_odepack_py.py:247: ODEintWarning: Excess work done on this call (perhaps wrong Dfun type). Run with full_output = 1 to get quantitative information.\n",
      "  warnings.warn(warning_msg, ODEintWarning)\n",
      "C:\\Users\\UserALai\\miniconda3\\lib\\site-packages\\scipy\\integrate\\_odepack_py.py:247: ODEintWarning: Excess work done on this call (perhaps wrong Dfun type). Run with full_output = 1 to get quantitative information.\n",
      "  warnings.warn(warning_msg, ODEintWarning)\n",
      "C:\\Users\\UserALai\\miniconda3\\lib\\site-packages\\scipy\\integrate\\_odepack_py.py:247: ODEintWarning: Excess work done on this call (perhaps wrong Dfun type). Run with full_output = 1 to get quantitative information.\n",
      "  warnings.warn(warning_msg, ODEintWarning)\n",
      "C:\\Users\\UserALai\\miniconda3\\lib\\site-packages\\scipy\\integrate\\_odepack_py.py:247: ODEintWarning: Excess work done on this call (perhaps wrong Dfun type). Run with full_output = 1 to get quantitative information.\n",
      "  warnings.warn(warning_msg, ODEintWarning)\n",
      "C:\\Users\\UserALai\\miniconda3\\lib\\site-packages\\scipy\\integrate\\_odepack_py.py:247: ODEintWarning: Excess work done on this call (perhaps wrong Dfun type). Run with full_output = 1 to get quantitative information.\n",
      "  warnings.warn(warning_msg, ODEintWarning)\n",
      "C:\\Users\\UserALai\\miniconda3\\lib\\site-packages\\scipy\\integrate\\_odepack_py.py:247: ODEintWarning: Excess work done on this call (perhaps wrong Dfun type). Run with full_output = 1 to get quantitative information.\n",
      "  warnings.warn(warning_msg, ODEintWarning)\n",
      "C:\\Users\\UserALai\\miniconda3\\lib\\site-packages\\scipy\\integrate\\_odepack_py.py:247: ODEintWarning: Excess work done on this call (perhaps wrong Dfun type). Run with full_output = 1 to get quantitative information.\n",
      "  warnings.warn(warning_msg, ODEintWarning)\n",
      "C:\\Users\\UserALai\\miniconda3\\lib\\site-packages\\scipy\\integrate\\_odepack_py.py:247: ODEintWarning: Excess work done on this call (perhaps wrong Dfun type). Run with full_output = 1 to get quantitative information.\n",
      "  warnings.warn(warning_msg, ODEintWarning)\n",
      "C:\\Users\\UserALai\\miniconda3\\lib\\site-packages\\scipy\\integrate\\_odepack_py.py:247: ODEintWarning: Excess work done on this call (perhaps wrong Dfun type). Run with full_output = 1 to get quantitative information.\n",
      "  warnings.warn(warning_msg, ODEintWarning)\n",
      "C:\\Users\\UserALai\\miniconda3\\lib\\site-packages\\scipy\\integrate\\_odepack_py.py:247: ODEintWarning: Excess work done on this call (perhaps wrong Dfun type). Run with full_output = 1 to get quantitative information.\n",
      "  warnings.warn(warning_msg, ODEintWarning)\n",
      "C:\\Users\\UserALai\\miniconda3\\lib\\site-packages\\scipy\\integrate\\_odepack_py.py:247: ODEintWarning: Excess work done on this call (perhaps wrong Dfun type). Run with full_output = 1 to get quantitative information.\n",
      "  warnings.warn(warning_msg, ODEintWarning)\n",
      "C:\\Users\\UserALai\\miniconda3\\lib\\site-packages\\scipy\\integrate\\_odepack_py.py:247: ODEintWarning: Excess work done on this call (perhaps wrong Dfun type). Run with full_output = 1 to get quantitative information.\n",
      "  warnings.warn(warning_msg, ODEintWarning)\n"
     ]
    },
    {
     "name": "stdout",
     "output_type": "stream",
     "text": [
      "[0.001      0.06755556 0.13411111 0.20066667 0.26722222 0.33377778\n",
      " 0.40033333 0.46688889 0.53344444 0.6       ]\n",
      "[0.004516584375875717, 0.8356066591029938, 1.3638486776150098, 0.14315202933283505, 0.3991734980664596, 1.1188346459286096, 1.6141244708975901, 1.1110267890349768, 2.2724606860836505, 84.87471051692015]\n",
      "0.001\n",
      "(u)' = -1.096 u + 2.611 1/(1 + u^1) + 0.361 1/(1 + v^1) + 5.383 1/(1 + v^2) + -3.774 1/(1 + u^3) + -8.140 1/(1 + v^3) + -2.314 1/(1 + u^4) + 4.098 1/(1 + u^5) + 3.004 1/(1 + v^5)\n",
      "(v)' = -1.165 v + 2.342 1/(1 + u^1) + -0.704 1/(1 + v^1) + -4.401 1/(1 + u^3) + 11.505 1/(1 + v^3) + 3.682 1/(1 + u^4) + -20.101 1/(1 + v^4) + 9.113 1/(1 + v^5)\n",
      "0.06755555555555555\n",
      "(u)' = -0.850 u + -10.196 1/(1 + u^2) + 10.752 1/(1 + v^2) + 27.891 1/(1 + u^3) + -16.608 1/(1 + v^3) + -33.607 1/(1 + u^4) + 7.267 1/(1 + v^4) + 15.177 1/(1 + u^5)\n",
      "(v)' = -1.389 v + 5.986 1/(1 + u^1) + 6.818 1/(1 + v^1) + -18.209 1/(1 + u^2) + 16.737 1/(1 + u^3) + -26.076 1/(1 + v^3) + -2.525 1/(1 + u^4) + 38.458 1/(1 + v^4) + -0.948 1/(1 + u^5) + -18.168 1/(1 + v^5)\n",
      "0.1341111111111111\n",
      "(u)' = -0.506 u + 0.545 v + -1.044 1/(1 + u^1) + -2.419 1/(1 + v^1) + -4.669 1/(1 + u^2) + 3.165 1/(1 + v^2) + 1.958 1/(1 + u^3) + 2.518 1/(1 + v^3) + 2.864 1/(1 + u^4) + -10.335 1/(1 + v^4) + 6.998 1/(1 + v^5)\n",
      "(v)' = -0.701 v + 1.515 1/(1 + u^1) + -2.383 1/(1 + u^2) + 2.553 1/(1 + v^2) + -2.300 1/(1 + u^3) + -6.785 1/(1 + v^3) + 11.065 1/(1 + u^4) + 6.808 1/(1 + v^4) + -6.652 1/(1 + u^5) + -3.111 1/(1 + v^5)\n",
      "0.20066666666666666\n",
      "(u)' = 0.582 1/(1 + v^1) + -6.372 1/(1 + u^2) + 1.294 1/(1 + v^2) + 0.956 1/(1 + u^3) + -3.448 1/(1 + v^3) + 6.966 1/(1 + u^4) + -2.300 1/(1 + v^4) + -1.982 1/(1 + u^5) + 3.805 1/(1 + v^5)\n",
      "(v)' = -0.503 v + -1.382 1/(1 + v^1) + 1.883 1/(1 + u^2) + 0.787 1/(1 + u^3) + 4.392 1/(1 + v^3) + -3.646 1/(1 + v^4) + -1.547 1/(1 + u^5)\n",
      "0.2672222222222222\n",
      "(u)' = -0.777 1/(1 + u^1) + 1.127 1/(1 + v^1) + -1.750 1/(1 + u^2) + 4.207 1/(1 + v^2) + 2.283 1/(1 + u^3) + -10.128 1/(1 + v^3) + -6.320 1/(1 + v^4) + 11.257 1/(1 + v^5)\n",
      "(v)' = -0.689 1/(1 + u^1) + -1.584 1/(1 + v^1) + 1.000 1/(1 + u^2) + 2.293 1/(1 + v^2) + 1.927 1/(1 + u^3) + 2.432 1/(1 + v^3) + -2.311 1/(1 + u^4) + -6.989 1/(1 + v^4) + 3.939 1/(1 + v^5)\n"
     ]
    },
    {
     "name": "stderr",
     "output_type": "stream",
     "text": [
      "C:\\Users\\UserALai\\miniconda3\\lib\\site-packages\\scipy\\integrate\\_odepack_py.py:247: ODEintWarning: Excess work done on this call (perhaps wrong Dfun type). Run with full_output = 1 to get quantitative information.\n",
      "  warnings.warn(warning_msg, ODEintWarning)\n",
      "C:\\Users\\UserALai\\miniconda3\\lib\\site-packages\\scipy\\integrate\\_odepack_py.py:247: ODEintWarning: Excess work done on this call (perhaps wrong Dfun type). Run with full_output = 1 to get quantitative information.\n",
      "  warnings.warn(warning_msg, ODEintWarning)\n",
      "C:\\Users\\UserALai\\miniconda3\\lib\\site-packages\\scipy\\integrate\\_odepack_py.py:247: ODEintWarning: Excess work done on this call (perhaps wrong Dfun type). Run with full_output = 1 to get quantitative information.\n",
      "  warnings.warn(warning_msg, ODEintWarning)\n",
      "C:\\Users\\UserALai\\miniconda3\\lib\\site-packages\\scipy\\integrate\\_odepack_py.py:247: ODEintWarning: Excess work done on this call (perhaps wrong Dfun type). Run with full_output = 1 to get quantitative information.\n",
      "  warnings.warn(warning_msg, ODEintWarning)\n",
      "C:\\Users\\UserALai\\miniconda3\\lib\\site-packages\\scipy\\integrate\\_odepack_py.py:247: ODEintWarning: Excess work done on this call (perhaps wrong Dfun type). Run with full_output = 1 to get quantitative information.\n",
      "  warnings.warn(warning_msg, ODEintWarning)\n",
      "C:\\Users\\UserALai\\miniconda3\\lib\\site-packages\\scipy\\integrate\\_odepack_py.py:247: ODEintWarning: Excess work done on this call (perhaps wrong Dfun type). Run with full_output = 1 to get quantitative information.\n",
      "  warnings.warn(warning_msg, ODEintWarning)\n",
      "C:\\Users\\UserALai\\miniconda3\\lib\\site-packages\\scipy\\integrate\\_odepack_py.py:247: ODEintWarning: Excess work done on this call (perhaps wrong Dfun type). Run with full_output = 1 to get quantitative information.\n",
      "  warnings.warn(warning_msg, ODEintWarning)\n",
      "C:\\Users\\UserALai\\miniconda3\\lib\\site-packages\\scipy\\integrate\\_odepack_py.py:247: ODEintWarning: Excess work done on this call (perhaps wrong Dfun type). Run with full_output = 1 to get quantitative information.\n",
      "  warnings.warn(warning_msg, ODEintWarning)\n"
     ]
    },
    {
     "name": "stdout",
     "output_type": "stream",
     "text": [
      "0.33377777777777773\n",
      "(u)' = -0.585 u + -2.426 1/(1 + u^1) + 5.562 1/(1 + v^1) + -0.551 1/(1 + u^2) + 6.225 1/(1 + v^2) + 9.230 1/(1 + u^3) + -22.362 1/(1 + v^3) + -3.510 1/(1 + u^4) + 2.267 1/(1 + v^4) + -3.245 1/(1 + u^5) + 9.412 1/(1 + v^5)\n",
      "(v)' = -0.911 1/(1 + u^1) + -1.116 1/(1 + v^1) + -2.430 1/(1 + u^2) + -10.544 1/(1 + v^2) + 2.003 1/(1 + u^3) + 16.271 1/(1 + v^3) + 16.588 1/(1 + v^4) + 1.230 1/(1 + u^5) + -21.500 1/(1 + v^5)\n",
      "0.4003333333333333\n",
      "(u)' = 1.300 1/(1 + u^1) + 2.869 1/(1 + v^1) + 8.592 1/(1 + v^2) + -7.011 1/(1 + u^3) + -18.014 1/(1 + v^3) + -8.608 1/(1 + v^4) + 5.200 1/(1 + u^5) + 15.679 1/(1 + v^5)\n",
      "(v)' = 0.500 1/(1 + u^1) + -3.690 1/(1 + u^2) + 1.312 1/(1 + v^2) + 1.552 1/(1 + u^3) + 6.395 1/(1 + u^4) + -1.133 1/(1 + v^4) + -5.099 1/(1 + u^5)\n",
      "0.46688888888888885\n",
      "(u)' = 1.309 1/(1 + u^1) + 0.833 1/(1 + v^1) + -5.223 1/(1 + u^2) + -3.610 1/(1 + v^2) + -3.928 1/(1 + u^3) + 1.627 1/(1 + v^3) + 7.225 1/(1 + u^4) + 8.159 1/(1 + v^4) + -6.873 1/(1 + v^5)\n",
      "(v)' = 1.508 1/(1 + u^1) + 10.319 1/(1 + u^2) + -7.650 1/(1 + v^2) + -8.114 1/(1 + u^3) + 3.855 1/(1 + v^3) + -8.532 1/(1 + u^4) + 8.940 1/(1 + v^4) + 5.982 1/(1 + u^5) + -6.389 1/(1 + v^5)\n",
      "0.5334444444444444\n",
      "(u)' = 2.404 1/(1 + v^1) + 4.877 1/(1 + u^2) + 4.902 1/(1 + v^2) + -7.087 1/(1 + u^3) + -7.210 1/(1 + v^3) + -10.047 1/(1 + u^4) + 11.741 1/(1 + u^5)\n",
      "(v)' = -1.016 1/(1 + u^1) + -1.563 1/(1 + v^1) + -8.844 1/(1 + u^2) + -0.697 1/(1 + v^2) + 7.687 1/(1 + u^3) + 8.069 1/(1 + v^3) + 9.576 1/(1 + u^4) + -7.691 1/(1 + u^5) + -5.628 1/(1 + v^5)\n"
     ]
    },
    {
     "name": "stderr",
     "output_type": "stream",
     "text": [
      "C:\\Users\\UserALai\\miniconda3\\lib\\site-packages\\scipy\\integrate\\_odepack_py.py:247: ODEintWarning: Excess work done on this call (perhaps wrong Dfun type). Run with full_output = 1 to get quantitative information.\n",
      "  warnings.warn(warning_msg, ODEintWarning)\n",
      "C:\\Users\\UserALai\\miniconda3\\lib\\site-packages\\scipy\\integrate\\_odepack_py.py:247: ODEintWarning: Excess work done on this call (perhaps wrong Dfun type). Run with full_output = 1 to get quantitative information.\n",
      "  warnings.warn(warning_msg, ODEintWarning)\n",
      "C:\\Users\\UserALai\\miniconda3\\lib\\site-packages\\scipy\\integrate\\_odepack_py.py:247: ODEintWarning: Excess work done on this call (perhaps wrong Dfun type). Run with full_output = 1 to get quantitative information.\n",
      "  warnings.warn(warning_msg, ODEintWarning)\n"
     ]
    },
    {
     "name": "stdout",
     "output_type": "stream",
     "text": [
      "0.6\n",
      "(u)' = 3.676 1/(1 + u^1) + -1.258 1/(1 + v^1) + 17.065 1/(1 + u^2) + -12.286 1/(1 + v^2) + -29.958 1/(1 + u^3) + 13.076 1/(1 + v^3) + -20.105 1/(1 + u^4) + 13.488 1/(1 + v^4) + 31.498 1/(1 + u^5) + -15.499 1/(1 + v^5)\n",
      "(v)' = 3.172 1/(1 + u^1) + 1.329 1/(1 + v^1) + 6.986 1/(1 + u^2) + -5.961 1/(1 + v^2) + -17.202 1/(1 + u^3) + -3.983 1/(1 + v^3) + -5.138 1/(1 + u^4) + 7.850 1/(1 + v^4) + 12.845 1/(1 + u^5)\n",
      "[0.001      0.06755556 0.13411111 0.20066667 0.26722222 0.33377778\n",
      " 0.40033333 0.46688889 0.53344444 0.6       ]\n",
      "[0.0013584104045502377, 0.13101146053508372, 0.21868047533786067, 4.72503799057672, 2.314772515167494, 0.8386984035437266, 60.797558731037014, 26.26339633365611, 50.65058748619957, 26.721182114969427]\n",
      "0.001\n",
      "(u)' = -1.041 u + -11.917 1/(1 + u^1) + 29.505 1/(1 + v^1) + 46.025 1/(1 + u^2) + -105.000 1/(1 + v^2) + -95.694 1/(1 + u^3) + 174.426 1/(1 + v^3) + 93.518 1/(1 + u^4) + -137.566 1/(1 + v^4) + -33.865 1/(1 + u^5) + 41.679 1/(1 + v^5)\n",
      "(v)' = -1.399 v + 2.251 1/(1 + u^1) + -0.435 1/(1 + v^1) + 18.021 1/(1 + u^2) + -49.196 1/(1 + u^3) + 10.217 1/(1 + v^3) + 45.670 1/(1 + u^4) + -22.028 1/(1 + v^4) + -13.993 1/(1 + u^5) + 11.463 1/(1 + v^5)\n",
      "0.06755555555555555\n",
      "(u)' = -1.441 u + 0.753 v + -4.083 1/(1 + v^1) + 20.296 1/(1 + u^2) + -0.890 1/(1 + v^2) + -93.320 1/(1 + u^3) + 37.764 1/(1 + v^3) + 127.746 1/(1 + u^4) + -51.185 1/(1 + v^4) + -56.131 1/(1 + u^5) + 20.279 1/(1 + v^5)\n",
      "(v)' = -1.145 v + 5.299 1/(1 + v^1) + -17.371 1/(1 + u^2) + 23.190 1/(1 + v^2) + 55.310 1/(1 + u^3) + -86.644 1/(1 + v^3) + -68.147 1/(1 + u^4) + 96.644 1/(1 + v^4) + 29.891 1/(1 + u^5) + -36.614 1/(1 + v^5)\n",
      "0.1341111111111111\n",
      "(u)' = -1.058 u + 0.685 v + -1.234 1/(1 + u^1) + 1.953 1/(1 + v^1) + -1.425 1/(1 + u^3) + -13.927 1/(1 + v^3) + 1.335 1/(1 + u^4) + 20.752 1/(1 + v^4) + -7.536 1/(1 + v^5)\n",
      "(v)' = -0.924 v + -1.223 1/(1 + v^1) + 7.868 1/(1 + u^2) + 12.546 1/(1 + v^2) + -9.243 1/(1 + u^3) + -5.577 1/(1 + v^3) + 2.971 1/(1 + u^4) + -27.518 1/(1 + v^4) + 21.513 1/(1 + v^5)\n"
     ]
    },
    {
     "name": "stderr",
     "output_type": "stream",
     "text": [
      "C:\\Users\\UserALai\\miniconda3\\lib\\site-packages\\scipy\\integrate\\_odepack_py.py:247: ODEintWarning: Excess work done on this call (perhaps wrong Dfun type). Run with full_output = 1 to get quantitative information.\n",
      "  warnings.warn(warning_msg, ODEintWarning)\n",
      "C:\\Users\\UserALai\\miniconda3\\lib\\site-packages\\scipy\\integrate\\_odepack_py.py:247: ODEintWarning: Excess work done on this call (perhaps wrong Dfun type). Run with full_output = 1 to get quantitative information.\n",
      "  warnings.warn(warning_msg, ODEintWarning)\n",
      "C:\\Users\\UserALai\\miniconda3\\lib\\site-packages\\scipy\\integrate\\_odepack_py.py:247: ODEintWarning: Excess work done on this call (perhaps wrong Dfun type). Run with full_output = 1 to get quantitative information.\n",
      "  warnings.warn(warning_msg, ODEintWarning)\n",
      "C:\\Users\\UserALai\\miniconda3\\lib\\site-packages\\scipy\\integrate\\_odepack_py.py:247: ODEintWarning: Excess work done on this call (perhaps wrong Dfun type). Run with full_output = 1 to get quantitative information.\n",
      "  warnings.warn(warning_msg, ODEintWarning)\n"
     ]
    },
    {
     "name": "stdout",
     "output_type": "stream",
     "text": [
      "0.20066666666666666\n",
      "(u)' = -0.644 u + 0.537 v + -3.681 1/(1 + u^1) + 1.824 1/(1 + v^1) + -1.512 1/(1 + u^2) + -3.542 1/(1 + v^2) + 11.393 1/(1 + u^3) + -3.404 1/(1 + v^3) + -6.373 1/(1 + u^4) + 8.658 1/(1 + v^4) + -0.599 1/(1 + u^5) + -3.178 1/(1 + v^5)\n",
      "(v)' = -0.697 u + -0.849 1/(1 + u^1) + 3.282 1/(1 + u^2) + 10.392 1/(1 + v^2) + -5.999 1/(1 + v^3) + -7.135 1/(1 + u^4) + -12.193 1/(1 + v^4) + 4.045 1/(1 + u^5) + 9.515 1/(1 + v^5)\n"
     ]
    },
    {
     "name": "stderr",
     "output_type": "stream",
     "text": [
      "C:\\Users\\UserALai\\miniconda3\\lib\\site-packages\\scipy\\integrate\\_odepack_py.py:247: ODEintWarning: Excess work done on this call (perhaps wrong Dfun type). Run with full_output = 1 to get quantitative information.\n",
      "  warnings.warn(warning_msg, ODEintWarning)\n",
      "C:\\Users\\UserALai\\miniconda3\\lib\\site-packages\\scipy\\integrate\\_odepack_py.py:247: ODEintWarning: Excess work done on this call (perhaps wrong Dfun type). Run with full_output = 1 to get quantitative information.\n",
      "  warnings.warn(warning_msg, ODEintWarning)\n"
     ]
    },
    {
     "name": "stdout",
     "output_type": "stream",
     "text": [
      "0.2672222222222222\n",
      "(u)' = -1.035 u + 1.534 v + -2.402 1/(1 + u^1) + 0.713 1/(1 + v^1) + -7.508 1/(1 + u^2) + -11.646 1/(1 + v^2) + 11.020 1/(1 + u^3) + 7.714 1/(1 + v^3) + 2.089 1/(1 + u^4) + 21.525 1/(1 + v^4) + -6.340 1/(1 + u^5) + -16.408 1/(1 + v^5)\n",
      "(v)' = -0.895 v + 1.684 1/(1 + u^1) + 3.017 1/(1 + v^1) + 8.978 1/(1 + u^2) + 13.556 1/(1 + v^2) + -13.535 1/(1 + u^3) + -22.051 1/(1 + v^3) + -9.535 1/(1 + u^4) + -16.505 1/(1 + v^4) + 14.122 1/(1 + u^5) + 21.678 1/(1 + v^5)\n",
      "0.33377777777777773\n",
      "(u)' = -2.608 1/(1 + u^1) + -0.716 1/(1 + v^1) + -6.493 1/(1 + u^2) + -4.262 1/(1 + v^2) + 16.610 1/(1 + u^3) + 4.589 1/(1 + v^3) + 7.458 1/(1 + u^4) + 3.696 1/(1 + v^4) + -14.633 1/(1 + u^5) + -4.054 1/(1 + v^5)\n",
      "(v)' = 4.309 1/(1 + u^2) + -8.536 1/(1 + v^2) + 1.969 1/(1 + u^3) + 4.210 1/(1 + v^3) + -1.623 1/(1 + u^4) + 9.793 1/(1 + v^4) + -3.325 1/(1 + u^5) + -7.064 1/(1 + v^5)\n",
      "0.4003333333333333\n",
      "(u)' = 1.110 1/(1 + v^1) + 12.868 1/(1 + u^2) + -17.074 1/(1 + v^2) + -9.168 1/(1 + u^3) + 6.173 1/(1 + v^3) + -16.767 1/(1 + u^4) + 23.151 1/(1 + v^4) + 15.284 1/(1 + u^5) + -15.846 1/(1 + v^5)\n",
      "(v)' = -0.630 1/(1 + u^1) + -4.144 1/(1 + u^2) + -6.453 1/(1 + v^2) + 4.839 1/(1 + u^3) + 7.439 1/(1 + v^3) + 4.666 1/(1 + u^4) + 11.133 1/(1 + v^4) + -4.921 1/(1 + u^5) + -12.385 1/(1 + v^5)\n",
      "0.46688888888888885\n",
      "(u)' = 1.778 1/(1 + u^1) + 4.522 1/(1 + v^1) + 3.257 1/(1 + u^2) + 3.194 1/(1 + v^2) + -8.778 1/(1 + u^3) + -26.067 1/(1 + v^3) + -0.925 1/(1 + u^4) + -3.880 1/(1 + v^4) + 5.715 1/(1 + u^5) + 20.834 1/(1 + v^5)\n",
      "(v)' = 1.102 1/(1 + v^1) + 7.231 1/(1 + u^2) + -6.343 1/(1 + v^2) + -2.190 1/(1 + u^3) + -4.150 1/(1 + v^3) + -7.273 1/(1 + u^4) + 6.418 1/(1 + v^4) + 3.652 1/(1 + u^5) + 1.404 1/(1 + v^5)\n",
      "0.5334444444444444\n",
      "(u)' = -2.177 1/(1 + u^1) + -2.192 1/(1 + v^1) + 5.121 1/(1 + u^2) + 2.559 1/(1 + v^2) + 2.592 1/(1 + u^3) + 8.416 1/(1 + v^3) + -11.676 1/(1 + u^4) + -6.080 1/(1 + v^4) + 6.566 1/(1 + u^5) + -3.034 1/(1 + v^5)\n",
      "(v)' = -1.441 1/(1 + u^1) + 1.570 1/(1 + v^1) + 3.740 1/(1 + u^2) + -8.180 1/(1 + v^2) + 10.808 1/(1 + u^3) + -6.213 1/(1 + v^3) + 7.914 1/(1 + v^4) + -10.806 1/(1 + u^5) + 2.475 1/(1 + v^5)\n",
      "0.6\n",
      "(u)' = 3.195 1/(1 + u^2) + -11.368 1/(1 + v^2) + 8.143 1/(1 + v^3) + -2.139 1/(1 + u^4) + 15.611 1/(1 + v^4) + -13.578 1/(1 + v^5)\n",
      "(v)' = -7.328 1/(1 + u^2) + 7.699 1/(1 + v^2) + 0.924 1/(1 + u^3) + 6.040 1/(1 + v^3) + 5.480 1/(1 + u^4) + -1.663 1/(1 + v^4) + -1.496 1/(1 + u^5) + -10.068 1/(1 + v^5)\n",
      "[0.001      0.06755556 0.13411111 0.20066667 0.26722222 0.33377778\n",
      " 0.40033333 0.46688889 0.53344444 0.6       ]\n",
      "[0.004601838726708434, 0.20020971602582763, 0.058388458833660936, 0.2855797939502722, 0.7409649901041412, 32.15460421122102, 1.266455433257867, 23.065706606984797, 49.19708198540465, 1.8723314885787148]\n",
      "0.001\n",
      "(u)' = -1.107 u + 9.217 1/(1 + u^1) + -4.204 1/(1 + v^1) + -12.547 1/(1 + u^2) + 7.791 1/(1 + v^2) + 8.989 1/(1 + u^4) + -9.135 1/(1 + v^4) + -3.834 1/(1 + u^5) + 5.007 1/(1 + v^5)\n",
      "(v)' = -0.873 v + -11.428 1/(1 + u^1) + 16.084 1/(1 + v^1) + 36.676 1/(1 + u^2) + -64.097 1/(1 + v^2) + -68.517 1/(1 + u^3) + 125.494 1/(1 + v^3) + 66.177 1/(1 + u^4) + -114.996 1/(1 + v^4) + -24.078 1/(1 + u^5) + 39.421 1/(1 + v^5)\n",
      "0.06755555555555555\n",
      "(u)' = -1.083 u + 2.111 1/(1 + u^1) + -24.110 1/(1 + u^2) + 18.977 1/(1 + v^2) + 66.757 1/(1 + u^3) + -36.337 1/(1 + v^3) + -81.367 1/(1 + u^4) + 25.161 1/(1 + v^4) + 35.687 1/(1 + u^5) + -5.773 1/(1 + v^5)\n",
      "(v)' = -1.063 v + 3.611 1/(1 + u^1) + -12.792 1/(1 + u^2) + 3.398 1/(1 + v^2) + 30.507 1/(1 + u^3) + 3.338 1/(1 + v^3) + -34.072 1/(1 + u^4) + -14.417 1/(1 + v^4) + 14.227 1/(1 + u^5) + 7.630 1/(1 + v^5)\n",
      "0.1341111111111111\n",
      "(u)' = -1.175 u + 0.597 v + -1.140 1/(1 + u^1) + 2.281 1/(1 + v^1) + -1.199 1/(1 + u^2) + 3.633 1/(1 + v^2) + -2.566 1/(1 + u^3) + -13.438 1/(1 + v^3) + 4.017 1/(1 + u^4) + 19.549 1/(1 + v^4) + -1.028 1/(1 + u^5) + -9.582 1/(1 + v^5)\n",
      "(v)' = -0.818 v + -0.775 1/(1 + u^1) + 5.692 1/(1 + v^1) + -4.175 1/(1 + u^2) + 0.672 1/(1 + v^2) + 4.225 1/(1 + u^3) + -28.336 1/(1 + v^3) + 7.224 1/(1 + u^4) + 45.088 1/(1 + v^4) + -6.388 1/(1 + u^5) + -22.162 1/(1 + v^5)\n",
      "0.20066666666666666\n",
      "(u)' = -1.592 1/(1 + u^1) + -1.705 1/(1 + v^1) + 1.988 1/(1 + u^2) + -3.079 1/(1 + v^2) + 3.503 1/(1 + u^3) + 5.134 1/(1 + v^3) + -5.849 1/(1 + u^4) + -1.839 1/(1 + v^4) + 2.401 1/(1 + u^5) + 0.684 1/(1 + v^5)\n",
      "(v)' = 0.554 u + -1.174 v + 1.062 1/(1 + u^1) + -2.150 1/(1 + v^1) + 4.886 1/(1 + u^2) + -0.646 1/(1 + v^2) + -3.958 1/(1 + u^3) + 8.794 1/(1 + v^3) + -1.691 1/(1 + u^4) + -4.404 1/(1 + v^4) + 1.796 1/(1 + u^5) + -2.986 1/(1 + v^5)\n",
      "0.2672222222222222\n",
      "(u)' = -1.533 1/(1 + u^1) + -1.919 1/(1 + v^1) + 5.128 1/(1 + u^2) + -1.381 1/(1 + v^2) + 1.407 1/(1 + u^3) + 5.124 1/(1 + v^3) + -9.260 1/(1 + u^4) + -4.508 1/(1 + v^4) + 5.401 1/(1 + u^5) + 1.489 1/(1 + v^5)\n",
      "(v)' = -0.939 v + -0.730 1/(1 + u^1) + -1.570 1/(1 + v^1) + 1.203 1/(1 + u^2) + 10.521 1/(1 + v^2) + 2.456 1/(1 + u^3) + 2.246 1/(1 + v^3) + -1.399 1/(1 + u^4) + -15.553 1/(1 + v^4) + -0.507 1/(1 + u^5) + 4.591 1/(1 + v^5)\n",
      "0.33377777777777773\n",
      "(u)' = -0.514 u + 1.556 1/(1 + u^1) + 18.220 1/(1 + u^2) + -6.629 1/(1 + v^2) + -18.007 1/(1 + u^3) + 5.679 1/(1 + v^3) + -22.746 1/(1 + u^4) + 9.916 1/(1 + v^4) + 22.243 1/(1 + u^5) + -9.536 1/(1 + v^5)\n",
      "(v)' = -1.742 1/(1 + u^1) + -2.582 1/(1 + v^1) + -8.731 1/(1 + v^2) + 7.923 1/(1 + u^3) + 9.313 1/(1 + v^3) + -0.839 1/(1 + u^4) + 3.565 1/(1 + v^4) + -4.497 1/(1 + u^5) + -2.584 1/(1 + v^5)\n",
      "0.4003333333333333\n",
      "(u)' = 0.885 1/(1 + u^1) + -4.487 1/(1 + u^2) + 6.609 1/(1 + v^2) + -0.804 1/(1 + u^3) + -9.535 1/(1 + v^3) + 6.777 1/(1 + u^4) + -12.352 1/(1 + v^4) + -3.078 1/(1 + u^5) + 15.896 1/(1 + v^5)\n",
      "(v)' = -1.508 1/(1 + v^1) + -4.900 1/(1 + u^2) + -8.469 1/(1 + v^2) + 2.779 1/(1 + u^3) + 13.126 1/(1 + v^3) + 6.309 1/(1 + u^4) + 11.204 1/(1 + v^4) + -4.614 1/(1 + u^5) + -14.342 1/(1 + v^5)\n",
      "0.46688888888888885\n",
      "(u)' = -5.531 1/(1 + u^1) + 1.787 1/(1 + v^1) + -6.806 1/(1 + u^2) + -7.307 1/(1 + v^2) + 25.206 1/(1 + u^3) + 1.316 1/(1 + u^4) + 14.285 1/(1 + v^4) + -14.279 1/(1 + u^5) + -8.915 1/(1 + v^5)\n",
      "(v)' = -4.825 1/(1 + u^1) + 0.928 1/(1 + v^1) + -7.630 1/(1 + u^2) + -6.484 1/(1 + v^2) + 34.246 1/(1 + u^3) + -0.701 1/(1 + v^3) + 11.763 1/(1 + u^4) + 8.644 1/(1 + v^4) + -32.933 1/(1 + u^5) + -3.526 1/(1 + v^5)\n"
     ]
    },
    {
     "name": "stderr",
     "output_type": "stream",
     "text": [
      "C:\\Users\\UserALai\\miniconda3\\lib\\site-packages\\scipy\\integrate\\_odepack_py.py:247: ODEintWarning: Excess work done on this call (perhaps wrong Dfun type). Run with full_output = 1 to get quantitative information.\n",
      "  warnings.warn(warning_msg, ODEintWarning)\n",
      "C:\\Users\\UserALai\\miniconda3\\lib\\site-packages\\scipy\\integrate\\_odepack_py.py:247: ODEintWarning: Excess work done on this call (perhaps wrong Dfun type). Run with full_output = 1 to get quantitative information.\n",
      "  warnings.warn(warning_msg, ODEintWarning)\n",
      "C:\\Users\\UserALai\\miniconda3\\lib\\site-packages\\scipy\\integrate\\_odepack_py.py:247: ODEintWarning: Excess work done on this call (perhaps wrong Dfun type). Run with full_output = 1 to get quantitative information.\n",
      "  warnings.warn(warning_msg, ODEintWarning)\n",
      "C:\\Users\\UserALai\\miniconda3\\lib\\site-packages\\scipy\\integrate\\_odepack_py.py:247: ODEintWarning: Excess work done on this call (perhaps wrong Dfun type). Run with full_output = 1 to get quantitative information.\n",
      "  warnings.warn(warning_msg, ODEintWarning)\n",
      "C:\\Users\\UserALai\\miniconda3\\lib\\site-packages\\scipy\\integrate\\_odepack_py.py:247: ODEintWarning: Excess work done on this call (perhaps wrong Dfun type). Run with full_output = 1 to get quantitative information.\n",
      "  warnings.warn(warning_msg, ODEintWarning)\n",
      "C:\\Users\\UserALai\\miniconda3\\lib\\site-packages\\scipy\\integrate\\_odepack_py.py:247: ODEintWarning: Excess work done on this call (perhaps wrong Dfun type). Run with full_output = 1 to get quantitative information.\n",
      "  warnings.warn(warning_msg, ODEintWarning)\n",
      "C:\\Users\\UserALai\\miniconda3\\lib\\site-packages\\scipy\\integrate\\_odepack_py.py:247: ODEintWarning: Excess work done on this call (perhaps wrong Dfun type). Run with full_output = 1 to get quantitative information.\n",
      "  warnings.warn(warning_msg, ODEintWarning)\n",
      "C:\\Users\\UserALai\\miniconda3\\lib\\site-packages\\scipy\\integrate\\_odepack_py.py:247: ODEintWarning: Excess work done on this call (perhaps wrong Dfun type). Run with full_output = 1 to get quantitative information.\n",
      "  warnings.warn(warning_msg, ODEintWarning)\n",
      "C:\\Users\\UserALai\\miniconda3\\lib\\site-packages\\scipy\\integrate\\_odepack_py.py:247: ODEintWarning: Excess work done on this call (perhaps wrong Dfun type). Run with full_output = 1 to get quantitative information.\n",
      "  warnings.warn(warning_msg, ODEintWarning)\n"
     ]
    },
    {
     "name": "stdout",
     "output_type": "stream",
     "text": [
      "0.5334444444444444\n",
      "(u)' = -2.823 1/(1 + u^1) + -0.577 1/(1 + v^1) + 3.743 1/(1 + u^2) + -7.582 1/(1 + v^2) + 15.054 1/(1 + u^3) + 5.575 1/(1 + v^3) + -3.076 1/(1 + u^4) + 6.755 1/(1 + v^4) + -10.957 1/(1 + u^5) + -6.403 1/(1 + v^5)\n",
      "(v)' = -3.909 1/(1 + u^1) + 3.217 1/(1 + v^1) + -11.422 1/(1 + u^2) + 8.454 1/(1 + v^2) + 21.730 1/(1 + u^3) + -23.749 1/(1 + v^3) + 9.117 1/(1 + u^4) + -9.980 1/(1 + v^4) + -16.665 1/(1 + u^5) + 23.495 1/(1 + v^5)\n",
      "0.6\n",
      "(u)' = 0.673 v + -4.299 1/(1 + u^1) + -5.655 1/(1 + v^1) + -16.112 1/(1 + u^2) + -6.448 1/(1 + v^2) + 22.189 1/(1 + u^3) + 23.522 1/(1 + v^3) + 11.214 1/(1 + u^4) + 1.163 1/(1 + v^4) + -15.493 1/(1 + u^5) + -10.932 1/(1 + v^5)\n",
      "(v)' = -5.796 1/(1 + u^1) + -2.599 1/(1 + v^1) + -11.309 1/(1 + u^2) + -7.055 1/(1 + v^2) + 35.126 1/(1 + u^3) + 17.848 1/(1 + v^3) + 10.945 1/(1 + u^4) + 9.244 1/(1 + v^4) + -29.567 1/(1 + u^5) + -16.773 1/(1 + v^5)\n"
     ]
    },
    {
     "name": "stderr",
     "output_type": "stream",
     "text": [
      "C:\\Users\\UserALai\\miniconda3\\lib\\site-packages\\scipy\\integrate\\_odepack_py.py:247: ODEintWarning: Excess work done on this call (perhaps wrong Dfun type). Run with full_output = 1 to get quantitative information.\n",
      "  warnings.warn(warning_msg, ODEintWarning)\n",
      "C:\\Users\\UserALai\\miniconda3\\lib\\site-packages\\scipy\\integrate\\_odepack_py.py:247: ODEintWarning: Excess work done on this call (perhaps wrong Dfun type). Run with full_output = 1 to get quantitative information.\n",
      "  warnings.warn(warning_msg, ODEintWarning)\n",
      "C:\\Users\\UserALai\\miniconda3\\lib\\site-packages\\scipy\\integrate\\_odepack_py.py:247: ODEintWarning: Excess work done on this call (perhaps wrong Dfun type). Run with full_output = 1 to get quantitative information.\n",
      "  warnings.warn(warning_msg, ODEintWarning)\n",
      "C:\\Users\\UserALai\\miniconda3\\lib\\site-packages\\scipy\\integrate\\_odepack_py.py:247: ODEintWarning: Excess work done on this call (perhaps wrong Dfun type). Run with full_output = 1 to get quantitative information.\n",
      "  warnings.warn(warning_msg, ODEintWarning)\n"
     ]
    },
    {
     "name": "stdout",
     "output_type": "stream",
     "text": [
      "[0.001      0.06755556 0.13411111 0.20066667 0.26722222 0.33377778\n",
      " 0.40033333 0.46688889 0.53344444 0.6       ]\n",
      "[0.001539739144589016, 0.051744241486479374, 0.1890469943371075, 0.517840593825108, 0.4838401769657421, 3.236832711122071, 29.011122364512673, 105.36825331572754, 2.0898629993524267, 112.30581536067099]\n",
      "0.001\n",
      "(u)' = -1.278 u + 14.142 1/(1 + u^1) + 4.602 1/(1 + v^1) + -34.157 1/(1 + u^2) + -12.205 1/(1 + v^2) + 28.220 1/(1 + u^3) + 15.155 1/(1 + v^3) + -2.203 1/(1 + u^4) + -8.957 1/(1 + v^4) + -4.837 1/(1 + u^5) + 1.923 1/(1 + v^5)\n",
      "(v)' = -1.002 v + -1.502 1/(1 + u^1) + -3.943 1/(1 + v^1) + 16.613 1/(1 + u^2) + 8.837 1/(1 + v^2) + -35.317 1/(1 + u^3) + 30.889 1/(1 + u^4) + -13.730 1/(1 + v^4) + -9.206 1/(1 + u^5) + 8.377 1/(1 + v^5)\n"
     ]
    },
    {
     "name": "stderr",
     "output_type": "stream",
     "text": [
      "C:\\Users\\UserALai\\miniconda3\\lib\\site-packages\\scipy\\integrate\\_odepack_py.py:247: ODEintWarning: Excess work done on this call (perhaps wrong Dfun type). Run with full_output = 1 to get quantitative information.\n",
      "  warnings.warn(warning_msg, ODEintWarning)\n"
     ]
    },
    {
     "name": "stdout",
     "output_type": "stream",
     "text": [
      "0.06755555555555555\n",
      "(u)' = -1.160 u + 0.636 v + -1.755 1/(1 + u^1) + 4.530 1/(1 + v^1) + -18.065 1/(1 + u^2) + -4.744 1/(1 + v^2) + 61.807 1/(1 + u^3) + -81.368 1/(1 + u^4) + 8.726 1/(1 + v^4) + 37.263 1/(1 + u^5) + -6.250 1/(1 + v^5)\n",
      "(v)' = -1.215 v + -3.583 1/(1 + u^1) + 2.309 1/(1 + v^1) + 22.029 1/(1 + u^2) + 17.806 1/(1 + v^2) + -46.338 1/(1 + u^3) + -54.389 1/(1 + v^3) + 44.318 1/(1 + u^4) + 51.505 1/(1 + v^4) + -15.389 1/(1 + u^5) + -16.657 1/(1 + v^5)\n",
      "0.1341111111111111\n",
      "(u)' = -0.860 u + 0.861 v + -4.988 1/(1 + v^1) + 3.540 1/(1 + u^2) + -9.065 1/(1 + v^2) + -5.132 1/(1 + u^3) + 24.993 1/(1 + v^3) + -7.679 1/(1 + u^4) + -9.173 1/(1 + v^4) + 8.623 1/(1 + u^5) + -2.078 1/(1 + v^5)\n",
      "(v)' = 0.501 u + -1.286 v + -1.422 1/(1 + u^1) + 1.526 1/(1 + v^1) + 3.129 1/(1 + u^2) + 5.577 1/(1 + v^2) + 3.011 1/(1 + u^3) + -15.014 1/(1 + v^3) + -8.802 1/(1 + u^4) + 12.823 1/(1 + v^4) + 5.416 1/(1 + u^5) + -5.209 1/(1 + v^5)\n",
      "0.20066666666666666\n",
      "(u)' = -0.894 u + 1.089 v + -1.342 1/(1 + u^1) + 1.178 1/(1 + v^1) + -0.593 1/(1 + u^2) + -6.454 1/(1 + v^2) + 1.499 1/(1 + u^3) + 1.238 1/(1 + v^3) + -4.760 1/(1 + u^4) + 13.676 1/(1 + v^4) + 3.675 1/(1 + u^5) + -8.858 1/(1 + v^5)\n",
      "(v)' = -0.769 v + 1.722 1/(1 + u^1) + 3.197 1/(1 + v^2) + -4.925 1/(1 + u^3) + -3.078 1/(1 + v^3) + 4.652 1/(1 + u^4) + -5.722 1/(1 + v^4) + 4.826 1/(1 + v^5)\n",
      "0.2672222222222222\n",
      "(u)' = -1.429 1/(1 + u^1) + -2.401 1/(1 + v^1) + -5.040 1/(1 + u^2) + -13.117 1/(1 + v^2) + 10.639 1/(1 + u^3) + 17.564 1/(1 + v^3) + 6.369 1/(1 + u^4) + 14.513 1/(1 + v^4) + -10.466 1/(1 + u^5) + -17.261 1/(1 + v^5)\n",
      "(v)' = -1.475 1/(1 + v^1) + -8.659 1/(1 + u^2) + 8.297 1/(1 + v^2) + 4.131 1/(1 + u^3) + 9.951 1/(1 + u^4) + -12.885 1/(1 + v^4) + -6.880 1/(1 + u^5) + 7.384 1/(1 + v^5)\n",
      "0.33377777777777773\n",
      "(u)' = -0.740 1/(1 + u^1) + -11.542 1/(1 + u^2) + 3.407 1/(1 + v^2) + 11.069 1/(1 + u^3) + -1.113 1/(1 + v^3) + 15.087 1/(1 + u^4) + -3.646 1/(1 + v^4) + -14.748 1/(1 + u^5) + 1.871 1/(1 + v^5)\n",
      "(v)' = -2.937 1/(1 + v^1) + 7.693 1/(1 + u^2) + -11.882 1/(1 + v^2) + -6.635 1/(1 + u^3) + 14.563 1/(1 + v^3) + -10.299 1/(1 + u^4) + 7.905 1/(1 + v^4) + 11.058 1/(1 + u^5) + -9.568 1/(1 + v^5)\n",
      "0.4003333333333333\n",
      "(u)' = -2.562 1/(1 + u^1) + 3.967 1/(1 + v^1) + -6.691 1/(1 + u^2) + 4.468 1/(1 + v^2) + 19.377 1/(1 + u^3) + -19.606 1/(1 + v^3) + 9.850 1/(1 + u^4) + -2.571 1/(1 + v^4) + -19.568 1/(1 + u^5) + 12.884 1/(1 + v^5)\n",
      "(v)' = -0.566 u + -0.958 1/(1 + u^1) + 1.598 1/(1 + v^1) + -2.286 1/(1 + u^2) + 3.583 1/(1 + v^2) + 4.667 1/(1 + u^3) + -7.834 1/(1 + v^3) + 1.069 1/(1 + u^4) + -1.512 1/(1 + v^4) + -2.910 1/(1 + u^5) + 5.012 1/(1 + v^5)\n"
     ]
    },
    {
     "name": "stderr",
     "output_type": "stream",
     "text": [
      "C:\\Users\\UserALai\\miniconda3\\lib\\site-packages\\scipy\\integrate\\_odepack_py.py:247: ODEintWarning: Excess work done on this call (perhaps wrong Dfun type). Run with full_output = 1 to get quantitative information.\n",
      "  warnings.warn(warning_msg, ODEintWarning)\n",
      "C:\\Users\\UserALai\\miniconda3\\lib\\site-packages\\scipy\\integrate\\_odepack_py.py:247: ODEintWarning: Excess work done on this call (perhaps wrong Dfun type). Run with full_output = 1 to get quantitative information.\n",
      "  warnings.warn(warning_msg, ODEintWarning)\n",
      "C:\\Users\\UserALai\\miniconda3\\lib\\site-packages\\scipy\\integrate\\_odepack_py.py:247: ODEintWarning: Excess work done on this call (perhaps wrong Dfun type). Run with full_output = 1 to get quantitative information.\n",
      "  warnings.warn(warning_msg, ODEintWarning)\n",
      "C:\\Users\\UserALai\\miniconda3\\lib\\site-packages\\scipy\\integrate\\_odepack_py.py:247: ODEintWarning: Excess work done on this call (perhaps wrong Dfun type). Run with full_output = 1 to get quantitative information.\n",
      "  warnings.warn(warning_msg, ODEintWarning)\n",
      "C:\\Users\\UserALai\\miniconda3\\lib\\site-packages\\scipy\\integrate\\_odepack_py.py:247: ODEintWarning: Excess work done on this call (perhaps wrong Dfun type). Run with full_output = 1 to get quantitative information.\n",
      "  warnings.warn(warning_msg, ODEintWarning)\n",
      "C:\\Users\\UserALai\\miniconda3\\lib\\site-packages\\scipy\\integrate\\_odepack_py.py:247: ODEintWarning: Excess work done on this call (perhaps wrong Dfun type). Run with full_output = 1 to get quantitative information.\n",
      "  warnings.warn(warning_msg, ODEintWarning)\n",
      "C:\\Users\\UserALai\\miniconda3\\lib\\site-packages\\scipy\\integrate\\_odepack_py.py:247: ODEintWarning: Excess work done on this call (perhaps wrong Dfun type). Run with full_output = 1 to get quantitative information.\n",
      "  warnings.warn(warning_msg, ODEintWarning)\n",
      "C:\\Users\\UserALai\\miniconda3\\lib\\site-packages\\scipy\\integrate\\_odepack_py.py:247: ODEintWarning: Excess work done on this call (perhaps wrong Dfun type). Run with full_output = 1 to get quantitative information.\n",
      "  warnings.warn(warning_msg, ODEintWarning)\n",
      "C:\\Users\\UserALai\\miniconda3\\lib\\site-packages\\scipy\\integrate\\_odepack_py.py:247: ODEintWarning: Excess work done on this call (perhaps wrong Dfun type). Run with full_output = 1 to get quantitative information.\n",
      "  warnings.warn(warning_msg, ODEintWarning)\n",
      "C:\\Users\\UserALai\\miniconda3\\lib\\site-packages\\scipy\\integrate\\_odepack_py.py:247: ODEintWarning: Excess work done on this call (perhaps wrong Dfun type). Run with full_output = 1 to get quantitative information.\n",
      "  warnings.warn(warning_msg, ODEintWarning)\n",
      "C:\\Users\\UserALai\\miniconda3\\lib\\site-packages\\scipy\\integrate\\_odepack_py.py:247: ODEintWarning: Excess work done on this call (perhaps wrong Dfun type). Run with full_output = 1 to get quantitative information.\n",
      "  warnings.warn(warning_msg, ODEintWarning)\n",
      "C:\\Users\\UserALai\\miniconda3\\lib\\site-packages\\scipy\\integrate\\_odepack_py.py:247: ODEintWarning: Excess work done on this call (perhaps wrong Dfun type). Run with full_output = 1 to get quantitative information.\n",
      "  warnings.warn(warning_msg, ODEintWarning)\n",
      "C:\\Users\\UserALai\\miniconda3\\lib\\site-packages\\scipy\\integrate\\_odepack_py.py:247: ODEintWarning: Excess work done on this call (perhaps wrong Dfun type). Run with full_output = 1 to get quantitative information.\n",
      "  warnings.warn(warning_msg, ODEintWarning)\n",
      "C:\\Users\\UserALai\\miniconda3\\lib\\site-packages\\scipy\\integrate\\_odepack_py.py:247: ODEintWarning: Excess work done on this call (perhaps wrong Dfun type). Run with full_output = 1 to get quantitative information.\n",
      "  warnings.warn(warning_msg, ODEintWarning)\n",
      "C:\\Users\\UserALai\\miniconda3\\lib\\site-packages\\scipy\\integrate\\_odepack_py.py:247: ODEintWarning: Excess work done on this call (perhaps wrong Dfun type). Run with full_output = 1 to get quantitative information.\n",
      "  warnings.warn(warning_msg, ODEintWarning)\n",
      "C:\\Users\\UserALai\\miniconda3\\lib\\site-packages\\scipy\\integrate\\_odepack_py.py:247: ODEintWarning: Excess work done on this call (perhaps wrong Dfun type). Run with full_output = 1 to get quantitative information.\n",
      "  warnings.warn(warning_msg, ODEintWarning)\n",
      "C:\\Users\\UserALai\\miniconda3\\lib\\site-packages\\scipy\\integrate\\_odepack_py.py:247: ODEintWarning: Excess work done on this call (perhaps wrong Dfun type). Run with full_output = 1 to get quantitative information.\n",
      "  warnings.warn(warning_msg, ODEintWarning)\n"
     ]
    },
    {
     "name": "stdout",
     "output_type": "stream",
     "text": [
      "0.46688888888888885\n",
      "(u)' = -2.845 1/(1 + u^1) + -0.908 1/(1 + v^1) + -4.896 1/(1 + u^2) + -8.258 1/(1 + v^2) + 19.203 1/(1 + u^3) + 7.200 1/(1 + v^3) + 7.726 1/(1 + u^4) + 7.648 1/(1 + v^4) + -17.777 1/(1 + u^5) + -7.460 1/(1 + v^5)\n",
      "(v)' = 5.145 1/(1 + u^1) + -1.894 1/(1 + v^1) + 11.034 1/(1 + u^2) + -31.113 1/(1 + u^3) + 6.635 1/(1 + v^3) + -11.604 1/(1 + u^4) + -2.714 1/(1 + v^4) + 26.130 1/(1 + u^5) + -1.567 1/(1 + v^5)\n",
      "0.5334444444444444\n",
      "(u)' = -0.591 u + 1.453 1/(1 + u^1) + -2.051 1/(1 + v^1) + 7.054 1/(1 + u^2) + 9.294 1/(1 + v^2) + -9.654 1/(1 + u^3) + 8.744 1/(1 + v^3) + -9.687 1/(1 + u^4) + -9.225 1/(1 + v^4) + 8.827 1/(1 + u^5) + -4.323 1/(1 + v^5)\n",
      "(v)' = -2.526 1/(1 + v^1) + -0.589 1/(1 + u^2) + -0.700 1/(1 + v^2) + 1.540 1/(1 + u^3) + 9.974 1/(1 + v^3) + 1.104 1/(1 + u^4) + -2.167 1/(1 + v^4) + -2.571 1/(1 + u^5) + -3.990 1/(1 + v^5)\n",
      "0.6\n",
      "(u)' = -3.692 1/(1 + u^1) + -3.451 1/(1 + v^1) + -15.780 1/(1 + u^2) + 3.649 1/(1 + v^2) + 29.833 1/(1 + u^3) + 20.881 1/(1 + v^3) + 18.620 1/(1 + u^4) + -1.267 1/(1 + v^4) + -31.254 1/(1 + u^5) + -17.549 1/(1 + v^5)\n",
      "(v)' = 2.644 1/(1 + u^1) + -2.729 1/(1 + v^1) + 15.029 1/(1 + u^2) + -16.666 1/(1 + v^2) + -15.623 1/(1 + u^3) + 21.533 1/(1 + v^3) + -12.567 1/(1 + u^4) + 17.827 1/(1 + v^4) + 12.835 1/(1 + u^5) + -22.340 1/(1 + v^5)\n",
      "[0.001      0.06755556 0.13411111 0.20066667 0.26722222 0.33377778\n",
      " 0.40033333 0.46688889 0.53344444 0.6       ]\n",
      "[5.156370556530326, 0.15820104241157523, 0.1701337923519542, 0.2784995172524075, 1.6270955478999027, 2.6157481899087975, 0.6249790869408143, 3.1223680506009086, 4.129585877975404, 228.53803438986145]\n",
      "0.001\n",
      "(u)' = -1.138 u + 7.061 1/(1 + u^1) + 1.520 1/(1 + v^1) + -11.712 1/(1 + u^2) + -1.014 1/(1 + v^2) + 11.202 1/(1 + u^4) + -5.709 1/(1 + u^5)\n",
      "(v)' = -1.275 v + 5.738 1/(1 + u^1) + -0.836 1/(1 + v^1) + -7.376 1/(1 + u^2) + 8.723 1/(1 + v^3) + 8.341 1/(1 + u^4) + -15.323 1/(1 + v^4) + -4.465 1/(1 + u^5) + 6.843 1/(1 + v^5)\n",
      "0.06755555555555555\n",
      "(u)' = -1.106 u + 2.348 1/(1 + u^1) + 13.830 1/(1 + u^2) + 44.837 1/(1 + v^2) + -52.483 1/(1 + u^3) + -145.827 1/(1 + v^3) + 55.239 1/(1 + u^4) + 165.102 1/(1 + v^4) + -18.572 1/(1 + u^5) + -63.042 1/(1 + v^5)\n",
      "(v)' = -1.084 v + -0.620 1/(1 + u^1) + 1.230 1/(1 + v^1) + 4.641 1/(1 + u^2) + 3.622 1/(1 + v^2) + -10.065 1/(1 + u^3) + -4.427 1/(1 + v^3) + 7.065 1/(1 + u^4) + -1.743 1/(1 + v^4) + -0.093 1/(1 + u^5) + 1.650 1/(1 + v^5)\n",
      "0.1341111111111111\n",
      "(u)' = -1.104 u + 0.764 v + -1.450 1/(1 + u^1) + 4.515 1/(1 + v^1) + -6.965 1/(1 + u^2) + 7.050 1/(1 + u^3) + -29.952 1/(1 + v^3) + 1.415 1/(1 + u^4) + 50.776 1/(1 + v^4) + -2.337 1/(1 + u^5) + -23.133 1/(1 + v^5)\n",
      "(v)' = -0.904 v + 4.080 1/(1 + u^2) + 10.559 1/(1 + v^2) + -6.432 1/(1 + u^3) + -5.926 1/(1 + v^3) + 3.258 1/(1 + u^4) + -16.875 1/(1 + v^4) + 12.677 1/(1 + v^5)\n",
      "0.20066666666666666\n",
      "(u)' = -1.273 u + 0.666 v + -1.380 1/(1 + u^1) + 1.030 1/(1 + v^1) + 3.955 1/(1 + u^2) + 2.501 1/(1 + v^2) + -1.735 1/(1 + u^3) + -1.769 1/(1 + v^3) + -11.811 1/(1 + u^4) + 1.906 1/(1 + v^4) + 9.287 1/(1 + u^5) + -1.366 1/(1 + v^5)\n",
      "(v)' = -8.215 1/(1 + v^2) + -0.549 1/(1 + u^3) + 5.749 1/(1 + v^3) + 15.056 1/(1 + v^4) + 0.696 1/(1 + u^5) + -13.033 1/(1 + v^5)\n",
      "0.2672222222222222\n",
      "(u)' = -3.746 1/(1 + v^1) + -3.253 1/(1 + u^2) + 5.779 1/(1 + u^3) + 11.296 1/(1 + v^3) + 7.496 1/(1 + u^4) + -8.234 1/(1 + v^4) + -9.636 1/(1 + u^5)\n",
      "(v)' = -3.759 1/(1 + u^1) + -4.173 1/(1 + v^1) + -3.971 1/(1 + u^2) + -9.395 1/(1 + v^2) + 18.938 1/(1 + u^3) + 20.223 1/(1 + v^3) + 2.215 1/(1 + u^4) + 5.134 1/(1 + v^4) + -12.768 1/(1 + u^5) + -12.882 1/(1 + v^5)\n"
     ]
    },
    {
     "name": "stderr",
     "output_type": "stream",
     "text": [
      "C:\\Users\\UserALai\\miniconda3\\lib\\site-packages\\scipy\\integrate\\_odepack_py.py:247: ODEintWarning: Excess work done on this call (perhaps wrong Dfun type). Run with full_output = 1 to get quantitative information.\n",
      "  warnings.warn(warning_msg, ODEintWarning)\n",
      "C:\\Users\\UserALai\\miniconda3\\lib\\site-packages\\scipy\\integrate\\_odepack_py.py:247: ODEintWarning: Excess work done on this call (perhaps wrong Dfun type). Run with full_output = 1 to get quantitative information.\n",
      "  warnings.warn(warning_msg, ODEintWarning)\n",
      "C:\\Users\\UserALai\\miniconda3\\lib\\site-packages\\scipy\\integrate\\_odepack_py.py:247: ODEintWarning: Excess work done on this call (perhaps wrong Dfun type). Run with full_output = 1 to get quantitative information.\n",
      "  warnings.warn(warning_msg, ODEintWarning)\n",
      "C:\\Users\\UserALai\\miniconda3\\lib\\site-packages\\scipy\\integrate\\_odepack_py.py:247: ODEintWarning: Excess work done on this call (perhaps wrong Dfun type). Run with full_output = 1 to get quantitative information.\n",
      "  warnings.warn(warning_msg, ODEintWarning)\n",
      "C:\\Users\\UserALai\\miniconda3\\lib\\site-packages\\scipy\\integrate\\_odepack_py.py:247: ODEintWarning: Excess work done on this call (perhaps wrong Dfun type). Run with full_output = 1 to get quantitative information.\n",
      "  warnings.warn(warning_msg, ODEintWarning)\n",
      "C:\\Users\\UserALai\\miniconda3\\lib\\site-packages\\scipy\\integrate\\_odepack_py.py:247: ODEintWarning: Excess work done on this call (perhaps wrong Dfun type). Run with full_output = 1 to get quantitative information.\n",
      "  warnings.warn(warning_msg, ODEintWarning)\n",
      "C:\\Users\\UserALai\\miniconda3\\lib\\site-packages\\scipy\\integrate\\_odepack_py.py:247: ODEintWarning: Excess work done on this call (perhaps wrong Dfun type). Run with full_output = 1 to get quantitative information.\n",
      "  warnings.warn(warning_msg, ODEintWarning)\n",
      "C:\\Users\\UserALai\\miniconda3\\lib\\site-packages\\scipy\\integrate\\_odepack_py.py:247: ODEintWarning: Excess work done on this call (perhaps wrong Dfun type). Run with full_output = 1 to get quantitative information.\n",
      "  warnings.warn(warning_msg, ODEintWarning)\n",
      "C:\\Users\\UserALai\\miniconda3\\lib\\site-packages\\scipy\\integrate\\_odepack_py.py:247: ODEintWarning: Excess work done on this call (perhaps wrong Dfun type). Run with full_output = 1 to get quantitative information.\n",
      "  warnings.warn(warning_msg, ODEintWarning)\n",
      "C:\\Users\\UserALai\\miniconda3\\lib\\site-packages\\scipy\\integrate\\_odepack_py.py:247: ODEintWarning: Excess work done on this call (perhaps wrong Dfun type). Run with full_output = 1 to get quantitative information.\n",
      "  warnings.warn(warning_msg, ODEintWarning)\n",
      "C:\\Users\\UserALai\\miniconda3\\lib\\site-packages\\scipy\\integrate\\_odepack_py.py:247: ODEintWarning: Excess work done on this call (perhaps wrong Dfun type). Run with full_output = 1 to get quantitative information.\n",
      "  warnings.warn(warning_msg, ODEintWarning)\n",
      "C:\\Users\\UserALai\\miniconda3\\lib\\site-packages\\scipy\\integrate\\_odepack_py.py:247: ODEintWarning: Excess work done on this call (perhaps wrong Dfun type). Run with full_output = 1 to get quantitative information.\n",
      "  warnings.warn(warning_msg, ODEintWarning)\n",
      "C:\\Users\\UserALai\\miniconda3\\lib\\site-packages\\scipy\\integrate\\_odepack_py.py:247: ODEintWarning: Excess work done on this call (perhaps wrong Dfun type). Run with full_output = 1 to get quantitative information.\n",
      "  warnings.warn(warning_msg, ODEintWarning)\n",
      "C:\\Users\\UserALai\\miniconda3\\lib\\site-packages\\scipy\\integrate\\_odepack_py.py:247: ODEintWarning: Excess work done on this call (perhaps wrong Dfun type). Run with full_output = 1 to get quantitative information.\n",
      "  warnings.warn(warning_msg, ODEintWarning)\n",
      "C:\\Users\\UserALai\\miniconda3\\lib\\site-packages\\scipy\\integrate\\_odepack_py.py:247: ODEintWarning: Excess work done on this call (perhaps wrong Dfun type). Run with full_output = 1 to get quantitative information.\n",
      "  warnings.warn(warning_msg, ODEintWarning)\n",
      "C:\\Users\\UserALai\\miniconda3\\lib\\site-packages\\scipy\\integrate\\_odepack_py.py:247: ODEintWarning: Excess work done on this call (perhaps wrong Dfun type). Run with full_output = 1 to get quantitative information.\n",
      "  warnings.warn(warning_msg, ODEintWarning)\n",
      "C:\\Users\\UserALai\\miniconda3\\lib\\site-packages\\scipy\\integrate\\_odepack_py.py:247: ODEintWarning: Excess work done on this call (perhaps wrong Dfun type). Run with full_output = 1 to get quantitative information.\n",
      "  warnings.warn(warning_msg, ODEintWarning)\n",
      "C:\\Users\\UserALai\\miniconda3\\lib\\site-packages\\scipy\\integrate\\_odepack_py.py:247: ODEintWarning: Excess work done on this call (perhaps wrong Dfun type). Run with full_output = 1 to get quantitative information.\n",
      "  warnings.warn(warning_msg, ODEintWarning)\n"
     ]
    },
    {
     "name": "stdout",
     "output_type": "stream",
     "text": [
      "0.33377777777777773\n",
      "(u)' = -1.947 1/(1 + u^1) + 3.164 1/(1 + v^1) + -10.059 1/(1 + u^2) + 3.278 1/(1 + v^2) + 15.752 1/(1 + u^3) + -16.116 1/(1 + v^3) + 12.150 1/(1 + u^4) + -0.993 1/(1 + v^4) + -16.515 1/(1 + u^5) + 10.994 1/(1 + v^5)\n",
      "(v)' = -2.517 1/(1 + u^1) + 10.735 1/(1 + u^3) + -2.825 1/(1 + u^4) + -5.309 1/(1 + u^5)\n"
     ]
    },
    {
     "name": "stderr",
     "output_type": "stream",
     "text": [
      "C:\\Users\\UserALai\\miniconda3\\lib\\site-packages\\scipy\\integrate\\_odepack_py.py:247: ODEintWarning: Excess work done on this call (perhaps wrong Dfun type). Run with full_output = 1 to get quantitative information.\n",
      "  warnings.warn(warning_msg, ODEintWarning)\n",
      "C:\\Users\\UserALai\\miniconda3\\lib\\site-packages\\scipy\\integrate\\_odepack_py.py:247: ODEintWarning: Excess work done on this call (perhaps wrong Dfun type). Run with full_output = 1 to get quantitative information.\n",
      "  warnings.warn(warning_msg, ODEintWarning)\n"
     ]
    },
    {
     "name": "stdout",
     "output_type": "stream",
     "text": [
      "0.4003333333333333\n",
      "(u)' = -2.740 1/(1 + u^2) + -2.580 1/(1 + v^2) + 7.557 1/(1 + u^3) + -2.544 1/(1 + v^3) + 8.427 1/(1 + u^4) + -12.595 1/(1 + u^5) + 4.179 1/(1 + v^5)\n",
      "(v)' = -0.860 1/(1 + u^1) + 2.725 1/(1 + v^1) + -5.635 1/(1 + u^2) + 1.416 1/(1 + v^2) + 9.634 1/(1 + u^3) + -13.941 1/(1 + v^3) + 8.516 1/(1 + u^4) + -11.758 1/(1 + u^5) + 9.575 1/(1 + v^5)\n",
      "0.46688888888888885\n",
      "(u)' = 5.146 1/(1 + v^1) + 8.198 1/(1 + u^2) + 4.688 1/(1 + v^2) + -3.843 1/(1 + u^3) + -23.784 1/(1 + v^3) + -9.969 1/(1 + u^4) + -0.867 1/(1 + v^4) + 6.378 1/(1 + u^5) + 13.939 1/(1 + v^5)\n",
      "(v)' = -0.668 v + 5.544 1/(1 + v^2) + -1.341 1/(1 + u^3) + 6.367 1/(1 + v^3) + -1.468 1/(1 + v^4) + 2.216 1/(1 + u^5) + -10.624 1/(1 + v^5)\n",
      "0.5334444444444444\n",
      "(u)' = -0.888 1/(1 + u^1) + -2.435 1/(1 + v^1) + 9.588 1/(1 + u^2) + -10.542 1/(1 + v^2) + 16.536 1/(1 + v^3) + -10.913 1/(1 + u^4) + 9.436 1/(1 + v^4) + 4.444 1/(1 + u^5) + -15.361 1/(1 + v^5)\n",
      "(v)' = -2.406 1/(1 + u^1) + -4.898 1/(1 + v^1) + -5.224 1/(1 + u^2) + -4.000 1/(1 + v^2) + 15.967 1/(1 + u^3) + 23.388 1/(1 + v^3) + 6.304 1/(1 + u^4) + -14.585 1/(1 + u^5) + -14.510 1/(1 + v^5)\n"
     ]
    },
    {
     "name": "stderr",
     "output_type": "stream",
     "text": [
      "C:\\Users\\UserALai\\miniconda3\\lib\\site-packages\\scipy\\integrate\\_odepack_py.py:247: ODEintWarning: Excess work done on this call (perhaps wrong Dfun type). Run with full_output = 1 to get quantitative information.\n",
      "  warnings.warn(warning_msg, ODEintWarning)\n"
     ]
    },
    {
     "name": "stdout",
     "output_type": "stream",
     "text": [
      "0.6\n",
      "(u)' = 0.520 v + -6.015 1/(1 + u^1) + -1.044 1/(1 + v^1) + -15.532 1/(1 + u^2) + 9.538 1/(1 + v^2) + 30.290 1/(1 + u^3) + 7.779 1/(1 + u^4) + -10.300 1/(1 + v^4) + -20.420 1/(1 + u^5) + 5.236 1/(1 + v^5)\n",
      "(v)' = -2.013 1/(1 + u^1) + 2.449 1/(1 + v^1) + -10.630 1/(1 + u^2) + 13.293 1/(1 + v^2) + 13.601 1/(1 + u^3) + -16.868 1/(1 + v^3) + 9.676 1/(1 + u^4) + -13.009 1/(1 + v^4) + -12.601 1/(1 + u^5) + 15.870 1/(1 + v^5)\n",
      "[0.001      0.06755556 0.13411111 0.20066667 0.26722222 0.33377778\n",
      " 0.40033333 0.46688889 0.53344444 0.6       ]\n",
      "[0.003172038874047902, 0.05399418780034494, 0.11202280979680043, 0.3263098472781715, 7.277433387658719, 3.7452658290990857, 6.094850785579832, 39.62366194613697, 3.1007263076870926, 369.54887468004637]\n",
      "0.001\n",
      "(u)' = -1.210 u + 12.919 1/(1 + u^1) + -6.431 1/(1 + v^1) + -27.282 1/(1 + u^2) + 27.103 1/(1 + v^2) + 24.776 1/(1 + u^3) + -44.473 1/(1 + v^3) + -10.442 1/(1 + u^4) + 30.672 1/(1 + v^4) + 1.757 1/(1 + u^5) + -7.131 1/(1 + v^5)\n",
      "(v)' = -1.163 v + -3.955 1/(1 + u^1) + 30.440 1/(1 + u^2) + -63.796 1/(1 + u^3) + 4.912 1/(1 + v^3) + 56.318 1/(1 + u^4) + -9.156 1/(1 + v^4) + -17.472 1/(1 + u^5) + 4.111 1/(1 + v^5)\n",
      "0.06755555555555555\n",
      "(u)' = -1.420 u + -5.125 1/(1 + u^2) + 32.493 1/(1 + v^2) + 27.133 1/(1 + u^3) + -74.921 1/(1 + v^3) + -50.924 1/(1 + u^4) + 66.894 1/(1 + v^4) + 27.797 1/(1 + u^5) + -21.465 1/(1 + v^5)\n",
      "(v)' = -0.619 v + -3.210 1/(1 + u^1) + 1.375 1/(1 + v^1) + -13.978 1/(1 + u^2) + 8.056 1/(1 + v^2) + 61.296 1/(1 + u^3) + -11.552 1/(1 + v^3) + -79.026 1/(1 + u^4) + 34.120 1/(1 + u^5) + 3.444 1/(1 + v^5)\n",
      "0.1341111111111111\n",
      "(u)' = -1.791 u + 1.062 v + -2.157 1/(1 + u^1) + 4.585 1/(1 + v^1) + 4.946 1/(1 + u^2) + -0.800 1/(1 + v^2) + -2.879 1/(1 + u^3) + -11.303 1/(1 + v^3) + -12.069 1/(1 + u^4) + 22.045 1/(1 + v^4) + 9.587 1/(1 + u^5) + -11.064 1/(1 + v^5)\n",
      "(v)' = -2.442 1/(1 + v^1) + -6.756 1/(1 + u^2) + 1.110 1/(1 + v^2) + 2.869 1/(1 + u^3) + 13.142 1/(1 + v^3) + 17.261 1/(1 + u^4) + -29.488 1/(1 + v^4) + -13.522 1/(1 + u^5) + 17.301 1/(1 + v^5)\n",
      "0.20066666666666666\n",
      "(u)' = -1.377 u + 0.954 v + -2.887 1/(1 + u^1) + 2.957 1/(1 + v^1) + -8.370 1/(1 + u^2) + 8.577 1/(1 + v^2) + 11.539 1/(1 + u^3) + -12.690 1/(1 + v^3) + 0.956 1/(1 + u^4) + -1.658 1/(1 + v^4) + -4.722 1/(1 + u^5) + 6.595 1/(1 + v^5)\n",
      "(v)' = -1.995 1/(1 + u^1) + -0.722 1/(1 + v^1) + -9.059 1/(1 + u^2) + 2.711 1/(1 + v^2) + 11.671 1/(1 + u^3) + 7.728 1/(1 + u^4) + -2.007 1/(1 + v^4) + -9.265 1/(1 + u^5) + 0.523 1/(1 + v^5)\n"
     ]
    },
    {
     "name": "stderr",
     "output_type": "stream",
     "text": [
      "C:\\Users\\UserALai\\miniconda3\\lib\\site-packages\\scipy\\integrate\\_odepack_py.py:247: ODEintWarning: Excess work done on this call (perhaps wrong Dfun type). Run with full_output = 1 to get quantitative information.\n",
      "  warnings.warn(warning_msg, ODEintWarning)\n",
      "C:\\Users\\UserALai\\miniconda3\\lib\\site-packages\\scipy\\integrate\\_odepack_py.py:247: ODEintWarning: Excess work done on this call (perhaps wrong Dfun type). Run with full_output = 1 to get quantitative information.\n",
      "  warnings.warn(warning_msg, ODEintWarning)\n",
      "C:\\Users\\UserALai\\miniconda3\\lib\\site-packages\\scipy\\integrate\\_odepack_py.py:247: ODEintWarning: Excess work done on this call (perhaps wrong Dfun type). Run with full_output = 1 to get quantitative information.\n",
      "  warnings.warn(warning_msg, ODEintWarning)\n",
      "C:\\Users\\UserALai\\miniconda3\\lib\\site-packages\\scipy\\integrate\\_odepack_py.py:247: ODEintWarning: Excess work done on this call (perhaps wrong Dfun type). Run with full_output = 1 to get quantitative information.\n",
      "  warnings.warn(warning_msg, ODEintWarning)\n",
      "C:\\Users\\UserALai\\miniconda3\\lib\\site-packages\\scipy\\integrate\\_odepack_py.py:247: ODEintWarning: Excess work done on this call (perhaps wrong Dfun type). Run with full_output = 1 to get quantitative information.\n",
      "  warnings.warn(warning_msg, ODEintWarning)\n"
     ]
    },
    {
     "name": "stdout",
     "output_type": "stream",
     "text": [
      "0.2672222222222222\n",
      "(u)' = -4.664 1/(1 + u^2) + -1.180 1/(1 + v^2) + 6.174 1/(1 + u^3) + -0.732 1/(1 + v^3) + 9.036 1/(1 + u^4) + -10.253 1/(1 + u^5) + 1.239 1/(1 + v^5)\n",
      "(v)' = -0.639 1/(1 + v^1) + 1.604 1/(1 + u^2) + -8.393 1/(1 + v^2) + -2.523 1/(1 + u^3) + 11.152 1/(1 + v^3) + -2.888 1/(1 + u^4) + 12.650 1/(1 + v^4) + 4.189 1/(1 + u^5) + -15.403 1/(1 + v^5)\n",
      "0.33377777777777773\n",
      "(u)' = -2.800 1/(1 + u^1) + 1.646 1/(1 + v^1) + -12.848 1/(1 + u^2) + 21.073 1/(1 + u^3) + -3.737 1/(1 + v^3) + 14.840 1/(1 + u^4) + 4.486 1/(1 + v^4) + -21.126 1/(1 + u^5) + -1.991 1/(1 + v^5)\n",
      "(v)' = -1.454 1/(1 + u^1) + -0.797 1/(1 + v^1) + -13.478 1/(1 + u^2) + 7.294 1/(1 + v^2) + 15.380 1/(1 + u^3) + 16.372 1/(1 + u^4) + -9.139 1/(1 + v^4) + -18.358 1/(1 + u^5) + 4.005 1/(1 + v^5)\n",
      "0.4003333333333333\n",
      "(u)' = -2.524 1/(1 + u^1) + 2.957 1/(1 + v^1) + -6.102 1/(1 + u^2) + 5.949 1/(1 + v^2) + 16.446 1/(1 + u^3) + -19.469 1/(1 + v^3) + 6.977 1/(1 + u^4) + -7.366 1/(1 + v^4) + -14.795 1/(1 + u^5) + 17.666 1/(1 + v^5)\n",
      "(v)' = -4.329 1/(1 + u^1) + 1.359 1/(1 + v^1) + -15.995 1/(1 + u^2) + 2.616 1/(1 + v^2) + 34.292 1/(1 + u^3) + -8.653 1/(1 + v^3) + 21.612 1/(1 + u^4) + -3.410 1/(1 + v^4) + -35.534 1/(1 + u^5) + 7.620 1/(1 + v^5)\n"
     ]
    },
    {
     "name": "stderr",
     "output_type": "stream",
     "text": [
      "C:\\Users\\UserALai\\miniconda3\\lib\\site-packages\\scipy\\integrate\\_odepack_py.py:247: ODEintWarning: Excess work done on this call (perhaps wrong Dfun type). Run with full_output = 1 to get quantitative information.\n",
      "  warnings.warn(warning_msg, ODEintWarning)\n",
      "C:\\Users\\UserALai\\miniconda3\\lib\\site-packages\\scipy\\integrate\\_odepack_py.py:247: ODEintWarning: Excess work done on this call (perhaps wrong Dfun type). Run with full_output = 1 to get quantitative information.\n",
      "  warnings.warn(warning_msg, ODEintWarning)\n",
      "C:\\Users\\UserALai\\miniconda3\\lib\\site-packages\\scipy\\integrate\\_odepack_py.py:247: ODEintWarning: Excess work done on this call (perhaps wrong Dfun type). Run with full_output = 1 to get quantitative information.\n",
      "  warnings.warn(warning_msg, ODEintWarning)\n",
      "C:\\Users\\UserALai\\miniconda3\\lib\\site-packages\\scipy\\integrate\\_odepack_py.py:247: ODEintWarning: Excess work done on this call (perhaps wrong Dfun type). Run with full_output = 1 to get quantitative information.\n",
      "  warnings.warn(warning_msg, ODEintWarning)\n",
      "C:\\Users\\UserALai\\miniconda3\\lib\\site-packages\\scipy\\integrate\\_odepack_py.py:247: ODEintWarning: Excess work done on this call (perhaps wrong Dfun type). Run with full_output = 1 to get quantitative information.\n",
      "  warnings.warn(warning_msg, ODEintWarning)\n",
      "C:\\Users\\UserALai\\miniconda3\\lib\\site-packages\\scipy\\integrate\\_odepack_py.py:247: ODEintWarning: Excess work done on this call (perhaps wrong Dfun type). Run with full_output = 1 to get quantitative information.\n",
      "  warnings.warn(warning_msg, ODEintWarning)\n",
      "C:\\Users\\UserALai\\miniconda3\\lib\\site-packages\\scipy\\integrate\\_odepack_py.py:247: ODEintWarning: Excess work done on this call (perhaps wrong Dfun type). Run with full_output = 1 to get quantitative information.\n",
      "  warnings.warn(warning_msg, ODEintWarning)\n",
      "C:\\Users\\UserALai\\miniconda3\\lib\\site-packages\\scipy\\integrate\\_odepack_py.py:247: ODEintWarning: Excess work done on this call (perhaps wrong Dfun type). Run with full_output = 1 to get quantitative information.\n",
      "  warnings.warn(warning_msg, ODEintWarning)\n",
      "C:\\Users\\UserALai\\miniconda3\\lib\\site-packages\\scipy\\integrate\\_odepack_py.py:247: ODEintWarning: Excess work done on this call (perhaps wrong Dfun type). Run with full_output = 1 to get quantitative information.\n",
      "  warnings.warn(warning_msg, ODEintWarning)\n",
      "C:\\Users\\UserALai\\miniconda3\\lib\\site-packages\\scipy\\integrate\\_odepack_py.py:247: ODEintWarning: Excess work done on this call (perhaps wrong Dfun type). Run with full_output = 1 to get quantitative information.\n",
      "  warnings.warn(warning_msg, ODEintWarning)\n",
      "C:\\Users\\UserALai\\miniconda3\\lib\\site-packages\\scipy\\integrate\\_odepack_py.py:247: ODEintWarning: Excess work done on this call (perhaps wrong Dfun type). Run with full_output = 1 to get quantitative information.\n",
      "  warnings.warn(warning_msg, ODEintWarning)\n",
      "C:\\Users\\UserALai\\miniconda3\\lib\\site-packages\\scipy\\integrate\\_odepack_py.py:247: ODEintWarning: Excess work done on this call (perhaps wrong Dfun type). Run with full_output = 1 to get quantitative information.\n",
      "  warnings.warn(warning_msg, ODEintWarning)\n",
      "C:\\Users\\UserALai\\miniconda3\\lib\\site-packages\\scipy\\integrate\\_odepack_py.py:247: ODEintWarning: Excess work done on this call (perhaps wrong Dfun type). Run with full_output = 1 to get quantitative information.\n",
      "  warnings.warn(warning_msg, ODEintWarning)\n"
     ]
    },
    {
     "name": "stdout",
     "output_type": "stream",
     "text": [
      "0.46688888888888885\n",
      "(u)' = 1.791 1/(1 + v^1) + -10.165 1/(1 + u^2) + 11.724 1/(1 + v^2) + 2.755 1/(1 + u^3) + -11.294 1/(1 + v^3) + 10.039 1/(1 + u^4) + -10.170 1/(1 + v^4) + -4.629 1/(1 + u^5) + 9.845 1/(1 + v^5)\n",
      "(v)' = 1.328 1/(1 + u^2) + 0.914 1/(1 + v^2) + -8.836 1/(1 + u^3) + 4.880 1/(1 + v^3) + -7.637 1/(1 + u^4) + 2.820 1/(1 + v^4) + 14.728 1/(1 + u^5) + -8.091 1/(1 + v^5)\n",
      "0.5334444444444444\n",
      "(u)' = 0.718 v + -1.588 1/(1 + u^1) + 0.903 1/(1 + v^1) + -14.000 1/(1 + u^2) + -13.317 1/(1 + v^2) + 26.363 1/(1 + u^3) + -2.674 1/(1 + v^3) + 25.706 1/(1 + u^4) + 13.242 1/(1 + v^4) + -36.033 1/(1 + u^5)\n",
      "(v)' = -0.537 u + 1.424 1/(1 + v^1) + -8.732 1/(1 + u^2) + 7.021 1/(1 + v^2) + 2.332 1/(1 + u^3) + -10.389 1/(1 + v^3) + 9.238 1/(1 + u^4) + -6.741 1/(1 + v^4) + -3.889 1/(1 + u^5) + 10.204 1/(1 + v^5)\n"
     ]
    },
    {
     "name": "stderr",
     "output_type": "stream",
     "text": [
      "C:\\Users\\UserALai\\miniconda3\\lib\\site-packages\\scipy\\integrate\\_odepack_py.py:247: ODEintWarning: Repeated convergence failures (perhaps bad Jacobian or tolerances). Run with full_output = 1 to get quantitative information.\n",
      "  warnings.warn(warning_msg, ODEintWarning)\n",
      "C:\\Users\\UserALai\\miniconda3\\lib\\site-packages\\scipy\\integrate\\_odepack_py.py:247: ODEintWarning: Repeated convergence failures (perhaps bad Jacobian or tolerances). Run with full_output = 1 to get quantitative information.\n",
      "  warnings.warn(warning_msg, ODEintWarning)\n",
      "C:\\Users\\UserALai\\miniconda3\\lib\\site-packages\\scipy\\integrate\\_odepack_py.py:247: ODEintWarning: Repeated convergence failures (perhaps bad Jacobian or tolerances). Run with full_output = 1 to get quantitative information.\n",
      "  warnings.warn(warning_msg, ODEintWarning)\n",
      "C:\\Users\\UserALai\\miniconda3\\lib\\site-packages\\scipy\\integrate\\_odepack_py.py:247: ODEintWarning: Excess work done on this call (perhaps wrong Dfun type). Run with full_output = 1 to get quantitative information.\n",
      "  warnings.warn(warning_msg, ODEintWarning)\n",
      "C:\\Users\\UserALai\\miniconda3\\lib\\site-packages\\scipy\\integrate\\_odepack_py.py:247: ODEintWarning: Excess work done on this call (perhaps wrong Dfun type). Run with full_output = 1 to get quantitative information.\n",
      "  warnings.warn(warning_msg, ODEintWarning)\n",
      "C:\\Users\\UserALai\\miniconda3\\lib\\site-packages\\scipy\\integrate\\_odepack_py.py:247: ODEintWarning: Repeated convergence failures (perhaps bad Jacobian or tolerances). Run with full_output = 1 to get quantitative information.\n",
      "  warnings.warn(warning_msg, ODEintWarning)\n",
      "C:\\Users\\UserALai\\miniconda3\\lib\\site-packages\\scipy\\integrate\\_odepack_py.py:247: ODEintWarning: Excess work done on this call (perhaps wrong Dfun type). Run with full_output = 1 to get quantitative information.\n",
      "  warnings.warn(warning_msg, ODEintWarning)\n",
      "C:\\Users\\UserALai\\miniconda3\\lib\\site-packages\\scipy\\integrate\\_odepack_py.py:247: ODEintWarning: Excess work done on this call (perhaps wrong Dfun type). Run with full_output = 1 to get quantitative information.\n",
      "  warnings.warn(warning_msg, ODEintWarning)\n",
      "C:\\Users\\UserALai\\miniconda3\\lib\\site-packages\\scipy\\integrate\\_odepack_py.py:247: ODEintWarning: Excess work done on this call (perhaps wrong Dfun type). Run with full_output = 1 to get quantitative information.\n",
      "  warnings.warn(warning_msg, ODEintWarning)\n",
      "C:\\Users\\UserALai\\miniconda3\\lib\\site-packages\\scipy\\integrate\\_odepack_py.py:247: ODEintWarning: Repeated convergence failures (perhaps bad Jacobian or tolerances). Run with full_output = 1 to get quantitative information.\n",
      "  warnings.warn(warning_msg, ODEintWarning)\n",
      "C:\\Users\\UserALai\\miniconda3\\lib\\site-packages\\scipy\\integrate\\_odepack_py.py:247: ODEintWarning: Repeated convergence failures (perhaps bad Jacobian or tolerances). Run with full_output = 1 to get quantitative information.\n",
      "  warnings.warn(warning_msg, ODEintWarning)\n",
      "C:\\Users\\UserALai\\miniconda3\\lib\\site-packages\\scipy\\integrate\\_odepack_py.py:247: ODEintWarning: Repeated convergence failures (perhaps bad Jacobian or tolerances). Run with full_output = 1 to get quantitative information.\n",
      "  warnings.warn(warning_msg, ODEintWarning)\n",
      "C:\\Users\\UserALai\\miniconda3\\lib\\site-packages\\scipy\\integrate\\_odepack_py.py:247: ODEintWarning: Repeated convergence failures (perhaps bad Jacobian or tolerances). Run with full_output = 1 to get quantitative information.\n",
      "  warnings.warn(warning_msg, ODEintWarning)\n",
      "C:\\Users\\UserALai\\miniconda3\\lib\\site-packages\\scipy\\integrate\\_odepack_py.py:247: ODEintWarning: Repeated convergence failures (perhaps bad Jacobian or tolerances). Run with full_output = 1 to get quantitative information.\n",
      "  warnings.warn(warning_msg, ODEintWarning)\n",
      "C:\\Users\\UserALai\\miniconda3\\lib\\site-packages\\scipy\\integrate\\_odepack_py.py:247: ODEintWarning: Repeated convergence failures (perhaps bad Jacobian or tolerances). Run with full_output = 1 to get quantitative information.\n",
      "  warnings.warn(warning_msg, ODEintWarning)\n",
      "C:\\Users\\UserALai\\miniconda3\\lib\\site-packages\\scipy\\integrate\\_odepack_py.py:247: ODEintWarning: Repeated convergence failures (perhaps bad Jacobian or tolerances). Run with full_output = 1 to get quantitative information.\n",
      "  warnings.warn(warning_msg, ODEintWarning)\n",
      "C:\\Users\\UserALai\\miniconda3\\lib\\site-packages\\scipy\\integrate\\_odepack_py.py:247: ODEintWarning: Excess work done on this call (perhaps wrong Dfun type). Run with full_output = 1 to get quantitative information.\n",
      "  warnings.warn(warning_msg, ODEintWarning)\n",
      "C:\\Users\\UserALai\\miniconda3\\lib\\site-packages\\scipy\\integrate\\_odepack_py.py:247: ODEintWarning: Repeated convergence failures (perhaps bad Jacobian or tolerances). Run with full_output = 1 to get quantitative information.\n",
      "  warnings.warn(warning_msg, ODEintWarning)\n",
      "C:\\Users\\UserALai\\miniconda3\\lib\\site-packages\\scipy\\integrate\\_odepack_py.py:247: ODEintWarning: Repeated convergence failures (perhaps bad Jacobian or tolerances). Run with full_output = 1 to get quantitative information.\n",
      "  warnings.warn(warning_msg, ODEintWarning)\n",
      "C:\\Users\\UserALai\\miniconda3\\lib\\site-packages\\scipy\\integrate\\_odepack_py.py:247: ODEintWarning: Repeated convergence failures (perhaps bad Jacobian or tolerances). Run with full_output = 1 to get quantitative information.\n",
      "  warnings.warn(warning_msg, ODEintWarning)\n",
      "C:\\Users\\UserALai\\miniconda3\\lib\\site-packages\\scipy\\integrate\\_odepack_py.py:247: ODEintWarning: Repeated convergence failures (perhaps bad Jacobian or tolerances). Run with full_output = 1 to get quantitative information.\n",
      "  warnings.warn(warning_msg, ODEintWarning)\n"
     ]
    },
    {
     "name": "stdout",
     "output_type": "stream",
     "text": [
      "0.6\n",
      "(u)' = 5.971 1/(1 + u^1) + -2.281 1/(1 + v^1) + 21.904 1/(1 + u^2) + -17.579 1/(1 + v^2) + -36.764 1/(1 + u^3) + 21.596 1/(1 + v^3) + -19.566 1/(1 + u^4) + 19.742 1/(1 + v^4) + 31.415 1/(1 + u^5) + -24.576 1/(1 + v^5)\n",
      "(v)' = -3.074 1/(1 + u^1) + 4.036 1/(1 + v^1) + 4.490 1/(1 + v^2) + 14.319 1/(1 + u^3) + -21.570 1/(1 + v^3) + -2.128 1/(1 + u^4) + -3.216 1/(1 + v^4) + -8.471 1/(1 + u^5) + 15.783 1/(1 + v^5)\n",
      "[0.001      0.06755556 0.13411111 0.20066667 0.26722222 0.33377778\n",
      " 0.40033333 0.46688889 0.53344444 0.6       ]\n",
      "[0.022192020296902353, 0.08639278588561046, 0.39958237579073574, 0.5309177129051067, 1.368246639946456, 1.2703652077773853, 1.1836371270395463, 37.71811450227719, 9143603.01042339, 27.212754824562893]\n",
      "0.001\n",
      "(u)' = -1.219 u + 9.496 1/(1 + u^1) + 2.183 1/(1 + v^1) + -19.008 1/(1 + u^2) + 5.579 1/(1 + v^2) + 5.124 1/(1 + u^3) + -25.169 1/(1 + v^3) + 14.648 1/(1 + u^4) + 29.425 1/(1 + v^4) + -9.510 1/(1 + u^5) + -11.241 1/(1 + v^5)\n",
      "(v)' = -1.203 v + 0.770 1/(1 + u^1) + 5.224 1/(1 + v^1) + 11.893 1/(1 + u^2) + -30.339 1/(1 + v^2) + -30.682 1/(1 + u^3) + 71.993 1/(1 + v^3) + 28.610 1/(1 + u^4) + -75.626 1/(1 + v^4) + -8.768 1/(1 + u^5) + 28.447 1/(1 + v^5)\n",
      "0.06755555555555555\n",
      "(u)' = -0.924 u + 2.465 1/(1 + v^1) + -0.172 1/(1 + u^2) + 4.135 1/(1 + v^2) + -5.487 1/(1 + u^3) + -9.452 1/(1 + v^3) + 3.434 1/(1 + u^4) + 4.419 1/(1 + v^4) + 1.555 1/(1 + u^5)\n",
      "(v)' = -1.022 v + 0.769 1/(1 + u^1) + 4.904 1/(1 + v^1) + -15.653 1/(1 + u^2) + 67.778 1/(1 + u^3) + -32.397 1/(1 + v^3) + -99.070 1/(1 + u^4) + 54.024 1/(1 + v^4) + 47.200 1/(1 + u^5) + -26.300 1/(1 + v^5)\n",
      "0.1341111111111111\n",
      "(u)' = -0.579 u + -3.204 1/(1 + u^1) + 2.233 1/(1 + v^1) + 3.395 1/(1 + u^2) + -5.358 1/(1 + v^2) + 12.319 1/(1 + u^3) + -5.323 1/(1 + v^3) + -31.334 1/(1 + u^4) + 26.332 1/(1 + v^4) + 18.548 1/(1 + u^5) + -17.412 1/(1 + v^5)\n",
      "(v)' = 0.757 u + -1.320 v + -1.232 1/(1 + u^1) + -0.839 1/(1 + v^1) + 5.044 1/(1 + u^2) + -2.997 1/(1 + v^2) + 6.775 1/(1 + u^3) + -7.602 1/(1 + v^3) + -20.780 1/(1 + u^4) + 23.910 1/(1 + v^4) + 12.779 1/(1 + u^5) + -14.848 1/(1 + v^5)\n"
     ]
    },
    {
     "name": "stderr",
     "output_type": "stream",
     "text": [
      "C:\\Users\\UserALai\\miniconda3\\lib\\site-packages\\scipy\\integrate\\_odepack_py.py:247: ODEintWarning: Excess work done on this call (perhaps wrong Dfun type). Run with full_output = 1 to get quantitative information.\n",
      "  warnings.warn(warning_msg, ODEintWarning)\n",
      "C:\\Users\\UserALai\\miniconda3\\lib\\site-packages\\scipy\\integrate\\_odepack_py.py:247: ODEintWarning: Excess work done on this call (perhaps wrong Dfun type). Run with full_output = 1 to get quantitative information.\n",
      "  warnings.warn(warning_msg, ODEintWarning)\n",
      "C:\\Users\\UserALai\\miniconda3\\lib\\site-packages\\scipy\\integrate\\_odepack_py.py:247: ODEintWarning: Excess work done on this call (perhaps wrong Dfun type). Run with full_output = 1 to get quantitative information.\n",
      "  warnings.warn(warning_msg, ODEintWarning)\n"
     ]
    },
    {
     "name": "stdout",
     "output_type": "stream",
     "text": [
      "0.20066666666666666\n",
      "(u)' = -0.957 u + 0.581 v + -4.639 1/(1 + u^1) + 6.088 1/(1 + v^1) + -5.861 1/(1 + u^2) + 1.069 1/(1 + v^2) + 20.355 1/(1 + u^3) + -18.710 1/(1 + v^3) + -0.952 1/(1 + u^4) + 13.909 1/(1 + v^4) + -10.898 1/(1 + u^5)\n",
      "(v)' = -0.528 v + -3.941 1/(1 + v^1) + 2.639 1/(1 + u^2) + -2.555 1/(1 + u^3) + 13.336 1/(1 + v^3) + -3.523 1/(1 + u^4) + -5.426 1/(1 + v^4) + 4.195 1/(1 + u^5) + -4.359 1/(1 + v^5)\n"
     ]
    },
    {
     "name": "stderr",
     "output_type": "stream",
     "text": [
      "C:\\Users\\UserALai\\miniconda3\\lib\\site-packages\\scipy\\integrate\\_odepack_py.py:247: ODEintWarning: Excess work done on this call (perhaps wrong Dfun type). Run with full_output = 1 to get quantitative information.\n",
      "  warnings.warn(warning_msg, ODEintWarning)\n"
     ]
    },
    {
     "name": "stdout",
     "output_type": "stream",
     "text": [
      "0.2672222222222222\n",
      "(u)' = -1.177 u + 1.284 v + -1.727 1/(1 + u^1) + 0.780 1/(1 + v^1) + -1.255 1/(1 + u^2) + -3.809 1/(1 + v^2) + 3.916 1/(1 + u^3) + 1.660 1/(1 + v^3) + -5.768 1/(1 + u^4) + 10.345 1/(1 + v^4) + 2.106 1/(1 + u^5) + -6.704 1/(1 + v^5)\n",
      "(v)' = -1.931 1/(1 + u^1) + -1.252 1/(1 + v^1) + -0.830 1/(1 + v^2) + 5.792 1/(1 + u^3) + 3.764 1/(1 + v^3) + -3.664 1/(1 + u^4) + -2.019 1/(1 + v^4)\n",
      "0.33377777777777773\n",
      "(u)' = -3.432 1/(1 + u^1) + 1.057 1/(1 + v^1) + -2.927 1/(1 + u^2) + -3.183 1/(1 + v^2) + 15.410 1/(1 + u^3) + -3.167 1/(1 + v^3) + 4.523 1/(1 + v^4) + -8.513 1/(1 + u^5)\n",
      "(v)' = 2.846 1/(1 + u^1) + -3.084 1/(1 + v^1) + 1.396 1/(1 + u^2) + 2.207 1/(1 + v^2) + -19.058 1/(1 + u^3) + 9.289 1/(1 + v^3) + -3.272 1/(1 + u^4) + -7.918 1/(1 + v^4) + 17.524 1/(1 + u^5)\n",
      "0.4003333333333333\n",
      "(u)' = -0.530 u + 0.836 v + -1.637 1/(1 + u^1) + -1.897 1/(1 + v^1) + -13.486 1/(1 + u^2) + 2.830 1/(1 + v^2) + 11.490 1/(1 + u^3) + 9.528 1/(1 + v^3) + 10.847 1/(1 + u^4) + -1.003 1/(1 + v^4) + -10.959 1/(1 + u^5) + -6.395 1/(1 + v^5)\n",
      "(v)' = -3.061 1/(1 + u^1) + -4.015 1/(1 + v^1) + -6.270 1/(1 + v^2) + 19.945 1/(1 + u^3) + 12.674 1/(1 + v^3) + 2.903 1/(1 + u^4) + -3.067 1/(1 + v^4) + -17.929 1/(1 + u^5) + -1.043 1/(1 + v^5)\n",
      "0.46688888888888885\n",
      "(u)' = -2.162 1/(1 + u^1) + -1.889 1/(1 + v^1) + -0.850 1/(1 + u^2) + -4.677 1/(1 + v^2) + 15.263 1/(1 + u^3) + 8.340 1/(1 + v^3) + 3.857 1/(1 + u^4) + 1.041 1/(1 + v^4) + -14.604 1/(1 + u^5) + -4.467 1/(1 + v^5)\n",
      "(v)' = -3.371 1/(1 + u^1) + 2.521 1/(1 + v^1) + -6.649 1/(1 + u^2) + 6.632 1/(1 + v^2) + 13.992 1/(1 + u^3) + -15.316 1/(1 + v^3) + 2.213 1/(1 + u^4) + -6.434 1/(1 + v^4) + -6.442 1/(1 + u^5) + 12.920 1/(1 + v^5)\n"
     ]
    },
    {
     "name": "stderr",
     "output_type": "stream",
     "text": [
      "C:\\Users\\UserALai\\miniconda3\\lib\\site-packages\\scipy\\integrate\\_odepack_py.py:247: ODEintWarning: Excess work done on this call (perhaps wrong Dfun type). Run with full_output = 1 to get quantitative information.\n",
      "  warnings.warn(warning_msg, ODEintWarning)\n",
      "C:\\Users\\UserALai\\miniconda3\\lib\\site-packages\\scipy\\integrate\\_odepack_py.py:247: ODEintWarning: Excess work done on this call (perhaps wrong Dfun type). Run with full_output = 1 to get quantitative information.\n",
      "  warnings.warn(warning_msg, ODEintWarning)\n",
      "C:\\Users\\UserALai\\miniconda3\\lib\\site-packages\\scipy\\integrate\\_odepack_py.py:247: ODEintWarning: Excess work done on this call (perhaps wrong Dfun type). Run with full_output = 1 to get quantitative information.\n",
      "  warnings.warn(warning_msg, ODEintWarning)\n",
      "C:\\Users\\UserALai\\miniconda3\\lib\\site-packages\\scipy\\integrate\\_odepack_py.py:247: ODEintWarning: Excess work done on this call (perhaps wrong Dfun type). Run with full_output = 1 to get quantitative information.\n",
      "  warnings.warn(warning_msg, ODEintWarning)\n",
      "C:\\Users\\UserALai\\miniconda3\\lib\\site-packages\\scipy\\integrate\\_odepack_py.py:247: ODEintWarning: Excess work done on this call (perhaps wrong Dfun type). Run with full_output = 1 to get quantitative information.\n",
      "  warnings.warn(warning_msg, ODEintWarning)\n"
     ]
    },
    {
     "name": "stdout",
     "output_type": "stream",
     "text": [
      "0.5334444444444444\n",
      "(u)' = 1.011 1/(1 + u^1) + 3.225 1/(1 + u^2) + 3.611 1/(1 + v^2) + -6.497 1/(1 + u^3) + -8.495 1/(1 + v^3) + -3.508 1/(1 + u^4) + -9.086 1/(1 + v^4) + 5.780 1/(1 + u^5) + 14.138 1/(1 + v^5)\n",
      "(v)' = -0.558 1/(1 + u^1) + 4.889 1/(1 + v^1) + -7.048 1/(1 + u^2) + 4.661 1/(1 + v^2) + 6.344 1/(1 + u^3) + -23.745 1/(1 + v^3) + 8.554 1/(1 + u^4) + -0.740 1/(1 + v^4) + -7.771 1/(1 + u^5) + 15.146 1/(1 + v^5)\n",
      "0.6\n",
      "(u)' = -4.241 1/(1 + u^1) + 2.780 1/(1 + v^1) + -4.494 1/(1 + u^2) + 12.010 1/(1 + v^2) + 24.012 1/(1 + u^3) + -17.311 1/(1 + v^3) + 2.276 1/(1 + u^4) + -11.419 1/(1 + v^4) + -18.815 1/(1 + u^5) + 14.949 1/(1 + v^5)\n",
      "(v)' = 0.586 1/(1 + v^1) + -15.424 1/(1 + u^2) + 5.213 1/(1 + v^2) + 8.053 1/(1 + u^3) + 2.779 1/(1 + v^3) + 19.416 1/(1 + u^4) + -13.432 1/(1 + u^5) + -7.543 1/(1 + v^5)\n",
      "[0.001      0.06755556 0.13411111 0.20066667 0.26722222 0.33377778\n",
      " 0.40033333 0.46688889 0.53344444 0.6       ]\n",
      "[0.013699330778796228, 0.10402941676872351, 0.06005624116409813, 0.12565347017962028, 1.527881198211782, 1.8731718702952007, 1.7499045478109734, 18.98489915519446, 27.70083317844996, 26.614771452953182]\n",
      "0.001\n",
      "(u)' = -1.216 u + 3.177 1/(1 + u^1) + 3.844 1/(1 + v^1) + 12.472 1/(1 + u^2) + -9.858 1/(1 + v^2) + -52.209 1/(1 + u^3) + 10.196 1/(1 + v^3) + 61.691 1/(1 + u^4) + -3.436 1/(1 + v^4) + -24.129 1/(1 + u^5) + -0.231 1/(1 + v^5)\n",
      "(v)' = -1.114 v + 10.797 1/(1 + u^1) + -36.466 1/(1 + u^2) + -15.272 1/(1 + v^2) + 71.712 1/(1 + u^3) + 53.889 1/(1 + v^3) + -73.028 1/(1 + u^4) + -67.786 1/(1 + v^4) + 29.181 1/(1 + u^5) + 28.317 1/(1 + v^5)\n",
      "0.06755555555555555\n",
      "(u)' = -1.238 u + 3.772 1/(1 + u^1) + 7.524 1/(1 + v^1) + -9.802 1/(1 + v^2) + -23.154 1/(1 + u^3) + 4.209 1/(1 + v^3) + 29.617 1/(1 + u^4) + -10.462 1/(1 + u^5)\n",
      "(v)' = -0.818 v + 2.383 1/(1 + u^1) + -2.854 1/(1 + v^1) + -11.113 1/(1 + u^2) + 3.314 1/(1 + v^2) + 23.488 1/(1 + u^3) + 14.026 1/(1 + v^3) + -22.624 1/(1 + u^4) + -21.964 1/(1 + v^4) + 8.839 1/(1 + u^5) + 7.446 1/(1 + v^5)\n",
      "0.1341111111111111\n",
      "(u)' = -1.135 u + 0.999 v + -3.700 1/(1 + u^1) + 1.636 1/(1 + u^2) + -1.022 1/(1 + v^2) + 13.389 1/(1 + u^3) + 0.814 1/(1 + v^3) + -24.042 1/(1 + u^4) + 3.718 1/(1 + v^4) + 11.084 1/(1 + u^5) + -2.262 1/(1 + v^5)\n",
      "(v)' = 0.634 1/(1 + u^1) + 1.623 1/(1 + v^1) + -10.707 1/(1 + u^2) + -11.157 1/(1 + v^2) + 11.138 1/(1 + u^3) + -2.748 1/(1 + v^3) + 14.820 1/(1 + u^4) + 30.430 1/(1 + v^4) + -15.712 1/(1 + u^5) + -18.937 1/(1 + v^5)\n",
      "0.20066666666666666\n",
      "(u)' = -1.038 u + 1.003 v + -1.611 1/(1 + u^1) + -5.244 1/(1 + u^2) + -5.301 1/(1 + v^2) + 5.324 1/(1 + u^3) + 6.461 1/(1 + v^3) + 13.360 1/(1 + v^4) + -0.984 1/(1 + u^5) + -12.523 1/(1 + v^5)\n",
      "(v)' = 0.807 u + -0.993 v + -3.515 1/(1 + v^1) + -7.883 1/(1 + u^2) + 4.381 1/(1 + v^2) + 6.378 1/(1 + u^3) + 5.908 1/(1 + v^3) + 13.254 1/(1 + u^4) + -15.522 1/(1 + v^4) + -10.504 1/(1 + u^5) + 7.273 1/(1 + v^5)\n",
      "0.2672222222222222\n",
      "(u)' = -2.349 1/(1 + u^1) + 2.853 1/(1 + v^1) + -7.692 1/(1 + u^2) + 4.691 1/(1 + v^2) + 14.698 1/(1 + u^3) + -14.825 1/(1 + v^3) + 7.702 1/(1 + u^4) + -2.753 1/(1 + v^4) + -12.793 1/(1 + u^5) + 10.245 1/(1 + v^5)\n",
      "(v)' = -1.682 1/(1 + u^1) + -3.710 1/(1 + v^1) + -1.227 1/(1 + u^2) + -14.210 1/(1 + v^2) + 8.141 1/(1 + u^3) + 22.148 1/(1 + v^3) + 0.808 1/(1 + u^4) + 12.558 1/(1 + v^4) + -5.159 1/(1 + u^5) + -18.270 1/(1 + v^5)\n",
      "0.33377777777777773\n",
      "(u)' = -2.728 1/(1 + u^1) + 0.995 1/(1 + v^1) + -16.162 1/(1 + u^2) + 4.911 1/(1 + v^2) + 23.088 1/(1 + u^3) + -5.563 1/(1 + v^3) + 18.794 1/(1 + u^4) + -3.120 1/(1 + v^4) + -24.870 1/(1 + u^5) + 4.352 1/(1 + v^5)\n",
      "(v)' = 0.586 v + -0.800 1/(1 + u^1) + -7.505 1/(1 + u^2) + -10.777 1/(1 + v^2) + 7.573 1/(1 + u^3) + 7.177 1/(1 + v^3) + 7.652 1/(1 + u^4) + 16.079 1/(1 + v^4) + -8.631 1/(1 + u^5) + -12.002 1/(1 + v^5)\n",
      "0.4003333333333333\n",
      "(u)' = -2.064 1/(1 + u^1) + -1.132 1/(1 + v^1) + -3.200 1/(1 + u^2) + -7.904 1/(1 + v^2) + 13.119 1/(1 + u^3) + 11.760 1/(1 + v^3) + 3.901 1/(1 + u^4) + 10.621 1/(1 + v^4) + -11.501 1/(1 + u^5) + -13.933 1/(1 + v^5)\n",
      "(v)' = -1.520 1/(1 + u^1) + -10.007 1/(1 + u^2) + 0.976 1/(1 + v^2) + 9.416 1/(1 + u^3) + -4.297 1/(1 + v^3) + 9.815 1/(1 + u^4) + -3.602 1/(1 + v^4) + -8.083 1/(1 + u^5) + 7.128 1/(1 + v^5)\n"
     ]
    },
    {
     "name": "stderr",
     "output_type": "stream",
     "text": [
      "C:\\Users\\UserALai\\miniconda3\\lib\\site-packages\\scipy\\integrate\\_odepack_py.py:247: ODEintWarning: Excess work done on this call (perhaps wrong Dfun type). Run with full_output = 1 to get quantitative information.\n",
      "  warnings.warn(warning_msg, ODEintWarning)\n",
      "C:\\Users\\UserALai\\miniconda3\\lib\\site-packages\\scipy\\integrate\\_odepack_py.py:247: ODEintWarning: Excess work done on this call (perhaps wrong Dfun type). Run with full_output = 1 to get quantitative information.\n",
      "  warnings.warn(warning_msg, ODEintWarning)\n",
      "C:\\Users\\UserALai\\miniconda3\\lib\\site-packages\\scipy\\integrate\\_odepack_py.py:247: ODEintWarning: Excess work done on this call (perhaps wrong Dfun type). Run with full_output = 1 to get quantitative information.\n",
      "  warnings.warn(warning_msg, ODEintWarning)\n",
      "C:\\Users\\UserALai\\miniconda3\\lib\\site-packages\\scipy\\integrate\\_odepack_py.py:247: ODEintWarning: Excess work done on this call (perhaps wrong Dfun type). Run with full_output = 1 to get quantitative information.\n",
      "  warnings.warn(warning_msg, ODEintWarning)\n",
      "C:\\Users\\UserALai\\miniconda3\\lib\\site-packages\\scipy\\integrate\\_odepack_py.py:247: ODEintWarning: Excess work done on this call (perhaps wrong Dfun type). Run with full_output = 1 to get quantitative information.\n",
      "  warnings.warn(warning_msg, ODEintWarning)\n",
      "C:\\Users\\UserALai\\miniconda3\\lib\\site-packages\\scipy\\integrate\\_odepack_py.py:247: ODEintWarning: Excess work done on this call (perhaps wrong Dfun type). Run with full_output = 1 to get quantitative information.\n",
      "  warnings.warn(warning_msg, ODEintWarning)\n",
      "C:\\Users\\UserALai\\miniconda3\\lib\\site-packages\\scipy\\integrate\\_odepack_py.py:247: ODEintWarning: Excess work done on this call (perhaps wrong Dfun type). Run with full_output = 1 to get quantitative information.\n",
      "  warnings.warn(warning_msg, ODEintWarning)\n",
      "C:\\Users\\UserALai\\miniconda3\\lib\\site-packages\\scipy\\integrate\\_odepack_py.py:247: ODEintWarning: Excess work done on this call (perhaps wrong Dfun type). Run with full_output = 1 to get quantitative information.\n",
      "  warnings.warn(warning_msg, ODEintWarning)\n",
      "C:\\Users\\UserALai\\miniconda3\\lib\\site-packages\\scipy\\integrate\\_odepack_py.py:247: ODEintWarning: Excess work done on this call (perhaps wrong Dfun type). Run with full_output = 1 to get quantitative information.\n",
      "  warnings.warn(warning_msg, ODEintWarning)\n",
      "C:\\Users\\UserALai\\miniconda3\\lib\\site-packages\\scipy\\integrate\\_odepack_py.py:247: ODEintWarning: Excess work done on this call (perhaps wrong Dfun type). Run with full_output = 1 to get quantitative information.\n",
      "  warnings.warn(warning_msg, ODEintWarning)\n",
      "C:\\Users\\UserALai\\miniconda3\\lib\\site-packages\\scipy\\integrate\\_odepack_py.py:247: ODEintWarning: Excess work done on this call (perhaps wrong Dfun type). Run with full_output = 1 to get quantitative information.\n",
      "  warnings.warn(warning_msg, ODEintWarning)\n",
      "C:\\Users\\UserALai\\miniconda3\\lib\\site-packages\\scipy\\integrate\\_odepack_py.py:247: ODEintWarning: Excess work done on this call (perhaps wrong Dfun type). Run with full_output = 1 to get quantitative information.\n",
      "  warnings.warn(warning_msg, ODEintWarning)\n",
      "C:\\Users\\UserALai\\miniconda3\\lib\\site-packages\\scipy\\integrate\\_odepack_py.py:247: ODEintWarning: Excess work done on this call (perhaps wrong Dfun type). Run with full_output = 1 to get quantitative information.\n",
      "  warnings.warn(warning_msg, ODEintWarning)\n",
      "C:\\Users\\UserALai\\miniconda3\\lib\\site-packages\\scipy\\integrate\\_odepack_py.py:247: ODEintWarning: Excess work done on this call (perhaps wrong Dfun type). Run with full_output = 1 to get quantitative information.\n",
      "  warnings.warn(warning_msg, ODEintWarning)\n",
      "C:\\Users\\UserALai\\miniconda3\\lib\\site-packages\\scipy\\integrate\\_odepack_py.py:247: ODEintWarning: Excess work done on this call (perhaps wrong Dfun type). Run with full_output = 1 to get quantitative information.\n",
      "  warnings.warn(warning_msg, ODEintWarning)\n",
      "C:\\Users\\UserALai\\miniconda3\\lib\\site-packages\\scipy\\integrate\\_odepack_py.py:247: ODEintWarning: Excess work done on this call (perhaps wrong Dfun type). Run with full_output = 1 to get quantitative information.\n",
      "  warnings.warn(warning_msg, ODEintWarning)\n",
      "C:\\Users\\UserALai\\miniconda3\\lib\\site-packages\\scipy\\integrate\\_odepack_py.py:247: ODEintWarning: Excess work done on this call (perhaps wrong Dfun type). Run with full_output = 1 to get quantitative information.\n",
      "  warnings.warn(warning_msg, ODEintWarning)\n",
      "C:\\Users\\UserALai\\miniconda3\\lib\\site-packages\\scipy\\integrate\\_odepack_py.py:247: ODEintWarning: Excess work done on this call (perhaps wrong Dfun type). Run with full_output = 1 to get quantitative information.\n",
      "  warnings.warn(warning_msg, ODEintWarning)\n",
      "C:\\Users\\UserALai\\miniconda3\\lib\\site-packages\\scipy\\integrate\\_odepack_py.py:247: ODEintWarning: Excess work done on this call (perhaps wrong Dfun type). Run with full_output = 1 to get quantitative information.\n",
      "  warnings.warn(warning_msg, ODEintWarning)\n",
      "C:\\Users\\UserALai\\miniconda3\\lib\\site-packages\\scipy\\integrate\\_odepack_py.py:247: ODEintWarning: Excess work done on this call (perhaps wrong Dfun type). Run with full_output = 1 to get quantitative information.\n",
      "  warnings.warn(warning_msg, ODEintWarning)\n",
      "C:\\Users\\UserALai\\miniconda3\\lib\\site-packages\\scipy\\integrate\\_odepack_py.py:247: ODEintWarning: Excess work done on this call (perhaps wrong Dfun type). Run with full_output = 1 to get quantitative information.\n",
      "  warnings.warn(warning_msg, ODEintWarning)\n",
      "C:\\Users\\UserALai\\miniconda3\\lib\\site-packages\\scipy\\integrate\\_odepack_py.py:247: ODEintWarning: Excess work done on this call (perhaps wrong Dfun type). Run with full_output = 1 to get quantitative information.\n",
      "  warnings.warn(warning_msg, ODEintWarning)\n",
      "C:\\Users\\UserALai\\miniconda3\\lib\\site-packages\\scipy\\integrate\\_odepack_py.py:247: ODEintWarning: Excess work done on this call (perhaps wrong Dfun type). Run with full_output = 1 to get quantitative information.\n",
      "  warnings.warn(warning_msg, ODEintWarning)\n",
      "C:\\Users\\UserALai\\miniconda3\\lib\\site-packages\\scipy\\integrate\\_odepack_py.py:247: ODEintWarning: Excess work done on this call (perhaps wrong Dfun type). Run with full_output = 1 to get quantitative information.\n",
      "  warnings.warn(warning_msg, ODEintWarning)\n"
     ]
    },
    {
     "name": "stdout",
     "output_type": "stream",
     "text": [
      "0.46688888888888885\n",
      "(u)' = 3.840 1/(1 + u^1) + -5.147 1/(1 + v^1) + 11.515 1/(1 + u^2) + -20.663 1/(1 + v^2) + -19.519 1/(1 + u^3) + 35.061 1/(1 + v^3) + -8.085 1/(1 + u^4) + 22.119 1/(1 + v^4) + 13.339 1/(1 + u^5) + -32.706 1/(1 + v^5)\n",
      "(v)' = 2.917 1/(1 + v^1) + -1.424 1/(1 + u^2) + -5.278 1/(1 + v^2) + -5.600 1/(1 + u^3) + -0.568 1/(1 + v^3) + -3.086 1/(1 + u^4) + 16.870 1/(1 + v^4) + 9.335 1/(1 + u^5) + -13.636 1/(1 + v^5)\n",
      "0.5334444444444444\n",
      "(u)' = -3.501 1/(1 + u^1) + -3.679 1/(1 + v^1) + 0.664 1/(1 + u^2) + -12.226 1/(1 + v^2) + 19.371 1/(1 + u^3) + 21.464 1/(1 + v^3) + 9.892 1/(1 + v^4) + -14.800 1/(1 + u^5) + -17.366 1/(1 + v^5)\n",
      "(v)' = -2.707 1/(1 + u^1) + -6.570 1/(1 + u^2) + 15.365 1/(1 + v^2) + 8.095 1/(1 + u^3) + -7.075 1/(1 + v^3) + -18.453 1/(1 + v^4) + 11.790 1/(1 + v^5)\n",
      "0.6\n",
      "(u)' = 2.140 1/(1 + u^1) + -2.990 1/(1 + v^1) + -5.515 1/(1 + u^2) + -5.582 1/(1 + u^3) + 15.271 1/(1 + v^3) + 8.630 1/(1 + u^4) + -1.400 1/(1 + u^5) + -10.522 1/(1 + v^5)\n",
      "(v)' = -6.721 1/(1 + u^2) + 0.847 1/(1 + v^2) + 9.987 1/(1 + u^3) + 2.539 1/(1 + v^3) + 12.787 1/(1 + u^4) + 0.848 1/(1 + v^4) + -16.645 1/(1 + u^5) + -4.242 1/(1 + v^5)\n"
     ]
    },
    {
     "name": "stderr",
     "output_type": "stream",
     "text": [
      "C:\\Users\\UserALai\\miniconda3\\lib\\site-packages\\scipy\\integrate\\_odepack_py.py:247: ODEintWarning: Excess work done on this call (perhaps wrong Dfun type). Run with full_output = 1 to get quantitative information.\n",
      "  warnings.warn(warning_msg, ODEintWarning)\n",
      "C:\\Users\\UserALai\\miniconda3\\lib\\site-packages\\scipy\\integrate\\_odepack_py.py:247: ODEintWarning: Excess work done on this call (perhaps wrong Dfun type). Run with full_output = 1 to get quantitative information.\n",
      "  warnings.warn(warning_msg, ODEintWarning)\n",
      "C:\\Users\\UserALai\\miniconda3\\lib\\site-packages\\scipy\\integrate\\_odepack_py.py:247: ODEintWarning: Excess work done on this call (perhaps wrong Dfun type). Run with full_output = 1 to get quantitative information.\n",
      "  warnings.warn(warning_msg, ODEintWarning)\n",
      "C:\\Users\\UserALai\\miniconda3\\lib\\site-packages\\scipy\\integrate\\_odepack_py.py:247: ODEintWarning: Excess work done on this call (perhaps wrong Dfun type). Run with full_output = 1 to get quantitative information.\n",
      "  warnings.warn(warning_msg, ODEintWarning)\n",
      "C:\\Users\\UserALai\\miniconda3\\lib\\site-packages\\scipy\\integrate\\_odepack_py.py:247: ODEintWarning: Excess work done on this call (perhaps wrong Dfun type). Run with full_output = 1 to get quantitative information.\n",
      "  warnings.warn(warning_msg, ODEintWarning)\n",
      "C:\\Users\\UserALai\\miniconda3\\lib\\site-packages\\scipy\\integrate\\_odepack_py.py:247: ODEintWarning: Excess work done on this call (perhaps wrong Dfun type). Run with full_output = 1 to get quantitative information.\n",
      "  warnings.warn(warning_msg, ODEintWarning)\n",
      "C:\\Users\\UserALai\\miniconda3\\lib\\site-packages\\scipy\\integrate\\_odepack_py.py:247: ODEintWarning: Excess work done on this call (perhaps wrong Dfun type). Run with full_output = 1 to get quantitative information.\n",
      "  warnings.warn(warning_msg, ODEintWarning)\n",
      "C:\\Users\\UserALai\\miniconda3\\lib\\site-packages\\scipy\\integrate\\_odepack_py.py:247: ODEintWarning: Excess work done on this call (perhaps wrong Dfun type). Run with full_output = 1 to get quantitative information.\n",
      "  warnings.warn(warning_msg, ODEintWarning)\n",
      "C:\\Users\\UserALai\\miniconda3\\lib\\site-packages\\scipy\\integrate\\_odepack_py.py:247: ODEintWarning: Excess work done on this call (perhaps wrong Dfun type). Run with full_output = 1 to get quantitative information.\n",
      "  warnings.warn(warning_msg, ODEintWarning)\n",
      "C:\\Users\\UserALai\\miniconda3\\lib\\site-packages\\scipy\\integrate\\_odepack_py.py:247: ODEintWarning: Excess work done on this call (perhaps wrong Dfun type). Run with full_output = 1 to get quantitative information.\n",
      "  warnings.warn(warning_msg, ODEintWarning)\n",
      "C:\\Users\\UserALai\\miniconda3\\lib\\site-packages\\scipy\\integrate\\_odepack_py.py:247: ODEintWarning: Excess work done on this call (perhaps wrong Dfun type). Run with full_output = 1 to get quantitative information.\n",
      "  warnings.warn(warning_msg, ODEintWarning)\n",
      "C:\\Users\\UserALai\\miniconda3\\lib\\site-packages\\scipy\\integrate\\_odepack_py.py:247: ODEintWarning: Excess work done on this call (perhaps wrong Dfun type). Run with full_output = 1 to get quantitative information.\n",
      "  warnings.warn(warning_msg, ODEintWarning)\n",
      "C:\\Users\\UserALai\\miniconda3\\lib\\site-packages\\scipy\\integrate\\_odepack_py.py:247: ODEintWarning: Excess work done on this call (perhaps wrong Dfun type). Run with full_output = 1 to get quantitative information.\n",
      "  warnings.warn(warning_msg, ODEintWarning)\n",
      "C:\\Users\\UserALai\\miniconda3\\lib\\site-packages\\scipy\\integrate\\_odepack_py.py:247: ODEintWarning: Excess work done on this call (perhaps wrong Dfun type). Run with full_output = 1 to get quantitative information.\n",
      "  warnings.warn(warning_msg, ODEintWarning)\n",
      "C:\\Users\\UserALai\\miniconda3\\lib\\site-packages\\scipy\\integrate\\_odepack_py.py:247: ODEintWarning: Excess work done on this call (perhaps wrong Dfun type). Run with full_output = 1 to get quantitative information.\n",
      "  warnings.warn(warning_msg, ODEintWarning)\n",
      "C:\\Users\\UserALai\\miniconda3\\lib\\site-packages\\scipy\\integrate\\_odepack_py.py:247: ODEintWarning: Excess work done on this call (perhaps wrong Dfun type). Run with full_output = 1 to get quantitative information.\n",
      "  warnings.warn(warning_msg, ODEintWarning)\n",
      "C:\\Users\\UserALai\\miniconda3\\lib\\site-packages\\scipy\\integrate\\_odepack_py.py:247: ODEintWarning: Excess work done on this call (perhaps wrong Dfun type). Run with full_output = 1 to get quantitative information.\n",
      "  warnings.warn(warning_msg, ODEintWarning)\n"
     ]
    },
    {
     "name": "stdout",
     "output_type": "stream",
     "text": [
      "[0.001      0.06755556 0.13411111 0.20066667 0.26722222 0.33377778\n",
      " 0.40033333 0.46688889 0.53344444 0.6       ]\n",
      "[0.005968569392431759, 0.07242376337359283, 0.3193596267816768, 0.30041473841771354, 0.7500425813997519, 513719109.7328191, 376635986.3734989, 8.573399686279163, 7.095172200541393, 26.683084571156403]\n",
      "0.001\n",
      "(u)' = -1.195 u + 12.051 1/(1 + u^1) + -5.225 1/(1 + v^1) + -17.087 1/(1 + u^2) + 13.090 1/(1 + v^2) + 7.116 1/(1 + u^3) + -13.527 1/(1 + v^3) + 0.359 1/(1 + u^4) + 3.317 1/(1 + v^4) + 1.439 1/(1 + v^5)\n",
      "(v)' = -1.460 v + 7.333 1/(1 + u^1) + -11.368 1/(1 + v^2) + -7.428 1/(1 + u^3) + 31.716 1/(1 + v^3) + -36.860 1/(1 + v^4) + 4.015 1/(1 + u^5) + 14.720 1/(1 + v^5)\n",
      "0.06755555555555555\n",
      "(u)' = -1.337 u + 5.009 1/(1 + u^1) + -10.456 1/(1 + u^2) + 12.073 1/(1 + v^2) + -3.598 1/(1 + v^3) + 4.765 1/(1 + u^4) + -20.069 1/(1 + v^4) + 14.014 1/(1 + v^5)\n",
      "(v)' = -0.945 v + 3.397 1/(1 + v^1) + 13.603 1/(1 + u^2) + 1.851 1/(1 + v^2) + -43.470 1/(1 + u^3) + -27.567 1/(1 + v^3) + 48.599 1/(1 + u^4) + 38.976 1/(1 + v^4) + -17.600 1/(1 + u^5) + -16.709 1/(1 + v^5)\n",
      "0.1341111111111111\n",
      "(u)' = -1.518 u + 1.402 v + 2.075 1/(1 + v^1) + -7.473 1/(1 + v^2) + -12.382 1/(1 + u^3) + 5.576 1/(1 + v^3) + 21.498 1/(1 + u^4) + 7.157 1/(1 + v^4) + -10.985 1/(1 + u^5) + -5.752 1/(1 + v^5)\n",
      "(v)' = -0.777 v + 2.117 1/(1 + u^1) + -2.109 1/(1 + v^1) + 0.935 1/(1 + u^2) + 2.465 1/(1 + v^2) + -10.000 1/(1 + u^3) + 11.347 1/(1 + v^3) + 10.151 1/(1 + u^4) + -24.019 1/(1 + v^4) + -1.656 1/(1 + u^5) + 11.470 1/(1 + v^5)\n",
      "0.20066666666666666\n",
      "(u)' = -1.611 u + 1.090 v + 1.037 1/(1 + u^1) + 3.877 1/(1 + v^1) + 4.853 1/(1 + u^2) + 5.755 1/(1 + v^2) + -11.339 1/(1 + u^3) + -15.225 1/(1 + v^3) + -11.310 1/(1 + u^4) + 3.465 1/(1 + v^4) + 14.007 1/(1 + u^5) + 5.652 1/(1 + v^5)\n",
      "(v)' = 1.419 1/(1 + u^1) + 1.317 1/(1 + v^1) + 1.425 1/(1 + u^2) + -4.617 1/(1 + v^2) + -8.607 1/(1 + u^3) + -1.617 1/(1 + u^4) + 10.296 1/(1 + v^4) + 7.198 1/(1 + u^5) + -6.990 1/(1 + v^5)\n",
      "0.2672222222222222\n",
      "(u)' = -0.716 1/(1 + u^3) + -0.695 1/(1 + v^4) + 1.184 1/(1 + u^5)\n",
      "(v)' = -3.632 1/(1 + u^1) + -2.765 1/(1 + u^2) + -4.810 1/(1 + v^2) + 13.773 1/(1 + u^3) + 3.831 1/(1 + v^3) + -2.231 1/(1 + u^4) + 6.988 1/(1 + v^4) + -4.802 1/(1 + u^5) + -6.581 1/(1 + v^5)\n"
     ]
    },
    {
     "name": "stderr",
     "output_type": "stream",
     "text": [
      "C:\\Users\\UserALai\\miniconda3\\lib\\site-packages\\scipy\\integrate\\_odepack_py.py:247: ODEintWarning: Excess work done on this call (perhaps wrong Dfun type). Run with full_output = 1 to get quantitative information.\n",
      "  warnings.warn(warning_msg, ODEintWarning)\n",
      "C:\\Users\\UserALai\\miniconda3\\lib\\site-packages\\scipy\\integrate\\_odepack_py.py:247: ODEintWarning: Excess work done on this call (perhaps wrong Dfun type). Run with full_output = 1 to get quantitative information.\n",
      "  warnings.warn(warning_msg, ODEintWarning)\n",
      "C:\\Users\\UserALai\\miniconda3\\lib\\site-packages\\scipy\\integrate\\_odepack_py.py:247: ODEintWarning: Excess work done on this call (perhaps wrong Dfun type). Run with full_output = 1 to get quantitative information.\n",
      "  warnings.warn(warning_msg, ODEintWarning)\n",
      "C:\\Users\\UserALai\\miniconda3\\lib\\site-packages\\scipy\\integrate\\_odepack_py.py:247: ODEintWarning: Excess work done on this call (perhaps wrong Dfun type). Run with full_output = 1 to get quantitative information.\n",
      "  warnings.warn(warning_msg, ODEintWarning)\n",
      "C:\\Users\\UserALai\\miniconda3\\lib\\site-packages\\scipy\\integrate\\_odepack_py.py:247: ODEintWarning: Excess work done on this call (perhaps wrong Dfun type). Run with full_output = 1 to get quantitative information.\n",
      "  warnings.warn(warning_msg, ODEintWarning)\n",
      "C:\\Users\\UserALai\\miniconda3\\lib\\site-packages\\scipy\\integrate\\_odepack_py.py:247: ODEintWarning: Excess work done on this call (perhaps wrong Dfun type). Run with full_output = 1 to get quantitative information.\n",
      "  warnings.warn(warning_msg, ODEintWarning)\n",
      "C:\\Users\\UserALai\\miniconda3\\lib\\site-packages\\scipy\\integrate\\_odepack_py.py:247: ODEintWarning: Excess work done on this call (perhaps wrong Dfun type). Run with full_output = 1 to get quantitative information.\n",
      "  warnings.warn(warning_msg, ODEintWarning)\n",
      "C:\\Users\\UserALai\\miniconda3\\lib\\site-packages\\scipy\\integrate\\_odepack_py.py:247: ODEintWarning: Excess work done on this call (perhaps wrong Dfun type). Run with full_output = 1 to get quantitative information.\n",
      "  warnings.warn(warning_msg, ODEintWarning)\n",
      "C:\\Users\\UserALai\\miniconda3\\lib\\site-packages\\scipy\\integrate\\_odepack_py.py:247: ODEintWarning: Excess work done on this call (perhaps wrong Dfun type). Run with full_output = 1 to get quantitative information.\n",
      "  warnings.warn(warning_msg, ODEintWarning)\n",
      "C:\\Users\\UserALai\\miniconda3\\lib\\site-packages\\scipy\\integrate\\_odepack_py.py:247: ODEintWarning: Excess work done on this call (perhaps wrong Dfun type). Run with full_output = 1 to get quantitative information.\n",
      "  warnings.warn(warning_msg, ODEintWarning)\n",
      "C:\\Users\\UserALai\\miniconda3\\lib\\site-packages\\scipy\\integrate\\_odepack_py.py:247: ODEintWarning: Excess work done on this call (perhaps wrong Dfun type). Run with full_output = 1 to get quantitative information.\n",
      "  warnings.warn(warning_msg, ODEintWarning)\n",
      "C:\\Users\\UserALai\\miniconda3\\lib\\site-packages\\scipy\\integrate\\_odepack_py.py:247: ODEintWarning: Excess work done on this call (perhaps wrong Dfun type). Run with full_output = 1 to get quantitative information.\n",
      "  warnings.warn(warning_msg, ODEintWarning)\n"
     ]
    },
    {
     "name": "stdout",
     "output_type": "stream",
     "text": [
      "0.33377777777777773\n",
      "(u)' = -1.218 1/(1 + u^1) + -1.355 1/(1 + v^1) + 4.909 1/(1 + u^2) + -1.163 1/(1 + u^3) + -9.823 1/(1 + u^4) + -6.026 1/(1 + v^4) + 8.031 1/(1 + u^5) + 6.699 1/(1 + v^5)\n",
      "(v)' = 2.509 1/(1 + u^1) + -5.090 1/(1 + v^1) + 10.039 1/(1 + u^2) + -11.262 1/(1 + v^2) + -18.701 1/(1 + u^3) + 26.515 1/(1 + v^3) + -11.642 1/(1 + u^4) + 7.605 1/(1 + v^4) + 18.621 1/(1 + u^5) + -18.664 1/(1 + v^5)\n",
      "0.4003333333333333\n",
      "(u)' = -2.811 1/(1 + u^1) + 1.663 1/(1 + v^1) + -5.567 1/(1 + u^2) + 10.174 1/(1 + v^2) + 17.349 1/(1 + u^3) + -18.597 1/(1 + v^3) + 6.018 1/(1 + u^4) + -16.187 1/(1 + v^4) + -14.862 1/(1 + u^5) + 22.731 1/(1 + v^5)\n",
      "(v)' = -3.339 1/(1 + u^1) + -4.886 1/(1 + v^1) + -3.359 1/(1 + u^2) + -12.511 1/(1 + v^2) + 20.558 1/(1 + u^3) + 27.536 1/(1 + v^3) + 5.059 1/(1 + u^4) + 9.691 1/(1 + v^4) + -17.571 1/(1 + u^5) + -21.444 1/(1 + v^5)\n",
      "0.46688888888888885\n",
      "(u)' = 2.277 1/(1 + u^1) + -1.251 1/(1 + v^1) + 3.647 1/(1 + u^2) + 6.467 1/(1 + v^2) + -12.529 1/(1 + u^3) + -3.068 1/(1 + u^4) + -11.453 1/(1 + v^4) + 9.468 1/(1 + u^5) + 6.200 1/(1 + v^5)\n",
      "(v)' = -1.120 1/(1 + u^1) + -1.365 1/(1 + v^1) + -2.375 1/(1 + u^2) + -2.845 1/(1 + v^2) + 2.123 1/(1 + u^3) + 4.737 1/(1 + v^3) + 2.053 1/(1 + u^5) + -1.081 1/(1 + v^5)\n"
     ]
    },
    {
     "name": "stderr",
     "output_type": "stream",
     "text": [
      "C:\\Users\\UserALai\\miniconda3\\lib\\site-packages\\scipy\\integrate\\_odepack_py.py:247: ODEintWarning: Excess work done on this call (perhaps wrong Dfun type). Run with full_output = 1 to get quantitative information.\n",
      "  warnings.warn(warning_msg, ODEintWarning)\n",
      "C:\\Users\\UserALai\\miniconda3\\lib\\site-packages\\scipy\\integrate\\_odepack_py.py:247: ODEintWarning: Excess work done on this call (perhaps wrong Dfun type). Run with full_output = 1 to get quantitative information.\n",
      "  warnings.warn(warning_msg, ODEintWarning)\n",
      "C:\\Users\\UserALai\\miniconda3\\lib\\site-packages\\scipy\\integrate\\_odepack_py.py:247: ODEintWarning: Excess work done on this call (perhaps wrong Dfun type). Run with full_output = 1 to get quantitative information.\n",
      "  warnings.warn(warning_msg, ODEintWarning)\n",
      "C:\\Users\\UserALai\\miniconda3\\lib\\site-packages\\scipy\\integrate\\_odepack_py.py:247: ODEintWarning: Excess work done on this call (perhaps wrong Dfun type). Run with full_output = 1 to get quantitative information.\n",
      "  warnings.warn(warning_msg, ODEintWarning)\n",
      "C:\\Users\\UserALai\\miniconda3\\lib\\site-packages\\scipy\\integrate\\_odepack_py.py:247: ODEintWarning: Excess work done on this call (perhaps wrong Dfun type). Run with full_output = 1 to get quantitative information.\n",
      "  warnings.warn(warning_msg, ODEintWarning)\n",
      "C:\\Users\\UserALai\\miniconda3\\lib\\site-packages\\scipy\\integrate\\_odepack_py.py:247: ODEintWarning: Excess work done on this call (perhaps wrong Dfun type). Run with full_output = 1 to get quantitative information.\n",
      "  warnings.warn(warning_msg, ODEintWarning)\n",
      "C:\\Users\\UserALai\\miniconda3\\lib\\site-packages\\scipy\\integrate\\_odepack_py.py:247: ODEintWarning: Excess work done on this call (perhaps wrong Dfun type). Run with full_output = 1 to get quantitative information.\n",
      "  warnings.warn(warning_msg, ODEintWarning)\n",
      "C:\\Users\\UserALai\\miniconda3\\lib\\site-packages\\scipy\\integrate\\_odepack_py.py:247: ODEintWarning: Excess work done on this call (perhaps wrong Dfun type). Run with full_output = 1 to get quantitative information.\n",
      "  warnings.warn(warning_msg, ODEintWarning)\n",
      "C:\\Users\\UserALai\\miniconda3\\lib\\site-packages\\scipy\\integrate\\_odepack_py.py:247: ODEintWarning: Excess work done on this call (perhaps wrong Dfun type). Run with full_output = 1 to get quantitative information.\n",
      "  warnings.warn(warning_msg, ODEintWarning)\n",
      "C:\\Users\\UserALai\\miniconda3\\lib\\site-packages\\scipy\\integrate\\_odepack_py.py:247: ODEintWarning: Excess work done on this call (perhaps wrong Dfun type). Run with full_output = 1 to get quantitative information.\n",
      "  warnings.warn(warning_msg, ODEintWarning)\n",
      "C:\\Users\\UserALai\\miniconda3\\lib\\site-packages\\scipy\\integrate\\_odepack_py.py:247: ODEintWarning: Excess work done on this call (perhaps wrong Dfun type). Run with full_output = 1 to get quantitative information.\n",
      "  warnings.warn(warning_msg, ODEintWarning)\n",
      "C:\\Users\\UserALai\\miniconda3\\lib\\site-packages\\scipy\\integrate\\_odepack_py.py:247: ODEintWarning: Excess work done on this call (perhaps wrong Dfun type). Run with full_output = 1 to get quantitative information.\n",
      "  warnings.warn(warning_msg, ODEintWarning)\n",
      "C:\\Users\\UserALai\\miniconda3\\lib\\site-packages\\scipy\\integrate\\_odepack_py.py:247: ODEintWarning: Excess work done on this call (perhaps wrong Dfun type). Run with full_output = 1 to get quantitative information.\n",
      "  warnings.warn(warning_msg, ODEintWarning)\n",
      "C:\\Users\\UserALai\\miniconda3\\lib\\site-packages\\scipy\\integrate\\_odepack_py.py:247: ODEintWarning: Excess work done on this call (perhaps wrong Dfun type). Run with full_output = 1 to get quantitative information.\n",
      "  warnings.warn(warning_msg, ODEintWarning)\n",
      "C:\\Users\\UserALai\\miniconda3\\lib\\site-packages\\scipy\\integrate\\_odepack_py.py:247: ODEintWarning: Excess work done on this call (perhaps wrong Dfun type). Run with full_output = 1 to get quantitative information.\n",
      "  warnings.warn(warning_msg, ODEintWarning)\n",
      "C:\\Users\\UserALai\\miniconda3\\lib\\site-packages\\scipy\\integrate\\_odepack_py.py:247: ODEintWarning: Excess work done on this call (perhaps wrong Dfun type). Run with full_output = 1 to get quantitative information.\n",
      "  warnings.warn(warning_msg, ODEintWarning)\n",
      "C:\\Users\\UserALai\\miniconda3\\lib\\site-packages\\scipy\\integrate\\_odepack_py.py:247: ODEintWarning: Excess work done on this call (perhaps wrong Dfun type). Run with full_output = 1 to get quantitative information.\n",
      "  warnings.warn(warning_msg, ODEintWarning)\n",
      "C:\\Users\\UserALai\\miniconda3\\lib\\site-packages\\scipy\\integrate\\_odepack_py.py:247: ODEintWarning: Excess work done on this call (perhaps wrong Dfun type). Run with full_output = 1 to get quantitative information.\n",
      "  warnings.warn(warning_msg, ODEintWarning)\n",
      "C:\\Users\\UserALai\\miniconda3\\lib\\site-packages\\scipy\\integrate\\_odepack_py.py:247: ODEintWarning: Excess work done on this call (perhaps wrong Dfun type). Run with full_output = 1 to get quantitative information.\n",
      "  warnings.warn(warning_msg, ODEintWarning)\n",
      "C:\\Users\\UserALai\\miniconda3\\lib\\site-packages\\scipy\\integrate\\_odepack_py.py:247: ODEintWarning: Excess work done on this call (perhaps wrong Dfun type). Run with full_output = 1 to get quantitative information.\n",
      "  warnings.warn(warning_msg, ODEintWarning)\n",
      "C:\\Users\\UserALai\\miniconda3\\lib\\site-packages\\scipy\\integrate\\_odepack_py.py:247: ODEintWarning: Excess work done on this call (perhaps wrong Dfun type). Run with full_output = 1 to get quantitative information.\n",
      "  warnings.warn(warning_msg, ODEintWarning)\n",
      "C:\\Users\\UserALai\\miniconda3\\lib\\site-packages\\scipy\\integrate\\_odepack_py.py:247: ODEintWarning: Excess work done on this call (perhaps wrong Dfun type). Run with full_output = 1 to get quantitative information.\n",
      "  warnings.warn(warning_msg, ODEintWarning)\n"
     ]
    },
    {
     "name": "stdout",
     "output_type": "stream",
     "text": [
      "0.5334444444444444\n",
      "(u)' = -2.680 1/(1 + u^1) + -4.099 1/(1 + v^1) + -12.080 1/(1 + u^2) + -0.694 1/(1 + v^2) + 23.574 1/(1 + u^3) + 12.329 1/(1 + v^3) + 15.672 1/(1 + u^4) + -5.947 1/(1 + v^4) + -25.896 1/(1 + u^5)\n",
      "(v)' = 3.842 1/(1 + u^1) + -1.113 1/(1 + v^1) + 18.624 1/(1 + u^2) + -12.233 1/(1 + v^2) + -23.737 1/(1 + u^3) + 6.435 1/(1 + v^3) + -17.326 1/(1 + u^4) + 10.245 1/(1 + v^4) + 20.356 1/(1 + u^5) + -5.136 1/(1 + v^5)\n"
     ]
    },
    {
     "name": "stderr",
     "output_type": "stream",
     "text": [
      "C:\\Users\\UserALai\\miniconda3\\lib\\site-packages\\scipy\\integrate\\_odepack_py.py:247: ODEintWarning: Excess work done on this call (perhaps wrong Dfun type). Run with full_output = 1 to get quantitative information.\n",
      "  warnings.warn(warning_msg, ODEintWarning)\n",
      "C:\\Users\\UserALai\\miniconda3\\lib\\site-packages\\scipy\\integrate\\_odepack_py.py:247: ODEintWarning: Excess work done on this call (perhaps wrong Dfun type). Run with full_output = 1 to get quantitative information.\n",
      "  warnings.warn(warning_msg, ODEintWarning)\n",
      "C:\\Users\\UserALai\\miniconda3\\lib\\site-packages\\scipy\\integrate\\_odepack_py.py:247: ODEintWarning: Excess work done on this call (perhaps wrong Dfun type). Run with full_output = 1 to get quantitative information.\n",
      "  warnings.warn(warning_msg, ODEintWarning)\n",
      "C:\\Users\\UserALai\\miniconda3\\lib\\site-packages\\scipy\\integrate\\_odepack_py.py:247: ODEintWarning: Excess work done on this call (perhaps wrong Dfun type). Run with full_output = 1 to get quantitative information.\n",
      "  warnings.warn(warning_msg, ODEintWarning)\n",
      "C:\\Users\\UserALai\\miniconda3\\lib\\site-packages\\scipy\\integrate\\_odepack_py.py:247: ODEintWarning: Excess work done on this call (perhaps wrong Dfun type). Run with full_output = 1 to get quantitative information.\n",
      "  warnings.warn(warning_msg, ODEintWarning)\n",
      "C:\\Users\\UserALai\\miniconda3\\lib\\site-packages\\scipy\\integrate\\_odepack_py.py:247: ODEintWarning: Excess work done on this call (perhaps wrong Dfun type). Run with full_output = 1 to get quantitative information.\n",
      "  warnings.warn(warning_msg, ODEintWarning)\n",
      "C:\\Users\\UserALai\\miniconda3\\lib\\site-packages\\scipy\\integrate\\_odepack_py.py:247: ODEintWarning: Excess work done on this call (perhaps wrong Dfun type). Run with full_output = 1 to get quantitative information.\n",
      "  warnings.warn(warning_msg, ODEintWarning)\n",
      "C:\\Users\\UserALai\\miniconda3\\lib\\site-packages\\scipy\\integrate\\_odepack_py.py:247: ODEintWarning: Excess work done on this call (perhaps wrong Dfun type). Run with full_output = 1 to get quantitative information.\n",
      "  warnings.warn(warning_msg, ODEintWarning)\n",
      "C:\\Users\\UserALai\\miniconda3\\lib\\site-packages\\scipy\\integrate\\_odepack_py.py:247: ODEintWarning: Excess work done on this call (perhaps wrong Dfun type). Run with full_output = 1 to get quantitative information.\n",
      "  warnings.warn(warning_msg, ODEintWarning)\n",
      "C:\\Users\\UserALai\\miniconda3\\lib\\site-packages\\scipy\\integrate\\_odepack_py.py:247: ODEintWarning: Excess work done on this call (perhaps wrong Dfun type). Run with full_output = 1 to get quantitative information.\n",
      "  warnings.warn(warning_msg, ODEintWarning)\n"
     ]
    },
    {
     "name": "stdout",
     "output_type": "stream",
     "text": [
      "0.6\n",
      "(u)' = -6.042 1/(1 + u^1) + -0.893 1/(1 + v^1) + -14.660 1/(1 + u^2) + -6.617 1/(1 + v^2) + 39.336 1/(1 + u^3) + 10.021 1/(1 + v^3) + 16.456 1/(1 + u^4) + 9.557 1/(1 + v^4) + -35.352 1/(1 + u^5) + -12.222 1/(1 + v^5)\n",
      "(v)' = -1.289 1/(1 + v^1) + -2.836 1/(1 + u^2) + -4.184 1/(1 + v^2) + -0.758 1/(1 + u^3) + 12.346 1/(1 + v^3) + 2.197 1/(1 + u^4) + 7.041 1/(1 + v^4) + 1.265 1/(1 + u^5) + -14.126 1/(1 + v^5)\n",
      "[0.001      0.06755556 0.13411111 0.20066667 0.26722222 0.33377778\n",
      " 0.40033333 0.46688889 0.53344444 0.6       ]\n",
      "[0.0040401895735318865, 0.1968654341170381, 0.28648969496319904, 9.509233810586235, 3.5416195433482454, 1.3097641229621568, 50.60892059784235, 33543.88353257513, 13.198796617534303, 1.6332905708407375]\n",
      "0.001\n",
      "(u)' = -1.200 u + 5.845 1/(1 + u^1) + 10.846 1/(1 + v^1) + -13.749 1/(1 + u^2) + -26.291 1/(1 + v^2) + 0.673 1/(1 + u^3) + 28.356 1/(1 + v^3) + 17.983 1/(1 + u^4) + -12.418 1/(1 + v^4) + -10.968 1/(1 + u^5) + 1.180 1/(1 + v^5)\n",
      "(v)' = -0.997 v + 3.329 1/(1 + u^1) + -3.082 1/(1 + v^1) + -4.802 1/(1 + u^2) + 7.148 1/(1 + v^2) + 4.096 1/(1 + u^4) + -10.461 1/(1 + v^4) + -1.263 1/(1 + u^5) + 6.070 1/(1 + v^5)\n",
      "0.06755555555555555\n",
      "(u)' = -1.064 u + -0.519 1/(1 + u^1) + 6.739 1/(1 + v^1) + 14.410 1/(1 + u^2) + -20.001 1/(1 + v^2) + -38.647 1/(1 + u^3) + 36.340 1/(1 + v^3) + 35.330 1/(1 + u^4) + -34.730 1/(1 + v^4) + -10.540 1/(1 + u^5) + 12.864 1/(1 + v^5)\n",
      "(v)' = -1.521 v + 0.893 1/(1 + u^1) + 9.167 1/(1 + v^1) + -0.891 1/(1 + u^2) + 6.466 1/(1 + v^2) + -2.218 1/(1 + u^3) + -66.642 1/(1 + v^3) + 3.365 1/(1 + u^4) + 91.137 1/(1 + v^4) + -39.177 1/(1 + v^5)\n",
      "0.1341111111111111\n",
      "(u)' = -1.652 u + 0.912 v + -1.524 1/(1 + u^1) + 2.320 1/(1 + v^1) + 0.603 1/(1 + u^2) + 11.873 1/(1 + v^2) + -3.149 1/(1 + u^3) + -26.178 1/(1 + v^3) + 1.245 1/(1 + u^4) + 19.793 1/(1 + v^4) + -4.031 1/(1 + v^5)\n",
      "(v)' = -4.418 1/(1 + v^1) + -2.000 1/(1 + u^2) + -1.883 1/(1 + v^2) + 22.356 1/(1 + v^3) + -24.333 1/(1 + v^4) + 1.915 1/(1 + u^5) + 7.760 1/(1 + v^5)\n"
     ]
    },
    {
     "name": "stderr",
     "output_type": "stream",
     "text": [
      "C:\\Users\\UserALai\\miniconda3\\lib\\site-packages\\scipy\\integrate\\_odepack_py.py:247: ODEintWarning: Excess work done on this call (perhaps wrong Dfun type). Run with full_output = 1 to get quantitative information.\n",
      "  warnings.warn(warning_msg, ODEintWarning)\n",
      "C:\\Users\\UserALai\\miniconda3\\lib\\site-packages\\scipy\\integrate\\_odepack_py.py:247: ODEintWarning: Excess work done on this call (perhaps wrong Dfun type). Run with full_output = 1 to get quantitative information.\n",
      "  warnings.warn(warning_msg, ODEintWarning)\n",
      "C:\\Users\\UserALai\\miniconda3\\lib\\site-packages\\scipy\\integrate\\_odepack_py.py:247: ODEintWarning: Excess work done on this call (perhaps wrong Dfun type). Run with full_output = 1 to get quantitative information.\n",
      "  warnings.warn(warning_msg, ODEintWarning)\n",
      "C:\\Users\\UserALai\\miniconda3\\lib\\site-packages\\scipy\\integrate\\_odepack_py.py:247: ODEintWarning: Excess work done on this call (perhaps wrong Dfun type). Run with full_output = 1 to get quantitative information.\n",
      "  warnings.warn(warning_msg, ODEintWarning)\n"
     ]
    },
    {
     "name": "stdout",
     "output_type": "stream",
     "text": [
      "0.20066666666666666\n",
      "(u)' = -1.488 u + 1.179 v + -2.482 1/(1 + u^1) + 1.086 1/(1 + v^1) + -5.092 1/(1 + u^2) + 1.552 1/(1 + v^2) + 10.395 1/(1 + u^3) + -1.537 1/(1 + v^3) + -1.319 1/(1 + u^4) + 5.103 1/(1 + v^4) + -4.756 1/(1 + u^5) + -2.816 1/(1 + v^5)\n",
      "(v)' = -1.103 1/(1 + u^1) + -3.408 1/(1 + u^2) + -2.427 1/(1 + v^2) + 2.611 1/(1 + u^3) + 6.811 1/(1 + v^3) + 7.285 1/(1 + v^4) + 1.020 1/(1 + u^5) + -10.980 1/(1 + v^5)\n",
      "0.2672222222222222\n",
      "(u)' = -3.040 1/(1 + u^1) + -1.525 1/(1 + v^1) + -13.171 1/(1 + u^2) + 1.577 1/(1 + v^2) + 21.281 1/(1 + u^3) + 4.601 1/(1 + v^3) + 13.938 1/(1 + u^4) + -3.804 1/(1 + v^4) + -20.257 1/(1 + u^5)\n",
      "(v)' = 2.089 1/(1 + u^1) + 1.927 1/(1 + v^1) + -3.083 1/(1 + u^2) + 3.341 1/(1 + v^2) + -6.253 1/(1 + u^3) + -8.107 1/(1 + v^3) + 6.201 1/(1 + u^4) + 3.863 1/(1 + v^5)\n",
      "0.33377777777777773\n",
      "(u)' = 0.731 v + -3.460 1/(1 + u^1) + -2.472 1/(1 + v^1) + -9.774 1/(1 + u^2) + -17.827 1/(1 + v^2) + 16.621 1/(1 + u^3) + 22.688 1/(1 + v^3) + 6.182 1/(1 + u^4) + 22.300 1/(1 + v^4) + -10.424 1/(1 + u^5) + -25.500 1/(1 + v^5)\n",
      "(v)' = -1.974 1/(1 + u^1) + -2.663 1/(1 + v^1) + -5.436 1/(1 + u^2) + -3.398 1/(1 + v^2) + 13.579 1/(1 + u^3) + 10.417 1/(1 + v^3) + 6.843 1/(1 + u^4) + -0.759 1/(1 + v^4) + -12.792 1/(1 + u^5) + -4.000 1/(1 + v^5)\n",
      "0.4003333333333333\n",
      "(u)' = -1.163 1/(1 + u^1) + -0.820 1/(1 + u^2) + 10.092 1/(1 + v^2) + -12.642 1/(1 + v^3) + -3.907 1/(1 + u^4) + -18.344 1/(1 + v^4) + 5.877 1/(1 + u^5) + 21.089 1/(1 + v^5)\n",
      "(v)' = -2.752 1/(1 + u^1) + 1.489 1/(1 + v^1) + -5.616 1/(1 + u^2) + 13.687 1/(1 + u^3) + -8.757 1/(1 + v^3) + 3.717 1/(1 + u^4) + -9.092 1/(1 + u^5) + 7.116 1/(1 + v^5)\n"
     ]
    },
    {
     "name": "stderr",
     "output_type": "stream",
     "text": [
      "C:\\Users\\UserALai\\miniconda3\\lib\\site-packages\\scipy\\integrate\\_odepack_py.py:247: ODEintWarning: Excess work done on this call (perhaps wrong Dfun type). Run with full_output = 1 to get quantitative information.\n",
      "  warnings.warn(warning_msg, ODEintWarning)\n",
      "C:\\Users\\UserALai\\miniconda3\\lib\\site-packages\\scipy\\integrate\\_odepack_py.py:247: ODEintWarning: Excess work done on this call (perhaps wrong Dfun type). Run with full_output = 1 to get quantitative information.\n",
      "  warnings.warn(warning_msg, ODEintWarning)\n",
      "C:\\Users\\UserALai\\miniconda3\\lib\\site-packages\\scipy\\integrate\\_odepack_py.py:247: ODEintWarning: Excess work done on this call (perhaps wrong Dfun type). Run with full_output = 1 to get quantitative information.\n",
      "  warnings.warn(warning_msg, ODEintWarning)\n",
      "C:\\Users\\UserALai\\miniconda3\\lib\\site-packages\\scipy\\integrate\\_odepack_py.py:247: ODEintWarning: Excess work done on this call (perhaps wrong Dfun type). Run with full_output = 1 to get quantitative information.\n",
      "  warnings.warn(warning_msg, ODEintWarning)\n",
      "C:\\Users\\UserALai\\miniconda3\\lib\\site-packages\\scipy\\integrate\\_odepack_py.py:247: ODEintWarning: Excess work done on this call (perhaps wrong Dfun type). Run with full_output = 1 to get quantitative information.\n",
      "  warnings.warn(warning_msg, ODEintWarning)\n",
      "C:\\Users\\UserALai\\miniconda3\\lib\\site-packages\\scipy\\integrate\\_odepack_py.py:247: ODEintWarning: Excess work done on this call (perhaps wrong Dfun type). Run with full_output = 1 to get quantitative information.\n",
      "  warnings.warn(warning_msg, ODEintWarning)\n",
      "C:\\Users\\UserALai\\miniconda3\\lib\\site-packages\\scipy\\integrate\\_odepack_py.py:247: ODEintWarning: Excess work done on this call (perhaps wrong Dfun type). Run with full_output = 1 to get quantitative information.\n",
      "  warnings.warn(warning_msg, ODEintWarning)\n"
     ]
    },
    {
     "name": "stdout",
     "output_type": "stream",
     "text": [
      "0.46688888888888885\n",
      "(u)' = 4.165 1/(1 + u^1) + 9.428 1/(1 + u^2) + 1.312 1/(1 + v^2) + -26.777 1/(1 + u^3) + 0.654 1/(1 + v^3) + -10.253 1/(1 + u^4) + -1.260 1/(1 + v^4) + 23.802 1/(1 + u^5) + -1.056 1/(1 + v^5)\n",
      "(v)' = -2.879 1/(1 + u^1) + 1.557 1/(1 + v^1) + -3.160 1/(1 + u^2) + 11.192 1/(1 + v^2) + 11.696 1/(1 + u^3) + -21.391 1/(1 + v^3) + -0.527 1/(1 + u^4) + -18.962 1/(1 + v^4) + -5.099 1/(1 + u^5) + 27.698 1/(1 + v^5)\n"
     ]
    },
    {
     "name": "stderr",
     "output_type": "stream",
     "text": [
      "C:\\Users\\UserALai\\miniconda3\\lib\\site-packages\\scipy\\integrate\\_odepack_py.py:247: ODEintWarning: Excess work done on this call (perhaps wrong Dfun type). Run with full_output = 1 to get quantitative information.\n",
      "  warnings.warn(warning_msg, ODEintWarning)\n",
      "C:\\Users\\UserALai\\miniconda3\\lib\\site-packages\\scipy\\integrate\\_odepack_py.py:247: ODEintWarning: Excess work done on this call (perhaps wrong Dfun type). Run with full_output = 1 to get quantitative information.\n",
      "  warnings.warn(warning_msg, ODEintWarning)\n"
     ]
    },
    {
     "name": "stdout",
     "output_type": "stream",
     "text": [
      "0.5334444444444444\n",
      "(u)' = -0.988 1/(1 + u^1) + -1.600 1/(1 + v^1) + 6.714 1/(1 + u^2) + -10.312 1/(1 + v^2) + 11.007 1/(1 + v^3) + -8.905 1/(1 + u^4) + 9.428 1/(1 + v^4) + 4.933 1/(1 + u^5) + -10.386 1/(1 + v^5)\n",
      "(v)' = 1.164 1/(1 + u^1) + 1.877 1/(1 + v^1) + 2.592 1/(1 + u^2) + 5.700 1/(1 + v^2) + -11.588 1/(1 + u^3) + -12.089 1/(1 + v^3) + -6.599 1/(1 + u^4) + -5.148 1/(1 + v^4) + 13.495 1/(1 + u^5) + 10.818 1/(1 + v^5)\n",
      "0.6\n",
      "(u)' = 0.558 v + 1.046 1/(1 + u^1) + 2.351 1/(1 + v^1) + -2.039 1/(1 + u^2) + 2.659 1/(1 + v^2) + -9.856 1/(1 + u^3) + -11.214 1/(1 + v^3) + -2.138 1/(1 + u^4) + 11.185 1/(1 + u^5) + 6.973 1/(1 + v^5)\n",
      "(v)' = -0.645 u + 1.907 1/(1 + u^1) + -3.298 1/(1 + v^1) + -1.927 1/(1 + u^2) + 7.935 1/(1 + v^2) + -10.364 1/(1 + u^3) + 13.360 1/(1 + v^3) + 1.663 1/(1 + u^4) + -10.624 1/(1 + v^4) + 7.729 1/(1 + u^5) + -5.681 1/(1 + v^5)\n",
      "[0.001      0.06755556 0.13411111 0.20066667 0.26722222 0.33377778\n",
      " 0.40033333 0.46688889 0.53344444 0.6       ]\n",
      "[0.011793997489513078, 0.092918709167056, 0.094623363304549, 0.9514072822068865, 15.07364129623573, 0.745721699309679, 3.1491077993024263, 34.72692157372666, 8.573819840030552, 8888.660645835706]\n",
      "0.001\n",
      "(u)' = -1.125 u + 12.670 1/(1 + u^1) + 3.564 1/(1 + v^1) + -35.556 1/(1 + u^2) + -7.598 1/(1 + v^2) + 36.889 1/(1 + u^3) + 4.997 1/(1 + v^3) + -12.446 1/(1 + u^4) + 2.846 1/(1 + v^4) + -0.707 1/(1 + u^5) + -3.308 1/(1 + v^5)\n",
      "(v)' = -0.807 v + -6.635 1/(1 + u^1) + 17.917 1/(1 + v^1) + 7.774 1/(1 + u^2) + -78.919 1/(1 + v^2) + 0.785 1/(1 + u^3) + 160.858 1/(1 + v^3) + -7.845 1/(1 + u^4) + -150.537 1/(1 + v^4) + 4.771 1/(1 + u^5) + 52.444 1/(1 + v^5)\n",
      "0.06755555555555555\n",
      "(u)' = -1.270 u + -1.397 1/(1 + u^1) + 7.576 1/(1 + v^1) + -5.817 1/(1 + u^2) + 16.699 1/(1 + v^2) + 35.393 1/(1 + u^3) + -68.374 1/(1 + v^3) + -61.759 1/(1 + u^4) + 73.406 1/(1 + v^4) + 32.309 1/(1 + u^5) + -26.281 1/(1 + v^5)\n",
      "(v)' = -1.194 v + -0.963 1/(1 + v^1) + 10.110 1/(1 + u^2) + 14.415 1/(1 + v^2) + -35.041 1/(1 + u^3) + -28.435 1/(1 + v^3) + 46.511 1/(1 + u^4) + 26.293 1/(1 + v^4) + -20.115 1/(1 + u^5) + -11.110 1/(1 + v^5)\n",
      "0.1341111111111111\n",
      "(u)' = -1.032 u + 0.660 v + -2.212 1/(1 + v^1) + -0.543 1/(1 + u^2) + 8.936 1/(1 + v^2) + -2.968 1/(1 + u^3) + -0.686 1/(1 + v^3) + -3.965 1/(1 + u^4) + -15.252 1/(1 + v^4) + 6.144 1/(1 + u^5) + 10.565 1/(1 + v^5)\n",
      "(v)' = -2.300 1/(1 + u^1) + -5.324 1/(1 + v^1) + 3.511 1/(1 + u^2) + 4.633 1/(1 + u^3) + 17.062 1/(1 + v^3) + -15.976 1/(1 + u^4) + -12.641 1/(1 + v^4) + 10.456 1/(1 + u^5)\n",
      "0.20066666666666666\n",
      "(u)' = -0.806 u + 0.529 v + -0.641 1/(1 + u^1) + -1.536 1/(1 + v^1) + 2.129 1/(1 + u^2) + 5.175 1/(1 + v^2) + 1.897 1/(1 + u^3) + 2.079 1/(1 + v^3) + -4.313 1/(1 + u^4) + -9.371 1/(1 + v^4) + 4.935 1/(1 + v^5)\n",
      "(v)' = -0.512 v + -1.240 1/(1 + u^1) + -1.135 1/(1 + v^1) + -7.579 1/(1 + u^2) + 5.543 1/(1 + v^2) + 10.327 1/(1 + u^3) + 9.599 1/(1 + u^4) + -10.419 1/(1 + v^4) + -10.840 1/(1 + u^5) + 6.011 1/(1 + v^5)\n"
     ]
    },
    {
     "name": "stderr",
     "output_type": "stream",
     "text": [
      "C:\\Users\\UserALai\\miniconda3\\lib\\site-packages\\scipy\\integrate\\_odepack_py.py:247: ODEintWarning: Excess work done on this call (perhaps wrong Dfun type). Run with full_output = 1 to get quantitative information.\n",
      "  warnings.warn(warning_msg, ODEintWarning)\n",
      "C:\\Users\\UserALai\\miniconda3\\lib\\site-packages\\scipy\\integrate\\_odepack_py.py:247: ODEintWarning: Excess work done on this call (perhaps wrong Dfun type). Run with full_output = 1 to get quantitative information.\n",
      "  warnings.warn(warning_msg, ODEintWarning)\n",
      "C:\\Users\\UserALai\\miniconda3\\lib\\site-packages\\scipy\\integrate\\_odepack_py.py:247: ODEintWarning: Excess work done on this call (perhaps wrong Dfun type). Run with full_output = 1 to get quantitative information.\n",
      "  warnings.warn(warning_msg, ODEintWarning)\n",
      "C:\\Users\\UserALai\\miniconda3\\lib\\site-packages\\scipy\\integrate\\_odepack_py.py:247: ODEintWarning: Excess work done on this call (perhaps wrong Dfun type). Run with full_output = 1 to get quantitative information.\n",
      "  warnings.warn(warning_msg, ODEintWarning)\n",
      "C:\\Users\\UserALai\\miniconda3\\lib\\site-packages\\scipy\\integrate\\_odepack_py.py:247: ODEintWarning: Excess work done on this call (perhaps wrong Dfun type). Run with full_output = 1 to get quantitative information.\n",
      "  warnings.warn(warning_msg, ODEintWarning)\n",
      "C:\\Users\\UserALai\\miniconda3\\lib\\site-packages\\scipy\\integrate\\_odepack_py.py:247: ODEintWarning: Excess work done on this call (perhaps wrong Dfun type). Run with full_output = 1 to get quantitative information.\n",
      "  warnings.warn(warning_msg, ODEintWarning)\n",
      "C:\\Users\\UserALai\\miniconda3\\lib\\site-packages\\scipy\\integrate\\_odepack_py.py:247: ODEintWarning: Excess work done on this call (perhaps wrong Dfun type). Run with full_output = 1 to get quantitative information.\n",
      "  warnings.warn(warning_msg, ODEintWarning)\n",
      "C:\\Users\\UserALai\\miniconda3\\lib\\site-packages\\scipy\\integrate\\_odepack_py.py:247: ODEintWarning: Excess work done on this call (perhaps wrong Dfun type). Run with full_output = 1 to get quantitative information.\n",
      "  warnings.warn(warning_msg, ODEintWarning)\n",
      "C:\\Users\\UserALai\\miniconda3\\lib\\site-packages\\scipy\\integrate\\_odepack_py.py:247: ODEintWarning: Excess work done on this call (perhaps wrong Dfun type). Run with full_output = 1 to get quantitative information.\n",
      "  warnings.warn(warning_msg, ODEintWarning)\n",
      "C:\\Users\\UserALai\\miniconda3\\lib\\site-packages\\scipy\\integrate\\_odepack_py.py:247: ODEintWarning: Excess work done on this call (perhaps wrong Dfun type). Run with full_output = 1 to get quantitative information.\n",
      "  warnings.warn(warning_msg, ODEintWarning)\n",
      "C:\\Users\\UserALai\\miniconda3\\lib\\site-packages\\scipy\\integrate\\_odepack_py.py:247: ODEintWarning: Excess work done on this call (perhaps wrong Dfun type). Run with full_output = 1 to get quantitative information.\n",
      "  warnings.warn(warning_msg, ODEintWarning)\n",
      "C:\\Users\\UserALai\\miniconda3\\lib\\site-packages\\scipy\\integrate\\_odepack_py.py:247: ODEintWarning: Excess work done on this call (perhaps wrong Dfun type). Run with full_output = 1 to get quantitative information.\n",
      "  warnings.warn(warning_msg, ODEintWarning)\n",
      "C:\\Users\\UserALai\\miniconda3\\lib\\site-packages\\scipy\\integrate\\_odepack_py.py:247: ODEintWarning: Excess work done on this call (perhaps wrong Dfun type). Run with full_output = 1 to get quantitative information.\n",
      "  warnings.warn(warning_msg, ODEintWarning)\n",
      "C:\\Users\\UserALai\\miniconda3\\lib\\site-packages\\scipy\\integrate\\_odepack_py.py:247: ODEintWarning: Excess work done on this call (perhaps wrong Dfun type). Run with full_output = 1 to get quantitative information.\n",
      "  warnings.warn(warning_msg, ODEintWarning)\n",
      "C:\\Users\\UserALai\\miniconda3\\lib\\site-packages\\scipy\\integrate\\_odepack_py.py:247: ODEintWarning: Excess work done on this call (perhaps wrong Dfun type). Run with full_output = 1 to get quantitative information.\n",
      "  warnings.warn(warning_msg, ODEintWarning)\n",
      "C:\\Users\\UserALai\\miniconda3\\lib\\site-packages\\scipy\\integrate\\_odepack_py.py:247: ODEintWarning: Excess work done on this call (perhaps wrong Dfun type). Run with full_output = 1 to get quantitative information.\n",
      "  warnings.warn(warning_msg, ODEintWarning)\n",
      "C:\\Users\\UserALai\\miniconda3\\lib\\site-packages\\scipy\\integrate\\_odepack_py.py:247: ODEintWarning: Excess work done on this call (perhaps wrong Dfun type). Run with full_output = 1 to get quantitative information.\n",
      "  warnings.warn(warning_msg, ODEintWarning)\n",
      "C:\\Users\\UserALai\\miniconda3\\lib\\site-packages\\scipy\\integrate\\_odepack_py.py:247: ODEintWarning: Excess work done on this call (perhaps wrong Dfun type). Run with full_output = 1 to get quantitative information.\n",
      "  warnings.warn(warning_msg, ODEintWarning)\n",
      "C:\\Users\\UserALai\\miniconda3\\lib\\site-packages\\scipy\\integrate\\_odepack_py.py:247: ODEintWarning: Excess work done on this call (perhaps wrong Dfun type). Run with full_output = 1 to get quantitative information.\n",
      "  warnings.warn(warning_msg, ODEintWarning)\n",
      "C:\\Users\\UserALai\\miniconda3\\lib\\site-packages\\scipy\\integrate\\_odepack_py.py:247: ODEintWarning: Excess work done on this call (perhaps wrong Dfun type). Run with full_output = 1 to get quantitative information.\n",
      "  warnings.warn(warning_msg, ODEintWarning)\n",
      "C:\\Users\\UserALai\\miniconda3\\lib\\site-packages\\scipy\\integrate\\_odepack_py.py:247: ODEintWarning: Excess work done on this call (perhaps wrong Dfun type). Run with full_output = 1 to get quantitative information.\n",
      "  warnings.warn(warning_msg, ODEintWarning)\n",
      "C:\\Users\\UserALai\\miniconda3\\lib\\site-packages\\scipy\\integrate\\_odepack_py.py:247: ODEintWarning: Excess work done on this call (perhaps wrong Dfun type). Run with full_output = 1 to get quantitative information.\n",
      "  warnings.warn(warning_msg, ODEintWarning)\n",
      "C:\\Users\\UserALai\\miniconda3\\lib\\site-packages\\scipy\\integrate\\_odepack_py.py:247: ODEintWarning: Excess work done on this call (perhaps wrong Dfun type). Run with full_output = 1 to get quantitative information.\n",
      "  warnings.warn(warning_msg, ODEintWarning)\n",
      "C:\\Users\\UserALai\\miniconda3\\lib\\site-packages\\scipy\\integrate\\_odepack_py.py:247: ODEintWarning: Excess work done on this call (perhaps wrong Dfun type). Run with full_output = 1 to get quantitative information.\n",
      "  warnings.warn(warning_msg, ODEintWarning)\n",
      "C:\\Users\\UserALai\\miniconda3\\lib\\site-packages\\scipy\\integrate\\_odepack_py.py:247: ODEintWarning: Excess work done on this call (perhaps wrong Dfun type). Run with full_output = 1 to get quantitative information.\n",
      "  warnings.warn(warning_msg, ODEintWarning)\n"
     ]
    },
    {
     "name": "stdout",
     "output_type": "stream",
     "text": [
      "0.2672222222222222\n",
      "(u)' = -0.735 u + -2.686 1/(1 + u^1) + -2.773 1/(1 + v^1) + -4.572 1/(1 + u^2) + 7.276 1/(1 + v^2) + 13.946 1/(1 + u^3) + 8.241 1/(1 + v^3) + 1.869 1/(1 + u^4) + -10.824 1/(1 + v^4) + -9.804 1/(1 + u^5)\n",
      "(v)' = 0.764 u + -1.482 v + -1.684 1/(1 + v^1) + -1.843 1/(1 + u^2) + 4.831 1/(1 + v^2) + 7.454 1/(1 + u^3) + 3.912 1/(1 + v^3) + 9.389 1/(1 + u^4) + -10.634 1/(1 + v^4) + -12.373 1/(1 + u^5) + 1.796 1/(1 + v^5)\n",
      "0.33377777777777773\n",
      "(u)' = -2.495 1/(1 + v^1) + 5.790 1/(1 + u^2) + -3.690 1/(1 + v^2) + -6.540 1/(1 + u^3) + 11.290 1/(1 + v^3) + -9.114 1/(1 + u^4) + 10.900 1/(1 + u^5) + -6.271 1/(1 + v^5)\n",
      "(v)' = -0.950 1/(1 + u^1) + -13.343 1/(1 + u^2) + 3.516 1/(1 + v^2) + 9.139 1/(1 + u^3) + 14.662 1/(1 + u^4) + -2.855 1/(1 + v^4) + -10.483 1/(1 + u^5)\n"
     ]
    },
    {
     "name": "stderr",
     "output_type": "stream",
     "text": [
      "C:\\Users\\UserALai\\miniconda3\\lib\\site-packages\\scipy\\integrate\\_odepack_py.py:247: ODEintWarning: Excess work done on this call (perhaps wrong Dfun type). Run with full_output = 1 to get quantitative information.\n",
      "  warnings.warn(warning_msg, ODEintWarning)\n",
      "C:\\Users\\UserALai\\miniconda3\\lib\\site-packages\\scipy\\integrate\\_odepack_py.py:247: ODEintWarning: Excess work done on this call (perhaps wrong Dfun type). Run with full_output = 1 to get quantitative information.\n",
      "  warnings.warn(warning_msg, ODEintWarning)\n",
      "C:\\Users\\UserALai\\miniconda3\\lib\\site-packages\\scipy\\integrate\\_odepack_py.py:247: ODEintWarning: Excess work done on this call (perhaps wrong Dfun type). Run with full_output = 1 to get quantitative information.\n",
      "  warnings.warn(warning_msg, ODEintWarning)\n",
      "C:\\Users\\UserALai\\miniconda3\\lib\\site-packages\\scipy\\integrate\\_odepack_py.py:247: ODEintWarning: Excess work done on this call (perhaps wrong Dfun type). Run with full_output = 1 to get quantitative information.\n",
      "  warnings.warn(warning_msg, ODEintWarning)\n",
      "C:\\Users\\UserALai\\miniconda3\\lib\\site-packages\\scipy\\integrate\\_odepack_py.py:247: ODEintWarning: Excess work done on this call (perhaps wrong Dfun type). Run with full_output = 1 to get quantitative information.\n",
      "  warnings.warn(warning_msg, ODEintWarning)\n",
      "C:\\Users\\UserALai\\miniconda3\\lib\\site-packages\\scipy\\integrate\\_odepack_py.py:247: ODEintWarning: Excess work done on this call (perhaps wrong Dfun type). Run with full_output = 1 to get quantitative information.\n",
      "  warnings.warn(warning_msg, ODEintWarning)\n",
      "C:\\Users\\UserALai\\miniconda3\\lib\\site-packages\\scipy\\integrate\\_odepack_py.py:247: ODEintWarning: Excess work done on this call (perhaps wrong Dfun type). Run with full_output = 1 to get quantitative information.\n",
      "  warnings.warn(warning_msg, ODEintWarning)\n",
      "C:\\Users\\UserALai\\miniconda3\\lib\\site-packages\\scipy\\integrate\\_odepack_py.py:247: ODEintWarning: Excess work done on this call (perhaps wrong Dfun type). Run with full_output = 1 to get quantitative information.\n",
      "  warnings.warn(warning_msg, ODEintWarning)\n",
      "C:\\Users\\UserALai\\miniconda3\\lib\\site-packages\\scipy\\integrate\\_odepack_py.py:247: ODEintWarning: Excess work done on this call (perhaps wrong Dfun type). Run with full_output = 1 to get quantitative information.\n",
      "  warnings.warn(warning_msg, ODEintWarning)\n",
      "C:\\Users\\UserALai\\miniconda3\\lib\\site-packages\\scipy\\integrate\\_odepack_py.py:247: ODEintWarning: Excess work done on this call (perhaps wrong Dfun type). Run with full_output = 1 to get quantitative information.\n",
      "  warnings.warn(warning_msg, ODEintWarning)\n",
      "C:\\Users\\UserALai\\miniconda3\\lib\\site-packages\\scipy\\integrate\\_odepack_py.py:247: ODEintWarning: Excess work done on this call (perhaps wrong Dfun type). Run with full_output = 1 to get quantitative information.\n",
      "  warnings.warn(warning_msg, ODEintWarning)\n",
      "C:\\Users\\UserALai\\miniconda3\\lib\\site-packages\\scipy\\integrate\\_odepack_py.py:247: ODEintWarning: Excess work done on this call (perhaps wrong Dfun type). Run with full_output = 1 to get quantitative information.\n",
      "  warnings.warn(warning_msg, ODEintWarning)\n",
      "C:\\Users\\UserALai\\miniconda3\\lib\\site-packages\\scipy\\integrate\\_odepack_py.py:247: ODEintWarning: Excess work done on this call (perhaps wrong Dfun type). Run with full_output = 1 to get quantitative information.\n",
      "  warnings.warn(warning_msg, ODEintWarning)\n",
      "C:\\Users\\UserALai\\miniconda3\\lib\\site-packages\\scipy\\integrate\\_odepack_py.py:247: ODEintWarning: Excess work done on this call (perhaps wrong Dfun type). Run with full_output = 1 to get quantitative information.\n",
      "  warnings.warn(warning_msg, ODEintWarning)\n",
      "C:\\Users\\UserALai\\miniconda3\\lib\\site-packages\\scipy\\integrate\\_odepack_py.py:247: ODEintWarning: Excess work done on this call (perhaps wrong Dfun type). Run with full_output = 1 to get quantitative information.\n",
      "  warnings.warn(warning_msg, ODEintWarning)\n",
      "C:\\Users\\UserALai\\miniconda3\\lib\\site-packages\\scipy\\integrate\\_odepack_py.py:247: ODEintWarning: Excess work done on this call (perhaps wrong Dfun type). Run with full_output = 1 to get quantitative information.\n",
      "  warnings.warn(warning_msg, ODEintWarning)\n"
     ]
    },
    {
     "name": "stdout",
     "output_type": "stream",
     "text": [
      "0.4003333333333333\n",
      "(u)' = -2.403 1/(1 + u^1) + 1.550 1/(1 + v^1) + -6.950 1/(1 + u^2) + 3.849 1/(1 + v^2) + 12.826 1/(1 + u^3) + -11.192 1/(1 + v^3) + 5.358 1/(1 + u^4) + -4.936 1/(1 + v^4) + -9.271 1/(1 + u^5) + 10.914 1/(1 + v^5)\n",
      "(v)' = -0.671 u + -3.757 1/(1 + u^1) + 0.570 1/(1 + v^1) + -8.406 1/(1 + u^2) + 14.163 1/(1 + v^2) + 23.309 1/(1 + u^3) + -13.150 1/(1 + v^3) + 7.322 1/(1 + u^4) + -18.339 1/(1 + v^4) + -19.968 1/(1 + u^5) + 19.069 1/(1 + v^5)\n"
     ]
    },
    {
     "name": "stderr",
     "output_type": "stream",
     "text": [
      "C:\\Users\\UserALai\\miniconda3\\lib\\site-packages\\scipy\\integrate\\_odepack_py.py:247: ODEintWarning: Repeated convergence failures (perhaps bad Jacobian or tolerances). Run with full_output = 1 to get quantitative information.\n",
      "  warnings.warn(warning_msg, ODEintWarning)\n",
      "C:\\Users\\UserALai\\miniconda3\\lib\\site-packages\\scipy\\integrate\\_odepack_py.py:247: ODEintWarning: Repeated convergence failures (perhaps bad Jacobian or tolerances). Run with full_output = 1 to get quantitative information.\n",
      "  warnings.warn(warning_msg, ODEintWarning)\n",
      "C:\\Users\\UserALai\\miniconda3\\lib\\site-packages\\scipy\\integrate\\_odepack_py.py:247: ODEintWarning: Repeated convergence failures (perhaps bad Jacobian or tolerances). Run with full_output = 1 to get quantitative information.\n",
      "  warnings.warn(warning_msg, ODEintWarning)\n",
      "C:\\Users\\UserALai\\miniconda3\\lib\\site-packages\\scipy\\integrate\\_odepack_py.py:247: ODEintWarning: Repeated convergence failures (perhaps bad Jacobian or tolerances). Run with full_output = 1 to get quantitative information.\n",
      "  warnings.warn(warning_msg, ODEintWarning)\n",
      "C:\\Users\\UserALai\\miniconda3\\lib\\site-packages\\scipy\\integrate\\_odepack_py.py:247: ODEintWarning: Repeated convergence failures (perhaps bad Jacobian or tolerances). Run with full_output = 1 to get quantitative information.\n",
      "  warnings.warn(warning_msg, ODEintWarning)\n",
      "C:\\Users\\UserALai\\miniconda3\\lib\\site-packages\\scipy\\integrate\\_odepack_py.py:247: ODEintWarning: Repeated convergence failures (perhaps bad Jacobian or tolerances). Run with full_output = 1 to get quantitative information.\n",
      "  warnings.warn(warning_msg, ODEintWarning)\n",
      "C:\\Users\\UserALai\\miniconda3\\lib\\site-packages\\scipy\\integrate\\_odepack_py.py:247: ODEintWarning: Repeated convergence failures (perhaps bad Jacobian or tolerances). Run with full_output = 1 to get quantitative information.\n",
      "  warnings.warn(warning_msg, ODEintWarning)\n",
      "C:\\Users\\UserALai\\miniconda3\\lib\\site-packages\\scipy\\integrate\\_odepack_py.py:247: ODEintWarning: Repeated convergence failures (perhaps bad Jacobian or tolerances). Run with full_output = 1 to get quantitative information.\n",
      "  warnings.warn(warning_msg, ODEintWarning)\n",
      "C:\\Users\\UserALai\\miniconda3\\lib\\site-packages\\scipy\\integrate\\_odepack_py.py:247: ODEintWarning: Repeated convergence failures (perhaps bad Jacobian or tolerances). Run with full_output = 1 to get quantitative information.\n",
      "  warnings.warn(warning_msg, ODEintWarning)\n",
      "C:\\Users\\UserALai\\miniconda3\\lib\\site-packages\\scipy\\integrate\\_odepack_py.py:247: ODEintWarning: Repeated convergence failures (perhaps bad Jacobian or tolerances). Run with full_output = 1 to get quantitative information.\n",
      "  warnings.warn(warning_msg, ODEintWarning)\n"
     ]
    },
    {
     "name": "stdout",
     "output_type": "stream",
     "text": [
      "0.46688888888888885\n",
      "(u)' = -7.532 1/(1 + u^1) + -6.071 1/(1 + v^1) + -16.328 1/(1 + u^2) + -3.601 1/(1 + v^2) + 44.720 1/(1 + u^3) + 28.261 1/(1 + v^3) + 16.320 1/(1 + u^4) + -2.241 1/(1 + v^4) + -36.874 1/(1 + u^5) + -16.762 1/(1 + v^5)\n",
      "(v)' = -5.134 1/(1 + u^1) + -1.686 1/(1 + v^1) + -8.513 1/(1 + u^2) + -8.134 1/(1 + v^2) + 27.235 1/(1 + u^3) + 11.714 1/(1 + v^3) + 6.508 1/(1 + u^4) + 8.658 1/(1 + v^4) + -19.724 1/(1 + u^5) + -11.045 1/(1 + v^5)\n"
     ]
    },
    {
     "name": "stderr",
     "output_type": "stream",
     "text": [
      "C:\\Users\\UserALai\\miniconda3\\lib\\site-packages\\scipy\\integrate\\_odepack_py.py:247: ODEintWarning: Excess work done on this call (perhaps wrong Dfun type). Run with full_output = 1 to get quantitative information.\n",
      "  warnings.warn(warning_msg, ODEintWarning)\n"
     ]
    },
    {
     "name": "stdout",
     "output_type": "stream",
     "text": [
      "0.5334444444444444\n",
      "(u)' = -3.200 1/(1 + u^1) + 0.759 1/(1 + v^1) + -5.786 1/(1 + u^2) + 18.450 1/(1 + u^3) + -6.527 1/(1 + v^3) + 6.281 1/(1 + u^4) + -2.277 1/(1 + v^4) + -14.781 1/(1 + u^5) + 7.079 1/(1 + v^5)\n",
      "(v)' = -4.895 1/(1 + u^1) + 4.022 1/(1 + v^1) + -8.261 1/(1 + u^2) + 0.949 1/(1 + v^2) + 28.922 1/(1 + u^3) + -17.445 1/(1 + v^3) + 7.359 1/(1 + u^4) + 3.954 1/(1 + v^4) + -23.732 1/(1 + u^5) + 8.988 1/(1 + v^5)\n",
      "0.6\n",
      "(u)' = -1.540 1/(1 + u^1) + -2.844 1/(1 + v^1) + -8.350 1/(1 + u^2) + 3.641 1/(1 + v^2) + 15.950 1/(1 + u^3) + 11.674 1/(1 + v^3) + 11.989 1/(1 + u^4) + -6.655 1/(1 + v^4) + -18.882 1/(1 + u^5) + -5.238 1/(1 + v^5)\n",
      "(v)' = -1.157 1/(1 + u^1) + -3.043 1/(1 + u^2) + 4.212 1/(1 + v^2) + 10.834 1/(1 + u^3) + 0.765 1/(1 + v^3) + 5.130 1/(1 + u^4) + -3.482 1/(1 + v^4) + -12.267 1/(1 + u^5) + -1.271 1/(1 + v^5)\n",
      "[0.001      0.06755556 0.13411111 0.20066667 0.26722222 0.33377778\n",
      " 0.40033333 0.46688889 0.53344444 0.6       ]\n",
      "[0.01604598170789958, 0.021112727253504816, 0.41283023346561265, 1.9946236279670468, 0.8875929612945785, 1.2374225589876824, 43635477.63618137, 0.9095153742493657, 13.6482574365153, 23.347193387881287]\n",
      "0.001\n",
      "(u)' = -1.191 u + 19.485 1/(1 + u^1) + -1.961 1/(1 + v^1) + -48.451 1/(1 + u^2) + 52.124 1/(1 + u^3) + 2.536 1/(1 + v^3) + -23.782 1/(1 + u^4) + 3.021 1/(1 + u^5) + -1.451 1/(1 + v^5)\n",
      "(v)' = -1.230 v + 22.716 1/(1 + u^1) + -7.863 1/(1 + v^1) + -63.177 1/(1 + u^2) + 4.800 1/(1 + v^2) + 102.887 1/(1 + u^3) + 17.794 1/(1 + v^3) + -89.003 1/(1 + u^4) + -33.502 1/(1 + v^4) + 31.184 1/(1 + u^5) + 15.812 1/(1 + v^5)\n",
      "0.06755555555555555\n",
      "(u)' = -0.941 u + -0.750 1/(1 + u^1) + 4.421 1/(1 + v^1) + 8.089 1/(1 + u^2) + -19.290 1/(1 + v^2) + -26.954 1/(1 + u^3) + 58.991 1/(1 + v^3) + 28.321 1/(1 + u^4) + -71.548 1/(1 + v^4) + -9.108 1/(1 + u^5) + 28.849 1/(1 + v^5)\n",
      "(v)' = -1.146 v + 7.609 1/(1 + u^1) + 10.870 1/(1 + v^1) + 26.316 1/(1 + u^2) + -84.093 1/(1 + v^2) + -132.920 1/(1 + u^3) + 197.595 1/(1 + v^3) + 182.286 1/(1 + u^4) + -197.522 1/(1 + v^4) + -79.698 1/(1 + u^5) + 71.093 1/(1 + v^5)\n",
      "0.1341111111111111\n",
      "(u)' = -1.607 1/(1 + u^1) + -5.550 1/(1 + v^1) + -5.030 1/(1 + u^2) + 2.115 1/(1 + v^2) + 10.817 1/(1 + u^3) + 20.588 1/(1 + v^3) + -4.917 1/(1 + u^4) + -32.876 1/(1 + v^4) + 0.887 1/(1 + u^5) + 14.593 1/(1 + v^5)\n",
      "(v)' = -0.766 v + 2.502 1/(1 + u^1) + 3.425 1/(1 + v^1) + 4.969 1/(1 + u^2) + 5.386 1/(1 + v^2) + -13.752 1/(1 + u^3) + -23.676 1/(1 + v^3) + 1.295 1/(1 + u^4) + 8.109 1/(1 + v^4) + 6.390 1/(1 + u^5) + 6.303 1/(1 + v^5)\n",
      "0.20066666666666666\n",
      "(u)' = 1.946 1/(1 + u^1) + -2.279 1/(1 + v^1) + 4.051 1/(1 + u^2) + -18.879 1/(1 + v^2) + -8.077 1/(1 + u^3) + 24.085 1/(1 + v^3) + -0.793 1/(1 + u^4) + 23.677 1/(1 + v^4) + 4.110 1/(1 + u^5) + -28.395 1/(1 + v^5)\n",
      "(v)' = -0.570 v + -1.864 1/(1 + v^1) + -2.932 1/(1 + u^2) + 7.501 1/(1 + v^2) + 3.895 1/(1 + u^3) + 0.568 1/(1 + v^3) + 6.073 1/(1 + u^4) + -15.251 1/(1 + v^4) + -6.471 1/(1 + u^5) + 9.107 1/(1 + v^5)\n",
      "0.2672222222222222\n",
      "(u)' = -0.719 u + 1.087 1/(1 + u^1) + 1.020 1/(1 + v^1) + 2.728 1/(1 + u^2) + 11.594 1/(1 + v^2) + -4.895 1/(1 + u^3) + -11.095 1/(1 + v^3) + -2.330 1/(1 + u^4) + -13.274 1/(1 + v^4) + 2.725 1/(1 + u^5) + 13.415 1/(1 + v^5)\n",
      "(v)' = 0.501 u + -1.158 v + 0.682 1/(1 + u^1) + -2.259 1/(1 + v^1) + 1.083 1/(1 + u^2) + 11.030 1/(1 + v^2) + -2.093 1/(1 + u^3) + -4.601 1/(1 + v^3) + 2.425 1/(1 + u^4) + -24.402 1/(1 + v^4) + 18.984 1/(1 + v^5)\n",
      "0.33377777777777773\n",
      "(u)' = -3.496 1/(1 + u^1) + 2.477 1/(1 + v^1) + -5.484 1/(1 + u^2) + -12.103 1/(1 + v^2) + 17.305 1/(1 + u^3) + -5.365 1/(1 + v^3) + 3.655 1/(1 + u^4) + 17.392 1/(1 + v^4) + -11.351 1/(1 + u^5) + -3.468 1/(1 + v^5)\n",
      "(v)' = -1.906 1/(1 + u^1) + -1.062 1/(1 + v^1) + 2.634 1/(1 + u^2) + 1.791 1/(1 + v^2) + 5.712 1/(1 + u^3) + 4.948 1/(1 + v^3) + -6.993 1/(1 + u^4) + -2.099 1/(1 + v^4) + -2.928 1/(1 + v^5)\n",
      "0.4003333333333333\n",
      "(u)' = -0.600 u + 0.522 v + 1.779 1/(1 + u^1) + 0.856 1/(1 + v^1) + 10.190 1/(1 + u^2) + -14.704 1/(1 + u^3) + -5.258 1/(1 + v^3) + -13.032 1/(1 + u^4) + 15.648 1/(1 + u^5) + 4.409 1/(1 + v^5)\n",
      "(v)' = 0.796 1/(1 + u^1) + 1.364 1/(1 + v^1) + 1.495 1/(1 + u^2) + -8.117 1/(1 + v^2) + -3.022 1/(1 + u^3) + -1.684 1/(1 + v^3) + 1.051 1/(1 + u^4) + 10.700 1/(1 + v^4) + 1.058 1/(1 + u^5) + -4.009 1/(1 + v^5)\n",
      "0.46688888888888885\n",
      "(u)' = -0.920 1/(1 + u^1) + 1.128 1/(1 + v^1) + 2.453 1/(1 + u^2) + 1.241 1/(1 + v^2) + -2.651 1/(1 + u^3) + -9.684 1/(1 + v^3) + -7.609 1/(1 + u^4) + -3.073 1/(1 + v^4) + 9.017 1/(1 + u^5) + 10.438 1/(1 + v^5)\n",
      "(v)' = 2.632 1/(1 + u^1) + -2.695 1/(1 + v^1) + -3.227 1/(1 + v^2) + -11.307 1/(1 + u^3) + 16.068 1/(1 + v^3) + 3.030 1/(1 + u^4) + 2.911 1/(1 + v^4) + 5.667 1/(1 + u^5) + -13.347 1/(1 + v^5)\n"
     ]
    },
    {
     "name": "stderr",
     "output_type": "stream",
     "text": [
      "C:\\Users\\UserALai\\miniconda3\\lib\\site-packages\\scipy\\integrate\\_odepack_py.py:247: ODEintWarning: Excess work done on this call (perhaps wrong Dfun type). Run with full_output = 1 to get quantitative information.\n",
      "  warnings.warn(warning_msg, ODEintWarning)\n"
     ]
    },
    {
     "name": "stdout",
     "output_type": "stream",
     "text": [
      "0.5334444444444444\n",
      "(u)' = 5.296 1/(1 + u^1) + -3.950 1/(1 + v^1) + 17.798 1/(1 + u^2) + -17.600 1/(1 + v^2) + -26.301 1/(1 + u^3) + 22.610 1/(1 + v^3) + -11.007 1/(1 + u^4) + 13.602 1/(1 + v^4) + 17.342 1/(1 + u^5) + -17.935 1/(1 + v^5)\n",
      "(v)' = 1.508 1/(1 + u^1) + -1.078 1/(1 + v^1) + 5.867 1/(1 + v^2) + -6.551 1/(1 + u^3) + -3.314 1/(1 + v^3) + 1.676 1/(1 + u^4) + -12.521 1/(1 + v^4) + 3.389 1/(1 + u^5) + 10.917 1/(1 + v^5)\n",
      "0.6\n",
      "(u)' = 2.202 1/(1 + u^1) + 3.301 1/(1 + v^1) + 8.487 1/(1 + u^2) + -3.235 1/(1 + v^2) + -11.649 1/(1 + u^3) + -22.209 1/(1 + v^3) + -5.925 1/(1 + u^4) + 8.401 1/(1 + u^5) + 20.508 1/(1 + v^5)\n",
      "(v)' = -0.539 u + 4.124 1/(1 + u^1) + -0.852 1/(1 + v^1) + 6.129 1/(1 + u^2) + 12.124 1/(1 + v^2) + -19.818 1/(1 + u^3) + -1.607 1/(1 + v^3) + -4.508 1/(1 + u^4) + -14.456 1/(1 + v^4) + 12.406 1/(1 + u^5) + 6.955 1/(1 + v^5)\n"
     ]
    },
    {
     "name": "stderr",
     "output_type": "stream",
     "text": [
      "C:\\Users\\UserALai\\miniconda3\\lib\\site-packages\\scipy\\integrate\\_odepack_py.py:247: ODEintWarning: Excess work done on this call (perhaps wrong Dfun type). Run with full_output = 1 to get quantitative information.\n",
      "  warnings.warn(warning_msg, ODEintWarning)\n"
     ]
    },
    {
     "name": "stdout",
     "output_type": "stream",
     "text": [
      "[0.001      0.06755556 0.13411111 0.20066667 0.26722222 0.33377778\n",
      " 0.40033333 0.46688889 0.53344444 0.6       ]\n",
      "[0.04450387197260686, 0.1075740922803143, 0.339768157464145, 0.7526758099698933, 1.0434743946427651, 3.427412554535995, 4.558728297981689, 4.242187089361669, 12.653187985460017, 4.663496408664457]\n",
      "0.001\n",
      "(u)' = -1.351 u + 10.728 1/(1 + u^1) + -17.197 1/(1 + u^2) + 9.493 1/(1 + v^2) + -26.968 1/(1 + v^3) + 17.472 1/(1 + u^4) + 29.096 1/(1 + v^4) + -9.680 1/(1 + u^5) + -11.112 1/(1 + v^5)\n",
      "(v)' = -0.953 v + -0.855 1/(1 + v^1) + -2.502 1/(1 + v^2) + -2.291 1/(1 + u^3) + 27.240 1/(1 + v^3) + 4.136 1/(1 + u^4) + -43.924 1/(1 + v^4) + -1.315 1/(1 + u^5) + 20.383 1/(1 + v^5)\n",
      "0.06755555555555555\n",
      "(u)' = -0.947 u + -1.961 1/(1 + u^1) + 16.568 1/(1 + u^2) + 18.524 1/(1 + v^2) + -47.263 1/(1 + u^3) + -42.332 1/(1 + v^3) + 48.770 1/(1 + u^4) + 32.794 1/(1 + v^4) + -16.619 1/(1 + u^5) + -7.596 1/(1 + v^5)\n",
      "(v)' = -1.484 v + 5.950 1/(1 + u^1) + 1.166 1/(1 + v^1) + -5.555 1/(1 + u^2) + 15.374 1/(1 + v^2) + -9.340 1/(1 + u^3) + -30.576 1/(1 + v^3) + 18.011 1/(1 + u^4) + 14.464 1/(1 + v^4) + -7.182 1/(1 + u^5)\n",
      "0.1341111111111111\n",
      "(u)' = -1.303 u + 1.061 v + 0.879 1/(1 + u^1) + -6.243 1/(1 + v^2) + -6.216 1/(1 + u^3) + 7.484 1/(1 + v^3) + -3.396 1/(1 + u^4) + 13.144 1/(1 + v^4) + 6.825 1/(1 + u^5) + -12.566 1/(1 + v^5)\n",
      "(v)' = -0.586 v + 2.343 1/(1 + u^1) + 1.657 1/(1 + v^1) + -0.948 1/(1 + u^2) + -6.305 1/(1 + u^3) + -7.508 1/(1 + v^3) + 8.331 1/(1 + u^4) + 3.986 1/(1 + v^4) + -2.519 1/(1 + u^5) + 1.541 1/(1 + v^5)\n",
      "0.20066666666666666\n",
      "(u)' = -1.708 u + 0.524 v + -2.667 1/(1 + u^1) + 2.261 1/(1 + v^1) + 9.721 1/(1 + u^2) + 8.024 1/(1 + v^2) + -3.044 1/(1 + u^3) + -10.218 1/(1 + v^3) + -24.059 1/(1 + u^4) + -3.151 1/(1 + v^4) + 18.182 1/(1 + u^5) + 6.434 1/(1 + v^5)\n",
      "(v)' = -0.929 u + 0.786 v + -0.600 1/(1 + u^1) + 3.018 1/(1 + v^1) + 2.089 1/(1 + u^2) + -4.457 1/(1 + v^2) + -2.045 1/(1 + u^3) + -2.767 1/(1 + v^3) + -7.816 1/(1 + u^4) + 14.819 1/(1 + v^4) + 6.360 1/(1 + u^5) + -8.456 1/(1 + v^5)\n",
      "0.2672222222222222\n",
      "(u)' = -0.579 u + -1.199 1/(1 + u^2) + 2.909 1/(1 + v^2) + -1.920 1/(1 + u^3) + 2.569 1/(1 + v^3) + -0.834 1/(1 + u^4) + 3.200 1/(1 + u^5) + -4.235 1/(1 + v^5)\n",
      "(v)' = -2.384 1/(1 + v^1) + -1.897 1/(1 + u^2) + -14.302 1/(1 + v^2) + 19.163 1/(1 + v^3) + 2.263 1/(1 + u^4) + 16.830 1/(1 + v^4) + -20.283 1/(1 + v^5)\n",
      "0.33377777777777773\n",
      "(u)' = -0.533 v + 2.263 1/(1 + u^1) + -3.416 1/(1 + v^1) + 12.573 1/(1 + u^2) + 3.747 1/(1 + v^2) + -16.326 1/(1 + u^3) + 2.637 1/(1 + v^3) + -12.162 1/(1 + u^4) + -17.195 1/(1 + v^4) + 15.894 1/(1 + u^5) + 12.763 1/(1 + v^5)\n",
      "(v)' = -1.205 1/(1 + u^1) + -1.831 1/(1 + u^2) + -6.864 1/(1 + v^2) + 4.536 1/(1 + u^3) + 6.497 1/(1 + v^3) + 10.869 1/(1 + v^4) + -1.561 1/(1 + u^5) + -10.852 1/(1 + v^5)\n"
     ]
    },
    {
     "name": "stderr",
     "output_type": "stream",
     "text": [
      "C:\\Users\\UserALai\\miniconda3\\lib\\site-packages\\scipy\\integrate\\_odepack_py.py:247: ODEintWarning: Excess work done on this call (perhaps wrong Dfun type). Run with full_output = 1 to get quantitative information.\n",
      "  warnings.warn(warning_msg, ODEintWarning)\n",
      "C:\\Users\\UserALai\\miniconda3\\lib\\site-packages\\scipy\\integrate\\_odepack_py.py:247: ODEintWarning: Excess work done on this call (perhaps wrong Dfun type). Run with full_output = 1 to get quantitative information.\n",
      "  warnings.warn(warning_msg, ODEintWarning)\n",
      "C:\\Users\\UserALai\\miniconda3\\lib\\site-packages\\scipy\\integrate\\_odepack_py.py:247: ODEintWarning: Excess work done on this call (perhaps wrong Dfun type). Run with full_output = 1 to get quantitative information.\n",
      "  warnings.warn(warning_msg, ODEintWarning)\n",
      "C:\\Users\\UserALai\\miniconda3\\lib\\site-packages\\scipy\\integrate\\_odepack_py.py:247: ODEintWarning: Excess work done on this call (perhaps wrong Dfun type). Run with full_output = 1 to get quantitative information.\n",
      "  warnings.warn(warning_msg, ODEintWarning)\n",
      "C:\\Users\\UserALai\\miniconda3\\lib\\site-packages\\scipy\\integrate\\_odepack_py.py:247: ODEintWarning: Excess work done on this call (perhaps wrong Dfun type). Run with full_output = 1 to get quantitative information.\n",
      "  warnings.warn(warning_msg, ODEintWarning)\n",
      "C:\\Users\\UserALai\\miniconda3\\lib\\site-packages\\scipy\\integrate\\_odepack_py.py:247: ODEintWarning: Excess work done on this call (perhaps wrong Dfun type). Run with full_output = 1 to get quantitative information.\n",
      "  warnings.warn(warning_msg, ODEintWarning)\n",
      "C:\\Users\\UserALai\\miniconda3\\lib\\site-packages\\scipy\\integrate\\_odepack_py.py:247: ODEintWarning: Excess work done on this call (perhaps wrong Dfun type). Run with full_output = 1 to get quantitative information.\n",
      "  warnings.warn(warning_msg, ODEintWarning)\n",
      "C:\\Users\\UserALai\\miniconda3\\lib\\site-packages\\scipy\\integrate\\_odepack_py.py:247: ODEintWarning: Excess work done on this call (perhaps wrong Dfun type). Run with full_output = 1 to get quantitative information.\n",
      "  warnings.warn(warning_msg, ODEintWarning)\n",
      "C:\\Users\\UserALai\\miniconda3\\lib\\site-packages\\scipy\\integrate\\_odepack_py.py:247: ODEintWarning: Excess work done on this call (perhaps wrong Dfun type). Run with full_output = 1 to get quantitative information.\n",
      "  warnings.warn(warning_msg, ODEintWarning)\n",
      "C:\\Users\\UserALai\\miniconda3\\lib\\site-packages\\scipy\\integrate\\_odepack_py.py:247: ODEintWarning: Excess work done on this call (perhaps wrong Dfun type). Run with full_output = 1 to get quantitative information.\n",
      "  warnings.warn(warning_msg, ODEintWarning)\n",
      "C:\\Users\\UserALai\\miniconda3\\lib\\site-packages\\scipy\\integrate\\_odepack_py.py:247: ODEintWarning: Excess work done on this call (perhaps wrong Dfun type). Run with full_output = 1 to get quantitative information.\n",
      "  warnings.warn(warning_msg, ODEintWarning)\n",
      "C:\\Users\\UserALai\\miniconda3\\lib\\site-packages\\scipy\\integrate\\_odepack_py.py:247: ODEintWarning: Excess work done on this call (perhaps wrong Dfun type). Run with full_output = 1 to get quantitative information.\n",
      "  warnings.warn(warning_msg, ODEintWarning)\n",
      "C:\\Users\\UserALai\\miniconda3\\lib\\site-packages\\scipy\\integrate\\_odepack_py.py:247: ODEintWarning: Excess work done on this call (perhaps wrong Dfun type). Run with full_output = 1 to get quantitative information.\n",
      "  warnings.warn(warning_msg, ODEintWarning)\n",
      "C:\\Users\\UserALai\\miniconda3\\lib\\site-packages\\scipy\\integrate\\_odepack_py.py:247: ODEintWarning: Excess work done on this call (perhaps wrong Dfun type). Run with full_output = 1 to get quantitative information.\n",
      "  warnings.warn(warning_msg, ODEintWarning)\n",
      "C:\\Users\\UserALai\\miniconda3\\lib\\site-packages\\scipy\\integrate\\_odepack_py.py:247: ODEintWarning: Excess work done on this call (perhaps wrong Dfun type). Run with full_output = 1 to get quantitative information.\n",
      "  warnings.warn(warning_msg, ODEintWarning)\n",
      "C:\\Users\\UserALai\\miniconda3\\lib\\site-packages\\scipy\\integrate\\_odepack_py.py:247: ODEintWarning: Excess work done on this call (perhaps wrong Dfun type). Run with full_output = 1 to get quantitative information.\n",
      "  warnings.warn(warning_msg, ODEintWarning)\n",
      "C:\\Users\\UserALai\\miniconda3\\lib\\site-packages\\scipy\\integrate\\_odepack_py.py:247: ODEintWarning: Excess work done on this call (perhaps wrong Dfun type). Run with full_output = 1 to get quantitative information.\n",
      "  warnings.warn(warning_msg, ODEintWarning)\n"
     ]
    },
    {
     "name": "stdout",
     "output_type": "stream",
     "text": [
      "0.4003333333333333\n",
      "(u)' = -2.233 1/(1 + u^1) + -2.862 1/(1 + u^2) + -5.801 1/(1 + v^2) + 11.877 1/(1 + u^3) + 3.736 1/(1 + v^3) + 2.432 1/(1 + u^4) + 7.470 1/(1 + v^4) + -8.643 1/(1 + u^5) + -6.285 1/(1 + v^5)\n",
      "(v)' = -0.710 u + 0.912 1/(1 + v^1) + 5.831 1/(1 + u^2) + 6.185 1/(1 + v^2) + -8.188 1/(1 + v^3) + -6.076 1/(1 + u^4) + -6.847 1/(1 + v^4) + 9.052 1/(1 + v^5)\n"
     ]
    },
    {
     "name": "stderr",
     "output_type": "stream",
     "text": [
      "C:\\Users\\UserALai\\miniconda3\\lib\\site-packages\\scipy\\integrate\\_odepack_py.py:247: ODEintWarning: Excess work done on this call (perhaps wrong Dfun type). Run with full_output = 1 to get quantitative information.\n",
      "  warnings.warn(warning_msg, ODEintWarning)\n",
      "C:\\Users\\UserALai\\miniconda3\\lib\\site-packages\\scipy\\integrate\\_odepack_py.py:247: ODEintWarning: Excess work done on this call (perhaps wrong Dfun type). Run with full_output = 1 to get quantitative information.\n",
      "  warnings.warn(warning_msg, ODEintWarning)\n",
      "C:\\Users\\UserALai\\miniconda3\\lib\\site-packages\\scipy\\integrate\\_odepack_py.py:247: ODEintWarning: Excess work done on this call (perhaps wrong Dfun type). Run with full_output = 1 to get quantitative information.\n",
      "  warnings.warn(warning_msg, ODEintWarning)\n",
      "C:\\Users\\UserALai\\miniconda3\\lib\\site-packages\\scipy\\integrate\\_odepack_py.py:247: ODEintWarning: Excess work done on this call (perhaps wrong Dfun type). Run with full_output = 1 to get quantitative information.\n",
      "  warnings.warn(warning_msg, ODEintWarning)\n",
      "C:\\Users\\UserALai\\miniconda3\\lib\\site-packages\\scipy\\integrate\\_odepack_py.py:247: ODEintWarning: Excess work done on this call (perhaps wrong Dfun type). Run with full_output = 1 to get quantitative information.\n",
      "  warnings.warn(warning_msg, ODEintWarning)\n",
      "C:\\Users\\UserALai\\miniconda3\\lib\\site-packages\\scipy\\integrate\\_odepack_py.py:247: ODEintWarning: Excess work done on this call (perhaps wrong Dfun type). Run with full_output = 1 to get quantitative information.\n",
      "  warnings.warn(warning_msg, ODEintWarning)\n",
      "C:\\Users\\UserALai\\miniconda3\\lib\\site-packages\\scipy\\integrate\\_odepack_py.py:247: ODEintWarning: Excess work done on this call (perhaps wrong Dfun type). Run with full_output = 1 to get quantitative information.\n",
      "  warnings.warn(warning_msg, ODEintWarning)\n",
      "C:\\Users\\UserALai\\miniconda3\\lib\\site-packages\\scipy\\integrate\\_odepack_py.py:247: ODEintWarning: Excess work done on this call (perhaps wrong Dfun type). Run with full_output = 1 to get quantitative information.\n",
      "  warnings.warn(warning_msg, ODEintWarning)\n",
      "C:\\Users\\UserALai\\miniconda3\\lib\\site-packages\\scipy\\integrate\\_odepack_py.py:247: ODEintWarning: Excess work done on this call (perhaps wrong Dfun type). Run with full_output = 1 to get quantitative information.\n",
      "  warnings.warn(warning_msg, ODEintWarning)\n",
      "C:\\Users\\UserALai\\miniconda3\\lib\\site-packages\\scipy\\integrate\\_odepack_py.py:247: ODEintWarning: Excess work done on this call (perhaps wrong Dfun type). Run with full_output = 1 to get quantitative information.\n",
      "  warnings.warn(warning_msg, ODEintWarning)\n",
      "C:\\Users\\UserALai\\miniconda3\\lib\\site-packages\\scipy\\integrate\\_odepack_py.py:247: ODEintWarning: Excess work done on this call (perhaps wrong Dfun type). Run with full_output = 1 to get quantitative information.\n",
      "  warnings.warn(warning_msg, ODEintWarning)\n",
      "C:\\Users\\UserALai\\miniconda3\\lib\\site-packages\\scipy\\integrate\\_odepack_py.py:247: ODEintWarning: Excess work done on this call (perhaps wrong Dfun type). Run with full_output = 1 to get quantitative information.\n",
      "  warnings.warn(warning_msg, ODEintWarning)\n"
     ]
    },
    {
     "name": "stdout",
     "output_type": "stream",
     "text": [
      "0.46688888888888885\n",
      "(u)' = -8.880 1/(1 + u^2) + 5.808 1/(1 + v^2) + 8.258 1/(1 + u^3) + -5.117 1/(1 + v^3) + 13.091 1/(1 + u^4) + -8.041 1/(1 + v^4) + -13.786 1/(1 + u^5) + 8.526 1/(1 + v^5)\n",
      "(v)' = -2.370 1/(1 + u^1) + -1.150 1/(1 + v^1) + -12.732 1/(1 + v^2) + 14.194 1/(1 + u^3) + 12.233 1/(1 + v^3) + 0.919 1/(1 + u^4) + 15.099 1/(1 + v^4) + -11.794 1/(1 + u^5) + -14.636 1/(1 + v^5)\n",
      "0.5334444444444444\n",
      "(u)' = 1.941 1/(1 + u^1) + -2.953 1/(1 + v^1) + 7.625 1/(1 + u^2) + -9.975 1/(1 + v^2) + -11.608 1/(1 + u^3) + 16.562 1/(1 + v^3) + -6.248 1/(1 + u^4) + 7.709 1/(1 + v^4) + 9.623 1/(1 + u^5) + -12.823 1/(1 + v^5)\n",
      "(v)' = 1.731 1/(1 + v^1) + -5.097 1/(1 + u^2) + -3.047 1/(1 + v^2) + 4.351 1/(1 + u^4) + 10.200 1/(1 + v^4) + -8.636 1/(1 + v^5)\n"
     ]
    },
    {
     "name": "stderr",
     "output_type": "stream",
     "text": [
      "C:\\Users\\UserALai\\miniconda3\\lib\\site-packages\\scipy\\integrate\\_odepack_py.py:247: ODEintWarning: Excess work done on this call (perhaps wrong Dfun type). Run with full_output = 1 to get quantitative information.\n",
      "  warnings.warn(warning_msg, ODEintWarning)\n",
      "C:\\Users\\UserALai\\miniconda3\\lib\\site-packages\\scipy\\integrate\\_odepack_py.py:247: ODEintWarning: Excess work done on this call (perhaps wrong Dfun type). Run with full_output = 1 to get quantitative information.\n",
      "  warnings.warn(warning_msg, ODEintWarning)\n",
      "C:\\Users\\UserALai\\miniconda3\\lib\\site-packages\\scipy\\integrate\\_odepack_py.py:247: ODEintWarning: Excess work done on this call (perhaps wrong Dfun type). Run with full_output = 1 to get quantitative information.\n",
      "  warnings.warn(warning_msg, ODEintWarning)\n",
      "C:\\Users\\UserALai\\miniconda3\\lib\\site-packages\\scipy\\integrate\\_odepack_py.py:247: ODEintWarning: Excess work done on this call (perhaps wrong Dfun type). Run with full_output = 1 to get quantitative information.\n",
      "  warnings.warn(warning_msg, ODEintWarning)\n",
      "C:\\Users\\UserALai\\miniconda3\\lib\\site-packages\\scipy\\integrate\\_odepack_py.py:247: ODEintWarning: Excess work done on this call (perhaps wrong Dfun type). Run with full_output = 1 to get quantitative information.\n",
      "  warnings.warn(warning_msg, ODEintWarning)\n",
      "C:\\Users\\UserALai\\miniconda3\\lib\\site-packages\\scipy\\integrate\\_odepack_py.py:247: ODEintWarning: Excess work done on this call (perhaps wrong Dfun type). Run with full_output = 1 to get quantitative information.\n",
      "  warnings.warn(warning_msg, ODEintWarning)\n",
      "C:\\Users\\UserALai\\miniconda3\\lib\\site-packages\\scipy\\integrate\\_odepack_py.py:247: ODEintWarning: Excess work done on this call (perhaps wrong Dfun type). Run with full_output = 1 to get quantitative information.\n",
      "  warnings.warn(warning_msg, ODEintWarning)\n",
      "C:\\Users\\UserALai\\miniconda3\\lib\\site-packages\\scipy\\integrate\\_odepack_py.py:247: ODEintWarning: Excess work done on this call (perhaps wrong Dfun type). Run with full_output = 1 to get quantitative information.\n",
      "  warnings.warn(warning_msg, ODEintWarning)\n",
      "C:\\Users\\UserALai\\miniconda3\\lib\\site-packages\\scipy\\integrate\\_odepack_py.py:247: ODEintWarning: Excess work done on this call (perhaps wrong Dfun type). Run with full_output = 1 to get quantitative information.\n",
      "  warnings.warn(warning_msg, ODEintWarning)\n",
      "C:\\Users\\UserALai\\miniconda3\\lib\\site-packages\\scipy\\integrate\\_odepack_py.py:247: ODEintWarning: Excess work done on this call (perhaps wrong Dfun type). Run with full_output = 1 to get quantitative information.\n",
      "  warnings.warn(warning_msg, ODEintWarning)\n"
     ]
    },
    {
     "name": "stdout",
     "output_type": "stream",
     "text": [
      "0.6\n",
      "(u)' = 4.521 1/(1 + u^1) + -5.933 1/(1 + v^1) + 11.615 1/(1 + u^2) + -18.281 1/(1 + v^2) + -30.539 1/(1 + u^3) + 32.035 1/(1 + v^3) + -12.710 1/(1 + u^4) + 14.512 1/(1 + v^4) + 28.297 1/(1 + u^5) + -23.748 1/(1 + v^5)\n",
      "(v)' = 4.376 1/(1 + u^1) + 1.533 1/(1 + v^1) + 4.476 1/(1 + u^2) + 6.408 1/(1 + v^2) + -20.303 1/(1 + u^3) + -12.495 1/(1 + v^3) + -1.042 1/(1 + u^4) + -8.406 1/(1 + v^4) + 11.940 1/(1 + u^5) + 13.184 1/(1 + v^5)\n",
      "[0.001      0.06755556 0.13411111 0.20066667 0.26722222 0.33377778\n",
      " 0.40033333 0.46688889 0.53344444 0.6       ]\n",
      "[0.0056358303564775815, 0.04319089894695713, 0.15761077105230098, 548662194.0980958, 0.45577296146701146, 0.7296181156127503, 1.8999952716327275, 5.849965944950835, 2.549119996286979, 30.590519060323984]\n",
      "0.001\n",
      "(u)' = -1.012 u + 4.227 1/(1 + u^1) + 1.175 1/(1 + v^1) + -3.195 1/(1 + u^2) + -2.047 1/(1 + v^2) + -12.307 1/(1 + u^3) + 20.876 1/(1 + u^4) + 2.811 1/(1 + v^4) + -8.886 1/(1 + u^5) + -1.655 1/(1 + v^5)\n",
      "(v)' = -1.309 v + 9.255 1/(1 + u^1) + 3.991 1/(1 + v^1) + -9.002 1/(1 + u^2) + -42.726 1/(1 + v^2) + 111.999 1/(1 + v^3) + 2.432 1/(1 + u^4) + -121.190 1/(1 + v^4) + 0.657 1/(1 + u^5) + 46.347 1/(1 + v^5)\n",
      "0.06755555555555555\n",
      "(u)' = -1.545 u + 0.573 v + -3.289 1/(1 + u^1) + -3.498 1/(1 + v^1) + 16.684 1/(1 + u^2) + 26.038 1/(1 + v^2) + -39.677 1/(1 + u^3) + -30.261 1/(1 + v^3) + 31.162 1/(1 + u^4) + 8.251 1/(1 + v^4) + -6.760 1/(1 + u^5) + 2.460 1/(1 + v^5)\n",
      "(v)' = -0.727 v + 2.195 1/(1 + u^1) + 0.957 1/(1 + v^1) + -23.654 1/(1 + u^2) + -5.226 1/(1 + v^2) + 57.411 1/(1 + u^3) + 21.948 1/(1 + v^3) + -58.135 1/(1 + u^4) + -29.915 1/(1 + v^4) + 22.301 1/(1 + u^5) + 12.629 1/(1 + v^5)\n",
      "0.1341111111111111\n",
      "(u)' = -0.599 u + 0.601 v + -1.871 1/(1 + u^1) + -5.716 1/(1 + v^1) + -4.874 1/(1 + u^2) + 3.540 1/(1 + v^2) + 9.277 1/(1 + u^3) + 16.384 1/(1 + v^3) + 0.924 1/(1 + u^4) + -27.397 1/(1 + v^4) + -4.369 1/(1 + u^5) + 13.183 1/(1 + v^5)\n",
      "(v)' = 1.524 1/(1 + u^1) + -5.790 1/(1 + u^2) + -8.188 1/(1 + v^2) + -1.930 1/(1 + u^3) + 8.198 1/(1 + v^3) + 17.906 1/(1 + u^4) + 8.103 1/(1 + v^4) + -11.655 1/(1 + u^5) + -8.543 1/(1 + v^5)\n",
      "0.20066666666666666\n",
      "(u)' = 0.999 1/(1 + v^1) + -2.851 1/(1 + u^2) + -5.489 1/(1 + v^2) + -2.283 1/(1 + v^3) + 3.207 1/(1 + u^4) + 18.918 1/(1 + v^4) + -12.988 1/(1 + v^5)\n",
      "(v)' = -0.797 v + 1.364 1/(1 + u^1) + -7.245 1/(1 + v^1) + 8.456 1/(1 + u^2) + 14.517 1/(1 + v^2) + -10.585 1/(1 + u^3) + 16.626 1/(1 + v^3) + -8.146 1/(1 + u^4) + -49.780 1/(1 + v^4) + 10.751 1/(1 + u^5) + 25.073 1/(1 + v^5)\n",
      "0.2672222222222222\n",
      "(u)' = -3.327 1/(1 + u^1) + -2.448 1/(1 + v^1) + -4.503 1/(1 + u^2) + -7.078 1/(1 + v^2) + 18.313 1/(1 + u^3) + 11.771 1/(1 + v^3) + 3.765 1/(1 + u^4) + 4.344 1/(1 + v^4) + -13.866 1/(1 + u^5) + -7.416 1/(1 + v^5)\n",
      "(v)' = -3.443 1/(1 + u^1) + -9.801 1/(1 + u^2) + 2.090 1/(1 + v^2) + 18.349 1/(1 + u^3) + 7.455 1/(1 + u^4) + -1.453 1/(1 + v^4) + -13.476 1/(1 + u^5)\n"
     ]
    },
    {
     "name": "stderr",
     "output_type": "stream",
     "text": [
      "C:\\Users\\UserALai\\miniconda3\\lib\\site-packages\\scipy\\integrate\\_odepack_py.py:247: ODEintWarning: Excess work done on this call (perhaps wrong Dfun type). Run with full_output = 1 to get quantitative information.\n",
      "  warnings.warn(warning_msg, ODEintWarning)\n",
      "C:\\Users\\UserALai\\miniconda3\\lib\\site-packages\\scipy\\integrate\\_odepack_py.py:247: ODEintWarning: Excess work done on this call (perhaps wrong Dfun type). Run with full_output = 1 to get quantitative information.\n",
      "  warnings.warn(warning_msg, ODEintWarning)\n",
      "C:\\Users\\UserALai\\miniconda3\\lib\\site-packages\\scipy\\integrate\\_odepack_py.py:247: ODEintWarning: Excess work done on this call (perhaps wrong Dfun type). Run with full_output = 1 to get quantitative information.\n",
      "  warnings.warn(warning_msg, ODEintWarning)\n",
      "C:\\Users\\UserALai\\miniconda3\\lib\\site-packages\\scipy\\integrate\\_odepack_py.py:247: ODEintWarning: Excess work done on this call (perhaps wrong Dfun type). Run with full_output = 1 to get quantitative information.\n",
      "  warnings.warn(warning_msg, ODEintWarning)\n"
     ]
    },
    {
     "name": "stdout",
     "output_type": "stream",
     "text": [
      "0.33377777777777773\n",
      "(u)' = 3.679 1/(1 + u^2) + 3.160 1/(1 + v^2) + -4.602 1/(1 + u^3) + -2.541 1/(1 + v^3) + -6.581 1/(1 + u^4) + -4.977 1/(1 + v^4) + 7.646 1/(1 + u^5) + 4.335 1/(1 + v^5)\n",
      "(v)' = -3.019 1/(1 + v^1) + -12.237 1/(1 + v^2) + 2.962 1/(1 + u^3) + 26.428 1/(1 + v^3) + 2.223 1/(1 + u^4) + 17.155 1/(1 + v^4) + -4.923 1/(1 + u^5) + -29.016 1/(1 + v^5)\n"
     ]
    },
    {
     "name": "stderr",
     "output_type": "stream",
     "text": [
      "C:\\Users\\UserALai\\miniconda3\\lib\\site-packages\\scipy\\integrate\\_odepack_py.py:247: ODEintWarning: Excess work done on this call (perhaps wrong Dfun type). Run with full_output = 1 to get quantitative information.\n",
      "  warnings.warn(warning_msg, ODEintWarning)\n"
     ]
    },
    {
     "name": "stdout",
     "output_type": "stream",
     "text": [
      "0.4003333333333333\n",
      "(u)' = -3.914 1/(1 + u^1) + 0.571 1/(1 + v^1) + -1.592 1/(1 + u^2) + 0.795 1/(1 + v^2) + 19.469 1/(1 + u^3) + -5.110 1/(1 + v^3) + -3.068 1/(1 + v^4) + -12.879 1/(1 + u^5) + 5.634 1/(1 + v^5)\n",
      "(v)' = 0.815 1/(1 + u^1) + -3.019 1/(1 + u^2) + 1.791 1/(1 + v^2) + -1.672 1/(1 + u^3) + 4.774 1/(1 + u^4) + -1.525 1/(1 + v^4) + -1.298 1/(1 + u^5)\n",
      "0.46688888888888885\n",
      "(u)' = -2.588 1/(1 + u^1) + 0.727 1/(1 + v^1) + 1.221 1/(1 + u^2) + -0.724 1/(1 + v^2) + 16.131 1/(1 + u^3) + -2.182 1/(1 + v^3) + 0.937 1/(1 + v^4) + -13.942 1/(1 + u^5)\n",
      "(v)' = -3.764 1/(1 + u^1) + 4.005 1/(1 + v^1) + -11.937 1/(1 + u^2) + 11.187 1/(1 + v^2) + 26.674 1/(1 + u^3) + -23.958 1/(1 + v^3) + 13.592 1/(1 + u^4) + -10.149 1/(1 + v^4) + -25.625 1/(1 + u^5) + 19.931 1/(1 + v^5)\n",
      "0.5334444444444444\n",
      "(u)' = -1.009 v + 4.983 1/(1 + v^1) + -3.662 1/(1 + u^2) + 18.829 1/(1 + v^2) + -6.944 1/(1 + u^3) + -27.012 1/(1 + v^3) + -1.515 1/(1 + u^4) + -15.218 1/(1 + v^4) + 11.562 1/(1 + u^5) + 20.095 1/(1 + v^5)\n",
      "(v)' = -0.755 1/(1 + u^1) + -13.998 1/(1 + u^2) + 10.432 1/(1 + v^2) + 19.713 1/(1 + u^3) + -0.841 1/(1 + v^3) + 21.274 1/(1 + u^4) + -8.660 1/(1 + v^4) + -29.075 1/(1 + u^5) + 1.392 1/(1 + v^5)\n"
     ]
    },
    {
     "name": "stderr",
     "output_type": "stream",
     "text": [
      "C:\\Users\\UserALai\\miniconda3\\lib\\site-packages\\scipy\\integrate\\_odepack_py.py:247: ODEintWarning: Excess work done on this call (perhaps wrong Dfun type). Run with full_output = 1 to get quantitative information.\n",
      "  warnings.warn(warning_msg, ODEintWarning)\n",
      "C:\\Users\\UserALai\\miniconda3\\lib\\site-packages\\scipy\\integrate\\_odepack_py.py:247: ODEintWarning: Excess work done on this call (perhaps wrong Dfun type). Run with full_output = 1 to get quantitative information.\n",
      "  warnings.warn(warning_msg, ODEintWarning)\n",
      "C:\\Users\\UserALai\\miniconda3\\lib\\site-packages\\scipy\\integrate\\_odepack_py.py:247: ODEintWarning: Excess work done on this call (perhaps wrong Dfun type). Run with full_output = 1 to get quantitative information.\n",
      "  warnings.warn(warning_msg, ODEintWarning)\n",
      "C:\\Users\\UserALai\\miniconda3\\lib\\site-packages\\scipy\\integrate\\_odepack_py.py:247: ODEintWarning: Excess work done on this call (perhaps wrong Dfun type). Run with full_output = 1 to get quantitative information.\n",
      "  warnings.warn(warning_msg, ODEintWarning)\n",
      "C:\\Users\\UserALai\\miniconda3\\lib\\site-packages\\scipy\\integrate\\_odepack_py.py:247: ODEintWarning: Excess work done on this call (perhaps wrong Dfun type). Run with full_output = 1 to get quantitative information.\n",
      "  warnings.warn(warning_msg, ODEintWarning)\n",
      "C:\\Users\\UserALai\\miniconda3\\lib\\site-packages\\scipy\\integrate\\_odepack_py.py:247: ODEintWarning: Excess work done on this call (perhaps wrong Dfun type). Run with full_output = 1 to get quantitative information.\n",
      "  warnings.warn(warning_msg, ODEintWarning)\n",
      "C:\\Users\\UserALai\\miniconda3\\lib\\site-packages\\scipy\\integrate\\_odepack_py.py:247: ODEintWarning: Excess work done on this call (perhaps wrong Dfun type). Run with full_output = 1 to get quantitative information.\n",
      "  warnings.warn(warning_msg, ODEintWarning)\n"
     ]
    },
    {
     "name": "stdout",
     "output_type": "stream",
     "text": [
      "0.6\n",
      "(u)' = -0.668 v + 1.384 1/(1 + v^1) + 7.597 1/(1 + u^2) + 4.494 1/(1 + v^2) + -8.904 1/(1 + u^3) + -10.735 1/(1 + v^3) + -12.727 1/(1 + u^4) + -6.008 1/(1 + v^4) + 14.841 1/(1 + u^5) + 10.976 1/(1 + v^5)\n",
      "(v)' = 1.075 u + -7.438 1/(1 + u^1) + -7.732 1/(1 + v^1) + -12.727 1/(1 + u^2) + -19.188 1/(1 + v^2) + 41.945 1/(1 + u^3) + 37.121 1/(1 + v^3) + 12.880 1/(1 + u^4) + 10.520 1/(1 + v^4) + -32.709 1/(1 + u^5) + -23.210 1/(1 + v^5)\n"
     ]
    },
    {
     "name": "stderr",
     "output_type": "stream",
     "text": [
      "C:\\Users\\UserALai\\miniconda3\\lib\\site-packages\\scipy\\integrate\\_odepack_py.py:247: ODEintWarning: Excess work done on this call (perhaps wrong Dfun type). Run with full_output = 1 to get quantitative information.\n",
      "  warnings.warn(warning_msg, ODEintWarning)\n",
      "C:\\Users\\UserALai\\miniconda3\\lib\\site-packages\\scipy\\integrate\\_odepack_py.py:247: ODEintWarning: Excess work done on this call (perhaps wrong Dfun type). Run with full_output = 1 to get quantitative information.\n",
      "  warnings.warn(warning_msg, ODEintWarning)\n",
      "C:\\Users\\UserALai\\miniconda3\\lib\\site-packages\\scipy\\integrate\\_odepack_py.py:247: ODEintWarning: Excess work done on this call (perhaps wrong Dfun type). Run with full_output = 1 to get quantitative information.\n",
      "  warnings.warn(warning_msg, ODEintWarning)\n",
      "C:\\Users\\UserALai\\miniconda3\\lib\\site-packages\\scipy\\integrate\\_odepack_py.py:247: ODEintWarning: Excess work done on this call (perhaps wrong Dfun type). Run with full_output = 1 to get quantitative information.\n",
      "  warnings.warn(warning_msg, ODEintWarning)\n",
      "C:\\Users\\UserALai\\miniconda3\\lib\\site-packages\\scipy\\integrate\\_odepack_py.py:247: ODEintWarning: Excess work done on this call (perhaps wrong Dfun type). Run with full_output = 1 to get quantitative information.\n",
      "  warnings.warn(warning_msg, ODEintWarning)\n",
      "C:\\Users\\UserALai\\miniconda3\\lib\\site-packages\\scipy\\integrate\\_odepack_py.py:247: ODEintWarning: Excess work done on this call (perhaps wrong Dfun type). Run with full_output = 1 to get quantitative information.\n",
      "  warnings.warn(warning_msg, ODEintWarning)\n",
      "C:\\Users\\UserALai\\miniconda3\\lib\\site-packages\\scipy\\integrate\\_odepack_py.py:247: ODEintWarning: Excess work done on this call (perhaps wrong Dfun type). Run with full_output = 1 to get quantitative information.\n",
      "  warnings.warn(warning_msg, ODEintWarning)\n",
      "C:\\Users\\UserALai\\miniconda3\\lib\\site-packages\\scipy\\integrate\\_odepack_py.py:247: ODEintWarning: Excess work done on this call (perhaps wrong Dfun type). Run with full_output = 1 to get quantitative information.\n",
      "  warnings.warn(warning_msg, ODEintWarning)\n",
      "C:\\Users\\UserALai\\miniconda3\\lib\\site-packages\\scipy\\integrate\\_odepack_py.py:247: ODEintWarning: Excess work done on this call (perhaps wrong Dfun type). Run with full_output = 1 to get quantitative information.\n",
      "  warnings.warn(warning_msg, ODEintWarning)\n",
      "C:\\Users\\UserALai\\miniconda3\\lib\\site-packages\\scipy\\integrate\\_odepack_py.py:247: ODEintWarning: Excess work done on this call (perhaps wrong Dfun type). Run with full_output = 1 to get quantitative information.\n",
      "  warnings.warn(warning_msg, ODEintWarning)\n",
      "C:\\Users\\UserALai\\miniconda3\\lib\\site-packages\\scipy\\integrate\\_odepack_py.py:247: ODEintWarning: Excess work done on this call (perhaps wrong Dfun type). Run with full_output = 1 to get quantitative information.\n",
      "  warnings.warn(warning_msg, ODEintWarning)\n",
      "C:\\Users\\UserALai\\miniconda3\\lib\\site-packages\\scipy\\integrate\\_odepack_py.py:247: ODEintWarning: Excess work done on this call (perhaps wrong Dfun type). Run with full_output = 1 to get quantitative information.\n",
      "  warnings.warn(warning_msg, ODEintWarning)\n",
      "C:\\Users\\UserALai\\miniconda3\\lib\\site-packages\\scipy\\integrate\\_odepack_py.py:247: ODEintWarning: Excess work done on this call (perhaps wrong Dfun type). Run with full_output = 1 to get quantitative information.\n",
      "  warnings.warn(warning_msg, ODEintWarning)\n",
      "C:\\Users\\UserALai\\miniconda3\\lib\\site-packages\\scipy\\integrate\\_odepack_py.py:247: ODEintWarning: Excess work done on this call (perhaps wrong Dfun type). Run with full_output = 1 to get quantitative information.\n",
      "  warnings.warn(warning_msg, ODEintWarning)\n",
      "C:\\Users\\UserALai\\miniconda3\\lib\\site-packages\\scipy\\integrate\\_odepack_py.py:247: ODEintWarning: Excess work done on this call (perhaps wrong Dfun type). Run with full_output = 1 to get quantitative information.\n",
      "  warnings.warn(warning_msg, ODEintWarning)\n",
      "C:\\Users\\UserALai\\miniconda3\\lib\\site-packages\\scipy\\integrate\\_odepack_py.py:247: ODEintWarning: Excess work done on this call (perhaps wrong Dfun type). Run with full_output = 1 to get quantitative information.\n",
      "  warnings.warn(warning_msg, ODEintWarning)\n",
      "C:\\Users\\UserALai\\miniconda3\\lib\\site-packages\\scipy\\integrate\\_odepack_py.py:247: ODEintWarning: Excess work done on this call (perhaps wrong Dfun type). Run with full_output = 1 to get quantitative information.\n",
      "  warnings.warn(warning_msg, ODEintWarning)\n",
      "C:\\Users\\UserALai\\miniconda3\\lib\\site-packages\\scipy\\integrate\\_odepack_py.py:247: ODEintWarning: Excess work done on this call (perhaps wrong Dfun type). Run with full_output = 1 to get quantitative information.\n",
      "  warnings.warn(warning_msg, ODEintWarning)\n",
      "C:\\Users\\UserALai\\miniconda3\\lib\\site-packages\\scipy\\integrate\\_odepack_py.py:247: ODEintWarning: Excess work done on this call (perhaps wrong Dfun type). Run with full_output = 1 to get quantitative information.\n",
      "  warnings.warn(warning_msg, ODEintWarning)\n",
      "C:\\Users\\UserALai\\miniconda3\\lib\\site-packages\\scipy\\integrate\\_odepack_py.py:247: ODEintWarning: Excess work done on this call (perhaps wrong Dfun type). Run with full_output = 1 to get quantitative information.\n",
      "  warnings.warn(warning_msg, ODEintWarning)\n",
      "C:\\Users\\UserALai\\miniconda3\\lib\\site-packages\\scipy\\integrate\\_odepack_py.py:247: ODEintWarning: Excess work done on this call (perhaps wrong Dfun type). Run with full_output = 1 to get quantitative information.\n",
      "  warnings.warn(warning_msg, ODEintWarning)\n",
      "C:\\Users\\UserALai\\miniconda3\\lib\\site-packages\\scipy\\integrate\\_odepack_py.py:247: ODEintWarning: Excess work done on this call (perhaps wrong Dfun type). Run with full_output = 1 to get quantitative information.\n",
      "  warnings.warn(warning_msg, ODEintWarning)\n",
      "C:\\Users\\UserALai\\miniconda3\\lib\\site-packages\\scipy\\integrate\\_odepack_py.py:247: ODEintWarning: Excess work done on this call (perhaps wrong Dfun type). Run with full_output = 1 to get quantitative information.\n",
      "  warnings.warn(warning_msg, ODEintWarning)\n",
      "C:\\Users\\UserALai\\miniconda3\\lib\\site-packages\\scipy\\integrate\\_odepack_py.py:247: ODEintWarning: Excess work done on this call (perhaps wrong Dfun type). Run with full_output = 1 to get quantitative information.\n",
      "  warnings.warn(warning_msg, ODEintWarning)\n",
      "C:\\Users\\UserALai\\miniconda3\\lib\\site-packages\\scipy\\integrate\\_odepack_py.py:247: ODEintWarning: Excess work done on this call (perhaps wrong Dfun type). Run with full_output = 1 to get quantitative information.\n",
      "  warnings.warn(warning_msg, ODEintWarning)\n",
      "C:\\Users\\UserALai\\miniconda3\\lib\\site-packages\\scipy\\integrate\\_odepack_py.py:247: ODEintWarning: Excess work done on this call (perhaps wrong Dfun type). Run with full_output = 1 to get quantitative information.\n",
      "  warnings.warn(warning_msg, ODEintWarning)\n",
      "C:\\Users\\UserALai\\miniconda3\\lib\\site-packages\\scipy\\integrate\\_odepack_py.py:247: ODEintWarning: Excess work done on this call (perhaps wrong Dfun type). Run with full_output = 1 to get quantitative information.\n",
      "  warnings.warn(warning_msg, ODEintWarning)\n",
      "C:\\Users\\UserALai\\miniconda3\\lib\\site-packages\\scipy\\integrate\\_odepack_py.py:247: ODEintWarning: Excess work done on this call (perhaps wrong Dfun type). Run with full_output = 1 to get quantitative information.\n",
      "  warnings.warn(warning_msg, ODEintWarning)\n",
      "C:\\Users\\UserALai\\miniconda3\\lib\\site-packages\\scipy\\integrate\\_odepack_py.py:247: ODEintWarning: Excess work done on this call (perhaps wrong Dfun type). Run with full_output = 1 to get quantitative information.\n",
      "  warnings.warn(warning_msg, ODEintWarning)\n",
      "C:\\Users\\UserALai\\miniconda3\\lib\\site-packages\\scipy\\integrate\\_odepack_py.py:247: ODEintWarning: Excess work done on this call (perhaps wrong Dfun type). Run with full_output = 1 to get quantitative information.\n",
      "  warnings.warn(warning_msg, ODEintWarning)\n"
     ]
    },
    {
     "name": "stdout",
     "output_type": "stream",
     "text": [
      "[0.001      0.06755556 0.13411111 0.20066667 0.26722222 0.33377778\n",
      " 0.40033333 0.46688889 0.53344444 0.6       ]\n",
      "[0.003997989907353799, 0.13367435055679536, 0.8797143820191712, 0.2313827546165015, 3.807712258804391, 11.396865077148808, 2.1442130680964864, 5.210754494401885, 2.4935067147826095, 2.430267565047271]\n",
      "0.001\n",
      "(u)' = -1.042 u + 9.389 1/(1 + u^1) + -6.390 1/(1 + v^1) + -11.755 1/(1 + u^2) + 16.945 1/(1 + v^2) + 2.166 1/(1 + u^3) + -15.830 1/(1 + v^3) + 2.332 1/(1 + u^4) + 0.137 1/(1 + v^4) + 4.170 1/(1 + v^5)\n",
      "(v)' = -0.944 v + -7.348 1/(1 + u^1) + 2.865 1/(1 + v^1) + 18.954 1/(1 + u^2) + -24.239 1/(1 + u^3) + 15.424 1/(1 + u^4) + -4.805 1/(1 + v^4) + -3.243 1/(1 + u^5) + 3.297 1/(1 + v^5)\n",
      "0.06755555555555555\n",
      "(u)' = -1.232 u + 0.802 v + 0.978 1/(1 + u^1) + -0.274 1/(1 + v^1) + 6.309 1/(1 + u^2) + -12.117 1/(1 + v^2) + -29.003 1/(1 + u^3) + 27.972 1/(1 + v^3) + 30.271 1/(1 + u^4) + -14.378 1/(1 + v^4) + -9.211 1/(1 + u^5) + -0.521 1/(1 + v^5)\n",
      "(v)' = -1.042 v + 3.128 1/(1 + u^1) + 12.291 1/(1 + u^2) + 10.892 1/(1 + v^2) + -60.336 1/(1 + u^3) + -17.568 1/(1 + v^3) + 80.400 1/(1 + u^4) + -33.826 1/(1 + u^5) + 6.437 1/(1 + v^5)\n",
      "0.1341111111111111\n",
      "(u)' = -1.635 u + 1.324 v + 0.534 1/(1 + u^1) + -3.541 1/(1 + v^1) + -2.325 1/(1 + u^2) + 6.767 1/(1 + v^2) + -10.292 1/(1 + u^3) + 11.687 1/(1 + v^3) + 13.879 1/(1 + u^4) + -21.920 1/(1 + v^4) + -4.422 1/(1 + u^5) + 9.612 1/(1 + v^5)\n",
      "(v)' = -0.810 v + 1.326 1/(1 + v^1) + 3.187 1/(1 + u^2) + 3.600 1/(1 + v^2) + -0.949 1/(1 + u^3) + -6.787 1/(1 + v^3) + -7.791 1/(1 + u^4) + 1.184 1/(1 + v^4) + 6.465 1/(1 + u^5) + 0.788 1/(1 + v^5)\n",
      "0.20066666666666666\n",
      "(u)' = -1.898 u + 1.728 v + -1.679 1/(1 + u^1) + 1.853 1/(1 + v^1) + -9.845 1/(1 + v^2) + 0.811 1/(1 + u^3) + 8.130 1/(1 + v^3) + -10.293 1/(1 + u^4) + 25.459 1/(1 + v^4) + 7.605 1/(1 + u^5) + -22.299 1/(1 + v^5)\n",
      "(v)' = 1.469 1/(1 + u^1) + 1.877 1/(1 + v^1) + 2.222 1/(1 + u^2) + -9.440 1/(1 + v^2) + -8.830 1/(1 + u^3) + -0.832 1/(1 + v^3) + -1.780 1/(1 + u^4) + 15.550 1/(1 + v^4) + 7.544 1/(1 + u^5) + -8.188 1/(1 + v^5)\n",
      "0.2672222222222222\n",
      "(u)' = -0.645 u + 1.507 1/(1 + v^1) + 11.593 1/(1 + u^2) + 8.345 1/(1 + v^2) + -11.241 1/(1 + u^3) + -10.075 1/(1 + v^3) + -18.682 1/(1 + u^4) + -8.502 1/(1 + v^4) + 18.734 1/(1 + u^5) + 9.337 1/(1 + v^5)\n",
      "(v)' = 0.636 u + -0.581 v + -1.013 1/(1 + v^1) + -3.795 1/(1 + u^2) + -16.219 1/(1 + v^2) + 8.375 1/(1 + u^3) + 16.230 1/(1 + v^3) + 11.667 1/(1 + u^4) + 20.033 1/(1 + v^4) + -13.967 1/(1 + u^5) + -22.013 1/(1 + v^5)\n",
      "0.33377777777777773\n",
      "(u)' = 2.272 1/(1 + u^1) + 4.016 1/(1 + v^1) + 1.491 1/(1 + u^2) + -5.594 1/(1 + u^3) + -16.909 1/(1 + v^3) + 4.464 1/(1 + u^4) + 4.142 1/(1 + v^4) + -2.033 1/(1 + u^5) + 8.064 1/(1 + v^5)\n",
      "(v)' = -4.810 1/(1 + v^2) + -0.781 1/(1 + u^3) + 3.942 1/(1 + v^4) + 1.300 1/(1 + u^5)\n"
     ]
    },
    {
     "name": "stderr",
     "output_type": "stream",
     "text": [
      "C:\\Users\\UserALai\\miniconda3\\lib\\site-packages\\scipy\\integrate\\_odepack_py.py:247: ODEintWarning: Excess work done on this call (perhaps wrong Dfun type). Run with full_output = 1 to get quantitative information.\n",
      "  warnings.warn(warning_msg, ODEintWarning)\n",
      "C:\\Users\\UserALai\\miniconda3\\lib\\site-packages\\scipy\\integrate\\_odepack_py.py:247: ODEintWarning: Excess work done on this call (perhaps wrong Dfun type). Run with full_output = 1 to get quantitative information.\n",
      "  warnings.warn(warning_msg, ODEintWarning)\n",
      "C:\\Users\\UserALai\\miniconda3\\lib\\site-packages\\scipy\\integrate\\_odepack_py.py:247: ODEintWarning: Excess work done on this call (perhaps wrong Dfun type). Run with full_output = 1 to get quantitative information.\n",
      "  warnings.warn(warning_msg, ODEintWarning)\n",
      "C:\\Users\\UserALai\\miniconda3\\lib\\site-packages\\scipy\\integrate\\_odepack_py.py:247: ODEintWarning: Excess work done on this call (perhaps wrong Dfun type). Run with full_output = 1 to get quantitative information.\n",
      "  warnings.warn(warning_msg, ODEintWarning)\n",
      "C:\\Users\\UserALai\\miniconda3\\lib\\site-packages\\scipy\\integrate\\_odepack_py.py:247: ODEintWarning: Excess work done on this call (perhaps wrong Dfun type). Run with full_output = 1 to get quantitative information.\n",
      "  warnings.warn(warning_msg, ODEintWarning)\n",
      "C:\\Users\\UserALai\\miniconda3\\lib\\site-packages\\scipy\\integrate\\_odepack_py.py:247: ODEintWarning: Excess work done on this call (perhaps wrong Dfun type). Run with full_output = 1 to get quantitative information.\n",
      "  warnings.warn(warning_msg, ODEintWarning)\n",
      "C:\\Users\\UserALai\\miniconda3\\lib\\site-packages\\scipy\\integrate\\_odepack_py.py:247: ODEintWarning: Excess work done on this call (perhaps wrong Dfun type). Run with full_output = 1 to get quantitative information.\n",
      "  warnings.warn(warning_msg, ODEintWarning)\n",
      "C:\\Users\\UserALai\\miniconda3\\lib\\site-packages\\scipy\\integrate\\_odepack_py.py:247: ODEintWarning: Excess work done on this call (perhaps wrong Dfun type). Run with full_output = 1 to get quantitative information.\n",
      "  warnings.warn(warning_msg, ODEintWarning)\n",
      "C:\\Users\\UserALai\\miniconda3\\lib\\site-packages\\scipy\\integrate\\_odepack_py.py:247: ODEintWarning: Excess work done on this call (perhaps wrong Dfun type). Run with full_output = 1 to get quantitative information.\n",
      "  warnings.warn(warning_msg, ODEintWarning)\n",
      "C:\\Users\\UserALai\\miniconda3\\lib\\site-packages\\scipy\\integrate\\_odepack_py.py:247: ODEintWarning: Excess work done on this call (perhaps wrong Dfun type). Run with full_output = 1 to get quantitative information.\n",
      "  warnings.warn(warning_msg, ODEintWarning)\n",
      "C:\\Users\\UserALai\\miniconda3\\lib\\site-packages\\scipy\\integrate\\_odepack_py.py:247: ODEintWarning: Excess work done on this call (perhaps wrong Dfun type). Run with full_output = 1 to get quantitative information.\n",
      "  warnings.warn(warning_msg, ODEintWarning)\n",
      "C:\\Users\\UserALai\\miniconda3\\lib\\site-packages\\scipy\\integrate\\_odepack_py.py:247: ODEintWarning: Excess work done on this call (perhaps wrong Dfun type). Run with full_output = 1 to get quantitative information.\n",
      "  warnings.warn(warning_msg, ODEintWarning)\n",
      "C:\\Users\\UserALai\\miniconda3\\lib\\site-packages\\scipy\\integrate\\_odepack_py.py:247: ODEintWarning: Excess work done on this call (perhaps wrong Dfun type). Run with full_output = 1 to get quantitative information.\n",
      "  warnings.warn(warning_msg, ODEintWarning)\n",
      "C:\\Users\\UserALai\\miniconda3\\lib\\site-packages\\scipy\\integrate\\_odepack_py.py:247: ODEintWarning: Excess work done on this call (perhaps wrong Dfun type). Run with full_output = 1 to get quantitative information.\n",
      "  warnings.warn(warning_msg, ODEintWarning)\n",
      "C:\\Users\\UserALai\\miniconda3\\lib\\site-packages\\scipy\\integrate\\_odepack_py.py:247: ODEintWarning: Excess work done on this call (perhaps wrong Dfun type). Run with full_output = 1 to get quantitative information.\n",
      "  warnings.warn(warning_msg, ODEintWarning)\n",
      "C:\\Users\\UserALai\\miniconda3\\lib\\site-packages\\scipy\\integrate\\_odepack_py.py:247: ODEintWarning: Excess work done on this call (perhaps wrong Dfun type). Run with full_output = 1 to get quantitative information.\n",
      "  warnings.warn(warning_msg, ODEintWarning)\n",
      "C:\\Users\\UserALai\\miniconda3\\lib\\site-packages\\scipy\\integrate\\_odepack_py.py:247: ODEintWarning: Excess work done on this call (perhaps wrong Dfun type). Run with full_output = 1 to get quantitative information.\n",
      "  warnings.warn(warning_msg, ODEintWarning)\n",
      "C:\\Users\\UserALai\\miniconda3\\lib\\site-packages\\scipy\\integrate\\_odepack_py.py:247: ODEintWarning: Excess work done on this call (perhaps wrong Dfun type). Run with full_output = 1 to get quantitative information.\n",
      "  warnings.warn(warning_msg, ODEintWarning)\n",
      "C:\\Users\\UserALai\\miniconda3\\lib\\site-packages\\scipy\\integrate\\_odepack_py.py:247: ODEintWarning: Excess work done on this call (perhaps wrong Dfun type). Run with full_output = 1 to get quantitative information.\n",
      "  warnings.warn(warning_msg, ODEintWarning)\n",
      "C:\\Users\\UserALai\\miniconda3\\lib\\site-packages\\scipy\\integrate\\_odepack_py.py:247: ODEintWarning: Excess work done on this call (perhaps wrong Dfun type). Run with full_output = 1 to get quantitative information.\n",
      "  warnings.warn(warning_msg, ODEintWarning)\n",
      "C:\\Users\\UserALai\\miniconda3\\lib\\site-packages\\scipy\\integrate\\_odepack_py.py:247: ODEintWarning: Excess work done on this call (perhaps wrong Dfun type). Run with full_output = 1 to get quantitative information.\n",
      "  warnings.warn(warning_msg, ODEintWarning)\n",
      "C:\\Users\\UserALai\\miniconda3\\lib\\site-packages\\scipy\\integrate\\_odepack_py.py:247: ODEintWarning: Excess work done on this call (perhaps wrong Dfun type). Run with full_output = 1 to get quantitative information.\n",
      "  warnings.warn(warning_msg, ODEintWarning)\n",
      "C:\\Users\\UserALai\\miniconda3\\lib\\site-packages\\scipy\\integrate\\_odepack_py.py:247: ODEintWarning: Excess work done on this call (perhaps wrong Dfun type). Run with full_output = 1 to get quantitative information.\n",
      "  warnings.warn(warning_msg, ODEintWarning)\n"
     ]
    },
    {
     "name": "stdout",
     "output_type": "stream",
     "text": [
      "0.4003333333333333\n",
      "(u)' = 0.804 v + -1.764 1/(1 + v^1) + -5.238 1/(1 + u^2) + -12.959 1/(1 + v^2) + 2.664 1/(1 + u^3) + 9.291 1/(1 + v^3) + 6.681 1/(1 + u^4) + 11.025 1/(1 + v^4) + -4.422 1/(1 + u^5) + -6.671 1/(1 + v^5)\n",
      "(v)' = -0.849 v + -1.839 1/(1 + u^1) + -4.103 1/(1 + v^1) + 3.825 1/(1 + u^2) + -4.989 1/(1 + v^2) + 13.417 1/(1 + u^3) + 20.890 1/(1 + v^3) + 1.118 1/(1 + u^4) + -13.192 1/(1 + u^5) + -14.286 1/(1 + v^5)\n",
      "0.46688888888888885\n",
      "(u)' = 2.675 1/(1 + u^1) + 0.631 1/(1 + v^1) + 7.473 1/(1 + u^2) + -16.581 1/(1 + u^3) + -4.320 1/(1 + v^3) + -6.693 1/(1 + u^4) + -1.768 1/(1 + v^4) + 14.311 1/(1 + u^5) + 4.121 1/(1 + v^5)\n",
      "(v)' = -4.938 1/(1 + v^1) + -1.228 1/(1 + u^2) + -17.180 1/(1 + v^2) + -1.666 1/(1 + u^3) + 30.709 1/(1 + v^3) + 1.168 1/(1 + u^4) + 16.548 1/(1 + v^4) + 2.791 1/(1 + u^5) + -26.491 1/(1 + v^5)\n",
      "0.5334444444444444\n",
      "(u)' = -2.774 1/(1 + u^1) + 4.480 1/(1 + v^1) + -8.784 1/(1 + u^2) + 16.200 1/(1 + u^3) + -14.980 1/(1 + v^3) + 9.037 1/(1 + u^4) + 6.713 1/(1 + v^4) + -13.134 1/(1 + u^5) + 2.564 1/(1 + v^5)\n",
      "(v)' = -0.653 v + 2.184 1/(1 + v^1) + 13.427 1/(1 + u^2) + 2.684 1/(1 + v^2) + -9.817 1/(1 + u^3) + -7.859 1/(1 + v^3) + -17.500 1/(1 + u^4) + -0.835 1/(1 + v^4) + 16.367 1/(1 + u^5) + 2.205 1/(1 + v^5)\n",
      "0.6\n",
      "(u)' = 2.540 1/(1 + u^1) + 11.007 1/(1 + u^2) + -6.095 1/(1 + v^2) + -15.363 1/(1 + u^3) + -1.533 1/(1 + v^3) + -9.343 1/(1 + u^4) + 3.117 1/(1 + v^4) + 12.905 1/(1 + u^5) + 2.564 1/(1 + v^5)\n",
      "(v)' = -6.464 1/(1 + u^3) + 8.050 1/(1 + v^3) + -5.512 1/(1 + u^4) + 6.394 1/(1 + v^4) + 10.774 1/(1 + u^5) + -13.400 1/(1 + v^5)\n",
      "[0.001      0.06755556 0.13411111 0.20066667 0.26722222 0.33377778\n",
      " 0.40033333 0.46688889 0.53344444 0.6       ]\n",
      "[0.001599651642104738, 0.07186276578902047, 0.28724118074818633, 6.5054970646336985, 0.610773738473451, 15.252834664541954, 1.014594792848508, 1.0790839373409193, 1.5017978793459619, 13.77707649440448]\n",
      "0.001\n",
      "(u)' = -1.214 u + 12.625 1/(1 + u^1) + -15.008 1/(1 + v^1) + -15.618 1/(1 + u^2) + 64.835 1/(1 + v^2) + -9.471 1/(1 + u^3) + -120.782 1/(1 + v^3) + 29.311 1/(1 + u^4) + 104.245 1/(1 + v^4) + -14.441 1/(1 + u^5) + -34.183 1/(1 + v^5)\n",
      "(v)' = -1.019 v + 1.910 1/(1 + u^1) + -4.181 1/(1 + u^2) + 8.871 1/(1 + v^3) + 6.681 1/(1 + u^4) + -16.254 1/(1 + v^4) + -3.558 1/(1 + u^5) + 7.607 1/(1 + v^5)\n",
      "0.06755555555555555\n",
      "(u)' = -0.788 u + 1.951 1/(1 + u^1) + 3.626 1/(1 + v^1) + -10.478 1/(1 + u^2) + -4.380 1/(1 + v^2) + 9.221 1/(1 + u^3) + -0.435 1/(1 + v^3) + 5.685 1/(1 + v^4) + -1.151 1/(1 + u^5) + -3.503 1/(1 + v^5)\n",
      "(v)' = -1.252 v + 0.799 1/(1 + u^1) + 5.820 1/(1 + v^1) + 2.396 1/(1 + u^2) + -3.773 1/(1 + v^2) + 17.491 1/(1 + u^3) + -28.743 1/(1 + v^3) + -44.141 1/(1 + u^4) + 49.661 1/(1 + v^4) + 25.503 1/(1 + u^5) + -23.308 1/(1 + v^5)\n",
      "0.1341111111111111\n",
      "(u)' = -1.216 u + 0.870 v + -3.408 1/(1 + u^1) + -6.283 1/(1 + v^1) + 3.149 1/(1 + u^2) + 7.716 1/(1 + v^2) + 6.990 1/(1 + u^3) + 19.862 1/(1 + v^3) + -16.921 1/(1 + u^4) + -39.359 1/(1 + v^4) + 8.748 1/(1 + u^5) + 19.208 1/(1 + v^5)\n",
      "(v)' = -0.546 v + 0.914 1/(1 + u^1) + -4.684 1/(1 + v^1) + -7.272 1/(1 + u^2) + 9.845 1/(1 + v^2) + -0.904 1/(1 + u^3) + 15.632 1/(1 + v^3) + 23.123 1/(1 + u^4) + -40.603 1/(1 + v^4) + -15.564 1/(1 + u^5) + 19.908 1/(1 + v^5)\n",
      "0.20066666666666666\n",
      "(u)' = -0.825 u + -0.670 1/(1 + v^1) + -4.171 1/(1 + u^2) + 15.088 1/(1 + v^2) + -5.221 1/(1 + v^3) + 2.528 1/(1 + u^4) + -20.597 1/(1 + v^4) + 14.037 1/(1 + v^5)\n",
      "(v)' = 1.145 1/(1 + u^1) + -2.888 1/(1 + v^1) + 1.989 1/(1 + u^2) + -7.519 1/(1 + v^2) + -5.683 1/(1 + u^3) + 15.132 1/(1 + v^3) + -0.801 1/(1 + u^4) + 4.660 1/(1 + v^4) + 3.646 1/(1 + u^5) + -10.060 1/(1 + v^5)\n",
      "0.2672222222222222\n",
      "(u)' = -1.508 u + 1.370 v + -4.881 1/(1 + u^1) + 2.297 1/(1 + v^1) + -8.601 1/(1 + u^2) + 0.706 1/(1 + v^2) + 18.765 1/(1 + u^3) + -2.390 1/(1 + u^4) + 12.054 1/(1 + v^4) + -6.904 1/(1 + u^5) + -11.263 1/(1 + v^5)\n",
      "(v)' = -0.545 v + -1.656 1/(1 + u^1) + -1.671 1/(1 + v^1) + -1.441 1/(1 + u^2) + 3.353 1/(1 + v^2) + 4.959 1/(1 + u^3) + 2.346 1/(1 + v^3) + -0.770 1/(1 + u^4) + -9.429 1/(1 + v^4) + 4.686 1/(1 + v^5)\n",
      "0.33377777777777773\n",
      "(u)' = -0.794 u + 0.827 1/(1 + v^1) + 3.361 1/(1 + u^2) + 11.344 1/(1 + v^2) + -6.014 1/(1 + u^3) + -6.014 1/(1 + v^3) + -8.900 1/(1 + u^4) + -9.423 1/(1 + v^4) + 9.967 1/(1 + u^5) + 5.902 1/(1 + v^5)\n",
      "(v)' = -1.244 1/(1 + u^1) + -5.068 1/(1 + u^2) + 6.928 1/(1 + v^2) + 8.992 1/(1 + u^3) + -5.715 1/(1 + v^3) + 4.987 1/(1 + u^4) + -9.694 1/(1 + v^4) + -8.780 1/(1 + u^5) + 9.615 1/(1 + v^5)\n",
      "0.4003333333333333\n",
      "(u)' = 2.047 1/(1 + u^1) + 1.283 1/(1 + v^1) + 0.969 1/(1 + u^2) + 2.363 1/(1 + v^2) + -10.550 1/(1 + u^3) + -6.338 1/(1 + v^3) + -1.493 1/(1 + v^4) + 7.365 1/(1 + u^5) + 4.142 1/(1 + v^5)\n",
      "(v)' = 1.419 1/(1 + u^1) + 2.690 1/(1 + v^1) + -12.344 1/(1 + u^2) + 4.705 1/(1 + v^2) + -5.752 1/(1 + u^3) + -10.832 1/(1 + v^3) + 12.587 1/(1 + u^4) + 2.478 1/(1 + u^5) + 4.616 1/(1 + v^5)\n",
      "0.46688888888888885\n",
      "(u)' = -0.542 v + -2.643 1/(1 + v^1) + 1.262 1/(1 + u^2) + -1.180 1/(1 + v^2) + 2.229 1/(1 + u^3) + 14.414 1/(1 + v^3) + 1.440 1/(1 + u^4) + -0.711 1/(1 + v^4) + -3.738 1/(1 + u^5) + -10.792 1/(1 + v^5)\n",
      "(v)' = -2.879 1/(1 + v^1) + 8.857 1/(1 + u^2) + -4.682 1/(1 + v^2) + -4.144 1/(1 + u^3) + 11.579 1/(1 + v^3) + -10.465 1/(1 + u^4) + 6.907 1/(1 + u^5) + -4.917 1/(1 + v^5)\n"
     ]
    },
    {
     "name": "stderr",
     "output_type": "stream",
     "text": [
      "C:\\Users\\UserALai\\miniconda3\\lib\\site-packages\\scipy\\integrate\\_odepack_py.py:247: ODEintWarning: Excess work done on this call (perhaps wrong Dfun type). Run with full_output = 1 to get quantitative information.\n",
      "  warnings.warn(warning_msg, ODEintWarning)\n",
      "C:\\Users\\UserALai\\miniconda3\\lib\\site-packages\\scipy\\integrate\\_odepack_py.py:247: ODEintWarning: Excess work done on this call (perhaps wrong Dfun type). Run with full_output = 1 to get quantitative information.\n",
      "  warnings.warn(warning_msg, ODEintWarning)\n",
      "C:\\Users\\UserALai\\miniconda3\\lib\\site-packages\\scipy\\integrate\\_odepack_py.py:247: ODEintWarning: Excess work done on this call (perhaps wrong Dfun type). Run with full_output = 1 to get quantitative information.\n",
      "  warnings.warn(warning_msg, ODEintWarning)\n",
      "C:\\Users\\UserALai\\miniconda3\\lib\\site-packages\\scipy\\integrate\\_odepack_py.py:247: ODEintWarning: Excess work done on this call (perhaps wrong Dfun type). Run with full_output = 1 to get quantitative information.\n",
      "  warnings.warn(warning_msg, ODEintWarning)\n",
      "C:\\Users\\UserALai\\miniconda3\\lib\\site-packages\\scipy\\integrate\\_odepack_py.py:247: ODEintWarning: Excess work done on this call (perhaps wrong Dfun type). Run with full_output = 1 to get quantitative information.\n",
      "  warnings.warn(warning_msg, ODEintWarning)\n",
      "C:\\Users\\UserALai\\miniconda3\\lib\\site-packages\\scipy\\integrate\\_odepack_py.py:247: ODEintWarning: Excess work done on this call (perhaps wrong Dfun type). Run with full_output = 1 to get quantitative information.\n",
      "  warnings.warn(warning_msg, ODEintWarning)\n",
      "C:\\Users\\UserALai\\miniconda3\\lib\\site-packages\\scipy\\integrate\\_odepack_py.py:247: ODEintWarning: Excess work done on this call (perhaps wrong Dfun type). Run with full_output = 1 to get quantitative information.\n",
      "  warnings.warn(warning_msg, ODEintWarning)\n"
     ]
    },
    {
     "name": "stdout",
     "output_type": "stream",
     "text": [
      "0.5334444444444444\n",
      "(u)' = 0.523 1/(1 + u^1) + 1.995 1/(1 + v^1) + 5.891 1/(1 + u^2) + -10.547 1/(1 + v^2) + -4.039 1/(1 + u^3) + -1.887 1/(1 + v^3) + -5.151 1/(1 + u^4) + 15.417 1/(1 + v^4) + 4.133 1/(1 + u^5) + -6.867 1/(1 + v^5)\n",
      "(v)' = -0.744 v + 3.018 1/(1 + u^1) + -5.133 1/(1 + v^1) + 18.649 1/(1 + u^2) + -7.266 1/(1 + v^2) + -24.463 1/(1 + u^3) + 31.698 1/(1 + v^3) + -19.589 1/(1 + u^4) + 5.575 1/(1 + v^4) + 25.704 1/(1 + u^5) + -27.185 1/(1 + v^5)\n",
      "0.6\n",
      "(u)' = 4.209 1/(1 + u^1) + -3.928 1/(1 + v^1) + 8.732 1/(1 + u^2) + -13.520 1/(1 + v^2) + -27.512 1/(1 + u^3) + 25.686 1/(1 + v^3) + -9.688 1/(1 + u^4) + 14.422 1/(1 + v^4) + 24.811 1/(1 + u^5) + -23.107 1/(1 + v^5)\n",
      "(v)' = -0.860 1/(1 + u^1) + -10.299 1/(1 + u^2) + 4.160 1/(1 + u^3) + 12.276 1/(1 + v^3) + 7.869 1/(1 + u^4) + 9.929 1/(1 + v^4) + -2.650 1/(1 + u^5) + -20.426 1/(1 + v^5)\n",
      "[0.001      0.06755556 0.13411111 0.20066667 0.26722222 0.33377778\n",
      " 0.40033333 0.46688889 0.53344444 0.6       ]\n",
      "[0.003828687520155259, 0.10674480852257928, 0.3413746006536999, 0.3549683666339158, 1.0028657812395714, 1.174354476025276, 31.80748215309946, 10.42641811910734, 2.8809213019935704, 9.939436662238945]\n"
     ]
    },
    {
     "data": {
      "image/png": "[encoded data removed]",
      "text/plain": [
       "<Figure size 720x576 with 1 Axes>"
      ]
     },
     "metadata": {
      "needs_background": "light"
     },
     "output_type": "display_data"
    }
   ],
   "source": [
    "numRuns = 20\n",
    "sigma_list = np.linspace(0.001, 0.6, 10)\n",
    "total_MSE_list = np.zeros(len(sigma_list))\n",
    "for i in range(numRuns):\n",
    "    MSE_list = []\n",
    "    for j in range(len(sigma_list)):\n",
    "        sigma = np.zeros((feature_count, feature_count))\n",
    "        sigmaVal = sigma_list[j]\n",
    "        np.fill_diagonal(sigma, sigmaVal)\n",
    "        print(sigmaVal)\n",
    "        #noise = np.random.multivariate_normal(mu, sigma**2, (n_of_ic, len(tvals)))\n",
    "        noise = cn.powerlaw_psd_gaussian(beta, (n_of_ic, len(tvals), feature_count)) * (sigmaVal + 0.03)\n",
    "        model = ps.SINDy(feature_names=['u', 'v'], optimizer=sparse_regression_optimizer, feature_library=netswitch_library)\n",
    "        model.fit(list(netswitch_train_multi + noise), t=dt, multiple_trajectories=True)\n",
    "        model.print()\n",
    "        simulations = []\n",
    "        # create simulations list to hold simulated data for corresponding IC\n",
    "        for k in range(n_of_ic):\n",
    "            # problem area with warnings\n",
    "            #print(netswitch_x0s[k])\n",
    "            netswitch_sim = model.simulate(netswitch_x0s[k], t=tvals, integrator=\"odeint\", integrator_kws=integrator_keywords)\n",
    "            simulations.append(netswitch_sim) \n",
    "        MSE = np.square(np.subtract(netswitch_train_multi, simulations)).sum() / (len(tvals) * feature_count * n_of_ic)\n",
    "        MSE_list.append(MSE)\n",
    "        #print(f\"List for sigma={sigmaVal}: {MSE_list}\")\n",
    "    total_MSE_list = total_MSE_list + np.asarray(MSE_list)\n",
    "    print(sigma_list)\n",
    "    print(MSE_list)\n",
    "total_MSE_list = total_MSE_list / numRuns\n",
    "fig, axs = plt.subplots(figsize=(10,8))\n",
    "axs.plot(sigma_list, MSE_list)\n",
    "axs.set(xlabel=\"$\\sigma$\", ylabel=\"MSE\")\n",
    "plt.grid(True)\n",
    "plt.xlabel(\"$\\sigma$\", fontsize=24)\n",
    "plt.ylabel(\"MSE\", fontsize=24)\n",
    "fig.suptitle('Mean Squared Error vs. Standard Deviation in Gaussian Noise', fontsize=28)\n",
    "plt.yscale('log')"
   ]
  },
  {
   "cell_type": "code",
   "execution_count": 70,
   "id": "5c9b0507",
   "metadata": {
    "scrolled": true
   },
   "outputs": [
    {
     "name": "stdout",
     "output_type": "stream",
     "text": [
      "500\n",
      "(500, 2)\n"
     ]
    },
    {
     "name": "stderr",
     "output_type": "stream",
     "text": [
      "C:\\Users\\UserALai\\miniconda3\\lib\\site-packages\\scipy\\integrate\\_odepack_py.py:247: ODEintWarning: Excess work done on this call (perhaps wrong Dfun type). Run with full_output = 1 to get quantitative information.\n",
      "  warnings.warn(warning_msg, ODEintWarning)\n",
      "C:\\Users\\UserALai\\miniconda3\\lib\\site-packages\\scipy\\integrate\\_odepack_py.py:247: ODEintWarning: Excess work done on this call (perhaps wrong Dfun type). Run with full_output = 1 to get quantitative information.\n",
      "  warnings.warn(warning_msg, ODEintWarning)\n",
      "C:\\Users\\UserALai\\miniconda3\\lib\\site-packages\\scipy\\integrate\\_odepack_py.py:247: ODEintWarning: Excess work done on this call (perhaps wrong Dfun type). Run with full_output = 1 to get quantitative information.\n",
      "  warnings.warn(warning_msg, ODEintWarning)\n"
     ]
    },
    {
     "name": "stdout",
     "output_type": "stream",
     "text": [
      "[0.1 0.2 0.3 0.4 0.5 0.6 0.7 0.8 0.9 1.  1.1 1.2 1.3 1.4 1.5 1.6 1.7 1.8\n",
      " 1.9 2. ]\n",
      "[37.3578045243963, 36.37379970329704, 29.841768973750906, 27.676998815722346, 26.937230446945765, 33.23314990542521, 28.331078676135323, 36.061445615625104, 33.96751323446484, 33.07196064090767, 33.496691804194015, 33.00569735154315, 32.235021649114294, 33.119658136402556, 29.076400317310586, 33.83599033230518, 34.974040063692, 28.676922708877836, 234.49789074432988, 33.40674281423231]\n"
     ]
    },
    {
     "data": {
      "image/png": "[encoded data removed]",
      "text/plain": [
       "<Figure size 720x576 with 1 Axes>"
      ]
     },
     "metadata": {
      "needs_background": "light"
     },
     "output_type": "display_data"
    }
   ],
   "source": [
    "# test of model w/ varying threshold\n",
    "# edit in progress\n",
    "T = 50\n",
    "dt = 0.01\n",
    "trange = np.array([0, T])\n",
    "#tvals = np.arange(0, T + dt, dt)\n",
    "tvals = np.linspace(0, T, 500)\n",
    "n_of_ic = 500\n",
    "feature_count = 2\n",
    "fig, axs = plt.subplots(figsize=(10,8))\n",
    "netswitch_x0s = (np.random.rand(n_of_ic, feature_count) * 5 - np.random.rand(n_of_ic, feature_count))\n",
    "#sigma = 0.01\n",
    "threshold_list = np.linspace(0.1, 2, 20)\n",
    "mu = np.zeros(feature_count)\n",
    "\n",
    "MSE_list = []\n",
    "netswitch_train_multi = []\n",
    "\n",
    "# creation of TRUE data/solution\n",
    "for i in range(n_of_ic):\n",
    "    netswitch_train_temp = solve_ivp(\n",
    "        netswitch, trange, netswitch_x0s[i], t_eval=tvals\n",
    "    ).y.T\n",
    "    netswitch_train_multi.append(netswitch_train_temp)\n",
    "print(len(netswitch_train_multi))\n",
    "print(netswitch_train_multi[0].shape)\n",
    "sigma = np.zeros((feature_count, feature_count))\n",
    "sigmaVal = 0.2\n",
    "np.fill_diagonal(sigma, sigmaVal)\n",
    "# figure out sigma threshold with rmse for prev. cell \n",
    "# train models\n",
    "for j in range(len(threshold_list)):\n",
    "    sparse_regression_optimizer = ps.STLSQ(threshold=threshold_list[j])\n",
    "    model = ps.SINDy(feature_names=['u', 'v'], optimizer=sparse_regression_optimizer, feature_library=netswitch_library)\n",
    "    noise = np.random.multivariate_normal(mu, sigma**2, (n_of_ic, len(tvals)))\n",
    "    model.fit(list(netswitch_train_multi + noise), t=dt, multiple_trajectories=True)\n",
    "    simulations = []\n",
    "    # create simulations list to hold simulated data for corresponding IC\n",
    "    for k in range(n_of_ic):\n",
    "        netswitch_sim = model.simulate(netswitch_x0s[k], t=tvals, integrator=\"odeint\")\n",
    "        simulations.append(netswitch_sim) \n",
    "    #MSE = np.square(np.subtract(netswitch_train_multi, simulations)).mean()\n",
    "    MSE = np.square(np.subtract(netswitch_train_multi, simulations)).sum() / (feature_count * len(tvals) * n_of_ic)\n",
    "    MSE_list.append(MSE)\n",
    "print(threshold_list)\n",
    "print(MSE_list)\n",
    "axs.plot(threshold_list, MSE_list)\n",
    "axs.set(xlabel=\"Sparse Regression Optimizer\", ylabel=\"MSE\")\n",
    "plt.grid(True)\n",
    "plt.xlabel(\"Sparse Regression Optimizer\", fontsize=24)\n",
    "plt.ylabel(\"MSE\", fontsize=24)\n",
    "fig.suptitle('Mean Squared Error vs. SRO Threshold', fontsize=28)\n",
    "plt.savefig(\"C:/Users/UserALai/Downloads\\img.svg\", bbox_inches='tight')\n",
    "plt.yscale('log')"
   ]
  },
  {
   "cell_type": "markdown",
   "id": "5bf2f99d",
   "metadata": {},
   "source": [
    "## Implementation of Network switch with SINDy-PI\n",
    "\n",
    "See notebook 9 for relevant exmaple on 1D example. They use:\n",
    "$$\\dot{x} = 0.6 - \\frac{1.5 x}{0.3 + x} \\longrightarrow \\dot{x} = \\frac{3}{5} -3 x - \\frac{10}{3} x\\dot{x}$$\n",
    "\n",
    "\n",
    "Gene network switch system written implicitly:\n",
    "$$ \\dot{u} = -u + \\frac{a}{b+v^\\beta} \\longrightarrow b\\dot{u} + v^{\\beta}\\dot{u} + bu + uv^{\\beta} = a$$\n",
    "$$ \\dot{v} = -v + \\frac{c}{d+u^\\gamma} \\longrightarrow d\\dot{v} + u^{\\gamma}\\dot{v} + dv + vu^{\\gamma} = c $$"
   ]
  },
  {
   "cell_type": "code",
   "execution_count": 1,
   "id": "b9168e42",
   "metadata": {},
   "outputs": [],
   "source": [
    "import matplotlib.pyplot as plt\n",
    "import numpy as np\n",
    "from scipy.integrate import solve_ivp\n",
    "import pysindy as ps\n",
    "import sympy as sp"
   ]
  },
  {
   "cell_type": "code",
   "execution_count": 2,
   "id": "af5e04d4",
   "metadata": {},
   "outputs": [],
   "source": [
    "# Defining the system\n",
    "a, b = 2, 1\n",
    "beta, gamma = 2, 2\n",
    "dudt = lambda u, v: -u + (a / (1+v**beta))\n",
    "dvdt = lambda u, v: -v + (b / (1+u**gamma))\n",
    "netswitch = lambda t, x: np.array([dudt(x[0], x[1]), dvdt(x[0], x[1])])\n",
    "var = ['u', 'v']\n",
    "integrator_keywords = {}\n",
    "integrator_keywords['rtol'] = 1e-12\n",
    "integrator_keywords['method'] = 'LSODA'\n",
    "integrator_keywords['atol'] = 1e-12\n"
   ]
  },
  {
   "cell_type": "code",
   "execution_count": 96,
   "id": "fac4a113",
   "metadata": {},
   "outputs": [
    {
     "name": "stdout",
     "output_type": "stream",
     "text": [
      "[4.28094537 4.72941255]\n",
      "(400, 2)\n"
     ]
    },
    {
     "data": {
      "text/plain": [
       "10"
      ]
     },
     "execution_count": 96,
     "metadata": {},
     "output_type": "execute_result"
    }
   ],
   "source": [
    "# training set\n",
    "r = len(var) # appears to be number of variables in example (x0, x1, x2,...)\n",
    "dt = 0.01\n",
    "T = 4\n",
    "t = np.arange(0, T, dt)\n",
    "t_span = (t[0], t[-1])\n",
    "netswitch0_train = np.random.random(r) * 5\n",
    "netswitch_train = solve_ivp(netswitch, t_span, netswitch0_train, t_eval=t, **integrator_keywords).y.T\n",
    "print(netswitch0_train)\n",
    "netswitch_train_multi = []\n",
    "n_of_ic = 10\n",
    "\n",
    "netswitch_x0s = (np.random.rand(n_of_ic, r) * 5)\n",
    "for i in range(n_of_ic):     \n",
    "    netswitch_train_temp = solve_ivp(\n",
    "        netswitch, t_span, netswitch_x0s[i], t_eval=t\n",
    "    ).y.T\n",
    "    netswitch_train_multi.append(netswitch_train_temp)\n",
    "netswitch_x0s\n",
    "#print(netswitch_train_multi)\n",
    "#print(len(netswitch_train_multi))\n",
    "print(netswitch_train_multi[0].shape)\n",
    "len(netswitch_train_multi)"
   ]
  },
  {
   "cell_type": "code",
   "execution_count": 30,
   "id": "40c5464d",
   "metadata": {},
   "outputs": [
    {
     "name": "stdout",
     "output_type": "stream",
     "text": [
      "100\n"
     ]
    }
   ],
   "source": [
    "print(len(netswitch_train_multi))"
   ]
  },
  {
   "cell_type": "code",
   "execution_count": null,
   "id": "70e1e33a",
   "metadata": {},
   "outputs": [],
   "source": [
    "# PDE Library implementation\n",
    "library_functions = [\n",
    "    lambda x: x,\n",
    "    lambda x, y: x * y,\n",
    "    lambda x: x ** 2,\n",
    "    lambda x, y: x * y ** 2,\n",
    "    lambda x: x ** 3,\n",
    "    lambda x, y: x * y ** 3,\n",
    "    lambda x: x ** 4,\n",
    "]\n",
    "\"\"\"\n",
    "x_dot_library_functions = [\n",
    "    lambda x: x\n",
    "]\n",
    "\"\"\"\n",
    "library_function_names = [\n",
    "    lambda x: x,\n",
    "    lambda x, y: x + y,\n",
    "    lambda x: x + x,\n",
    "    lambda x, y: x + y + y,\n",
    "    lambda x: x + x + x,\n",
    "    lambda x, y: x + y + y + y,\n",
    "    lambda x: x + x + x + x,\n",
    "#    lambda x: x\n",
    "]\n",
    "#\"\"\" PDELibrary lost implicit_terms in 1.7.1\n",
    "pde_library = ps.PDELibrary(\n",
    "    library_functions=library_functions,\n",
    "    spatial_grid=netswitch_train,\n",
    "    #temporal_grid=t,\n",
    "    function_names=library_function_names,\n",
    "    include_bias=False,\n",
    "    #implicit_terms=True,\n",
    "    derivative_order=1,\n",
    "    include_interaction=True,\n",
    ")\n",
    "#\"\"\"\n",
    "\"\"\"\n",
    "sindy_library = ps.SINDyPILibrary(\n",
    "    library_functions=library_functions,\n",
    "    x_dot_library_functions=x_dot_library_functions,\n",
    "    t=t,\n",
    "    function_names=library_function_names,\n",
    "    include_bias=True,\n",
    ")\n",
    "\"\"\"\n",
    "sindy_opt = ps.SINDyPI(\n",
    "    threshold=1e-0,\n",
    "    tol=1e-8,\n",
    "    thresholder=\"l1\",\n",
    "    max_iter=20000,\n",
    "    normalize_columns=True\n",
    ")\n",
    "model = ps.SINDy(\n",
    "    optimizer=sindy_opt,\n",
    "    feature_library=pde_library,\n",
    "    differentiation_method=ps.FiniteDifference(drop_endpoints=True)#,\n",
    "    #feature_names=['u', 'v']\n",
    ")\n",
    "model.fit(netswitch_train_multi, t=dt, multiple_trajectories=True)\n",
    "#model.fit(netswitch_train, t=dt, multiple_trajectories=False)\n",
    "model.feature_names = model.get_feature_names()\n",
    "\n",
    "model.print()\n",
    "pde_library.get_feature_names()\n"
   ]
  },
  {
   "cell_type": "code",
   "execution_count": 110,
   "id": "f2797374",
   "metadata": {},
   "outputs": [
    {
     "name": "stdout",
     "output_type": "stream",
     "text": [
      "(20001, 2)\n"
     ]
    }
   ],
   "source": [
    "print((netswitch_train_multi[0].shape))"
   ]
  },
  {
   "cell_type": "code",
   "execution_count": 97,
   "id": "d806a453",
   "metadata": {},
   "outputs": [
    {
     "name": "stderr",
     "output_type": "stream",
     "text": [
      "C:\\Users\\UserALai\\miniconda3\\lib\\site-packages\\pysindy\\feature_library\\sindy_pi_library.py:161: UserWarning: This library is deprecated in PySINDy versions > 1.7. Please use the PDE or WeakPDE libraries instead. \n",
      "  warnings.warn(\n"
     ]
    },
    {
     "name": "stdout",
     "output_type": "stream",
     "text": [
      "Model  0\n",
      "Model  1\n",
      "Model  2\n",
      "Model  3\n",
      "Model  4\n",
      "Model  5\n",
      "Model  6\n",
      "Model  7\n",
      "Model  8\n",
      "Model  9\n",
      "Model  10\n",
      "Model  11\n",
      "Model  12\n",
      "Model  13\n",
      "Model  14\n",
      "Model  15\n",
      "1 = 0.562 x0 + 0.084 x1 + 0.028 x0x1 + -0.030 x0x0 + -0.011 x1x1 + 0.404 x0x1x1 + -0.036 x0x0x1 + 0.459 x0_dot + -0.017 x0 x0_dot + 0.058 x1 x0_dot + -0.039 x0x1 x0_dot + -0.004 x0x0 x0_dot + 0.404 x1x1 x0_dot + -0.002 x0x1x1 x0_dot + 0.002 x0x0x1 x0_dot\n",
      "x0 = 1.557 1 + -0.188 x1 + 0.023 x0x1 + 0.104 x0x0 + 0.026 x1x1 + -0.588 x0x1x1 + 0.064 x0x0x1 + -0.693 x0_dot + 0.078 x0 x0_dot + -0.121 x1 x0_dot + 0.080 x0x1 x0_dot + 0.004 x0x0 x0_dot + -0.569 x1x1 x0_dot + -0.001 x0x1x1 x0_dot + -0.002 x0x0x1 x0_dot\n",
      "x1 = 2.133 1 + -1.721 x0 + -0.300 x0x1 + 0.320 x0x0 + 0.135 x1x1 + 0.055 x0x1x1 + 0.378 x0x0x1 + -0.724 x0_dot + 0.354 x0 x0_dot + -0.646 x1 x0_dot + 0.365 x0x1 x0_dot + -0.016 x0x0 x0_dot + 0.086 x1x1 x0_dot + 0.007 x0x0x1 x0_dot\n",
      "x0x1 = 0.739 1 + 0.222 x0 + -0.316 x1 + -0.264 x0x0 + 0.030 x1x1 + 0.265 x0x1x1 + 0.327 x0x0x1 + -0.228 x0_dot + -0.168 x0 x0_dot + -0.362 x1 x0_dot + 0.192 x0x1 x0_dot + 0.011 x0x0 x0_dot + 0.111 x1x1 x0_dot + 0.036 x0x1x1 x0_dot + -0.003 x0x0x1 x0_dot\n",
      "x0x0 = -2.786 1 + 3.538 x0 + 1.188 x1 + -0.932 x0x1 + -0.171 x1x1 + 0.406 x0x1x1 + -0.231 x0x0x1 + 0.943 x0_dot + -0.869 x0 x0_dot + 0.681 x1 x0_dot + -0.424 x0x1 x0_dot + 0.033 x0x0 x0_dot + 0.117 x1x1 x0_dot + 0.052 x0x1x1 x0_dot + -0.012 x0x0x1 x0_dot\n",
      "x1x1 = -15.475 1 + 12.856 x0 + 7.271 x1 + 1.518 x0x1 + -2.494 x0x0 + -0.135 x0x1x1 + -2.532 x0x0x1 + 5.310 x0_dot + -2.615 x0 x0_dot + 4.396 x1 x0_dot + -2.515 x0x1 x0_dot + 0.088 x0x0 x0_dot + -0.438 x1x1 x0_dot + 0.005 x0x1x1 x0_dot + -0.034 x0x0x1 x0_dot\n",
      "x0x1x1 = 1.948 1 + -1.022 x0 + 0.010 x1 + 0.048 x0x1 + 0.021 x0x0 + -0.007 x0x0x1 + -0.951 x0_dot + -0.022 x0 x0_dot + 0.011 x1 x0_dot + 0.009 x0x1 x0_dot + 0.012 x0x0 x0_dot + -0.998 x1x1 x0_dot + 0.003 x0x1x1 x0_dot + -0.006 x0x0x1 x0_dot\n",
      "x0x0x1 = -4.437 1 + 2.817 x0 + 1.829 x1 + 1.504 x0x1 + -0.301 x0x0 + -0.227 x1x1 + -0.177 x0x1x1 + 1.459 x0_dot + -0.382 x0 x0_dot + 1.467 x1 x0_dot + -0.854 x0x1 x0_dot + -0.010 x0x0 x0_dot + -0.071 x1x1 x0_dot + -0.043 x0x1x1 x0_dot + 0.003 x0x0x1 x0_dot\n",
      "x0_dot = 2.108 1 + -1.150 x0 + -0.131 x1 + -0.039 x0x1 + 0.046 x0x0 + 0.018 x1x1 + -0.907 x0x1x1 + 0.055 x0x0x1 + 0.032 x0 x0_dot + -0.079 x1 x0_dot + 0.057 x0x1 x0_dot + 0.005 x0x0 x0_dot + -0.908 x1x1 x0_dot + 0.003 x0x1x1 x0_dot + -0.003 x0x0x1 x0_dot\n",
      "x0 x0_dot = -1.250 1 + 2.076 x0 + 1.035 x1 + -0.468 x0x1 + -0.685 x0x0 + -0.142 x1x1 + -0.338 x0x1x1 + -0.231 x0x0x1 + 0.515 x0_dot + 0.629 x1 x0_dot + -0.298 x0x1 x0_dot + 0.172 x0x0 x0_dot + -0.584 x1x1 x0_dot + 0.084 x0x1x1 x0_dot + -0.073 x0x0x1 x0_dot\n",
      "x1 x0_dot = 2.557 1 + -1.933 x0 + -1.125 x1 + -0.599 x0x1 + 0.320 x0x0 + 0.142 x1x1 + 0.104 x0x1x1 + 0.528 x0x0x1 + -0.760 x0_dot + 0.375 x0 x0_dot + 0.536 x0x1 x0_dot + -0.038 x0x0 x0_dot + 0.148 x1x1 x0_dot + -0.013 x0x1x1 x0_dot + 0.016 x0x0x1 x0_dot\n",
      "x0x1 x0_dot = -5.469 1 + 4.052 x0 + 2.024 x1 + 1.012 x0x1 + -0.633 x0x0 + -0.258 x1x1 + 0.266 x0x1x1 + -0.977 x0x0x1 + 1.739 x0_dot + -0.564 x0 x0_dot + 1.704 x1 x0_dot + 0.002 x0x0 x0_dot + 0.230 x1x1 x0_dot + -0.006 x0x1x1 x0_dot + 0.001 x0x0x1 x0_dot\n",
      "x0x0 x0_dot = -4.192 1 + 1.371 x0 + -0.674 x1 + 0.446 x0x1 + 0.380 x0x0 + 0.069 x1x1 + 2.742 x0x1x1 + -0.088 x0x0x1 + 1.130 x0_dot + 2.495 x0 x0_dot + -0.916 x1 x0_dot + 0.013 x0x1 x0_dot + 3.369 x1x1 x0_dot + -0.428 x0x1x1 x0_dot + 0.429 x0x0x1 x0_dot\n",
      "x1x1 x0_dot = 1.940 1 + -0.986 x0 + 0.016 x1 + 0.020 x0x1 + 0.006 x0x0 + -0.002 x1x1 + -0.994 x0x1x1 + -0.003 x0x0x1 + -0.948 x0_dot + -0.038 x0 x0_dot + 0.016 x1 x0_dot + 0.008 x0x1 x0_dot + 0.015 x0x0 x0_dot + 0.005 x0x1x1 x0_dot + -0.007 x0x0x1 x0_dot\n",
      "x0x1x1 x0_dot = -7.636 1 + -1.255 x0 + -0.007 x1 + 5.727 x0x1 + 2.379 x0x0 + 0.014 x1x1 + 2.326 x0x1x1 + -1.508 x0x0x1 + 2.764 x0_dot + 4.841 x0 x0_dot + -1.232 x1 x0_dot + -0.185 x0x1 x0_dot + -1.707 x0x0 x0_dot + 4.450 x1x1 x0_dot + 0.733 x0x0x1 x0_dot\n",
      "x0x0x1 x0_dot = 11.459 1 + -4.362 x0 + 1.474 x1 + -0.715 x0x1 + -0.733 x0x0 + -0.142 x1x1 + -7.239 x0x1x1 + 0.138 x0x0x1 + -3.467 x0_dot + -5.628 x0 x0_dot + 2.043 x1 x0_dot + 0.033 x0x1 x0_dot + 2.283 x0x0 x0_dot + -8.626 x1x1 x0_dot + 0.977 x0x1x1 x0_dot\n"
     ]
    },
    {
     "data": {
      "text/plain": [
       "['1',\n",
       " 'x0',\n",
       " 'x1',\n",
       " 'x0x1',\n",
       " 'x0x0',\n",
       " 'x1x1',\n",
       " 'x0x1x1',\n",
       " 'x0x0x1',\n",
       " 'x0_dot',\n",
       " 'x0 x0_dot',\n",
       " 'x1 x0_dot',\n",
       " 'x0x1 x0_dot',\n",
       " 'x0x0 x0_dot',\n",
       " 'x1x1 x0_dot',\n",
       " 'x0x1x1 x0_dot',\n",
       " 'x0x0x1 x0_dot']"
      ]
     },
     "execution_count": 97,
     "metadata": {},
     "output_type": "execute_result"
    }
   ],
   "source": [
    "# generalized library testing \n",
    "# gets u dot\n",
    "library_functions = [\n",
    "    lambda x: x,\n",
    "    lambda x, y: x * y,\n",
    "    lambda x: x ** 2,\n",
    "    lambda x, y: x * y ** 2,\n",
    "    lambda x, y: x ** 2 * y ,\n",
    "]\n",
    "library_function_names = [\n",
    "    lambda x: x,\n",
    "    lambda x, y: x + y,\n",
    "    lambda x: x + x,\n",
    "    lambda x, y: x + y + y,\n",
    "    lambda x, y: x + x + y,\n",
    "]\n",
    "custom_library = ps.CustomLibrary(\n",
    "    library_functions=library_functions,\n",
    "    function_names=library_function_names,\n",
    ")\n",
    "\n",
    "x_dot_library_functions = [\n",
    "    lambda x: x\n",
    "]\n",
    "# only consist of xn_dot\n",
    "sindy_library = ps.SINDyPILibrary(\n",
    "    library_functions=[],\n",
    "    x_dot_library_functions=x_dot_library_functions,\n",
    "    t=t,\n",
    "    function_names=[lambda x: x],\n",
    ")\n",
    "\n",
    "# only consist of constant term 1\n",
    "constant_library = ps.CustomLibrary(\n",
    "    library_functions=[],\n",
    "    function_names=[],\n",
    "    include_bias=True,\n",
    ")\n",
    "\n",
    "sindy_opt = ps.SINDyPI(\n",
    "    threshold=1e-6,\n",
    "    tol=1e-8,\n",
    "    thresholder=\"l1\",\n",
    "    max_iter=40000,\n",
    ")\n",
    "\n",
    "# Initialize the inputs\n",
    "inputs_u_temp = np.tile([0, 1], 3)\n",
    "inputs_per_u_library = np.reshape(inputs_u_temp, (3, 2))\n",
    "inputs_per_u_library[2, 1] = 0\n",
    "\n",
    "generalized_library = ps.GeneralizedLibrary(\n",
    "    [constant_library, custom_library, sindy_library],\n",
    "    tensor_array=[[0,1,1]],\n",
    "    inputs_per_library=inputs_per_u_library\n",
    ")\n",
    "\n",
    "# Issue running multiple_traj. with generalized_library\n",
    "u_model = ps.SINDy(feature_library=generalized_library,\n",
    "                 optimizer=sindy_opt,\n",
    "                 differentiation_method=ps.FiniteDifference(drop_endpoints=False),\n",
    "                )\n",
    "\n",
    "u_model.fit(netswitch_train_multi, t=t, multiple_trajectories=True)\n",
    "#u_model.fit(netswitch_train, t=dt, multiple_trajectories=False)\n",
    "\n",
    "# lhs= gets the function names since print() will miss the fact that we're using SINDyPI\n",
    "u_model.print(lhs=u_model.get_feature_names())\n",
    "generalized_library.get_feature_names()\n",
    "u_model.get_feature_names()"
   ]
  },
  {
   "cell_type": "code",
   "execution_count": 14,
   "id": "6754cfc5",
   "metadata": {},
   "outputs": [
    {
     "name": "stdout",
     "output_type": "stream",
     "text": [
      "Model  0\n"
     ]
    },
    {
     "name": "stderr",
     "output_type": "stream",
     "text": [
      "C:\\Users\\UserALai\\miniconda3\\lib\\site-packages\\cvxpy\\problems\\problem.py:1337: UserWarning: Solution may be inaccurate. Try another solver, adjusting the solver settings, or solve with verbose=True for more information.\n",
      "  warnings.warn(\n"
     ]
    },
    {
     "name": "stdout",
     "output_type": "stream",
     "text": [
      "Model  1\n",
      "Model  2\n",
      "Model  3\n",
      "Model  4\n",
      "Model  5\n",
      "Model  6\n",
      "Model  7\n",
      "Model  8\n",
      "Model  9\n",
      "Model  10\n",
      "Model  11\n",
      "Model  12\n",
      "Model  13\n",
      "Model  14\n",
      "Model  15\n",
      "1 = 0.799 x0 + 0.826 x1 + -0.442 x0x1 + -0.149 x0x0 + -0.149 x1x1 + 0.048 x0x1x1 + 0.053 x0x0x1 + -0.004 x1_dot + 0.001 x0 x1_dot + 0.003 x1 x1_dot + -0.001 x0x1 x1_dot\n",
      "x0 = 1.184 1 + -0.927 x1 + 0.527 x0x1 + 0.203 x0x0 + 0.157 x1x1 + -0.048 x0x1x1 + -0.074 x0x0x1 + 0.004 x1_dot + -0.001 x0 x1_dot + -0.003 x1 x1_dot + 0.001 x0x1 x1_dot + -0.001 x0x0 x1_dot\n",
      "x1 = 1.036 1 + -0.785 x0 + 0.524 x0x1 + 0.133 x0x0 + 0.201 x1x1 + -0.072 x0x1x1 + -0.050 x0x0x1 + -0.008 x1_dot + 0.007 x0 x1_dot + 0.003 x1 x1_dot + -0.002 x0x1 x1_dot + -0.001 x0x0 x1_dot\n",
      "x0x1 = -1.758 1 + 1.413 x0 + 1.661 x1 + -0.257 x0x0 + -0.302 x1x1 + 0.114 x0x1x1 + 0.119 x0x0x1 + 0.016 x1_dot + -0.014 x0 x1_dot + -0.006 x1 x1_dot + 0.005 x0x1 x1_dot + 0.003 x0x0 x1_dot + 0.001 x1x1 x1_dot + -0.001 x0x0x1 x1_dot\n",
      "x0x0 = -4.722 1 + 4.332 x0 + 3.354 x1 + -2.042 x0x1 + -0.496 x1x1 + 0.109 x0x1x1 + 0.382 x0x0x1 + -0.018 x1_dot + 0.005 x0 x1_dot + 0.013 x1 x1_dot + -0.004 x0x1 x1_dot + 0.003 x0x0 x1_dot + -0.002 x1x1 x1_dot + 0.001 x0x1x1 x1_dot + -0.001 x0x0x1 x1_dot\n",
      "x1x1 = -3.928 1 + 2.782 x0 + 4.206 x1 + -1.998 x0x1 + -0.412 x0x0 + 0.385 x0x1x1 + 0.107 x0x0x1 + 0.056 x1_dot + -0.041 x0 x1_dot + -0.028 x1 x1_dot + 0.017 x0x1 x1_dot + 0.006 x0x0 x1_dot + 0.004 x1x1 x1_dot + -0.002 x0x1x1 x1_dot + -0.002 x0x0x1 x1_dot\n",
      "x0x1x1 = 6.563 1 + -4.392 x0 + -7.767 x1 + 3.907 x0x1 + 0.467 x0x0 + 1.986 x1x1 + 0.022 x0x0x1 + -0.146 x1_dot + 0.107 x0 x1_dot + 0.076 x1 x1_dot + -0.044 x0x1 x1_dot + -0.016 x0x0 x1_dot + -0.012 x1x1 x1_dot + 0.005 x0x1x1 x1_dot + 0.003 x0x0x1 x1_dot\n",
      "x0x0x1 = 7.296 1 + -6.940 x0 + -5.557 x1 + 4.149 x0x1 + 1.667 x0x0 + 0.561 x1x1 + 0.022 x0x1x1 + -0.009 x1_dot + 0.021 x0 x1_dot + -0.004 x1 x1_dot + -0.003 x0x1 x1_dot + -0.009 x0x0 x1_dot + 0.002 x1x1 x1_dot + -0.002 x0x1x1 x1_dot + 0.004 x0x0x1 x1_dot\n",
      "x1_dot = -0.082 1 + 0.067 x0 + -0.147 x1 + 0.089 x0x1 + -0.013 x0x0 + 0.048 x1x1 + -0.024 x0x1x1 + -0.001 x0x0x1 + 0.655 x0 x1_dot + 0.512 x1 x1_dot + -0.273 x0x1 x1_dot + -0.069 x0x0 x1_dot + -0.063 x1x1 x1_dot + 0.026 x0x1x1 x1_dot + 0.017 x0x0x1 x1_dot\n",
      "x0 x1_dot = 0.052 1 + -0.037 x0 + 0.273 x1 + -0.174 x0x1 + 0.007 x0x0 + -0.076 x1x1 + 0.039 x0x1x1 + 0.007 x0x0x1 + 1.442 x1_dot + -0.694 x1 x1_dot + 0.377 x0x1 x1_dot + 0.129 x0x0 x1_dot + 0.080 x1x1 x1_dot + -0.031 x0x1x1 x1_dot + -0.032 x0x0x1 x1_dot\n",
      "x1 x1_dot = 0.201 1 + -0.159 x0 + 0.173 x1 + -0.113 x0x1 + 0.030 x0x0 + -0.080 x1x1 + 0.042 x0x1x1 + -0.002 x0x0x1 + 1.684 x1_dot + -1.037 x0 x1_dot + 0.506 x0x1 x1_dot + 0.083 x0x0 x1_dot + 0.137 x1x1 x1_dot + -0.058 x0x1x1 x1_dot + -0.022 x0x0x1 x1_dot\n",
      "x0x1 x1_dot = -0.235 1 + 0.180 x0 + -0.507 x1 + 0.313 x0x1 + -0.033 x0x0 + 0.176 x1x1 + -0.090 x0x1x1 + -0.007 x0x0x1 + -3.355 x1_dot + 2.107 x0 x1_dot + 1.891 x1 x1_dot + -0.181 x0x0 x1_dot + -0.248 x1x1 x1_dot + 0.109 x0x1x1 x1_dot + 0.049 x0x0x1 x1_dot\n",
      "x0x0 x1_dot = 0.817 1 + -0.754 x0 + -2.032 x1 + 1.414 x0x1 + 0.149 x0x0 + 0.427 x1x1 + -0.218 x0x1x1 + -0.119 x0x0x1 + -5.817 x1_dot + 4.908 x0 x1_dot + 2.127 x1 x1_dot + -1.235 x0x1 x1_dot + -0.166 x1x1 x1_dot + 0.007 x0x1x1 x1_dot + 0.245 x0x0x1 x1_dot\n",
      "x1x1 x1_dot = -1.316 1 + 1.089 x0 + -0.988 x1 + 0.589 x0x1 + -0.226 x0x0 + 0.596 x1x1 + -0.309 x0x1x1 + 0.062 x0x0x1 + -10.140 x1_dot + 5.881 x0 x1_dot + 6.736 x1 x1_dot + -3.263 x0x1 x1_dot + -0.320 x0x0 x1_dot + 0.424 x0x1x1 x1_dot + 0.084 x0x0x1 x1_dot\n",
      "x0x1x1 x1_dot = 2.920 1 + -2.592 x0 + 1.945 x1 + -0.737 x0x1 + 0.579 x0x0 + -1.254 x1x1 + 0.705 x0x1x1 + -0.298 x0x0x1 + 20.647 x1_dot + -11.027 x0 x1_dot + -13.865 x1 x1_dot + 7.000 x0x1 x1_dot + 0.066 x0x0 x1_dot + 2.069 x1x1 x1_dot + -0.029 x0x0x1 x1_dot\n",
      "x0x0x1 x1_dot = -4.739 1 + 4.559 x0 + 9.109 x1 + -6.699 x0x1 + -1.022 x0x0 + -1.691 x1x1 + 0.737 x0x1x1 + 0.884 x0x0x1 + 22.725 x1_dot + -19.041 x0 x1_dot + -8.717 x1 x1_dot + 5.189 x0x1 x1_dot + 3.827 x0x0 x1_dot + 0.683 x1x1 x1_dot + -0.048 x0x1x1 x1_dot\n"
     ]
    },
    {
     "data": {
      "text/plain": [
       "['1',\n",
       " 'x0',\n",
       " 'x1',\n",
       " 'x0x1',\n",
       " 'x0x0',\n",
       " 'x1x1',\n",
       " 'x0x1x1',\n",
       " 'x0x0x1',\n",
       " 'x1_dot',\n",
       " 'x0 x1_dot',\n",
       " 'x1 x1_dot',\n",
       " 'x0x1 x1_dot',\n",
       " 'x0x0 x1_dot',\n",
       " 'x1x1 x1_dot',\n",
       " 'x0x1x1 x1_dot',\n",
       " 'x0x0x1 x1_dot']"
      ]
     },
     "execution_count": 14,
     "metadata": {},
     "output_type": "execute_result"
    }
   ],
   "source": [
    "# getting v_dot w/ generalized lib\n",
    "# Initialize the inputs\n",
    "inputs_v_temp = np.tile([0, 1], 3)\n",
    "inputs_per_v_library = np.reshape(inputs_v_temp, (3, 2))\n",
    "inputs_per_v_library[2, 0] = 1\n",
    "\n",
    "generalized_library = ps.GeneralizedLibrary(\n",
    "    [constant_library, custom_library, sindy_library],\n",
    "    tensor_array=[[0,1,1]],\n",
    "    inputs_per_library=inputs_per_v_library\n",
    ")\n",
    "# Issue running multiple_traj. with generalized_library\n",
    "v_model = ps.SINDy(feature_library=generalized_library,\n",
    "                 optimizer=sindy_opt,\n",
    "                 differentiation_method=ps.FiniteDifference(drop_endpoints=False),\n",
    "                )\n",
    "\n",
    "v_model.fit(netswitch_train_multi, t=dt, multiple_trajectories=True)\n",
    "#v_model.fit(netswitch_train, t=dt, multiple_trajectories=False)\n",
    "\n",
    "# lhs= gets the function names since print() will miss the fact that we're using SINDyPI\n",
    "v_model.print(lhs=v_model.get_feature_names())\n",
    "generalized_library.get_feature_names()\n",
    "v_model.get_feature_names()"
   ]
  },
  {
   "cell_type": "markdown",
   "id": "1466218c",
   "metadata": {},
   "source": [
    "### Now we need to reformat all the feature strings for conversion into symbolic variables\n",
    "So we have all these nice models but these are implicit ODEs, and the default Python solvers (solve_ivp and odeint) cannot solve implicit ODEs. There are two options although we only illustrate the first option below; we must convert the equations into symbolic variables and then either (1) use SymPy to symbolically solve the equation for $\\dot{x}$, after which the equation is no longer implicit and can be solved with the default Python solves, or (2) convert the equations into a symbolic differential algebraic equation (DAE), which can be numerically solved with the diffeqpy Python package (but requires Julia to be installed). "
   ]
  },
  {
   "cell_type": "code",
   "execution_count": 98,
   "id": "9debf9f5",
   "metadata": {},
   "outputs": [
    {
     "name": "stdout",
     "output_type": "stream",
     "text": [
      "['1', 'x0', 'x1', 'x0x1', 'x0x0', 'x1x1', 'x0x1x1', 'x0x0x1', 'x0_dot', 'x0x0_dot', 'x1x0_dot', 'x0x1x0_dot', 'x0x0x0_dot', 'x1x1x0_dot', 'x0x1x1x0_dot', 'x0x0x1x0_dot']\n",
      "['1', 'x0', 'x1', 'x0 * x1', 'x0 * x0', 'x1 * x1', 'x0 * x1 * x1', 'x0 * x0 * x1', 'x0_dot', 'x0 * x0_dot', 'x1 * x0_dot', 'x0 * x1 * x0_dot', 'x0 * x0 * x0_dot', 'x1 * x1 * x0_dot', 'x0 * x1 * x1 * x0_dot', 'x0 * x0 * x1 * x0_dot']\n",
      "[1, x0, x1, x0x1, x0x0, x1x1, x0x1x1, x0x0x1, x0_dot, x0x0_dot, x1x0_dot, x0x1x0_dot, x0x0x0_dot, x1x1x0_dot, x0x1x1x0_dot, x0x0x1x0_dot]\n"
     ]
    }
   ],
   "source": [
    "features = u_model.get_feature_names()\n",
    "features[0] = \"1\"\n",
    "features_copy = list(np.copy(features))\n",
    "nfeatures = len(features)\n",
    "features_formatted = []\n",
    "# Need to put multiplication between terms for sympy\n",
    "for i in range(nfeatures):\n",
    "    for j in range(r):\n",
    "        # Overkill to make sure all the x0, x1, etc. get replaced\n",
    "        temp_string = features[i].replace(\"x\" + str(j) + \"x\", \"x\" + str(j) + \" * x\")\n",
    "        temp_string = temp_string.replace(\"x\" + str(j) + \"x\", \"x\" + str(j) + \" * x\")\n",
    "        temp_string = temp_string.replace(\"x\" + str(j) + \"x\", \"x\" + str(j) + \" * x\")\n",
    "        temp_string = temp_string.replace(\"x\" + str(j) + \"x\", \"x\" + str(j) + \" * x\")\n",
    "        temp_string = temp_string.replace(\"x\" + str(j) + \" x\", \"x\" + str(j) + \" * x\")\n",
    "        temp_string = temp_string.replace(\"x\" + str(j) + \" x\", \"x\" + str(j) + \" * x\")\n",
    "        features[i] = temp_string\n",
    "    features_formatted.append(temp_string)\n",
    "features = features_copy\n",
    "for i in range(nfeatures):\n",
    "    temp_string = features[i].replace(\" \", \"\")\n",
    "    features[i] = temp_string\n",
    "\n",
    "print(features)\n",
    "print(features_formatted)\n",
    "coefs = u_model.coefficients()\n",
    "sym_features = [sp.symbols(feature) for feature in features]\n",
    "sym_theta = [sp.symbols(feature) for feature in features]\n",
    "print(sym_theta)"
   ]
  },
  {
   "cell_type": "code",
   "execution_count": 99,
   "id": "dbe20282",
   "metadata": {},
   "outputs": [
    {
     "name": "stdout",
     "output_type": "stream",
     "text": [
      "1  =  0.56*x0 + 0.46*x0_dot - 0.03*x0x0 - 0.02*x0x0_dot - 0.04*x0x0x1 + 0.03*x0x1 - 0.04*x0x1x0_dot + 0.4*x0x1x1 + 0.08*x1 + 0.06*x1x0_dot - 0.01*x1x1 + 0.4*x1x1x0_dot\n",
      "x0  =  1.56*1 - 0.69*x0_dot + 0.1*x0x0 + 0.08*x0x0_dot + 0.06*x0x0x1 + 0.02*x0x1 + 0.08*x0x1x0_dot - 0.59*x0x1x1 - 0.19*x1 - 0.12*x1x0_dot + 0.03*x1x1 - 0.57*x1x1x0_dot\n",
      "x1  =  2.13*1 - 1.72*x0 - 0.72*x0_dot + 0.32*x0x0 + 0.35*x0x0_dot - 0.02*x0x0x0_dot + 0.38*x0x0x1 + 0.01*x0x0x1x0_dot - 0.3*x0x1 + 0.37*x0x1x0_dot + 0.05*x0x1x1 - 0.65*x1x0_dot + 0.13*x1x1 + 0.09*x1x1x0_dot\n",
      "x0x1  =  0.74*1 + 0.22*x0 - 0.23*x0_dot - 0.26*x0x0 - 0.17*x0x0_dot + 0.01*x0x0x0_dot + 0.33*x0x0x1 + 0.19*x0x1x0_dot + 0.27*x0x1x1 + 0.04*x0x1x1x0_dot - 0.32*x1 - 0.36*x1x0_dot + 0.03*x1x1 + 0.11*x1x1x0_dot\n",
      "x0x0  =  -2.79*1 + 3.54*x0 + 0.94*x0_dot - 0.87*x0x0_dot + 0.03*x0x0x0_dot - 0.23*x0x0x1 - 0.01*x0x0x1x0_dot - 0.93*x0x1 - 0.42*x0x1x0_dot + 0.41*x0x1x1 + 0.05*x0x1x1x0_dot + 1.19*x1 + 0.68*x1x0_dot - 0.17*x1x1 + 0.12*x1x1x0_dot\n",
      "x1x1  =  -15.47*1 + 12.86*x0 + 5.31*x0_dot - 2.49*x0x0 - 2.62*x0x0_dot + 0.09*x0x0x0_dot - 2.53*x0x0x1 - 0.03*x0x0x1x0_dot + 1.52*x0x1 - 2.51*x0x1x0_dot - 0.14*x0x1x1 + 7.27*x1 + 4.4*x1x0_dot - 0.44*x1x1x0_dot\n",
      "x0x1x1  =  1.95*1 - 1.02*x0 - 0.95*x0_dot + 0.02*x0x0 - 0.02*x0x0_dot + 0.01*x0x0x0_dot - 0.01*x0x0x1 - 0.01*x0x0x1x0_dot + 0.05*x0x1 + 0.01*x0x1x0_dot + 0.01*x1 + 0.01*x1x0_dot - x1x1x0_dot\n",
      "x0x0x1  =  -4.44*1 + 2.82*x0 + 1.46*x0_dot - 0.3*x0x0 - 0.38*x0x0_dot - 0.01*x0x0x0_dot + 1.5*x0x1 - 0.85*x0x1x0_dot - 0.18*x0x1x1 - 0.04*x0x1x1x0_dot + 1.83*x1 + 1.47*x1x0_dot - 0.23*x1x1 - 0.07*x1x1x0_dot\n",
      "x0_dot  =  2.11*1 - 1.15*x0 + 0.05*x0x0 + 0.03*x0x0_dot + 0.05*x0x0x1 - 0.04*x0x1 + 0.06*x0x1x0_dot - 0.91*x0x1x1 - 0.13*x1 - 0.08*x1x0_dot + 0.02*x1x1 - 0.91*x1x1x0_dot\n",
      "x0x0_dot  =  -1.25*1 + 2.08*x0 + 0.51*x0_dot - 0.69*x0x0 + 0.17*x0x0x0_dot - 0.23*x0x0x1 - 0.07*x0x0x1x0_dot - 0.47*x0x1 - 0.3*x0x1x0_dot - 0.34*x0x1x1 + 0.08*x0x1x1x0_dot + 1.03*x1 + 0.63*x1x0_dot - 0.14*x1x1 - 0.58*x1x1x0_dot\n",
      "x1x0_dot  =  2.56*1 - 1.93*x0 - 0.76*x0_dot + 0.32*x0x0 + 0.37*x0x0_dot - 0.04*x0x0x0_dot + 0.53*x0x0x1 + 0.02*x0x0x1x0_dot - 0.6*x0x1 + 0.54*x0x1x0_dot + 0.1*x0x1x1 - 0.01*x0x1x1x0_dot - 1.12*x1 + 0.14*x1x1 + 0.15*x1x1x0_dot\n",
      "x0x1x0_dot  =  -5.47*1 + 4.05*x0 + 1.74*x0_dot - 0.63*x0x0 - 0.56*x0x0_dot - 0.98*x0x0x1 + 1.01*x0x1 + 0.27*x0x1x1 - 0.01*x0x1x1x0_dot + 2.02*x1 + 1.7*x1x0_dot - 0.26*x1x1 + 0.23*x1x1x0_dot\n",
      "x0x0x0_dot  =  -4.19*1 + 1.37*x0 + 1.13*x0_dot + 0.38*x0x0 + 2.49*x0x0_dot - 0.09*x0x0x1 + 0.43*x0x0x1x0_dot + 0.45*x0x1 + 0.01*x0x1x0_dot + 2.74*x0x1x1 - 0.43*x0x1x1x0_dot - 0.67*x1 - 0.92*x1x0_dot + 0.07*x1x1 + 3.37*x1x1x0_dot\n",
      "x1x1x0_dot  =  1.94*1 - 0.99*x0 - 0.95*x0_dot + 0.01*x0x0 - 0.04*x0x0_dot + 0.01*x0x0x0_dot - 0.01*x0x0x1x0_dot + 0.02*x0x1 + 0.01*x0x1x0_dot - 0.99*x0x1x1 + 0.02*x1 + 0.02*x1x0_dot\n",
      "x0x1x1x0_dot  =  -7.64*1 - 1.26*x0 + 2.76*x0_dot + 2.38*x0x0 + 4.84*x0x0_dot - 1.71*x0x0x0_dot - 1.51*x0x0x1 + 0.73*x0x0x1x0_dot + 5.73*x0x1 - 0.19*x0x1x0_dot + 2.33*x0x1x1 - 0.01*x1 - 1.23*x1x0_dot + 0.01*x1x1 + 4.45*x1x1x0_dot\n",
      "x0x0x1x0_dot  =  11.46*1 - 4.36*x0 - 3.47*x0_dot - 0.73*x0x0 - 5.63*x0x0_dot + 2.28*x0x0x0_dot + 0.14*x0x0x1 - 0.71*x0x1 + 0.03*x0x1x0_dot - 7.24*x0x1x1 + 0.98*x0x1x1x0_dot + 1.47*x1 + 2.04*x1x0_dot - 0.14*x1x1 - 8.63*x1x1x0_dot\n"
     ]
    }
   ],
   "source": [
    "sym_equations = []\n",
    "sym_equations_rounded = []\n",
    "for i in range(nfeatures):\n",
    "    sym_equations.append(\n",
    "        sp.solve(\n",
    "            sp.Eq(sym_theta[i], sym_theta @ np.around(coefs[i], 10)), sym_features[i]\n",
    "        )\n",
    "    )\n",
    "    sym_equations_rounded.append(\n",
    "        sp.solve(\n",
    "            sp.Eq(sym_theta[i], sym_theta @ np.around(coefs[i], 2)), sym_features[i]\n",
    "        )\n",
    "    )\n",
    "    print(sym_theta[i], \" = \", sym_equations_rounded[i][0])"
   ]
  },
  {
   "cell_type": "markdown",
   "id": "6e7787c5",
   "metadata": {},
   "source": [
    "Formatting equations into $\\dot{u}=f(u, v)$ form"
   ]
  },
  {
   "cell_type": "code",
   "execution_count": 100,
   "id": "1d3295da",
   "metadata": {},
   "outputs": [
    {
     "name": "stdout",
     "output_type": "stream",
     "text": [
      "(x0_dot, x1_dot)\n",
      "0\n",
      "1\n",
      "2\n",
      "3\n",
      "4\n",
      "5\n",
      "6\n",
      "7\n",
      "8\n",
      "9\n",
      "10\n",
      "11\n",
      "12\n",
      "13\n",
      "14\n",
      "15\n"
     ]
    }
   ],
   "source": [
    "# Define the ODE symbol variables\n",
    "t_sym = sp.symbols(\"t_sym\")\n",
    "x_sym = sp.symbols(\"x:%d\" % r)\n",
    "x_dot_sym = sp.symbols(\"x:%d_dot\" % r)\n",
    "print(x_dot_sym)\n",
    "# Need to format the above equations so that there are space between x0 * x0, x0 * x_dot0, and so on.\n",
    "sym_equations_formatted = []\n",
    "sym_equations_rounded_formatted = []\n",
    "for i in range(nfeatures):\n",
    "    #print(f\"base ={sym_equations[i]}\")\n",
    "    temp_string = str(sym_equations[i])\n",
    "    temp_rounded_string = str(sym_equations_rounded[i])\n",
    "    for j in range(r):\n",
    "        # Overkill to make sure all the x0, x1, etc. get replaced\n",
    "        temp_string = temp_string.replace(\n",
    "            \"x\" + str(j) + \"x\", \"x\" + str(j) + \" * x\"\n",
    "        )\n",
    "        temp_string = temp_string.replace(\"x\" + str(j) + \"x\", \"x\" + str(j) + \" * x\")\n",
    "        temp_string = temp_string.replace(\"x\" + str(j) + \"x\", \"x\" + str(j) + \" * x\")\n",
    "        temp_string = temp_string.replace(\"x\" + str(j) + \"x\", \"x\" + str(j) + \" * x\")\n",
    "        temp_string = temp_string.replace(\"x\" + str(j) + \"x\", \"x\" + str(j) + \" * x\")\n",
    "\n",
    "        temp_rounded_string = temp_rounded_string.replace(\n",
    "            \"x\" + str(j) + \"x\", \"x\" + str(j) + \" * x\"\n",
    "        )\n",
    "        temp_rounded_string = temp_rounded_string.replace(\n",
    "            \"x\" + str(j) + \"x\", \"x\" + str(j) + \" * x\"\n",
    "        )\n",
    "        temp_rounded_string = temp_rounded_string.replace(\n",
    "            \"x\" + str(j) + \"x\", \"x\" + str(j) + \" * x\"\n",
    "        )\n",
    "        temp_rounded_string = temp_rounded_string.replace(\n",
    "            \"x\" + str(j) + \"x\", \"x\" + str(j) + \" * x\"\n",
    "        )\n",
    "        temp_rounded_string = temp_rounded_string.replace(\n",
    "            \"x\" + str(j) + \"x\", \"x\" + str(j) + \" * x\"\n",
    "        )\n",
    "    sym_equations_formatted.append(temp_string)\n",
    "    sym_equations_rounded_formatted.append(temp_rounded_string)\n",
    "    #print(f\"formatted and rounded = {sym_equations_rounded_formatted[i]}\")\n",
    "\n",
    "# Now that the equations are mathematically formatted, \n",
    "# solve for x_dot0 in the algebraic equation.\n",
    "sym_equations_simplified = []\n",
    "sym_equations_rounded_simplified = []\n",
    "for i in range(nfeatures):\n",
    "    print(i)\n",
    "    sym_equations_simplified.append(\n",
    "        sp.factor(sp.solve(\n",
    "            sp.Add(\n",
    "                sp.sympify(sym_equations_formatted)[i][0],\n",
    "                -sp.sympify(features_formatted[i]),\n",
    "            ),\n",
    "            x_dot_sym[0],\n",
    "        ))\n",
    "    )\n",
    "    rounded = sp.factor(sp.solve(\n",
    "        sp.Add(\n",
    "            sp.sympify(sym_equations_rounded_formatted)[i][0],\n",
    "            -sp.sympify(features_formatted[i]),\n",
    "        ),\n",
    "        x_dot_sym[0],\n",
    "    ))\n",
    "    #print(rounded)\n",
    "    #print(f\"variable = {var[j]}, {x_dot_sym[j]} = {rounded}\")\n",
    "    if len(rounded) != 0:\n",
    "        rounded_temp = rounded[0]\n",
    "        #print(rounded_temp)\n",
    "        for a in sp.preorder_traversal(rounded):\n",
    "            if isinstance(a, sp.Float):\n",
    "                rounded_temp = rounded_temp.subs(a, round(a, 2))\n",
    "        sym_equations_rounded_simplified.append(rounded_temp)\n",
    "    else:\n",
    "        sym_equations_rounded_simplified.append([])"
   ]
  },
  {
   "cell_type": "markdown",
   "id": "f9a86bc3",
   "metadata": {},
   "source": [
    "Testing SymPy simplification methods\n",
    "\n",
    "https://docs.sympy.org/latest/tutorial/simplification.html"
   ]
  },
  {
   "cell_type": "code",
   "execution_count": 40,
   "id": "eae9b8e7",
   "metadata": {},
   "outputs": [
    {
     "data": {
      "text/latex": [
       "$\\displaystyle \\frac{2.04413119526485 \\cdot \\left(0.0577267289599513 x_{0}^{2} x_{1} + 0.00859004206730981 x_{0}^{2} - 0.434095347432838 x_{0} x_{1}^{2} - 0.195289491422043 x_{0} x_{1} - 0.515570326647711 x_{0} - 0.0700734546078822 x_{1}^{2} + 0.144279444135927 x_{1} + 1.0\\right)}{0.0377495252680102 x_{0}^{2} x_{1} - 0.0540320477071132 x_{0}^{2} - 0.0201955501360928 x_{0} x_{1}^{2} - 0.286784549985735 x_{0} x_{1} + 0.25942830496837 x_{0} + 1.0 x_{1}^{2} + 0.443902770003389 x_{1} + 0.652527724621665}$"
      ],
      "text/plain": [
       "2.04413119526485*(0.0577267289599513*x0**2*x1 + 0.00859004206730981*x0**2 - 0.434095347432838*x0*x1**2 - 0.195289491422043*x0*x1 - 0.515570326647711*x0 - 0.0700734546078822*x1**2 + 0.144279444135927*x1 + 1.0)/(0.0377495252680102*x0**2*x1 - 0.0540320477071132*x0**2 - 0.0201955501360928*x0*x1**2 - 0.286784549985735*x0*x1 + 0.25942830496837*x0 + 1.0*x1**2 + 0.443902770003389*x1 + 0.652527724621665)"
      ]
     },
     "execution_count": 40,
     "metadata": {},
     "output_type": "execute_result"
    }
   ],
   "source": [
    "sp.factor(sp.solve(\n",
    "            sp.Add(\n",
    "                sp.sympify(sym_equations_formatted)[i][0],\n",
    "                -sp.sympify(features_formatted[i]),\n",
    "            ),\n",
    "            x_dot_sym[0],\n",
    "        )[0])"
   ]
  },
  {
   "cell_type": "code",
   "execution_count": 26,
   "id": "614dcfaf",
   "metadata": {},
   "outputs": [
    {
     "data": {
      "text/latex": [
       "$\\displaystyle \\frac{10.0 \\left(- 175374056717537.0 x_{0}^{2} x_{1} + 948537068434854.0 x_{0}^{2} - 609626276900963.0 x_{0} x_{1}^{2} + 1.94934611956493 \\cdot 10^{15} x_{0} x_{1} - 3.97786759858779 \\cdot 10^{15} x_{0} + 622984916422298.0 x_{1}^{2} - 2.85549933878555 \\cdot 10^{15} x_{1} + 4.11055097728105 \\cdot 10^{15}\\right)}{- 1.0 \\cdot 10^{15} x_{0}^{2} x_{1} + 1.98011287249801 \\cdot 10^{15} x_{0}^{2} + 1.46635305694664 \\cdot 10^{15} x_{0} x_{1}^{2} + 670715927467072.0 x_{0} x_{1} - 1.33771722863377 \\cdot 10^{16} x_{0} - 166412759216641.0 x_{1}^{2} + 2.42668480404267 \\cdot 10^{15} x_{1} + 1.90807113364081 \\cdot 10^{16}}$"
      ],
      "text/plain": [
       "10.0*(-175374056717537.0*x0**2*x1 + 948537068434854.0*x0**2 - 609626276900963.0*x0*x1**2 + 1.94934611956493e+15*x0*x1 - 3.97786759858779e+15*x0 + 622984916422298.0*x1**2 - 2.85549933878555e+15*x1 + 4.11055097728105e+15)/(-1.0e+15*x0**2*x1 + 1.98011287249801e+15*x0**2 + 1.46635305694664e+15*x0*x1**2 + 670715927467072.0*x0*x1 - 1.33771722863377e+16*x0 - 166412759216641.0*x1**2 + 2.42668480404267e+15*x1 + 1.90807113364081e+16)"
      ]
     },
     "execution_count": 26,
     "metadata": {},
     "output_type": "execute_result"
    }
   ],
   "source": [
    "sp.solve(\n",
    "            sp.Add(\n",
    "                sp.sympify(sym_equations_formatted)[i][0],\n",
    "                -sp.sympify(features_formatted[i]),\n",
    "            ),\n",
    "            x_dot_sym[0],\n",
    "        )[0]"
   ]
  },
  {
   "cell_type": "markdown",
   "id": "4e45873a",
   "metadata": {},
   "source": [
    "x_test isolated for reproducibility."
   ]
  },
  {
   "cell_type": "code",
   "execution_count": 102,
   "id": "8ce01b5e",
   "metadata": {},
   "outputs": [
    {
     "data": {
      "text/plain": [
       "array([4.69883765, 2.91406351])"
      ]
     },
     "execution_count": 102,
     "metadata": {},
     "output_type": "execute_result"
    }
   ],
   "source": [
    "x0_test = np.random.rand(r) * 5\n",
    "x0_test"
   ]
  },
  {
   "cell_type": "markdown",
   "id": "1f8e059f",
   "metadata": {},
   "source": [
    "Graphing of test simulation"
   ]
  },
  {
   "cell_type": "code",
   "execution_count": 108,
   "id": "9a883a39",
   "metadata": {},
   "outputs": [
    {
     "data": {
      "text/plain": [
       "(0.0, 6.0)"
      ]
     },
     "execution_count": 108,
     "metadata": {},
     "output_type": "execute_result"
    },
    {
     "data": {
      "image/png": "[encoded data removed]",
      "text/plain": [
       "<Figure size 2016x720 with 1 Axes>"
      ]
     },
     "metadata": {
      "needs_background": "light"
     },
     "output_type": "display_data"
    }
   ],
   "source": [
    "a, b = 2, 1\n",
    "beta, gamma = 2, 2\n",
    "dudt = lambda u, v: -u + (a / (1+v**beta))\n",
    "dvdt = lambda u, v: -v + (b / (1+u**gamma))\n",
    "netswitch = lambda t, x: np.array([dudt(x[0], x[1]), dvdt(x[0], x[1])])\n",
    "x_test = solve_ivp(netswitch, t_span, x0_test, t_eval=t).y.T\n",
    "# Plot the results for each of the models\n",
    "plt.figure(figsize=(28, 10))\n",
    "plt.plot(t, x_test, color=\"k\", linestyle=\"solid\", label=\"True\")\n",
    "for i in range(nfeatures):\n",
    "    ax = plt.gca()\n",
    "    if i != nfeatures - 1:\n",
    "        ax.set_xticklabels([])\n",
    "    if len(sym_equations_simplified[i]) != 0:\n",
    "        # ODE \n",
    "        ODE_Func = sp.lambdify([t_sym, x_sym], sym_equations_simplified[i][0])\n",
    "\n",
    "        # Now simulate the system we identified\n",
    "        x_test_sim = solve_ivp(ODE_Func, t_span, x0_test, t_eval=t).y.T\n",
    "        if (\n",
    "            np.linalg.norm(x_test_sim) < 1e3\n",
    "            and sym_equations_rounded_simplified[i] != 0\n",
    "        ):\n",
    "            plt.plot(\n",
    "                t,\n",
    "                x_test_sim,\n",
    "                linestyle=\"dashed\",\n",
    "                label=str(sp.sympify(features_formatted[i]))\n",
    "                + \" = \"\n",
    "                + str(sym_equations_rounded_simplified[i]),\n",
    "            )\n",
    "plt.grid(True)\n",
    "ax.set_ylim([0, 6])\n",
    "#plt.legend(fontsize=8)"
   ]
  },
  {
   "cell_type": "code",
   "execution_count": 104,
   "id": "934f6084",
   "metadata": {},
   "outputs": [
    {
     "name": "stdout",
     "output_type": "stream",
     "text": [
      "[1.421489026361558, 1.4214465021271017, 1.4492337885288145, 1.4167203920378824, 1.4224051459590574, 1.774565502880548, 1.421514237218937, 1.5197456530742581, 1.4216273788578482, 1.4184936028229325, 1.438144320733949, 1.4482785922512056, 1.4148101815331466, 1.4214612221773455, 1.4073907808087756, 1.4143968503432973]\n"
     ]
    },
    {
     "data": {
      "text/latex": [
       "$\\displaystyle \\frac{1.5773548952263 \\cdot \\left(0.197442174392898 x_{0}^{2} x_{1} - 0.311497809330691 x_{0}^{2} - 0.304648803687256 x_{0} x_{1}^{2} - 0.749991350516221 x_{0} x_{1} + 0.164378351700271 x_{0} - 0.00185063289433118 x_{1}^{2} + 0.000870706871568645 x_{1} + 1.0\\right)}{0.151340109763786 x_{0}^{2} x_{1} - 0.352635750926261 x_{0}^{2} - 0.206561438926209 x_{0} x_{1}^{2} - 0.0382548997551282 x_{0} x_{1} + 1.0 x_{0} + 0.919190249064234 x_{1}^{2} - 0.254584397510816 x_{1} + 0.570930245796254}$"
      ],
      "text/plain": [
       "1.5773548952263*(0.197442174392898*x0**2*x1 - 0.311497809330691*x0**2 - 0.304648803687256*x0*x1**2 - 0.749991350516221*x0*x1 + 0.164378351700271*x0 - 0.00185063289433118*x1**2 + 0.000870706871568645*x1 + 1.0)/(0.151340109763786*x0**2*x1 - 0.352635750926261*x0**2 - 0.206561438926209*x0*x1**2 - 0.0382548997551282*x0*x1 + 1.0*x0 + 0.919190249064234*x1**2 - 0.254584397510816*x1 + 0.570930245796254)"
      ]
     },
     "execution_count": 104,
     "metadata": {},
     "output_type": "execute_result"
    },
    {
     "data": {
      "image/png": "[encoded data removed]",
      "text/plain": [
       "<Figure size 432x288 with 1 Axes>"
      ]
     },
     "metadata": {
      "needs_background": "light"
     },
     "output_type": "display_data"
    }
   ],
   "source": [
    "# model Errors for udot\n",
    "a, b = 2, 1\n",
    "beta, gamma = 2, 2\n",
    "dudt = lambda u, v: -u + (a / (1+v**beta))\n",
    "dvdt = lambda u, v: -v + (b / (1+u**gamma))\n",
    "netswitch = lambda t, x: np.array([dudt(x[0], x[1]), dvdt(x[0], x[1])])\n",
    "\n",
    "# Plot the results for each of the models\n",
    "x_test = solve_ivp(netswitch, t_span, x0_test, t_eval=t).y.T\n",
    "#plt.plot(t, x_test, color=\"k\", linestyle=\"solid\", label=\"True\")\n",
    "u_dot_true = u_model.differentiate(x_test[:, 0])\n",
    "u_dots = []\n",
    "for i in range(nfeatures):\n",
    "    if len(sym_equations_simplified[i]) != 0:\n",
    "        ODE_Func = sp.lambdify([t_sym, x_sym], sym_equations_simplified[i][0])\n",
    "        u_dots.append(ODE_Func(t, [x_test[:,0], x_test[:,1]]))\n",
    "u_dot_error = [(1/20)*np.linalg.norm(u_dot_true.T[0] - u_dot) for u_dot in u_dots]\n",
    "print(u_dot_error)\n",
    "plt.plot(range(16), u_dot_error)\n",
    "plt.grid(True)\n",
    "# res is index of minimum model error\n",
    "temp = min(u_dot_error)\n",
    "res = [i for i, j in enumerate(u_dot_error) if j == temp]\n",
    "sym_equations_simplified[res[0]][0]"
   ]
  },
  {
   "cell_type": "code",
   "execution_count": 105,
   "id": "e4ea20d5",
   "metadata": {
    "scrolled": true
   },
   "outputs": [
    {
     "data": {
      "text/plain": [
       "[<matplotlib.lines.Line2D at 0x19cf44880a0>]"
      ]
     },
     "execution_count": 105,
     "metadata": {},
     "output_type": "execute_result"
    },
    {
     "data": {
      "image/png": "[encoded data removed]",
      "text/plain": [
       "<Figure size 432x288 with 1 Axes>"
      ]
     },
     "metadata": {
      "needs_background": "light"
     },
     "output_type": "display_data"
    }
   ],
   "source": [
    "us = u_model.predict(x_test)[:, 1]\n",
    "plt.plot(t, x_test[:, 0], 'k')\n",
    "plt.plot(t, us,'r--')"
   ]
  },
  {
   "cell_type": "code",
   "execution_count": 81,
   "id": "50be8b39",
   "metadata": {},
   "outputs": [
    {
     "data": {
      "text/plain": [
       "AxesArray([ 1.00538050e+00,  2.51778083e+00,  5.76128773e-03,\n",
       "            1.90296669e-01,  6.56349715e+00,  1.85663420e-01,\n",
       "            4.05433580e-03,  5.82833411e-01, -5.46463813e-01,\n",
       "           -1.22097509e+00, -1.08717818e-01,  8.52301270e-02,\n",
       "           -3.31946476e+00, -8.33145093e-04, -1.17150918e+00,\n",
       "           -1.26475057e-01])"
      ]
     },
     "execution_count": 81,
     "metadata": {},
     "output_type": "execute_result"
    }
   ],
   "source": [
    "u_model.predict(x_test)[0]"
   ]
  },
  {
   "cell_type": "code",
   "execution_count": 76,
   "id": "9fd56dd5",
   "metadata": {},
   "outputs": [
    {
     "data": {
      "text/plain": [
       "array([[2.53251841, 0.04876567],\n",
       "       [2.52717172, 0.04962504],\n",
       "       [2.52187653, 0.05048078],\n",
       "       [2.51663233, 0.05133288],\n",
       "       [2.51143859, 0.05218136],\n",
       "       [2.50629477, 0.05302623],\n",
       "       [2.50120036, 0.05386752],\n",
       "       [2.49615486, 0.05470523],\n",
       "       [2.49115775, 0.05553937],\n",
       "       [2.48620853, 0.05636996],\n",
       "       [2.48130663, 0.05719699],\n",
       "       [2.47645078, 0.05802033],\n",
       "       [2.47164042, 0.05883996],\n",
       "       [2.46687515, 0.05965591],\n",
       "       [2.46215457, 0.0604682 ],\n",
       "       [2.45747831, 0.06127685],\n",
       "       [2.45284598, 0.0620819 ],\n",
       "       [2.44825719, 0.06288337],\n",
       "       [2.44371157, 0.06368128],\n",
       "       [2.43920872, 0.06447565],\n",
       "       [2.43474827, 0.06526651],\n",
       "       [2.43032985, 0.06605387],\n",
       "       [2.42595308, 0.06683777],\n",
       "       [2.42161759, 0.06761822],\n",
       "       [2.417323  , 0.06839525],\n",
       "       [2.41306894, 0.06916887],\n",
       "       [2.40885505, 0.0699391 ],\n",
       "       [2.40468096, 0.07070597],\n",
       "       [2.4005463 , 0.07146949],\n",
       "       [2.39645071, 0.07222969],\n",
       "       [2.39239384, 0.07298659],\n",
       "       [2.38837531, 0.07374019],\n",
       "       [2.38439478, 0.07449052],\n",
       "       [2.38045189, 0.0752376 ],\n",
       "       [2.37654627, 0.07598144],\n",
       "       [2.37267759, 0.07672207],\n",
       "       [2.36884549, 0.07745949],\n",
       "       [2.36504961, 0.07819372],\n",
       "       [2.36128962, 0.07892478],\n",
       "       [2.35756516, 0.07965269],\n",
       "       [2.3538759 , 0.08037745],\n",
       "       [2.35022149, 0.08109909],\n",
       "       [2.34660159, 0.08181761],\n",
       "       [2.34301586, 0.08253304],\n",
       "       [2.33946397, 0.08324537],\n",
       "       [2.33594558, 0.08395463],\n",
       "       [2.33246035, 0.08466083],\n",
       "       [2.32900796, 0.08536398],\n",
       "       [2.32558808, 0.08606409],\n",
       "       [2.32220037, 0.08676117],\n",
       "       [2.31884451, 0.08745523],\n",
       "       [2.31552018, 0.08814629],\n",
       "       [2.31222705, 0.08883435],\n",
       "       [2.30896481, 0.08951942],\n",
       "       [2.30573312, 0.09020151],\n",
       "       [2.30253169, 0.09088063],\n",
       "       [2.29936018, 0.09155679],\n",
       "       [2.29621829, 0.09222999],\n",
       "       [2.2931057 , 0.09290024],\n",
       "       [2.2900221 , 0.09356756],\n",
       "       [2.28696718, 0.09423194],\n",
       "       [2.28394065, 0.09489339],\n",
       "       [2.28094218, 0.09555192],\n",
       "       [2.27797148, 0.09620753],\n",
       "       [2.27502824, 0.09686023],\n",
       "       [2.27211217, 0.09751002],\n",
       "       [2.26922297, 0.09815691],\n",
       "       [2.26636034, 0.0988009 ],\n",
       "       [2.26352398, 0.09944199],\n",
       "       [2.2607136 , 0.10008019],\n",
       "       [2.25792891, 0.10071549],\n",
       "       [2.25516963, 0.1013479 ],\n",
       "       [2.25243546, 0.10197743],\n",
       "       [2.24972611, 0.10260407],\n",
       "       [2.24704131, 0.10322782],\n",
       "       [2.24438076, 0.10384868],\n",
       "       [2.24174419, 0.10446666],\n",
       "       [2.23913133, 0.10508175],\n",
       "       [2.23654188, 0.10569396],\n",
       "       [2.23397558, 0.10630327],\n",
       "       [2.23143216, 0.10690969],\n",
       "       [2.22891133, 0.10751323],\n",
       "       [2.22641284, 0.10811386],\n",
       "       [2.2239364 , 0.1087116 ],\n",
       "       [2.22148176, 0.10930643],\n",
       "       [2.21904865, 0.10989836],\n",
       "       [2.2166368 , 0.11048738],\n",
       "       [2.21424595, 0.11107349],\n",
       "       [2.21187585, 0.11165667],\n",
       "       [2.20952624, 0.11223693],\n",
       "       [2.20719685, 0.11281426],\n",
       "       [2.20488744, 0.11338866],\n",
       "       [2.20259775, 0.1139601 ],\n",
       "       [2.20032752, 0.1145286 ],\n",
       "       [2.19807652, 0.11509414],\n",
       "       [2.1958445 , 0.11565672],\n",
       "       [2.19363155, 0.11621641],\n",
       "       [2.19143766, 0.11677326],\n",
       "       [2.18926268, 0.11732729],\n",
       "       [2.18710645, 0.11787852],\n",
       "       [2.18496883, 0.11842697],\n",
       "       [2.18284966, 0.11897265],\n",
       "       [2.18074879, 0.11951557],\n",
       "       [2.17866607, 0.12005576],\n",
       "       [2.17660136, 0.12059323],\n",
       "       [2.17455449, 0.121128  ],\n",
       "       [2.17252533, 0.12166007],\n",
       "       [2.17051372, 0.12218948],\n",
       "       [2.16851952, 0.12271622],\n",
       "       [2.16654259, 0.12324032],\n",
       "       [2.16458277, 0.12376179],\n",
       "       [2.16263992, 0.12428065],\n",
       "       [2.16071389, 0.12479691],\n",
       "       [2.15880455, 0.12531059],\n",
       "       [2.15691174, 0.12582169],\n",
       "       [2.15503533, 0.12633023],\n",
       "       [2.15317518, 0.12683623],\n",
       "       [2.15133113, 0.1273397 ],\n",
       "       [2.14950305, 0.12784065],\n",
       "       [2.14769081, 0.12833909],\n",
       "       [2.14589425, 0.12883504],\n",
       "       [2.14411325, 0.12932851],\n",
       "       [2.14234765, 0.12981951],\n",
       "       [2.14059733, 0.13030806],\n",
       "       [2.13886215, 0.13079416],\n",
       "       [2.13714197, 0.13127783],\n",
       "       [2.13543665, 0.13175908],\n",
       "       [2.13374606, 0.13223792],\n",
       "       [2.13207006, 0.13271436],\n",
       "       [2.13040852, 0.13318842],\n",
       "       [2.12876131, 0.13366009],\n",
       "       [2.12712829, 0.1341294 ],\n",
       "       [2.12550933, 0.13459635],\n",
       "       [2.1239043 , 0.13506096],\n",
       "       [2.12231307, 0.13552323],\n",
       "       [2.1207355 , 0.13598317],\n",
       "       [2.11917147, 0.13644079],\n",
       "       [2.11762085, 0.1368961 ],\n",
       "       [2.11608351, 0.13734912],\n",
       "       [2.11455932, 0.13779984],\n",
       "       [2.11304815, 0.13824828],\n",
       "       [2.11154988, 0.13869445],\n",
       "       [2.11006438, 0.13913835],\n",
       "       [2.10859152, 0.13957999],\n",
       "       [2.10713119, 0.14001938],\n",
       "       [2.10568325, 0.14045653],\n",
       "       [2.10424758, 0.14089144],\n",
       "       [2.10282406, 0.14132413],\n",
       "       [2.10141256, 0.14175459],\n",
       "       [2.10001297, 0.14218284],\n",
       "       [2.09862517, 0.14260888],\n",
       "       [2.09724902, 0.14303272],\n",
       "       [2.09588442, 0.14345436],\n",
       "       [2.09453124, 0.14387381],\n",
       "       [2.09318937, 0.14429108],\n",
       "       [2.09185868, 0.14470617],\n",
       "       [2.09053906, 0.14511909],\n",
       "       [2.08923039, 0.14552983],\n",
       "       [2.08793256, 0.14593842],\n",
       "       [2.08664544, 0.14634484],\n",
       "       [2.08536893, 0.14674911],\n",
       "       [2.08410291, 0.14715123],\n",
       "       [2.08284727, 0.1475512 ],\n",
       "       [2.08160189, 0.14794903],\n",
       "       [2.08036666, 0.14834472],\n",
       "       [2.07914147, 0.14873828],\n",
       "       [2.07792621, 0.14912971],\n",
       "       [2.07672076, 0.149519  ],\n",
       "       [2.07552502, 0.14990617],\n",
       "       [2.07433887, 0.15029121],\n",
       "       [2.07316221, 0.15067414],\n",
       "       [2.07199494, 0.15105494],\n",
       "       [2.07083693, 0.15143363],\n",
       "       [2.06968809, 0.1518102 ],\n",
       "       [2.06854831, 0.15218466],\n",
       "       [2.06741747, 0.152557  ],\n",
       "       [2.06629549, 0.15292723],\n",
       "       [2.06518225, 0.15329536],\n",
       "       [2.06407765, 0.15366137],\n",
       "       [2.06298159, 0.15402527],\n",
       "       [2.06189395, 0.15438707],\n",
       "       [2.06081465, 0.15474676],\n",
       "       [2.05974358, 0.15510433],\n",
       "       [2.05868064, 0.15545981],\n",
       "       [2.05762576, 0.1558132 ],\n",
       "       [2.05657891, 0.15616455],\n",
       "       [2.05554002, 0.15651387],\n",
       "       [2.05450906, 0.15686116],\n",
       "       [2.05348598, 0.15720645],\n",
       "       [2.05247071, 0.15754974],\n",
       "       [2.05146322, 0.15789106],\n",
       "       [2.05046346, 0.15823042],\n",
       "       [2.04947138, 0.15856783],\n",
       "       [2.04848692, 0.15890331],\n",
       "       [2.04751004, 0.15923687],\n",
       "       [2.0465407 , 0.15956852],\n",
       "       [2.04557883, 0.15989828],\n",
       "       [2.0446244 , 0.16022616],\n",
       "       [2.04367735, 0.16055218],\n",
       "       [2.04273764, 0.16087634],\n",
       "       [2.04180521, 0.16119867],\n",
       "       [2.04088003, 0.16151916],\n",
       "       [2.03996203, 0.16183785],\n",
       "       [2.03905117, 0.16215473],\n",
       "       [2.03814741, 0.16246983],\n",
       "       [2.03725069, 0.16278314],\n",
       "       [2.03636096, 0.1630947 ],\n",
       "       [2.03547818, 0.1634045 ],\n",
       "       [2.0346023 , 0.16371256],\n",
       "       [2.03373328, 0.16401889],\n",
       "       [2.03287105, 0.16432351],\n",
       "       [2.03201558, 0.16462642],\n",
       "       [2.03116681, 0.16492764],\n",
       "       [2.0303247 , 0.16522717],\n",
       "       [2.0294892 , 0.16552503],\n",
       "       [2.02866026, 0.16582123],\n",
       "       [2.02783784, 0.16611578],\n",
       "       [2.02702188, 0.16640869],\n",
       "       [2.02621234, 0.16669997],\n",
       "       [2.02540916, 0.16698963],\n",
       "       [2.02461231, 0.16727768],\n",
       "       [2.02382173, 0.16756414],\n",
       "       [2.02303738, 0.167849  ],\n",
       "       [2.0222592 , 0.16813228],\n",
       "       [2.02148716, 0.168414  ],\n",
       "       [2.02072119, 0.16869415],\n",
       "       [2.01996126, 0.16897275],\n",
       "       [2.01920732, 0.16924981],\n",
       "       [2.01845932, 0.16952533],\n",
       "       [2.0177172 , 0.16979933],\n",
       "       [2.01698094, 0.17007182],\n",
       "       [2.01625046, 0.17034279],\n",
       "       [2.01552574, 0.17061227],\n",
       "       [2.01480672, 0.17088026],\n",
       "       [2.01409335, 0.17114676],\n",
       "       [2.01338559, 0.17141179],\n",
       "       [2.01268339, 0.17167535],\n",
       "       [2.01198671, 0.17193745],\n",
       "       [2.01129548, 0.1721981 ],\n",
       "       [2.01060968, 0.17245731],\n",
       "       [2.00992924, 0.17271507],\n",
       "       [2.00925413, 0.17297141],\n",
       "       [2.00858429, 0.17322632],\n",
       "       [2.00791968, 0.17347982],\n",
       "       [2.00726026, 0.17373191],\n",
       "       [2.00660597, 0.17398259],\n",
       "       [2.00595677, 0.17423187],\n",
       "       [2.00531261, 0.17447977],\n",
       "       [2.00467344, 0.17472628],\n",
       "       [2.00403922, 0.17497141],\n",
       "       [2.0034099 , 0.17521516],\n",
       "       [2.00278544, 0.17545755],\n",
       "       [2.00216578, 0.17569858],\n",
       "       [2.00155088, 0.17593825],\n",
       "       [2.0009407 , 0.17617656],\n",
       "       [2.00033518, 0.17641353],\n",
       "       [1.99973428, 0.17664916],\n",
       "       [1.99913796, 0.17688345],\n",
       "       [1.99854616, 0.1771164 ],\n",
       "       [1.99795885, 0.17734803],\n",
       "       [1.99737597, 0.17757834],\n",
       "       [1.99679748, 0.17780732],\n",
       "       [1.99622333, 0.17803499],\n",
       "       [1.99565347, 0.17826134],\n",
       "       [1.99508786, 0.17848639],\n",
       "       [1.99452646, 0.17871013],\n",
       "       [1.99396921, 0.17893257],\n",
       "       [1.99341607, 0.17915371],\n",
       "       [1.992867  , 0.17937356],\n",
       "       [1.99232195, 0.17959211],\n",
       "       [1.99178086, 0.17980938],\n",
       "       [1.9912437 , 0.18002535],\n",
       "       [1.99071043, 0.18024005],\n",
       "       [1.99018098, 0.18045346],\n",
       "       [1.98965532, 0.18066559],\n",
       "       [1.98913341, 0.18087644],\n",
       "       [1.98861519, 0.18108602],\n",
       "       [1.98810062, 0.18129433],\n",
       "       [1.98758966, 0.18150136],\n",
       "       [1.98708225, 0.18170712],\n",
       "       [1.98657836, 0.18191161],\n",
       "       [1.98607794, 0.18211484],\n",
       "       [1.98558093, 0.18231679],\n",
       "       [1.98508731, 0.18251748],\n",
       "       [1.98459701, 0.18271691],\n",
       "       [1.98411   , 0.18291507],\n",
       "       [1.98362623, 0.18311196],\n",
       "       [1.98314565, 0.1833076 ],\n",
       "       [1.98266822, 0.18350197],\n",
       "       [1.98219389, 0.18369507],\n",
       "       [1.98172262, 0.18388691],\n",
       "       [1.98125437, 0.18407749],\n",
       "       [1.98078908, 0.1842668 ],\n",
       "       [1.98032671, 0.18445485],\n",
       "       [1.97986722, 0.18464163],\n",
       "       [1.97941078, 0.18482722],\n",
       "       [1.97895751, 0.18501169],\n",
       "       [1.97850741, 0.18519505],\n",
       "       [1.97806046, 0.1853773 ],\n",
       "       [1.97761663, 0.18555845],\n",
       "       [1.97717591, 0.1857385 ],\n",
       "       [1.97673827, 0.18591747],\n",
       "       [1.9763037 , 0.18609536],\n",
       "       [1.97587217, 0.18627218],\n",
       "       [1.97544368, 0.18644793],\n",
       "       [1.97501819, 0.18662262],\n",
       "       [1.97459569, 0.18679626],\n",
       "       [1.97417617, 0.18696886],\n",
       "       [1.97375959, 0.18714041],\n",
       "       [1.97334594, 0.18731093],\n",
       "       [1.97293521, 0.18748042],\n",
       "       [1.97252737, 0.18764889],\n",
       "       [1.9721224 , 0.18781635],\n",
       "       [1.97172029, 0.1879828 ],\n",
       "       [1.97132101, 0.18814825],\n",
       "       [1.97092455, 0.18831271],\n",
       "       [1.97053089, 0.18847617],\n",
       "       [1.97014001, 0.18863866],\n",
       "       [1.9697519 , 0.18880016],\n",
       "       [1.96936652, 0.1889607 ],\n",
       "       [1.96898387, 0.18912027],\n",
       "       [1.96860392, 0.18927888],\n",
       "       [1.96822666, 0.18943654],\n",
       "       [1.96785207, 0.18959326],\n",
       "       [1.96748012, 0.18974903],\n",
       "       [1.96711081, 0.18990386],\n",
       "       [1.96674412, 0.19005777],\n",
       "       [1.96638001, 0.19021075],\n",
       "       [1.96601849, 0.19036282],\n",
       "       [1.96565952, 0.19051397],\n",
       "       [1.96530309, 0.19066421],\n",
       "       [1.96494919, 0.19081356],\n",
       "       [1.96459779, 0.190962  ],\n",
       "       [1.96424887, 0.19110956],\n",
       "       [1.96390242, 0.19125623],\n",
       "       [1.96355843, 0.19140202],\n",
       "       [1.96321687, 0.19154694],\n",
       "       [1.96287772, 0.19169098],\n",
       "       [1.96254097, 0.19183416],\n",
       "       [1.9622066 , 0.19197649],\n",
       "       [1.96187459, 0.19211796],\n",
       "       [1.96154493, 0.19225858],\n",
       "       [1.96121759, 0.19239835],\n",
       "       [1.96089256, 0.19253729],\n",
       "       [1.96056983, 0.19267539],\n",
       "       [1.96024937, 0.19281266],\n",
       "       [1.95993116, 0.19294911],\n",
       "       [1.9596152 , 0.19308474],\n",
       "       [1.95930146, 0.19321955],\n",
       "       [1.95898993, 0.19335356],\n",
       "       [1.95868058, 0.19348676],\n",
       "       [1.95837341, 0.19361915],\n",
       "       [1.95806839, 0.19375075],\n",
       "       [1.95776551, 0.19388156],\n",
       "       [1.95746475, 0.19401158],\n",
       "       [1.95716609, 0.19414082],\n",
       "       [1.95686952, 0.19426928],\n",
       "       [1.95657503, 0.19439696],\n",
       "       [1.95628258, 0.19452388],\n",
       "       [1.95599218, 0.19465003],\n",
       "       [1.95570379, 0.19477541],\n",
       "       [1.95541741, 0.19490004],\n",
       "       [1.95513301, 0.19502392],\n",
       "       [1.95485059, 0.19514705],\n",
       "       [1.95457012, 0.19526943],\n",
       "       [1.95429159, 0.19539107],\n",
       "       [1.95401498, 0.19551197],\n",
       "       [1.95374028, 0.19563214],\n",
       "       [1.95346747, 0.19575158],\n",
       "       [1.95319653, 0.19587029],\n",
       "       [1.95292744, 0.19598828],\n",
       "       [1.9526602 , 0.19610556],\n",
       "       [1.95239479, 0.19622211],\n",
       "       [1.95213118, 0.19633796],\n",
       "       [1.95186937, 0.1964531 ],\n",
       "       [1.95160934, 0.19656753],\n",
       "       [1.95135107, 0.19668126],\n",
       "       [1.95109454, 0.1967943 ],\n",
       "       [1.95083974, 0.19690664],\n",
       "       [1.95058666, 0.19701829],\n",
       "       [1.95033528, 0.19712926],\n",
       "       [1.95008559, 0.19723954],\n",
       "       [1.94983756, 0.19734914],\n",
       "       [1.94959118, 0.19745806],\n",
       "       [1.94934644, 0.1975663 ],\n",
       "       [1.94910333, 0.19767388],\n",
       "       [1.94886182, 0.19778079],\n",
       "       [1.9486219 , 0.19788703],\n",
       "       [1.94838356, 0.1979926 ],\n",
       "       [1.94814678, 0.19809752],\n",
       "       [1.94791155, 0.19820178],\n",
       "       [1.94767785, 0.19830539],\n",
       "       [1.94744566, 0.19840835],\n",
       "       [1.94721498, 0.19851065],\n",
       "       [1.94698578, 0.19861232],\n",
       "       [1.94675806, 0.19871333],\n",
       "       [1.94653179, 0.19881371],\n",
       "       [1.94630696, 0.19891345],\n",
       "       [1.94608357, 0.19901255],\n",
       "       [1.94586158, 0.19911102]])"
      ]
     },
     "execution_count": 76,
     "metadata": {},
     "output_type": "execute_result"
    }
   ],
   "source": [
    "x_test"
   ]
  },
  {
   "cell_type": "code",
   "execution_count": 106,
   "id": "1b0ca836",
   "metadata": {},
   "outputs": [
    {
     "data": {
      "text/plain": [
       "<matplotlib.legend.Legend at 0x19cf44c6280>"
      ]
     },
     "execution_count": 106,
     "metadata": {},
     "output_type": "execute_result"
    },
    {
     "data": {
      "image/png": "[encoded data removed]",
      "text/plain": [
       "<Figure size 1296x720 with 1 Axes>"
      ]
     },
     "metadata": {
      "needs_background": "light"
     },
     "output_type": "display_data"
    }
   ],
   "source": [
    "# derivative comparison\n",
    "plt.figure(figsize=(18, 10))\n",
    "# best model \n",
    "ODE_Func = sp.lambdify([t_sym, x_sym], sym_equations_simplified[res[0]][0])\n",
    "plt.plot(t, u_model.differentiate(x_test[:,0], t), 'k', label='True $\\dot{u}$')\n",
    "plt.plot(t, u_model.predict(x_test)[:, 8],'y-.',label='model.predict() for $\\dot{u}$')\n",
    "plt.plot(t, ODE_Func(t, [x_test[:,0], x_test[:,1]]), 'r--', label='sympy\\'d eqn for model with least error')\n",
    "ax = plt.gca()\n",
    "plt.grid(True)\n",
    "ax.set_ylim([-3, 2])\n",
    "plt.legend()"
   ]
  },
  {
   "cell_type": "code",
   "execution_count": 107,
   "id": "51304f7b",
   "metadata": {},
   "outputs": [
    {
     "data": {
      "text/plain": [
       "14"
      ]
     },
     "execution_count": 107,
     "metadata": {},
     "output_type": "execute_result"
    }
   ],
   "source": [
    "res[0]"
   ]
  },
  {
   "cell_type": "code",
   "execution_count": 58,
   "id": "30962d70",
   "metadata": {},
   "outputs": [
    {
     "data": {
      "text/plain": [
       "100.39058477060676"
      ]
     },
     "execution_count": 58,
     "metadata": {},
     "output_type": "execute_result"
    }
   ],
   "source": [
    "np.linalg.norm(u_dot_true.T[0] - u_dots[8])/np.linalg.norm(u_dot_true)"
   ]
  },
  {
   "cell_type": "code",
   "execution_count": 67,
   "id": "e032cce9",
   "metadata": {},
   "outputs": [
    {
     "data": {
      "text/plain": [
       "0.19953551475636744"
      ]
     },
     "execution_count": 67,
     "metadata": {},
     "output_type": "execute_result"
    }
   ],
   "source": [
    "1/20*(np.linalg.norm(u_dot_true.T[0] - u_dots[8]))"
   ]
  },
  {
   "cell_type": "code",
   "execution_count": 56,
   "id": "389dc2d9",
   "metadata": {},
   "outputs": [
    {
     "data": {
      "text/plain": [
       "(400, 400)"
      ]
     },
     "execution_count": 56,
     "metadata": {},
     "output_type": "execute_result"
    }
   ],
   "source": [
    "(u_dot_true- u_dots[8]).shape"
   ]
  },
  {
   "cell_type": "code",
   "execution_count": 54,
   "id": "9e3d6973",
   "metadata": {},
   "outputs": [
    {
     "data": {
      "text/plain": [
       "AxesArray([0.54288436, 0.5375873 , 0.53234627, 0.52716037, 0.52202902,\n",
       "           0.51695162, 0.51192757, 0.5069563 , 0.50203723, 0.49716976,\n",
       "           0.49235284, 0.48758512, 0.48286637, 0.47819623, 0.47357424,\n",
       "           0.46899996, 0.46447294, 0.45999273, 0.45555889, 0.45117099,\n",
       "           0.44682857, 0.44253122, 0.4382785 , 0.43406998, 0.42990523,\n",
       "           0.42578383, 0.42170537, 0.41766941, 0.41367555, 0.40972337,\n",
       "           0.40581246, 0.40194241, 0.39811282, 0.39432328, 0.39057339,\n",
       "           0.38686275, 0.38319096, 0.37955764, 0.37596238, 0.3724048 ,\n",
       "           0.36888451, 0.36540113, 0.36195427, 0.35854355, 0.35516859,\n",
       "           0.35182903, 0.34852447, 0.34525456, 0.34201893, 0.33881719,\n",
       "           0.335649  , 0.33251398, 0.32941178, 0.32634204, 0.3233044 ,\n",
       "           0.3202985 , 0.317324  , 0.31438054, 0.31146778, 0.30858536,\n",
       "           0.30573295, 0.30291019, 0.30011676, 0.29735232, 0.29461652,\n",
       "           0.29190903, 0.28922953, 0.28657767, 0.28395314, 0.2813556 ,\n",
       "           0.27878473, 0.27624021, 0.27372172, 0.27122894, 0.26876155,\n",
       "           0.26631924, 0.26390169, 0.2615086 , 0.25913965, 0.25679454,\n",
       "           0.25447296, 0.25217461, 0.24989918, 0.24764638, 0.24541591,\n",
       "           0.24320747, 0.24102077, 0.23885551, 0.23671141, 0.23458817,\n",
       "           0.2324855 , 0.23040313, 0.22834077, 0.22629813, 0.22427495,\n",
       "           0.22227111, 0.22028682, 0.21832198, 0.21637631, 0.21444966,\n",
       "           0.21254186, 0.21065273, 0.20878212, 0.20692984, 0.20509574,\n",
       "           0.20327965, 0.2014814 , 0.19970084, 0.19793779, 0.1961921 ,\n",
       "           0.19446361, 0.19275215, 0.19105757, 0.1893797 , 0.18771839,\n",
       "           0.18607349, 0.18444483, 0.18283226, 0.18123563, 0.17965478,\n",
       "           0.17808955, 0.17653981, 0.17500538, 0.17348613, 0.17198191,\n",
       "           0.17049255, 0.16901793, 0.16755788, 0.16611226, 0.16468093,\n",
       "           0.16326373, 0.16186053, 0.16047118, 0.15909554, 0.15773346,\n",
       "           0.1563848 , 0.15504943, 0.15372719, 0.15241795, 0.15112158,\n",
       "           0.14983793, 0.14856686, 0.14730824, 0.14606193, 0.1448278 ,\n",
       "           0.14360571, 0.14239553, 0.14119712, 0.14001035, 0.13883508,\n",
       "           0.1376712 , 0.13651856, 0.13537703, 0.13424649, 0.13312681,\n",
       "           0.13201785, 0.13091949, 0.12983161, 0.12875407, 0.12768676,\n",
       "           0.12662954, 0.12558229, 0.12454489, 0.12351722, 0.12249914,\n",
       "           0.12149055, 0.12049131, 0.11950131, 0.11852043, 0.11754855,\n",
       "           0.11658555, 0.1156313 , 0.1146857 , 0.11374863, 0.11281996,\n",
       "           0.11189959, 0.1109874 , 0.11008327, 0.10918709, 0.10829875,\n",
       "           0.10741813, 0.10654512, 0.10567961, 0.10482151, 0.10397079,\n",
       "           0.10312742, 0.10229135, 0.10146253, 0.1006409 , 0.09982642,\n",
       "           0.09901903, 0.0982187 , 0.09742536, 0.09663897, 0.09585949,\n",
       "           0.09508685, 0.09432102, 0.09356194, 0.09280957, 0.09206385,\n",
       "           0.09132474, 0.09059218, 0.08986614, 0.08914656, 0.08843339,\n",
       "           0.08772659, 0.0870261 , 0.08633188, 0.08564388, 0.08496205,\n",
       "           0.08428634, 0.08361671, 0.08295311, 0.08229549, 0.0816438 ,\n",
       "           0.08099799, 0.08035802, 0.07972383, 0.07909539, 0.07847263,\n",
       "           0.07785552, 0.07724401, 0.07663805, 0.07603759, 0.07544258,\n",
       "           0.07485298, 0.07426874, 0.0736898 , 0.07311614, 0.07254768,\n",
       "           0.0719844 , 0.07142624, 0.07087315, 0.07032508, 0.069782  ,\n",
       "           0.06924384, 0.06871057, 0.06818214, 0.06765849, 0.06713959,\n",
       "           0.06662538, 0.06611582, 0.06561085, 0.06511044, 0.06461453,\n",
       "           0.06412308, 0.06363604, 0.06315336, 0.06267499, 0.06220089,\n",
       "           0.06173101, 0.0612653 , 0.06080372, 0.06034622, 0.05989274,\n",
       "           0.05944325, 0.05899769, 0.05855601, 0.05811818, 0.05768414,\n",
       "           0.05725384, 0.05682724, 0.05640429, 0.05598494, 0.05556915,\n",
       "           0.05515686, 0.05474802, 0.0543426 , 0.05394054, 0.0535418 ,\n",
       "           0.05314632, 0.05275406, 0.05236498, 0.05197901, 0.05159612,\n",
       "           0.05121626, 0.05083938, 0.05046543, 0.05009436, 0.04972613,\n",
       "           0.04936068, 0.04899797, 0.04863796, 0.04828058, 0.0479258 ,\n",
       "           0.04757356, 0.04722382, 0.04687653, 0.04653164, 0.0461891 ,\n",
       "           0.04584887, 0.04551089, 0.04517511, 0.04484149, 0.04451009,\n",
       "           0.04418121, 0.04385495, 0.04353121, 0.04320998, 0.04289124,\n",
       "           0.04257496, 0.04226115, 0.04194976, 0.0416408 , 0.04133424,\n",
       "           0.04103007, 0.04072827, 0.04042881, 0.0401317 , 0.0398369 ,\n",
       "           0.03954441, 0.0392542 , 0.03896626, 0.03868057, 0.03839712,\n",
       "           0.03811588, 0.03783685, 0.03756001, 0.03728534, 0.03701282,\n",
       "           0.03674244, 0.03647418, 0.03620803, 0.03594397, 0.03568198,\n",
       "           0.03542205, 0.03516416, 0.03490829, 0.03465444, 0.03440258,\n",
       "           0.0341527 , 0.03390478, 0.03365881, 0.03341477, 0.03317265,\n",
       "           0.03293243, 0.03269409, 0.03245762, 0.032223  , 0.03199022,\n",
       "           0.03175927, 0.03153012, 0.03130277, 0.03107719, 0.03085337,\n",
       "           0.0306313 , 0.03041097, 0.03019234, 0.02997542, 0.02976019,\n",
       "           0.02954663, 0.02933472, 0.02912446, 0.02891582, 0.02870879,\n",
       "           0.02850336, 0.02829951, 0.02809723, 0.0278965 , 0.0276973 ,\n",
       "           0.02749963, 0.02730347, 0.02710881, 0.02691562, 0.02672389,\n",
       "           0.02653362, 0.02634478, 0.02615736, 0.02597135, 0.02578674,\n",
       "           0.0256035 , 0.02542162, 0.02524109, 0.0250619 , 0.02488403,\n",
       "           0.02470746, 0.02453219, 0.0243582 , 0.02418546, 0.02401398,\n",
       "           0.02384374, 0.02367472, 0.0235069 , 0.02334028, 0.02317484,\n",
       "           0.02301057, 0.02284744, 0.02268546, 0.0225246 , 0.02236485,\n",
       "           0.0222062 , 0.02204863, 0.02189213, 0.02173668, 0.02158228,\n",
       "           0.02142891, 0.02127655, 0.02112519, 0.02097482, 0.02082543])"
      ]
     },
     "execution_count": 54,
     "metadata": {},
     "output_type": "execute_result"
    }
   ],
   "source": [
    "u_dot_true.T[0] - u_dots[8]"
   ]
  },
  {
   "cell_type": "markdown",
   "id": "5af106f8",
   "metadata": {},
   "source": [
    "## Repressilator/Gene Network Clock"
   ]
  },
  {
   "cell_type": "code",
   "execution_count": 6,
   "id": "3f488109",
   "metadata": {},
   "outputs": [
    {
     "data": {
      "text/plain": [
       "'\\nfig, axs = plt.subplots(1, 2, figsize=(20, 8))\\naxs[0].plot(tvals, x_train1[0, ], \"r\", label=\"$m_{lacI}$\",)\\naxs[0].plot(tvals, x_train1[1, :], \"g\", label=\"$m_{tetR}$\")\\naxs[0].plot(tvals, x_train1[2, :], \"b\", label=\"$m_{cl}$\")\\naxs[0].plot(tvals, x_train1[3, :], \"r--\", label=\"$p_{lacI}$\")\\naxs[0].plot(tvals, x_train1[4, :], \"g--\", label=\"$p_{tetR}$\")\\naxs[0].plot(tvals, x_train1[5, :], \"b--\", label=\"$p_{cl}$\")\\n\\naxs[0].legend()\\naxs[0].set(xlabel=\"t\", title=\"Oscillatory Repressilator solutions\")\\n\\naxs[1].plot(tvals2, x_train2[0, ], \"r\", label=\"$m_{lacI}$\",)\\naxs[1].plot(tvals2, x_train2[1, :], \"g\", label=\"$m_{tetR}$\")\\naxs[1].plot(tvals2, x_train2[2, :], \"b\", label=\"$m_{cl}$\")\\naxs[1].plot(tvals2, x_train2[3, :], \"r--\", label=\"$p_{lacI}$\")\\naxs[1].plot(tvals2, x_train2[4, :], \"g--\", label=\"$p_{tetR}$\")\\naxs[1].plot(tvals2, x_train2[5, :], \"b--\", label=\"$p_{cl}$\")\\n\\naxs[1].legend()\\naxs[1].set(xlabel=\"t\", title=\"Convergent Repressilator solutions\")\\n'"
      ]
     },
     "execution_count": 6,
     "metadata": {},
     "output_type": "execute_result"
    }
   ],
   "source": [
    "# General from of equations; reference pg 112\n",
    "# mdot_i = -m_i + (alpha / (1+p_j**n)) + a0\n",
    "# pdot_i = -beta * (p_i - m_i)\n",
    "# if i = lacI, tetR, cl\n",
    "# then j = cl, lacI, tetR\n",
    "\n",
    "# is there a better way of doing this? kinda spaghetti code \n",
    "#mdot_lacI = lambda m_lacI, m_tetR, m_cl, p_lacI, p_tetR, p_cl: -m_lacI + (alpha / (1+p_cl**n)) + a0\n",
    "#mdot_tetR = lambda m_lacI, m_tetR, m_cl, p_lacI, p_tetR, p_cl: -m_tetR + (alpha / (1+p_lacI**n)) + a0\n",
    "#mdot_cl = lambda m_lacI, m_tetR, m_cl, p_lacI, p_tetR, p_cl: -m_cl + (alpha / (1+p_tetR**n)) + a0\n",
    "#pdot_lacI = lambda m_lacI, m_tetR, m_cl, p_lacI, p_tetR, p_cl: -beta * (p_lacI - m_lacI)\n",
    "#pdot_tetR = lambda m_lacI, m_tetR, m_cl, p_lacI, p_tetR, p_cl: -beta * (p_tetR - m_tetR)\n",
    "#pdot_cl = lambda m_lacI, m_tetR, m_cl, p_lacI, p_tetR, p_cl: -beta * (p_cl - m_cl)\n",
    "\n",
    "alpha=50\n",
    "a0=0\n",
    "n=2\n",
    "beta=0.2\n",
    "# x in form:\n",
    "# [m_lacI, m_tetR, m_cl, p_lacI, p_tetR, p_cl]\n",
    "# [0     , 1     , 2   , 3     , 4     , 5   ]\n",
    "def repressilator(t, x):\n",
    "    return [\n",
    "        -x[0] + (alpha / (1 + x[5]**n)) + a0,\n",
    "        -x[1] + (alpha / (1+x[3]**n)) + a0,\n",
    "        -x[2] + (alpha / (1+x[4]**n)) + a0,\n",
    "        -beta * (x[3] - x[0]),\n",
    "        -beta * (x[4] - x[1]),\n",
    "        -beta * (x[5] - x[2])\n",
    "    ]\n",
    "\n",
    "T = 300\n",
    "dt = 0.01\n",
    "trange = np.array([0, T])\n",
    "tvals = np.arange(0, T + dt, dt)\n",
    "x0 = np.array([0.2, 0.1, 0.3, 0.1, 0.4, 0.5])\n",
    "x_train1 = solve_ivp(repressilator, trange, x0, t_eval=tvals).y\n",
    "\n",
    "alpha=50\n",
    "a0=1\n",
    "n=2\n",
    "beta=0.2\n",
    "#T=100\n",
    "trange2 = np.array([0, T])\n",
    "tvals2 = np.arange(0, T + dt, dt)\n",
    "\n",
    "x_train2 = solve_ivp(repressilator, trange2, x0, t_eval=tvals2).y\n",
    "\"\"\"\n",
    "fig, axs = plt.subplots(1, 2, figsize=(20, 8))\n",
    "axs[0].plot(tvals, x_train1[0, ], \"r\", label=\"$m_{lacI}$\",)\n",
    "axs[0].plot(tvals, x_train1[1, :], \"g\", label=\"$m_{tetR}$\")\n",
    "axs[0].plot(tvals, x_train1[2, :], \"b\", label=\"$m_{cl}$\")\n",
    "axs[0].plot(tvals, x_train1[3, :], \"r--\", label=\"$p_{lacI}$\")\n",
    "axs[0].plot(tvals, x_train1[4, :], \"g--\", label=\"$p_{tetR}$\")\n",
    "axs[0].plot(tvals, x_train1[5, :], \"b--\", label=\"$p_{cl}$\")\n",
    "\n",
    "axs[0].legend()\n",
    "axs[0].set(xlabel=\"t\", title=\"Oscillatory Repressilator solutions\")\n",
    "\n",
    "axs[1].plot(tvals2, x_train2[0, ], \"r\", label=\"$m_{lacI}$\",)\n",
    "axs[1].plot(tvals2, x_train2[1, :], \"g\", label=\"$m_{tetR}$\")\n",
    "axs[1].plot(tvals2, x_train2[2, :], \"b\", label=\"$m_{cl}$\")\n",
    "axs[1].plot(tvals2, x_train2[3, :], \"r--\", label=\"$p_{lacI}$\")\n",
    "axs[1].plot(tvals2, x_train2[4, :], \"g--\", label=\"$p_{tetR}$\")\n",
    "axs[1].plot(tvals2, x_train2[5, :], \"b--\", label=\"$p_{cl}$\")\n",
    "\n",
    "axs[1].legend()\n",
    "axs[1].set(xlabel=\"t\", title=\"Convergent Repressilator solutions\")\n",
    "\"\"\""
   ]
  },
  {
   "cell_type": "markdown",
   "id": "e8baf619",
   "metadata": {},
   "source": [
    "## Morris-Lecar Model\n",
    "    "
   ]
  },
  {
   "cell_type": "code",
   "execution_count": 5,
   "id": "b583a4b9",
   "metadata": {
    "scrolled": false
   },
   "outputs": [
    {
     "data": {
      "text/plain": [
       "[Text(0.5, 0, 't'), Text(0.5, 1.0, 'Morris-Lecar solutions')]"
      ]
     },
     "execution_count": 5,
     "metadata": {},
     "output_type": "execute_result"
    },
    {
     "data": {
      "image/png": "[encoded data removed]",
      "text/plain": [
       "<Figure size 1440x576 with 1 Axes>"
      ]
     },
     "metadata": {
      "needs_background": "light"
     },
     "output_type": "display_data"
    }
   ],
   "source": [
    "gCa, gK, gL, vCa, vK, vL, C, phi, i, v_1, v_2, v_3, v_4 = 4.4, 8, 2, 120, -84, -60, 20, 0.04, 90, -1.2, 18, 2, 30\n",
    "# helper functions v ^ parameters\n",
    "m_inf = lambda v: 0.5 * (1 + np.tanh((v - v_1) / v_2))\n",
    "w_inf = lambda v: 0.5 * (1 + np.tanh((v - v_3) / v_4))\n",
    "t_w = lambda v: 1 / (np.cosh((v-v_3) / (2 * v_4)))\n",
    "\n",
    "# x = [v, w]\n",
    "def morris_lecar(t, x):\n",
    "    return [\n",
    "        (1/C) * (i-gCa * m_inf(x[0]) * (x[0] - vCa)-gK * x[1] * (x[0]-vK) - gL * (x[0]-vL)),\n",
    "        (1/t_w(x[0])) * (phi * (w_inf(x[0]) - x[1]))\n",
    "    ]\n",
    "\n",
    "T = 250\n",
    "dt = 0.01\n",
    "trange = np.array([0, T])\n",
    "tvals = np.arange(0, T + dt, dt)\n",
    "x0 = np.array([10, 10])\n",
    "\n",
    "MorLec_train = solve_ivp(morris_lecar, trange, x0, t_eval=tvals).y\n",
    "\n",
    "fig, axs = plt.subplots(figsize=(20, 8))\n",
    "axs.plot(tvals, MorLec_train[0, ], \"r\", label=\"$v$\")\n",
    "axs.plot(tvals, MorLec_train[1, ], \"b\", label=\"$w$\")\n",
    "\n",
    "\n",
    "axs.legend()\n",
    "axs.set(xlabel=\"t\", title=\"Morris-Lecar solutions\")"
   ]
  }
 ],
 "metadata": {
  "kernelspec": {
   "display_name": "Python 3 (ipykernel)",
   "language": "python",
   "name": "python3"
  },
  "language_info": {
   "codemirror_mode": {
    "name": "ipython",
    "version": 3
   },
   "file_extension": ".py",
   "mimetype": "text/x-python",
   "name": "python",
   "nbconvert_exporter": "python",
   "pygments_lexer": "ipython3",
   "version": "3.9.12"
  }
 },
 "nbformat": 4,
 "nbformat_minor": 5
}
