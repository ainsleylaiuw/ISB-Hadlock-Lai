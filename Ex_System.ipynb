{
 "cells": [
  {
   "cell_type": "markdown",
   "id": "3ccfe06a",
   "metadata": {},
   "source": [
    " # Systems:\n",
    " - Gene network switch (pg 120, Ch 4.3)\n",
    " - Can also do repressilator model w/ 6 equations?\n",
    " - Morris-Lecar Model (pg 154 Ch 5.5 & end of Ch 3.4)\n",
    " - 1D ODE in Ch 5.1\n",
    " - Maybe check out linear systems of diff eq in 5.3.3 pg 145\n",
    " \n",
    " #### misc\n",
    " - MSE: https://stackoverflow.com/questions/16774849/mean-squared-error-in-numpy\n",
    " - colorednoise library for different noise `cn.powerlaw_psd_gaussian(beta, 10000)* (sigmaVal + 0.03)` for noise that follows the np.normal thing for gaussian noise and a bit lower for pink. `* 0.03` to correct standard deviation. Not perfect though\n",
    " - https://github.com/dynamicslab/pysindy/issues/171\n",
    " - https://github.com/dynamicslab/pysindy/issues/132\n",
    " - https://github.com/dynamicslab/pysindy/issues/101 May be relevant for hill functions\n",
    " \n",
    "## To-do\n",
    "##### GENERAL\n",
    " - watch pySINDy tutorials to learn how to use it\n",
    " - Hadlock lab cloud computing work?\n",
    "\n",
    "##### TOPICAL GOALS\n",
    " - Issue with ODE solver where it blows up. Numerical error dividing small values or soln has huge derivative?? Need to fix, lengthens computation time and lowers accuracy of model.\n",
    "  - ODEint warning is from a Stiff Equation. \"hole\" or jump in our solution points that occurs from having too wide timesteps\n",
    " - model.simulate has an `interpolator` parameter. See issue #171 for an application with cubicspline\n",
    "\n",
    "\n",
    "##### 7/17\n",
    "Ran sigma test again with BDF integration and 5k timesteps. Ran for ~2.5hrs and error when calculating MSE. Error comes from differing array shapes which stems from some solution \"sheets\" in the simulation stack not being 'complete'. BDF error? Atleast there ain't any Excess Work warnings :')\n",
    "    \n",
    "##### 7/19\n",
    "Check out SINDy-PI\n",
    "solve explicit ODE to implicit ODE\n",
    "Add fraction term to LHS, add xdot to fraction, multiply out denom, move terms back over to RHS and simplify. ezpz\n",
    "\n",
    "investigate ICs in Ex-System to try to diagnose integration error\n",
    "Try to find terminal for jupyter notebook to observe errors directly to know if kernel is having issues or just taking a long time to run\n",
    "\n",
    "MSE, divide by number of IC too\n",
    "    \n",
    "https://scicomp.stackexchange.com/questions/40130/solve-ivp-from-scipy-does-not-integrate-the-whole-range-of-tspan\n",
    "https://stackoverflow.com/questions/69352999/solve-ivp-from-scipy-does-not-integrate-the-whole-range-of-tspan\n",
    "Explanation for Radau/BDF not integrating fully?\n",
    "\n",
    "##### 7/25\n",
    "Tried to implement SINDy-PI method like ex. 9 notebook. Running into problem where $\\dot{v}$ would be in the equation for $\\dot{u}$ and make it unable to evaluate the integral when we try to simulate it. Look into complex PDE example and see how they resolve it. At first glance, looks like they explicitly define a derivative variable and use `model.predict()` instead.\n",
    "\n",
    "##### 8/02\n",
    "SINDyPI with multiple trajectories accomplished; use `dt` for all `t` params. Need to open github issue RE inconsistency in x_dot calculation between library derivatives and pysindy class derivatives, specifically in preprocess_multi_traj and it usuing a concatenated list which results in a really long array. Models kinda suck tho w/ a 10x20000x2 training set. Will need to try more traj. and less timestep?"
   ]
  },
  {
   "cell_type": "code",
   "execution_count": 2,
   "id": "92237d9c",
   "metadata": {},
   "outputs": [],
   "source": [
    "import matplotlib.pyplot as plt\n",
    "import numpy as np\n",
    "from scipy.integrate import solve_ivp\n",
    "import pysindy as ps\n",
    "import colorednoise as cn\n",
    "import sympy as sp\n",
    "# from matplotlib.cm import rainbow\n",
    "# from scipy.io import loadmat\n",
    "# V correct RMSE method, 6 is prefactor\n",
    "# rmse_test = np.sqrt(np.square(np.subtract(A, B)).sum()) / 6\n"
   ]
  },
  {
   "cell_type": "markdown",
   "id": "94086ea4",
   "metadata": {},
   "source": [
    "## Gene Network Switch"
   ]
  },
  {
   "cell_type": "code",
   "execution_count": 2,
   "id": "b55b14b0",
   "metadata": {},
   "outputs": [],
   "source": [
    "# contains functions + basic parameters\n",
    "a_u, a_v = 1, 1\n",
    "beta, gamma = 2, 2\n",
    "dudt = lambda u, v: -u + (a_u / (1+v**beta))\n",
    "dvdt = lambda u, v: -v + (a_v / (1+u**gamma))\n",
    "sigma = 0.01\n",
    "sigma_list = np.linspace(0.001, 0.8, 10)\n",
    "netswitch = lambda t, x: np.array([dudt(x[0], x[1]), dvdt(x[0], x[1])])\n",
    "# 0-5 minus some value between 0-1, no negatives for IC?\n",
    "n_of_ic = 1000\n",
    "u_ic = np.random.random(size=n_of_ic) * 5 - np.random.random(size=n_of_ic)\n",
    "v_ic = np.random.random(size=n_of_ic) * 5 - np.random.random(size=n_of_ic)\n",
    "\n",
    "def plot_data_and_derivative(x, dt, deriv):\n",
    "    feature_name = [\"u\", \"v\"]\n",
    "    plt.figure(figsize=(20, 5))\n",
    "    for i in range(2):\n",
    "        plt.subplot(1, 2, i + 1)\n",
    "        plt.plot(x[:, i], label=feature_name[i])\n",
    "        plt.grid(True)\n",
    "        plt.xlabel(\"t\", fontsize=24)\n",
    "        plt.xticks(fontsize=18)\n",
    "        plt.yticks(fontsize=18)\n",
    "        plt.legend(fontsize=24)\n",
    "    x_dot = deriv(x, t=dt)\n",
    "    plt.figure(figsize=(20, 5))\n",
    "    for i in range(2):\n",
    "        plt.subplot(1, 2, i + 1)\n",
    "        plt.plot(x_dot[:, i], label=r\"$\\dot{\" + feature_name[i] + \"}$\")\n",
    "        plt.grid(True)\n",
    "        plt.xlabel(\"t\", fontsize=24)\n",
    "        plt.xticks(fontsize=18)\n",
    "        plt.yticks(fontsize=18)\n",
    "        plt.legend(fontsize=24)\n",
    "library_functions = [\n",
    "    lambda x: x,\n",
    "    lambda x: 1 / (1 + x**1),\n",
    "    lambda x: 1 / (1 + x**2),\n",
    "    lambda x: 1 / (1 + x**3),\n",
    "    lambda x: 1 / (1 + x**4),\n",
    "    lambda x: 1 / (1 + x**5)\n",
    "]\n",
    "library_function_names = [\n",
    "    lambda x: x,\n",
    "    lambda x: '1/(1 + ' + x + '^1)',\n",
    "    lambda x: '1/(1 + ' + x + '^2)',\n",
    "    lambda x: '1/(1 + ' + x + '^3)',\n",
    "    lambda x: '1/(1 + ' + x + '^4)',\n",
    "    lambda x: '1/(1 + ' + x + '^5)'\n",
    "]\n",
    "netswitch_library = ps.CustomLibrary(\n",
    "    library_functions=library_functions, function_names=library_function_names\n",
    ")"
   ]
  },
  {
   "cell_type": "code",
   "execution_count": 5,
   "id": "f72f8cb4",
   "metadata": {},
   "outputs": [
    {
     "name": "stdout",
     "output_type": "stream",
     "text": [
      "0.24438130497691968\n",
      "0.5656309304000191\n",
      "65\n",
      "0.24438130497691965\n"
     ]
    },
    {
     "data": {
      "text/plain": [
       "1.466287829861518"
      ]
     },
     "execution_count": 5,
     "metadata": {},
     "output_type": "execute_result"
    }
   ],
   "source": [
    "first = netswitch_train_multi[0][0]\n",
    "#print(netswitch_train_multi[0].shape)\n",
    "#print(first.dot(first))\n",
    "A = np.array([[3, 2],[4, 6],[1, 5]])\n",
    "B = np.array([[3.2, 1.8],[3.4, 7.3],[.9, 5.1]])\n",
    "testarr = np.array([[-.2, .2],[.6, -1.3],[.1, -.1]])\n",
    "manualrmse = np.sqrt(testarr[:,0].dot(testarr[:,0])+testarr[:,1].dot(testarr[:,1])) / 6\n",
    "computerrmse = mean_squared_error(A, B, squared=False)\n",
    "print(manualrmse)\n",
    "print(computerrmse)\n",
    "print(A[:, 1].dot(A[:, 1]))\n",
    "# V correct RMSE method, 6 is prefactor\n",
    "rmse_test = np.sqrt(np.square(np.subtract(A, B)).sum()) / 6\n",
    "\n",
    "print(np.sqrt(np.square(np.subtract(A, B)).sum()) / 6)\n",
    "diff = np.subtract(A, B)\n",
    "np.sqrt(diff[:,0].dot(diff[:,0])+diff[:,1].dot(diff[:,1]))"
   ]
  },
  {
   "cell_type": "code",
   "execution_count": null,
   "id": "e41e5c7e",
   "metadata": {
    "scrolled": true
   },
   "outputs": [
    {
     "name": "stdout",
     "output_type": "stream",
     "text": [
      "{'method': 'LSODA'}\n",
      "300\n",
      "(4000, 2)\n",
      "RMSE = 0.13831185357939185\n",
      "0.001\n",
      "0.03252631578947368\n",
      "0.06405263157894736\n",
      "0.09557894736842104\n"
     ]
    }
   ],
   "source": [
    "# test of model w/ varying sigma\n",
    "T = 20\n",
    "dt = 0.01\n",
    "trange = np.array([0, T])\n",
    "#tvals = np.arange(0, T + dt, dt)\n",
    "tvals = np.linspace(0, T, 400)\n",
    "n_of_ic = 30\n",
    "feature_count = 2\n",
    "fig, axs = plt.subplots(figsize=(10,8))\n",
    "netswitch_x0s = (np.random.rand(n_of_ic, feature_count) * 5 - np.random.rand(n_of_ic, feature_count))\n",
    "sigma = 0.01\n",
    "sigma_list = np.linspace(0.001, 0.6, 20)\n",
    "mu = np.zeros(feature_count)\n",
    "sparse_regression_optimizer = ps.STLSQ(threshold=0.5)\n",
    "MSE_list = []\n",
    "netswitch_train_multi = []\n",
    "integrator_keywords = {}\n",
    "# 0 for white, 1 for pink, 2 for brown\n",
    "beta = 0\n",
    "#integrator_keywords['full_output'] = True\n",
    "#integrator_keywords['rtol'] = 1e-12\n",
    "integrator_keywords['method'] = 'LSODA'\n",
    "#integrator_keywords['atol'] = 1e-12\n",
    "\n",
    "print(integrator_keywords)\n",
    "\n",
    "# creation of TRUE data/solution\n",
    "for i in range(n_of_ic):     \n",
    "    netswitch_train_temp = solve_ivp(\n",
    "        netswitch, trange, netswitch_x0s[i], t_eval=tvals\n",
    "    ).y.T\n",
    "    netswitch_train_multi.append(netswitch_train_temp)\n",
    "print(len(netswitch_train_multi))\n",
    "print(netswitch_train_multi[0].shape)\n",
    "# may need to use np.zeros\n",
    "rmse = np.sqrt(np.square(netswitch_train_multi).sum()) / (len(tvals) * feature_count)\n",
    "print(f\"RMSE = {rmse}\")\n",
    "# train models\n",
    "for j in range(len(sigma_list)):\n",
    "    sigma = np.zeros((feature_count, feature_count))\n",
    "    sigmaVal = sigma_list[j]\n",
    "    np.fill_diagonal(sigma, sigmaVal)\n",
    "    print(sigmaVal)\n",
    "    #noise = np.random.multivariate_normal(mu, sigma**2, (n_of_ic, len(tvals)))\n",
    "    noise = cn.powerlaw_psd_gaussian(beta, (n_of_ic, len(tvals), feature_count)) * (sigmaVal + 0.03)\n",
    "    model = ps.SINDy(feature_names=['u', 'v'], optimizer=sparse_regression_optimizer, feature_library=netswitch_library)\n",
    "    model.fit(list(netswitch_train_multi + noise), t=dt, multiple_trajectories=True)\n",
    "    simulations = []\n",
    "    # create simulations list to hold simulated data for corresponding IC\n",
    "    for k in range(n_of_ic):\n",
    "        # problem area with warnings\n",
    "        netswitch_sim = model.simulate(netswitch_x0s[k], t=tvals, integrator=\"solve_ivp\", integrator_kws=integrator_keywords)\n",
    "        simulations.append(netswitch_sim) \n",
    "    MSE = np.square(np.subtract(netswitch_train_multi, simulations)).sum() / (len(tvals) * feature_count * n_of_ic)\n",
    "    MSE_list.append(MSE)\n",
    "print(sigma_list)\n",
    "print(MSE_list)\n",
    "axs.plot(sigma_list, MSE_list)\n",
    "axs.set(xlabel=\"$\\sigma$\", ylabel=\"MSE\")\n",
    "plt.grid(True)\n",
    "plt.xlabel(\"$\\sigma$\", fontsize=24)\n",
    "plt.ylabel(\"MSE\", fontsize=24)\n",
    "fig.suptitle('Mean Squared Error vs. Standard Deviation in Gaussian Noise', fontsize=28)\n",
    "plt.yscale('log')"
   ]
  },
  {
   "cell_type": "code",
   "execution_count": 4,
   "id": "3e1f8a55",
   "metadata": {},
   "outputs": [
    {
     "name": "stdout",
     "output_type": "stream",
     "text": [
      "{'method': 'LSODA'}\n",
      "30\n",
      "(2000, 2)\n",
      "RMSE = 0.07034165287905368\n",
      "[[2.98771068 3.15654753]\n",
      " [2.25457553 4.48639763]\n",
      " [0.08914293 1.13715894]\n",
      " [3.65728246 0.02984008]\n",
      " [4.1560517  2.75801598]\n",
      " [2.12556612 1.67697186]\n",
      " [4.16197447 1.54612162]\n",
      " [2.08360947 1.31768694]\n",
      " [1.23137216 2.90706118]\n",
      " [4.28031808 0.87338987]\n",
      " [4.75797566 1.27449125]\n",
      " [4.86238267 1.09523746]\n",
      " [2.93142983 4.15234293]\n",
      " [2.0520647  3.58244936]\n",
      " [4.26243365 3.06855113]\n",
      " [0.63842553 1.39995761]\n",
      " [2.68600938 1.49196941]\n",
      " [1.55198852 1.38287628]\n",
      " [4.64773987 0.55120638]\n",
      " [2.78492901 4.50677637]\n",
      " [4.85198831 2.84797458]\n",
      " [0.1786146  2.72379257]\n",
      " [3.05668153 2.32411969]\n",
      " [0.40814022 2.217721  ]\n",
      " [3.38902346 1.97316146]\n",
      " [3.9020216  1.81676799]\n",
      " [0.06065321 4.80347814]\n",
      " [4.32333546 3.43656835]\n",
      " [0.21723667 2.77954476]\n",
      " [3.85832123 1.28776832]]\n"
     ]
    }
   ],
   "source": [
    "# troubleshooting above test# test of model w/ varying sigma\n",
    "T = 20\n",
    "dt = 0.01\n",
    "trange = np.array([0, T])\n",
    "#tvals = np.arange(0, T + dt, dt)\n",
    "tvals = np.linspace(0, T, 2000)\n",
    "n_of_ic = 30\n",
    "feature_count = 2\n",
    "#fig, axs = plt.subplots(figsize=(10,8))\n",
    "netswitch_x0s = (np.random.rand(n_of_ic, feature_count) * 5)\n",
    "sigma = 0.01\n",
    "sigma_list = np.linspace(0.001, 0.6, 20)\n",
    "mu = np.zeros(feature_count)\n",
    "sparse_regression_optimizer = ps.STLSQ(threshold=0.5)\n",
    "netswitch_train_multi = []\n",
    "integrator_keywords = {}\n",
    "# 0 for white, 1 for pink, 2 for brown\n",
    "beta = 0\n",
    "#integrator_keywords['full_output'] = True\n",
    "#integrator_keywords['rtol'] = 1e-12\n",
    "integrator_keywords['method'] = 'LSODA'\n",
    "#integrator_keywords['atol'] = 1e-12\n",
    "\n",
    "print(integrator_keywords)\n",
    "\n",
    "# creation of TRUE data/solution\n",
    "for i in range(n_of_ic):     \n",
    "    netswitch_train_temp = solve_ivp(\n",
    "        netswitch, trange, netswitch_x0s[i], t_eval=tvals\n",
    "    ).y.T\n",
    "    netswitch_train_multi.append(netswitch_train_temp)\n",
    "print(len(netswitch_train_multi))\n",
    "print(netswitch_train_multi[0].shape)\n",
    "# may need to use np.zeros\n",
    "rmse = np.sqrt(np.square(netswitch_train_multi).sum()) / (len(tvals) * feature_count)\n",
    "print(f\"RMSE = {rmse}\")\n",
    "print(netswitch_x0s)"
   ]
  },
  {
   "cell_type": "code",
   "execution_count": 26,
   "id": "8d7b7889",
   "metadata": {},
   "outputs": [
    {
     "name": "stdout",
     "output_type": "stream",
     "text": [
      "0.001\n",
      "(u)' = -0.965 u + -2.228 1/(1 + u^1) + 39.040 1/(1 + u^2) + -3.774 1/(1 + v^2) + -97.393 1/(1 + u^3) + 3.865 1/(1 + v^3) + 95.521 1/(1 + u^4) + -0.849 1/(1 + v^4) + -33.265 1/(1 + u^5)\n",
      "(v)' = -0.979 v + 2.536 1/(1 + u^1) + 11.344 1/(1 + v^1) + -2.822 1/(1 + u^2) + -72.003 1/(1 + v^2) + 160.722 1/(1 + v^3) + 1.684 1/(1 + u^4) + -154.810 1/(1 + v^4) + 54.317 1/(1 + v^5)\n",
      "[2.02509684 3.00322762]\n",
      "[3.76202857 2.18043422]\n",
      "[2.5667126  2.18684537]\n",
      "[0.31497897 3.80047259]\n",
      "[0.75834496 1.36487447]\n",
      "[2.45842811 1.43859345]\n",
      "[1.44206144 0.49745614]\n",
      "[1.30406876 1.95030417]\n",
      "[2.06108279 1.81331975]\n",
      "[1.95428241 3.69742737]\n",
      "[3.62438987 2.64272581]\n",
      "[1.23739272 2.27084102]\n",
      "[0.68504378 0.09415168]\n",
      "[2.14858937 1.13850504]\n",
      "[3.02416868 2.4618377 ]\n",
      "[0.13497447 0.96337779]\n",
      "[3.30529246 4.60109906]\n",
      "[0.78247674 1.06464271]\n",
      "[4.59193883 4.56665017]\n",
      "[0.98168913 0.42179265]\n",
      "[2.62938407 3.60267814]\n",
      "[0.6397077  1.61352554]\n",
      "[1.36425646 0.15345143]\n",
      "[3.08006486 1.07850664]\n",
      "[0.67606689 1.27723107]\n",
      "[4.30417165 2.98725445]\n",
      "[3.16202148 4.59051787]\n",
      "[2.9953268  1.61409867]\n",
      "[4.02420051 3.45458634]\n",
      "[3.21183432 1.42490988]\n",
      "List for sigma=0.001: [0.006955213707520929]\n",
      "0.03252631578947368\n",
      "(u)' = -1.324 u + 22.103 1/(1 + v^1) + 18.621 1/(1 + u^2) + -65.585 1/(1 + v^2) + -59.328 1/(1 + u^3) + 82.568 1/(1 + v^3) + 62.587 1/(1 + u^4) + -44.277 1/(1 + v^4) + -22.234 1/(1 + u^5) + 7.486 1/(1 + v^5)\n",
      "(v)' = -1.692 v + 3.680 1/(1 + u^1) + 5.603 1/(1 + v^1) + -9.629 1/(1 + u^2) + 34.924 1/(1 + v^2) + 6.888 1/(1 + u^3) + -123.031 1/(1 + v^3) + 136.697 1/(1 + v^4) + -52.496 1/(1 + v^5)\n",
      "[2.02509684 3.00322762]\n",
      "[3.76202857 2.18043422]\n",
      "[2.5667126  2.18684537]\n",
      "[0.31497897 3.80047259]\n",
      "[0.75834496 1.36487447]\n",
      "[2.45842811 1.43859345]\n",
      "[1.44206144 0.49745614]\n",
      "[1.30406876 1.95030417]\n",
      "[2.06108279 1.81331975]\n",
      "[1.95428241 3.69742737]\n",
      "[3.62438987 2.64272581]\n",
      "[1.23739272 2.27084102]\n",
      "[0.68504378 0.09415168]\n",
      "[2.14858937 1.13850504]\n",
      "[3.02416868 2.4618377 ]\n",
      "[0.13497447 0.96337779]\n",
      "[3.30529246 4.60109906]\n",
      "[0.78247674 1.06464271]\n",
      "[4.59193883 4.56665017]\n",
      "[0.98168913 0.42179265]\n",
      "[2.62938407 3.60267814]\n",
      "[0.6397077  1.61352554]\n",
      "[1.36425646 0.15345143]\n",
      "[3.08006486 1.07850664]\n",
      "[0.67606689 1.27723107]\n",
      "[4.30417165 2.98725445]\n",
      "[3.16202148 4.59051787]\n",
      "[2.9953268  1.61409867]\n",
      "[4.02420051 3.45458634]\n",
      "[3.21183432 1.42490988]\n",
      "List for sigma=0.03252631578947368: [0.006955213707520929, 0.09245692292161539]\n",
      "0.06405263157894736\n",
      "(u)' = -0.965 u + 11.706 1/(1 + u^1) + 8.492 1/(1 + v^1) + -67.005 1/(1 + u^2) + -23.475 1/(1 + v^2) + 163.724 1/(1 + u^3) + 38.756 1/(1 + v^3) + -185.765 1/(1 + u^4) + -40.894 1/(1 + v^4) + 77.047 1/(1 + u^5) + 18.420 1/(1 + v^5)\n",
      "(v)' = -0.805 v + 18.180 1/(1 + v^1) + -12.088 1/(1 + u^2) + -87.633 1/(1 + v^2) + 42.818 1/(1 + u^3) + 189.900 1/(1 + v^3) + -59.253 1/(1 + u^4) + -191.253 1/(1 + v^4) + 28.697 1/(1 + u^5) + 71.308 1/(1 + v^5)\n",
      "[2.02509684 3.00322762]\n",
      "[3.76202857 2.18043422]\n",
      "[2.5667126  2.18684537]\n",
      "[0.31497897 3.80047259]\n",
      "[0.75834496 1.36487447]\n",
      "[2.45842811 1.43859345]\n",
      "[1.44206144 0.49745614]\n",
      "[1.30406876 1.95030417]\n",
      "[2.06108279 1.81331975]\n",
      "[1.95428241 3.69742737]\n",
      "[3.62438987 2.64272581]\n",
      "[1.23739272 2.27084102]\n",
      "[0.68504378 0.09415168]\n",
      "[2.14858937 1.13850504]\n",
      "[3.02416868 2.4618377 ]\n",
      "[0.13497447 0.96337779]\n",
      "[3.30529246 4.60109906]\n",
      "[0.78247674 1.06464271]\n",
      "[4.59193883 4.56665017]\n",
      "[0.98168913 0.42179265]\n",
      "[2.62938407 3.60267814]\n",
      "[0.6397077  1.61352554]\n",
      "[1.36425646 0.15345143]\n",
      "[3.08006486 1.07850664]\n",
      "[0.67606689 1.27723107]\n",
      "[4.30417165 2.98725445]\n",
      "[3.16202148 4.59051787]\n",
      "[2.9953268  1.61409867]\n",
      "[4.02420051 3.45458634]\n",
      "[3.21183432 1.42490988]\n",
      "List for sigma=0.06405263157894736: [0.006955213707520929, 0.09245692292161539, 0.19567288261280327]\n",
      "0.09557894736842104\n",
      "(u)' = -1.398 u + 0.827 v + 1.360 1/(1 + u^1) + 0.854 1/(1 + v^1) + 8.200 1/(1 + u^2) + -5.898 1/(1 + v^2) + -32.742 1/(1 + u^3) + 28.735 1/(1 + u^4) + 19.986 1/(1 + v^4) + -6.451 1/(1 + u^5) + -13.759 1/(1 + v^5)\n",
      "(v)' = -1.337 v + 9.120 1/(1 + v^1) + -1.392 1/(1 + u^2) + 3.452 1/(1 + v^2) + -6.690 1/(1 + u^3) + -51.511 1/(1 + v^3) + 12.099 1/(1 + u^4) + 68.160 1/(1 + v^4) + -3.501 1/(1 + u^5) + -28.145 1/(1 + v^5)\n",
      "[2.02509684 3.00322762]\n",
      "[3.76202857 2.18043422]\n",
      "[2.5667126  2.18684537]\n",
      "[0.31497897 3.80047259]\n",
      "[0.75834496 1.36487447]\n",
      "[2.45842811 1.43859345]\n",
      "[1.44206144 0.49745614]\n",
      "[1.30406876 1.95030417]\n",
      "[2.06108279 1.81331975]\n",
      "[1.95428241 3.69742737]\n",
      "[3.62438987 2.64272581]\n",
      "[1.23739272 2.27084102]\n",
      "[0.68504378 0.09415168]\n",
      "[2.14858937 1.13850504]\n",
      "[3.02416868 2.4618377 ]\n",
      "[0.13497447 0.96337779]\n",
      "[3.30529246 4.60109906]\n",
      "[0.78247674 1.06464271]\n",
      "[4.59193883 4.56665017]\n",
      "[0.98168913 0.42179265]\n",
      "[2.62938407 3.60267814]\n",
      "[0.6397077  1.61352554]\n",
      "[1.36425646 0.15345143]\n",
      "[3.08006486 1.07850664]\n",
      "[0.67606689 1.27723107]\n",
      "[4.30417165 2.98725445]\n",
      "[3.16202148 4.59051787]\n",
      "[2.9953268  1.61409867]\n",
      "[4.02420051 3.45458634]\n",
      "[3.21183432 1.42490988]\n",
      "List for sigma=0.09557894736842104: [0.006955213707520929, 0.09245692292161539, 0.19567288261280327, 0.1318310241574493]\n",
      "0.12710526315789472\n",
      "(u)' = -2.042 u + 1.677 v + -5.220 1/(1 + u^1) + -1.607 1/(1 + v^1) + 4.122 1/(1 + u^2) + -4.560 1/(1 + v^2) + 8.149 1/(1 + u^3) + 33.955 1/(1 + v^3) + -23.264 1/(1 + u^4) + -43.126 1/(1 + v^4) + 12.871 1/(1 + u^5) + 18.382 1/(1 + v^5)\n",
      "(v)' = -0.680 v + 0.828 1/(1 + u^1) + 2.052 1/(1 + v^1) + -1.184 1/(1 + u^2) + 3.713 1/(1 + v^2) + -8.929 1/(1 + u^3) + -34.319 1/(1 + v^3) + 25.009 1/(1 + u^4) + 55.915 1/(1 + v^4) + -15.007 1/(1 + u^5) + -27.326 1/(1 + v^5)\n",
      "[2.02509684 3.00322762]\n",
      "[3.76202857 2.18043422]\n",
      "[2.5667126  2.18684537]\n",
      "[0.31497897 3.80047259]\n",
      "[0.75834496 1.36487447]\n",
      "[2.45842811 1.43859345]\n",
      "[1.44206144 0.49745614]\n",
      "[1.30406876 1.95030417]\n",
      "[2.06108279 1.81331975]\n",
      "[1.95428241 3.69742737]\n",
      "[3.62438987 2.64272581]\n",
      "[1.23739272 2.27084102]\n",
      "[0.68504378 0.09415168]\n",
      "[2.14858937 1.13850504]\n",
      "[3.02416868 2.4618377 ]\n",
      "[0.13497447 0.96337779]\n",
      "[3.30529246 4.60109906]\n",
      "[0.78247674 1.06464271]\n",
      "[4.59193883 4.56665017]\n",
      "[0.98168913 0.42179265]\n",
      "[2.62938407 3.60267814]\n",
      "[0.6397077  1.61352554]\n",
      "[1.36425646 0.15345143]\n",
      "[3.08006486 1.07850664]\n",
      "[0.67606689 1.27723107]\n",
      "[4.30417165 2.98725445]\n",
      "[3.16202148 4.59051787]\n",
      "[2.9953268  1.61409867]\n",
      "[4.02420051 3.45458634]\n",
      "[3.21183432 1.42490988]\n",
      "List for sigma=0.12710526315789472: [0.006955213707520929, 0.09245692292161539, 0.19567288261280327, 0.1318310241574493, 0.17488449289923327]\n",
      "0.1586315789473684\n",
      "(u)' = -0.964 u + 0.539 v + -1.805 1/(1 + u^1) + 5.014 1/(1 + u^2) + 4.669 1/(1 + v^3) + -11.805 1/(1 + u^4) + -6.737 1/(1 + v^4) + 7.939 1/(1 + u^5) + 2.967 1/(1 + v^5)\n",
      "(v)' = -3.241 1/(1 + v^1) + -3.259 1/(1 + v^2) + 10.500 1/(1 + v^3) + -5.277 1/(1 + v^4) + 0.691 1/(1 + u^5)\n",
      "[2.02509684 3.00322762]\n",
      "[3.76202857 2.18043422]\n",
      "[2.5667126  2.18684537]\n",
      "[0.31497897 3.80047259]\n",
      "[0.75834496 1.36487447]\n",
      "[2.45842811 1.43859345]\n",
      "[1.44206144 0.49745614]\n",
      "[1.30406876 1.95030417]\n",
      "[2.06108279 1.81331975]\n",
      "[1.95428241 3.69742737]\n",
      "[3.62438987 2.64272581]\n",
      "[1.23739272 2.27084102]\n",
      "[0.68504378 0.09415168]\n",
      "[2.14858937 1.13850504]\n",
      "[3.02416868 2.4618377 ]\n",
      "[0.13497447 0.96337779]\n",
      "[3.30529246 4.60109906]\n",
      "[0.78247674 1.06464271]\n",
      "[4.59193883 4.56665017]\n",
      "[0.98168913 0.42179265]\n",
      "[2.62938407 3.60267814]\n",
      "[0.6397077  1.61352554]\n",
      "[1.36425646 0.15345143]\n",
      "[3.08006486 1.07850664]\n",
      "[0.67606689 1.27723107]\n",
      "[4.30417165 2.98725445]\n",
      "[3.16202148 4.59051787]\n",
      "[2.9953268  1.61409867]\n",
      "[4.02420051 3.45458634]\n",
      "[3.21183432 1.42490988]\n",
      "List for sigma=0.1586315789473684: [0.006955213707520929, 0.09245692292161539, 0.19567288261280327, 0.1318310241574493, 0.17488449289923327, 6.829428457580093]\n",
      "0.19015789473684208\n",
      "(u)' = -2.329 1/(1 + u^1) + 0.958 1/(1 + v^1) + 1.416 1/(1 + u^2) + -4.421 1/(1 + v^2) + 7.624 1/(1 + u^3) + -1.838 1/(1 + v^3) + -3.142 1/(1 + u^4) + 3.847 1/(1 + v^4) + -2.521 1/(1 + u^5)\n",
      "(v)' = -0.511 u + 1.839 1/(1 + u^1) + -1.910 1/(1 + v^1) + 2.807 1/(1 + u^2) + -5.229 1/(1 + v^2) + -7.305 1/(1 + u^3) + 11.673 1/(1 + v^3) + -1.014 1/(1 + u^4) + 6.940 1/(1 + v^4) + 3.956 1/(1 + u^5) + -11.414 1/(1 + v^5)\n",
      "[2.02509684 3.00322762]\n",
      "[3.76202857 2.18043422]\n",
      "[2.5667126  2.18684537]\n",
      "[0.31497897 3.80047259]\n",
      "[0.75834496 1.36487447]\n",
      "[2.45842811 1.43859345]\n",
      "[1.44206144 0.49745614]\n",
      "[1.30406876 1.95030417]\n",
      "[2.06108279 1.81331975]\n",
      "[1.95428241 3.69742737]\n",
      "[3.62438987 2.64272581]\n",
      "[1.23739272 2.27084102]\n",
      "[0.68504378 0.09415168]\n"
     ]
    },
    {
     "name": "stderr",
     "output_type": "stream",
     "text": [
      "C:\\Users\\UserALai\\miniconda3\\lib\\site-packages\\scipy\\integrate\\_odepack_py.py:247: ODEintWarning: Excess work done on this call (perhaps wrong Dfun type). Run with full_output = 1 to get quantitative information.\n",
      "  warnings.warn(warning_msg, ODEintWarning)\n"
     ]
    },
    {
     "name": "stdout",
     "output_type": "stream",
     "text": [
      "[2.14858937 1.13850504]\n",
      "[3.02416868 2.4618377 ]\n",
      "[0.13497447 0.96337779]\n",
      "[3.30529246 4.60109906]\n",
      "[0.78247674 1.06464271]\n",
      "[4.59193883 4.56665017]\n",
      "[0.98168913 0.42179265]\n",
      "[2.62938407 3.60267814]\n",
      "[0.6397077  1.61352554]\n",
      "[1.36425646 0.15345143]\n"
     ]
    },
    {
     "name": "stderr",
     "output_type": "stream",
     "text": [
      "C:\\Users\\UserALai\\miniconda3\\lib\\site-packages\\scipy\\integrate\\_odepack_py.py:247: ODEintWarning: Excess work done on this call (perhaps wrong Dfun type). Run with full_output = 1 to get quantitative information.\n",
      "  warnings.warn(warning_msg, ODEintWarning)\n"
     ]
    },
    {
     "name": "stdout",
     "output_type": "stream",
     "text": [
      "[3.08006486 1.07850664]\n",
      "[0.67606689 1.27723107]\n",
      "[4.30417165 2.98725445]\n",
      "[3.16202148 4.59051787]\n",
      "[2.9953268  1.61409867]\n",
      "[4.02420051 3.45458634]\n",
      "[3.21183432 1.42490988]\n",
      "List for sigma=0.19015789473684208: [0.006955213707520929, 0.09245692292161539, 0.19567288261280327, 0.1318310241574493, 0.17488449289923327, 6.829428457580093, 1.8291053066053333]\n",
      "0.22168421052631576\n",
      "(u)' = 0.897 1/(1 + u^1) + 3.549 1/(1 + u^2) + -4.320 1/(1 + u^3) + -2.706 1/(1 + u^4) + 2.736 1/(1 + u^5)\n",
      "(v)' = -0.668 u + 1.516 1/(1 + u^1) + 5.650 1/(1 + u^2) + 5.415 1/(1 + v^2) + -18.137 1/(1 + u^3) + -3.900 1/(1 + v^3) + -12.219 1/(1 + u^4) + -6.181 1/(1 + v^4) + 22.578 1/(1 + u^5) + 5.908 1/(1 + v^5)\n",
      "[2.02509684 3.00322762]\n"
     ]
    },
    {
     "name": "stderr",
     "output_type": "stream",
     "text": [
      "C:\\Users\\UserALai\\miniconda3\\lib\\site-packages\\scipy\\integrate\\_odepack_py.py:247: ODEintWarning: Excess work done on this call (perhaps wrong Dfun type). Run with full_output = 1 to get quantitative information.\n",
      "  warnings.warn(warning_msg, ODEintWarning)\n"
     ]
    },
    {
     "name": "stdout",
     "output_type": "stream",
     "text": [
      "[3.76202857 2.18043422]\n"
     ]
    },
    {
     "name": "stderr",
     "output_type": "stream",
     "text": [
      "C:\\Users\\UserALai\\miniconda3\\lib\\site-packages\\scipy\\integrate\\_odepack_py.py:247: ODEintWarning: Excess work done on this call (perhaps wrong Dfun type). Run with full_output = 1 to get quantitative information.\n",
      "  warnings.warn(warning_msg, ODEintWarning)\n"
     ]
    },
    {
     "name": "stdout",
     "output_type": "stream",
     "text": [
      "[2.5667126  2.18684537]\n"
     ]
    },
    {
     "name": "stderr",
     "output_type": "stream",
     "text": [
      "C:\\Users\\UserALai\\miniconda3\\lib\\site-packages\\scipy\\integrate\\_odepack_py.py:247: ODEintWarning: Excess work done on this call (perhaps wrong Dfun type). Run with full_output = 1 to get quantitative information.\n",
      "  warnings.warn(warning_msg, ODEintWarning)\n"
     ]
    },
    {
     "name": "stdout",
     "output_type": "stream",
     "text": [
      "[0.31497897 3.80047259]\n",
      "[0.75834496 1.36487447]\n",
      "[2.45842811 1.43859345]\n"
     ]
    },
    {
     "name": "stderr",
     "output_type": "stream",
     "text": [
      "C:\\Users\\UserALai\\miniconda3\\lib\\site-packages\\scipy\\integrate\\_odepack_py.py:247: ODEintWarning: Excess work done on this call (perhaps wrong Dfun type). Run with full_output = 1 to get quantitative information.\n",
      "  warnings.warn(warning_msg, ODEintWarning)\n"
     ]
    },
    {
     "name": "stdout",
     "output_type": "stream",
     "text": [
      "[1.44206144 0.49745614]\n"
     ]
    },
    {
     "name": "stderr",
     "output_type": "stream",
     "text": [
      "C:\\Users\\UserALai\\miniconda3\\lib\\site-packages\\scipy\\integrate\\_odepack_py.py:247: ODEintWarning: Excess work done on this call (perhaps wrong Dfun type). Run with full_output = 1 to get quantitative information.\n",
      "  warnings.warn(warning_msg, ODEintWarning)\n"
     ]
    },
    {
     "name": "stdout",
     "output_type": "stream",
     "text": [
      "[1.30406876 1.95030417]\n"
     ]
    },
    {
     "name": "stderr",
     "output_type": "stream",
     "text": [
      "C:\\Users\\UserALai\\miniconda3\\lib\\site-packages\\scipy\\integrate\\_odepack_py.py:247: ODEintWarning: Excess work done on this call (perhaps wrong Dfun type). Run with full_output = 1 to get quantitative information.\n",
      "  warnings.warn(warning_msg, ODEintWarning)\n"
     ]
    },
    {
     "name": "stdout",
     "output_type": "stream",
     "text": [
      "[2.06108279 1.81331975]\n"
     ]
    },
    {
     "name": "stderr",
     "output_type": "stream",
     "text": [
      "C:\\Users\\UserALai\\miniconda3\\lib\\site-packages\\scipy\\integrate\\_odepack_py.py:247: ODEintWarning: Excess work done on this call (perhaps wrong Dfun type). Run with full_output = 1 to get quantitative information.\n",
      "  warnings.warn(warning_msg, ODEintWarning)\n"
     ]
    },
    {
     "name": "stdout",
     "output_type": "stream",
     "text": [
      "[1.95428241 3.69742737]\n"
     ]
    },
    {
     "name": "stderr",
     "output_type": "stream",
     "text": [
      "C:\\Users\\UserALai\\miniconda3\\lib\\site-packages\\scipy\\integrate\\_odepack_py.py:247: ODEintWarning: Excess work done on this call (perhaps wrong Dfun type). Run with full_output = 1 to get quantitative information.\n",
      "  warnings.warn(warning_msg, ODEintWarning)\n"
     ]
    },
    {
     "name": "stdout",
     "output_type": "stream",
     "text": [
      "[3.62438987 2.64272581]\n"
     ]
    },
    {
     "name": "stderr",
     "output_type": "stream",
     "text": [
      "C:\\Users\\UserALai\\miniconda3\\lib\\site-packages\\scipy\\integrate\\_odepack_py.py:247: ODEintWarning: Excess work done on this call (perhaps wrong Dfun type). Run with full_output = 1 to get quantitative information.\n",
      "  warnings.warn(warning_msg, ODEintWarning)\n"
     ]
    },
    {
     "name": "stdout",
     "output_type": "stream",
     "text": [
      "[1.23739272 2.27084102]\n"
     ]
    },
    {
     "name": "stderr",
     "output_type": "stream",
     "text": [
      "C:\\Users\\UserALai\\miniconda3\\lib\\site-packages\\scipy\\integrate\\_odepack_py.py:247: ODEintWarning: Excess work done on this call (perhaps wrong Dfun type). Run with full_output = 1 to get quantitative information.\n",
      "  warnings.warn(warning_msg, ODEintWarning)\n"
     ]
    },
    {
     "name": "stdout",
     "output_type": "stream",
     "text": [
      "[0.68504378 0.09415168]\n",
      "[2.14858937 1.13850504]\n"
     ]
    },
    {
     "name": "stderr",
     "output_type": "stream",
     "text": [
      "C:\\Users\\UserALai\\miniconda3\\lib\\site-packages\\scipy\\integrate\\_odepack_py.py:247: ODEintWarning: Excess work done on this call (perhaps wrong Dfun type). Run with full_output = 1 to get quantitative information.\n",
      "  warnings.warn(warning_msg, ODEintWarning)\n"
     ]
    },
    {
     "name": "stdout",
     "output_type": "stream",
     "text": [
      "[3.02416868 2.4618377 ]\n"
     ]
    },
    {
     "name": "stderr",
     "output_type": "stream",
     "text": [
      "C:\\Users\\UserALai\\miniconda3\\lib\\site-packages\\scipy\\integrate\\_odepack_py.py:247: ODEintWarning: Excess work done on this call (perhaps wrong Dfun type). Run with full_output = 1 to get quantitative information.\n",
      "  warnings.warn(warning_msg, ODEintWarning)\n"
     ]
    },
    {
     "name": "stdout",
     "output_type": "stream",
     "text": [
      "[0.13497447 0.96337779]\n",
      "[3.30529246 4.60109906]\n"
     ]
    },
    {
     "name": "stderr",
     "output_type": "stream",
     "text": [
      "C:\\Users\\UserALai\\miniconda3\\lib\\site-packages\\scipy\\integrate\\_odepack_py.py:247: ODEintWarning: Excess work done on this call (perhaps wrong Dfun type). Run with full_output = 1 to get quantitative information.\n",
      "  warnings.warn(warning_msg, ODEintWarning)\n"
     ]
    },
    {
     "name": "stdout",
     "output_type": "stream",
     "text": [
      "[0.78247674 1.06464271]\n",
      "[4.59193883 4.56665017]\n"
     ]
    },
    {
     "name": "stderr",
     "output_type": "stream",
     "text": [
      "C:\\Users\\UserALai\\miniconda3\\lib\\site-packages\\scipy\\integrate\\_odepack_py.py:247: ODEintWarning: Excess work done on this call (perhaps wrong Dfun type). Run with full_output = 1 to get quantitative information.\n",
      "  warnings.warn(warning_msg, ODEintWarning)\n"
     ]
    },
    {
     "name": "stdout",
     "output_type": "stream",
     "text": [
      "[0.98168913 0.42179265]\n"
     ]
    },
    {
     "name": "stderr",
     "output_type": "stream",
     "text": [
      "C:\\Users\\UserALai\\miniconda3\\lib\\site-packages\\scipy\\integrate\\_odepack_py.py:247: ODEintWarning: Excess work done on this call (perhaps wrong Dfun type). Run with full_output = 1 to get quantitative information.\n",
      "  warnings.warn(warning_msg, ODEintWarning)\n"
     ]
    },
    {
     "name": "stdout",
     "output_type": "stream",
     "text": [
      "[2.62938407 3.60267814]\n"
     ]
    },
    {
     "name": "stderr",
     "output_type": "stream",
     "text": [
      "C:\\Users\\UserALai\\miniconda3\\lib\\site-packages\\scipy\\integrate\\_odepack_py.py:247: ODEintWarning: Excess work done on this call (perhaps wrong Dfun type). Run with full_output = 1 to get quantitative information.\n",
      "  warnings.warn(warning_msg, ODEintWarning)\n"
     ]
    },
    {
     "name": "stdout",
     "output_type": "stream",
     "text": [
      "[0.6397077  1.61352554]\n",
      "[1.36425646 0.15345143]\n"
     ]
    },
    {
     "name": "stderr",
     "output_type": "stream",
     "text": [
      "C:\\Users\\UserALai\\miniconda3\\lib\\site-packages\\scipy\\integrate\\_odepack_py.py:247: ODEintWarning: Excess work done on this call (perhaps wrong Dfun type). Run with full_output = 1 to get quantitative information.\n",
      "  warnings.warn(warning_msg, ODEintWarning)\n"
     ]
    },
    {
     "name": "stdout",
     "output_type": "stream",
     "text": [
      "[3.08006486 1.07850664]\n"
     ]
    },
    {
     "name": "stderr",
     "output_type": "stream",
     "text": [
      "C:\\Users\\UserALai\\miniconda3\\lib\\site-packages\\scipy\\integrate\\_odepack_py.py:247: ODEintWarning: Excess work done on this call (perhaps wrong Dfun type). Run with full_output = 1 to get quantitative information.\n",
      "  warnings.warn(warning_msg, ODEintWarning)\n"
     ]
    },
    {
     "name": "stdout",
     "output_type": "stream",
     "text": [
      "[0.67606689 1.27723107]\n",
      "[4.30417165 2.98725445]\n"
     ]
    },
    {
     "name": "stderr",
     "output_type": "stream",
     "text": [
      "C:\\Users\\UserALai\\miniconda3\\lib\\site-packages\\scipy\\integrate\\_odepack_py.py:247: ODEintWarning: Excess work done on this call (perhaps wrong Dfun type). Run with full_output = 1 to get quantitative information.\n",
      "  warnings.warn(warning_msg, ODEintWarning)\n"
     ]
    },
    {
     "name": "stdout",
     "output_type": "stream",
     "text": [
      "[3.16202148 4.59051787]\n"
     ]
    },
    {
     "name": "stderr",
     "output_type": "stream",
     "text": [
      "C:\\Users\\UserALai\\miniconda3\\lib\\site-packages\\scipy\\integrate\\_odepack_py.py:247: ODEintWarning: Excess work done on this call (perhaps wrong Dfun type). Run with full_output = 1 to get quantitative information.\n",
      "  warnings.warn(warning_msg, ODEintWarning)\n"
     ]
    },
    {
     "name": "stdout",
     "output_type": "stream",
     "text": [
      "[2.9953268  1.61409867]\n"
     ]
    },
    {
     "name": "stderr",
     "output_type": "stream",
     "text": [
      "C:\\Users\\UserALai\\miniconda3\\lib\\site-packages\\scipy\\integrate\\_odepack_py.py:247: ODEintWarning: Excess work done on this call (perhaps wrong Dfun type). Run with full_output = 1 to get quantitative information.\n",
      "  warnings.warn(warning_msg, ODEintWarning)\n"
     ]
    },
    {
     "name": "stdout",
     "output_type": "stream",
     "text": [
      "[4.02420051 3.45458634]\n"
     ]
    },
    {
     "name": "stderr",
     "output_type": "stream",
     "text": [
      "C:\\Users\\UserALai\\miniconda3\\lib\\site-packages\\scipy\\integrate\\_odepack_py.py:247: ODEintWarning: Excess work done on this call (perhaps wrong Dfun type). Run with full_output = 1 to get quantitative information.\n",
      "  warnings.warn(warning_msg, ODEintWarning)\n"
     ]
    },
    {
     "name": "stdout",
     "output_type": "stream",
     "text": [
      "[3.21183432 1.42490988]\n"
     ]
    },
    {
     "name": "stderr",
     "output_type": "stream",
     "text": [
      "C:\\Users\\UserALai\\miniconda3\\lib\\site-packages\\scipy\\integrate\\_odepack_py.py:247: ODEintWarning: Excess work done on this call (perhaps wrong Dfun type). Run with full_output = 1 to get quantitative information.\n",
      "  warnings.warn(warning_msg, ODEintWarning)\n"
     ]
    },
    {
     "name": "stdout",
     "output_type": "stream",
     "text": [
      "List for sigma=0.22168421052631576: [0.006955213707520929, 0.09245692292161539, 0.19567288261280327, 0.1318310241574493, 0.17488449289923327, 6.829428457580093, 1.8291053066053333, 0.4122520163228721]\n",
      "0.25321052631578944\n",
      "(u)' = -0.967 1/(1 + u^1) + 0.674 1/(1 + v^1) + -7.742 1/(1 + u^2) + -4.171 1/(1 + v^2) + 10.577 1/(1 + u^3) + 2.211 1/(1 + v^3) + 10.570 1/(1 + u^4) + 8.360 1/(1 + v^4) + -12.787 1/(1 + u^5) + -7.118 1/(1 + v^5)\n",
      "(v)' = -1.439 1/(1 + u^3) + 1.577 1/(1 + v^3) + -1.078 1/(1 + u^4) + 1.069 1/(1 + v^4) + 2.451 1/(1 + u^5) + -2.578 1/(1 + v^5)\n",
      "[2.02509684 3.00322762]\n",
      "[3.76202857 2.18043422]\n",
      "[2.5667126  2.18684537]\n",
      "[0.31497897 3.80047259]\n",
      "[0.75834496 1.36487447]\n",
      "[2.45842811 1.43859345]\n",
      "[1.44206144 0.49745614]\n",
      "[1.30406876 1.95030417]\n",
      "[2.06108279 1.81331975]\n",
      "[1.95428241 3.69742737]\n",
      "[3.62438987 2.64272581]\n",
      "[1.23739272 2.27084102]\n",
      "[0.68504378 0.09415168]\n",
      "[2.14858937 1.13850504]\n",
      "[3.02416868 2.4618377 ]\n",
      "[0.13497447 0.96337779]\n",
      "[3.30529246 4.60109906]\n",
      "[0.78247674 1.06464271]\n",
      "[4.59193883 4.56665017]\n",
      "[0.98168913 0.42179265]\n",
      "[2.62938407 3.60267814]\n",
      "[0.6397077  1.61352554]\n",
      "[1.36425646 0.15345143]\n",
      "[3.08006486 1.07850664]\n",
      "[0.67606689 1.27723107]\n",
      "[4.30417165 2.98725445]\n",
      "[3.16202148 4.59051787]\n",
      "[2.9953268  1.61409867]\n",
      "[4.02420051 3.45458634]\n",
      "[3.21183432 1.42490988]\n",
      "List for sigma=0.25321052631578944: [0.006955213707520929, 0.09245692292161539, 0.19567288261280327, 0.1318310241574493, 0.17488449289923327, 6.829428457580093, 1.8291053066053333, 0.4122520163228721, 2.5592465216964606]\n",
      "0.2847368421052631\n",
      "(u)' = -0.834 u + 1.039 v + -2.506 1/(1 + u^1) + -7.648 1/(1 + v^2) + 5.680 1/(1 + u^3) + 7.319 1/(1 + v^3) + -7.610 1/(1 + u^4) + 13.142 1/(1 + v^4) + 2.993 1/(1 + u^5) + -12.079 1/(1 + v^5)\n",
      "(v)' = -1.609 1/(1 + u^1) + -1.924 1/(1 + v^1) + 0.862 1/(1 + u^2) + -7.342 1/(1 + v^2) + 4.838 1/(1 + u^3) + 3.819 1/(1 + v^3) + -2.295 1/(1 + u^4) + 3.259 1/(1 + v^5)\n",
      "[2.02509684 3.00322762]\n",
      "[3.76202857 2.18043422]\n",
      "[2.5667126  2.18684537]\n",
      "[0.31497897 3.80047259]\n",
      "[0.75834496 1.36487447]\n",
      "[2.45842811 1.43859345]\n",
      "[1.44206144 0.49745614]\n",
      "[1.30406876 1.95030417]\n",
      "[2.06108279 1.81331975]\n",
      "[1.95428241 3.69742737]\n",
      "[3.62438987 2.64272581]\n",
      "[1.23739272 2.27084102]\n",
      "[0.68504378 0.09415168]\n",
      "[2.14858937 1.13850504]\n",
      "[3.02416868 2.4618377 ]\n",
      "[0.13497447 0.96337779]\n",
      "[3.30529246 4.60109906]\n",
      "[0.78247674 1.06464271]\n",
      "[4.59193883 4.56665017]\n",
      "[0.98168913 0.42179265]\n",
      "[2.62938407 3.60267814]\n",
      "[0.6397077  1.61352554]\n",
      "[1.36425646 0.15345143]\n",
      "[3.08006486 1.07850664]\n",
      "[0.67606689 1.27723107]\n",
      "[4.30417165 2.98725445]\n",
      "[3.16202148 4.59051787]\n",
      "[2.9953268  1.61409867]\n",
      "[4.02420051 3.45458634]\n",
      "[3.21183432 1.42490988]\n",
      "List for sigma=0.2847368421052631: [0.006955213707520929, 0.09245692292161539, 0.19567288261280327, 0.1318310241574493, 0.17488449289923327, 6.829428457580093, 1.8291053066053333, 0.4122520163228721, 2.5592465216964606, 0.48098181071843293]\n",
      "0.3162631578947368\n",
      "(u)' = -0.554 1/(1 + u^1) + -7.692 1/(1 + v^2) + 2.716 1/(1 + u^3) + 4.304 1/(1 + v^3) + 9.961 1/(1 + v^4) + -1.766 1/(1 + u^5) + -7.177 1/(1 + v^5)\n",
      "(v)' = 5.062 1/(1 + u^2) + -0.986 1/(1 + v^2) + -3.835 1/(1 + u^3) + -7.266 1/(1 + u^4) + 0.642 1/(1 + v^4) + 6.410 1/(1 + u^5)\n",
      "[2.02509684 3.00322762]\n",
      "[3.76202857 2.18043422]\n",
      "[2.5667126  2.18684537]\n"
     ]
    },
    {
     "name": "stderr",
     "output_type": "stream",
     "text": [
      "C:\\Users\\UserALai\\miniconda3\\lib\\site-packages\\scipy\\integrate\\_odepack_py.py:247: ODEintWarning: Excess work done on this call (perhaps wrong Dfun type). Run with full_output = 1 to get quantitative information.\n",
      "  warnings.warn(warning_msg, ODEintWarning)\n"
     ]
    },
    {
     "name": "stdout",
     "output_type": "stream",
     "text": [
      "[0.31497897 3.80047259]\n",
      "[0.75834496 1.36487447]\n",
      "[2.45842811 1.43859345]\n",
      "[1.44206144 0.49745614]\n",
      "[1.30406876 1.95030417]\n"
     ]
    },
    {
     "name": "stderr",
     "output_type": "stream",
     "text": [
      "C:\\Users\\UserALai\\miniconda3\\lib\\site-packages\\scipy\\integrate\\_odepack_py.py:247: ODEintWarning: Excess work done on this call (perhaps wrong Dfun type). Run with full_output = 1 to get quantitative information.\n",
      "  warnings.warn(warning_msg, ODEintWarning)\n"
     ]
    },
    {
     "name": "stdout",
     "output_type": "stream",
     "text": [
      "[2.06108279 1.81331975]\n"
     ]
    },
    {
     "name": "stderr",
     "output_type": "stream",
     "text": [
      "C:\\Users\\UserALai\\miniconda3\\lib\\site-packages\\scipy\\integrate\\_odepack_py.py:247: ODEintWarning: Excess work done on this call (perhaps wrong Dfun type). Run with full_output = 1 to get quantitative information.\n",
      "  warnings.warn(warning_msg, ODEintWarning)\n"
     ]
    },
    {
     "name": "stdout",
     "output_type": "stream",
     "text": [
      "[1.95428241 3.69742737]\n",
      "[3.62438987 2.64272581]\n",
      "[1.23739272 2.27084102]\n"
     ]
    },
    {
     "name": "stderr",
     "output_type": "stream",
     "text": [
      "C:\\Users\\UserALai\\miniconda3\\lib\\site-packages\\scipy\\integrate\\_odepack_py.py:247: ODEintWarning: Excess work done on this call (perhaps wrong Dfun type). Run with full_output = 1 to get quantitative information.\n",
      "  warnings.warn(warning_msg, ODEintWarning)\n"
     ]
    },
    {
     "name": "stdout",
     "output_type": "stream",
     "text": [
      "[0.68504378 0.09415168]\n",
      "[2.14858937 1.13850504]\n",
      "[3.02416868 2.4618377 ]\n",
      "[0.13497447 0.96337779]\n",
      "[3.30529246 4.60109906]\n",
      "[0.78247674 1.06464271]\n",
      "[4.59193883 4.56665017]\n",
      "[0.98168913 0.42179265]\n",
      "[2.62938407 3.60267814]\n",
      "[0.6397077  1.61352554]\n",
      "[1.36425646 0.15345143]\n",
      "[3.08006486 1.07850664]\n",
      "[0.67606689 1.27723107]\n",
      "[4.30417165 2.98725445]\n",
      "[3.16202148 4.59051787]\n",
      "[2.9953268  1.61409867]\n"
     ]
    },
    {
     "name": "stderr",
     "output_type": "stream",
     "text": [
      "C:\\Users\\UserALai\\miniconda3\\lib\\site-packages\\scipy\\integrate\\_odepack_py.py:247: ODEintWarning: Excess work done on this call (perhaps wrong Dfun type). Run with full_output = 1 to get quantitative information.\n",
      "  warnings.warn(warning_msg, ODEintWarning)\n"
     ]
    },
    {
     "name": "stdout",
     "output_type": "stream",
     "text": [
      "[4.02420051 3.45458634]\n",
      "[3.21183432 1.42490988]\n",
      "List for sigma=0.3162631578947368: [0.006955213707520929, 0.09245692292161539, 0.19567288261280327, 0.1318310241574493, 0.17488449289923327, 6.829428457580093, 1.8291053066053333, 0.4122520163228721, 2.5592465216964606, 0.48098181071843293, 5.136240016817402]\n",
      "0.3477894736842105\n",
      "(u)' = 0.727 v + -2.203 1/(1 + u^1) + 6.123 1/(1 + v^1) + -13.816 1/(1 + u^2) + 4.038 1/(1 + v^2) + 14.129 1/(1 + u^3) + -27.763 1/(1 + v^3) + 12.848 1/(1 + u^4) + 2.214 1/(1 + v^4) + -12.531 1/(1 + u^5) + 15.631 1/(1 + v^5)\n",
      "(v)' = -1.028 1/(1 + u^1) + -2.848 1/(1 + v^1) + 2.122 1/(1 + u^2) + -9.939 1/(1 + v^2) + 3.083 1/(1 + u^3) + 14.092 1/(1 + v^3) + -2.445 1/(1 + u^4) + 5.900 1/(1 + v^4) + -9.202 1/(1 + v^5)\n",
      "[2.02509684 3.00322762]\n",
      "[3.76202857 2.18043422]\n",
      "[2.5667126  2.18684537]\n",
      "[0.31497897 3.80047259]\n",
      "[0.75834496 1.36487447]\n",
      "[2.45842811 1.43859345]\n",
      "[1.44206144 0.49745614]\n",
      "[1.30406876 1.95030417]\n",
      "[2.06108279 1.81331975]\n",
      "[1.95428241 3.69742737]\n",
      "[3.62438987 2.64272581]\n",
      "[1.23739272 2.27084102]\n",
      "[0.68504378 0.09415168]\n",
      "[2.14858937 1.13850504]\n",
      "[3.02416868 2.4618377 ]\n",
      "[0.13497447 0.96337779]\n",
      "[3.30529246 4.60109906]\n",
      "[0.78247674 1.06464271]\n",
      "[4.59193883 4.56665017]\n",
      "[0.98168913 0.42179265]\n",
      "[2.62938407 3.60267814]\n",
      "[0.6397077  1.61352554]\n",
      "[1.36425646 0.15345143]\n",
      "[3.08006486 1.07850664]\n",
      "[0.67606689 1.27723107]\n",
      "[4.30417165 2.98725445]\n",
      "[3.16202148 4.59051787]\n",
      "[2.9953268  1.61409867]\n",
      "[4.02420051 3.45458634]\n",
      "[3.21183432 1.42490988]\n",
      "List for sigma=0.3477894736842105: [0.006955213707520929, 0.09245692292161539, 0.19567288261280327, 0.1318310241574493, 0.17488449289923327, 6.829428457580093, 1.8291053066053333, 0.4122520163228721, 2.5592465216964606, 0.48098181071843293, 5.136240016817402, 2.603137111025691]\n",
      "0.37931578947368416\n",
      "(u)' = -0.648 1/(1 + u^1) + 2.902 1/(1 + v^1) + -9.503 1/(1 + u^2) + 3.088 1/(1 + v^2) + 11.437 1/(1 + u^3) + -13.262 1/(1 + v^3) + 13.804 1/(1 + u^4) + -15.842 1/(1 + u^5) + 7.586 1/(1 + v^5)\n",
      "(v)' = 1.636 1/(1 + v^1) + -5.569 1/(1 + u^2) + 7.692 1/(1 + v^2) + -9.347 1/(1 + v^3) + 4.065 1/(1 + u^4) + -5.821 1/(1 + v^4) + 7.405 1/(1 + v^5)\n",
      "[2.02509684 3.00322762]\n",
      "[3.76202857 2.18043422]\n",
      "[2.5667126  2.18684537]\n",
      "[0.31497897 3.80047259]\n",
      "[0.75834496 1.36487447]\n",
      "[2.45842811 1.43859345]\n",
      "[1.44206144 0.49745614]\n",
      "[1.30406876 1.95030417]\n",
      "[2.06108279 1.81331975]\n",
      "[1.95428241 3.69742737]\n",
      "[3.62438987 2.64272581]\n",
      "[1.23739272 2.27084102]\n",
      "[0.68504378 0.09415168]\n",
      "[2.14858937 1.13850504]\n",
      "[3.02416868 2.4618377 ]\n",
      "[0.13497447 0.96337779]\n",
      "[3.30529246 4.60109906]\n",
      "[0.78247674 1.06464271]\n",
      "[4.59193883 4.56665017]\n",
      "[0.98168913 0.42179265]\n",
      "[2.62938407 3.60267814]\n",
      "[0.6397077  1.61352554]\n",
      "[1.36425646 0.15345143]\n",
      "[3.08006486 1.07850664]\n",
      "[0.67606689 1.27723107]\n",
      "[4.30417165 2.98725445]\n",
      "[3.16202148 4.59051787]\n",
      "[2.9953268  1.61409867]\n",
      "[4.02420051 3.45458634]\n",
      "[3.21183432 1.42490988]\n",
      "List for sigma=0.37931578947368416: [0.006955213707520929, 0.09245692292161539, 0.19567288261280327, 0.1318310241574493, 0.17488449289923327, 6.829428457580093, 1.8291053066053333, 0.4122520163228721, 2.5592465216964606, 0.48098181071843293, 5.136240016817402, 2.603137111025691, 5.820872519435047]\n",
      "0.41084210526315784\n",
      "(u)' = 2.830 1/(1 + u^1) + -2.659 1/(1 + v^1) + -1.386 1/(1 + u^2) + -12.961 1/(1 + v^2) + -2.251 1/(1 + u^3) + 19.293 1/(1 + v^3) + 12.757 1/(1 + u^4) + 12.835 1/(1 + v^4) + -10.409 1/(1 + u^5) + -18.865 1/(1 + v^5)\n",
      "(v)' = -4.378 1/(1 + u^1) + 2.885 1/(1 + v^1) + -11.752 1/(1 + u^2) + 3.777 1/(1 + v^2) + 27.417 1/(1 + u^3) + -8.646 1/(1 + v^3) + 11.726 1/(1 + u^4) + 2.334 1/(1 + v^4) + -23.782 1/(1 + u^5)\n",
      "[2.02509684 3.00322762]\n",
      "[3.76202857 2.18043422]\n",
      "[2.5667126  2.18684537]\n",
      "[0.31497897 3.80047259]\n",
      "[0.75834496 1.36487447]\n",
      "[2.45842811 1.43859345]\n",
      "[1.44206144 0.49745614]\n",
      "[1.30406876 1.95030417]\n",
      "[2.06108279 1.81331975]\n",
      "[1.95428241 3.69742737]\n",
      "[3.62438987 2.64272581]\n",
      "[1.23739272 2.27084102]\n",
      "[0.68504378 0.09415168]\n",
      "[2.14858937 1.13850504]\n",
      "[3.02416868 2.4618377 ]\n",
      "[0.13497447 0.96337779]\n",
      "[3.30529246 4.60109906]\n",
      "[0.78247674 1.06464271]\n",
      "[4.59193883 4.56665017]\n",
      "[0.98168913 0.42179265]\n",
      "[2.62938407 3.60267814]\n",
      "[0.6397077  1.61352554]\n",
      "[1.36425646 0.15345143]\n",
      "[3.08006486 1.07850664]\n",
      "[0.67606689 1.27723107]\n",
      "[4.30417165 2.98725445]\n",
      "[3.16202148 4.59051787]\n",
      "[2.9953268  1.61409867]\n",
      "[4.02420051 3.45458634]\n",
      "[3.21183432 1.42490988]\n",
      "List for sigma=0.41084210526315784: [0.006955213707520929, 0.09245692292161539, 0.19567288261280327, 0.1318310241574493, 0.17488449289923327, 6.829428457580093, 1.8291053066053333, 0.4122520163228721, 2.5592465216964606, 0.48098181071843293, 5.136240016817402, 2.603137111025691, 5.820872519435047, 6.042241241137343]\n",
      "0.4423684210526315\n",
      "(u)' = -0.518 u + -2.458 1/(1 + u^1) + -3.077 1/(1 + v^1) + 5.559 1/(1 + u^2) + 4.510 1/(1 + v^2) + 12.100 1/(1 + u^3) + 13.252 1/(1 + v^3) + -7.273 1/(1 + u^4) + -7.590 1/(1 + v^4) + -7.844 1/(1 + u^5) + -6.634 1/(1 + v^5)\n",
      "(v)' = 0.539 1/(1 + v^1) + 2.960 1/(1 + u^2) + -1.752 1/(1 + v^2) + -5.338 1/(1 + u^3) + -5.598 1/(1 + u^4) + 2.853 1/(1 + v^4) + 8.915 1/(1 + u^5) + -2.641 1/(1 + v^5)\n",
      "[2.02509684 3.00322762]\n",
      "[3.76202857 2.18043422]\n",
      "[2.5667126  2.18684537]\n",
      "[0.31497897 3.80047259]\n",
      "[0.75834496 1.36487447]\n",
      "[2.45842811 1.43859345]\n",
      "[1.44206144 0.49745614]\n",
      "[1.30406876 1.95030417]\n",
      "[2.06108279 1.81331975]\n",
      "[1.95428241 3.69742737]\n",
      "[3.62438987 2.64272581]\n",
      "[1.23739272 2.27084102]\n",
      "[0.68504378 0.09415168]\n",
      "[2.14858937 1.13850504]\n",
      "[3.02416868 2.4618377 ]\n",
      "[0.13497447 0.96337779]\n",
      "[3.30529246 4.60109906]\n",
      "[0.78247674 1.06464271]\n",
      "[4.59193883 4.56665017]\n",
      "[0.98168913 0.42179265]\n",
      "[2.62938407 3.60267814]\n",
      "[0.6397077  1.61352554]\n",
      "[1.36425646 0.15345143]\n",
      "[3.08006486 1.07850664]\n",
      "[0.67606689 1.27723107]\n",
      "[4.30417165 2.98725445]\n",
      "[3.16202148 4.59051787]\n",
      "[2.9953268  1.61409867]\n",
      "[4.02420051 3.45458634]\n",
      "[3.21183432 1.42490988]\n",
      "List for sigma=0.4423684210526315: [0.006955213707520929, 0.09245692292161539, 0.19567288261280327, 0.1318310241574493, 0.17488449289923327, 6.829428457580093, 1.8291053066053333, 0.4122520163228721, 2.5592465216964606, 0.48098181071843293, 5.136240016817402, 2.603137111025691, 5.820872519435047, 6.042241241137343, 8.604986567941536]\n",
      "0.4738947368421052\n",
      "(u)' = -0.663 v + 1.010 1/(1 + u^1) + 8.224 1/(1 + u^2) + 3.643 1/(1 + v^2) + -12.292 1/(1 + u^3) + -4.604 1/(1 + v^3) + -11.516 1/(1 + u^4) + -6.717 1/(1 + v^4) + 15.470 1/(1 + u^5) + 7.674 1/(1 + v^5)\n",
      "(v)' = 0.543 u + -0.532 1/(1 + v^1) + -1.004 1/(1 + u^2) + -5.823 1/(1 + v^2) + -1.624 1/(1 + u^3) + 8.022 1/(1 + v^3) + -0.799 1/(1 + u^4) + 9.126 1/(1 + v^4) + 2.729 1/(1 + u^5) + -10.711 1/(1 + v^5)\n",
      "[2.02509684 3.00322762]\n",
      "[3.76202857 2.18043422]\n",
      "[2.5667126  2.18684537]\n",
      "[0.31497897 3.80047259]\n",
      "[0.75834496 1.36487447]\n",
      "[2.45842811 1.43859345]\n",
      "[1.44206144 0.49745614]\n",
      "[1.30406876 1.95030417]\n",
      "[2.06108279 1.81331975]\n",
      "[1.95428241 3.69742737]\n",
      "[3.62438987 2.64272581]\n",
      "[1.23739272 2.27084102]\n",
      "[0.68504378 0.09415168]\n",
      "[2.14858937 1.13850504]\n",
      "[3.02416868 2.4618377 ]\n",
      "[0.13497447 0.96337779]\n",
      "[3.30529246 4.60109906]\n",
      "[0.78247674 1.06464271]\n",
      "[4.59193883 4.56665017]\n",
      "[0.98168913 0.42179265]\n",
      "[2.62938407 3.60267814]\n",
      "[0.6397077  1.61352554]\n",
      "[1.36425646 0.15345143]\n",
      "[3.08006486 1.07850664]\n",
      "[0.67606689 1.27723107]\n",
      "[4.30417165 2.98725445]\n",
      "[3.16202148 4.59051787]\n",
      "[2.9953268  1.61409867]\n",
      "[4.02420051 3.45458634]\n",
      "[3.21183432 1.42490988]\n",
      "List for sigma=0.4738947368421052: [0.006955213707520929, 0.09245692292161539, 0.19567288261280327, 0.1318310241574493, 0.17488449289923327, 6.829428457580093, 1.8291053066053333, 0.4122520163228721, 2.5592465216964606, 0.48098181071843293, 5.136240016817402, 2.603137111025691, 5.820872519435047, 6.042241241137343, 8.604986567941536, 54919.81835851455]\n",
      "0.5054210526315789\n",
      "(u)' = 3.162 1/(1 + u^1) + -1.214 1/(1 + v^1) + 11.856 1/(1 + u^2) + -6.240 1/(1 + v^2) + -17.758 1/(1 + u^3) + 9.076 1/(1 + v^3) + -8.983 1/(1 + u^4) + 5.001 1/(1 + v^4) + 13.767 1/(1 + u^5) + -9.040 1/(1 + v^5)\n",
      "(v)' = -2.029 1/(1 + u^1) + -2.050 1/(1 + v^1) + -10.773 1/(1 + u^2) + -7.124 1/(1 + v^2) + 11.912 1/(1 + u^3) + 19.223 1/(1 + v^3) + 10.196 1/(1 + u^4) + 11.835 1/(1 + v^4) + -9.692 1/(1 + u^5) + -21.753 1/(1 + v^5)\n",
      "[2.02509684 3.00322762]\n",
      "[3.76202857 2.18043422]\n",
      "[2.5667126  2.18684537]\n",
      "[0.31497897 3.80047259]\n",
      "[0.75834496 1.36487447]\n",
      "[2.45842811 1.43859345]\n",
      "[1.44206144 0.49745614]\n",
      "[1.30406876 1.95030417]\n"
     ]
    },
    {
     "name": "stdout",
     "output_type": "stream",
     "text": [
      "[2.06108279 1.81331975]\n",
      "[1.95428241 3.69742737]\n",
      "[3.62438987 2.64272581]\n",
      "[1.23739272 2.27084102]\n",
      "[0.68504378 0.09415168]\n",
      "[2.14858937 1.13850504]\n",
      "[3.02416868 2.4618377 ]\n",
      "[0.13497447 0.96337779]\n",
      "[3.30529246 4.60109906]\n",
      "[0.78247674 1.06464271]\n",
      "[4.59193883 4.56665017]\n",
      "[0.98168913 0.42179265]\n",
      "[2.62938407 3.60267814]\n",
      "[0.6397077  1.61352554]\n",
      "[1.36425646 0.15345143]\n",
      "[3.08006486 1.07850664]\n",
      "[0.67606689 1.27723107]\n",
      "[4.30417165 2.98725445]\n",
      "[3.16202148 4.59051787]\n",
      "[2.9953268  1.61409867]\n",
      "[4.02420051 3.45458634]\n",
      "[3.21183432 1.42490988]\n",
      "List for sigma=0.5054210526315789: [0.006955213707520929, 0.09245692292161539, 0.19567288261280327, 0.1318310241574493, 0.17488449289923327, 6.829428457580093, 1.8291053066053333, 0.4122520163228721, 2.5592465216964606, 0.48098181071843293, 5.136240016817402, 2.603137111025691, 5.820872519435047, 6.042241241137343, 8.604986567941536, 54919.81835851455, 7.752806192075716]\n",
      "0.5369473684210525\n",
      "(u)' = -1.333 1/(1 + u^1) + 1.173 1/(1 + v^1) + -7.122 1/(1 + u^2) + 5.296 1/(1 + v^2) + 8.911 1/(1 + u^3) + -14.744 1/(1 + v^3) + 6.840 1/(1 + u^4) + -9.290 1/(1 + v^4) + -8.182 1/(1 + u^5) + 18.670 1/(1 + v^5)\n",
      "(v)' = 0.697 u + -1.350 1/(1 + v^1) + 1.944 1/(1 + u^2) + -9.186 1/(1 + v^2) + -9.195 1/(1 + u^3) + 5.520 1/(1 + v^3) + -7.743 1/(1 + u^4) + 6.578 1/(1 + v^4) + 15.344 1/(1 + u^5) + -2.501 1/(1 + v^5)\n",
      "[2.02509684 3.00322762]\n",
      "[3.76202857 2.18043422]\n",
      "[2.5667126  2.18684537]\n",
      "[0.31497897 3.80047259]\n",
      "[0.75834496 1.36487447]\n",
      "[2.45842811 1.43859345]\n",
      "[1.44206144 0.49745614]\n",
      "[1.30406876 1.95030417]\n",
      "[2.06108279 1.81331975]\n",
      "[1.95428241 3.69742737]\n",
      "[3.62438987 2.64272581]\n",
      "[1.23739272 2.27084102]\n",
      "[0.68504378 0.09415168]\n",
      "[2.14858937 1.13850504]\n",
      "[3.02416868 2.4618377 ]\n",
      "[0.13497447 0.96337779]\n",
      "[3.30529246 4.60109906]\n",
      "[0.78247674 1.06464271]\n",
      "[4.59193883 4.56665017]\n",
      "[0.98168913 0.42179265]\n",
      "[2.62938407 3.60267814]\n",
      "[0.6397077  1.61352554]\n",
      "[1.36425646 0.15345143]\n",
      "[3.08006486 1.07850664]\n",
      "[0.67606689 1.27723107]\n",
      "[4.30417165 2.98725445]\n",
      "[3.16202148 4.59051787]\n",
      "[2.9953268  1.61409867]\n",
      "[4.02420051 3.45458634]\n",
      "[3.21183432 1.42490988]\n",
      "List for sigma=0.5369473684210525: [0.006955213707520929, 0.09245692292161539, 0.19567288261280327, 0.1318310241574493, 0.17488449289923327, 6.829428457580093, 1.8291053066053333, 0.4122520163228721, 2.5592465216964606, 0.48098181071843293, 5.136240016817402, 2.603137111025691, 5.820872519435047, 6.042241241137343, 8.604986567941536, 54919.81835851455, 7.752806192075716, 19.528181061843956]\n",
      "0.5684736842105262\n",
      "(u)' = -2.655 1/(1 + u^1) + 0.930 1/(1 + v^1) + -4.738 1/(1 + v^2) + 13.228 1/(1 + u^3) + 1.137 1/(1 + v^3) + -1.663 1/(1 + u^4) + 8.852 1/(1 + v^4) + -8.771 1/(1 + u^5) + -6.553 1/(1 + v^5)\n",
      "(v)' = 2.432 1/(1 + u^1) + -1.072 1/(1 + v^1) + 3.290 1/(1 + u^2) + -6.426 1/(1 + v^2) + -10.457 1/(1 + u^3) + 1.522 1/(1 + v^3) + 1.232 1/(1 + u^4) + 1.619 1/(1 + v^4) + 5.266 1/(1 + u^5) + 2.832 1/(1 + v^5)\n",
      "[2.02509684 3.00322762]\n",
      "[3.76202857 2.18043422]\n",
      "[2.5667126  2.18684537]\n",
      "[0.31497897 3.80047259]\n",
      "[0.75834496 1.36487447]\n",
      "[2.45842811 1.43859345]\n",
      "[1.44206144 0.49745614]\n",
      "[1.30406876 1.95030417]\n",
      "[2.06108279 1.81331975]\n",
      "[1.95428241 3.69742737]\n",
      "[3.62438987 2.64272581]\n",
      "[1.23739272 2.27084102]\n",
      "[0.68504378 0.09415168]\n",
      "[2.14858937 1.13850504]\n",
      "[3.02416868 2.4618377 ]\n",
      "[0.13497447 0.96337779]\n",
      "[3.30529246 4.60109906]\n",
      "[0.78247674 1.06464271]\n",
      "[4.59193883 4.56665017]\n",
      "[0.98168913 0.42179265]\n",
      "[2.62938407 3.60267814]\n",
      "[0.6397077  1.61352554]\n",
      "[1.36425646 0.15345143]\n",
      "[3.08006486 1.07850664]\n",
      "[0.67606689 1.27723107]\n",
      "[4.30417165 2.98725445]\n",
      "[3.16202148 4.59051787]\n",
      "[2.9953268  1.61409867]\n",
      "[4.02420051 3.45458634]\n",
      "[3.21183432 1.42490988]\n",
      "List for sigma=0.5684736842105262: [0.006955213707520929, 0.09245692292161539, 0.19567288261280327, 0.1318310241574493, 0.17488449289923327, 6.829428457580093, 1.8291053066053333, 0.4122520163228721, 2.5592465216964606, 0.48098181071843293, 5.136240016817402, 2.603137111025691, 5.820872519435047, 6.042241241137343, 8.604986567941536, 54919.81835851455, 7.752806192075716, 19.528181061843956, 6.505633699756212]\n",
      "0.6\n",
      "(u)' = 4.201 1/(1 + u^1) + -1.025 1/(1 + v^1) + -3.819 1/(1 + u^2) + 5.148 1/(1 + v^2) + -23.573 1/(1 + u^3) + 1.067 1/(1 + v^3) + 3.554 1/(1 + u^4) + -6.892 1/(1 + v^4) + 18.264 1/(1 + u^5) + 3.350 1/(1 + v^5)\n",
      "(v)' = -1.705 1/(1 + u^1) + 3.919 1/(1 + v^1) + 6.003 1/(1 + u^2) + -1.394 1/(1 + v^2) + 7.513 1/(1 + u^3) + -21.470 1/(1 + v^3) + -6.681 1/(1 + u^4) + 1.645 1/(1 + v^4) + -3.999 1/(1 + u^5) + 16.190 1/(1 + v^5)\n",
      "[2.02509684 3.00322762]\n",
      "[3.76202857 2.18043422]\n",
      "[2.5667126  2.18684537]\n",
      "[0.31497897 3.80047259]\n",
      "[0.75834496 1.36487447]\n",
      "[2.45842811 1.43859345]\n",
      "[1.44206144 0.49745614]\n",
      "[1.30406876 1.95030417]\n",
      "[2.06108279 1.81331975]\n",
      "[1.95428241 3.69742737]\n",
      "[3.62438987 2.64272581]\n",
      "[1.23739272 2.27084102]\n",
      "[0.68504378 0.09415168]\n",
      "[2.14858937 1.13850504]\n",
      "[3.02416868 2.4618377 ]\n",
      "[0.13497447 0.96337779]\n",
      "[3.30529246 4.60109906]\n",
      "[0.78247674 1.06464271]\n",
      "[4.59193883 4.56665017]\n",
      "[0.98168913 0.42179265]\n",
      "[2.62938407 3.60267814]\n",
      "[0.6397077  1.61352554]\n",
      "[1.36425646 0.15345143]\n",
      "[3.08006486 1.07850664]\n",
      "[0.67606689 1.27723107]\n",
      "[4.30417165 2.98725445]\n",
      "[3.16202148 4.59051787]\n",
      "[2.9953268  1.61409867]\n",
      "[4.02420051 3.45458634]\n",
      "[3.21183432 1.42490988]\n",
      "List for sigma=0.6: [0.006955213707520929, 0.09245692292161539, 0.19567288261280327, 0.1318310241574493, 0.17488449289923327, 6.829428457580093, 1.8291053066053333, 0.4122520163228721, 2.5592465216964606, 0.48098181071843293, 5.136240016817402, 2.603137111025691, 5.820872519435047, 6.042241241137343, 8.604986567941536, 54919.81835851455, 7.752806192075716, 19.528181061843956, 6.505633699756212, 39.780524145257104]\n",
      "[0.001      0.03252632 0.06405263 0.09557895 0.12710526 0.15863158\n",
      " 0.19015789 0.22168421 0.25321053 0.28473684 0.31626316 0.34778947\n",
      " 0.37931579 0.41084211 0.44236842 0.47389474 0.50542105 0.53694737\n",
      " 0.56847368 0.6       ]\n",
      "[0.006955213707520929, 0.09245692292161539, 0.19567288261280327, 0.1318310241574493, 0.17488449289923327, 6.829428457580093, 1.8291053066053333, 0.4122520163228721, 2.5592465216964606, 0.48098181071843293, 5.136240016817402, 2.603137111025691, 5.820872519435047, 6.042241241137343, 8.604986567941536, 54919.81835851455, 7.752806192075716, 19.528181061843956, 6.505633699756212, 39.780524145257104]\n"
     ]
    },
    {
     "data": {
      "text/plain": [
       "Text(0.5, 0.98, 'Mean Squared Error vs. Standard Deviation in Gaussian Noise')"
      ]
     },
     "execution_count": 26,
     "metadata": {},
     "output_type": "execute_result"
    },
    {
     "data": {
      "image/png": "[encoded data removed]",
      "text/plain": [
       "<Figure size 432x288 with 1 Axes>"
      ]
     },
     "metadata": {
      "needs_background": "light"
     },
     "output_type": "display_data"
    }
   ],
   "source": [
    "# troubleshoot/debug\n",
    "# train models\n",
    "MSE_list = []\n",
    "for j in range(len(sigma_list)):\n",
    "    sigma = np.zeros((feature_count, feature_count))\n",
    "    sigmaVal = sigma_list[j]\n",
    "    np.fill_diagonal(sigma, sigmaVal)\n",
    "    print(sigmaVal)\n",
    "    #noise = np.random.multivariate_normal(mu, sigma**2, (n_of_ic, len(tvals)))\n",
    "    noise = cn.powerlaw_psd_gaussian(beta, (n_of_ic, len(tvals), feature_count)) * (sigmaVal + 0.03)\n",
    "    model = ps.SINDy(feature_names=['u', 'v'], optimizer=sparse_regression_optimizer, feature_library=netswitch_library)\n",
    "    model.fit(list(netswitch_train_multi + noise), t=dt, multiple_trajectories=True)\n",
    "    model.print()\n",
    "    simulations = []\n",
    "    # create simulations list to hold simulated data for corresponding IC\n",
    "    for k in range(n_of_ic):\n",
    "        # problem area with warnings\n",
    "        print(netswitch_x0s[k])\n",
    "        netswitch_sim = model.simulate(netswitch_x0s[k], t=tvals, integrator=\"odeint\", integrator_kws=integrator_keywords)\n",
    "        simulations.append(netswitch_sim) \n",
    "    MSE = np.square(np.subtract(netswitch_train_multi, simulations)).sum() / (len(tvals) * feature_count * n_of_ic)\n",
    "    MSE_list.append(MSE)\n",
    "    print(f\"List for sigma={sigmaVal}: {MSE_list}\")\n",
    "print(sigma_list)\n",
    "print(MSE_list)\n",
    "axs.plot(sigma_list, MSE_list)\n",
    "axs.set(xlabel=\"$\\sigma$\", ylabel=\"MSE\")\n",
    "plt.grid(True)\n",
    "plt.xlabel(\"$\\sigma$\", fontsize=24)\n",
    "plt.ylabel(\"MSE\", fontsize=24)\n",
    "fig.suptitle('Mean Squared Error vs. Standard Deviation in Gaussian Noise', fontsize=28)\n",
    "#plt.yscale('log')"
   ]
  },
  {
   "cell_type": "code",
   "execution_count": 29,
   "id": "4a8ed0f9",
   "metadata": {},
   "outputs": [
    {
     "data": {
      "image/png": "[encoded data removed]",
      "text/plain": [
       "<Figure size 720x576 with 1 Axes>"
      ]
     },
     "metadata": {
      "needs_background": "light"
     },
     "output_type": "display_data"
    }
   ],
   "source": [
    "fig, axs = plt.subplots(figsize=(10,8))\n",
    "axs.plot(sigma_list, MSE_list)\n",
    "axs.set(xlabel=\"$\\sigma$\", ylabel=\"MSE\")\n",
    "plt.grid(True)\n",
    "plt.xlabel(\"$\\sigma$\", fontsize=24)\n",
    "plt.ylabel(\"MSE\", fontsize=24)\n",
    "fig.suptitle('Mean Squared Error vs. Standard Deviation in Gaussian Noise', fontsize=28)\n",
    "plt.yscale('log')"
   ]
  },
  {
   "cell_type": "code",
   "execution_count": 6,
   "id": "99c42c13",
   "metadata": {},
   "outputs": [
    {
     "name": "stdout",
     "output_type": "stream",
     "text": [
      "0.001\n",
      "(u)' = -1.072 u + 7.001 1/(1 + u^1) + -3.777 1/(1 + v^1) + -8.236 1/(1 + u^2) + 13.636 1/(1 + v^2) + -17.845 1/(1 + v^3) + 2.738 1/(1 + u^4) + 7.562 1/(1 + v^4) + 0.133 1/(1 + v^5)\n",
      "(v)' = -1.026 v + -7.046 1/(1 + u^1) + 41.285 1/(1 + u^2) + -8.947 1/(1 + v^2) + -88.352 1/(1 + u^3) + 37.776 1/(1 + v^3) + 85.457 1/(1 + u^4) + -49.521 1/(1 + v^4) + -30.327 1/(1 + u^5) + 20.735 1/(1 + v^5)\n",
      "0.06755555555555555\n",
      "(u)' = -0.813 u + 5.615 1/(1 + u^1) + -2.469 1/(1 + v^1) + -30.482 1/(1 + u^2) + 13.259 1/(1 + v^2) + 65.847 1/(1 + u^3) + -7.969 1/(1 + v^3) + -71.226 1/(1 + u^4) + -15.397 1/(1 + v^4) + 30.278 1/(1 + u^5) + 13.008 1/(1 + v^5)\n",
      "(v)' = -1.081 v + 0.609 1/(1 + u^1) + 4.167 1/(1 + v^1) + 4.745 1/(1 + u^2) + -5.514 1/(1 + v^2) + -6.820 1/(1 + u^3) + -13.397 1/(1 + v^3) + -0.162 1/(1 + u^4) + 31.194 1/(1 + v^4) + 3.319 1/(1 + u^5) + -16.818 1/(1 + v^5)\n",
      "0.1341111111111111\n",
      "(u)' = -1.369 u + 0.894 v + 3.030 1/(1 + v^1) + -7.303 1/(1 + u^2) + 4.579 1/(1 + u^3) + -8.582 1/(1 + v^3) + 5.628 1/(1 + u^4) + 14.717 1/(1 + v^4) + -5.449 1/(1 + u^5) + -6.270 1/(1 + v^5)\n",
      "(v)' = -0.679 v + 6.947 1/(1 + u^2) + 3.481 1/(1 + v^2) + -6.376 1/(1 + u^3) + -1.943 1/(1 + v^3) + -9.603 1/(1 + u^4) + -3.956 1/(1 + v^4) + 9.848 1/(1 + u^5) + 2.551 1/(1 + v^5)\n",
      "0.20066666666666666\n",
      "(u)' = -2.012 u + 1.620 v + -2.025 1/(1 + u^1) + 1.784 1/(1 + v^1) + -2.842 1/(1 + v^2) + 2.750 1/(1 + u^3) + 2.055 1/(1 + v^3) + -9.989 1/(1 + u^4) + 15.632 1/(1 + v^4) + 5.591 1/(1 + u^5) + -12.750 1/(1 + v^5)\n",
      "(v)' = 1.317 1/(1 + u^1) + -1.706 1/(1 + v^1) + -0.752 1/(1 + u^2) + -5.243 1/(1 + u^3) + 5.671 1/(1 + v^3) + 2.406 1/(1 + u^4) + -4.092 1/(1 + v^4) + 2.190 1/(1 + u^5)\n",
      "0.2672222222222222\n",
      "(u)' = -0.891 u + 0.841 v + -2.895 1/(1 + u^1) + 2.637 1/(1 + v^1) + -3.319 1/(1 + u^2) + -1.096 1/(1 + v^2) + 7.862 1/(1 + u^3) + -6.545 1/(1 + v^3) + -4.951 1/(1 + u^4) + 8.976 1/(1 + v^4) + 1.397 1/(1 + u^5) + -2.419 1/(1 + v^5)\n",
      "(v)' = -3.595 1/(1 + v^1) + -4.439 1/(1 + u^2) + 2.082 1/(1 + v^2) + 2.439 1/(1 + u^3) + 9.672 1/(1 + v^3) + 5.650 1/(1 + u^4) + -9.894 1/(1 + v^4) + -4.025 1/(1 + u^5) + 1.924 1/(1 + v^5)\n",
      "0.33377777777777773\n",
      "(u)' = -0.917 v + 1.524 1/(1 + u^1) + -0.616 1/(1 + u^2) + -1.074 1/(1 + u^3) + 3.624 1/(1 + v^3) + 6.962 1/(1 + u^4) + 2.237 1/(1 + v^4) + -5.880 1/(1 + u^5) + -6.012 1/(1 + v^5)\n",
      "(v)' = 0.984 1/(1 + u^1) + -1.258 1/(1 + v^1) + 8.292 1/(1 + u^2) + -11.254 1/(1 + v^2) + -8.191 1/(1 + u^3) + 14.971 1/(1 + v^3) + -9.210 1/(1 + u^4) + 15.385 1/(1 + v^4) + 8.773 1/(1 + u^5) + -18.634 1/(1 + v^5)\n"
     ]
    },
    {
     "name": "stderr",
     "output_type": "stream",
     "text": [
      "C:\\Users\\UserALai\\miniconda3\\lib\\site-packages\\scipy\\integrate\\_odepack_py.py:247: ODEintWarning: Excess work done on this call (perhaps wrong Dfun type). Run with full_output = 1 to get quantitative information.\n",
      "  warnings.warn(warning_msg, ODEintWarning)\n",
      "C:\\Users\\UserALai\\miniconda3\\lib\\site-packages\\scipy\\integrate\\_odepack_py.py:247: ODEintWarning: Excess work done on this call (perhaps wrong Dfun type). Run with full_output = 1 to get quantitative information.\n",
      "  warnings.warn(warning_msg, ODEintWarning)\n",
      "C:\\Users\\UserALai\\miniconda3\\lib\\site-packages\\scipy\\integrate\\_odepack_py.py:247: ODEintWarning: Excess work done on this call (perhaps wrong Dfun type). Run with full_output = 1 to get quantitative information.\n",
      "  warnings.warn(warning_msg, ODEintWarning)\n",
      "C:\\Users\\UserALai\\miniconda3\\lib\\site-packages\\scipy\\integrate\\_odepack_py.py:247: ODEintWarning: Excess work done on this call (perhaps wrong Dfun type). Run with full_output = 1 to get quantitative information.\n",
      "  warnings.warn(warning_msg, ODEintWarning)\n",
      "C:\\Users\\UserALai\\miniconda3\\lib\\site-packages\\scipy\\integrate\\_odepack_py.py:247: ODEintWarning: Excess work done on this call (perhaps wrong Dfun type). Run with full_output = 1 to get quantitative information.\n",
      "  warnings.warn(warning_msg, ODEintWarning)\n"
     ]
    },
    {
     "name": "stdout",
     "output_type": "stream",
     "text": [
      "0.4003333333333333\n",
      "(u)' = 0.947 v + -5.166 1/(1 + u^1) + -2.085 1/(1 + v^1) + -18.512 1/(1 + u^2) + -12.478 1/(1 + v^2) + 36.144 1/(1 + u^3) + 14.365 1/(1 + v^3) + 21.129 1/(1 + u^4) + 12.561 1/(1 + v^4) + -34.393 1/(1 + u^5) + -13.531 1/(1 + v^5)\n",
      "(v)' = -0.737 u + -0.821 1/(1 + v^1) + -3.166 1/(1 + u^2) + 5.653 1/(1 + v^2) + 2.933 1/(1 + u^3) + 4.905 1/(1 + u^4) + -8.086 1/(1 + v^4) + -4.879 1/(1 + u^5) + 4.085 1/(1 + v^5)\n"
     ]
    },
    {
     "name": "stderr",
     "output_type": "stream",
     "text": [
      "C:\\Users\\UserALai\\miniconda3\\lib\\site-packages\\scipy\\integrate\\_odepack_py.py:247: ODEintWarning: Excess work done on this call (perhaps wrong Dfun type). Run with full_output = 1 to get quantitative information.\n",
      "  warnings.warn(warning_msg, ODEintWarning)\n",
      "C:\\Users\\UserALai\\miniconda3\\lib\\site-packages\\scipy\\integrate\\_odepack_py.py:247: ODEintWarning: Excess work done on this call (perhaps wrong Dfun type). Run with full_output = 1 to get quantitative information.\n",
      "  warnings.warn(warning_msg, ODEintWarning)\n",
      "C:\\Users\\UserALai\\miniconda3\\lib\\site-packages\\scipy\\integrate\\_odepack_py.py:247: ODEintWarning: Excess work done on this call (perhaps wrong Dfun type). Run with full_output = 1 to get quantitative information.\n",
      "  warnings.warn(warning_msg, ODEintWarning)\n",
      "C:\\Users\\UserALai\\miniconda3\\lib\\site-packages\\scipy\\integrate\\_odepack_py.py:247: ODEintWarning: Excess work done on this call (perhaps wrong Dfun type). Run with full_output = 1 to get quantitative information.\n",
      "  warnings.warn(warning_msg, ODEintWarning)\n",
      "C:\\Users\\UserALai\\miniconda3\\lib\\site-packages\\scipy\\integrate\\_odepack_py.py:247: ODEintWarning: Excess work done on this call (perhaps wrong Dfun type). Run with full_output = 1 to get quantitative information.\n",
      "  warnings.warn(warning_msg, ODEintWarning)\n",
      "C:\\Users\\UserALai\\miniconda3\\lib\\site-packages\\scipy\\integrate\\_odepack_py.py:247: ODEintWarning: Excess work done on this call (perhaps wrong Dfun type). Run with full_output = 1 to get quantitative information.\n",
      "  warnings.warn(warning_msg, ODEintWarning)\n",
      "C:\\Users\\UserALai\\miniconda3\\lib\\site-packages\\scipy\\integrate\\_odepack_py.py:247: ODEintWarning: Excess work done on this call (perhaps wrong Dfun type). Run with full_output = 1 to get quantitative information.\n",
      "  warnings.warn(warning_msg, ODEintWarning)\n",
      "C:\\Users\\UserALai\\miniconda3\\lib\\site-packages\\scipy\\integrate\\_odepack_py.py:247: ODEintWarning: Excess work done on this call (perhaps wrong Dfun type). Run with full_output = 1 to get quantitative information.\n",
      "  warnings.warn(warning_msg, ODEintWarning)\n",
      "C:\\Users\\UserALai\\miniconda3\\lib\\site-packages\\scipy\\integrate\\_odepack_py.py:247: ODEintWarning: Excess work done on this call (perhaps wrong Dfun type). Run with full_output = 1 to get quantitative information.\n",
      "  warnings.warn(warning_msg, ODEintWarning)\n",
      "C:\\Users\\UserALai\\miniconda3\\lib\\site-packages\\scipy\\integrate\\_odepack_py.py:247: ODEintWarning: Excess work done on this call (perhaps wrong Dfun type). Run with full_output = 1 to get quantitative information.\n",
      "  warnings.warn(warning_msg, ODEintWarning)\n",
      "C:\\Users\\UserALai\\miniconda3\\lib\\site-packages\\scipy\\integrate\\_odepack_py.py:247: ODEintWarning: Excess work done on this call (perhaps wrong Dfun type). Run with full_output = 1 to get quantitative information.\n",
      "  warnings.warn(warning_msg, ODEintWarning)\n",
      "C:\\Users\\UserALai\\miniconda3\\lib\\site-packages\\scipy\\integrate\\_odepack_py.py:247: ODEintWarning: Excess work done on this call (perhaps wrong Dfun type). Run with full_output = 1 to get quantitative information.\n",
      "  warnings.warn(warning_msg, ODEintWarning)\n"
     ]
    },
    {
     "name": "stdout",
     "output_type": "stream",
     "text": [
      "0.46688888888888885\n",
      "(u)' = -4.770 1/(1 + u^1) + 1.236 1/(1 + v^1) + -9.648 1/(1 + u^2) + 13.013 1/(1 + v^2) + 20.814 1/(1 + u^3) + -15.740 1/(1 + v^3) + 3.921 1/(1 + u^4) + -17.809 1/(1 + v^4) + -10.840 1/(1 + u^5) + 20.053 1/(1 + v^5)\n",
      "(v)' = 2.102 1/(1 + u^1) + 1.673 1/(1 + v^1) + -3.098 1/(1 + u^2) + -1.672 1/(1 + v^2) + -11.714 1/(1 + u^3) + -5.017 1/(1 + v^3) + 3.403 1/(1 + u^4) + 5.117 1/(1 + v^4) + 9.023 1/(1 + u^5)\n",
      "0.5334444444444444\n",
      "(u)' = -6.761 1/(1 + u^1) + 4.627 1/(1 + v^1) + -13.854 1/(1 + u^2) + 12.201 1/(1 + v^2) + 36.209 1/(1 + u^3) + -28.577 1/(1 + v^3) + 9.974 1/(1 + u^4) + -11.961 1/(1 + v^4) + -26.539 1/(1 + u^5) + 24.489 1/(1 + v^5)\n",
      "(v)' = -1.171 1/(1 + u^1) + -1.300 1/(1 + v^1) + -5.902 1/(1 + u^2) + -4.424 1/(1 + v^2) + 7.837 1/(1 + v^3) + 0.658 1/(1 + u^4) + 5.306 1/(1 + v^4) + 5.851 1/(1 + u^5) + -6.561 1/(1 + v^5)\n",
      "0.6\n",
      "(u)' = -5.401 1/(1 + v^1) + 4.725 1/(1 + u^2) + -11.873 1/(1 + v^2) + 1.496 1/(1 + u^3) + 30.882 1/(1 + v^3) + -2.876 1/(1 + u^4) + 9.609 1/(1 + v^4) + -2.497 1/(1 + u^5) + -24.498 1/(1 + v^5)\n",
      "(v)' = -1.875 1/(1 + u^1) + -6.055 1/(1 + v^1) + -1.397 1/(1 + u^2) + -12.938 1/(1 + v^2) + 7.004 1/(1 + u^3) + 32.295 1/(1 + v^3) + 9.028 1/(1 + v^4) + -2.296 1/(1 + u^5) + -23.529 1/(1 + v^5)\n"
     ]
    },
    {
     "name": "stderr",
     "output_type": "stream",
     "text": [
      "C:\\Users\\UserALai\\miniconda3\\lib\\site-packages\\scipy\\integrate\\_odepack_py.py:247: ODEintWarning: Excess work done on this call (perhaps wrong Dfun type). Run with full_output = 1 to get quantitative information.\n",
      "  warnings.warn(warning_msg, ODEintWarning)\n",
      "C:\\Users\\UserALai\\miniconda3\\lib\\site-packages\\scipy\\integrate\\_odepack_py.py:247: ODEintWarning: Excess work done on this call (perhaps wrong Dfun type). Run with full_output = 1 to get quantitative information.\n",
      "  warnings.warn(warning_msg, ODEintWarning)\n",
      "C:\\Users\\UserALai\\miniconda3\\lib\\site-packages\\scipy\\integrate\\_odepack_py.py:247: ODEintWarning: Excess work done on this call (perhaps wrong Dfun type). Run with full_output = 1 to get quantitative information.\n",
      "  warnings.warn(warning_msg, ODEintWarning)\n",
      "C:\\Users\\UserALai\\miniconda3\\lib\\site-packages\\scipy\\integrate\\_odepack_py.py:247: ODEintWarning: Excess work done on this call (perhaps wrong Dfun type). Run with full_output = 1 to get quantitative information.\n",
      "  warnings.warn(warning_msg, ODEintWarning)\n",
      "C:\\Users\\UserALai\\miniconda3\\lib\\site-packages\\scipy\\integrate\\_odepack_py.py:247: ODEintWarning: Excess work done on this call (perhaps wrong Dfun type). Run with full_output = 1 to get quantitative information.\n",
      "  warnings.warn(warning_msg, ODEintWarning)\n",
      "C:\\Users\\UserALai\\miniconda3\\lib\\site-packages\\scipy\\integrate\\_odepack_py.py:247: ODEintWarning: Excess work done on this call (perhaps wrong Dfun type). Run with full_output = 1 to get quantitative information.\n",
      "  warnings.warn(warning_msg, ODEintWarning)\n",
      "C:\\Users\\UserALai\\miniconda3\\lib\\site-packages\\scipy\\integrate\\_odepack_py.py:247: ODEintWarning: Excess work done on this call (perhaps wrong Dfun type). Run with full_output = 1 to get quantitative information.\n",
      "  warnings.warn(warning_msg, ODEintWarning)\n"
     ]
    },
    {
     "name": "stdout",
     "output_type": "stream",
     "text": [
      "[0.001      0.06755556 0.13411111 0.20066667 0.26722222 0.33377778\n",
      " 0.40033333 0.46688889 0.53344444 0.6       ]\n",
      "[0.0010550913954350727, 0.11063429336984976, 0.11868538277051725, 0.7816262365161329, 0.30424318340607276, 1.4730096952090788, 1.2042068082046127, 0.9676818579026083, 2.7954007861098384, 10.03425205378798]\n",
      "0.001\n",
      "(u)' = -1.288 u + 12.079 1/(1 + u^1) + 0.109 1/(1 + v^1) + -17.031 1/(1 + u^2) + -1.079 1/(1 + v^2) + 0.653 1/(1 + v^3) + 14.502 1/(1 + u^4) + -7.494 1/(1 + u^5)\n",
      "(v)' = -1.308 v + 7.359 1/(1 + u^1) + 1.905 1/(1 + v^1) + -6.375 1/(1 + u^2) + -20.192 1/(1 + v^2) + 50.708 1/(1 + v^3) + 2.107 1/(1 + u^4) + -54.435 1/(1 + v^4) + 20.706 1/(1 + v^5)\n",
      "0.06755555555555555\n",
      "(u)' = -0.962 u + 4.139 1/(1 + u^1) + 5.596 1/(1 + v^1) + -53.413 1/(1 + u^2) + -1.316 1/(1 + v^2) + 160.439 1/(1 + u^3) + -196.595 1/(1 + u^4) + -9.948 1/(1 + v^4) + 84.230 1/(1 + u^5) + 7.807 1/(1 + v^5)\n",
      "(v)' = -1.190 v + -1.982 1/(1 + u^1) + 1.995 1/(1 + v^1) + 29.303 1/(1 + u^2) + -2.828 1/(1 + v^2) + -89.684 1/(1 + u^3) + 14.808 1/(1 + v^3) + 111.326 1/(1 + u^4) + -26.285 1/(1 + v^4) + -47.510 1/(1 + u^5) + 12.516 1/(1 + v^5)\n",
      "0.1341111111111111\n",
      "(u)' = -1.567 u + 1.040 v + -1.930 1/(1 + u^1) + -1.036 1/(1 + v^1) + 10.329 1/(1 + v^2) + 3.919 1/(1 + u^3) + 2.571 1/(1 + v^3) + -10.066 1/(1 + u^4) + -22.602 1/(1 + v^4) + 5.654 1/(1 + u^5) + 13.660 1/(1 + v^5)\n",
      "(v)' = -0.818 v + 1.328 1/(1 + u^1) + 2.704 1/(1 + v^1) + 4.732 1/(1 + u^2) + -8.378 1/(1 + u^3) + -7.951 1/(1 + v^3) + -2.067 1/(1 + u^4) + 3.567 1/(1 + v^4) + 5.825 1/(1 + u^5) + 1.245 1/(1 + v^5)\n",
      "0.20066666666666666\n",
      "(u)' = -1.365 u + 1.010 v + -0.913 1/(1 + v^1) + 2.787 1/(1 + u^2) + -5.262 1/(1 + v^2) + -5.942 1/(1 + u^3) + 10.824 1/(1 + v^3) + -8.355 1/(1 + u^4) + 9.572 1/(1 + v^4) + 9.389 1/(1 + u^5) + -12.016 1/(1 + v^5)\n",
      "(v)' = 1.959 1/(1 + u^1) + -2.017 1/(1 + v^1) + 5.356 1/(1 + u^2) + -15.433 1/(1 + v^2) + -10.603 1/(1 + u^3) + 19.662 1/(1 + v^3) + -4.159 1/(1 + u^4) + 19.571 1/(1 + v^4) + 8.079 1/(1 + u^5) + -22.782 1/(1 + v^5)\n",
      "0.2672222222222222\n",
      "(u)' = -1.452 u + 0.961 v + 1.632 1/(1 + u^1) + 12.420 1/(1 + u^2) + -1.988 1/(1 + v^2) + -20.965 1/(1 + u^3) + 3.610 1/(1 + v^3) + -21.967 1/(1 + u^4) + 7.288 1/(1 + v^4) + 26.792 1/(1 + u^5) + -6.266 1/(1 + v^5)\n",
      "(v)' = -0.813 1/(1 + u^1) + 2.094 1/(1 + v^1) + 0.951 1/(1 + u^2) + -5.219 1/(1 + v^2) + 5.687 1/(1 + u^3) + -3.755 1/(1 + v^3) + 10.542 1/(1 + v^4) + -5.421 1/(1 + u^5) + -4.219 1/(1 + v^5)\n",
      "0.33377777777777773\n",
      "(u)' = 1.720 1/(1 + v^1) + 0.728 1/(1 + u^2) + 1.252 1/(1 + u^3) + -5.803 1/(1 + v^3) + 3.184 1/(1 + v^4) + -2.101 1/(1 + u^5) + 1.055 1/(1 + v^5)\n",
      "(v)' = -0.790 1/(1 + v^1) + -4.145 1/(1 + u^2) + 5.817 1/(1 + v^2) + -3.229 1/(1 + v^3) + 3.317 1/(1 + u^4) + -10.271 1/(1 + v^4) + 9.300 1/(1 + v^5)\n"
     ]
    },
    {
     "name": "stderr",
     "output_type": "stream",
     "text": [
      "C:\\Users\\UserALai\\miniconda3\\lib\\site-packages\\scipy\\integrate\\_odepack_py.py:247: ODEintWarning: Excess work done on this call (perhaps wrong Dfun type). Run with full_output = 1 to get quantitative information.\n",
      "  warnings.warn(warning_msg, ODEintWarning)\n",
      "C:\\Users\\UserALai\\miniconda3\\lib\\site-packages\\scipy\\integrate\\_odepack_py.py:247: ODEintWarning: Excess work done on this call (perhaps wrong Dfun type). Run with full_output = 1 to get quantitative information.\n",
      "  warnings.warn(warning_msg, ODEintWarning)\n",
      "C:\\Users\\UserALai\\miniconda3\\lib\\site-packages\\scipy\\integrate\\_odepack_py.py:247: ODEintWarning: Excess work done on this call (perhaps wrong Dfun type). Run with full_output = 1 to get quantitative information.\n",
      "  warnings.warn(warning_msg, ODEintWarning)\n"
     ]
    },
    {
     "name": "stdout",
     "output_type": "stream",
     "text": [
      "0.4003333333333333\n",
      "(u)' = -0.901 1/(1 + u^1) + 5.666 1/(1 + u^2) + -12.482 1/(1 + v^2) + 2.702 1/(1 + u^3) + 8.343 1/(1 + v^3) + -5.777 1/(1 + u^4) + 15.977 1/(1 + v^4) + -13.918 1/(1 + v^5)\n",
      "(v)' = -1.971 1/(1 + u^1) + 2.716 1/(1 + v^1) + -12.033 1/(1 + u^2) + 3.149 1/(1 + v^2) + 17.073 1/(1 + u^3) + -7.013 1/(1 + v^3) + 14.083 1/(1 + u^4) + 4.166 1/(1 + v^4) + -18.599 1/(1 + u^5) + -1.863 1/(1 + v^5)\n",
      "0.46688888888888885\n",
      "(u)' = 3.313 1/(1 + u^1) + 17.619 1/(1 + u^2) + -8.362 1/(1 + v^2) + -18.884 1/(1 + u^3) + -1.620 1/(1 + v^3) + -14.752 1/(1 + u^4) + 5.053 1/(1 + v^4) + 14.910 1/(1 + u^5) + 2.718 1/(1 + v^5)\n",
      "(v)' = -1.937 1/(1 + u^1) + 1.608 1/(1 + v^1) + 3.369 1/(1 + u^2) + 1.528 1/(1 + v^2) + 9.590 1/(1 + u^3) + -13.730 1/(1 + v^3) + -3.051 1/(1 + u^4) + -6.000 1/(1 + v^4) + -6.288 1/(1 + u^5) + 14.839 1/(1 + v^5)\n"
     ]
    },
    {
     "name": "stderr",
     "output_type": "stream",
     "text": [
      "C:\\Users\\UserALai\\miniconda3\\lib\\site-packages\\scipy\\integrate\\_odepack_py.py:247: ODEintWarning: Excess work done on this call (perhaps wrong Dfun type). Run with full_output = 1 to get quantitative information.\n",
      "  warnings.warn(warning_msg, ODEintWarning)\n",
      "C:\\Users\\UserALai\\miniconda3\\lib\\site-packages\\scipy\\integrate\\_odepack_py.py:247: ODEintWarning: Excess work done on this call (perhaps wrong Dfun type). Run with full_output = 1 to get quantitative information.\n",
      "  warnings.warn(warning_msg, ODEintWarning)\n",
      "C:\\Users\\UserALai\\miniconda3\\lib\\site-packages\\scipy\\integrate\\_odepack_py.py:247: ODEintWarning: Excess work done on this call (perhaps wrong Dfun type). Run with full_output = 1 to get quantitative information.\n",
      "  warnings.warn(warning_msg, ODEintWarning)\n",
      "C:\\Users\\UserALai\\miniconda3\\lib\\site-packages\\scipy\\integrate\\_odepack_py.py:247: ODEintWarning: Excess work done on this call (perhaps wrong Dfun type). Run with full_output = 1 to get quantitative information.\n",
      "  warnings.warn(warning_msg, ODEintWarning)\n",
      "C:\\Users\\UserALai\\miniconda3\\lib\\site-packages\\scipy\\integrate\\_odepack_py.py:247: ODEintWarning: Excess work done on this call (perhaps wrong Dfun type). Run with full_output = 1 to get quantitative information.\n",
      "  warnings.warn(warning_msg, ODEintWarning)\n",
      "C:\\Users\\UserALai\\miniconda3\\lib\\site-packages\\scipy\\integrate\\_odepack_py.py:247: ODEintWarning: Excess work done on this call (perhaps wrong Dfun type). Run with full_output = 1 to get quantitative information.\n",
      "  warnings.warn(warning_msg, ODEintWarning)\n",
      "C:\\Users\\UserALai\\miniconda3\\lib\\site-packages\\scipy\\integrate\\_odepack_py.py:247: ODEintWarning: Excess work done on this call (perhaps wrong Dfun type). Run with full_output = 1 to get quantitative information.\n",
      "  warnings.warn(warning_msg, ODEintWarning)\n",
      "C:\\Users\\UserALai\\miniconda3\\lib\\site-packages\\scipy\\integrate\\_odepack_py.py:247: ODEintWarning: Excess work done on this call (perhaps wrong Dfun type). Run with full_output = 1 to get quantitative information.\n",
      "  warnings.warn(warning_msg, ODEintWarning)\n",
      "C:\\Users\\UserALai\\miniconda3\\lib\\site-packages\\scipy\\integrate\\_odepack_py.py:247: ODEintWarning: Excess work done on this call (perhaps wrong Dfun type). Run with full_output = 1 to get quantitative information.\n",
      "  warnings.warn(warning_msg, ODEintWarning)\n",
      "C:\\Users\\UserALai\\miniconda3\\lib\\site-packages\\scipy\\integrate\\_odepack_py.py:247: ODEintWarning: Excess work done on this call (perhaps wrong Dfun type). Run with full_output = 1 to get quantitative information.\n",
      "  warnings.warn(warning_msg, ODEintWarning)\n",
      "C:\\Users\\UserALai\\miniconda3\\lib\\site-packages\\scipy\\integrate\\_odepack_py.py:247: ODEintWarning: Excess work done on this call (perhaps wrong Dfun type). Run with full_output = 1 to get quantitative information.\n",
      "  warnings.warn(warning_msg, ODEintWarning)\n",
      "C:\\Users\\UserALai\\miniconda3\\lib\\site-packages\\scipy\\integrate\\_odepack_py.py:247: ODEintWarning: Excess work done on this call (perhaps wrong Dfun type). Run with full_output = 1 to get quantitative information.\n",
      "  warnings.warn(warning_msg, ODEintWarning)\n",
      "C:\\Users\\UserALai\\miniconda3\\lib\\site-packages\\scipy\\integrate\\_odepack_py.py:247: ODEintWarning: Excess work done on this call (perhaps wrong Dfun type). Run with full_output = 1 to get quantitative information.\n",
      "  warnings.warn(warning_msg, ODEintWarning)\n",
      "C:\\Users\\UserALai\\miniconda3\\lib\\site-packages\\scipy\\integrate\\_odepack_py.py:247: ODEintWarning: Excess work done on this call (perhaps wrong Dfun type). Run with full_output = 1 to get quantitative information.\n",
      "  warnings.warn(warning_msg, ODEintWarning)\n",
      "C:\\Users\\UserALai\\miniconda3\\lib\\site-packages\\scipy\\integrate\\_odepack_py.py:247: ODEintWarning: Excess work done on this call (perhaps wrong Dfun type). Run with full_output = 1 to get quantitative information.\n",
      "  warnings.warn(warning_msg, ODEintWarning)\n",
      "C:\\Users\\UserALai\\miniconda3\\lib\\site-packages\\scipy\\integrate\\_odepack_py.py:247: ODEintWarning: Excess work done on this call (perhaps wrong Dfun type). Run with full_output = 1 to get quantitative information.\n",
      "  warnings.warn(warning_msg, ODEintWarning)\n",
      "C:\\Users\\UserALai\\miniconda3\\lib\\site-packages\\scipy\\integrate\\_odepack_py.py:247: ODEintWarning: Excess work done on this call (perhaps wrong Dfun type). Run with full_output = 1 to get quantitative information.\n",
      "  warnings.warn(warning_msg, ODEintWarning)\n",
      "C:\\Users\\UserALai\\miniconda3\\lib\\site-packages\\scipy\\integrate\\_odepack_py.py:247: ODEintWarning: Excess work done on this call (perhaps wrong Dfun type). Run with full_output = 1 to get quantitative information.\n",
      "  warnings.warn(warning_msg, ODEintWarning)\n"
     ]
    },
    {
     "name": "stdout",
     "output_type": "stream",
     "text": [
      "0.5334444444444444\n",
      "(u)' = -2.165 1/(1 + v^1) + 4.226 1/(1 + u^2) + -7.309 1/(1 + v^2) + 3.521 1/(1 + u^3) + 11.064 1/(1 + v^3) + 3.908 1/(1 + v^4) + -5.869 1/(1 + u^5) + -7.614 1/(1 + v^5)\n",
      "(v)' = -1.304 1/(1 + u^1) + -1.782 1/(1 + v^1) + -8.300 1/(1 + u^2) + 2.851 1/(1 + v^2) + 1.117 1/(1 + u^3) + 3.690 1/(1 + v^3) + 3.031 1/(1 + u^4) + -6.352 1/(1 + v^4) + 4.657 1/(1 + u^5) + 2.754 1/(1 + v^5)\n"
     ]
    },
    {
     "name": "stderr",
     "output_type": "stream",
     "text": [
      "C:\\Users\\UserALai\\miniconda3\\lib\\site-packages\\scipy\\integrate\\_odepack_py.py:247: ODEintWarning: Excess work done on this call (perhaps wrong Dfun type). Run with full_output = 1 to get quantitative information.\n",
      "  warnings.warn(warning_msg, ODEintWarning)\n",
      "C:\\Users\\UserALai\\miniconda3\\lib\\site-packages\\scipy\\integrate\\_odepack_py.py:247: ODEintWarning: Excess work done on this call (perhaps wrong Dfun type). Run with full_output = 1 to get quantitative information.\n",
      "  warnings.warn(warning_msg, ODEintWarning)\n",
      "C:\\Users\\UserALai\\miniconda3\\lib\\site-packages\\scipy\\integrate\\_odepack_py.py:247: ODEintWarning: Excess work done on this call (perhaps wrong Dfun type). Run with full_output = 1 to get quantitative information.\n",
      "  warnings.warn(warning_msg, ODEintWarning)\n",
      "C:\\Users\\UserALai\\miniconda3\\lib\\site-packages\\scipy\\integrate\\_odepack_py.py:247: ODEintWarning: Excess work done on this call (perhaps wrong Dfun type). Run with full_output = 1 to get quantitative information.\n",
      "  warnings.warn(warning_msg, ODEintWarning)\n",
      "C:\\Users\\UserALai\\miniconda3\\lib\\site-packages\\scipy\\integrate\\_odepack_py.py:247: ODEintWarning: Excess work done on this call (perhaps wrong Dfun type). Run with full_output = 1 to get quantitative information.\n",
      "  warnings.warn(warning_msg, ODEintWarning)\n",
      "C:\\Users\\UserALai\\miniconda3\\lib\\site-packages\\scipy\\integrate\\_odepack_py.py:247: ODEintWarning: Excess work done on this call (perhaps wrong Dfun type). Run with full_output = 1 to get quantitative information.\n",
      "  warnings.warn(warning_msg, ODEintWarning)\n",
      "C:\\Users\\UserALai\\miniconda3\\lib\\site-packages\\scipy\\integrate\\_odepack_py.py:247: ODEintWarning: Excess work done on this call (perhaps wrong Dfun type). Run with full_output = 1 to get quantitative information.\n",
      "  warnings.warn(warning_msg, ODEintWarning)\n",
      "C:\\Users\\UserALai\\miniconda3\\lib\\site-packages\\scipy\\integrate\\_odepack_py.py:247: ODEintWarning: Excess work done on this call (perhaps wrong Dfun type). Run with full_output = 1 to get quantitative information.\n",
      "  warnings.warn(warning_msg, ODEintWarning)\n",
      "C:\\Users\\UserALai\\miniconda3\\lib\\site-packages\\scipy\\integrate\\_odepack_py.py:247: ODEintWarning: Excess work done on this call (perhaps wrong Dfun type). Run with full_output = 1 to get quantitative information.\n",
      "  warnings.warn(warning_msg, ODEintWarning)\n",
      "C:\\Users\\UserALai\\miniconda3\\lib\\site-packages\\scipy\\integrate\\_odepack_py.py:247: ODEintWarning: Excess work done on this call (perhaps wrong Dfun type). Run with full_output = 1 to get quantitative information.\n",
      "  warnings.warn(warning_msg, ODEintWarning)\n",
      "C:\\Users\\UserALai\\miniconda3\\lib\\site-packages\\scipy\\integrate\\_odepack_py.py:247: ODEintWarning: Excess work done on this call (perhaps wrong Dfun type). Run with full_output = 1 to get quantitative information.\n",
      "  warnings.warn(warning_msg, ODEintWarning)\n",
      "C:\\Users\\UserALai\\miniconda3\\lib\\site-packages\\scipy\\integrate\\_odepack_py.py:247: ODEintWarning: Excess work done on this call (perhaps wrong Dfun type). Run with full_output = 1 to get quantitative information.\n",
      "  warnings.warn(warning_msg, ODEintWarning)\n",
      "C:\\Users\\UserALai\\miniconda3\\lib\\site-packages\\scipy\\integrate\\_odepack_py.py:247: ODEintWarning: Excess work done on this call (perhaps wrong Dfun type). Run with full_output = 1 to get quantitative information.\n",
      "  warnings.warn(warning_msg, ODEintWarning)\n",
      "C:\\Users\\UserALai\\miniconda3\\lib\\site-packages\\scipy\\integrate\\_odepack_py.py:247: ODEintWarning: Excess work done on this call (perhaps wrong Dfun type). Run with full_output = 1 to get quantitative information.\n",
      "  warnings.warn(warning_msg, ODEintWarning)\n",
      "C:\\Users\\UserALai\\miniconda3\\lib\\site-packages\\scipy\\integrate\\_odepack_py.py:247: ODEintWarning: Excess work done on this call (perhaps wrong Dfun type). Run with full_output = 1 to get quantitative information.\n",
      "  warnings.warn(warning_msg, ODEintWarning)\n",
      "C:\\Users\\UserALai\\miniconda3\\lib\\site-packages\\scipy\\integrate\\_odepack_py.py:247: ODEintWarning: Excess work done on this call (perhaps wrong Dfun type). Run with full_output = 1 to get quantitative information.\n",
      "  warnings.warn(warning_msg, ODEintWarning)\n",
      "C:\\Users\\UserALai\\miniconda3\\lib\\site-packages\\scipy\\integrate\\_odepack_py.py:247: ODEintWarning: Excess work done on this call (perhaps wrong Dfun type). Run with full_output = 1 to get quantitative information.\n",
      "  warnings.warn(warning_msg, ODEintWarning)\n",
      "C:\\Users\\UserALai\\miniconda3\\lib\\site-packages\\scipy\\integrate\\_odepack_py.py:247: ODEintWarning: Excess work done on this call (perhaps wrong Dfun type). Run with full_output = 1 to get quantitative information.\n",
      "  warnings.warn(warning_msg, ODEintWarning)\n",
      "C:\\Users\\UserALai\\miniconda3\\lib\\site-packages\\scipy\\integrate\\_odepack_py.py:247: ODEintWarning: Excess work done on this call (perhaps wrong Dfun type). Run with full_output = 1 to get quantitative information.\n",
      "  warnings.warn(warning_msg, ODEintWarning)\n",
      "C:\\Users\\UserALai\\miniconda3\\lib\\site-packages\\scipy\\integrate\\_odepack_py.py:247: ODEintWarning: Excess work done on this call (perhaps wrong Dfun type). Run with full_output = 1 to get quantitative information.\n",
      "  warnings.warn(warning_msg, ODEintWarning)\n",
      "C:\\Users\\UserALai\\miniconda3\\lib\\site-packages\\scipy\\integrate\\_odepack_py.py:247: ODEintWarning: Excess work done on this call (perhaps wrong Dfun type). Run with full_output = 1 to get quantitative information.\n",
      "  warnings.warn(warning_msg, ODEintWarning)\n",
      "C:\\Users\\UserALai\\miniconda3\\lib\\site-packages\\scipy\\integrate\\_odepack_py.py:247: ODEintWarning: Excess work done on this call (perhaps wrong Dfun type). Run with full_output = 1 to get quantitative information.\n",
      "  warnings.warn(warning_msg, ODEintWarning)\n",
      "C:\\Users\\UserALai\\miniconda3\\lib\\site-packages\\scipy\\integrate\\_odepack_py.py:247: ODEintWarning: Excess work done on this call (perhaps wrong Dfun type). Run with full_output = 1 to get quantitative information.\n",
      "  warnings.warn(warning_msg, ODEintWarning)\n",
      "C:\\Users\\UserALai\\miniconda3\\lib\\site-packages\\scipy\\integrate\\_odepack_py.py:247: ODEintWarning: Excess work done on this call (perhaps wrong Dfun type). Run with full_output = 1 to get quantitative information.\n",
      "  warnings.warn(warning_msg, ODEintWarning)\n",
      "C:\\Users\\UserALai\\miniconda3\\lib\\site-packages\\scipy\\integrate\\_odepack_py.py:247: ODEintWarning: Excess work done on this call (perhaps wrong Dfun type). Run with full_output = 1 to get quantitative information.\n",
      "  warnings.warn(warning_msg, ODEintWarning)\n",
      "C:\\Users\\UserALai\\miniconda3\\lib\\site-packages\\scipy\\integrate\\_odepack_py.py:247: ODEintWarning: Excess work done on this call (perhaps wrong Dfun type). Run with full_output = 1 to get quantitative information.\n",
      "  warnings.warn(warning_msg, ODEintWarning)\n",
      "C:\\Users\\UserALai\\miniconda3\\lib\\site-packages\\scipy\\integrate\\_odepack_py.py:247: ODEintWarning: Excess work done on this call (perhaps wrong Dfun type). Run with full_output = 1 to get quantitative information.\n",
      "  warnings.warn(warning_msg, ODEintWarning)\n",
      "C:\\Users\\UserALai\\miniconda3\\lib\\site-packages\\scipy\\integrate\\_odepack_py.py:247: ODEintWarning: Excess work done on this call (perhaps wrong Dfun type). Run with full_output = 1 to get quantitative information.\n",
      "  warnings.warn(warning_msg, ODEintWarning)\n",
      "C:\\Users\\UserALai\\miniconda3\\lib\\site-packages\\scipy\\integrate\\_odepack_py.py:247: ODEintWarning: Excess work done on this call (perhaps wrong Dfun type). Run with full_output = 1 to get quantitative information.\n",
      "  warnings.warn(warning_msg, ODEintWarning)\n"
     ]
    },
    {
     "name": "stdout",
     "output_type": "stream",
     "text": [
      "0.6\n",
      "(u)' = 2.152 1/(1 + v^1) + -0.523 1/(1 + u^2) + 1.680 1/(1 + u^3) + -2.744 1/(1 + v^3) + 1.046 1/(1 + u^4) + 6.761 1/(1 + v^4) + -2.800 1/(1 + u^5) + -6.217 1/(1 + v^5)\n",
      "(v)' = -2.880 1/(1 + u^1) + 1.077 1/(1 + v^1) + -2.328 1/(1 + u^2) + -9.796 1/(1 + v^2) + 15.972 1/(1 + u^3) + 3.600 1/(1 + u^4) + 12.065 1/(1 + v^4) + -12.205 1/(1 + u^5) + -5.368 1/(1 + v^5)\n"
     ]
    },
    {
     "name": "stderr",
     "output_type": "stream",
     "text": [
      "C:\\Users\\UserALai\\miniconda3\\lib\\site-packages\\scipy\\integrate\\_odepack_py.py:247: ODEintWarning: Excess work done on this call (perhaps wrong Dfun type). Run with full_output = 1 to get quantitative information.\n",
      "  warnings.warn(warning_msg, ODEintWarning)\n",
      "C:\\Users\\UserALai\\miniconda3\\lib\\site-packages\\scipy\\integrate\\_odepack_py.py:247: ODEintWarning: Excess work done on this call (perhaps wrong Dfun type). Run with full_output = 1 to get quantitative information.\n",
      "  warnings.warn(warning_msg, ODEintWarning)\n",
      "C:\\Users\\UserALai\\miniconda3\\lib\\site-packages\\scipy\\integrate\\_odepack_py.py:247: ODEintWarning: Excess work done on this call (perhaps wrong Dfun type). Run with full_output = 1 to get quantitative information.\n",
      "  warnings.warn(warning_msg, ODEintWarning)\n",
      "C:\\Users\\UserALai\\miniconda3\\lib\\site-packages\\scipy\\integrate\\_odepack_py.py:247: ODEintWarning: Excess work done on this call (perhaps wrong Dfun type). Run with full_output = 1 to get quantitative information.\n",
      "  warnings.warn(warning_msg, ODEintWarning)\n",
      "C:\\Users\\UserALai\\miniconda3\\lib\\site-packages\\scipy\\integrate\\_odepack_py.py:247: ODEintWarning: Excess work done on this call (perhaps wrong Dfun type). Run with full_output = 1 to get quantitative information.\n",
      "  warnings.warn(warning_msg, ODEintWarning)\n",
      "C:\\Users\\UserALai\\miniconda3\\lib\\site-packages\\scipy\\integrate\\_odepack_py.py:247: ODEintWarning: Excess work done on this call (perhaps wrong Dfun type). Run with full_output = 1 to get quantitative information.\n",
      "  warnings.warn(warning_msg, ODEintWarning)\n"
     ]
    },
    {
     "name": "stdout",
     "output_type": "stream",
     "text": [
      "[0.001      0.06755556 0.13411111 0.20066667 0.26722222 0.33377778\n",
      " 0.40033333 0.46688889 0.53344444 0.6       ]\n",
      "[0.003640583233622771, 0.14470352813811915, 0.26254522921478163, 0.4332246491067572, 7.355216054237609, 11.130413436012592, 2.355144170207471, 25.783720912167038, 15.54532273296697, 38.14941784344314]\n",
      "0.001\n",
      "(u)' = -1.044 u + -1.919 1/(1 + u^1) + 3.097 1/(1 + v^1) + 22.059 1/(1 + u^2) + -2.813 1/(1 + v^2) + -60.622 1/(1 + u^3) + 64.565 1/(1 + u^4) + -23.964 1/(1 + u^5) + 0.682 1/(1 + v^5)\n",
      "(v)' = -1.271 v + 3.889 1/(1 + u^1) + 1.396 1/(1 + v^2) + -4.638 1/(1 + u^3) + -6.321 1/(1 + v^4) + 3.000 1/(1 + u^5) + 4.343 1/(1 + v^5)\n",
      "0.06755555555555555\n",
      "(u)' = -0.614 u + 2.160 1/(1 + v^1) + 0.343 1/(1 + u^2) + -31.893 1/(1 + v^2) + 23.564 1/(1 + u^3) + 69.211 1/(1 + v^3) + -56.932 1/(1 + u^4) + -55.880 1/(1 + v^4) + 34.031 1/(1 + u^5) + 15.346 1/(1 + v^5)\n",
      "(v)' = -1.691 v + 0.888 1/(1 + u^1) + 8.872 1/(1 + v^1) + 10.296 1/(1 + u^2) + -16.659 1/(1 + v^2) + -24.847 1/(1 + u^3) + 37.365 1/(1 + v^3) + 15.983 1/(1 + u^4) + -56.701 1/(1 + v^4) + -0.669 1/(1 + u^5) + 27.964 1/(1 + v^5)\n",
      "0.1341111111111111\n",
      "(u)' = -0.635 u + -1.512 1/(1 + u^1) + -3.653 1/(1 + v^1) + -9.505 1/(1 + u^2) + 15.069 1/(1 + v^2) + 10.826 1/(1 + u^3) + 14.453 1/(1 + u^4) + -27.867 1/(1 + v^4) + -15.497 1/(1 + u^5) + 18.084 1/(1 + v^5)\n",
      "(v)' = 1.042 1/(1 + u^1) + 1.101 1/(1 + v^1) + -8.240 1/(1 + u^2) + -2.281 1/(1 + v^2) + -7.366 1/(1 + u^3) + -3.077 1/(1 + v^3) + 27.717 1/(1 + u^4) + 7.996 1/(1 + v^4) + -13.906 1/(1 + u^5) + -3.530 1/(1 + v^5)\n"
     ]
    },
    {
     "name": "stderr",
     "output_type": "stream",
     "text": [
      "C:\\Users\\UserALai\\miniconda3\\lib\\site-packages\\scipy\\integrate\\_odepack_py.py:247: ODEintWarning: Excess work done on this call (perhaps wrong Dfun type). Run with full_output = 1 to get quantitative information.\n",
      "  warnings.warn(warning_msg, ODEintWarning)\n"
     ]
    },
    {
     "name": "stdout",
     "output_type": "stream",
     "text": [
      "0.20066666666666666\n",
      "(u)' = -0.689 u + -1.313 1/(1 + u^1) + 2.549 1/(1 + v^1) + -6.840 1/(1 + u^2) + 22.822 1/(1 + v^2) + 6.943 1/(1 + u^3) + -24.886 1/(1 + v^3) + 4.286 1/(1 + u^4) + -28.200 1/(1 + v^4) + -4.618 1/(1 + u^5) + 30.184 1/(1 + v^5)\n",
      "(v)' = -1.555 1/(1 + u^1) + -4.920 1/(1 + v^1) + -1.837 1/(1 + u^2) + 1.009 1/(1 + v^2) + 4.527 1/(1 + u^3) + 15.274 1/(1 + v^3) + -0.638 1/(1 + u^4) + -11.626 1/(1 + v^4) + -0.609 1/(1 + u^5)\n",
      "0.2672222222222222\n",
      "(u)' = -1.995 1/(1 + u^1) + -12.458 1/(1 + u^2) + -6.248 1/(1 + v^2) + 15.756 1/(1 + u^3) + 7.479 1/(1 + v^3) + 13.992 1/(1 + u^4) + 10.701 1/(1 + v^4) + -16.146 1/(1 + u^5) + -11.777 1/(1 + v^5)\n",
      "(v)' = -0.920 v + 2.585 1/(1 + v^1) + 5.115 1/(1 + u^2) + 17.307 1/(1 + v^2) + -20.694 1/(1 + v^3) + -4.123 1/(1 + u^4) + -20.429 1/(1 + v^4) + 21.762 1/(1 + v^5)\n",
      "0.33377777777777773\n",
      "(u)' = -1.500 1/(1 + u^1) + 1.735 1/(1 + v^1) + -3.132 1/(1 + u^2) + 3.438 1/(1 + v^2) + 4.937 1/(1 + u^3) + -10.470 1/(1 + v^3) + -2.940 1/(1 + v^4) + -0.739 1/(1 + u^5) + 8.680 1/(1 + v^5)\n",
      "(v)' = 0.562 u + -0.622 v + 1.390 1/(1 + u^1) + -2.899 1/(1 + v^1) + 1.546 1/(1 + u^2) + -2.199 1/(1 + v^2) + -4.175 1/(1 + u^3) + 9.913 1/(1 + v^3) + 2.985 1/(1 + u^4) + -4.600 1/(1 + v^4) + -2.000 1/(1 + v^5)\n"
     ]
    },
    {
     "name": "stderr",
     "output_type": "stream",
     "text": [
      "C:\\Users\\UserALai\\miniconda3\\lib\\site-packages\\scipy\\integrate\\_odepack_py.py:247: ODEintWarning: Excess work done on this call (perhaps wrong Dfun type). Run with full_output = 1 to get quantitative information.\n",
      "  warnings.warn(warning_msg, ODEintWarning)\n"
     ]
    },
    {
     "name": "stdout",
     "output_type": "stream",
     "text": [
      "0.4003333333333333\n",
      "(u)' = -0.899 1/(1 + u^1) + -1.245 1/(1 + v^1) + -3.765 1/(1 + u^2) + -9.378 1/(1 + v^2) + 16.633 1/(1 + u^3) + 9.002 1/(1 + v^3) + 12.312 1/(1 + u^4) + 8.914 1/(1 + v^4) + -23.172 1/(1 + u^5) + -8.783 1/(1 + v^5)\n",
      "(v)' = -0.860 v + -1.164 1/(1 + u^1) + -0.978 1/(1 + v^1) + 1.110 1/(1 + u^2) + 7.475 1/(1 + v^2) + 9.582 1/(1 + u^3) + 2.472 1/(1 + u^4) + -12.293 1/(1 + v^4) + -10.115 1/(1 + u^5) + 4.892 1/(1 + v^5)\n",
      "0.46688888888888885\n",
      "(u)' = -0.588 u + -0.684 1/(1 + u^1) + 4.237 1/(1 + v^1) + -2.124 1/(1 + u^2) + 8.720 1/(1 + v^2) + 4.557 1/(1 + u^3) + -20.563 1/(1 + v^3) + -2.672 1/(1 + v^4) + -4.173 1/(1 + u^5) + 13.177 1/(1 + v^5)\n",
      "(v)' = 2.739 1/(1 + u^1) + -5.147 1/(1 + v^1) + 3.282 1/(1 + u^2) + -14.991 1/(1 + v^2) + -12.491 1/(1 + u^3) + 33.524 1/(1 + v^3) + -0.564 1/(1 + u^4) + 16.161 1/(1 + v^4) + 7.123 1/(1 + u^5) + -30.134 1/(1 + v^5)\n",
      "0.5334444444444444\n",
      "(u)' = -0.501 u + 0.612 v + 0.875 1/(1 + u^1) + -4.722 1/(1 + v^1) + 2.025 1/(1 + u^2) + -12.699 1/(1 + v^2) + 2.796 1/(1 + u^3) + 30.500 1/(1 + v^3) + 2.658 1/(1 + u^4) + 14.156 1/(1 + v^4) + -9.023 1/(1 + u^5) + -27.220 1/(1 + v^5)\n",
      "(v)' = -0.653 1/(1 + u^1) + -4.466 1/(1 + v^1) + -8.261 1/(1 + u^2) + -5.239 1/(1 + v^2) + -6.029 1/(1 + u^3) + 31.085 1/(1 + v^3) + 9.775 1/(1 + v^4) + 13.261 1/(1 + u^5) + -29.474 1/(1 + v^5)\n",
      "0.6\n",
      "(u)' = -0.858 v + 2.090 1/(1 + u^1) + 4.218 1/(1 + v^1) + 5.166 1/(1 + u^2) + 7.813 1/(1 + v^2) + -10.411 1/(1 + u^3) + -15.826 1/(1 + v^3) + -3.388 1/(1 + u^4) + -1.213 1/(1 + v^4) + 6.900 1/(1 + u^5) + 5.269 1/(1 + v^5)\n",
      "(v)' = 0.551 v + 6.152 1/(1 + u^1) + -10.496 1/(1 + v^1) + 10.986 1/(1 + u^2) + -30.165 1/(1 + v^2) + -29.963 1/(1 + u^3) + 61.437 1/(1 + v^3) + -5.888 1/(1 + u^4) + 28.061 1/(1 + v^4) + 19.178 1/(1 + u^5) + -49.913 1/(1 + v^5)\n",
      "[0.001      0.06755556 0.13411111 0.20066667 0.26722222 0.33377778\n",
      " 0.40033333 0.46688889 0.53344444 0.6       ]\n",
      "[0.0031589795431878486, 0.09550433593388385, 0.5566394317467206, 0.31880399486431543, 0.5020818886433512, 3.7579026191671603, 1.6335506952226442, 1.4344677716376772, 2.456855013672523, 5.605633920433159]\n",
      "0.001\n",
      "(u)' = -1.248 u + 9.890 1/(1 + u^1) + 9.062 1/(1 + v^1) + -11.159 1/(1 + u^2) + -45.156 1/(1 + v^2) + -13.902 1/(1 + u^3) + 93.338 1/(1 + v^3) + 30.895 1/(1 + u^4) + -87.336 1/(1 + v^4) + -14.261 1/(1 + u^5) + 30.280 1/(1 + v^5)\n",
      "(v)' = -0.807 v + -1.627 1/(1 + u^1) + 1.110 1/(1 + u^2) + -3.138 1/(1 + v^2) + 0.753 1/(1 + u^3) + 14.445 1/(1 + v^3) + -17.394 1/(1 + v^4) + 6.476 1/(1 + v^5)\n",
      "0.06755555555555555\n",
      "(u)' = -1.017 u + -3.125 1/(1 + u^1) + 3.209 1/(1 + v^1) + 6.290 1/(1 + v^2) + 17.373 1/(1 + u^3) + -9.656 1/(1 + v^3) + -34.872 1/(1 + u^4) + 19.227 1/(1 + u^5) + 2.725 1/(1 + v^5)\n",
      "(v)' = -1.303 v + 4.057 1/(1 + u^1) + 7.706 1/(1 + v^1) + -13.588 1/(1 + u^2) + 10.394 1/(1 + v^2) + 25.791 1/(1 + u^3) + -66.119 1/(1 + v^3) + -24.224 1/(1 + u^4) + 78.892 1/(1 + v^4) + 9.065 1/(1 + u^5) + -29.938 1/(1 + v^5)\n",
      "0.1341111111111111\n",
      "(u)' = -1.306 u + 0.752 v + -2.064 1/(1 + u^1) + 3.948 1/(1 + u^2) + 9.426 1/(1 + v^2) + 0.810 1/(1 + u^3) + -6.284 1/(1 + v^3) + -16.736 1/(1 + u^4) + -16.417 1/(1 + v^4) + 12.234 1/(1 + u^5) + 15.490 1/(1 + v^5)\n",
      "(v)' = 1.549 1/(1 + u^1) + -6.666 1/(1 + u^2) + 0.713 1/(1 + v^2) + 2.070 1/(1 + u^3) + -1.390 1/(1 + v^3) + 12.633 1/(1 + u^4) + -9.845 1/(1 + u^5) + 0.875 1/(1 + v^5)\n",
      "0.20066666666666666\n",
      "(u)' = -0.655 u + 0.628 v + -1.310 1/(1 + u^1) + -1.439 1/(1 + v^1) + -7.247 1/(1 + u^2) + 0.765 1/(1 + v^2) + 8.328 1/(1 + u^3) + 6.289 1/(1 + v^3) + 6.322 1/(1 + u^4) + -1.666 1/(1 + v^4) + -7.400 1/(1 + u^5) + -3.154 1/(1 + v^5)\n",
      "(v)' = -1.116 v + 1.519 1/(1 + u^1) + 4.991 1/(1 + u^2) + 12.677 1/(1 + v^2) + -7.874 1/(1 + u^3) + -10.134 1/(1 + v^3) + -2.637 1/(1 + u^4) + -19.505 1/(1 + v^4) + 5.939 1/(1 + u^5) + 16.491 1/(1 + v^5)\n",
      "0.2672222222222222\n",
      "(u)' = -2.199 1/(1 + u^1) + -1.173 1/(1 + v^1) + -11.237 1/(1 + u^2) + 2.229 1/(1 + v^2) + 18.195 1/(1 + u^3) + 1.905 1/(1 + v^3) + 14.190 1/(1 + u^4) + -5.990 1/(1 + v^4) + -19.286 1/(1 + u^5) + 2.892 1/(1 + v^5)\n",
      "(v)' = -1.008 1/(1 + u^1) + -3.557 1/(1 + v^1) + 2.805 1/(1 + u^2) + -11.847 1/(1 + v^2) + 21.715 1/(1 + v^3) + -6.323 1/(1 + u^4) + 11.461 1/(1 + v^4) + 5.039 1/(1 + u^5) + -18.610 1/(1 + v^5)\n"
     ]
    },
    {
     "name": "stderr",
     "output_type": "stream",
     "text": [
      "C:\\Users\\UserALai\\miniconda3\\lib\\site-packages\\scipy\\integrate\\_odepack_py.py:247: ODEintWarning: Excess work done on this call (perhaps wrong Dfun type). Run with full_output = 1 to get quantitative information.\n",
      "  warnings.warn(warning_msg, ODEintWarning)\n"
     ]
    },
    {
     "name": "stdout",
     "output_type": "stream",
     "text": [
      "0.33377777777777773\n",
      "(u)' = -3.554 1/(1 + u^1) + -1.404 1/(1 + v^1) + -10.388 1/(1 + u^2) + 25.937 1/(1 + u^3) + 2.068 1/(1 + v^3) + 13.654 1/(1 + u^4) + -4.696 1/(1 + v^4) + -25.462 1/(1 + u^5) + 3.543 1/(1 + v^5)\n",
      "(v)' = -3.494 1/(1 + u^1) + -3.105 1/(1 + v^1) + -10.606 1/(1 + u^2) + 19.986 1/(1 + u^3) + 17.283 1/(1 + v^3) + 8.798 1/(1 + u^4) + -15.830 1/(1 + u^5) + -13.243 1/(1 + v^5)\n",
      "0.4003333333333333\n",
      "(u)' = -2.822 1/(1 + u^1) + -3.485 1/(1 + v^1) + 2.082 1/(1 + u^2) + 2.403 1/(1 + v^2) + 10.757 1/(1 + u^3) + 10.436 1/(1 + v^3) + -6.169 1/(1 + u^4) + -9.099 1/(1 + v^4) + -3.823 1/(1 + u^5)\n",
      "(v)' = -0.577 u + 1.846 1/(1 + u^1) + -2.863 1/(1 + v^1) + 4.364 1/(1 + u^2) + -6.715 1/(1 + v^2) + -6.844 1/(1 + u^3) + 21.272 1/(1 + v^3) + -1.889 1/(1 + u^4) + 10.236 1/(1 + v^4) + 2.177 1/(1 + u^5) + -21.154 1/(1 + v^5)\n"
     ]
    },
    {
     "name": "stderr",
     "output_type": "stream",
     "text": [
      "C:\\Users\\UserALai\\miniconda3\\lib\\site-packages\\scipy\\integrate\\_odepack_py.py:247: ODEintWarning: Excess work done on this call (perhaps wrong Dfun type). Run with full_output = 1 to get quantitative information.\n",
      "  warnings.warn(warning_msg, ODEintWarning)\n",
      "C:\\Users\\UserALai\\miniconda3\\lib\\site-packages\\scipy\\integrate\\_odepack_py.py:247: ODEintWarning: Excess work done on this call (perhaps wrong Dfun type). Run with full_output = 1 to get quantitative information.\n",
      "  warnings.warn(warning_msg, ODEintWarning)\n",
      "C:\\Users\\UserALai\\miniconda3\\lib\\site-packages\\scipy\\integrate\\_odepack_py.py:247: ODEintWarning: Excess work done on this call (perhaps wrong Dfun type). Run with full_output = 1 to get quantitative information.\n",
      "  warnings.warn(warning_msg, ODEintWarning)\n",
      "C:\\Users\\UserALai\\miniconda3\\lib\\site-packages\\scipy\\integrate\\_odepack_py.py:247: ODEintWarning: Excess work done on this call (perhaps wrong Dfun type). Run with full_output = 1 to get quantitative information.\n",
      "  warnings.warn(warning_msg, ODEintWarning)\n",
      "C:\\Users\\UserALai\\miniconda3\\lib\\site-packages\\scipy\\integrate\\_odepack_py.py:247: ODEintWarning: Excess work done on this call (perhaps wrong Dfun type). Run with full_output = 1 to get quantitative information.\n",
      "  warnings.warn(warning_msg, ODEintWarning)\n",
      "C:\\Users\\UserALai\\miniconda3\\lib\\site-packages\\scipy\\integrate\\_odepack_py.py:247: ODEintWarning: Excess work done on this call (perhaps wrong Dfun type). Run with full_output = 1 to get quantitative information.\n",
      "  warnings.warn(warning_msg, ODEintWarning)\n",
      "C:\\Users\\UserALai\\miniconda3\\lib\\site-packages\\scipy\\integrate\\_odepack_py.py:247: ODEintWarning: Excess work done on this call (perhaps wrong Dfun type). Run with full_output = 1 to get quantitative information.\n",
      "  warnings.warn(warning_msg, ODEintWarning)\n",
      "C:\\Users\\UserALai\\miniconda3\\lib\\site-packages\\scipy\\integrate\\_odepack_py.py:247: ODEintWarning: Excess work done on this call (perhaps wrong Dfun type). Run with full_output = 1 to get quantitative information.\n",
      "  warnings.warn(warning_msg, ODEintWarning)\n",
      "C:\\Users\\UserALai\\miniconda3\\lib\\site-packages\\scipy\\integrate\\_odepack_py.py:247: ODEintWarning: Excess work done on this call (perhaps wrong Dfun type). Run with full_output = 1 to get quantitative information.\n",
      "  warnings.warn(warning_msg, ODEintWarning)\n",
      "C:\\Users\\UserALai\\miniconda3\\lib\\site-packages\\scipy\\integrate\\_odepack_py.py:247: ODEintWarning: Excess work done on this call (perhaps wrong Dfun type). Run with full_output = 1 to get quantitative information.\n",
      "  warnings.warn(warning_msg, ODEintWarning)\n",
      "C:\\Users\\UserALai\\miniconda3\\lib\\site-packages\\scipy\\integrate\\_odepack_py.py:247: ODEintWarning: Excess work done on this call (perhaps wrong Dfun type). Run with full_output = 1 to get quantitative information.\n",
      "  warnings.warn(warning_msg, ODEintWarning)\n",
      "C:\\Users\\UserALai\\miniconda3\\lib\\site-packages\\scipy\\integrate\\_odepack_py.py:247: ODEintWarning: Excess work done on this call (perhaps wrong Dfun type). Run with full_output = 1 to get quantitative information.\n",
      "  warnings.warn(warning_msg, ODEintWarning)\n",
      "C:\\Users\\UserALai\\miniconda3\\lib\\site-packages\\scipy\\integrate\\_odepack_py.py:247: ODEintWarning: Excess work done on this call (perhaps wrong Dfun type). Run with full_output = 1 to get quantitative information.\n",
      "  warnings.warn(warning_msg, ODEintWarning)\n",
      "C:\\Users\\UserALai\\miniconda3\\lib\\site-packages\\scipy\\integrate\\_odepack_py.py:247: ODEintWarning: Excess work done on this call (perhaps wrong Dfun type). Run with full_output = 1 to get quantitative information.\n",
      "  warnings.warn(warning_msg, ODEintWarning)\n",
      "C:\\Users\\UserALai\\miniconda3\\lib\\site-packages\\scipy\\integrate\\_odepack_py.py:247: ODEintWarning: Excess work done on this call (perhaps wrong Dfun type). Run with full_output = 1 to get quantitative information.\n",
      "  warnings.warn(warning_msg, ODEintWarning)\n",
      "C:\\Users\\UserALai\\miniconda3\\lib\\site-packages\\scipy\\integrate\\_odepack_py.py:247: ODEintWarning: Excess work done on this call (perhaps wrong Dfun type). Run with full_output = 1 to get quantitative information.\n",
      "  warnings.warn(warning_msg, ODEintWarning)\n",
      "C:\\Users\\UserALai\\miniconda3\\lib\\site-packages\\scipy\\integrate\\_odepack_py.py:247: ODEintWarning: Excess work done on this call (perhaps wrong Dfun type). Run with full_output = 1 to get quantitative information.\n",
      "  warnings.warn(warning_msg, ODEintWarning)\n",
      "C:\\Users\\UserALai\\miniconda3\\lib\\site-packages\\scipy\\integrate\\_odepack_py.py:247: ODEintWarning: Excess work done on this call (perhaps wrong Dfun type). Run with full_output = 1 to get quantitative information.\n",
      "  warnings.warn(warning_msg, ODEintWarning)\n",
      "C:\\Users\\UserALai\\miniconda3\\lib\\site-packages\\scipy\\integrate\\_odepack_py.py:247: ODEintWarning: Excess work done on this call (perhaps wrong Dfun type). Run with full_output = 1 to get quantitative information.\n",
      "  warnings.warn(warning_msg, ODEintWarning)\n"
     ]
    },
    {
     "name": "stdout",
     "output_type": "stream",
     "text": [
      "0.46688888888888885\n",
      "(u)' = 2.114 1/(1 + u^1) + -4.340 1/(1 + v^1) + 5.137 1/(1 + u^2) + -8.926 1/(1 + v^2) + -11.239 1/(1 + u^3) + 15.210 1/(1 + v^3) + -2.377 1/(1 + u^4) + 8.167 1/(1 + u^5) + -3.690 1/(1 + v^5)\n",
      "(v)' = -5.037 1/(1 + u^1) + -1.115 1/(1 + v^1) + -11.384 1/(1 + u^2) + 6.306 1/(1 + v^2) + 29.391 1/(1 + u^3) + 1.040 1/(1 + v^3) + 9.712 1/(1 + u^4) + -8.897 1/(1 + v^4) + -23.799 1/(1 + u^5) + 3.820 1/(1 + v^5)\n"
     ]
    },
    {
     "name": "stderr",
     "output_type": "stream",
     "text": [
      "C:\\Users\\UserALai\\miniconda3\\lib\\site-packages\\scipy\\integrate\\_odepack_py.py:247: ODEintWarning: Excess work done on this call (perhaps wrong Dfun type). Run with full_output = 1 to get quantitative information.\n",
      "  warnings.warn(warning_msg, ODEintWarning)\n"
     ]
    },
    {
     "name": "stdout",
     "output_type": "stream",
     "text": [
      "0.5334444444444444\n",
      "(u)' = -1.191 1/(1 + u^1) + -3.302 1/(1 + u^2) + 2.241 1/(1 + v^2) + 1.737 1/(1 + v^3) + -2.596 1/(1 + u^4) + 5.925 1/(1 + u^5) + -2.901 1/(1 + v^5)\n",
      "(v)' = 2.628 1/(1 + u^1) + -3.540 1/(1 + v^1) + 3.081 1/(1 + u^2) + -19.442 1/(1 + u^3) + 20.977 1/(1 + v^3) + -6.568 1/(1 + u^4) + 0.994 1/(1 + v^4) + 19.235 1/(1 + u^5) + -17.252 1/(1 + v^5)\n"
     ]
    },
    {
     "name": "stderr",
     "output_type": "stream",
     "text": [
      "C:\\Users\\UserALai\\miniconda3\\lib\\site-packages\\scipy\\integrate\\_odepack_py.py:247: ODEintWarning: Excess work done on this call (perhaps wrong Dfun type). Run with full_output = 1 to get quantitative information.\n",
      "  warnings.warn(warning_msg, ODEintWarning)\n",
      "C:\\Users\\UserALai\\miniconda3\\lib\\site-packages\\scipy\\integrate\\_odepack_py.py:247: ODEintWarning: Excess work done on this call (perhaps wrong Dfun type). Run with full_output = 1 to get quantitative information.\n",
      "  warnings.warn(warning_msg, ODEintWarning)\n",
      "C:\\Users\\UserALai\\miniconda3\\lib\\site-packages\\scipy\\integrate\\_odepack_py.py:247: ODEintWarning: Excess work done on this call (perhaps wrong Dfun type). Run with full_output = 1 to get quantitative information.\n",
      "  warnings.warn(warning_msg, ODEintWarning)\n",
      "C:\\Users\\UserALai\\miniconda3\\lib\\site-packages\\scipy\\integrate\\_odepack_py.py:247: ODEintWarning: Excess work done on this call (perhaps wrong Dfun type). Run with full_output = 1 to get quantitative information.\n",
      "  warnings.warn(warning_msg, ODEintWarning)\n"
     ]
    },
    {
     "name": "stdout",
     "output_type": "stream",
     "text": [
      "0.6\n",
      "(u)' = -1.741 1/(1 + u^1) + 2.912 1/(1 + v^1) + -11.253 1/(1 + u^2) + 0.887 1/(1 + v^2) + 6.935 1/(1 + u^3) + -8.262 1/(1 + v^3) + 8.036 1/(1 + u^4) + 6.003 1/(1 + v^4) + -2.900 1/(1 + u^5) + -0.850 1/(1 + v^5)\n",
      "(v)' = -6.802 1/(1 + u^1) + -0.648 1/(1 + v^1) + -24.243 1/(1 + u^2) + 3.649 1/(1 + v^2) + 43.879 1/(1 + u^3) + 4.865 1/(1 + v^3) + 24.718 1/(1 + u^4) + -1.350 1/(1 + v^4) + -39.133 1/(1 + u^5) + -4.953 1/(1 + v^5)\n"
     ]
    },
    {
     "name": "stderr",
     "output_type": "stream",
     "text": [
      "C:\\Users\\UserALai\\miniconda3\\lib\\site-packages\\scipy\\integrate\\_odepack_py.py:247: ODEintWarning: Excess work done on this call (perhaps wrong Dfun type). Run with full_output = 1 to get quantitative information.\n",
      "  warnings.warn(warning_msg, ODEintWarning)\n",
      "C:\\Users\\UserALai\\miniconda3\\lib\\site-packages\\scipy\\integrate\\_odepack_py.py:247: ODEintWarning: Excess work done on this call (perhaps wrong Dfun type). Run with full_output = 1 to get quantitative information.\n",
      "  warnings.warn(warning_msg, ODEintWarning)\n",
      "C:\\Users\\UserALai\\miniconda3\\lib\\site-packages\\scipy\\integrate\\_odepack_py.py:247: ODEintWarning: Excess work done on this call (perhaps wrong Dfun type). Run with full_output = 1 to get quantitative information.\n",
      "  warnings.warn(warning_msg, ODEintWarning)\n",
      "C:\\Users\\UserALai\\miniconda3\\lib\\site-packages\\scipy\\integrate\\_odepack_py.py:247: ODEintWarning: Excess work done on this call (perhaps wrong Dfun type). Run with full_output = 1 to get quantitative information.\n",
      "  warnings.warn(warning_msg, ODEintWarning)\n",
      "C:\\Users\\UserALai\\miniconda3\\lib\\site-packages\\scipy\\integrate\\_odepack_py.py:247: ODEintWarning: Excess work done on this call (perhaps wrong Dfun type). Run with full_output = 1 to get quantitative information.\n",
      "  warnings.warn(warning_msg, ODEintWarning)\n",
      "C:\\Users\\UserALai\\miniconda3\\lib\\site-packages\\scipy\\integrate\\_odepack_py.py:247: ODEintWarning: Excess work done on this call (perhaps wrong Dfun type). Run with full_output = 1 to get quantitative information.\n",
      "  warnings.warn(warning_msg, ODEintWarning)\n",
      "C:\\Users\\UserALai\\miniconda3\\lib\\site-packages\\scipy\\integrate\\_odepack_py.py:247: ODEintWarning: Excess work done on this call (perhaps wrong Dfun type). Run with full_output = 1 to get quantitative information.\n",
      "  warnings.warn(warning_msg, ODEintWarning)\n",
      "C:\\Users\\UserALai\\miniconda3\\lib\\site-packages\\scipy\\integrate\\_odepack_py.py:247: ODEintWarning: Excess work done on this call (perhaps wrong Dfun type). Run with full_output = 1 to get quantitative information.\n",
      "  warnings.warn(warning_msg, ODEintWarning)\n",
      "C:\\Users\\UserALai\\miniconda3\\lib\\site-packages\\scipy\\integrate\\_odepack_py.py:247: ODEintWarning: Excess work done on this call (perhaps wrong Dfun type). Run with full_output = 1 to get quantitative information.\n",
      "  warnings.warn(warning_msg, ODEintWarning)\n",
      "C:\\Users\\UserALai\\miniconda3\\lib\\site-packages\\scipy\\integrate\\_odepack_py.py:247: ODEintWarning: Excess work done on this call (perhaps wrong Dfun type). Run with full_output = 1 to get quantitative information.\n",
      "  warnings.warn(warning_msg, ODEintWarning)\n",
      "C:\\Users\\UserALai\\miniconda3\\lib\\site-packages\\scipy\\integrate\\_odepack_py.py:247: ODEintWarning: Excess work done on this call (perhaps wrong Dfun type). Run with full_output = 1 to get quantitative information.\n",
      "  warnings.warn(warning_msg, ODEintWarning)\n",
      "C:\\Users\\UserALai\\miniconda3\\lib\\site-packages\\scipy\\integrate\\_odepack_py.py:247: ODEintWarning: Excess work done on this call (perhaps wrong Dfun type). Run with full_output = 1 to get quantitative information.\n",
      "  warnings.warn(warning_msg, ODEintWarning)\n"
     ]
    },
    {
     "name": "stdout",
     "output_type": "stream",
     "text": [
      "[0.001      0.06755556 0.13411111 0.20066667 0.26722222 0.33377778\n",
      " 0.40033333 0.46688889 0.53344444 0.6       ]\n",
      "[0.004516584375875717, 0.8356066591029938, 1.3638486776150098, 0.14315202933283505, 0.3991734980664596, 1.1188346459286096, 1.6141244708975901, 1.1110267890349768, 2.2724606860836505, 84.87471051692015]\n",
      "0.001\n",
      "(u)' = -1.096 u + 2.611 1/(1 + u^1) + 0.361 1/(1 + v^1) + 5.383 1/(1 + v^2) + -3.774 1/(1 + u^3) + -8.140 1/(1 + v^3) + -2.314 1/(1 + u^4) + 4.098 1/(1 + u^5) + 3.004 1/(1 + v^5)\n",
      "(v)' = -1.165 v + 2.342 1/(1 + u^1) + -0.704 1/(1 + v^1) + -4.401 1/(1 + u^3) + 11.505 1/(1 + v^3) + 3.682 1/(1 + u^4) + -20.101 1/(1 + v^4) + 9.113 1/(1 + v^5)\n",
      "0.06755555555555555\n",
      "(u)' = -0.850 u + -10.196 1/(1 + u^2) + 10.752 1/(1 + v^2) + 27.891 1/(1 + u^3) + -16.608 1/(1 + v^3) + -33.607 1/(1 + u^4) + 7.267 1/(1 + v^4) + 15.177 1/(1 + u^5)\n",
      "(v)' = -1.389 v + 5.986 1/(1 + u^1) + 6.818 1/(1 + v^1) + -18.209 1/(1 + u^2) + 16.737 1/(1 + u^3) + -26.076 1/(1 + v^3) + -2.525 1/(1 + u^4) + 38.458 1/(1 + v^4) + -0.948 1/(1 + u^5) + -18.168 1/(1 + v^5)\n",
      "0.1341111111111111\n",
      "(u)' = -0.506 u + 0.545 v + -1.044 1/(1 + u^1) + -2.419 1/(1 + v^1) + -4.669 1/(1 + u^2) + 3.165 1/(1 + v^2) + 1.958 1/(1 + u^3) + 2.518 1/(1 + v^3) + 2.864 1/(1 + u^4) + -10.335 1/(1 + v^4) + 6.998 1/(1 + v^5)\n",
      "(v)' = -0.701 v + 1.515 1/(1 + u^1) + -2.383 1/(1 + u^2) + 2.553 1/(1 + v^2) + -2.300 1/(1 + u^3) + -6.785 1/(1 + v^3) + 11.065 1/(1 + u^4) + 6.808 1/(1 + v^4) + -6.652 1/(1 + u^5) + -3.111 1/(1 + v^5)\n",
      "0.20066666666666666\n",
      "(u)' = 0.582 1/(1 + v^1) + -6.372 1/(1 + u^2) + 1.294 1/(1 + v^2) + 0.956 1/(1 + u^3) + -3.448 1/(1 + v^3) + 6.966 1/(1 + u^4) + -2.300 1/(1 + v^4) + -1.982 1/(1 + u^5) + 3.805 1/(1 + v^5)\n",
      "(v)' = -0.503 v + -1.382 1/(1 + v^1) + 1.883 1/(1 + u^2) + 0.787 1/(1 + u^3) + 4.392 1/(1 + v^3) + -3.646 1/(1 + v^4) + -1.547 1/(1 + u^5)\n",
      "0.2672222222222222\n",
      "(u)' = -0.777 1/(1 + u^1) + 1.127 1/(1 + v^1) + -1.750 1/(1 + u^2) + 4.207 1/(1 + v^2) + 2.283 1/(1 + u^3) + -10.128 1/(1 + v^3) + -6.320 1/(1 + v^4) + 11.257 1/(1 + v^5)\n",
      "(v)' = -0.689 1/(1 + u^1) + -1.584 1/(1 + v^1) + 1.000 1/(1 + u^2) + 2.293 1/(1 + v^2) + 1.927 1/(1 + u^3) + 2.432 1/(1 + v^3) + -2.311 1/(1 + u^4) + -6.989 1/(1 + v^4) + 3.939 1/(1 + v^5)\n"
     ]
    },
    {
     "name": "stderr",
     "output_type": "stream",
     "text": [
      "C:\\Users\\UserALai\\miniconda3\\lib\\site-packages\\scipy\\integrate\\_odepack_py.py:247: ODEintWarning: Excess work done on this call (perhaps wrong Dfun type). Run with full_output = 1 to get quantitative information.\n",
      "  warnings.warn(warning_msg, ODEintWarning)\n",
      "C:\\Users\\UserALai\\miniconda3\\lib\\site-packages\\scipy\\integrate\\_odepack_py.py:247: ODEintWarning: Excess work done on this call (perhaps wrong Dfun type). Run with full_output = 1 to get quantitative information.\n",
      "  warnings.warn(warning_msg, ODEintWarning)\n",
      "C:\\Users\\UserALai\\miniconda3\\lib\\site-packages\\scipy\\integrate\\_odepack_py.py:247: ODEintWarning: Excess work done on this call (perhaps wrong Dfun type). Run with full_output = 1 to get quantitative information.\n",
      "  warnings.warn(warning_msg, ODEintWarning)\n",
      "C:\\Users\\UserALai\\miniconda3\\lib\\site-packages\\scipy\\integrate\\_odepack_py.py:247: ODEintWarning: Excess work done on this call (perhaps wrong Dfun type). Run with full_output = 1 to get quantitative information.\n",
      "  warnings.warn(warning_msg, ODEintWarning)\n",
      "C:\\Users\\UserALai\\miniconda3\\lib\\site-packages\\scipy\\integrate\\_odepack_py.py:247: ODEintWarning: Excess work done on this call (perhaps wrong Dfun type). Run with full_output = 1 to get quantitative information.\n",
      "  warnings.warn(warning_msg, ODEintWarning)\n",
      "C:\\Users\\UserALai\\miniconda3\\lib\\site-packages\\scipy\\integrate\\_odepack_py.py:247: ODEintWarning: Excess work done on this call (perhaps wrong Dfun type). Run with full_output = 1 to get quantitative information.\n",
      "  warnings.warn(warning_msg, ODEintWarning)\n",
      "C:\\Users\\UserALai\\miniconda3\\lib\\site-packages\\scipy\\integrate\\_odepack_py.py:247: ODEintWarning: Excess work done on this call (perhaps wrong Dfun type). Run with full_output = 1 to get quantitative information.\n",
      "  warnings.warn(warning_msg, ODEintWarning)\n",
      "C:\\Users\\UserALai\\miniconda3\\lib\\site-packages\\scipy\\integrate\\_odepack_py.py:247: ODEintWarning: Excess work done on this call (perhaps wrong Dfun type). Run with full_output = 1 to get quantitative information.\n",
      "  warnings.warn(warning_msg, ODEintWarning)\n"
     ]
    },
    {
     "name": "stdout",
     "output_type": "stream",
     "text": [
      "0.33377777777777773\n",
      "(u)' = -0.585 u + -2.426 1/(1 + u^1) + 5.562 1/(1 + v^1) + -0.551 1/(1 + u^2) + 6.225 1/(1 + v^2) + 9.230 1/(1 + u^3) + -22.362 1/(1 + v^3) + -3.510 1/(1 + u^4) + 2.267 1/(1 + v^4) + -3.245 1/(1 + u^5) + 9.412 1/(1 + v^5)\n",
      "(v)' = -0.911 1/(1 + u^1) + -1.116 1/(1 + v^1) + -2.430 1/(1 + u^2) + -10.544 1/(1 + v^2) + 2.003 1/(1 + u^3) + 16.271 1/(1 + v^3) + 16.588 1/(1 + v^4) + 1.230 1/(1 + u^5) + -21.500 1/(1 + v^5)\n",
      "0.4003333333333333\n",
      "(u)' = 1.300 1/(1 + u^1) + 2.869 1/(1 + v^1) + 8.592 1/(1 + v^2) + -7.011 1/(1 + u^3) + -18.014 1/(1 + v^3) + -8.608 1/(1 + v^4) + 5.200 1/(1 + u^5) + 15.679 1/(1 + v^5)\n",
      "(v)' = 0.500 1/(1 + u^1) + -3.690 1/(1 + u^2) + 1.312 1/(1 + v^2) + 1.552 1/(1 + u^3) + 6.395 1/(1 + u^4) + -1.133 1/(1 + v^4) + -5.099 1/(1 + u^5)\n",
      "0.46688888888888885\n",
      "(u)' = 1.309 1/(1 + u^1) + 0.833 1/(1 + v^1) + -5.223 1/(1 + u^2) + -3.610 1/(1 + v^2) + -3.928 1/(1 + u^3) + 1.627 1/(1 + v^3) + 7.225 1/(1 + u^4) + 8.159 1/(1 + v^4) + -6.873 1/(1 + v^5)\n",
      "(v)' = 1.508 1/(1 + u^1) + 10.319 1/(1 + u^2) + -7.650 1/(1 + v^2) + -8.114 1/(1 + u^3) + 3.855 1/(1 + v^3) + -8.532 1/(1 + u^4) + 8.940 1/(1 + v^4) + 5.982 1/(1 + u^5) + -6.389 1/(1 + v^5)\n",
      "0.5334444444444444\n",
      "(u)' = 2.404 1/(1 + v^1) + 4.877 1/(1 + u^2) + 4.902 1/(1 + v^2) + -7.087 1/(1 + u^3) + -7.210 1/(1 + v^3) + -10.047 1/(1 + u^4) + 11.741 1/(1 + u^5)\n",
      "(v)' = -1.016 1/(1 + u^1) + -1.563 1/(1 + v^1) + -8.844 1/(1 + u^2) + -0.697 1/(1 + v^2) + 7.687 1/(1 + u^3) + 8.069 1/(1 + v^3) + 9.576 1/(1 + u^4) + -7.691 1/(1 + u^5) + -5.628 1/(1 + v^5)\n"
     ]
    },
    {
     "name": "stderr",
     "output_type": "stream",
     "text": [
      "C:\\Users\\UserALai\\miniconda3\\lib\\site-packages\\scipy\\integrate\\_odepack_py.py:247: ODEintWarning: Excess work done on this call (perhaps wrong Dfun type). Run with full_output = 1 to get quantitative information.\n",
      "  warnings.warn(warning_msg, ODEintWarning)\n",
      "C:\\Users\\UserALai\\miniconda3\\lib\\site-packages\\scipy\\integrate\\_odepack_py.py:247: ODEintWarning: Excess work done on this call (perhaps wrong Dfun type). Run with full_output = 1 to get quantitative information.\n",
      "  warnings.warn(warning_msg, ODEintWarning)\n",
      "C:\\Users\\UserALai\\miniconda3\\lib\\site-packages\\scipy\\integrate\\_odepack_py.py:247: ODEintWarning: Excess work done on this call (perhaps wrong Dfun type). Run with full_output = 1 to get quantitative information.\n",
      "  warnings.warn(warning_msg, ODEintWarning)\n"
     ]
    },
    {
     "name": "stdout",
     "output_type": "stream",
     "text": [
      "0.6\n",
      "(u)' = 3.676 1/(1 + u^1) + -1.258 1/(1 + v^1) + 17.065 1/(1 + u^2) + -12.286 1/(1 + v^2) + -29.958 1/(1 + u^3) + 13.076 1/(1 + v^3) + -20.105 1/(1 + u^4) + 13.488 1/(1 + v^4) + 31.498 1/(1 + u^5) + -15.499 1/(1 + v^5)\n",
      "(v)' = 3.172 1/(1 + u^1) + 1.329 1/(1 + v^1) + 6.986 1/(1 + u^2) + -5.961 1/(1 + v^2) + -17.202 1/(1 + u^3) + -3.983 1/(1 + v^3) + -5.138 1/(1 + u^4) + 7.850 1/(1 + v^4) + 12.845 1/(1 + u^5)\n",
      "[0.001      0.06755556 0.13411111 0.20066667 0.26722222 0.33377778\n",
      " 0.40033333 0.46688889 0.53344444 0.6       ]\n",
      "[0.0013584104045502377, 0.13101146053508372, 0.21868047533786067, 4.72503799057672, 2.314772515167494, 0.8386984035437266, 60.797558731037014, 26.26339633365611, 50.65058748619957, 26.721182114969427]\n",
      "0.001\n",
      "(u)' = -1.041 u + -11.917 1/(1 + u^1) + 29.505 1/(1 + v^1) + 46.025 1/(1 + u^2) + -105.000 1/(1 + v^2) + -95.694 1/(1 + u^3) + 174.426 1/(1 + v^3) + 93.518 1/(1 + u^4) + -137.566 1/(1 + v^4) + -33.865 1/(1 + u^5) + 41.679 1/(1 + v^5)\n",
      "(v)' = -1.399 v + 2.251 1/(1 + u^1) + -0.435 1/(1 + v^1) + 18.021 1/(1 + u^2) + -49.196 1/(1 + u^3) + 10.217 1/(1 + v^3) + 45.670 1/(1 + u^4) + -22.028 1/(1 + v^4) + -13.993 1/(1 + u^5) + 11.463 1/(1 + v^5)\n",
      "0.06755555555555555\n",
      "(u)' = -1.441 u + 0.753 v + -4.083 1/(1 + v^1) + 20.296 1/(1 + u^2) + -0.890 1/(1 + v^2) + -93.320 1/(1 + u^3) + 37.764 1/(1 + v^3) + 127.746 1/(1 + u^4) + -51.185 1/(1 + v^4) + -56.131 1/(1 + u^5) + 20.279 1/(1 + v^5)\n",
      "(v)' = -1.145 v + 5.299 1/(1 + v^1) + -17.371 1/(1 + u^2) + 23.190 1/(1 + v^2) + 55.310 1/(1 + u^3) + -86.644 1/(1 + v^3) + -68.147 1/(1 + u^4) + 96.644 1/(1 + v^4) + 29.891 1/(1 + u^5) + -36.614 1/(1 + v^5)\n",
      "0.1341111111111111\n",
      "(u)' = -1.058 u + 0.685 v + -1.234 1/(1 + u^1) + 1.953 1/(1 + v^1) + -1.425 1/(1 + u^3) + -13.927 1/(1 + v^3) + 1.335 1/(1 + u^4) + 20.752 1/(1 + v^4) + -7.536 1/(1 + v^5)\n",
      "(v)' = -0.924 v + -1.223 1/(1 + v^1) + 7.868 1/(1 + u^2) + 12.546 1/(1 + v^2) + -9.243 1/(1 + u^3) + -5.577 1/(1 + v^3) + 2.971 1/(1 + u^4) + -27.518 1/(1 + v^4) + 21.513 1/(1 + v^5)\n"
     ]
    },
    {
     "name": "stderr",
     "output_type": "stream",
     "text": [
      "C:\\Users\\UserALai\\miniconda3\\lib\\site-packages\\scipy\\integrate\\_odepack_py.py:247: ODEintWarning: Excess work done on this call (perhaps wrong Dfun type). Run with full_output = 1 to get quantitative information.\n",
      "  warnings.warn(warning_msg, ODEintWarning)\n",
      "C:\\Users\\UserALai\\miniconda3\\lib\\site-packages\\scipy\\integrate\\_odepack_py.py:247: ODEintWarning: Excess work done on this call (perhaps wrong Dfun type). Run with full_output = 1 to get quantitative information.\n",
      "  warnings.warn(warning_msg, ODEintWarning)\n",
      "C:\\Users\\UserALai\\miniconda3\\lib\\site-packages\\scipy\\integrate\\_odepack_py.py:247: ODEintWarning: Excess work done on this call (perhaps wrong Dfun type). Run with full_output = 1 to get quantitative information.\n",
      "  warnings.warn(warning_msg, ODEintWarning)\n",
      "C:\\Users\\UserALai\\miniconda3\\lib\\site-packages\\scipy\\integrate\\_odepack_py.py:247: ODEintWarning: Excess work done on this call (perhaps wrong Dfun type). Run with full_output = 1 to get quantitative information.\n",
      "  warnings.warn(warning_msg, ODEintWarning)\n"
     ]
    },
    {
     "name": "stdout",
     "output_type": "stream",
     "text": [
      "0.20066666666666666\n",
      "(u)' = -0.644 u + 0.537 v + -3.681 1/(1 + u^1) + 1.824 1/(1 + v^1) + -1.512 1/(1 + u^2) + -3.542 1/(1 + v^2) + 11.393 1/(1 + u^3) + -3.404 1/(1 + v^3) + -6.373 1/(1 + u^4) + 8.658 1/(1 + v^4) + -0.599 1/(1 + u^5) + -3.178 1/(1 + v^5)\n",
      "(v)' = -0.697 u + -0.849 1/(1 + u^1) + 3.282 1/(1 + u^2) + 10.392 1/(1 + v^2) + -5.999 1/(1 + v^3) + -7.135 1/(1 + u^4) + -12.193 1/(1 + v^4) + 4.045 1/(1 + u^5) + 9.515 1/(1 + v^5)\n"
     ]
    },
    {
     "name": "stderr",
     "output_type": "stream",
     "text": [
      "C:\\Users\\UserALai\\miniconda3\\lib\\site-packages\\scipy\\integrate\\_odepack_py.py:247: ODEintWarning: Excess work done on this call (perhaps wrong Dfun type). Run with full_output = 1 to get quantitative information.\n",
      "  warnings.warn(warning_msg, ODEintWarning)\n",
      "C:\\Users\\UserALai\\miniconda3\\lib\\site-packages\\scipy\\integrate\\_odepack_py.py:247: ODEintWarning: Excess work done on this call (perhaps wrong Dfun type). Run with full_output = 1 to get quantitative information.\n",
      "  warnings.warn(warning_msg, ODEintWarning)\n"
     ]
    },
    {
     "name": "stdout",
     "output_type": "stream",
     "text": [
      "0.2672222222222222\n",
      "(u)' = -1.035 u + 1.534 v + -2.402 1/(1 + u^1) + 0.713 1/(1 + v^1) + -7.508 1/(1 + u^2) + -11.646 1/(1 + v^2) + 11.020 1/(1 + u^3) + 7.714 1/(1 + v^3) + 2.089 1/(1 + u^4) + 21.525 1/(1 + v^4) + -6.340 1/(1 + u^5) + -16.408 1/(1 + v^5)\n",
      "(v)' = -0.895 v + 1.684 1/(1 + u^1) + 3.017 1/(1 + v^1) + 8.978 1/(1 + u^2) + 13.556 1/(1 + v^2) + -13.535 1/(1 + u^3) + -22.051 1/(1 + v^3) + -9.535 1/(1 + u^4) + -16.505 1/(1 + v^4) + 14.122 1/(1 + u^5) + 21.678 1/(1 + v^5)\n",
      "0.33377777777777773\n",
      "(u)' = -2.608 1/(1 + u^1) + -0.716 1/(1 + v^1) + -6.493 1/(1 + u^2) + -4.262 1/(1 + v^2) + 16.610 1/(1 + u^3) + 4.589 1/(1 + v^3) + 7.458 1/(1 + u^4) + 3.696 1/(1 + v^4) + -14.633 1/(1 + u^5) + -4.054 1/(1 + v^5)\n",
      "(v)' = 4.309 1/(1 + u^2) + -8.536 1/(1 + v^2) + 1.969 1/(1 + u^3) + 4.210 1/(1 + v^3) + -1.623 1/(1 + u^4) + 9.793 1/(1 + v^4) + -3.325 1/(1 + u^5) + -7.064 1/(1 + v^5)\n",
      "0.4003333333333333\n",
      "(u)' = 1.110 1/(1 + v^1) + 12.868 1/(1 + u^2) + -17.074 1/(1 + v^2) + -9.168 1/(1 + u^3) + 6.173 1/(1 + v^3) + -16.767 1/(1 + u^4) + 23.151 1/(1 + v^4) + 15.284 1/(1 + u^5) + -15.846 1/(1 + v^5)\n",
      "(v)' = -0.630 1/(1 + u^1) + -4.144 1/(1 + u^2) + -6.453 1/(1 + v^2) + 4.839 1/(1 + u^3) + 7.439 1/(1 + v^3) + 4.666 1/(1 + u^4) + 11.133 1/(1 + v^4) + -4.921 1/(1 + u^5) + -12.385 1/(1 + v^5)\n",
      "0.46688888888888885\n",
      "(u)' = 1.778 1/(1 + u^1) + 4.522 1/(1 + v^1) + 3.257 1/(1 + u^2) + 3.194 1/(1 + v^2) + -8.778 1/(1 + u^3) + -26.067 1/(1 + v^3) + -0.925 1/(1 + u^4) + -3.880 1/(1 + v^4) + 5.715 1/(1 + u^5) + 20.834 1/(1 + v^5)\n",
      "(v)' = 1.102 1/(1 + v^1) + 7.231 1/(1 + u^2) + -6.343 1/(1 + v^2) + -2.190 1/(1 + u^3) + -4.150 1/(1 + v^3) + -7.273 1/(1 + u^4) + 6.418 1/(1 + v^4) + 3.652 1/(1 + u^5) + 1.404 1/(1 + v^5)\n",
      "0.5334444444444444\n",
      "(u)' = -2.177 1/(1 + u^1) + -2.192 1/(1 + v^1) + 5.121 1/(1 + u^2) + 2.559 1/(1 + v^2) + 2.592 1/(1 + u^3) + 8.416 1/(1 + v^3) + -11.676 1/(1 + u^4) + -6.080 1/(1 + v^4) + 6.566 1/(1 + u^5) + -3.034 1/(1 + v^5)\n",
      "(v)' = -1.441 1/(1 + u^1) + 1.570 1/(1 + v^1) + 3.740 1/(1 + u^2) + -8.180 1/(1 + v^2) + 10.808 1/(1 + u^3) + -6.213 1/(1 + v^3) + 7.914 1/(1 + v^4) + -10.806 1/(1 + u^5) + 2.475 1/(1 + v^5)\n",
      "0.6\n",
      "(u)' = 3.195 1/(1 + u^2) + -11.368 1/(1 + v^2) + 8.143 1/(1 + v^3) + -2.139 1/(1 + u^4) + 15.611 1/(1 + v^4) + -13.578 1/(1 + v^5)\n",
      "(v)' = -7.328 1/(1 + u^2) + 7.699 1/(1 + v^2) + 0.924 1/(1 + u^3) + 6.040 1/(1 + v^3) + 5.480 1/(1 + u^4) + -1.663 1/(1 + v^4) + -1.496 1/(1 + u^5) + -10.068 1/(1 + v^5)\n",
      "[0.001      0.06755556 0.13411111 0.20066667 0.26722222 0.33377778\n",
      " 0.40033333 0.46688889 0.53344444 0.6       ]\n",
      "[0.004601838726708434, 0.20020971602582763, 0.058388458833660936, 0.2855797939502722, 0.7409649901041412, 32.15460421122102, 1.266455433257867, 23.065706606984797, 49.19708198540465, 1.8723314885787148]\n",
      "0.001\n",
      "(u)' = -1.107 u + 9.217 1/(1 + u^1) + -4.204 1/(1 + v^1) + -12.547 1/(1 + u^2) + 7.791 1/(1 + v^2) + 8.989 1/(1 + u^4) + -9.135 1/(1 + v^4) + -3.834 1/(1 + u^5) + 5.007 1/(1 + v^5)\n",
      "(v)' = -0.873 v + -11.428 1/(1 + u^1) + 16.084 1/(1 + v^1) + 36.676 1/(1 + u^2) + -64.097 1/(1 + v^2) + -68.517 1/(1 + u^3) + 125.494 1/(1 + v^3) + 66.177 1/(1 + u^4) + -114.996 1/(1 + v^4) + -24.078 1/(1 + u^5) + 39.421 1/(1 + v^5)\n",
      "0.06755555555555555\n",
      "(u)' = -1.083 u + 2.111 1/(1 + u^1) + -24.110 1/(1 + u^2) + 18.977 1/(1 + v^2) + 66.757 1/(1 + u^3) + -36.337 1/(1 + v^3) + -81.367 1/(1 + u^4) + 25.161 1/(1 + v^4) + 35.687 1/(1 + u^5) + -5.773 1/(1 + v^5)\n",
      "(v)' = -1.063 v + 3.611 1/(1 + u^1) + -12.792 1/(1 + u^2) + 3.398 1/(1 + v^2) + 30.507 1/(1 + u^3) + 3.338 1/(1 + v^3) + -34.072 1/(1 + u^4) + -14.417 1/(1 + v^4) + 14.227 1/(1 + u^5) + 7.630 1/(1 + v^5)\n",
      "0.1341111111111111\n",
      "(u)' = -1.175 u + 0.597 v + -1.140 1/(1 + u^1) + 2.281 1/(1 + v^1) + -1.199 1/(1 + u^2) + 3.633 1/(1 + v^2) + -2.566 1/(1 + u^3) + -13.438 1/(1 + v^3) + 4.017 1/(1 + u^4) + 19.549 1/(1 + v^4) + -1.028 1/(1 + u^5) + -9.582 1/(1 + v^5)\n",
      "(v)' = -0.818 v + -0.775 1/(1 + u^1) + 5.692 1/(1 + v^1) + -4.175 1/(1 + u^2) + 0.672 1/(1 + v^2) + 4.225 1/(1 + u^3) + -28.336 1/(1 + v^3) + 7.224 1/(1 + u^4) + 45.088 1/(1 + v^4) + -6.388 1/(1 + u^5) + -22.162 1/(1 + v^5)\n",
      "0.20066666666666666\n",
      "(u)' = -1.592 1/(1 + u^1) + -1.705 1/(1 + v^1) + 1.988 1/(1 + u^2) + -3.079 1/(1 + v^2) + 3.503 1/(1 + u^3) + 5.134 1/(1 + v^3) + -5.849 1/(1 + u^4) + -1.839 1/(1 + v^4) + 2.401 1/(1 + u^5) + 0.684 1/(1 + v^5)\n",
      "(v)' = 0.554 u + -1.174 v + 1.062 1/(1 + u^1) + -2.150 1/(1 + v^1) + 4.886 1/(1 + u^2) + -0.646 1/(1 + v^2) + -3.958 1/(1 + u^3) + 8.794 1/(1 + v^3) + -1.691 1/(1 + u^4) + -4.404 1/(1 + v^4) + 1.796 1/(1 + u^5) + -2.986 1/(1 + v^5)\n",
      "0.2672222222222222\n",
      "(u)' = -1.533 1/(1 + u^1) + -1.919 1/(1 + v^1) + 5.128 1/(1 + u^2) + -1.381 1/(1 + v^2) + 1.407 1/(1 + u^3) + 5.124 1/(1 + v^3) + -9.260 1/(1 + u^4) + -4.508 1/(1 + v^4) + 5.401 1/(1 + u^5) + 1.489 1/(1 + v^5)\n",
      "(v)' = -0.939 v + -0.730 1/(1 + u^1) + -1.570 1/(1 + v^1) + 1.203 1/(1 + u^2) + 10.521 1/(1 + v^2) + 2.456 1/(1 + u^3) + 2.246 1/(1 + v^3) + -1.399 1/(1 + u^4) + -15.553 1/(1 + v^4) + -0.507 1/(1 + u^5) + 4.591 1/(1 + v^5)\n",
      "0.33377777777777773\n",
      "(u)' = -0.514 u + 1.556 1/(1 + u^1) + 18.220 1/(1 + u^2) + -6.629 1/(1 + v^2) + -18.007 1/(1 + u^3) + 5.679 1/(1 + v^3) + -22.746 1/(1 + u^4) + 9.916 1/(1 + v^4) + 22.243 1/(1 + u^5) + -9.536 1/(1 + v^5)\n",
      "(v)' = -1.742 1/(1 + u^1) + -2.582 1/(1 + v^1) + -8.731 1/(1 + v^2) + 7.923 1/(1 + u^3) + 9.313 1/(1 + v^3) + -0.839 1/(1 + u^4) + 3.565 1/(1 + v^4) + -4.497 1/(1 + u^5) + -2.584 1/(1 + v^5)\n",
      "0.4003333333333333\n",
      "(u)' = 0.885 1/(1 + u^1) + -4.487 1/(1 + u^2) + 6.609 1/(1 + v^2) + -0.804 1/(1 + u^3) + -9.535 1/(1 + v^3) + 6.777 1/(1 + u^4) + -12.352 1/(1 + v^4) + -3.078 1/(1 + u^5) + 15.896 1/(1 + v^5)\n",
      "(v)' = -1.508 1/(1 + v^1) + -4.900 1/(1 + u^2) + -8.469 1/(1 + v^2) + 2.779 1/(1 + u^3) + 13.126 1/(1 + v^3) + 6.309 1/(1 + u^4) + 11.204 1/(1 + v^4) + -4.614 1/(1 + u^5) + -14.342 1/(1 + v^5)\n",
      "0.46688888888888885\n",
      "(u)' = -5.531 1/(1 + u^1) + 1.787 1/(1 + v^1) + -6.806 1/(1 + u^2) + -7.307 1/(1 + v^2) + 25.206 1/(1 + u^3) + 1.316 1/(1 + u^4) + 14.285 1/(1 + v^4) + -14.279 1/(1 + u^5) + -8.915 1/(1 + v^5)\n",
      "(v)' = -4.825 1/(1 + u^1) + 0.928 1/(1 + v^1) + -7.630 1/(1 + u^2) + -6.484 1/(1 + v^2) + 34.246 1/(1 + u^3) + -0.701 1/(1 + v^3) + 11.763 1/(1 + u^4) + 8.644 1/(1 + v^4) + -32.933 1/(1 + u^5) + -3.526 1/(1 + v^5)\n"
     ]
    },
    {
     "name": "stderr",
     "output_type": "stream",
     "text": [
      "C:\\Users\\UserALai\\miniconda3\\lib\\site-packages\\scipy\\integrate\\_odepack_py.py:247: ODEintWarning: Excess work done on this call (perhaps wrong Dfun type). Run with full_output = 1 to get quantitative information.\n",
      "  warnings.warn(warning_msg, ODEintWarning)\n",
      "C:\\Users\\UserALai\\miniconda3\\lib\\site-packages\\scipy\\integrate\\_odepack_py.py:247: ODEintWarning: Excess work done on this call (perhaps wrong Dfun type). Run with full_output = 1 to get quantitative information.\n",
      "  warnings.warn(warning_msg, ODEintWarning)\n",
      "C:\\Users\\UserALai\\miniconda3\\lib\\site-packages\\scipy\\integrate\\_odepack_py.py:247: ODEintWarning: Excess work done on this call (perhaps wrong Dfun type). Run with full_output = 1 to get quantitative information.\n",
      "  warnings.warn(warning_msg, ODEintWarning)\n",
      "C:\\Users\\UserALai\\miniconda3\\lib\\site-packages\\scipy\\integrate\\_odepack_py.py:247: ODEintWarning: Excess work done on this call (perhaps wrong Dfun type). Run with full_output = 1 to get quantitative information.\n",
      "  warnings.warn(warning_msg, ODEintWarning)\n",
      "C:\\Users\\UserALai\\miniconda3\\lib\\site-packages\\scipy\\integrate\\_odepack_py.py:247: ODEintWarning: Excess work done on this call (perhaps wrong Dfun type). Run with full_output = 1 to get quantitative information.\n",
      "  warnings.warn(warning_msg, ODEintWarning)\n",
      "C:\\Users\\UserALai\\miniconda3\\lib\\site-packages\\scipy\\integrate\\_odepack_py.py:247: ODEintWarning: Excess work done on this call (perhaps wrong Dfun type). Run with full_output = 1 to get quantitative information.\n",
      "  warnings.warn(warning_msg, ODEintWarning)\n",
      "C:\\Users\\UserALai\\miniconda3\\lib\\site-packages\\scipy\\integrate\\_odepack_py.py:247: ODEintWarning: Excess work done on this call (perhaps wrong Dfun type). Run with full_output = 1 to get quantitative information.\n",
      "  warnings.warn(warning_msg, ODEintWarning)\n",
      "C:\\Users\\UserALai\\miniconda3\\lib\\site-packages\\scipy\\integrate\\_odepack_py.py:247: ODEintWarning: Excess work done on this call (perhaps wrong Dfun type). Run with full_output = 1 to get quantitative information.\n",
      "  warnings.warn(warning_msg, ODEintWarning)\n",
      "C:\\Users\\UserALai\\miniconda3\\lib\\site-packages\\scipy\\integrate\\_odepack_py.py:247: ODEintWarning: Excess work done on this call (perhaps wrong Dfun type). Run with full_output = 1 to get quantitative information.\n",
      "  warnings.warn(warning_msg, ODEintWarning)\n"
     ]
    },
    {
     "name": "stdout",
     "output_type": "stream",
     "text": [
      "0.5334444444444444\n",
      "(u)' = -2.823 1/(1 + u^1) + -0.577 1/(1 + v^1) + 3.743 1/(1 + u^2) + -7.582 1/(1 + v^2) + 15.054 1/(1 + u^3) + 5.575 1/(1 + v^3) + -3.076 1/(1 + u^4) + 6.755 1/(1 + v^4) + -10.957 1/(1 + u^5) + -6.403 1/(1 + v^5)\n",
      "(v)' = -3.909 1/(1 + u^1) + 3.217 1/(1 + v^1) + -11.422 1/(1 + u^2) + 8.454 1/(1 + v^2) + 21.730 1/(1 + u^3) + -23.749 1/(1 + v^3) + 9.117 1/(1 + u^4) + -9.980 1/(1 + v^4) + -16.665 1/(1 + u^5) + 23.495 1/(1 + v^5)\n",
      "0.6\n",
      "(u)' = 0.673 v + -4.299 1/(1 + u^1) + -5.655 1/(1 + v^1) + -16.112 1/(1 + u^2) + -6.448 1/(1 + v^2) + 22.189 1/(1 + u^3) + 23.522 1/(1 + v^3) + 11.214 1/(1 + u^4) + 1.163 1/(1 + v^4) + -15.493 1/(1 + u^5) + -10.932 1/(1 + v^5)\n",
      "(v)' = -5.796 1/(1 + u^1) + -2.599 1/(1 + v^1) + -11.309 1/(1 + u^2) + -7.055 1/(1 + v^2) + 35.126 1/(1 + u^3) + 17.848 1/(1 + v^3) + 10.945 1/(1 + u^4) + 9.244 1/(1 + v^4) + -29.567 1/(1 + u^5) + -16.773 1/(1 + v^5)\n"
     ]
    },
    {
     "name": "stderr",
     "output_type": "stream",
     "text": [
      "C:\\Users\\UserALai\\miniconda3\\lib\\site-packages\\scipy\\integrate\\_odepack_py.py:247: ODEintWarning: Excess work done on this call (perhaps wrong Dfun type). Run with full_output = 1 to get quantitative information.\n",
      "  warnings.warn(warning_msg, ODEintWarning)\n",
      "C:\\Users\\UserALai\\miniconda3\\lib\\site-packages\\scipy\\integrate\\_odepack_py.py:247: ODEintWarning: Excess work done on this call (perhaps wrong Dfun type). Run with full_output = 1 to get quantitative information.\n",
      "  warnings.warn(warning_msg, ODEintWarning)\n",
      "C:\\Users\\UserALai\\miniconda3\\lib\\site-packages\\scipy\\integrate\\_odepack_py.py:247: ODEintWarning: Excess work done on this call (perhaps wrong Dfun type). Run with full_output = 1 to get quantitative information.\n",
      "  warnings.warn(warning_msg, ODEintWarning)\n",
      "C:\\Users\\UserALai\\miniconda3\\lib\\site-packages\\scipy\\integrate\\_odepack_py.py:247: ODEintWarning: Excess work done on this call (perhaps wrong Dfun type). Run with full_output = 1 to get quantitative information.\n",
      "  warnings.warn(warning_msg, ODEintWarning)\n"
     ]
    },
    {
     "name": "stdout",
     "output_type": "stream",
     "text": [
      "[0.001      0.06755556 0.13411111 0.20066667 0.26722222 0.33377778\n",
      " 0.40033333 0.46688889 0.53344444 0.6       ]\n",
      "[0.001539739144589016, 0.051744241486479374, 0.1890469943371075, 0.517840593825108, 0.4838401769657421, 3.236832711122071, 29.011122364512673, 105.36825331572754, 2.0898629993524267, 112.30581536067099]\n",
      "0.001\n",
      "(u)' = -1.278 u + 14.142 1/(1 + u^1) + 4.602 1/(1 + v^1) + -34.157 1/(1 + u^2) + -12.205 1/(1 + v^2) + 28.220 1/(1 + u^3) + 15.155 1/(1 + v^3) + -2.203 1/(1 + u^4) + -8.957 1/(1 + v^4) + -4.837 1/(1 + u^5) + 1.923 1/(1 + v^5)\n",
      "(v)' = -1.002 v + -1.502 1/(1 + u^1) + -3.943 1/(1 + v^1) + 16.613 1/(1 + u^2) + 8.837 1/(1 + v^2) + -35.317 1/(1 + u^3) + 30.889 1/(1 + u^4) + -13.730 1/(1 + v^4) + -9.206 1/(1 + u^5) + 8.377 1/(1 + v^5)\n"
     ]
    },
    {
     "name": "stderr",
     "output_type": "stream",
     "text": [
      "C:\\Users\\UserALai\\miniconda3\\lib\\site-packages\\scipy\\integrate\\_odepack_py.py:247: ODEintWarning: Excess work done on this call (perhaps wrong Dfun type). Run with full_output = 1 to get quantitative information.\n",
      "  warnings.warn(warning_msg, ODEintWarning)\n"
     ]
    },
    {
     "name": "stdout",
     "output_type": "stream",
     "text": [
      "0.06755555555555555\n",
      "(u)' = -1.160 u + 0.636 v + -1.755 1/(1 + u^1) + 4.530 1/(1 + v^1) + -18.065 1/(1 + u^2) + -4.744 1/(1 + v^2) + 61.807 1/(1 + u^3) + -81.368 1/(1 + u^4) + 8.726 1/(1 + v^4) + 37.263 1/(1 + u^5) + -6.250 1/(1 + v^5)\n",
      "(v)' = -1.215 v + -3.583 1/(1 + u^1) + 2.309 1/(1 + v^1) + 22.029 1/(1 + u^2) + 17.806 1/(1 + v^2) + -46.338 1/(1 + u^3) + -54.389 1/(1 + v^3) + 44.318 1/(1 + u^4) + 51.505 1/(1 + v^4) + -15.389 1/(1 + u^5) + -16.657 1/(1 + v^5)\n",
      "0.1341111111111111\n",
      "(u)' = -0.860 u + 0.861 v + -4.988 1/(1 + v^1) + 3.540 1/(1 + u^2) + -9.065 1/(1 + v^2) + -5.132 1/(1 + u^3) + 24.993 1/(1 + v^3) + -7.679 1/(1 + u^4) + -9.173 1/(1 + v^4) + 8.623 1/(1 + u^5) + -2.078 1/(1 + v^5)\n",
      "(v)' = 0.501 u + -1.286 v + -1.422 1/(1 + u^1) + 1.526 1/(1 + v^1) + 3.129 1/(1 + u^2) + 5.577 1/(1 + v^2) + 3.011 1/(1 + u^3) + -15.014 1/(1 + v^3) + -8.802 1/(1 + u^4) + 12.823 1/(1 + v^4) + 5.416 1/(1 + u^5) + -5.209 1/(1 + v^5)\n",
      "0.20066666666666666\n",
      "(u)' = -0.894 u + 1.089 v + -1.342 1/(1 + u^1) + 1.178 1/(1 + v^1) + -0.593 1/(1 + u^2) + -6.454 1/(1 + v^2) + 1.499 1/(1 + u^3) + 1.238 1/(1 + v^3) + -4.760 1/(1 + u^4) + 13.676 1/(1 + v^4) + 3.675 1/(1 + u^5) + -8.858 1/(1 + v^5)\n",
      "(v)' = -0.769 v + 1.722 1/(1 + u^1) + 3.197 1/(1 + v^2) + -4.925 1/(1 + u^3) + -3.078 1/(1 + v^3) + 4.652 1/(1 + u^4) + -5.722 1/(1 + v^4) + 4.826 1/(1 + v^5)\n",
      "0.2672222222222222\n",
      "(u)' = -1.429 1/(1 + u^1) + -2.401 1/(1 + v^1) + -5.040 1/(1 + u^2) + -13.117 1/(1 + v^2) + 10.639 1/(1 + u^3) + 17.564 1/(1 + v^3) + 6.369 1/(1 + u^4) + 14.513 1/(1 + v^4) + -10.466 1/(1 + u^5) + -17.261 1/(1 + v^5)\n",
      "(v)' = -1.475 1/(1 + v^1) + -8.659 1/(1 + u^2) + 8.297 1/(1 + v^2) + 4.131 1/(1 + u^3) + 9.951 1/(1 + u^4) + -12.885 1/(1 + v^4) + -6.880 1/(1 + u^5) + 7.384 1/(1 + v^5)\n",
      "0.33377777777777773\n",
      "(u)' = -0.740 1/(1 + u^1) + -11.542 1/(1 + u^2) + 3.407 1/(1 + v^2) + 11.069 1/(1 + u^3) + -1.113 1/(1 + v^3) + 15.087 1/(1 + u^4) + -3.646 1/(1 + v^4) + -14.748 1/(1 + u^5) + 1.871 1/(1 + v^5)\n",
      "(v)' = -2.937 1/(1 + v^1) + 7.693 1/(1 + u^2) + -11.882 1/(1 + v^2) + -6.635 1/(1 + u^3) + 14.563 1/(1 + v^3) + -10.299 1/(1 + u^4) + 7.905 1/(1 + v^4) + 11.058 1/(1 + u^5) + -9.568 1/(1 + v^5)\n",
      "0.4003333333333333\n",
      "(u)' = -2.562 1/(1 + u^1) + 3.967 1/(1 + v^1) + -6.691 1/(1 + u^2) + 4.468 1/(1 + v^2) + 19.377 1/(1 + u^3) + -19.606 1/(1 + v^3) + 9.850 1/(1 + u^4) + -2.571 1/(1 + v^4) + -19.568 1/(1 + u^5) + 12.884 1/(1 + v^5)\n",
      "(v)' = -0.566 u + -0.958 1/(1 + u^1) + 1.598 1/(1 + v^1) + -2.286 1/(1 + u^2) + 3.583 1/(1 + v^2) + 4.667 1/(1 + u^3) + -7.834 1/(1 + v^3) + 1.069 1/(1 + u^4) + -1.512 1/(1 + v^4) + -2.910 1/(1 + u^5) + 5.012 1/(1 + v^5)\n"
     ]
    },
    {
     "name": "stderr",
     "output_type": "stream",
     "text": [
      "C:\\Users\\UserALai\\miniconda3\\lib\\site-packages\\scipy\\integrate\\_odepack_py.py:247: ODEintWarning: Excess work done on this call (perhaps wrong Dfun type). Run with full_output = 1 to get quantitative information.\n",
      "  warnings.warn(warning_msg, ODEintWarning)\n",
      "C:\\Users\\UserALai\\miniconda3\\lib\\site-packages\\scipy\\integrate\\_odepack_py.py:247: ODEintWarning: Excess work done on this call (perhaps wrong Dfun type). Run with full_output = 1 to get quantitative information.\n",
      "  warnings.warn(warning_msg, ODEintWarning)\n",
      "C:\\Users\\UserALai\\miniconda3\\lib\\site-packages\\scipy\\integrate\\_odepack_py.py:247: ODEintWarning: Excess work done on this call (perhaps wrong Dfun type). Run with full_output = 1 to get quantitative information.\n",
      "  warnings.warn(warning_msg, ODEintWarning)\n",
      "C:\\Users\\UserALai\\miniconda3\\lib\\site-packages\\scipy\\integrate\\_odepack_py.py:247: ODEintWarning: Excess work done on this call (perhaps wrong Dfun type). Run with full_output = 1 to get quantitative information.\n",
      "  warnings.warn(warning_msg, ODEintWarning)\n",
      "C:\\Users\\UserALai\\miniconda3\\lib\\site-packages\\scipy\\integrate\\_odepack_py.py:247: ODEintWarning: Excess work done on this call (perhaps wrong Dfun type). Run with full_output = 1 to get quantitative information.\n",
      "  warnings.warn(warning_msg, ODEintWarning)\n",
      "C:\\Users\\UserALai\\miniconda3\\lib\\site-packages\\scipy\\integrate\\_odepack_py.py:247: ODEintWarning: Excess work done on this call (perhaps wrong Dfun type). Run with full_output = 1 to get quantitative information.\n",
      "  warnings.warn(warning_msg, ODEintWarning)\n",
      "C:\\Users\\UserALai\\miniconda3\\lib\\site-packages\\scipy\\integrate\\_odepack_py.py:247: ODEintWarning: Excess work done on this call (perhaps wrong Dfun type). Run with full_output = 1 to get quantitative information.\n",
      "  warnings.warn(warning_msg, ODEintWarning)\n",
      "C:\\Users\\UserALai\\miniconda3\\lib\\site-packages\\scipy\\integrate\\_odepack_py.py:247: ODEintWarning: Excess work done on this call (perhaps wrong Dfun type). Run with full_output = 1 to get quantitative information.\n",
      "  warnings.warn(warning_msg, ODEintWarning)\n",
      "C:\\Users\\UserALai\\miniconda3\\lib\\site-packages\\scipy\\integrate\\_odepack_py.py:247: ODEintWarning: Excess work done on this call (perhaps wrong Dfun type). Run with full_output = 1 to get quantitative information.\n",
      "  warnings.warn(warning_msg, ODEintWarning)\n",
      "C:\\Users\\UserALai\\miniconda3\\lib\\site-packages\\scipy\\integrate\\_odepack_py.py:247: ODEintWarning: Excess work done on this call (perhaps wrong Dfun type). Run with full_output = 1 to get quantitative information.\n",
      "  warnings.warn(warning_msg, ODEintWarning)\n",
      "C:\\Users\\UserALai\\miniconda3\\lib\\site-packages\\scipy\\integrate\\_odepack_py.py:247: ODEintWarning: Excess work done on this call (perhaps wrong Dfun type). Run with full_output = 1 to get quantitative information.\n",
      "  warnings.warn(warning_msg, ODEintWarning)\n",
      "C:\\Users\\UserALai\\miniconda3\\lib\\site-packages\\scipy\\integrate\\_odepack_py.py:247: ODEintWarning: Excess work done on this call (perhaps wrong Dfun type). Run with full_output = 1 to get quantitative information.\n",
      "  warnings.warn(warning_msg, ODEintWarning)\n",
      "C:\\Users\\UserALai\\miniconda3\\lib\\site-packages\\scipy\\integrate\\_odepack_py.py:247: ODEintWarning: Excess work done on this call (perhaps wrong Dfun type). Run with full_output = 1 to get quantitative information.\n",
      "  warnings.warn(warning_msg, ODEintWarning)\n",
      "C:\\Users\\UserALai\\miniconda3\\lib\\site-packages\\scipy\\integrate\\_odepack_py.py:247: ODEintWarning: Excess work done on this call (perhaps wrong Dfun type). Run with full_output = 1 to get quantitative information.\n",
      "  warnings.warn(warning_msg, ODEintWarning)\n",
      "C:\\Users\\UserALai\\miniconda3\\lib\\site-packages\\scipy\\integrate\\_odepack_py.py:247: ODEintWarning: Excess work done on this call (perhaps wrong Dfun type). Run with full_output = 1 to get quantitative information.\n",
      "  warnings.warn(warning_msg, ODEintWarning)\n",
      "C:\\Users\\UserALai\\miniconda3\\lib\\site-packages\\scipy\\integrate\\_odepack_py.py:247: ODEintWarning: Excess work done on this call (perhaps wrong Dfun type). Run with full_output = 1 to get quantitative information.\n",
      "  warnings.warn(warning_msg, ODEintWarning)\n",
      "C:\\Users\\UserALai\\miniconda3\\lib\\site-packages\\scipy\\integrate\\_odepack_py.py:247: ODEintWarning: Excess work done on this call (perhaps wrong Dfun type). Run with full_output = 1 to get quantitative information.\n",
      "  warnings.warn(warning_msg, ODEintWarning)\n"
     ]
    },
    {
     "name": "stdout",
     "output_type": "stream",
     "text": [
      "0.46688888888888885\n",
      "(u)' = -2.845 1/(1 + u^1) + -0.908 1/(1 + v^1) + -4.896 1/(1 + u^2) + -8.258 1/(1 + v^2) + 19.203 1/(1 + u^3) + 7.200 1/(1 + v^3) + 7.726 1/(1 + u^4) + 7.648 1/(1 + v^4) + -17.777 1/(1 + u^5) + -7.460 1/(1 + v^5)\n",
      "(v)' = 5.145 1/(1 + u^1) + -1.894 1/(1 + v^1) + 11.034 1/(1 + u^2) + -31.113 1/(1 + u^3) + 6.635 1/(1 + v^3) + -11.604 1/(1 + u^4) + -2.714 1/(1 + v^4) + 26.130 1/(1 + u^5) + -1.567 1/(1 + v^5)\n",
      "0.5334444444444444\n",
      "(u)' = -0.591 u + 1.453 1/(1 + u^1) + -2.051 1/(1 + v^1) + 7.054 1/(1 + u^2) + 9.294 1/(1 + v^2) + -9.654 1/(1 + u^3) + 8.744 1/(1 + v^3) + -9.687 1/(1 + u^4) + -9.225 1/(1 + v^4) + 8.827 1/(1 + u^5) + -4.323 1/(1 + v^5)\n",
      "(v)' = -2.526 1/(1 + v^1) + -0.589 1/(1 + u^2) + -0.700 1/(1 + v^2) + 1.540 1/(1 + u^3) + 9.974 1/(1 + v^3) + 1.104 1/(1 + u^4) + -2.167 1/(1 + v^4) + -2.571 1/(1 + u^5) + -3.990 1/(1 + v^5)\n",
      "0.6\n",
      "(u)' = -3.692 1/(1 + u^1) + -3.451 1/(1 + v^1) + -15.780 1/(1 + u^2) + 3.649 1/(1 + v^2) + 29.833 1/(1 + u^3) + 20.881 1/(1 + v^3) + 18.620 1/(1 + u^4) + -1.267 1/(1 + v^4) + -31.254 1/(1 + u^5) + -17.549 1/(1 + v^5)\n",
      "(v)' = 2.644 1/(1 + u^1) + -2.729 1/(1 + v^1) + 15.029 1/(1 + u^2) + -16.666 1/(1 + v^2) + -15.623 1/(1 + u^3) + 21.533 1/(1 + v^3) + -12.567 1/(1 + u^4) + 17.827 1/(1 + v^4) + 12.835 1/(1 + u^5) + -22.340 1/(1 + v^5)\n",
      "[0.001      0.06755556 0.13411111 0.20066667 0.26722222 0.33377778\n",
      " 0.40033333 0.46688889 0.53344444 0.6       ]\n",
      "[5.156370556530326, 0.15820104241157523, 0.1701337923519542, 0.2784995172524075, 1.6270955478999027, 2.6157481899087975, 0.6249790869408143, 3.1223680506009086, 4.129585877975404, 228.53803438986145]\n",
      "0.001\n",
      "(u)' = -1.138 u + 7.061 1/(1 + u^1) + 1.520 1/(1 + v^1) + -11.712 1/(1 + u^2) + -1.014 1/(1 + v^2) + 11.202 1/(1 + u^4) + -5.709 1/(1 + u^5)\n",
      "(v)' = -1.275 v + 5.738 1/(1 + u^1) + -0.836 1/(1 + v^1) + -7.376 1/(1 + u^2) + 8.723 1/(1 + v^3) + 8.341 1/(1 + u^4) + -15.323 1/(1 + v^4) + -4.465 1/(1 + u^5) + 6.843 1/(1 + v^5)\n",
      "0.06755555555555555\n",
      "(u)' = -1.106 u + 2.348 1/(1 + u^1) + 13.830 1/(1 + u^2) + 44.837 1/(1 + v^2) + -52.483 1/(1 + u^3) + -145.827 1/(1 + v^3) + 55.239 1/(1 + u^4) + 165.102 1/(1 + v^4) + -18.572 1/(1 + u^5) + -63.042 1/(1 + v^5)\n",
      "(v)' = -1.084 v + -0.620 1/(1 + u^1) + 1.230 1/(1 + v^1) + 4.641 1/(1 + u^2) + 3.622 1/(1 + v^2) + -10.065 1/(1 + u^3) + -4.427 1/(1 + v^3) + 7.065 1/(1 + u^4) + -1.743 1/(1 + v^4) + -0.093 1/(1 + u^5) + 1.650 1/(1 + v^5)\n",
      "0.1341111111111111\n",
      "(u)' = -1.104 u + 0.764 v + -1.450 1/(1 + u^1) + 4.515 1/(1 + v^1) + -6.965 1/(1 + u^2) + 7.050 1/(1 + u^3) + -29.952 1/(1 + v^3) + 1.415 1/(1 + u^4) + 50.776 1/(1 + v^4) + -2.337 1/(1 + u^5) + -23.133 1/(1 + v^5)\n",
      "(v)' = -0.904 v + 4.080 1/(1 + u^2) + 10.559 1/(1 + v^2) + -6.432 1/(1 + u^3) + -5.926 1/(1 + v^3) + 3.258 1/(1 + u^4) + -16.875 1/(1 + v^4) + 12.677 1/(1 + v^5)\n",
      "0.20066666666666666\n",
      "(u)' = -1.273 u + 0.666 v + -1.380 1/(1 + u^1) + 1.030 1/(1 + v^1) + 3.955 1/(1 + u^2) + 2.501 1/(1 + v^2) + -1.735 1/(1 + u^3) + -1.769 1/(1 + v^3) + -11.811 1/(1 + u^4) + 1.906 1/(1 + v^4) + 9.287 1/(1 + u^5) + -1.366 1/(1 + v^5)\n",
      "(v)' = -8.215 1/(1 + v^2) + -0.549 1/(1 + u^3) + 5.749 1/(1 + v^3) + 15.056 1/(1 + v^4) + 0.696 1/(1 + u^5) + -13.033 1/(1 + v^5)\n",
      "0.2672222222222222\n",
      "(u)' = -3.746 1/(1 + v^1) + -3.253 1/(1 + u^2) + 5.779 1/(1 + u^3) + 11.296 1/(1 + v^3) + 7.496 1/(1 + u^4) + -8.234 1/(1 + v^4) + -9.636 1/(1 + u^5)\n",
      "(v)' = -3.759 1/(1 + u^1) + -4.173 1/(1 + v^1) + -3.971 1/(1 + u^2) + -9.395 1/(1 + v^2) + 18.938 1/(1 + u^3) + 20.223 1/(1 + v^3) + 2.215 1/(1 + u^4) + 5.134 1/(1 + v^4) + -12.768 1/(1 + u^5) + -12.882 1/(1 + v^5)\n"
     ]
    },
    {
     "name": "stderr",
     "output_type": "stream",
     "text": [
      "C:\\Users\\UserALai\\miniconda3\\lib\\site-packages\\scipy\\integrate\\_odepack_py.py:247: ODEintWarning: Excess work done on this call (perhaps wrong Dfun type). Run with full_output = 1 to get quantitative information.\n",
      "  warnings.warn(warning_msg, ODEintWarning)\n",
      "C:\\Users\\UserALai\\miniconda3\\lib\\site-packages\\scipy\\integrate\\_odepack_py.py:247: ODEintWarning: Excess work done on this call (perhaps wrong Dfun type). Run with full_output = 1 to get quantitative information.\n",
      "  warnings.warn(warning_msg, ODEintWarning)\n",
      "C:\\Users\\UserALai\\miniconda3\\lib\\site-packages\\scipy\\integrate\\_odepack_py.py:247: ODEintWarning: Excess work done on this call (perhaps wrong Dfun type). Run with full_output = 1 to get quantitative information.\n",
      "  warnings.warn(warning_msg, ODEintWarning)\n",
      "C:\\Users\\UserALai\\miniconda3\\lib\\site-packages\\scipy\\integrate\\_odepack_py.py:247: ODEintWarning: Excess work done on this call (perhaps wrong Dfun type). Run with full_output = 1 to get quantitative information.\n",
      "  warnings.warn(warning_msg, ODEintWarning)\n",
      "C:\\Users\\UserALai\\miniconda3\\lib\\site-packages\\scipy\\integrate\\_odepack_py.py:247: ODEintWarning: Excess work done on this call (perhaps wrong Dfun type). Run with full_output = 1 to get quantitative information.\n",
      "  warnings.warn(warning_msg, ODEintWarning)\n",
      "C:\\Users\\UserALai\\miniconda3\\lib\\site-packages\\scipy\\integrate\\_odepack_py.py:247: ODEintWarning: Excess work done on this call (perhaps wrong Dfun type). Run with full_output = 1 to get quantitative information.\n",
      "  warnings.warn(warning_msg, ODEintWarning)\n",
      "C:\\Users\\UserALai\\miniconda3\\lib\\site-packages\\scipy\\integrate\\_odepack_py.py:247: ODEintWarning: Excess work done on this call (perhaps wrong Dfun type). Run with full_output = 1 to get quantitative information.\n",
      "  warnings.warn(warning_msg, ODEintWarning)\n",
      "C:\\Users\\UserALai\\miniconda3\\lib\\site-packages\\scipy\\integrate\\_odepack_py.py:247: ODEintWarning: Excess work done on this call (perhaps wrong Dfun type). Run with full_output = 1 to get quantitative information.\n",
      "  warnings.warn(warning_msg, ODEintWarning)\n",
      "C:\\Users\\UserALai\\miniconda3\\lib\\site-packages\\scipy\\integrate\\_odepack_py.py:247: ODEintWarning: Excess work done on this call (perhaps wrong Dfun type). Run with full_output = 1 to get quantitative information.\n",
      "  warnings.warn(warning_msg, ODEintWarning)\n",
      "C:\\Users\\UserALai\\miniconda3\\lib\\site-packages\\scipy\\integrate\\_odepack_py.py:247: ODEintWarning: Excess work done on this call (perhaps wrong Dfun type). Run with full_output = 1 to get quantitative information.\n",
      "  warnings.warn(warning_msg, ODEintWarning)\n",
      "C:\\Users\\UserALai\\miniconda3\\lib\\site-packages\\scipy\\integrate\\_odepack_py.py:247: ODEintWarning: Excess work done on this call (perhaps wrong Dfun type). Run with full_output = 1 to get quantitative information.\n",
      "  warnings.warn(warning_msg, ODEintWarning)\n",
      "C:\\Users\\UserALai\\miniconda3\\lib\\site-packages\\scipy\\integrate\\_odepack_py.py:247: ODEintWarning: Excess work done on this call (perhaps wrong Dfun type). Run with full_output = 1 to get quantitative information.\n",
      "  warnings.warn(warning_msg, ODEintWarning)\n",
      "C:\\Users\\UserALai\\miniconda3\\lib\\site-packages\\scipy\\integrate\\_odepack_py.py:247: ODEintWarning: Excess work done on this call (perhaps wrong Dfun type). Run with full_output = 1 to get quantitative information.\n",
      "  warnings.warn(warning_msg, ODEintWarning)\n",
      "C:\\Users\\UserALai\\miniconda3\\lib\\site-packages\\scipy\\integrate\\_odepack_py.py:247: ODEintWarning: Excess work done on this call (perhaps wrong Dfun type). Run with full_output = 1 to get quantitative information.\n",
      "  warnings.warn(warning_msg, ODEintWarning)\n",
      "C:\\Users\\UserALai\\miniconda3\\lib\\site-packages\\scipy\\integrate\\_odepack_py.py:247: ODEintWarning: Excess work done on this call (perhaps wrong Dfun type). Run with full_output = 1 to get quantitative information.\n",
      "  warnings.warn(warning_msg, ODEintWarning)\n",
      "C:\\Users\\UserALai\\miniconda3\\lib\\site-packages\\scipy\\integrate\\_odepack_py.py:247: ODEintWarning: Excess work done on this call (perhaps wrong Dfun type). Run with full_output = 1 to get quantitative information.\n",
      "  warnings.warn(warning_msg, ODEintWarning)\n",
      "C:\\Users\\UserALai\\miniconda3\\lib\\site-packages\\scipy\\integrate\\_odepack_py.py:247: ODEintWarning: Excess work done on this call (perhaps wrong Dfun type). Run with full_output = 1 to get quantitative information.\n",
      "  warnings.warn(warning_msg, ODEintWarning)\n",
      "C:\\Users\\UserALai\\miniconda3\\lib\\site-packages\\scipy\\integrate\\_odepack_py.py:247: ODEintWarning: Excess work done on this call (perhaps wrong Dfun type). Run with full_output = 1 to get quantitative information.\n",
      "  warnings.warn(warning_msg, ODEintWarning)\n"
     ]
    },
    {
     "name": "stdout",
     "output_type": "stream",
     "text": [
      "0.33377777777777773\n",
      "(u)' = -1.947 1/(1 + u^1) + 3.164 1/(1 + v^1) + -10.059 1/(1 + u^2) + 3.278 1/(1 + v^2) + 15.752 1/(1 + u^3) + -16.116 1/(1 + v^3) + 12.150 1/(1 + u^4) + -0.993 1/(1 + v^4) + -16.515 1/(1 + u^5) + 10.994 1/(1 + v^5)\n",
      "(v)' = -2.517 1/(1 + u^1) + 10.735 1/(1 + u^3) + -2.825 1/(1 + u^4) + -5.309 1/(1 + u^5)\n"
     ]
    },
    {
     "name": "stderr",
     "output_type": "stream",
     "text": [
      "C:\\Users\\UserALai\\miniconda3\\lib\\site-packages\\scipy\\integrate\\_odepack_py.py:247: ODEintWarning: Excess work done on this call (perhaps wrong Dfun type). Run with full_output = 1 to get quantitative information.\n",
      "  warnings.warn(warning_msg, ODEintWarning)\n",
      "C:\\Users\\UserALai\\miniconda3\\lib\\site-packages\\scipy\\integrate\\_odepack_py.py:247: ODEintWarning: Excess work done on this call (perhaps wrong Dfun type). Run with full_output = 1 to get quantitative information.\n",
      "  warnings.warn(warning_msg, ODEintWarning)\n"
     ]
    },
    {
     "name": "stdout",
     "output_type": "stream",
     "text": [
      "0.4003333333333333\n",
      "(u)' = -2.740 1/(1 + u^2) + -2.580 1/(1 + v^2) + 7.557 1/(1 + u^3) + -2.544 1/(1 + v^3) + 8.427 1/(1 + u^4) + -12.595 1/(1 + u^5) + 4.179 1/(1 + v^5)\n",
      "(v)' = -0.860 1/(1 + u^1) + 2.725 1/(1 + v^1) + -5.635 1/(1 + u^2) + 1.416 1/(1 + v^2) + 9.634 1/(1 + u^3) + -13.941 1/(1 + v^3) + 8.516 1/(1 + u^4) + -11.758 1/(1 + u^5) + 9.575 1/(1 + v^5)\n",
      "0.46688888888888885\n",
      "(u)' = 5.146 1/(1 + v^1) + 8.198 1/(1 + u^2) + 4.688 1/(1 + v^2) + -3.843 1/(1 + u^3) + -23.784 1/(1 + v^3) + -9.969 1/(1 + u^4) + -0.867 1/(1 + v^4) + 6.378 1/(1 + u^5) + 13.939 1/(1 + v^5)\n",
      "(v)' = -0.668 v + 5.544 1/(1 + v^2) + -1.341 1/(1 + u^3) + 6.367 1/(1 + v^3) + -1.468 1/(1 + v^4) + 2.216 1/(1 + u^5) + -10.624 1/(1 + v^5)\n",
      "0.5334444444444444\n",
      "(u)' = -0.888 1/(1 + u^1) + -2.435 1/(1 + v^1) + 9.588 1/(1 + u^2) + -10.542 1/(1 + v^2) + 16.536 1/(1 + v^3) + -10.913 1/(1 + u^4) + 9.436 1/(1 + v^4) + 4.444 1/(1 + u^5) + -15.361 1/(1 + v^5)\n",
      "(v)' = -2.406 1/(1 + u^1) + -4.898 1/(1 + v^1) + -5.224 1/(1 + u^2) + -4.000 1/(1 + v^2) + 15.967 1/(1 + u^3) + 23.388 1/(1 + v^3) + 6.304 1/(1 + u^4) + -14.585 1/(1 + u^5) + -14.510 1/(1 + v^5)\n"
     ]
    },
    {
     "name": "stderr",
     "output_type": "stream",
     "text": [
      "C:\\Users\\UserALai\\miniconda3\\lib\\site-packages\\scipy\\integrate\\_odepack_py.py:247: ODEintWarning: Excess work done on this call (perhaps wrong Dfun type). Run with full_output = 1 to get quantitative information.\n",
      "  warnings.warn(warning_msg, ODEintWarning)\n"
     ]
    },
    {
     "name": "stdout",
     "output_type": "stream",
     "text": [
      "0.6\n",
      "(u)' = 0.520 v + -6.015 1/(1 + u^1) + -1.044 1/(1 + v^1) + -15.532 1/(1 + u^2) + 9.538 1/(1 + v^2) + 30.290 1/(1 + u^3) + 7.779 1/(1 + u^4) + -10.300 1/(1 + v^4) + -20.420 1/(1 + u^5) + 5.236 1/(1 + v^5)\n",
      "(v)' = -2.013 1/(1 + u^1) + 2.449 1/(1 + v^1) + -10.630 1/(1 + u^2) + 13.293 1/(1 + v^2) + 13.601 1/(1 + u^3) + -16.868 1/(1 + v^3) + 9.676 1/(1 + u^4) + -13.009 1/(1 + v^4) + -12.601 1/(1 + u^5) + 15.870 1/(1 + v^5)\n",
      "[0.001      0.06755556 0.13411111 0.20066667 0.26722222 0.33377778\n",
      " 0.40033333 0.46688889 0.53344444 0.6       ]\n",
      "[0.003172038874047902, 0.05399418780034494, 0.11202280979680043, 0.3263098472781715, 7.277433387658719, 3.7452658290990857, 6.094850785579832, 39.62366194613697, 3.1007263076870926, 369.54887468004637]\n",
      "0.001\n",
      "(u)' = -1.210 u + 12.919 1/(1 + u^1) + -6.431 1/(1 + v^1) + -27.282 1/(1 + u^2) + 27.103 1/(1 + v^2) + 24.776 1/(1 + u^3) + -44.473 1/(1 + v^3) + -10.442 1/(1 + u^4) + 30.672 1/(1 + v^4) + 1.757 1/(1 + u^5) + -7.131 1/(1 + v^5)\n",
      "(v)' = -1.163 v + -3.955 1/(1 + u^1) + 30.440 1/(1 + u^2) + -63.796 1/(1 + u^3) + 4.912 1/(1 + v^3) + 56.318 1/(1 + u^4) + -9.156 1/(1 + v^4) + -17.472 1/(1 + u^5) + 4.111 1/(1 + v^5)\n",
      "0.06755555555555555\n",
      "(u)' = -1.420 u + -5.125 1/(1 + u^2) + 32.493 1/(1 + v^2) + 27.133 1/(1 + u^3) + -74.921 1/(1 + v^3) + -50.924 1/(1 + u^4) + 66.894 1/(1 + v^4) + 27.797 1/(1 + u^5) + -21.465 1/(1 + v^5)\n",
      "(v)' = -0.619 v + -3.210 1/(1 + u^1) + 1.375 1/(1 + v^1) + -13.978 1/(1 + u^2) + 8.056 1/(1 + v^2) + 61.296 1/(1 + u^3) + -11.552 1/(1 + v^3) + -79.026 1/(1 + u^4) + 34.120 1/(1 + u^5) + 3.444 1/(1 + v^5)\n",
      "0.1341111111111111\n",
      "(u)' = -1.791 u + 1.062 v + -2.157 1/(1 + u^1) + 4.585 1/(1 + v^1) + 4.946 1/(1 + u^2) + -0.800 1/(1 + v^2) + -2.879 1/(1 + u^3) + -11.303 1/(1 + v^3) + -12.069 1/(1 + u^4) + 22.045 1/(1 + v^4) + 9.587 1/(1 + u^5) + -11.064 1/(1 + v^5)\n",
      "(v)' = -2.442 1/(1 + v^1) + -6.756 1/(1 + u^2) + 1.110 1/(1 + v^2) + 2.869 1/(1 + u^3) + 13.142 1/(1 + v^3) + 17.261 1/(1 + u^4) + -29.488 1/(1 + v^4) + -13.522 1/(1 + u^5) + 17.301 1/(1 + v^5)\n",
      "0.20066666666666666\n",
      "(u)' = -1.377 u + 0.954 v + -2.887 1/(1 + u^1) + 2.957 1/(1 + v^1) + -8.370 1/(1 + u^2) + 8.577 1/(1 + v^2) + 11.539 1/(1 + u^3) + -12.690 1/(1 + v^3) + 0.956 1/(1 + u^4) + -1.658 1/(1 + v^4) + -4.722 1/(1 + u^5) + 6.595 1/(1 + v^5)\n",
      "(v)' = -1.995 1/(1 + u^1) + -0.722 1/(1 + v^1) + -9.059 1/(1 + u^2) + 2.711 1/(1 + v^2) + 11.671 1/(1 + u^3) + 7.728 1/(1 + u^4) + -2.007 1/(1 + v^4) + -9.265 1/(1 + u^5) + 0.523 1/(1 + v^5)\n"
     ]
    },
    {
     "name": "stderr",
     "output_type": "stream",
     "text": [
      "C:\\Users\\UserALai\\miniconda3\\lib\\site-packages\\scipy\\integrate\\_odepack_py.py:247: ODEintWarning: Excess work done on this call (perhaps wrong Dfun type). Run with full_output = 1 to get quantitative information.\n",
      "  warnings.warn(warning_msg, ODEintWarning)\n",
      "C:\\Users\\UserALai\\miniconda3\\lib\\site-packages\\scipy\\integrate\\_odepack_py.py:247: ODEintWarning: Excess work done on this call (perhaps wrong Dfun type). Run with full_output = 1 to get quantitative information.\n",
      "  warnings.warn(warning_msg, ODEintWarning)\n",
      "C:\\Users\\UserALai\\miniconda3\\lib\\site-packages\\scipy\\integrate\\_odepack_py.py:247: ODEintWarning: Excess work done on this call (perhaps wrong Dfun type). Run with full_output = 1 to get quantitative information.\n",
      "  warnings.warn(warning_msg, ODEintWarning)\n",
      "C:\\Users\\UserALai\\miniconda3\\lib\\site-packages\\scipy\\integrate\\_odepack_py.py:247: ODEintWarning: Excess work done on this call (perhaps wrong Dfun type). Run with full_output = 1 to get quantitative information.\n",
      "  warnings.warn(warning_msg, ODEintWarning)\n",
      "C:\\Users\\UserALai\\miniconda3\\lib\\site-packages\\scipy\\integrate\\_odepack_py.py:247: ODEintWarning: Excess work done on this call (perhaps wrong Dfun type). Run with full_output = 1 to get quantitative information.\n",
      "  warnings.warn(warning_msg, ODEintWarning)\n"
     ]
    },
    {
     "name": "stdout",
     "output_type": "stream",
     "text": [
      "0.2672222222222222\n",
      "(u)' = -4.664 1/(1 + u^2) + -1.180 1/(1 + v^2) + 6.174 1/(1 + u^3) + -0.732 1/(1 + v^3) + 9.036 1/(1 + u^4) + -10.253 1/(1 + u^5) + 1.239 1/(1 + v^5)\n",
      "(v)' = -0.639 1/(1 + v^1) + 1.604 1/(1 + u^2) + -8.393 1/(1 + v^2) + -2.523 1/(1 + u^3) + 11.152 1/(1 + v^3) + -2.888 1/(1 + u^4) + 12.650 1/(1 + v^4) + 4.189 1/(1 + u^5) + -15.403 1/(1 + v^5)\n",
      "0.33377777777777773\n",
      "(u)' = -2.800 1/(1 + u^1) + 1.646 1/(1 + v^1) + -12.848 1/(1 + u^2) + 21.073 1/(1 + u^3) + -3.737 1/(1 + v^3) + 14.840 1/(1 + u^4) + 4.486 1/(1 + v^4) + -21.126 1/(1 + u^5) + -1.991 1/(1 + v^5)\n",
      "(v)' = -1.454 1/(1 + u^1) + -0.797 1/(1 + v^1) + -13.478 1/(1 + u^2) + 7.294 1/(1 + v^2) + 15.380 1/(1 + u^3) + 16.372 1/(1 + u^4) + -9.139 1/(1 + v^4) + -18.358 1/(1 + u^5) + 4.005 1/(1 + v^5)\n",
      "0.4003333333333333\n",
      "(u)' = -2.524 1/(1 + u^1) + 2.957 1/(1 + v^1) + -6.102 1/(1 + u^2) + 5.949 1/(1 + v^2) + 16.446 1/(1 + u^3) + -19.469 1/(1 + v^3) + 6.977 1/(1 + u^4) + -7.366 1/(1 + v^4) + -14.795 1/(1 + u^5) + 17.666 1/(1 + v^5)\n",
      "(v)' = -4.329 1/(1 + u^1) + 1.359 1/(1 + v^1) + -15.995 1/(1 + u^2) + 2.616 1/(1 + v^2) + 34.292 1/(1 + u^3) + -8.653 1/(1 + v^3) + 21.612 1/(1 + u^4) + -3.410 1/(1 + v^4) + -35.534 1/(1 + u^5) + 7.620 1/(1 + v^5)\n"
     ]
    },
    {
     "name": "stderr",
     "output_type": "stream",
     "text": [
      "C:\\Users\\UserALai\\miniconda3\\lib\\site-packages\\scipy\\integrate\\_odepack_py.py:247: ODEintWarning: Excess work done on this call (perhaps wrong Dfun type). Run with full_output = 1 to get quantitative information.\n",
      "  warnings.warn(warning_msg, ODEintWarning)\n",
      "C:\\Users\\UserALai\\miniconda3\\lib\\site-packages\\scipy\\integrate\\_odepack_py.py:247: ODEintWarning: Excess work done on this call (perhaps wrong Dfun type). Run with full_output = 1 to get quantitative information.\n",
      "  warnings.warn(warning_msg, ODEintWarning)\n",
      "C:\\Users\\UserALai\\miniconda3\\lib\\site-packages\\scipy\\integrate\\_odepack_py.py:247: ODEintWarning: Excess work done on this call (perhaps wrong Dfun type). Run with full_output = 1 to get quantitative information.\n",
      "  warnings.warn(warning_msg, ODEintWarning)\n",
      "C:\\Users\\UserALai\\miniconda3\\lib\\site-packages\\scipy\\integrate\\_odepack_py.py:247: ODEintWarning: Excess work done on this call (perhaps wrong Dfun type). Run with full_output = 1 to get quantitative information.\n",
      "  warnings.warn(warning_msg, ODEintWarning)\n",
      "C:\\Users\\UserALai\\miniconda3\\lib\\site-packages\\scipy\\integrate\\_odepack_py.py:247: ODEintWarning: Excess work done on this call (perhaps wrong Dfun type). Run with full_output = 1 to get quantitative information.\n",
      "  warnings.warn(warning_msg, ODEintWarning)\n",
      "C:\\Users\\UserALai\\miniconda3\\lib\\site-packages\\scipy\\integrate\\_odepack_py.py:247: ODEintWarning: Excess work done on this call (perhaps wrong Dfun type). Run with full_output = 1 to get quantitative information.\n",
      "  warnings.warn(warning_msg, ODEintWarning)\n",
      "C:\\Users\\UserALai\\miniconda3\\lib\\site-packages\\scipy\\integrate\\_odepack_py.py:247: ODEintWarning: Excess work done on this call (perhaps wrong Dfun type). Run with full_output = 1 to get quantitative information.\n",
      "  warnings.warn(warning_msg, ODEintWarning)\n",
      "C:\\Users\\UserALai\\miniconda3\\lib\\site-packages\\scipy\\integrate\\_odepack_py.py:247: ODEintWarning: Excess work done on this call (perhaps wrong Dfun type). Run with full_output = 1 to get quantitative information.\n",
      "  warnings.warn(warning_msg, ODEintWarning)\n",
      "C:\\Users\\UserALai\\miniconda3\\lib\\site-packages\\scipy\\integrate\\_odepack_py.py:247: ODEintWarning: Excess work done on this call (perhaps wrong Dfun type). Run with full_output = 1 to get quantitative information.\n",
      "  warnings.warn(warning_msg, ODEintWarning)\n",
      "C:\\Users\\UserALai\\miniconda3\\lib\\site-packages\\scipy\\integrate\\_odepack_py.py:247: ODEintWarning: Excess work done on this call (perhaps wrong Dfun type). Run with full_output = 1 to get quantitative information.\n",
      "  warnings.warn(warning_msg, ODEintWarning)\n",
      "C:\\Users\\UserALai\\miniconda3\\lib\\site-packages\\scipy\\integrate\\_odepack_py.py:247: ODEintWarning: Excess work done on this call (perhaps wrong Dfun type). Run with full_output = 1 to get quantitative information.\n",
      "  warnings.warn(warning_msg, ODEintWarning)\n",
      "C:\\Users\\UserALai\\miniconda3\\lib\\site-packages\\scipy\\integrate\\_odepack_py.py:247: ODEintWarning: Excess work done on this call (perhaps wrong Dfun type). Run with full_output = 1 to get quantitative information.\n",
      "  warnings.warn(warning_msg, ODEintWarning)\n",
      "C:\\Users\\UserALai\\miniconda3\\lib\\site-packages\\scipy\\integrate\\_odepack_py.py:247: ODEintWarning: Excess work done on this call (perhaps wrong Dfun type). Run with full_output = 1 to get quantitative information.\n",
      "  warnings.warn(warning_msg, ODEintWarning)\n"
     ]
    },
    {
     "name": "stdout",
     "output_type": "stream",
     "text": [
      "0.46688888888888885\n",
      "(u)' = 1.791 1/(1 + v^1) + -10.165 1/(1 + u^2) + 11.724 1/(1 + v^2) + 2.755 1/(1 + u^3) + -11.294 1/(1 + v^3) + 10.039 1/(1 + u^4) + -10.170 1/(1 + v^4) + -4.629 1/(1 + u^5) + 9.845 1/(1 + v^5)\n",
      "(v)' = 1.328 1/(1 + u^2) + 0.914 1/(1 + v^2) + -8.836 1/(1 + u^3) + 4.880 1/(1 + v^3) + -7.637 1/(1 + u^4) + 2.820 1/(1 + v^4) + 14.728 1/(1 + u^5) + -8.091 1/(1 + v^5)\n",
      "0.5334444444444444\n",
      "(u)' = 0.718 v + -1.588 1/(1 + u^1) + 0.903 1/(1 + v^1) + -14.000 1/(1 + u^2) + -13.317 1/(1 + v^2) + 26.363 1/(1 + u^3) + -2.674 1/(1 + v^3) + 25.706 1/(1 + u^4) + 13.242 1/(1 + v^4) + -36.033 1/(1 + u^5)\n",
      "(v)' = -0.537 u + 1.424 1/(1 + v^1) + -8.732 1/(1 + u^2) + 7.021 1/(1 + v^2) + 2.332 1/(1 + u^3) + -10.389 1/(1 + v^3) + 9.238 1/(1 + u^4) + -6.741 1/(1 + v^4) + -3.889 1/(1 + u^5) + 10.204 1/(1 + v^5)\n"
     ]
    },
    {
     "name": "stderr",
     "output_type": "stream",
     "text": [
      "C:\\Users\\UserALai\\miniconda3\\lib\\site-packages\\scipy\\integrate\\_odepack_py.py:247: ODEintWarning: Repeated convergence failures (perhaps bad Jacobian or tolerances). Run with full_output = 1 to get quantitative information.\n",
      "  warnings.warn(warning_msg, ODEintWarning)\n",
      "C:\\Users\\UserALai\\miniconda3\\lib\\site-packages\\scipy\\integrate\\_odepack_py.py:247: ODEintWarning: Repeated convergence failures (perhaps bad Jacobian or tolerances). Run with full_output = 1 to get quantitative information.\n",
      "  warnings.warn(warning_msg, ODEintWarning)\n",
      "C:\\Users\\UserALai\\miniconda3\\lib\\site-packages\\scipy\\integrate\\_odepack_py.py:247: ODEintWarning: Repeated convergence failures (perhaps bad Jacobian or tolerances). Run with full_output = 1 to get quantitative information.\n",
      "  warnings.warn(warning_msg, ODEintWarning)\n",
      "C:\\Users\\UserALai\\miniconda3\\lib\\site-packages\\scipy\\integrate\\_odepack_py.py:247: ODEintWarning: Excess work done on this call (perhaps wrong Dfun type). Run with full_output = 1 to get quantitative information.\n",
      "  warnings.warn(warning_msg, ODEintWarning)\n",
      "C:\\Users\\UserALai\\miniconda3\\lib\\site-packages\\scipy\\integrate\\_odepack_py.py:247: ODEintWarning: Excess work done on this call (perhaps wrong Dfun type). Run with full_output = 1 to get quantitative information.\n",
      "  warnings.warn(warning_msg, ODEintWarning)\n",
      "C:\\Users\\UserALai\\miniconda3\\lib\\site-packages\\scipy\\integrate\\_odepack_py.py:247: ODEintWarning: Repeated convergence failures (perhaps bad Jacobian or tolerances). Run with full_output = 1 to get quantitative information.\n",
      "  warnings.warn(warning_msg, ODEintWarning)\n",
      "C:\\Users\\UserALai\\miniconda3\\lib\\site-packages\\scipy\\integrate\\_odepack_py.py:247: ODEintWarning: Excess work done on this call (perhaps wrong Dfun type). Run with full_output = 1 to get quantitative information.\n",
      "  warnings.warn(warning_msg, ODEintWarning)\n",
      "C:\\Users\\UserALai\\miniconda3\\lib\\site-packages\\scipy\\integrate\\_odepack_py.py:247: ODEintWarning: Excess work done on this call (perhaps wrong Dfun type). Run with full_output = 1 to get quantitative information.\n",
      "  warnings.warn(warning_msg, ODEintWarning)\n",
      "C:\\Users\\UserALai\\miniconda3\\lib\\site-packages\\scipy\\integrate\\_odepack_py.py:247: ODEintWarning: Excess work done on this call (perhaps wrong Dfun type). Run with full_output = 1 to get quantitative information.\n",
      "  warnings.warn(warning_msg, ODEintWarning)\n",
      "C:\\Users\\UserALai\\miniconda3\\lib\\site-packages\\scipy\\integrate\\_odepack_py.py:247: ODEintWarning: Repeated convergence failures (perhaps bad Jacobian or tolerances). Run with full_output = 1 to get quantitative information.\n",
      "  warnings.warn(warning_msg, ODEintWarning)\n",
      "C:\\Users\\UserALai\\miniconda3\\lib\\site-packages\\scipy\\integrate\\_odepack_py.py:247: ODEintWarning: Repeated convergence failures (perhaps bad Jacobian or tolerances). Run with full_output = 1 to get quantitative information.\n",
      "  warnings.warn(warning_msg, ODEintWarning)\n",
      "C:\\Users\\UserALai\\miniconda3\\lib\\site-packages\\scipy\\integrate\\_odepack_py.py:247: ODEintWarning: Repeated convergence failures (perhaps bad Jacobian or tolerances). Run with full_output = 1 to get quantitative information.\n",
      "  warnings.warn(warning_msg, ODEintWarning)\n",
      "C:\\Users\\UserALai\\miniconda3\\lib\\site-packages\\scipy\\integrate\\_odepack_py.py:247: ODEintWarning: Repeated convergence failures (perhaps bad Jacobian or tolerances). Run with full_output = 1 to get quantitative information.\n",
      "  warnings.warn(warning_msg, ODEintWarning)\n",
      "C:\\Users\\UserALai\\miniconda3\\lib\\site-packages\\scipy\\integrate\\_odepack_py.py:247: ODEintWarning: Repeated convergence failures (perhaps bad Jacobian or tolerances). Run with full_output = 1 to get quantitative information.\n",
      "  warnings.warn(warning_msg, ODEintWarning)\n",
      "C:\\Users\\UserALai\\miniconda3\\lib\\site-packages\\scipy\\integrate\\_odepack_py.py:247: ODEintWarning: Repeated convergence failures (perhaps bad Jacobian or tolerances). Run with full_output = 1 to get quantitative information.\n",
      "  warnings.warn(warning_msg, ODEintWarning)\n",
      "C:\\Users\\UserALai\\miniconda3\\lib\\site-packages\\scipy\\integrate\\_odepack_py.py:247: ODEintWarning: Repeated convergence failures (perhaps bad Jacobian or tolerances). Run with full_output = 1 to get quantitative information.\n",
      "  warnings.warn(warning_msg, ODEintWarning)\n",
      "C:\\Users\\UserALai\\miniconda3\\lib\\site-packages\\scipy\\integrate\\_odepack_py.py:247: ODEintWarning: Excess work done on this call (perhaps wrong Dfun type). Run with full_output = 1 to get quantitative information.\n",
      "  warnings.warn(warning_msg, ODEintWarning)\n",
      "C:\\Users\\UserALai\\miniconda3\\lib\\site-packages\\scipy\\integrate\\_odepack_py.py:247: ODEintWarning: Repeated convergence failures (perhaps bad Jacobian or tolerances). Run with full_output = 1 to get quantitative information.\n",
      "  warnings.warn(warning_msg, ODEintWarning)\n",
      "C:\\Users\\UserALai\\miniconda3\\lib\\site-packages\\scipy\\integrate\\_odepack_py.py:247: ODEintWarning: Repeated convergence failures (perhaps bad Jacobian or tolerances). Run with full_output = 1 to get quantitative information.\n",
      "  warnings.warn(warning_msg, ODEintWarning)\n",
      "C:\\Users\\UserALai\\miniconda3\\lib\\site-packages\\scipy\\integrate\\_odepack_py.py:247: ODEintWarning: Repeated convergence failures (perhaps bad Jacobian or tolerances). Run with full_output = 1 to get quantitative information.\n",
      "  warnings.warn(warning_msg, ODEintWarning)\n",
      "C:\\Users\\UserALai\\miniconda3\\lib\\site-packages\\scipy\\integrate\\_odepack_py.py:247: ODEintWarning: Repeated convergence failures (perhaps bad Jacobian or tolerances). Run with full_output = 1 to get quantitative information.\n",
      "  warnings.warn(warning_msg, ODEintWarning)\n"
     ]
    },
    {
     "name": "stdout",
     "output_type": "stream",
     "text": [
      "0.6\n",
      "(u)' = 5.971 1/(1 + u^1) + -2.281 1/(1 + v^1) + 21.904 1/(1 + u^2) + -17.579 1/(1 + v^2) + -36.764 1/(1 + u^3) + 21.596 1/(1 + v^3) + -19.566 1/(1 + u^4) + 19.742 1/(1 + v^4) + 31.415 1/(1 + u^5) + -24.576 1/(1 + v^5)\n",
      "(v)' = -3.074 1/(1 + u^1) + 4.036 1/(1 + v^1) + 4.490 1/(1 + v^2) + 14.319 1/(1 + u^3) + -21.570 1/(1 + v^3) + -2.128 1/(1 + u^4) + -3.216 1/(1 + v^4) + -8.471 1/(1 + u^5) + 15.783 1/(1 + v^5)\n",
      "[0.001      0.06755556 0.13411111 0.20066667 0.26722222 0.33377778\n",
      " 0.40033333 0.46688889 0.53344444 0.6       ]\n",
      "[0.022192020296902353, 0.08639278588561046, 0.39958237579073574, 0.5309177129051067, 1.368246639946456, 1.2703652077773853, 1.1836371270395463, 37.71811450227719, 9143603.01042339, 27.212754824562893]\n",
      "0.001\n",
      "(u)' = -1.219 u + 9.496 1/(1 + u^1) + 2.183 1/(1 + v^1) + -19.008 1/(1 + u^2) + 5.579 1/(1 + v^2) + 5.124 1/(1 + u^3) + -25.169 1/(1 + v^3) + 14.648 1/(1 + u^4) + 29.425 1/(1 + v^4) + -9.510 1/(1 + u^5) + -11.241 1/(1 + v^5)\n",
      "(v)' = -1.203 v + 0.770 1/(1 + u^1) + 5.224 1/(1 + v^1) + 11.893 1/(1 + u^2) + -30.339 1/(1 + v^2) + -30.682 1/(1 + u^3) + 71.993 1/(1 + v^3) + 28.610 1/(1 + u^4) + -75.626 1/(1 + v^4) + -8.768 1/(1 + u^5) + 28.447 1/(1 + v^5)\n",
      "0.06755555555555555\n",
      "(u)' = -0.924 u + 2.465 1/(1 + v^1) + -0.172 1/(1 + u^2) + 4.135 1/(1 + v^2) + -5.487 1/(1 + u^3) + -9.452 1/(1 + v^3) + 3.434 1/(1 + u^4) + 4.419 1/(1 + v^4) + 1.555 1/(1 + u^5)\n",
      "(v)' = -1.022 v + 0.769 1/(1 + u^1) + 4.904 1/(1 + v^1) + -15.653 1/(1 + u^2) + 67.778 1/(1 + u^3) + -32.397 1/(1 + v^3) + -99.070 1/(1 + u^4) + 54.024 1/(1 + v^4) + 47.200 1/(1 + u^5) + -26.300 1/(1 + v^5)\n",
      "0.1341111111111111\n",
      "(u)' = -0.579 u + -3.204 1/(1 + u^1) + 2.233 1/(1 + v^1) + 3.395 1/(1 + u^2) + -5.358 1/(1 + v^2) + 12.319 1/(1 + u^3) + -5.323 1/(1 + v^3) + -31.334 1/(1 + u^4) + 26.332 1/(1 + v^4) + 18.548 1/(1 + u^5) + -17.412 1/(1 + v^5)\n",
      "(v)' = 0.757 u + -1.320 v + -1.232 1/(1 + u^1) + -0.839 1/(1 + v^1) + 5.044 1/(1 + u^2) + -2.997 1/(1 + v^2) + 6.775 1/(1 + u^3) + -7.602 1/(1 + v^3) + -20.780 1/(1 + u^4) + 23.910 1/(1 + v^4) + 12.779 1/(1 + u^5) + -14.848 1/(1 + v^5)\n"
     ]
    },
    {
     "name": "stderr",
     "output_type": "stream",
     "text": [
      "C:\\Users\\UserALai\\miniconda3\\lib\\site-packages\\scipy\\integrate\\_odepack_py.py:247: ODEintWarning: Excess work done on this call (perhaps wrong Dfun type). Run with full_output = 1 to get quantitative information.\n",
      "  warnings.warn(warning_msg, ODEintWarning)\n",
      "C:\\Users\\UserALai\\miniconda3\\lib\\site-packages\\scipy\\integrate\\_odepack_py.py:247: ODEintWarning: Excess work done on this call (perhaps wrong Dfun type). Run with full_output = 1 to get quantitative information.\n",
      "  warnings.warn(warning_msg, ODEintWarning)\n",
      "C:\\Users\\UserALai\\miniconda3\\lib\\site-packages\\scipy\\integrate\\_odepack_py.py:247: ODEintWarning: Excess work done on this call (perhaps wrong Dfun type). Run with full_output = 1 to get quantitative information.\n",
      "  warnings.warn(warning_msg, ODEintWarning)\n"
     ]
    },
    {
     "name": "stdout",
     "output_type": "stream",
     "text": [
      "0.20066666666666666\n",
      "(u)' = -0.957 u + 0.581 v + -4.639 1/(1 + u^1) + 6.088 1/(1 + v^1) + -5.861 1/(1 + u^2) + 1.069 1/(1 + v^2) + 20.355 1/(1 + u^3) + -18.710 1/(1 + v^3) + -0.952 1/(1 + u^4) + 13.909 1/(1 + v^4) + -10.898 1/(1 + u^5)\n",
      "(v)' = -0.528 v + -3.941 1/(1 + v^1) + 2.639 1/(1 + u^2) + -2.555 1/(1 + u^3) + 13.336 1/(1 + v^3) + -3.523 1/(1 + u^4) + -5.426 1/(1 + v^4) + 4.195 1/(1 + u^5) + -4.359 1/(1 + v^5)\n"
     ]
    },
    {
     "name": "stderr",
     "output_type": "stream",
     "text": [
      "C:\\Users\\UserALai\\miniconda3\\lib\\site-packages\\scipy\\integrate\\_odepack_py.py:247: ODEintWarning: Excess work done on this call (perhaps wrong Dfun type). Run with full_output = 1 to get quantitative information.\n",
      "  warnings.warn(warning_msg, ODEintWarning)\n"
     ]
    },
    {
     "name": "stdout",
     "output_type": "stream",
     "text": [
      "0.2672222222222222\n",
      "(u)' = -1.177 u + 1.284 v + -1.727 1/(1 + u^1) + 0.780 1/(1 + v^1) + -1.255 1/(1 + u^2) + -3.809 1/(1 + v^2) + 3.916 1/(1 + u^3) + 1.660 1/(1 + v^3) + -5.768 1/(1 + u^4) + 10.345 1/(1 + v^4) + 2.106 1/(1 + u^5) + -6.704 1/(1 + v^5)\n",
      "(v)' = -1.931 1/(1 + u^1) + -1.252 1/(1 + v^1) + -0.830 1/(1 + v^2) + 5.792 1/(1 + u^3) + 3.764 1/(1 + v^3) + -3.664 1/(1 + u^4) + -2.019 1/(1 + v^4)\n",
      "0.33377777777777773\n",
      "(u)' = -3.432 1/(1 + u^1) + 1.057 1/(1 + v^1) + -2.927 1/(1 + u^2) + -3.183 1/(1 + v^2) + 15.410 1/(1 + u^3) + -3.167 1/(1 + v^3) + 4.523 1/(1 + v^4) + -8.513 1/(1 + u^5)\n",
      "(v)' = 2.846 1/(1 + u^1) + -3.084 1/(1 + v^1) + 1.396 1/(1 + u^2) + 2.207 1/(1 + v^2) + -19.058 1/(1 + u^3) + 9.289 1/(1 + v^3) + -3.272 1/(1 + u^4) + -7.918 1/(1 + v^4) + 17.524 1/(1 + u^5)\n",
      "0.4003333333333333\n",
      "(u)' = -0.530 u + 0.836 v + -1.637 1/(1 + u^1) + -1.897 1/(1 + v^1) + -13.486 1/(1 + u^2) + 2.830 1/(1 + v^2) + 11.490 1/(1 + u^3) + 9.528 1/(1 + v^3) + 10.847 1/(1 + u^4) + -1.003 1/(1 + v^4) + -10.959 1/(1 + u^5) + -6.395 1/(1 + v^5)\n",
      "(v)' = -3.061 1/(1 + u^1) + -4.015 1/(1 + v^1) + -6.270 1/(1 + v^2) + 19.945 1/(1 + u^3) + 12.674 1/(1 + v^3) + 2.903 1/(1 + u^4) + -3.067 1/(1 + v^4) + -17.929 1/(1 + u^5) + -1.043 1/(1 + v^5)\n",
      "0.46688888888888885\n",
      "(u)' = -2.162 1/(1 + u^1) + -1.889 1/(1 + v^1) + -0.850 1/(1 + u^2) + -4.677 1/(1 + v^2) + 15.263 1/(1 + u^3) + 8.340 1/(1 + v^3) + 3.857 1/(1 + u^4) + 1.041 1/(1 + v^4) + -14.604 1/(1 + u^5) + -4.467 1/(1 + v^5)\n",
      "(v)' = -3.371 1/(1 + u^1) + 2.521 1/(1 + v^1) + -6.649 1/(1 + u^2) + 6.632 1/(1 + v^2) + 13.992 1/(1 + u^3) + -15.316 1/(1 + v^3) + 2.213 1/(1 + u^4) + -6.434 1/(1 + v^4) + -6.442 1/(1 + u^5) + 12.920 1/(1 + v^5)\n"
     ]
    },
    {
     "name": "stderr",
     "output_type": "stream",
     "text": [
      "C:\\Users\\UserALai\\miniconda3\\lib\\site-packages\\scipy\\integrate\\_odepack_py.py:247: ODEintWarning: Excess work done on this call (perhaps wrong Dfun type). Run with full_output = 1 to get quantitative information.\n",
      "  warnings.warn(warning_msg, ODEintWarning)\n",
      "C:\\Users\\UserALai\\miniconda3\\lib\\site-packages\\scipy\\integrate\\_odepack_py.py:247: ODEintWarning: Excess work done on this call (perhaps wrong Dfun type). Run with full_output = 1 to get quantitative information.\n",
      "  warnings.warn(warning_msg, ODEintWarning)\n",
      "C:\\Users\\UserALai\\miniconda3\\lib\\site-packages\\scipy\\integrate\\_odepack_py.py:247: ODEintWarning: Excess work done on this call (perhaps wrong Dfun type). Run with full_output = 1 to get quantitative information.\n",
      "  warnings.warn(warning_msg, ODEintWarning)\n",
      "C:\\Users\\UserALai\\miniconda3\\lib\\site-packages\\scipy\\integrate\\_odepack_py.py:247: ODEintWarning: Excess work done on this call (perhaps wrong Dfun type). Run with full_output = 1 to get quantitative information.\n",
      "  warnings.warn(warning_msg, ODEintWarning)\n",
      "C:\\Users\\UserALai\\miniconda3\\lib\\site-packages\\scipy\\integrate\\_odepack_py.py:247: ODEintWarning: Excess work done on this call (perhaps wrong Dfun type). Run with full_output = 1 to get quantitative information.\n",
      "  warnings.warn(warning_msg, ODEintWarning)\n"
     ]
    },
    {
     "name": "stdout",
     "output_type": "stream",
     "text": [
      "0.5334444444444444\n",
      "(u)' = 1.011 1/(1 + u^1) + 3.225 1/(1 + u^2) + 3.611 1/(1 + v^2) + -6.497 1/(1 + u^3) + -8.495 1/(1 + v^3) + -3.508 1/(1 + u^4) + -9.086 1/(1 + v^4) + 5.780 1/(1 + u^5) + 14.138 1/(1 + v^5)\n",
      "(v)' = -0.558 1/(1 + u^1) + 4.889 1/(1 + v^1) + -7.048 1/(1 + u^2) + 4.661 1/(1 + v^2) + 6.344 1/(1 + u^3) + -23.745 1/(1 + v^3) + 8.554 1/(1 + u^4) + -0.740 1/(1 + v^4) + -7.771 1/(1 + u^5) + 15.146 1/(1 + v^5)\n",
      "0.6\n",
      "(u)' = -4.241 1/(1 + u^1) + 2.780 1/(1 + v^1) + -4.494 1/(1 + u^2) + 12.010 1/(1 + v^2) + 24.012 1/(1 + u^3) + -17.311 1/(1 + v^3) + 2.276 1/(1 + u^4) + -11.419 1/(1 + v^4) + -18.815 1/(1 + u^5) + 14.949 1/(1 + v^5)\n",
      "(v)' = 0.586 1/(1 + v^1) + -15.424 1/(1 + u^2) + 5.213 1/(1 + v^2) + 8.053 1/(1 + u^3) + 2.779 1/(1 + v^3) + 19.416 1/(1 + u^4) + -13.432 1/(1 + u^5) + -7.543 1/(1 + v^5)\n",
      "[0.001      0.06755556 0.13411111 0.20066667 0.26722222 0.33377778\n",
      " 0.40033333 0.46688889 0.53344444 0.6       ]\n",
      "[0.013699330778796228, 0.10402941676872351, 0.06005624116409813, 0.12565347017962028, 1.527881198211782, 1.8731718702952007, 1.7499045478109734, 18.98489915519446, 27.70083317844996, 26.614771452953182]\n",
      "0.001\n",
      "(u)' = -1.216 u + 3.177 1/(1 + u^1) + 3.844 1/(1 + v^1) + 12.472 1/(1 + u^2) + -9.858 1/(1 + v^2) + -52.209 1/(1 + u^3) + 10.196 1/(1 + v^3) + 61.691 1/(1 + u^4) + -3.436 1/(1 + v^4) + -24.129 1/(1 + u^5) + -0.231 1/(1 + v^5)\n",
      "(v)' = -1.114 v + 10.797 1/(1 + u^1) + -36.466 1/(1 + u^2) + -15.272 1/(1 + v^2) + 71.712 1/(1 + u^3) + 53.889 1/(1 + v^3) + -73.028 1/(1 + u^4) + -67.786 1/(1 + v^4) + 29.181 1/(1 + u^5) + 28.317 1/(1 + v^5)\n",
      "0.06755555555555555\n",
      "(u)' = -1.238 u + 3.772 1/(1 + u^1) + 7.524 1/(1 + v^1) + -9.802 1/(1 + v^2) + -23.154 1/(1 + u^3) + 4.209 1/(1 + v^3) + 29.617 1/(1 + u^4) + -10.462 1/(1 + u^5)\n",
      "(v)' = -0.818 v + 2.383 1/(1 + u^1) + -2.854 1/(1 + v^1) + -11.113 1/(1 + u^2) + 3.314 1/(1 + v^2) + 23.488 1/(1 + u^3) + 14.026 1/(1 + v^3) + -22.624 1/(1 + u^4) + -21.964 1/(1 + v^4) + 8.839 1/(1 + u^5) + 7.446 1/(1 + v^5)\n",
      "0.1341111111111111\n",
      "(u)' = -1.135 u + 0.999 v + -3.700 1/(1 + u^1) + 1.636 1/(1 + u^2) + -1.022 1/(1 + v^2) + 13.389 1/(1 + u^3) + 0.814 1/(1 + v^3) + -24.042 1/(1 + u^4) + 3.718 1/(1 + v^4) + 11.084 1/(1 + u^5) + -2.262 1/(1 + v^5)\n",
      "(v)' = 0.634 1/(1 + u^1) + 1.623 1/(1 + v^1) + -10.707 1/(1 + u^2) + -11.157 1/(1 + v^2) + 11.138 1/(1 + u^3) + -2.748 1/(1 + v^3) + 14.820 1/(1 + u^4) + 30.430 1/(1 + v^4) + -15.712 1/(1 + u^5) + -18.937 1/(1 + v^5)\n",
      "0.20066666666666666\n",
      "(u)' = -1.038 u + 1.003 v + -1.611 1/(1 + u^1) + -5.244 1/(1 + u^2) + -5.301 1/(1 + v^2) + 5.324 1/(1 + u^3) + 6.461 1/(1 + v^3) + 13.360 1/(1 + v^4) + -0.984 1/(1 + u^5) + -12.523 1/(1 + v^5)\n",
      "(v)' = 0.807 u + -0.993 v + -3.515 1/(1 + v^1) + -7.883 1/(1 + u^2) + 4.381 1/(1 + v^2) + 6.378 1/(1 + u^3) + 5.908 1/(1 + v^3) + 13.254 1/(1 + u^4) + -15.522 1/(1 + v^4) + -10.504 1/(1 + u^5) + 7.273 1/(1 + v^5)\n",
      "0.2672222222222222\n",
      "(u)' = -2.349 1/(1 + u^1) + 2.853 1/(1 + v^1) + -7.692 1/(1 + u^2) + 4.691 1/(1 + v^2) + 14.698 1/(1 + u^3) + -14.825 1/(1 + v^3) + 7.702 1/(1 + u^4) + -2.753 1/(1 + v^4) + -12.793 1/(1 + u^5) + 10.245 1/(1 + v^5)\n",
      "(v)' = -1.682 1/(1 + u^1) + -3.710 1/(1 + v^1) + -1.227 1/(1 + u^2) + -14.210 1/(1 + v^2) + 8.141 1/(1 + u^3) + 22.148 1/(1 + v^3) + 0.808 1/(1 + u^4) + 12.558 1/(1 + v^4) + -5.159 1/(1 + u^5) + -18.270 1/(1 + v^5)\n",
      "0.33377777777777773\n",
      "(u)' = -2.728 1/(1 + u^1) + 0.995 1/(1 + v^1) + -16.162 1/(1 + u^2) + 4.911 1/(1 + v^2) + 23.088 1/(1 + u^3) + -5.563 1/(1 + v^3) + 18.794 1/(1 + u^4) + -3.120 1/(1 + v^4) + -24.870 1/(1 + u^5) + 4.352 1/(1 + v^5)\n",
      "(v)' = 0.586 v + -0.800 1/(1 + u^1) + -7.505 1/(1 + u^2) + -10.777 1/(1 + v^2) + 7.573 1/(1 + u^3) + 7.177 1/(1 + v^3) + 7.652 1/(1 + u^4) + 16.079 1/(1 + v^4) + -8.631 1/(1 + u^5) + -12.002 1/(1 + v^5)\n",
      "0.4003333333333333\n",
      "(u)' = -2.064 1/(1 + u^1) + -1.132 1/(1 + v^1) + -3.200 1/(1 + u^2) + -7.904 1/(1 + v^2) + 13.119 1/(1 + u^3) + 11.760 1/(1 + v^3) + 3.901 1/(1 + u^4) + 10.621 1/(1 + v^4) + -11.501 1/(1 + u^5) + -13.933 1/(1 + v^5)\n",
      "(v)' = -1.520 1/(1 + u^1) + -10.007 1/(1 + u^2) + 0.976 1/(1 + v^2) + 9.416 1/(1 + u^3) + -4.297 1/(1 + v^3) + 9.815 1/(1 + u^4) + -3.602 1/(1 + v^4) + -8.083 1/(1 + u^5) + 7.128 1/(1 + v^5)\n"
     ]
    },
    {
     "name": "stderr",
     "output_type": "stream",
     "text": [
      "C:\\Users\\UserALai\\miniconda3\\lib\\site-packages\\scipy\\integrate\\_odepack_py.py:247: ODEintWarning: Excess work done on this call (perhaps wrong Dfun type). Run with full_output = 1 to get quantitative information.\n",
      "  warnings.warn(warning_msg, ODEintWarning)\n",
      "C:\\Users\\UserALai\\miniconda3\\lib\\site-packages\\scipy\\integrate\\_odepack_py.py:247: ODEintWarning: Excess work done on this call (perhaps wrong Dfun type). Run with full_output = 1 to get quantitative information.\n",
      "  warnings.warn(warning_msg, ODEintWarning)\n",
      "C:\\Users\\UserALai\\miniconda3\\lib\\site-packages\\scipy\\integrate\\_odepack_py.py:247: ODEintWarning: Excess work done on this call (perhaps wrong Dfun type). Run with full_output = 1 to get quantitative information.\n",
      "  warnings.warn(warning_msg, ODEintWarning)\n",
      "C:\\Users\\UserALai\\miniconda3\\lib\\site-packages\\scipy\\integrate\\_odepack_py.py:247: ODEintWarning: Excess work done on this call (perhaps wrong Dfun type). Run with full_output = 1 to get quantitative information.\n",
      "  warnings.warn(warning_msg, ODEintWarning)\n",
      "C:\\Users\\UserALai\\miniconda3\\lib\\site-packages\\scipy\\integrate\\_odepack_py.py:247: ODEintWarning: Excess work done on this call (perhaps wrong Dfun type). Run with full_output = 1 to get quantitative information.\n",
      "  warnings.warn(warning_msg, ODEintWarning)\n",
      "C:\\Users\\UserALai\\miniconda3\\lib\\site-packages\\scipy\\integrate\\_odepack_py.py:247: ODEintWarning: Excess work done on this call (perhaps wrong Dfun type). Run with full_output = 1 to get quantitative information.\n",
      "  warnings.warn(warning_msg, ODEintWarning)\n",
      "C:\\Users\\UserALai\\miniconda3\\lib\\site-packages\\scipy\\integrate\\_odepack_py.py:247: ODEintWarning: Excess work done on this call (perhaps wrong Dfun type). Run with full_output = 1 to get quantitative information.\n",
      "  warnings.warn(warning_msg, ODEintWarning)\n",
      "C:\\Users\\UserALai\\miniconda3\\lib\\site-packages\\scipy\\integrate\\_odepack_py.py:247: ODEintWarning: Excess work done on this call (perhaps wrong Dfun type). Run with full_output = 1 to get quantitative information.\n",
      "  warnings.warn(warning_msg, ODEintWarning)\n",
      "C:\\Users\\UserALai\\miniconda3\\lib\\site-packages\\scipy\\integrate\\_odepack_py.py:247: ODEintWarning: Excess work done on this call (perhaps wrong Dfun type). Run with full_output = 1 to get quantitative information.\n",
      "  warnings.warn(warning_msg, ODEintWarning)\n",
      "C:\\Users\\UserALai\\miniconda3\\lib\\site-packages\\scipy\\integrate\\_odepack_py.py:247: ODEintWarning: Excess work done on this call (perhaps wrong Dfun type). Run with full_output = 1 to get quantitative information.\n",
      "  warnings.warn(warning_msg, ODEintWarning)\n",
      "C:\\Users\\UserALai\\miniconda3\\lib\\site-packages\\scipy\\integrate\\_odepack_py.py:247: ODEintWarning: Excess work done on this call (perhaps wrong Dfun type). Run with full_output = 1 to get quantitative information.\n",
      "  warnings.warn(warning_msg, ODEintWarning)\n",
      "C:\\Users\\UserALai\\miniconda3\\lib\\site-packages\\scipy\\integrate\\_odepack_py.py:247: ODEintWarning: Excess work done on this call (perhaps wrong Dfun type). Run with full_output = 1 to get quantitative information.\n",
      "  warnings.warn(warning_msg, ODEintWarning)\n",
      "C:\\Users\\UserALai\\miniconda3\\lib\\site-packages\\scipy\\integrate\\_odepack_py.py:247: ODEintWarning: Excess work done on this call (perhaps wrong Dfun type). Run with full_output = 1 to get quantitative information.\n",
      "  warnings.warn(warning_msg, ODEintWarning)\n",
      "C:\\Users\\UserALai\\miniconda3\\lib\\site-packages\\scipy\\integrate\\_odepack_py.py:247: ODEintWarning: Excess work done on this call (perhaps wrong Dfun type). Run with full_output = 1 to get quantitative information.\n",
      "  warnings.warn(warning_msg, ODEintWarning)\n",
      "C:\\Users\\UserALai\\miniconda3\\lib\\site-packages\\scipy\\integrate\\_odepack_py.py:247: ODEintWarning: Excess work done on this call (perhaps wrong Dfun type). Run with full_output = 1 to get quantitative information.\n",
      "  warnings.warn(warning_msg, ODEintWarning)\n",
      "C:\\Users\\UserALai\\miniconda3\\lib\\site-packages\\scipy\\integrate\\_odepack_py.py:247: ODEintWarning: Excess work done on this call (perhaps wrong Dfun type). Run with full_output = 1 to get quantitative information.\n",
      "  warnings.warn(warning_msg, ODEintWarning)\n",
      "C:\\Users\\UserALai\\miniconda3\\lib\\site-packages\\scipy\\integrate\\_odepack_py.py:247: ODEintWarning: Excess work done on this call (perhaps wrong Dfun type). Run with full_output = 1 to get quantitative information.\n",
      "  warnings.warn(warning_msg, ODEintWarning)\n",
      "C:\\Users\\UserALai\\miniconda3\\lib\\site-packages\\scipy\\integrate\\_odepack_py.py:247: ODEintWarning: Excess work done on this call (perhaps wrong Dfun type). Run with full_output = 1 to get quantitative information.\n",
      "  warnings.warn(warning_msg, ODEintWarning)\n",
      "C:\\Users\\UserALai\\miniconda3\\lib\\site-packages\\scipy\\integrate\\_odepack_py.py:247: ODEintWarning: Excess work done on this call (perhaps wrong Dfun type). Run with full_output = 1 to get quantitative information.\n",
      "  warnings.warn(warning_msg, ODEintWarning)\n",
      "C:\\Users\\UserALai\\miniconda3\\lib\\site-packages\\scipy\\integrate\\_odepack_py.py:247: ODEintWarning: Excess work done on this call (perhaps wrong Dfun type). Run with full_output = 1 to get quantitative information.\n",
      "  warnings.warn(warning_msg, ODEintWarning)\n",
      "C:\\Users\\UserALai\\miniconda3\\lib\\site-packages\\scipy\\integrate\\_odepack_py.py:247: ODEintWarning: Excess work done on this call (perhaps wrong Dfun type). Run with full_output = 1 to get quantitative information.\n",
      "  warnings.warn(warning_msg, ODEintWarning)\n",
      "C:\\Users\\UserALai\\miniconda3\\lib\\site-packages\\scipy\\integrate\\_odepack_py.py:247: ODEintWarning: Excess work done on this call (perhaps wrong Dfun type). Run with full_output = 1 to get quantitative information.\n",
      "  warnings.warn(warning_msg, ODEintWarning)\n",
      "C:\\Users\\UserALai\\miniconda3\\lib\\site-packages\\scipy\\integrate\\_odepack_py.py:247: ODEintWarning: Excess work done on this call (perhaps wrong Dfun type). Run with full_output = 1 to get quantitative information.\n",
      "  warnings.warn(warning_msg, ODEintWarning)\n",
      "C:\\Users\\UserALai\\miniconda3\\lib\\site-packages\\scipy\\integrate\\_odepack_py.py:247: ODEintWarning: Excess work done on this call (perhaps wrong Dfun type). Run with full_output = 1 to get quantitative information.\n",
      "  warnings.warn(warning_msg, ODEintWarning)\n"
     ]
    },
    {
     "name": "stdout",
     "output_type": "stream",
     "text": [
      "0.46688888888888885\n",
      "(u)' = 3.840 1/(1 + u^1) + -5.147 1/(1 + v^1) + 11.515 1/(1 + u^2) + -20.663 1/(1 + v^2) + -19.519 1/(1 + u^3) + 35.061 1/(1 + v^3) + -8.085 1/(1 + u^4) + 22.119 1/(1 + v^4) + 13.339 1/(1 + u^5) + -32.706 1/(1 + v^5)\n",
      "(v)' = 2.917 1/(1 + v^1) + -1.424 1/(1 + u^2) + -5.278 1/(1 + v^2) + -5.600 1/(1 + u^3) + -0.568 1/(1 + v^3) + -3.086 1/(1 + u^4) + 16.870 1/(1 + v^4) + 9.335 1/(1 + u^5) + -13.636 1/(1 + v^5)\n",
      "0.5334444444444444\n",
      "(u)' = -3.501 1/(1 + u^1) + -3.679 1/(1 + v^1) + 0.664 1/(1 + u^2) + -12.226 1/(1 + v^2) + 19.371 1/(1 + u^3) + 21.464 1/(1 + v^3) + 9.892 1/(1 + v^4) + -14.800 1/(1 + u^5) + -17.366 1/(1 + v^5)\n",
      "(v)' = -2.707 1/(1 + u^1) + -6.570 1/(1 + u^2) + 15.365 1/(1 + v^2) + 8.095 1/(1 + u^3) + -7.075 1/(1 + v^3) + -18.453 1/(1 + v^4) + 11.790 1/(1 + v^5)\n",
      "0.6\n",
      "(u)' = 2.140 1/(1 + u^1) + -2.990 1/(1 + v^1) + -5.515 1/(1 + u^2) + -5.582 1/(1 + u^3) + 15.271 1/(1 + v^3) + 8.630 1/(1 + u^4) + -1.400 1/(1 + u^5) + -10.522 1/(1 + v^5)\n",
      "(v)' = -6.721 1/(1 + u^2) + 0.847 1/(1 + v^2) + 9.987 1/(1 + u^3) + 2.539 1/(1 + v^3) + 12.787 1/(1 + u^4) + 0.848 1/(1 + v^4) + -16.645 1/(1 + u^5) + -4.242 1/(1 + v^5)\n"
     ]
    },
    {
     "name": "stderr",
     "output_type": "stream",
     "text": [
      "C:\\Users\\UserALai\\miniconda3\\lib\\site-packages\\scipy\\integrate\\_odepack_py.py:247: ODEintWarning: Excess work done on this call (perhaps wrong Dfun type). Run with full_output = 1 to get quantitative information.\n",
      "  warnings.warn(warning_msg, ODEintWarning)\n",
      "C:\\Users\\UserALai\\miniconda3\\lib\\site-packages\\scipy\\integrate\\_odepack_py.py:247: ODEintWarning: Excess work done on this call (perhaps wrong Dfun type). Run with full_output = 1 to get quantitative information.\n",
      "  warnings.warn(warning_msg, ODEintWarning)\n",
      "C:\\Users\\UserALai\\miniconda3\\lib\\site-packages\\scipy\\integrate\\_odepack_py.py:247: ODEintWarning: Excess work done on this call (perhaps wrong Dfun type). Run with full_output = 1 to get quantitative information.\n",
      "  warnings.warn(warning_msg, ODEintWarning)\n",
      "C:\\Users\\UserALai\\miniconda3\\lib\\site-packages\\scipy\\integrate\\_odepack_py.py:247: ODEintWarning: Excess work done on this call (perhaps wrong Dfun type). Run with full_output = 1 to get quantitative information.\n",
      "  warnings.warn(warning_msg, ODEintWarning)\n",
      "C:\\Users\\UserALai\\miniconda3\\lib\\site-packages\\scipy\\integrate\\_odepack_py.py:247: ODEintWarning: Excess work done on this call (perhaps wrong Dfun type). Run with full_output = 1 to get quantitative information.\n",
      "  warnings.warn(warning_msg, ODEintWarning)\n",
      "C:\\Users\\UserALai\\miniconda3\\lib\\site-packages\\scipy\\integrate\\_odepack_py.py:247: ODEintWarning: Excess work done on this call (perhaps wrong Dfun type). Run with full_output = 1 to get quantitative information.\n",
      "  warnings.warn(warning_msg, ODEintWarning)\n",
      "C:\\Users\\UserALai\\miniconda3\\lib\\site-packages\\scipy\\integrate\\_odepack_py.py:247: ODEintWarning: Excess work done on this call (perhaps wrong Dfun type). Run with full_output = 1 to get quantitative information.\n",
      "  warnings.warn(warning_msg, ODEintWarning)\n",
      "C:\\Users\\UserALai\\miniconda3\\lib\\site-packages\\scipy\\integrate\\_odepack_py.py:247: ODEintWarning: Excess work done on this call (perhaps wrong Dfun type). Run with full_output = 1 to get quantitative information.\n",
      "  warnings.warn(warning_msg, ODEintWarning)\n",
      "C:\\Users\\UserALai\\miniconda3\\lib\\site-packages\\scipy\\integrate\\_odepack_py.py:247: ODEintWarning: Excess work done on this call (perhaps wrong Dfun type). Run with full_output = 1 to get quantitative information.\n",
      "  warnings.warn(warning_msg, ODEintWarning)\n",
      "C:\\Users\\UserALai\\miniconda3\\lib\\site-packages\\scipy\\integrate\\_odepack_py.py:247: ODEintWarning: Excess work done on this call (perhaps wrong Dfun type). Run with full_output = 1 to get quantitative information.\n",
      "  warnings.warn(warning_msg, ODEintWarning)\n",
      "C:\\Users\\UserALai\\miniconda3\\lib\\site-packages\\scipy\\integrate\\_odepack_py.py:247: ODEintWarning: Excess work done on this call (perhaps wrong Dfun type). Run with full_output = 1 to get quantitative information.\n",
      "  warnings.warn(warning_msg, ODEintWarning)\n",
      "C:\\Users\\UserALai\\miniconda3\\lib\\site-packages\\scipy\\integrate\\_odepack_py.py:247: ODEintWarning: Excess work done on this call (perhaps wrong Dfun type). Run with full_output = 1 to get quantitative information.\n",
      "  warnings.warn(warning_msg, ODEintWarning)\n",
      "C:\\Users\\UserALai\\miniconda3\\lib\\site-packages\\scipy\\integrate\\_odepack_py.py:247: ODEintWarning: Excess work done on this call (perhaps wrong Dfun type). Run with full_output = 1 to get quantitative information.\n",
      "  warnings.warn(warning_msg, ODEintWarning)\n",
      "C:\\Users\\UserALai\\miniconda3\\lib\\site-packages\\scipy\\integrate\\_odepack_py.py:247: ODEintWarning: Excess work done on this call (perhaps wrong Dfun type). Run with full_output = 1 to get quantitative information.\n",
      "  warnings.warn(warning_msg, ODEintWarning)\n",
      "C:\\Users\\UserALai\\miniconda3\\lib\\site-packages\\scipy\\integrate\\_odepack_py.py:247: ODEintWarning: Excess work done on this call (perhaps wrong Dfun type). Run with full_output = 1 to get quantitative information.\n",
      "  warnings.warn(warning_msg, ODEintWarning)\n",
      "C:\\Users\\UserALai\\miniconda3\\lib\\site-packages\\scipy\\integrate\\_odepack_py.py:247: ODEintWarning: Excess work done on this call (perhaps wrong Dfun type). Run with full_output = 1 to get quantitative information.\n",
      "  warnings.warn(warning_msg, ODEintWarning)\n",
      "C:\\Users\\UserALai\\miniconda3\\lib\\site-packages\\scipy\\integrate\\_odepack_py.py:247: ODEintWarning: Excess work done on this call (perhaps wrong Dfun type). Run with full_output = 1 to get quantitative information.\n",
      "  warnings.warn(warning_msg, ODEintWarning)\n"
     ]
    },
    {
     "name": "stdout",
     "output_type": "stream",
     "text": [
      "[0.001      0.06755556 0.13411111 0.20066667 0.26722222 0.33377778\n",
      " 0.40033333 0.46688889 0.53344444 0.6       ]\n",
      "[0.005968569392431759, 0.07242376337359283, 0.3193596267816768, 0.30041473841771354, 0.7500425813997519, 513719109.7328191, 376635986.3734989, 8.573399686279163, 7.095172200541393, 26.683084571156403]\n",
      "0.001\n",
      "(u)' = -1.195 u + 12.051 1/(1 + u^1) + -5.225 1/(1 + v^1) + -17.087 1/(1 + u^2) + 13.090 1/(1 + v^2) + 7.116 1/(1 + u^3) + -13.527 1/(1 + v^3) + 0.359 1/(1 + u^4) + 3.317 1/(1 + v^4) + 1.439 1/(1 + v^5)\n",
      "(v)' = -1.460 v + 7.333 1/(1 + u^1) + -11.368 1/(1 + v^2) + -7.428 1/(1 + u^3) + 31.716 1/(1 + v^3) + -36.860 1/(1 + v^4) + 4.015 1/(1 + u^5) + 14.720 1/(1 + v^5)\n",
      "0.06755555555555555\n",
      "(u)' = -1.337 u + 5.009 1/(1 + u^1) + -10.456 1/(1 + u^2) + 12.073 1/(1 + v^2) + -3.598 1/(1 + v^3) + 4.765 1/(1 + u^4) + -20.069 1/(1 + v^4) + 14.014 1/(1 + v^5)\n",
      "(v)' = -0.945 v + 3.397 1/(1 + v^1) + 13.603 1/(1 + u^2) + 1.851 1/(1 + v^2) + -43.470 1/(1 + u^3) + -27.567 1/(1 + v^3) + 48.599 1/(1 + u^4) + 38.976 1/(1 + v^4) + -17.600 1/(1 + u^5) + -16.709 1/(1 + v^5)\n",
      "0.1341111111111111\n",
      "(u)' = -1.518 u + 1.402 v + 2.075 1/(1 + v^1) + -7.473 1/(1 + v^2) + -12.382 1/(1 + u^3) + 5.576 1/(1 + v^3) + 21.498 1/(1 + u^4) + 7.157 1/(1 + v^4) + -10.985 1/(1 + u^5) + -5.752 1/(1 + v^5)\n",
      "(v)' = -0.777 v + 2.117 1/(1 + u^1) + -2.109 1/(1 + v^1) + 0.935 1/(1 + u^2) + 2.465 1/(1 + v^2) + -10.000 1/(1 + u^3) + 11.347 1/(1 + v^3) + 10.151 1/(1 + u^4) + -24.019 1/(1 + v^4) + -1.656 1/(1 + u^5) + 11.470 1/(1 + v^5)\n",
      "0.20066666666666666\n",
      "(u)' = -1.611 u + 1.090 v + 1.037 1/(1 + u^1) + 3.877 1/(1 + v^1) + 4.853 1/(1 + u^2) + 5.755 1/(1 + v^2) + -11.339 1/(1 + u^3) + -15.225 1/(1 + v^3) + -11.310 1/(1 + u^4) + 3.465 1/(1 + v^4) + 14.007 1/(1 + u^5) + 5.652 1/(1 + v^5)\n",
      "(v)' = 1.419 1/(1 + u^1) + 1.317 1/(1 + v^1) + 1.425 1/(1 + u^2) + -4.617 1/(1 + v^2) + -8.607 1/(1 + u^3) + -1.617 1/(1 + u^4) + 10.296 1/(1 + v^4) + 7.198 1/(1 + u^5) + -6.990 1/(1 + v^5)\n",
      "0.2672222222222222\n",
      "(u)' = -0.716 1/(1 + u^3) + -0.695 1/(1 + v^4) + 1.184 1/(1 + u^5)\n",
      "(v)' = -3.632 1/(1 + u^1) + -2.765 1/(1 + u^2) + -4.810 1/(1 + v^2) + 13.773 1/(1 + u^3) + 3.831 1/(1 + v^3) + -2.231 1/(1 + u^4) + 6.988 1/(1 + v^4) + -4.802 1/(1 + u^5) + -6.581 1/(1 + v^5)\n"
     ]
    },
    {
     "name": "stderr",
     "output_type": "stream",
     "text": [
      "C:\\Users\\UserALai\\miniconda3\\lib\\site-packages\\scipy\\integrate\\_odepack_py.py:247: ODEintWarning: Excess work done on this call (perhaps wrong Dfun type). Run with full_output = 1 to get quantitative information.\n",
      "  warnings.warn(warning_msg, ODEintWarning)\n",
      "C:\\Users\\UserALai\\miniconda3\\lib\\site-packages\\scipy\\integrate\\_odepack_py.py:247: ODEintWarning: Excess work done on this call (perhaps wrong Dfun type). Run with full_output = 1 to get quantitative information.\n",
      "  warnings.warn(warning_msg, ODEintWarning)\n",
      "C:\\Users\\UserALai\\miniconda3\\lib\\site-packages\\scipy\\integrate\\_odepack_py.py:247: ODEintWarning: Excess work done on this call (perhaps wrong Dfun type). Run with full_output = 1 to get quantitative information.\n",
      "  warnings.warn(warning_msg, ODEintWarning)\n",
      "C:\\Users\\UserALai\\miniconda3\\lib\\site-packages\\scipy\\integrate\\_odepack_py.py:247: ODEintWarning: Excess work done on this call (perhaps wrong Dfun type). Run with full_output = 1 to get quantitative information.\n",
      "  warnings.warn(warning_msg, ODEintWarning)\n",
      "C:\\Users\\UserALai\\miniconda3\\lib\\site-packages\\scipy\\integrate\\_odepack_py.py:247: ODEintWarning: Excess work done on this call (perhaps wrong Dfun type). Run with full_output = 1 to get quantitative information.\n",
      "  warnings.warn(warning_msg, ODEintWarning)\n",
      "C:\\Users\\UserALai\\miniconda3\\lib\\site-packages\\scipy\\integrate\\_odepack_py.py:247: ODEintWarning: Excess work done on this call (perhaps wrong Dfun type). Run with full_output = 1 to get quantitative information.\n",
      "  warnings.warn(warning_msg, ODEintWarning)\n",
      "C:\\Users\\UserALai\\miniconda3\\lib\\site-packages\\scipy\\integrate\\_odepack_py.py:247: ODEintWarning: Excess work done on this call (perhaps wrong Dfun type). Run with full_output = 1 to get quantitative information.\n",
      "  warnings.warn(warning_msg, ODEintWarning)\n",
      "C:\\Users\\UserALai\\miniconda3\\lib\\site-packages\\scipy\\integrate\\_odepack_py.py:247: ODEintWarning: Excess work done on this call (perhaps wrong Dfun type). Run with full_output = 1 to get quantitative information.\n",
      "  warnings.warn(warning_msg, ODEintWarning)\n",
      "C:\\Users\\UserALai\\miniconda3\\lib\\site-packages\\scipy\\integrate\\_odepack_py.py:247: ODEintWarning: Excess work done on this call (perhaps wrong Dfun type). Run with full_output = 1 to get quantitative information.\n",
      "  warnings.warn(warning_msg, ODEintWarning)\n",
      "C:\\Users\\UserALai\\miniconda3\\lib\\site-packages\\scipy\\integrate\\_odepack_py.py:247: ODEintWarning: Excess work done on this call (perhaps wrong Dfun type). Run with full_output = 1 to get quantitative information.\n",
      "  warnings.warn(warning_msg, ODEintWarning)\n",
      "C:\\Users\\UserALai\\miniconda3\\lib\\site-packages\\scipy\\integrate\\_odepack_py.py:247: ODEintWarning: Excess work done on this call (perhaps wrong Dfun type). Run with full_output = 1 to get quantitative information.\n",
      "  warnings.warn(warning_msg, ODEintWarning)\n",
      "C:\\Users\\UserALai\\miniconda3\\lib\\site-packages\\scipy\\integrate\\_odepack_py.py:247: ODEintWarning: Excess work done on this call (perhaps wrong Dfun type). Run with full_output = 1 to get quantitative information.\n",
      "  warnings.warn(warning_msg, ODEintWarning)\n"
     ]
    },
    {
     "name": "stdout",
     "output_type": "stream",
     "text": [
      "0.33377777777777773\n",
      "(u)' = -1.218 1/(1 + u^1) + -1.355 1/(1 + v^1) + 4.909 1/(1 + u^2) + -1.163 1/(1 + u^3) + -9.823 1/(1 + u^4) + -6.026 1/(1 + v^4) + 8.031 1/(1 + u^5) + 6.699 1/(1 + v^5)\n",
      "(v)' = 2.509 1/(1 + u^1) + -5.090 1/(1 + v^1) + 10.039 1/(1 + u^2) + -11.262 1/(1 + v^2) + -18.701 1/(1 + u^3) + 26.515 1/(1 + v^3) + -11.642 1/(1 + u^4) + 7.605 1/(1 + v^4) + 18.621 1/(1 + u^5) + -18.664 1/(1 + v^5)\n",
      "0.4003333333333333\n",
      "(u)' = -2.811 1/(1 + u^1) + 1.663 1/(1 + v^1) + -5.567 1/(1 + u^2) + 10.174 1/(1 + v^2) + 17.349 1/(1 + u^3) + -18.597 1/(1 + v^3) + 6.018 1/(1 + u^4) + -16.187 1/(1 + v^4) + -14.862 1/(1 + u^5) + 22.731 1/(1 + v^5)\n",
      "(v)' = -3.339 1/(1 + u^1) + -4.886 1/(1 + v^1) + -3.359 1/(1 + u^2) + -12.511 1/(1 + v^2) + 20.558 1/(1 + u^3) + 27.536 1/(1 + v^3) + 5.059 1/(1 + u^4) + 9.691 1/(1 + v^4) + -17.571 1/(1 + u^5) + -21.444 1/(1 + v^5)\n",
      "0.46688888888888885\n",
      "(u)' = 2.277 1/(1 + u^1) + -1.251 1/(1 + v^1) + 3.647 1/(1 + u^2) + 6.467 1/(1 + v^2) + -12.529 1/(1 + u^3) + -3.068 1/(1 + u^4) + -11.453 1/(1 + v^4) + 9.468 1/(1 + u^5) + 6.200 1/(1 + v^5)\n",
      "(v)' = -1.120 1/(1 + u^1) + -1.365 1/(1 + v^1) + -2.375 1/(1 + u^2) + -2.845 1/(1 + v^2) + 2.123 1/(1 + u^3) + 4.737 1/(1 + v^3) + 2.053 1/(1 + u^5) + -1.081 1/(1 + v^5)\n"
     ]
    },
    {
     "name": "stderr",
     "output_type": "stream",
     "text": [
      "C:\\Users\\UserALai\\miniconda3\\lib\\site-packages\\scipy\\integrate\\_odepack_py.py:247: ODEintWarning: Excess work done on this call (perhaps wrong Dfun type). Run with full_output = 1 to get quantitative information.\n",
      "  warnings.warn(warning_msg, ODEintWarning)\n",
      "C:\\Users\\UserALai\\miniconda3\\lib\\site-packages\\scipy\\integrate\\_odepack_py.py:247: ODEintWarning: Excess work done on this call (perhaps wrong Dfun type). Run with full_output = 1 to get quantitative information.\n",
      "  warnings.warn(warning_msg, ODEintWarning)\n",
      "C:\\Users\\UserALai\\miniconda3\\lib\\site-packages\\scipy\\integrate\\_odepack_py.py:247: ODEintWarning: Excess work done on this call (perhaps wrong Dfun type). Run with full_output = 1 to get quantitative information.\n",
      "  warnings.warn(warning_msg, ODEintWarning)\n",
      "C:\\Users\\UserALai\\miniconda3\\lib\\site-packages\\scipy\\integrate\\_odepack_py.py:247: ODEintWarning: Excess work done on this call (perhaps wrong Dfun type). Run with full_output = 1 to get quantitative information.\n",
      "  warnings.warn(warning_msg, ODEintWarning)\n",
      "C:\\Users\\UserALai\\miniconda3\\lib\\site-packages\\scipy\\integrate\\_odepack_py.py:247: ODEintWarning: Excess work done on this call (perhaps wrong Dfun type). Run with full_output = 1 to get quantitative information.\n",
      "  warnings.warn(warning_msg, ODEintWarning)\n",
      "C:\\Users\\UserALai\\miniconda3\\lib\\site-packages\\scipy\\integrate\\_odepack_py.py:247: ODEintWarning: Excess work done on this call (perhaps wrong Dfun type). Run with full_output = 1 to get quantitative information.\n",
      "  warnings.warn(warning_msg, ODEintWarning)\n",
      "C:\\Users\\UserALai\\miniconda3\\lib\\site-packages\\scipy\\integrate\\_odepack_py.py:247: ODEintWarning: Excess work done on this call (perhaps wrong Dfun type). Run with full_output = 1 to get quantitative information.\n",
      "  warnings.warn(warning_msg, ODEintWarning)\n",
      "C:\\Users\\UserALai\\miniconda3\\lib\\site-packages\\scipy\\integrate\\_odepack_py.py:247: ODEintWarning: Excess work done on this call (perhaps wrong Dfun type). Run with full_output = 1 to get quantitative information.\n",
      "  warnings.warn(warning_msg, ODEintWarning)\n",
      "C:\\Users\\UserALai\\miniconda3\\lib\\site-packages\\scipy\\integrate\\_odepack_py.py:247: ODEintWarning: Excess work done on this call (perhaps wrong Dfun type). Run with full_output = 1 to get quantitative information.\n",
      "  warnings.warn(warning_msg, ODEintWarning)\n",
      "C:\\Users\\UserALai\\miniconda3\\lib\\site-packages\\scipy\\integrate\\_odepack_py.py:247: ODEintWarning: Excess work done on this call (perhaps wrong Dfun type). Run with full_output = 1 to get quantitative information.\n",
      "  warnings.warn(warning_msg, ODEintWarning)\n",
      "C:\\Users\\UserALai\\miniconda3\\lib\\site-packages\\scipy\\integrate\\_odepack_py.py:247: ODEintWarning: Excess work done on this call (perhaps wrong Dfun type). Run with full_output = 1 to get quantitative information.\n",
      "  warnings.warn(warning_msg, ODEintWarning)\n",
      "C:\\Users\\UserALai\\miniconda3\\lib\\site-packages\\scipy\\integrate\\_odepack_py.py:247: ODEintWarning: Excess work done on this call (perhaps wrong Dfun type). Run with full_output = 1 to get quantitative information.\n",
      "  warnings.warn(warning_msg, ODEintWarning)\n",
      "C:\\Users\\UserALai\\miniconda3\\lib\\site-packages\\scipy\\integrate\\_odepack_py.py:247: ODEintWarning: Excess work done on this call (perhaps wrong Dfun type). Run with full_output = 1 to get quantitative information.\n",
      "  warnings.warn(warning_msg, ODEintWarning)\n",
      "C:\\Users\\UserALai\\miniconda3\\lib\\site-packages\\scipy\\integrate\\_odepack_py.py:247: ODEintWarning: Excess work done on this call (perhaps wrong Dfun type). Run with full_output = 1 to get quantitative information.\n",
      "  warnings.warn(warning_msg, ODEintWarning)\n",
      "C:\\Users\\UserALai\\miniconda3\\lib\\site-packages\\scipy\\integrate\\_odepack_py.py:247: ODEintWarning: Excess work done on this call (perhaps wrong Dfun type). Run with full_output = 1 to get quantitative information.\n",
      "  warnings.warn(warning_msg, ODEintWarning)\n",
      "C:\\Users\\UserALai\\miniconda3\\lib\\site-packages\\scipy\\integrate\\_odepack_py.py:247: ODEintWarning: Excess work done on this call (perhaps wrong Dfun type). Run with full_output = 1 to get quantitative information.\n",
      "  warnings.warn(warning_msg, ODEintWarning)\n",
      "C:\\Users\\UserALai\\miniconda3\\lib\\site-packages\\scipy\\integrate\\_odepack_py.py:247: ODEintWarning: Excess work done on this call (perhaps wrong Dfun type). Run with full_output = 1 to get quantitative information.\n",
      "  warnings.warn(warning_msg, ODEintWarning)\n",
      "C:\\Users\\UserALai\\miniconda3\\lib\\site-packages\\scipy\\integrate\\_odepack_py.py:247: ODEintWarning: Excess work done on this call (perhaps wrong Dfun type). Run with full_output = 1 to get quantitative information.\n",
      "  warnings.warn(warning_msg, ODEintWarning)\n",
      "C:\\Users\\UserALai\\miniconda3\\lib\\site-packages\\scipy\\integrate\\_odepack_py.py:247: ODEintWarning: Excess work done on this call (perhaps wrong Dfun type). Run with full_output = 1 to get quantitative information.\n",
      "  warnings.warn(warning_msg, ODEintWarning)\n",
      "C:\\Users\\UserALai\\miniconda3\\lib\\site-packages\\scipy\\integrate\\_odepack_py.py:247: ODEintWarning: Excess work done on this call (perhaps wrong Dfun type). Run with full_output = 1 to get quantitative information.\n",
      "  warnings.warn(warning_msg, ODEintWarning)\n",
      "C:\\Users\\UserALai\\miniconda3\\lib\\site-packages\\scipy\\integrate\\_odepack_py.py:247: ODEintWarning: Excess work done on this call (perhaps wrong Dfun type). Run with full_output = 1 to get quantitative information.\n",
      "  warnings.warn(warning_msg, ODEintWarning)\n",
      "C:\\Users\\UserALai\\miniconda3\\lib\\site-packages\\scipy\\integrate\\_odepack_py.py:247: ODEintWarning: Excess work done on this call (perhaps wrong Dfun type). Run with full_output = 1 to get quantitative information.\n",
      "  warnings.warn(warning_msg, ODEintWarning)\n"
     ]
    },
    {
     "name": "stdout",
     "output_type": "stream",
     "text": [
      "0.5334444444444444\n",
      "(u)' = -2.680 1/(1 + u^1) + -4.099 1/(1 + v^1) + -12.080 1/(1 + u^2) + -0.694 1/(1 + v^2) + 23.574 1/(1 + u^3) + 12.329 1/(1 + v^3) + 15.672 1/(1 + u^4) + -5.947 1/(1 + v^4) + -25.896 1/(1 + u^5)\n",
      "(v)' = 3.842 1/(1 + u^1) + -1.113 1/(1 + v^1) + 18.624 1/(1 + u^2) + -12.233 1/(1 + v^2) + -23.737 1/(1 + u^3) + 6.435 1/(1 + v^3) + -17.326 1/(1 + u^4) + 10.245 1/(1 + v^4) + 20.356 1/(1 + u^5) + -5.136 1/(1 + v^5)\n"
     ]
    },
    {
     "name": "stderr",
     "output_type": "stream",
     "text": [
      "C:\\Users\\UserALai\\miniconda3\\lib\\site-packages\\scipy\\integrate\\_odepack_py.py:247: ODEintWarning: Excess work done on this call (perhaps wrong Dfun type). Run with full_output = 1 to get quantitative information.\n",
      "  warnings.warn(warning_msg, ODEintWarning)\n",
      "C:\\Users\\UserALai\\miniconda3\\lib\\site-packages\\scipy\\integrate\\_odepack_py.py:247: ODEintWarning: Excess work done on this call (perhaps wrong Dfun type). Run with full_output = 1 to get quantitative information.\n",
      "  warnings.warn(warning_msg, ODEintWarning)\n",
      "C:\\Users\\UserALai\\miniconda3\\lib\\site-packages\\scipy\\integrate\\_odepack_py.py:247: ODEintWarning: Excess work done on this call (perhaps wrong Dfun type). Run with full_output = 1 to get quantitative information.\n",
      "  warnings.warn(warning_msg, ODEintWarning)\n",
      "C:\\Users\\UserALai\\miniconda3\\lib\\site-packages\\scipy\\integrate\\_odepack_py.py:247: ODEintWarning: Excess work done on this call (perhaps wrong Dfun type). Run with full_output = 1 to get quantitative information.\n",
      "  warnings.warn(warning_msg, ODEintWarning)\n",
      "C:\\Users\\UserALai\\miniconda3\\lib\\site-packages\\scipy\\integrate\\_odepack_py.py:247: ODEintWarning: Excess work done on this call (perhaps wrong Dfun type). Run with full_output = 1 to get quantitative information.\n",
      "  warnings.warn(warning_msg, ODEintWarning)\n",
      "C:\\Users\\UserALai\\miniconda3\\lib\\site-packages\\scipy\\integrate\\_odepack_py.py:247: ODEintWarning: Excess work done on this call (perhaps wrong Dfun type). Run with full_output = 1 to get quantitative information.\n",
      "  warnings.warn(warning_msg, ODEintWarning)\n",
      "C:\\Users\\UserALai\\miniconda3\\lib\\site-packages\\scipy\\integrate\\_odepack_py.py:247: ODEintWarning: Excess work done on this call (perhaps wrong Dfun type). Run with full_output = 1 to get quantitative information.\n",
      "  warnings.warn(warning_msg, ODEintWarning)\n",
      "C:\\Users\\UserALai\\miniconda3\\lib\\site-packages\\scipy\\integrate\\_odepack_py.py:247: ODEintWarning: Excess work done on this call (perhaps wrong Dfun type). Run with full_output = 1 to get quantitative information.\n",
      "  warnings.warn(warning_msg, ODEintWarning)\n",
      "C:\\Users\\UserALai\\miniconda3\\lib\\site-packages\\scipy\\integrate\\_odepack_py.py:247: ODEintWarning: Excess work done on this call (perhaps wrong Dfun type). Run with full_output = 1 to get quantitative information.\n",
      "  warnings.warn(warning_msg, ODEintWarning)\n",
      "C:\\Users\\UserALai\\miniconda3\\lib\\site-packages\\scipy\\integrate\\_odepack_py.py:247: ODEintWarning: Excess work done on this call (perhaps wrong Dfun type). Run with full_output = 1 to get quantitative information.\n",
      "  warnings.warn(warning_msg, ODEintWarning)\n"
     ]
    },
    {
     "name": "stdout",
     "output_type": "stream",
     "text": [
      "0.6\n",
      "(u)' = -6.042 1/(1 + u^1) + -0.893 1/(1 + v^1) + -14.660 1/(1 + u^2) + -6.617 1/(1 + v^2) + 39.336 1/(1 + u^3) + 10.021 1/(1 + v^3) + 16.456 1/(1 + u^4) + 9.557 1/(1 + v^4) + -35.352 1/(1 + u^5) + -12.222 1/(1 + v^5)\n",
      "(v)' = -1.289 1/(1 + v^1) + -2.836 1/(1 + u^2) + -4.184 1/(1 + v^2) + -0.758 1/(1 + u^3) + 12.346 1/(1 + v^3) + 2.197 1/(1 + u^4) + 7.041 1/(1 + v^4) + 1.265 1/(1 + u^5) + -14.126 1/(1 + v^5)\n",
      "[0.001      0.06755556 0.13411111 0.20066667 0.26722222 0.33377778\n",
      " 0.40033333 0.46688889 0.53344444 0.6       ]\n",
      "[0.0040401895735318865, 0.1968654341170381, 0.28648969496319904, 9.509233810586235, 3.5416195433482454, 1.3097641229621568, 50.60892059784235, 33543.88353257513, 13.198796617534303, 1.6332905708407375]\n",
      "0.001\n",
      "(u)' = -1.200 u + 5.845 1/(1 + u^1) + 10.846 1/(1 + v^1) + -13.749 1/(1 + u^2) + -26.291 1/(1 + v^2) + 0.673 1/(1 + u^3) + 28.356 1/(1 + v^3) + 17.983 1/(1 + u^4) + -12.418 1/(1 + v^4) + -10.968 1/(1 + u^5) + 1.180 1/(1 + v^5)\n",
      "(v)' = -0.997 v + 3.329 1/(1 + u^1) + -3.082 1/(1 + v^1) + -4.802 1/(1 + u^2) + 7.148 1/(1 + v^2) + 4.096 1/(1 + u^4) + -10.461 1/(1 + v^4) + -1.263 1/(1 + u^5) + 6.070 1/(1 + v^5)\n",
      "0.06755555555555555\n",
      "(u)' = -1.064 u + -0.519 1/(1 + u^1) + 6.739 1/(1 + v^1) + 14.410 1/(1 + u^2) + -20.001 1/(1 + v^2) + -38.647 1/(1 + u^3) + 36.340 1/(1 + v^3) + 35.330 1/(1 + u^4) + -34.730 1/(1 + v^4) + -10.540 1/(1 + u^5) + 12.864 1/(1 + v^5)\n",
      "(v)' = -1.521 v + 0.893 1/(1 + u^1) + 9.167 1/(1 + v^1) + -0.891 1/(1 + u^2) + 6.466 1/(1 + v^2) + -2.218 1/(1 + u^3) + -66.642 1/(1 + v^3) + 3.365 1/(1 + u^4) + 91.137 1/(1 + v^4) + -39.177 1/(1 + v^5)\n",
      "0.1341111111111111\n",
      "(u)' = -1.652 u + 0.912 v + -1.524 1/(1 + u^1) + 2.320 1/(1 + v^1) + 0.603 1/(1 + u^2) + 11.873 1/(1 + v^2) + -3.149 1/(1 + u^3) + -26.178 1/(1 + v^3) + 1.245 1/(1 + u^4) + 19.793 1/(1 + v^4) + -4.031 1/(1 + v^5)\n",
      "(v)' = -4.418 1/(1 + v^1) + -2.000 1/(1 + u^2) + -1.883 1/(1 + v^2) + 22.356 1/(1 + v^3) + -24.333 1/(1 + v^4) + 1.915 1/(1 + u^5) + 7.760 1/(1 + v^5)\n"
     ]
    },
    {
     "name": "stderr",
     "output_type": "stream",
     "text": [
      "C:\\Users\\UserALai\\miniconda3\\lib\\site-packages\\scipy\\integrate\\_odepack_py.py:247: ODEintWarning: Excess work done on this call (perhaps wrong Dfun type). Run with full_output = 1 to get quantitative information.\n",
      "  warnings.warn(warning_msg, ODEintWarning)\n",
      "C:\\Users\\UserALai\\miniconda3\\lib\\site-packages\\scipy\\integrate\\_odepack_py.py:247: ODEintWarning: Excess work done on this call (perhaps wrong Dfun type). Run with full_output = 1 to get quantitative information.\n",
      "  warnings.warn(warning_msg, ODEintWarning)\n",
      "C:\\Users\\UserALai\\miniconda3\\lib\\site-packages\\scipy\\integrate\\_odepack_py.py:247: ODEintWarning: Excess work done on this call (perhaps wrong Dfun type). Run with full_output = 1 to get quantitative information.\n",
      "  warnings.warn(warning_msg, ODEintWarning)\n",
      "C:\\Users\\UserALai\\miniconda3\\lib\\site-packages\\scipy\\integrate\\_odepack_py.py:247: ODEintWarning: Excess work done on this call (perhaps wrong Dfun type). Run with full_output = 1 to get quantitative information.\n",
      "  warnings.warn(warning_msg, ODEintWarning)\n"
     ]
    },
    {
     "name": "stdout",
     "output_type": "stream",
     "text": [
      "0.20066666666666666\n",
      "(u)' = -1.488 u + 1.179 v + -2.482 1/(1 + u^1) + 1.086 1/(1 + v^1) + -5.092 1/(1 + u^2) + 1.552 1/(1 + v^2) + 10.395 1/(1 + u^3) + -1.537 1/(1 + v^3) + -1.319 1/(1 + u^4) + 5.103 1/(1 + v^4) + -4.756 1/(1 + u^5) + -2.816 1/(1 + v^5)\n",
      "(v)' = -1.103 1/(1 + u^1) + -3.408 1/(1 + u^2) + -2.427 1/(1 + v^2) + 2.611 1/(1 + u^3) + 6.811 1/(1 + v^3) + 7.285 1/(1 + v^4) + 1.020 1/(1 + u^5) + -10.980 1/(1 + v^5)\n",
      "0.2672222222222222\n",
      "(u)' = -3.040 1/(1 + u^1) + -1.525 1/(1 + v^1) + -13.171 1/(1 + u^2) + 1.577 1/(1 + v^2) + 21.281 1/(1 + u^3) + 4.601 1/(1 + v^3) + 13.938 1/(1 + u^4) + -3.804 1/(1 + v^4) + -20.257 1/(1 + u^5)\n",
      "(v)' = 2.089 1/(1 + u^1) + 1.927 1/(1 + v^1) + -3.083 1/(1 + u^2) + 3.341 1/(1 + v^2) + -6.253 1/(1 + u^3) + -8.107 1/(1 + v^3) + 6.201 1/(1 + u^4) + 3.863 1/(1 + v^5)\n",
      "0.33377777777777773\n",
      "(u)' = 0.731 v + -3.460 1/(1 + u^1) + -2.472 1/(1 + v^1) + -9.774 1/(1 + u^2) + -17.827 1/(1 + v^2) + 16.621 1/(1 + u^3) + 22.688 1/(1 + v^3) + 6.182 1/(1 + u^4) + 22.300 1/(1 + v^4) + -10.424 1/(1 + u^5) + -25.500 1/(1 + v^5)\n",
      "(v)' = -1.974 1/(1 + u^1) + -2.663 1/(1 + v^1) + -5.436 1/(1 + u^2) + -3.398 1/(1 + v^2) + 13.579 1/(1 + u^3) + 10.417 1/(1 + v^3) + 6.843 1/(1 + u^4) + -0.759 1/(1 + v^4) + -12.792 1/(1 + u^5) + -4.000 1/(1 + v^5)\n",
      "0.4003333333333333\n",
      "(u)' = -1.163 1/(1 + u^1) + -0.820 1/(1 + u^2) + 10.092 1/(1 + v^2) + -12.642 1/(1 + v^3) + -3.907 1/(1 + u^4) + -18.344 1/(1 + v^4) + 5.877 1/(1 + u^5) + 21.089 1/(1 + v^5)\n",
      "(v)' = -2.752 1/(1 + u^1) + 1.489 1/(1 + v^1) + -5.616 1/(1 + u^2) + 13.687 1/(1 + u^3) + -8.757 1/(1 + v^3) + 3.717 1/(1 + u^4) + -9.092 1/(1 + u^5) + 7.116 1/(1 + v^5)\n"
     ]
    },
    {
     "name": "stderr",
     "output_type": "stream",
     "text": [
      "C:\\Users\\UserALai\\miniconda3\\lib\\site-packages\\scipy\\integrate\\_odepack_py.py:247: ODEintWarning: Excess work done on this call (perhaps wrong Dfun type). Run with full_output = 1 to get quantitative information.\n",
      "  warnings.warn(warning_msg, ODEintWarning)\n",
      "C:\\Users\\UserALai\\miniconda3\\lib\\site-packages\\scipy\\integrate\\_odepack_py.py:247: ODEintWarning: Excess work done on this call (perhaps wrong Dfun type). Run with full_output = 1 to get quantitative information.\n",
      "  warnings.warn(warning_msg, ODEintWarning)\n",
      "C:\\Users\\UserALai\\miniconda3\\lib\\site-packages\\scipy\\integrate\\_odepack_py.py:247: ODEintWarning: Excess work done on this call (perhaps wrong Dfun type). Run with full_output = 1 to get quantitative information.\n",
      "  warnings.warn(warning_msg, ODEintWarning)\n",
      "C:\\Users\\UserALai\\miniconda3\\lib\\site-packages\\scipy\\integrate\\_odepack_py.py:247: ODEintWarning: Excess work done on this call (perhaps wrong Dfun type). Run with full_output = 1 to get quantitative information.\n",
      "  warnings.warn(warning_msg, ODEintWarning)\n",
      "C:\\Users\\UserALai\\miniconda3\\lib\\site-packages\\scipy\\integrate\\_odepack_py.py:247: ODEintWarning: Excess work done on this call (perhaps wrong Dfun type). Run with full_output = 1 to get quantitative information.\n",
      "  warnings.warn(warning_msg, ODEintWarning)\n",
      "C:\\Users\\UserALai\\miniconda3\\lib\\site-packages\\scipy\\integrate\\_odepack_py.py:247: ODEintWarning: Excess work done on this call (perhaps wrong Dfun type). Run with full_output = 1 to get quantitative information.\n",
      "  warnings.warn(warning_msg, ODEintWarning)\n",
      "C:\\Users\\UserALai\\miniconda3\\lib\\site-packages\\scipy\\integrate\\_odepack_py.py:247: ODEintWarning: Excess work done on this call (perhaps wrong Dfun type). Run with full_output = 1 to get quantitative information.\n",
      "  warnings.warn(warning_msg, ODEintWarning)\n"
     ]
    },
    {
     "name": "stdout",
     "output_type": "stream",
     "text": [
      "0.46688888888888885\n",
      "(u)' = 4.165 1/(1 + u^1) + 9.428 1/(1 + u^2) + 1.312 1/(1 + v^2) + -26.777 1/(1 + u^3) + 0.654 1/(1 + v^3) + -10.253 1/(1 + u^4) + -1.260 1/(1 + v^4) + 23.802 1/(1 + u^5) + -1.056 1/(1 + v^5)\n",
      "(v)' = -2.879 1/(1 + u^1) + 1.557 1/(1 + v^1) + -3.160 1/(1 + u^2) + 11.192 1/(1 + v^2) + 11.696 1/(1 + u^3) + -21.391 1/(1 + v^3) + -0.527 1/(1 + u^4) + -18.962 1/(1 + v^4) + -5.099 1/(1 + u^5) + 27.698 1/(1 + v^5)\n"
     ]
    },
    {
     "name": "stderr",
     "output_type": "stream",
     "text": [
      "C:\\Users\\UserALai\\miniconda3\\lib\\site-packages\\scipy\\integrate\\_odepack_py.py:247: ODEintWarning: Excess work done on this call (perhaps wrong Dfun type). Run with full_output = 1 to get quantitative information.\n",
      "  warnings.warn(warning_msg, ODEintWarning)\n",
      "C:\\Users\\UserALai\\miniconda3\\lib\\site-packages\\scipy\\integrate\\_odepack_py.py:247: ODEintWarning: Excess work done on this call (perhaps wrong Dfun type). Run with full_output = 1 to get quantitative information.\n",
      "  warnings.warn(warning_msg, ODEintWarning)\n"
     ]
    },
    {
     "name": "stdout",
     "output_type": "stream",
     "text": [
      "0.5334444444444444\n",
      "(u)' = -0.988 1/(1 + u^1) + -1.600 1/(1 + v^1) + 6.714 1/(1 + u^2) + -10.312 1/(1 + v^2) + 11.007 1/(1 + v^3) + -8.905 1/(1 + u^4) + 9.428 1/(1 + v^4) + 4.933 1/(1 + u^5) + -10.386 1/(1 + v^5)\n",
      "(v)' = 1.164 1/(1 + u^1) + 1.877 1/(1 + v^1) + 2.592 1/(1 + u^2) + 5.700 1/(1 + v^2) + -11.588 1/(1 + u^3) + -12.089 1/(1 + v^3) + -6.599 1/(1 + u^4) + -5.148 1/(1 + v^4) + 13.495 1/(1 + u^5) + 10.818 1/(1 + v^5)\n",
      "0.6\n",
      "(u)' = 0.558 v + 1.046 1/(1 + u^1) + 2.351 1/(1 + v^1) + -2.039 1/(1 + u^2) + 2.659 1/(1 + v^2) + -9.856 1/(1 + u^3) + -11.214 1/(1 + v^3) + -2.138 1/(1 + u^4) + 11.185 1/(1 + u^5) + 6.973 1/(1 + v^5)\n",
      "(v)' = -0.645 u + 1.907 1/(1 + u^1) + -3.298 1/(1 + v^1) + -1.927 1/(1 + u^2) + 7.935 1/(1 + v^2) + -10.364 1/(1 + u^3) + 13.360 1/(1 + v^3) + 1.663 1/(1 + u^4) + -10.624 1/(1 + v^4) + 7.729 1/(1 + u^5) + -5.681 1/(1 + v^5)\n",
      "[0.001      0.06755556 0.13411111 0.20066667 0.26722222 0.33377778\n",
      " 0.40033333 0.46688889 0.53344444 0.6       ]\n",
      "[0.011793997489513078, 0.092918709167056, 0.094623363304549, 0.9514072822068865, 15.07364129623573, 0.745721699309679, 3.1491077993024263, 34.72692157372666, 8.573819840030552, 8888.660645835706]\n",
      "0.001\n",
      "(u)' = -1.125 u + 12.670 1/(1 + u^1) + 3.564 1/(1 + v^1) + -35.556 1/(1 + u^2) + -7.598 1/(1 + v^2) + 36.889 1/(1 + u^3) + 4.997 1/(1 + v^3) + -12.446 1/(1 + u^4) + 2.846 1/(1 + v^4) + -0.707 1/(1 + u^5) + -3.308 1/(1 + v^5)\n",
      "(v)' = -0.807 v + -6.635 1/(1 + u^1) + 17.917 1/(1 + v^1) + 7.774 1/(1 + u^2) + -78.919 1/(1 + v^2) + 0.785 1/(1 + u^3) + 160.858 1/(1 + v^3) + -7.845 1/(1 + u^4) + -150.537 1/(1 + v^4) + 4.771 1/(1 + u^5) + 52.444 1/(1 + v^5)\n",
      "0.06755555555555555\n",
      "(u)' = -1.270 u + -1.397 1/(1 + u^1) + 7.576 1/(1 + v^1) + -5.817 1/(1 + u^2) + 16.699 1/(1 + v^2) + 35.393 1/(1 + u^3) + -68.374 1/(1 + v^3) + -61.759 1/(1 + u^4) + 73.406 1/(1 + v^4) + 32.309 1/(1 + u^5) + -26.281 1/(1 + v^5)\n",
      "(v)' = -1.194 v + -0.963 1/(1 + v^1) + 10.110 1/(1 + u^2) + 14.415 1/(1 + v^2) + -35.041 1/(1 + u^3) + -28.435 1/(1 + v^3) + 46.511 1/(1 + u^4) + 26.293 1/(1 + v^4) + -20.115 1/(1 + u^5) + -11.110 1/(1 + v^5)\n",
      "0.1341111111111111\n",
      "(u)' = -1.032 u + 0.660 v + -2.212 1/(1 + v^1) + -0.543 1/(1 + u^2) + 8.936 1/(1 + v^2) + -2.968 1/(1 + u^3) + -0.686 1/(1 + v^3) + -3.965 1/(1 + u^4) + -15.252 1/(1 + v^4) + 6.144 1/(1 + u^5) + 10.565 1/(1 + v^5)\n",
      "(v)' = -2.300 1/(1 + u^1) + -5.324 1/(1 + v^1) + 3.511 1/(1 + u^2) + 4.633 1/(1 + u^3) + 17.062 1/(1 + v^3) + -15.976 1/(1 + u^4) + -12.641 1/(1 + v^4) + 10.456 1/(1 + u^5)\n",
      "0.20066666666666666\n",
      "(u)' = -0.806 u + 0.529 v + -0.641 1/(1 + u^1) + -1.536 1/(1 + v^1) + 2.129 1/(1 + u^2) + 5.175 1/(1 + v^2) + 1.897 1/(1 + u^3) + 2.079 1/(1 + v^3) + -4.313 1/(1 + u^4) + -9.371 1/(1 + v^4) + 4.935 1/(1 + v^5)\n",
      "(v)' = -0.512 v + -1.240 1/(1 + u^1) + -1.135 1/(1 + v^1) + -7.579 1/(1 + u^2) + 5.543 1/(1 + v^2) + 10.327 1/(1 + u^3) + 9.599 1/(1 + u^4) + -10.419 1/(1 + v^4) + -10.840 1/(1 + u^5) + 6.011 1/(1 + v^5)\n"
     ]
    },
    {
     "name": "stderr",
     "output_type": "stream",
     "text": [
      "C:\\Users\\UserALai\\miniconda3\\lib\\site-packages\\scipy\\integrate\\_odepack_py.py:247: ODEintWarning: Excess work done on this call (perhaps wrong Dfun type). Run with full_output = 1 to get quantitative information.\n",
      "  warnings.warn(warning_msg, ODEintWarning)\n",
      "C:\\Users\\UserALai\\miniconda3\\lib\\site-packages\\scipy\\integrate\\_odepack_py.py:247: ODEintWarning: Excess work done on this call (perhaps wrong Dfun type). Run with full_output = 1 to get quantitative information.\n",
      "  warnings.warn(warning_msg, ODEintWarning)\n",
      "C:\\Users\\UserALai\\miniconda3\\lib\\site-packages\\scipy\\integrate\\_odepack_py.py:247: ODEintWarning: Excess work done on this call (perhaps wrong Dfun type). Run with full_output = 1 to get quantitative information.\n",
      "  warnings.warn(warning_msg, ODEintWarning)\n",
      "C:\\Users\\UserALai\\miniconda3\\lib\\site-packages\\scipy\\integrate\\_odepack_py.py:247: ODEintWarning: Excess work done on this call (perhaps wrong Dfun type). Run with full_output = 1 to get quantitative information.\n",
      "  warnings.warn(warning_msg, ODEintWarning)\n",
      "C:\\Users\\UserALai\\miniconda3\\lib\\site-packages\\scipy\\integrate\\_odepack_py.py:247: ODEintWarning: Excess work done on this call (perhaps wrong Dfun type). Run with full_output = 1 to get quantitative information.\n",
      "  warnings.warn(warning_msg, ODEintWarning)\n",
      "C:\\Users\\UserALai\\miniconda3\\lib\\site-packages\\scipy\\integrate\\_odepack_py.py:247: ODEintWarning: Excess work done on this call (perhaps wrong Dfun type). Run with full_output = 1 to get quantitative information.\n",
      "  warnings.warn(warning_msg, ODEintWarning)\n",
      "C:\\Users\\UserALai\\miniconda3\\lib\\site-packages\\scipy\\integrate\\_odepack_py.py:247: ODEintWarning: Excess work done on this call (perhaps wrong Dfun type). Run with full_output = 1 to get quantitative information.\n",
      "  warnings.warn(warning_msg, ODEintWarning)\n",
      "C:\\Users\\UserALai\\miniconda3\\lib\\site-packages\\scipy\\integrate\\_odepack_py.py:247: ODEintWarning: Excess work done on this call (perhaps wrong Dfun type). Run with full_output = 1 to get quantitative information.\n",
      "  warnings.warn(warning_msg, ODEintWarning)\n",
      "C:\\Users\\UserALai\\miniconda3\\lib\\site-packages\\scipy\\integrate\\_odepack_py.py:247: ODEintWarning: Excess work done on this call (perhaps wrong Dfun type). Run with full_output = 1 to get quantitative information.\n",
      "  warnings.warn(warning_msg, ODEintWarning)\n",
      "C:\\Users\\UserALai\\miniconda3\\lib\\site-packages\\scipy\\integrate\\_odepack_py.py:247: ODEintWarning: Excess work done on this call (perhaps wrong Dfun type). Run with full_output = 1 to get quantitative information.\n",
      "  warnings.warn(warning_msg, ODEintWarning)\n",
      "C:\\Users\\UserALai\\miniconda3\\lib\\site-packages\\scipy\\integrate\\_odepack_py.py:247: ODEintWarning: Excess work done on this call (perhaps wrong Dfun type). Run with full_output = 1 to get quantitative information.\n",
      "  warnings.warn(warning_msg, ODEintWarning)\n",
      "C:\\Users\\UserALai\\miniconda3\\lib\\site-packages\\scipy\\integrate\\_odepack_py.py:247: ODEintWarning: Excess work done on this call (perhaps wrong Dfun type). Run with full_output = 1 to get quantitative information.\n",
      "  warnings.warn(warning_msg, ODEintWarning)\n",
      "C:\\Users\\UserALai\\miniconda3\\lib\\site-packages\\scipy\\integrate\\_odepack_py.py:247: ODEintWarning: Excess work done on this call (perhaps wrong Dfun type). Run with full_output = 1 to get quantitative information.\n",
      "  warnings.warn(warning_msg, ODEintWarning)\n",
      "C:\\Users\\UserALai\\miniconda3\\lib\\site-packages\\scipy\\integrate\\_odepack_py.py:247: ODEintWarning: Excess work done on this call (perhaps wrong Dfun type). Run with full_output = 1 to get quantitative information.\n",
      "  warnings.warn(warning_msg, ODEintWarning)\n",
      "C:\\Users\\UserALai\\miniconda3\\lib\\site-packages\\scipy\\integrate\\_odepack_py.py:247: ODEintWarning: Excess work done on this call (perhaps wrong Dfun type). Run with full_output = 1 to get quantitative information.\n",
      "  warnings.warn(warning_msg, ODEintWarning)\n",
      "C:\\Users\\UserALai\\miniconda3\\lib\\site-packages\\scipy\\integrate\\_odepack_py.py:247: ODEintWarning: Excess work done on this call (perhaps wrong Dfun type). Run with full_output = 1 to get quantitative information.\n",
      "  warnings.warn(warning_msg, ODEintWarning)\n",
      "C:\\Users\\UserALai\\miniconda3\\lib\\site-packages\\scipy\\integrate\\_odepack_py.py:247: ODEintWarning: Excess work done on this call (perhaps wrong Dfun type). Run with full_output = 1 to get quantitative information.\n",
      "  warnings.warn(warning_msg, ODEintWarning)\n",
      "C:\\Users\\UserALai\\miniconda3\\lib\\site-packages\\scipy\\integrate\\_odepack_py.py:247: ODEintWarning: Excess work done on this call (perhaps wrong Dfun type). Run with full_output = 1 to get quantitative information.\n",
      "  warnings.warn(warning_msg, ODEintWarning)\n",
      "C:\\Users\\UserALai\\miniconda3\\lib\\site-packages\\scipy\\integrate\\_odepack_py.py:247: ODEintWarning: Excess work done on this call (perhaps wrong Dfun type). Run with full_output = 1 to get quantitative information.\n",
      "  warnings.warn(warning_msg, ODEintWarning)\n",
      "C:\\Users\\UserALai\\miniconda3\\lib\\site-packages\\scipy\\integrate\\_odepack_py.py:247: ODEintWarning: Excess work done on this call (perhaps wrong Dfun type). Run with full_output = 1 to get quantitative information.\n",
      "  warnings.warn(warning_msg, ODEintWarning)\n",
      "C:\\Users\\UserALai\\miniconda3\\lib\\site-packages\\scipy\\integrate\\_odepack_py.py:247: ODEintWarning: Excess work done on this call (perhaps wrong Dfun type). Run with full_output = 1 to get quantitative information.\n",
      "  warnings.warn(warning_msg, ODEintWarning)\n",
      "C:\\Users\\UserALai\\miniconda3\\lib\\site-packages\\scipy\\integrate\\_odepack_py.py:247: ODEintWarning: Excess work done on this call (perhaps wrong Dfun type). Run with full_output = 1 to get quantitative information.\n",
      "  warnings.warn(warning_msg, ODEintWarning)\n",
      "C:\\Users\\UserALai\\miniconda3\\lib\\site-packages\\scipy\\integrate\\_odepack_py.py:247: ODEintWarning: Excess work done on this call (perhaps wrong Dfun type). Run with full_output = 1 to get quantitative information.\n",
      "  warnings.warn(warning_msg, ODEintWarning)\n",
      "C:\\Users\\UserALai\\miniconda3\\lib\\site-packages\\scipy\\integrate\\_odepack_py.py:247: ODEintWarning: Excess work done on this call (perhaps wrong Dfun type). Run with full_output = 1 to get quantitative information.\n",
      "  warnings.warn(warning_msg, ODEintWarning)\n",
      "C:\\Users\\UserALai\\miniconda3\\lib\\site-packages\\scipy\\integrate\\_odepack_py.py:247: ODEintWarning: Excess work done on this call (perhaps wrong Dfun type). Run with full_output = 1 to get quantitative information.\n",
      "  warnings.warn(warning_msg, ODEintWarning)\n"
     ]
    },
    {
     "name": "stdout",
     "output_type": "stream",
     "text": [
      "0.2672222222222222\n",
      "(u)' = -0.735 u + -2.686 1/(1 + u^1) + -2.773 1/(1 + v^1) + -4.572 1/(1 + u^2) + 7.276 1/(1 + v^2) + 13.946 1/(1 + u^3) + 8.241 1/(1 + v^3) + 1.869 1/(1 + u^4) + -10.824 1/(1 + v^4) + -9.804 1/(1 + u^5)\n",
      "(v)' = 0.764 u + -1.482 v + -1.684 1/(1 + v^1) + -1.843 1/(1 + u^2) + 4.831 1/(1 + v^2) + 7.454 1/(1 + u^3) + 3.912 1/(1 + v^3) + 9.389 1/(1 + u^4) + -10.634 1/(1 + v^4) + -12.373 1/(1 + u^5) + 1.796 1/(1 + v^5)\n",
      "0.33377777777777773\n",
      "(u)' = -2.495 1/(1 + v^1) + 5.790 1/(1 + u^2) + -3.690 1/(1 + v^2) + -6.540 1/(1 + u^3) + 11.290 1/(1 + v^3) + -9.114 1/(1 + u^4) + 10.900 1/(1 + u^5) + -6.271 1/(1 + v^5)\n",
      "(v)' = -0.950 1/(1 + u^1) + -13.343 1/(1 + u^2) + 3.516 1/(1 + v^2) + 9.139 1/(1 + u^3) + 14.662 1/(1 + u^4) + -2.855 1/(1 + v^4) + -10.483 1/(1 + u^5)\n"
     ]
    },
    {
     "name": "stderr",
     "output_type": "stream",
     "text": [
      "C:\\Users\\UserALai\\miniconda3\\lib\\site-packages\\scipy\\integrate\\_odepack_py.py:247: ODEintWarning: Excess work done on this call (perhaps wrong Dfun type). Run with full_output = 1 to get quantitative information.\n",
      "  warnings.warn(warning_msg, ODEintWarning)\n",
      "C:\\Users\\UserALai\\miniconda3\\lib\\site-packages\\scipy\\integrate\\_odepack_py.py:247: ODEintWarning: Excess work done on this call (perhaps wrong Dfun type). Run with full_output = 1 to get quantitative information.\n",
      "  warnings.warn(warning_msg, ODEintWarning)\n",
      "C:\\Users\\UserALai\\miniconda3\\lib\\site-packages\\scipy\\integrate\\_odepack_py.py:247: ODEintWarning: Excess work done on this call (perhaps wrong Dfun type). Run with full_output = 1 to get quantitative information.\n",
      "  warnings.warn(warning_msg, ODEintWarning)\n",
      "C:\\Users\\UserALai\\miniconda3\\lib\\site-packages\\scipy\\integrate\\_odepack_py.py:247: ODEintWarning: Excess work done on this call (perhaps wrong Dfun type). Run with full_output = 1 to get quantitative information.\n",
      "  warnings.warn(warning_msg, ODEintWarning)\n",
      "C:\\Users\\UserALai\\miniconda3\\lib\\site-packages\\scipy\\integrate\\_odepack_py.py:247: ODEintWarning: Excess work done on this call (perhaps wrong Dfun type). Run with full_output = 1 to get quantitative information.\n",
      "  warnings.warn(warning_msg, ODEintWarning)\n",
      "C:\\Users\\UserALai\\miniconda3\\lib\\site-packages\\scipy\\integrate\\_odepack_py.py:247: ODEintWarning: Excess work done on this call (perhaps wrong Dfun type). Run with full_output = 1 to get quantitative information.\n",
      "  warnings.warn(warning_msg, ODEintWarning)\n",
      "C:\\Users\\UserALai\\miniconda3\\lib\\site-packages\\scipy\\integrate\\_odepack_py.py:247: ODEintWarning: Excess work done on this call (perhaps wrong Dfun type). Run with full_output = 1 to get quantitative information.\n",
      "  warnings.warn(warning_msg, ODEintWarning)\n",
      "C:\\Users\\UserALai\\miniconda3\\lib\\site-packages\\scipy\\integrate\\_odepack_py.py:247: ODEintWarning: Excess work done on this call (perhaps wrong Dfun type). Run with full_output = 1 to get quantitative information.\n",
      "  warnings.warn(warning_msg, ODEintWarning)\n",
      "C:\\Users\\UserALai\\miniconda3\\lib\\site-packages\\scipy\\integrate\\_odepack_py.py:247: ODEintWarning: Excess work done on this call (perhaps wrong Dfun type). Run with full_output = 1 to get quantitative information.\n",
      "  warnings.warn(warning_msg, ODEintWarning)\n",
      "C:\\Users\\UserALai\\miniconda3\\lib\\site-packages\\scipy\\integrate\\_odepack_py.py:247: ODEintWarning: Excess work done on this call (perhaps wrong Dfun type). Run with full_output = 1 to get quantitative information.\n",
      "  warnings.warn(warning_msg, ODEintWarning)\n",
      "C:\\Users\\UserALai\\miniconda3\\lib\\site-packages\\scipy\\integrate\\_odepack_py.py:247: ODEintWarning: Excess work done on this call (perhaps wrong Dfun type). Run with full_output = 1 to get quantitative information.\n",
      "  warnings.warn(warning_msg, ODEintWarning)\n",
      "C:\\Users\\UserALai\\miniconda3\\lib\\site-packages\\scipy\\integrate\\_odepack_py.py:247: ODEintWarning: Excess work done on this call (perhaps wrong Dfun type). Run with full_output = 1 to get quantitative information.\n",
      "  warnings.warn(warning_msg, ODEintWarning)\n",
      "C:\\Users\\UserALai\\miniconda3\\lib\\site-packages\\scipy\\integrate\\_odepack_py.py:247: ODEintWarning: Excess work done on this call (perhaps wrong Dfun type). Run with full_output = 1 to get quantitative information.\n",
      "  warnings.warn(warning_msg, ODEintWarning)\n",
      "C:\\Users\\UserALai\\miniconda3\\lib\\site-packages\\scipy\\integrate\\_odepack_py.py:247: ODEintWarning: Excess work done on this call (perhaps wrong Dfun type). Run with full_output = 1 to get quantitative information.\n",
      "  warnings.warn(warning_msg, ODEintWarning)\n",
      "C:\\Users\\UserALai\\miniconda3\\lib\\site-packages\\scipy\\integrate\\_odepack_py.py:247: ODEintWarning: Excess work done on this call (perhaps wrong Dfun type). Run with full_output = 1 to get quantitative information.\n",
      "  warnings.warn(warning_msg, ODEintWarning)\n",
      "C:\\Users\\UserALai\\miniconda3\\lib\\site-packages\\scipy\\integrate\\_odepack_py.py:247: ODEintWarning: Excess work done on this call (perhaps wrong Dfun type). Run with full_output = 1 to get quantitative information.\n",
      "  warnings.warn(warning_msg, ODEintWarning)\n"
     ]
    },
    {
     "name": "stdout",
     "output_type": "stream",
     "text": [
      "0.4003333333333333\n",
      "(u)' = -2.403 1/(1 + u^1) + 1.550 1/(1 + v^1) + -6.950 1/(1 + u^2) + 3.849 1/(1 + v^2) + 12.826 1/(1 + u^3) + -11.192 1/(1 + v^3) + 5.358 1/(1 + u^4) + -4.936 1/(1 + v^4) + -9.271 1/(1 + u^5) + 10.914 1/(1 + v^5)\n",
      "(v)' = -0.671 u + -3.757 1/(1 + u^1) + 0.570 1/(1 + v^1) + -8.406 1/(1 + u^2) + 14.163 1/(1 + v^2) + 23.309 1/(1 + u^3) + -13.150 1/(1 + v^3) + 7.322 1/(1 + u^4) + -18.339 1/(1 + v^4) + -19.968 1/(1 + u^5) + 19.069 1/(1 + v^5)\n"
     ]
    },
    {
     "name": "stderr",
     "output_type": "stream",
     "text": [
      "C:\\Users\\UserALai\\miniconda3\\lib\\site-packages\\scipy\\integrate\\_odepack_py.py:247: ODEintWarning: Repeated convergence failures (perhaps bad Jacobian or tolerances). Run with full_output = 1 to get quantitative information.\n",
      "  warnings.warn(warning_msg, ODEintWarning)\n",
      "C:\\Users\\UserALai\\miniconda3\\lib\\site-packages\\scipy\\integrate\\_odepack_py.py:247: ODEintWarning: Repeated convergence failures (perhaps bad Jacobian or tolerances). Run with full_output = 1 to get quantitative information.\n",
      "  warnings.warn(warning_msg, ODEintWarning)\n",
      "C:\\Users\\UserALai\\miniconda3\\lib\\site-packages\\scipy\\integrate\\_odepack_py.py:247: ODEintWarning: Repeated convergence failures (perhaps bad Jacobian or tolerances). Run with full_output = 1 to get quantitative information.\n",
      "  warnings.warn(warning_msg, ODEintWarning)\n",
      "C:\\Users\\UserALai\\miniconda3\\lib\\site-packages\\scipy\\integrate\\_odepack_py.py:247: ODEintWarning: Repeated convergence failures (perhaps bad Jacobian or tolerances). Run with full_output = 1 to get quantitative information.\n",
      "  warnings.warn(warning_msg, ODEintWarning)\n",
      "C:\\Users\\UserALai\\miniconda3\\lib\\site-packages\\scipy\\integrate\\_odepack_py.py:247: ODEintWarning: Repeated convergence failures (perhaps bad Jacobian or tolerances). Run with full_output = 1 to get quantitative information.\n",
      "  warnings.warn(warning_msg, ODEintWarning)\n",
      "C:\\Users\\UserALai\\miniconda3\\lib\\site-packages\\scipy\\integrate\\_odepack_py.py:247: ODEintWarning: Repeated convergence failures (perhaps bad Jacobian or tolerances). Run with full_output = 1 to get quantitative information.\n",
      "  warnings.warn(warning_msg, ODEintWarning)\n",
      "C:\\Users\\UserALai\\miniconda3\\lib\\site-packages\\scipy\\integrate\\_odepack_py.py:247: ODEintWarning: Repeated convergence failures (perhaps bad Jacobian or tolerances). Run with full_output = 1 to get quantitative information.\n",
      "  warnings.warn(warning_msg, ODEintWarning)\n",
      "C:\\Users\\UserALai\\miniconda3\\lib\\site-packages\\scipy\\integrate\\_odepack_py.py:247: ODEintWarning: Repeated convergence failures (perhaps bad Jacobian or tolerances). Run with full_output = 1 to get quantitative information.\n",
      "  warnings.warn(warning_msg, ODEintWarning)\n",
      "C:\\Users\\UserALai\\miniconda3\\lib\\site-packages\\scipy\\integrate\\_odepack_py.py:247: ODEintWarning: Repeated convergence failures (perhaps bad Jacobian or tolerances). Run with full_output = 1 to get quantitative information.\n",
      "  warnings.warn(warning_msg, ODEintWarning)\n",
      "C:\\Users\\UserALai\\miniconda3\\lib\\site-packages\\scipy\\integrate\\_odepack_py.py:247: ODEintWarning: Repeated convergence failures (perhaps bad Jacobian or tolerances). Run with full_output = 1 to get quantitative information.\n",
      "  warnings.warn(warning_msg, ODEintWarning)\n"
     ]
    },
    {
     "name": "stdout",
     "output_type": "stream",
     "text": [
      "0.46688888888888885\n",
      "(u)' = -7.532 1/(1 + u^1) + -6.071 1/(1 + v^1) + -16.328 1/(1 + u^2) + -3.601 1/(1 + v^2) + 44.720 1/(1 + u^3) + 28.261 1/(1 + v^3) + 16.320 1/(1 + u^4) + -2.241 1/(1 + v^4) + -36.874 1/(1 + u^5) + -16.762 1/(1 + v^5)\n",
      "(v)' = -5.134 1/(1 + u^1) + -1.686 1/(1 + v^1) + -8.513 1/(1 + u^2) + -8.134 1/(1 + v^2) + 27.235 1/(1 + u^3) + 11.714 1/(1 + v^3) + 6.508 1/(1 + u^4) + 8.658 1/(1 + v^4) + -19.724 1/(1 + u^5) + -11.045 1/(1 + v^5)\n"
     ]
    },
    {
     "name": "stderr",
     "output_type": "stream",
     "text": [
      "C:\\Users\\UserALai\\miniconda3\\lib\\site-packages\\scipy\\integrate\\_odepack_py.py:247: ODEintWarning: Excess work done on this call (perhaps wrong Dfun type). Run with full_output = 1 to get quantitative information.\n",
      "  warnings.warn(warning_msg, ODEintWarning)\n"
     ]
    },
    {
     "name": "stdout",
     "output_type": "stream",
     "text": [
      "0.5334444444444444\n",
      "(u)' = -3.200 1/(1 + u^1) + 0.759 1/(1 + v^1) + -5.786 1/(1 + u^2) + 18.450 1/(1 + u^3) + -6.527 1/(1 + v^3) + 6.281 1/(1 + u^4) + -2.277 1/(1 + v^4) + -14.781 1/(1 + u^5) + 7.079 1/(1 + v^5)\n",
      "(v)' = -4.895 1/(1 + u^1) + 4.022 1/(1 + v^1) + -8.261 1/(1 + u^2) + 0.949 1/(1 + v^2) + 28.922 1/(1 + u^3) + -17.445 1/(1 + v^3) + 7.359 1/(1 + u^4) + 3.954 1/(1 + v^4) + -23.732 1/(1 + u^5) + 8.988 1/(1 + v^5)\n",
      "0.6\n",
      "(u)' = -1.540 1/(1 + u^1) + -2.844 1/(1 + v^1) + -8.350 1/(1 + u^2) + 3.641 1/(1 + v^2) + 15.950 1/(1 + u^3) + 11.674 1/(1 + v^3) + 11.989 1/(1 + u^4) + -6.655 1/(1 + v^4) + -18.882 1/(1 + u^5) + -5.238 1/(1 + v^5)\n",
      "(v)' = -1.157 1/(1 + u^1) + -3.043 1/(1 + u^2) + 4.212 1/(1 + v^2) + 10.834 1/(1 + u^3) + 0.765 1/(1 + v^3) + 5.130 1/(1 + u^4) + -3.482 1/(1 + v^4) + -12.267 1/(1 + u^5) + -1.271 1/(1 + v^5)\n",
      "[0.001      0.06755556 0.13411111 0.20066667 0.26722222 0.33377778\n",
      " 0.40033333 0.46688889 0.53344444 0.6       ]\n",
      "[0.01604598170789958, 0.021112727253504816, 0.41283023346561265, 1.9946236279670468, 0.8875929612945785, 1.2374225589876824, 43635477.63618137, 0.9095153742493657, 13.6482574365153, 23.347193387881287]\n",
      "0.001\n",
      "(u)' = -1.191 u + 19.485 1/(1 + u^1) + -1.961 1/(1 + v^1) + -48.451 1/(1 + u^2) + 52.124 1/(1 + u^3) + 2.536 1/(1 + v^3) + -23.782 1/(1 + u^4) + 3.021 1/(1 + u^5) + -1.451 1/(1 + v^5)\n",
      "(v)' = -1.230 v + 22.716 1/(1 + u^1) + -7.863 1/(1 + v^1) + -63.177 1/(1 + u^2) + 4.800 1/(1 + v^2) + 102.887 1/(1 + u^3) + 17.794 1/(1 + v^3) + -89.003 1/(1 + u^4) + -33.502 1/(1 + v^4) + 31.184 1/(1 + u^5) + 15.812 1/(1 + v^5)\n",
      "0.06755555555555555\n",
      "(u)' = -0.941 u + -0.750 1/(1 + u^1) + 4.421 1/(1 + v^1) + 8.089 1/(1 + u^2) + -19.290 1/(1 + v^2) + -26.954 1/(1 + u^3) + 58.991 1/(1 + v^3) + 28.321 1/(1 + u^4) + -71.548 1/(1 + v^4) + -9.108 1/(1 + u^5) + 28.849 1/(1 + v^5)\n",
      "(v)' = -1.146 v + 7.609 1/(1 + u^1) + 10.870 1/(1 + v^1) + 26.316 1/(1 + u^2) + -84.093 1/(1 + v^2) + -132.920 1/(1 + u^3) + 197.595 1/(1 + v^3) + 182.286 1/(1 + u^4) + -197.522 1/(1 + v^4) + -79.698 1/(1 + u^5) + 71.093 1/(1 + v^5)\n",
      "0.1341111111111111\n",
      "(u)' = -1.607 1/(1 + u^1) + -5.550 1/(1 + v^1) + -5.030 1/(1 + u^2) + 2.115 1/(1 + v^2) + 10.817 1/(1 + u^3) + 20.588 1/(1 + v^3) + -4.917 1/(1 + u^4) + -32.876 1/(1 + v^4) + 0.887 1/(1 + u^5) + 14.593 1/(1 + v^5)\n",
      "(v)' = -0.766 v + 2.502 1/(1 + u^1) + 3.425 1/(1 + v^1) + 4.969 1/(1 + u^2) + 5.386 1/(1 + v^2) + -13.752 1/(1 + u^3) + -23.676 1/(1 + v^3) + 1.295 1/(1 + u^4) + 8.109 1/(1 + v^4) + 6.390 1/(1 + u^5) + 6.303 1/(1 + v^5)\n",
      "0.20066666666666666\n",
      "(u)' = 1.946 1/(1 + u^1) + -2.279 1/(1 + v^1) + 4.051 1/(1 + u^2) + -18.879 1/(1 + v^2) + -8.077 1/(1 + u^3) + 24.085 1/(1 + v^3) + -0.793 1/(1 + u^4) + 23.677 1/(1 + v^4) + 4.110 1/(1 + u^5) + -28.395 1/(1 + v^5)\n",
      "(v)' = -0.570 v + -1.864 1/(1 + v^1) + -2.932 1/(1 + u^2) + 7.501 1/(1 + v^2) + 3.895 1/(1 + u^3) + 0.568 1/(1 + v^3) + 6.073 1/(1 + u^4) + -15.251 1/(1 + v^4) + -6.471 1/(1 + u^5) + 9.107 1/(1 + v^5)\n",
      "0.2672222222222222\n",
      "(u)' = -0.719 u + 1.087 1/(1 + u^1) + 1.020 1/(1 + v^1) + 2.728 1/(1 + u^2) + 11.594 1/(1 + v^2) + -4.895 1/(1 + u^3) + -11.095 1/(1 + v^3) + -2.330 1/(1 + u^4) + -13.274 1/(1 + v^4) + 2.725 1/(1 + u^5) + 13.415 1/(1 + v^5)\n",
      "(v)' = 0.501 u + -1.158 v + 0.682 1/(1 + u^1) + -2.259 1/(1 + v^1) + 1.083 1/(1 + u^2) + 11.030 1/(1 + v^2) + -2.093 1/(1 + u^3) + -4.601 1/(1 + v^3) + 2.425 1/(1 + u^4) + -24.402 1/(1 + v^4) + 18.984 1/(1 + v^5)\n",
      "0.33377777777777773\n",
      "(u)' = -3.496 1/(1 + u^1) + 2.477 1/(1 + v^1) + -5.484 1/(1 + u^2) + -12.103 1/(1 + v^2) + 17.305 1/(1 + u^3) + -5.365 1/(1 + v^3) + 3.655 1/(1 + u^4) + 17.392 1/(1 + v^4) + -11.351 1/(1 + u^5) + -3.468 1/(1 + v^5)\n",
      "(v)' = -1.906 1/(1 + u^1) + -1.062 1/(1 + v^1) + 2.634 1/(1 + u^2) + 1.791 1/(1 + v^2) + 5.712 1/(1 + u^3) + 4.948 1/(1 + v^3) + -6.993 1/(1 + u^4) + -2.099 1/(1 + v^4) + -2.928 1/(1 + v^5)\n",
      "0.4003333333333333\n",
      "(u)' = -0.600 u + 0.522 v + 1.779 1/(1 + u^1) + 0.856 1/(1 + v^1) + 10.190 1/(1 + u^2) + -14.704 1/(1 + u^3) + -5.258 1/(1 + v^3) + -13.032 1/(1 + u^4) + 15.648 1/(1 + u^5) + 4.409 1/(1 + v^5)\n",
      "(v)' = 0.796 1/(1 + u^1) + 1.364 1/(1 + v^1) + 1.495 1/(1 + u^2) + -8.117 1/(1 + v^2) + -3.022 1/(1 + u^3) + -1.684 1/(1 + v^3) + 1.051 1/(1 + u^4) + 10.700 1/(1 + v^4) + 1.058 1/(1 + u^5) + -4.009 1/(1 + v^5)\n",
      "0.46688888888888885\n",
      "(u)' = -0.920 1/(1 + u^1) + 1.128 1/(1 + v^1) + 2.453 1/(1 + u^2) + 1.241 1/(1 + v^2) + -2.651 1/(1 + u^3) + -9.684 1/(1 + v^3) + -7.609 1/(1 + u^4) + -3.073 1/(1 + v^4) + 9.017 1/(1 + u^5) + 10.438 1/(1 + v^5)\n",
      "(v)' = 2.632 1/(1 + u^1) + -2.695 1/(1 + v^1) + -3.227 1/(1 + v^2) + -11.307 1/(1 + u^3) + 16.068 1/(1 + v^3) + 3.030 1/(1 + u^4) + 2.911 1/(1 + v^4) + 5.667 1/(1 + u^5) + -13.347 1/(1 + v^5)\n"
     ]
    },
    {
     "name": "stderr",
     "output_type": "stream",
     "text": [
      "C:\\Users\\UserALai\\miniconda3\\lib\\site-packages\\scipy\\integrate\\_odepack_py.py:247: ODEintWarning: Excess work done on this call (perhaps wrong Dfun type). Run with full_output = 1 to get quantitative information.\n",
      "  warnings.warn(warning_msg, ODEintWarning)\n"
     ]
    },
    {
     "name": "stdout",
     "output_type": "stream",
     "text": [
      "0.5334444444444444\n",
      "(u)' = 5.296 1/(1 + u^1) + -3.950 1/(1 + v^1) + 17.798 1/(1 + u^2) + -17.600 1/(1 + v^2) + -26.301 1/(1 + u^3) + 22.610 1/(1 + v^3) + -11.007 1/(1 + u^4) + 13.602 1/(1 + v^4) + 17.342 1/(1 + u^5) + -17.935 1/(1 + v^5)\n",
      "(v)' = 1.508 1/(1 + u^1) + -1.078 1/(1 + v^1) + 5.867 1/(1 + v^2) + -6.551 1/(1 + u^3) + -3.314 1/(1 + v^3) + 1.676 1/(1 + u^4) + -12.521 1/(1 + v^4) + 3.389 1/(1 + u^5) + 10.917 1/(1 + v^5)\n",
      "0.6\n",
      "(u)' = 2.202 1/(1 + u^1) + 3.301 1/(1 + v^1) + 8.487 1/(1 + u^2) + -3.235 1/(1 + v^2) + -11.649 1/(1 + u^3) + -22.209 1/(1 + v^3) + -5.925 1/(1 + u^4) + 8.401 1/(1 + u^5) + 20.508 1/(1 + v^5)\n",
      "(v)' = -0.539 u + 4.124 1/(1 + u^1) + -0.852 1/(1 + v^1) + 6.129 1/(1 + u^2) + 12.124 1/(1 + v^2) + -19.818 1/(1 + u^3) + -1.607 1/(1 + v^3) + -4.508 1/(1 + u^4) + -14.456 1/(1 + v^4) + 12.406 1/(1 + u^5) + 6.955 1/(1 + v^5)\n"
     ]
    },
    {
     "name": "stderr",
     "output_type": "stream",
     "text": [
      "C:\\Users\\UserALai\\miniconda3\\lib\\site-packages\\scipy\\integrate\\_odepack_py.py:247: ODEintWarning: Excess work done on this call (perhaps wrong Dfun type). Run with full_output = 1 to get quantitative information.\n",
      "  warnings.warn(warning_msg, ODEintWarning)\n"
     ]
    },
    {
     "name": "stdout",
     "output_type": "stream",
     "text": [
      "[0.001      0.06755556 0.13411111 0.20066667 0.26722222 0.33377778\n",
      " 0.40033333 0.46688889 0.53344444 0.6       ]\n",
      "[0.04450387197260686, 0.1075740922803143, 0.339768157464145, 0.7526758099698933, 1.0434743946427651, 3.427412554535995, 4.558728297981689, 4.242187089361669, 12.653187985460017, 4.663496408664457]\n",
      "0.001\n",
      "(u)' = -1.351 u + 10.728 1/(1 + u^1) + -17.197 1/(1 + u^2) + 9.493 1/(1 + v^2) + -26.968 1/(1 + v^3) + 17.472 1/(1 + u^4) + 29.096 1/(1 + v^4) + -9.680 1/(1 + u^5) + -11.112 1/(1 + v^5)\n",
      "(v)' = -0.953 v + -0.855 1/(1 + v^1) + -2.502 1/(1 + v^2) + -2.291 1/(1 + u^3) + 27.240 1/(1 + v^3) + 4.136 1/(1 + u^4) + -43.924 1/(1 + v^4) + -1.315 1/(1 + u^5) + 20.383 1/(1 + v^5)\n",
      "0.06755555555555555\n",
      "(u)' = -0.947 u + -1.961 1/(1 + u^1) + 16.568 1/(1 + u^2) + 18.524 1/(1 + v^2) + -47.263 1/(1 + u^3) + -42.332 1/(1 + v^3) + 48.770 1/(1 + u^4) + 32.794 1/(1 + v^4) + -16.619 1/(1 + u^5) + -7.596 1/(1 + v^5)\n",
      "(v)' = -1.484 v + 5.950 1/(1 + u^1) + 1.166 1/(1 + v^1) + -5.555 1/(1 + u^2) + 15.374 1/(1 + v^2) + -9.340 1/(1 + u^3) + -30.576 1/(1 + v^3) + 18.011 1/(1 + u^4) + 14.464 1/(1 + v^4) + -7.182 1/(1 + u^5)\n",
      "0.1341111111111111\n",
      "(u)' = -1.303 u + 1.061 v + 0.879 1/(1 + u^1) + -6.243 1/(1 + v^2) + -6.216 1/(1 + u^3) + 7.484 1/(1 + v^3) + -3.396 1/(1 + u^4) + 13.144 1/(1 + v^4) + 6.825 1/(1 + u^5) + -12.566 1/(1 + v^5)\n",
      "(v)' = -0.586 v + 2.343 1/(1 + u^1) + 1.657 1/(1 + v^1) + -0.948 1/(1 + u^2) + -6.305 1/(1 + u^3) + -7.508 1/(1 + v^3) + 8.331 1/(1 + u^4) + 3.986 1/(1 + v^4) + -2.519 1/(1 + u^5) + 1.541 1/(1 + v^5)\n",
      "0.20066666666666666\n",
      "(u)' = -1.708 u + 0.524 v + -2.667 1/(1 + u^1) + 2.261 1/(1 + v^1) + 9.721 1/(1 + u^2) + 8.024 1/(1 + v^2) + -3.044 1/(1 + u^3) + -10.218 1/(1 + v^3) + -24.059 1/(1 + u^4) + -3.151 1/(1 + v^4) + 18.182 1/(1 + u^5) + 6.434 1/(1 + v^5)\n",
      "(v)' = -0.929 u + 0.786 v + -0.600 1/(1 + u^1) + 3.018 1/(1 + v^1) + 2.089 1/(1 + u^2) + -4.457 1/(1 + v^2) + -2.045 1/(1 + u^3) + -2.767 1/(1 + v^3) + -7.816 1/(1 + u^4) + 14.819 1/(1 + v^4) + 6.360 1/(1 + u^5) + -8.456 1/(1 + v^5)\n",
      "0.2672222222222222\n",
      "(u)' = -0.579 u + -1.199 1/(1 + u^2) + 2.909 1/(1 + v^2) + -1.920 1/(1 + u^3) + 2.569 1/(1 + v^3) + -0.834 1/(1 + u^4) + 3.200 1/(1 + u^5) + -4.235 1/(1 + v^5)\n",
      "(v)' = -2.384 1/(1 + v^1) + -1.897 1/(1 + u^2) + -14.302 1/(1 + v^2) + 19.163 1/(1 + v^3) + 2.263 1/(1 + u^4) + 16.830 1/(1 + v^4) + -20.283 1/(1 + v^5)\n",
      "0.33377777777777773\n",
      "(u)' = -0.533 v + 2.263 1/(1 + u^1) + -3.416 1/(1 + v^1) + 12.573 1/(1 + u^2) + 3.747 1/(1 + v^2) + -16.326 1/(1 + u^3) + 2.637 1/(1 + v^3) + -12.162 1/(1 + u^4) + -17.195 1/(1 + v^4) + 15.894 1/(1 + u^5) + 12.763 1/(1 + v^5)\n",
      "(v)' = -1.205 1/(1 + u^1) + -1.831 1/(1 + u^2) + -6.864 1/(1 + v^2) + 4.536 1/(1 + u^3) + 6.497 1/(1 + v^3) + 10.869 1/(1 + v^4) + -1.561 1/(1 + u^5) + -10.852 1/(1 + v^5)\n"
     ]
    },
    {
     "name": "stderr",
     "output_type": "stream",
     "text": [
      "C:\\Users\\UserALai\\miniconda3\\lib\\site-packages\\scipy\\integrate\\_odepack_py.py:247: ODEintWarning: Excess work done on this call (perhaps wrong Dfun type). Run with full_output = 1 to get quantitative information.\n",
      "  warnings.warn(warning_msg, ODEintWarning)\n",
      "C:\\Users\\UserALai\\miniconda3\\lib\\site-packages\\scipy\\integrate\\_odepack_py.py:247: ODEintWarning: Excess work done on this call (perhaps wrong Dfun type). Run with full_output = 1 to get quantitative information.\n",
      "  warnings.warn(warning_msg, ODEintWarning)\n",
      "C:\\Users\\UserALai\\miniconda3\\lib\\site-packages\\scipy\\integrate\\_odepack_py.py:247: ODEintWarning: Excess work done on this call (perhaps wrong Dfun type). Run with full_output = 1 to get quantitative information.\n",
      "  warnings.warn(warning_msg, ODEintWarning)\n",
      "C:\\Users\\UserALai\\miniconda3\\lib\\site-packages\\scipy\\integrate\\_odepack_py.py:247: ODEintWarning: Excess work done on this call (perhaps wrong Dfun type). Run with full_output = 1 to get quantitative information.\n",
      "  warnings.warn(warning_msg, ODEintWarning)\n",
      "C:\\Users\\UserALai\\miniconda3\\lib\\site-packages\\scipy\\integrate\\_odepack_py.py:247: ODEintWarning: Excess work done on this call (perhaps wrong Dfun type). Run with full_output = 1 to get quantitative information.\n",
      "  warnings.warn(warning_msg, ODEintWarning)\n",
      "C:\\Users\\UserALai\\miniconda3\\lib\\site-packages\\scipy\\integrate\\_odepack_py.py:247: ODEintWarning: Excess work done on this call (perhaps wrong Dfun type). Run with full_output = 1 to get quantitative information.\n",
      "  warnings.warn(warning_msg, ODEintWarning)\n",
      "C:\\Users\\UserALai\\miniconda3\\lib\\site-packages\\scipy\\integrate\\_odepack_py.py:247: ODEintWarning: Excess work done on this call (perhaps wrong Dfun type). Run with full_output = 1 to get quantitative information.\n",
      "  warnings.warn(warning_msg, ODEintWarning)\n",
      "C:\\Users\\UserALai\\miniconda3\\lib\\site-packages\\scipy\\integrate\\_odepack_py.py:247: ODEintWarning: Excess work done on this call (perhaps wrong Dfun type). Run with full_output = 1 to get quantitative information.\n",
      "  warnings.warn(warning_msg, ODEintWarning)\n",
      "C:\\Users\\UserALai\\miniconda3\\lib\\site-packages\\scipy\\integrate\\_odepack_py.py:247: ODEintWarning: Excess work done on this call (perhaps wrong Dfun type). Run with full_output = 1 to get quantitative information.\n",
      "  warnings.warn(warning_msg, ODEintWarning)\n",
      "C:\\Users\\UserALai\\miniconda3\\lib\\site-packages\\scipy\\integrate\\_odepack_py.py:247: ODEintWarning: Excess work done on this call (perhaps wrong Dfun type). Run with full_output = 1 to get quantitative information.\n",
      "  warnings.warn(warning_msg, ODEintWarning)\n",
      "C:\\Users\\UserALai\\miniconda3\\lib\\site-packages\\scipy\\integrate\\_odepack_py.py:247: ODEintWarning: Excess work done on this call (perhaps wrong Dfun type). Run with full_output = 1 to get quantitative information.\n",
      "  warnings.warn(warning_msg, ODEintWarning)\n",
      "C:\\Users\\UserALai\\miniconda3\\lib\\site-packages\\scipy\\integrate\\_odepack_py.py:247: ODEintWarning: Excess work done on this call (perhaps wrong Dfun type). Run with full_output = 1 to get quantitative information.\n",
      "  warnings.warn(warning_msg, ODEintWarning)\n",
      "C:\\Users\\UserALai\\miniconda3\\lib\\site-packages\\scipy\\integrate\\_odepack_py.py:247: ODEintWarning: Excess work done on this call (perhaps wrong Dfun type). Run with full_output = 1 to get quantitative information.\n",
      "  warnings.warn(warning_msg, ODEintWarning)\n",
      "C:\\Users\\UserALai\\miniconda3\\lib\\site-packages\\scipy\\integrate\\_odepack_py.py:247: ODEintWarning: Excess work done on this call (perhaps wrong Dfun type). Run with full_output = 1 to get quantitative information.\n",
      "  warnings.warn(warning_msg, ODEintWarning)\n",
      "C:\\Users\\UserALai\\miniconda3\\lib\\site-packages\\scipy\\integrate\\_odepack_py.py:247: ODEintWarning: Excess work done on this call (perhaps wrong Dfun type). Run with full_output = 1 to get quantitative information.\n",
      "  warnings.warn(warning_msg, ODEintWarning)\n",
      "C:\\Users\\UserALai\\miniconda3\\lib\\site-packages\\scipy\\integrate\\_odepack_py.py:247: ODEintWarning: Excess work done on this call (perhaps wrong Dfun type). Run with full_output = 1 to get quantitative information.\n",
      "  warnings.warn(warning_msg, ODEintWarning)\n",
      "C:\\Users\\UserALai\\miniconda3\\lib\\site-packages\\scipy\\integrate\\_odepack_py.py:247: ODEintWarning: Excess work done on this call (perhaps wrong Dfun type). Run with full_output = 1 to get quantitative information.\n",
      "  warnings.warn(warning_msg, ODEintWarning)\n"
     ]
    },
    {
     "name": "stdout",
     "output_type": "stream",
     "text": [
      "0.4003333333333333\n",
      "(u)' = -2.233 1/(1 + u^1) + -2.862 1/(1 + u^2) + -5.801 1/(1 + v^2) + 11.877 1/(1 + u^3) + 3.736 1/(1 + v^3) + 2.432 1/(1 + u^4) + 7.470 1/(1 + v^4) + -8.643 1/(1 + u^5) + -6.285 1/(1 + v^5)\n",
      "(v)' = -0.710 u + 0.912 1/(1 + v^1) + 5.831 1/(1 + u^2) + 6.185 1/(1 + v^2) + -8.188 1/(1 + v^3) + -6.076 1/(1 + u^4) + -6.847 1/(1 + v^4) + 9.052 1/(1 + v^5)\n"
     ]
    },
    {
     "name": "stderr",
     "output_type": "stream",
     "text": [
      "C:\\Users\\UserALai\\miniconda3\\lib\\site-packages\\scipy\\integrate\\_odepack_py.py:247: ODEintWarning: Excess work done on this call (perhaps wrong Dfun type). Run with full_output = 1 to get quantitative information.\n",
      "  warnings.warn(warning_msg, ODEintWarning)\n",
      "C:\\Users\\UserALai\\miniconda3\\lib\\site-packages\\scipy\\integrate\\_odepack_py.py:247: ODEintWarning: Excess work done on this call (perhaps wrong Dfun type). Run with full_output = 1 to get quantitative information.\n",
      "  warnings.warn(warning_msg, ODEintWarning)\n",
      "C:\\Users\\UserALai\\miniconda3\\lib\\site-packages\\scipy\\integrate\\_odepack_py.py:247: ODEintWarning: Excess work done on this call (perhaps wrong Dfun type). Run with full_output = 1 to get quantitative information.\n",
      "  warnings.warn(warning_msg, ODEintWarning)\n",
      "C:\\Users\\UserALai\\miniconda3\\lib\\site-packages\\scipy\\integrate\\_odepack_py.py:247: ODEintWarning: Excess work done on this call (perhaps wrong Dfun type). Run with full_output = 1 to get quantitative information.\n",
      "  warnings.warn(warning_msg, ODEintWarning)\n",
      "C:\\Users\\UserALai\\miniconda3\\lib\\site-packages\\scipy\\integrate\\_odepack_py.py:247: ODEintWarning: Excess work done on this call (perhaps wrong Dfun type). Run with full_output = 1 to get quantitative information.\n",
      "  warnings.warn(warning_msg, ODEintWarning)\n",
      "C:\\Users\\UserALai\\miniconda3\\lib\\site-packages\\scipy\\integrate\\_odepack_py.py:247: ODEintWarning: Excess work done on this call (perhaps wrong Dfun type). Run with full_output = 1 to get quantitative information.\n",
      "  warnings.warn(warning_msg, ODEintWarning)\n",
      "C:\\Users\\UserALai\\miniconda3\\lib\\site-packages\\scipy\\integrate\\_odepack_py.py:247: ODEintWarning: Excess work done on this call (perhaps wrong Dfun type). Run with full_output = 1 to get quantitative information.\n",
      "  warnings.warn(warning_msg, ODEintWarning)\n",
      "C:\\Users\\UserALai\\miniconda3\\lib\\site-packages\\scipy\\integrate\\_odepack_py.py:247: ODEintWarning: Excess work done on this call (perhaps wrong Dfun type). Run with full_output = 1 to get quantitative information.\n",
      "  warnings.warn(warning_msg, ODEintWarning)\n",
      "C:\\Users\\UserALai\\miniconda3\\lib\\site-packages\\scipy\\integrate\\_odepack_py.py:247: ODEintWarning: Excess work done on this call (perhaps wrong Dfun type). Run with full_output = 1 to get quantitative information.\n",
      "  warnings.warn(warning_msg, ODEintWarning)\n",
      "C:\\Users\\UserALai\\miniconda3\\lib\\site-packages\\scipy\\integrate\\_odepack_py.py:247: ODEintWarning: Excess work done on this call (perhaps wrong Dfun type). Run with full_output = 1 to get quantitative information.\n",
      "  warnings.warn(warning_msg, ODEintWarning)\n",
      "C:\\Users\\UserALai\\miniconda3\\lib\\site-packages\\scipy\\integrate\\_odepack_py.py:247: ODEintWarning: Excess work done on this call (perhaps wrong Dfun type). Run with full_output = 1 to get quantitative information.\n",
      "  warnings.warn(warning_msg, ODEintWarning)\n",
      "C:\\Users\\UserALai\\miniconda3\\lib\\site-packages\\scipy\\integrate\\_odepack_py.py:247: ODEintWarning: Excess work done on this call (perhaps wrong Dfun type). Run with full_output = 1 to get quantitative information.\n",
      "  warnings.warn(warning_msg, ODEintWarning)\n"
     ]
    },
    {
     "name": "stdout",
     "output_type": "stream",
     "text": [
      "0.46688888888888885\n",
      "(u)' = -8.880 1/(1 + u^2) + 5.808 1/(1 + v^2) + 8.258 1/(1 + u^3) + -5.117 1/(1 + v^3) + 13.091 1/(1 + u^4) + -8.041 1/(1 + v^4) + -13.786 1/(1 + u^5) + 8.526 1/(1 + v^5)\n",
      "(v)' = -2.370 1/(1 + u^1) + -1.150 1/(1 + v^1) + -12.732 1/(1 + v^2) + 14.194 1/(1 + u^3) + 12.233 1/(1 + v^3) + 0.919 1/(1 + u^4) + 15.099 1/(1 + v^4) + -11.794 1/(1 + u^5) + -14.636 1/(1 + v^5)\n",
      "0.5334444444444444\n",
      "(u)' = 1.941 1/(1 + u^1) + -2.953 1/(1 + v^1) + 7.625 1/(1 + u^2) + -9.975 1/(1 + v^2) + -11.608 1/(1 + u^3) + 16.562 1/(1 + v^3) + -6.248 1/(1 + u^4) + 7.709 1/(1 + v^4) + 9.623 1/(1 + u^5) + -12.823 1/(1 + v^5)\n",
      "(v)' = 1.731 1/(1 + v^1) + -5.097 1/(1 + u^2) + -3.047 1/(1 + v^2) + 4.351 1/(1 + u^4) + 10.200 1/(1 + v^4) + -8.636 1/(1 + v^5)\n"
     ]
    },
    {
     "name": "stderr",
     "output_type": "stream",
     "text": [
      "C:\\Users\\UserALai\\miniconda3\\lib\\site-packages\\scipy\\integrate\\_odepack_py.py:247: ODEintWarning: Excess work done on this call (perhaps wrong Dfun type). Run with full_output = 1 to get quantitative information.\n",
      "  warnings.warn(warning_msg, ODEintWarning)\n",
      "C:\\Users\\UserALai\\miniconda3\\lib\\site-packages\\scipy\\integrate\\_odepack_py.py:247: ODEintWarning: Excess work done on this call (perhaps wrong Dfun type). Run with full_output = 1 to get quantitative information.\n",
      "  warnings.warn(warning_msg, ODEintWarning)\n",
      "C:\\Users\\UserALai\\miniconda3\\lib\\site-packages\\scipy\\integrate\\_odepack_py.py:247: ODEintWarning: Excess work done on this call (perhaps wrong Dfun type). Run with full_output = 1 to get quantitative information.\n",
      "  warnings.warn(warning_msg, ODEintWarning)\n",
      "C:\\Users\\UserALai\\miniconda3\\lib\\site-packages\\scipy\\integrate\\_odepack_py.py:247: ODEintWarning: Excess work done on this call (perhaps wrong Dfun type). Run with full_output = 1 to get quantitative information.\n",
      "  warnings.warn(warning_msg, ODEintWarning)\n",
      "C:\\Users\\UserALai\\miniconda3\\lib\\site-packages\\scipy\\integrate\\_odepack_py.py:247: ODEintWarning: Excess work done on this call (perhaps wrong Dfun type). Run with full_output = 1 to get quantitative information.\n",
      "  warnings.warn(warning_msg, ODEintWarning)\n",
      "C:\\Users\\UserALai\\miniconda3\\lib\\site-packages\\scipy\\integrate\\_odepack_py.py:247: ODEintWarning: Excess work done on this call (perhaps wrong Dfun type). Run with full_output = 1 to get quantitative information.\n",
      "  warnings.warn(warning_msg, ODEintWarning)\n",
      "C:\\Users\\UserALai\\miniconda3\\lib\\site-packages\\scipy\\integrate\\_odepack_py.py:247: ODEintWarning: Excess work done on this call (perhaps wrong Dfun type). Run with full_output = 1 to get quantitative information.\n",
      "  warnings.warn(warning_msg, ODEintWarning)\n",
      "C:\\Users\\UserALai\\miniconda3\\lib\\site-packages\\scipy\\integrate\\_odepack_py.py:247: ODEintWarning: Excess work done on this call (perhaps wrong Dfun type). Run with full_output = 1 to get quantitative information.\n",
      "  warnings.warn(warning_msg, ODEintWarning)\n",
      "C:\\Users\\UserALai\\miniconda3\\lib\\site-packages\\scipy\\integrate\\_odepack_py.py:247: ODEintWarning: Excess work done on this call (perhaps wrong Dfun type). Run with full_output = 1 to get quantitative information.\n",
      "  warnings.warn(warning_msg, ODEintWarning)\n",
      "C:\\Users\\UserALai\\miniconda3\\lib\\site-packages\\scipy\\integrate\\_odepack_py.py:247: ODEintWarning: Excess work done on this call (perhaps wrong Dfun type). Run with full_output = 1 to get quantitative information.\n",
      "  warnings.warn(warning_msg, ODEintWarning)\n"
     ]
    },
    {
     "name": "stdout",
     "output_type": "stream",
     "text": [
      "0.6\n",
      "(u)' = 4.521 1/(1 + u^1) + -5.933 1/(1 + v^1) + 11.615 1/(1 + u^2) + -18.281 1/(1 + v^2) + -30.539 1/(1 + u^3) + 32.035 1/(1 + v^3) + -12.710 1/(1 + u^4) + 14.512 1/(1 + v^4) + 28.297 1/(1 + u^5) + -23.748 1/(1 + v^5)\n",
      "(v)' = 4.376 1/(1 + u^1) + 1.533 1/(1 + v^1) + 4.476 1/(1 + u^2) + 6.408 1/(1 + v^2) + -20.303 1/(1 + u^3) + -12.495 1/(1 + v^3) + -1.042 1/(1 + u^4) + -8.406 1/(1 + v^4) + 11.940 1/(1 + u^5) + 13.184 1/(1 + v^5)\n",
      "[0.001      0.06755556 0.13411111 0.20066667 0.26722222 0.33377778\n",
      " 0.40033333 0.46688889 0.53344444 0.6       ]\n",
      "[0.0056358303564775815, 0.04319089894695713, 0.15761077105230098, 548662194.0980958, 0.45577296146701146, 0.7296181156127503, 1.8999952716327275, 5.849965944950835, 2.549119996286979, 30.590519060323984]\n",
      "0.001\n",
      "(u)' = -1.012 u + 4.227 1/(1 + u^1) + 1.175 1/(1 + v^1) + -3.195 1/(1 + u^2) + -2.047 1/(1 + v^2) + -12.307 1/(1 + u^3) + 20.876 1/(1 + u^4) + 2.811 1/(1 + v^4) + -8.886 1/(1 + u^5) + -1.655 1/(1 + v^5)\n",
      "(v)' = -1.309 v + 9.255 1/(1 + u^1) + 3.991 1/(1 + v^1) + -9.002 1/(1 + u^2) + -42.726 1/(1 + v^2) + 111.999 1/(1 + v^3) + 2.432 1/(1 + u^4) + -121.190 1/(1 + v^4) + 0.657 1/(1 + u^5) + 46.347 1/(1 + v^5)\n",
      "0.06755555555555555\n",
      "(u)' = -1.545 u + 0.573 v + -3.289 1/(1 + u^1) + -3.498 1/(1 + v^1) + 16.684 1/(1 + u^2) + 26.038 1/(1 + v^2) + -39.677 1/(1 + u^3) + -30.261 1/(1 + v^3) + 31.162 1/(1 + u^4) + 8.251 1/(1 + v^4) + -6.760 1/(1 + u^5) + 2.460 1/(1 + v^5)\n",
      "(v)' = -0.727 v + 2.195 1/(1 + u^1) + 0.957 1/(1 + v^1) + -23.654 1/(1 + u^2) + -5.226 1/(1 + v^2) + 57.411 1/(1 + u^3) + 21.948 1/(1 + v^3) + -58.135 1/(1 + u^4) + -29.915 1/(1 + v^4) + 22.301 1/(1 + u^5) + 12.629 1/(1 + v^5)\n",
      "0.1341111111111111\n",
      "(u)' = -0.599 u + 0.601 v + -1.871 1/(1 + u^1) + -5.716 1/(1 + v^1) + -4.874 1/(1 + u^2) + 3.540 1/(1 + v^2) + 9.277 1/(1 + u^3) + 16.384 1/(1 + v^3) + 0.924 1/(1 + u^4) + -27.397 1/(1 + v^4) + -4.369 1/(1 + u^5) + 13.183 1/(1 + v^5)\n",
      "(v)' = 1.524 1/(1 + u^1) + -5.790 1/(1 + u^2) + -8.188 1/(1 + v^2) + -1.930 1/(1 + u^3) + 8.198 1/(1 + v^3) + 17.906 1/(1 + u^4) + 8.103 1/(1 + v^4) + -11.655 1/(1 + u^5) + -8.543 1/(1 + v^5)\n",
      "0.20066666666666666\n",
      "(u)' = 0.999 1/(1 + v^1) + -2.851 1/(1 + u^2) + -5.489 1/(1 + v^2) + -2.283 1/(1 + v^3) + 3.207 1/(1 + u^4) + 18.918 1/(1 + v^4) + -12.988 1/(1 + v^5)\n",
      "(v)' = -0.797 v + 1.364 1/(1 + u^1) + -7.245 1/(1 + v^1) + 8.456 1/(1 + u^2) + 14.517 1/(1 + v^2) + -10.585 1/(1 + u^3) + 16.626 1/(1 + v^3) + -8.146 1/(1 + u^4) + -49.780 1/(1 + v^4) + 10.751 1/(1 + u^5) + 25.073 1/(1 + v^5)\n",
      "0.2672222222222222\n",
      "(u)' = -3.327 1/(1 + u^1) + -2.448 1/(1 + v^1) + -4.503 1/(1 + u^2) + -7.078 1/(1 + v^2) + 18.313 1/(1 + u^3) + 11.771 1/(1 + v^3) + 3.765 1/(1 + u^4) + 4.344 1/(1 + v^4) + -13.866 1/(1 + u^5) + -7.416 1/(1 + v^5)\n",
      "(v)' = -3.443 1/(1 + u^1) + -9.801 1/(1 + u^2) + 2.090 1/(1 + v^2) + 18.349 1/(1 + u^3) + 7.455 1/(1 + u^4) + -1.453 1/(1 + v^4) + -13.476 1/(1 + u^5)\n"
     ]
    },
    {
     "name": "stderr",
     "output_type": "stream",
     "text": [
      "C:\\Users\\UserALai\\miniconda3\\lib\\site-packages\\scipy\\integrate\\_odepack_py.py:247: ODEintWarning: Excess work done on this call (perhaps wrong Dfun type). Run with full_output = 1 to get quantitative information.\n",
      "  warnings.warn(warning_msg, ODEintWarning)\n",
      "C:\\Users\\UserALai\\miniconda3\\lib\\site-packages\\scipy\\integrate\\_odepack_py.py:247: ODEintWarning: Excess work done on this call (perhaps wrong Dfun type). Run with full_output = 1 to get quantitative information.\n",
      "  warnings.warn(warning_msg, ODEintWarning)\n",
      "C:\\Users\\UserALai\\miniconda3\\lib\\site-packages\\scipy\\integrate\\_odepack_py.py:247: ODEintWarning: Excess work done on this call (perhaps wrong Dfun type). Run with full_output = 1 to get quantitative information.\n",
      "  warnings.warn(warning_msg, ODEintWarning)\n",
      "C:\\Users\\UserALai\\miniconda3\\lib\\site-packages\\scipy\\integrate\\_odepack_py.py:247: ODEintWarning: Excess work done on this call (perhaps wrong Dfun type). Run with full_output = 1 to get quantitative information.\n",
      "  warnings.warn(warning_msg, ODEintWarning)\n"
     ]
    },
    {
     "name": "stdout",
     "output_type": "stream",
     "text": [
      "0.33377777777777773\n",
      "(u)' = 3.679 1/(1 + u^2) + 3.160 1/(1 + v^2) + -4.602 1/(1 + u^3) + -2.541 1/(1 + v^3) + -6.581 1/(1 + u^4) + -4.977 1/(1 + v^4) + 7.646 1/(1 + u^5) + 4.335 1/(1 + v^5)\n",
      "(v)' = -3.019 1/(1 + v^1) + -12.237 1/(1 + v^2) + 2.962 1/(1 + u^3) + 26.428 1/(1 + v^3) + 2.223 1/(1 + u^4) + 17.155 1/(1 + v^4) + -4.923 1/(1 + u^5) + -29.016 1/(1 + v^5)\n"
     ]
    },
    {
     "name": "stderr",
     "output_type": "stream",
     "text": [
      "C:\\Users\\UserALai\\miniconda3\\lib\\site-packages\\scipy\\integrate\\_odepack_py.py:247: ODEintWarning: Excess work done on this call (perhaps wrong Dfun type). Run with full_output = 1 to get quantitative information.\n",
      "  warnings.warn(warning_msg, ODEintWarning)\n"
     ]
    },
    {
     "name": "stdout",
     "output_type": "stream",
     "text": [
      "0.4003333333333333\n",
      "(u)' = -3.914 1/(1 + u^1) + 0.571 1/(1 + v^1) + -1.592 1/(1 + u^2) + 0.795 1/(1 + v^2) + 19.469 1/(1 + u^3) + -5.110 1/(1 + v^3) + -3.068 1/(1 + v^4) + -12.879 1/(1 + u^5) + 5.634 1/(1 + v^5)\n",
      "(v)' = 0.815 1/(1 + u^1) + -3.019 1/(1 + u^2) + 1.791 1/(1 + v^2) + -1.672 1/(1 + u^3) + 4.774 1/(1 + u^4) + -1.525 1/(1 + v^4) + -1.298 1/(1 + u^5)\n",
      "0.46688888888888885\n",
      "(u)' = -2.588 1/(1 + u^1) + 0.727 1/(1 + v^1) + 1.221 1/(1 + u^2) + -0.724 1/(1 + v^2) + 16.131 1/(1 + u^3) + -2.182 1/(1 + v^3) + 0.937 1/(1 + v^4) + -13.942 1/(1 + u^5)\n",
      "(v)' = -3.764 1/(1 + u^1) + 4.005 1/(1 + v^1) + -11.937 1/(1 + u^2) + 11.187 1/(1 + v^2) + 26.674 1/(1 + u^3) + -23.958 1/(1 + v^3) + 13.592 1/(1 + u^4) + -10.149 1/(1 + v^4) + -25.625 1/(1 + u^5) + 19.931 1/(1 + v^5)\n",
      "0.5334444444444444\n",
      "(u)' = -1.009 v + 4.983 1/(1 + v^1) + -3.662 1/(1 + u^2) + 18.829 1/(1 + v^2) + -6.944 1/(1 + u^3) + -27.012 1/(1 + v^3) + -1.515 1/(1 + u^4) + -15.218 1/(1 + v^4) + 11.562 1/(1 + u^5) + 20.095 1/(1 + v^5)\n",
      "(v)' = -0.755 1/(1 + u^1) + -13.998 1/(1 + u^2) + 10.432 1/(1 + v^2) + 19.713 1/(1 + u^3) + -0.841 1/(1 + v^3) + 21.274 1/(1 + u^4) + -8.660 1/(1 + v^4) + -29.075 1/(1 + u^5) + 1.392 1/(1 + v^5)\n"
     ]
    },
    {
     "name": "stderr",
     "output_type": "stream",
     "text": [
      "C:\\Users\\UserALai\\miniconda3\\lib\\site-packages\\scipy\\integrate\\_odepack_py.py:247: ODEintWarning: Excess work done on this call (perhaps wrong Dfun type). Run with full_output = 1 to get quantitative information.\n",
      "  warnings.warn(warning_msg, ODEintWarning)\n",
      "C:\\Users\\UserALai\\miniconda3\\lib\\site-packages\\scipy\\integrate\\_odepack_py.py:247: ODEintWarning: Excess work done on this call (perhaps wrong Dfun type). Run with full_output = 1 to get quantitative information.\n",
      "  warnings.warn(warning_msg, ODEintWarning)\n",
      "C:\\Users\\UserALai\\miniconda3\\lib\\site-packages\\scipy\\integrate\\_odepack_py.py:247: ODEintWarning: Excess work done on this call (perhaps wrong Dfun type). Run with full_output = 1 to get quantitative information.\n",
      "  warnings.warn(warning_msg, ODEintWarning)\n",
      "C:\\Users\\UserALai\\miniconda3\\lib\\site-packages\\scipy\\integrate\\_odepack_py.py:247: ODEintWarning: Excess work done on this call (perhaps wrong Dfun type). Run with full_output = 1 to get quantitative information.\n",
      "  warnings.warn(warning_msg, ODEintWarning)\n",
      "C:\\Users\\UserALai\\miniconda3\\lib\\site-packages\\scipy\\integrate\\_odepack_py.py:247: ODEintWarning: Excess work done on this call (perhaps wrong Dfun type). Run with full_output = 1 to get quantitative information.\n",
      "  warnings.warn(warning_msg, ODEintWarning)\n",
      "C:\\Users\\UserALai\\miniconda3\\lib\\site-packages\\scipy\\integrate\\_odepack_py.py:247: ODEintWarning: Excess work done on this call (perhaps wrong Dfun type). Run with full_output = 1 to get quantitative information.\n",
      "  warnings.warn(warning_msg, ODEintWarning)\n",
      "C:\\Users\\UserALai\\miniconda3\\lib\\site-packages\\scipy\\integrate\\_odepack_py.py:247: ODEintWarning: Excess work done on this call (perhaps wrong Dfun type). Run with full_output = 1 to get quantitative information.\n",
      "  warnings.warn(warning_msg, ODEintWarning)\n"
     ]
    },
    {
     "name": "stdout",
     "output_type": "stream",
     "text": [
      "0.6\n",
      "(u)' = -0.668 v + 1.384 1/(1 + v^1) + 7.597 1/(1 + u^2) + 4.494 1/(1 + v^2) + -8.904 1/(1 + u^3) + -10.735 1/(1 + v^3) + -12.727 1/(1 + u^4) + -6.008 1/(1 + v^4) + 14.841 1/(1 + u^5) + 10.976 1/(1 + v^5)\n",
      "(v)' = 1.075 u + -7.438 1/(1 + u^1) + -7.732 1/(1 + v^1) + -12.727 1/(1 + u^2) + -19.188 1/(1 + v^2) + 41.945 1/(1 + u^3) + 37.121 1/(1 + v^3) + 12.880 1/(1 + u^4) + 10.520 1/(1 + v^4) + -32.709 1/(1 + u^5) + -23.210 1/(1 + v^5)\n"
     ]
    },
    {
     "name": "stderr",
     "output_type": "stream",
     "text": [
      "C:\\Users\\UserALai\\miniconda3\\lib\\site-packages\\scipy\\integrate\\_odepack_py.py:247: ODEintWarning: Excess work done on this call (perhaps wrong Dfun type). Run with full_output = 1 to get quantitative information.\n",
      "  warnings.warn(warning_msg, ODEintWarning)\n",
      "C:\\Users\\UserALai\\miniconda3\\lib\\site-packages\\scipy\\integrate\\_odepack_py.py:247: ODEintWarning: Excess work done on this call (perhaps wrong Dfun type). Run with full_output = 1 to get quantitative information.\n",
      "  warnings.warn(warning_msg, ODEintWarning)\n",
      "C:\\Users\\UserALai\\miniconda3\\lib\\site-packages\\scipy\\integrate\\_odepack_py.py:247: ODEintWarning: Excess work done on this call (perhaps wrong Dfun type). Run with full_output = 1 to get quantitative information.\n",
      "  warnings.warn(warning_msg, ODEintWarning)\n",
      "C:\\Users\\UserALai\\miniconda3\\lib\\site-packages\\scipy\\integrate\\_odepack_py.py:247: ODEintWarning: Excess work done on this call (perhaps wrong Dfun type). Run with full_output = 1 to get quantitative information.\n",
      "  warnings.warn(warning_msg, ODEintWarning)\n",
      "C:\\Users\\UserALai\\miniconda3\\lib\\site-packages\\scipy\\integrate\\_odepack_py.py:247: ODEintWarning: Excess work done on this call (perhaps wrong Dfun type). Run with full_output = 1 to get quantitative information.\n",
      "  warnings.warn(warning_msg, ODEintWarning)\n",
      "C:\\Users\\UserALai\\miniconda3\\lib\\site-packages\\scipy\\integrate\\_odepack_py.py:247: ODEintWarning: Excess work done on this call (perhaps wrong Dfun type). Run with full_output = 1 to get quantitative information.\n",
      "  warnings.warn(warning_msg, ODEintWarning)\n",
      "C:\\Users\\UserALai\\miniconda3\\lib\\site-packages\\scipy\\integrate\\_odepack_py.py:247: ODEintWarning: Excess work done on this call (perhaps wrong Dfun type). Run with full_output = 1 to get quantitative information.\n",
      "  warnings.warn(warning_msg, ODEintWarning)\n",
      "C:\\Users\\UserALai\\miniconda3\\lib\\site-packages\\scipy\\integrate\\_odepack_py.py:247: ODEintWarning: Excess work done on this call (perhaps wrong Dfun type). Run with full_output = 1 to get quantitative information.\n",
      "  warnings.warn(warning_msg, ODEintWarning)\n",
      "C:\\Users\\UserALai\\miniconda3\\lib\\site-packages\\scipy\\integrate\\_odepack_py.py:247: ODEintWarning: Excess work done on this call (perhaps wrong Dfun type). Run with full_output = 1 to get quantitative information.\n",
      "  warnings.warn(warning_msg, ODEintWarning)\n",
      "C:\\Users\\UserALai\\miniconda3\\lib\\site-packages\\scipy\\integrate\\_odepack_py.py:247: ODEintWarning: Excess work done on this call (perhaps wrong Dfun type). Run with full_output = 1 to get quantitative information.\n",
      "  warnings.warn(warning_msg, ODEintWarning)\n",
      "C:\\Users\\UserALai\\miniconda3\\lib\\site-packages\\scipy\\integrate\\_odepack_py.py:247: ODEintWarning: Excess work done on this call (perhaps wrong Dfun type). Run with full_output = 1 to get quantitative information.\n",
      "  warnings.warn(warning_msg, ODEintWarning)\n",
      "C:\\Users\\UserALai\\miniconda3\\lib\\site-packages\\scipy\\integrate\\_odepack_py.py:247: ODEintWarning: Excess work done on this call (perhaps wrong Dfun type). Run with full_output = 1 to get quantitative information.\n",
      "  warnings.warn(warning_msg, ODEintWarning)\n",
      "C:\\Users\\UserALai\\miniconda3\\lib\\site-packages\\scipy\\integrate\\_odepack_py.py:247: ODEintWarning: Excess work done on this call (perhaps wrong Dfun type). Run with full_output = 1 to get quantitative information.\n",
      "  warnings.warn(warning_msg, ODEintWarning)\n",
      "C:\\Users\\UserALai\\miniconda3\\lib\\site-packages\\scipy\\integrate\\_odepack_py.py:247: ODEintWarning: Excess work done on this call (perhaps wrong Dfun type). Run with full_output = 1 to get quantitative information.\n",
      "  warnings.warn(warning_msg, ODEintWarning)\n",
      "C:\\Users\\UserALai\\miniconda3\\lib\\site-packages\\scipy\\integrate\\_odepack_py.py:247: ODEintWarning: Excess work done on this call (perhaps wrong Dfun type). Run with full_output = 1 to get quantitative information.\n",
      "  warnings.warn(warning_msg, ODEintWarning)\n",
      "C:\\Users\\UserALai\\miniconda3\\lib\\site-packages\\scipy\\integrate\\_odepack_py.py:247: ODEintWarning: Excess work done on this call (perhaps wrong Dfun type). Run with full_output = 1 to get quantitative information.\n",
      "  warnings.warn(warning_msg, ODEintWarning)\n",
      "C:\\Users\\UserALai\\miniconda3\\lib\\site-packages\\scipy\\integrate\\_odepack_py.py:247: ODEintWarning: Excess work done on this call (perhaps wrong Dfun type). Run with full_output = 1 to get quantitative information.\n",
      "  warnings.warn(warning_msg, ODEintWarning)\n",
      "C:\\Users\\UserALai\\miniconda3\\lib\\site-packages\\scipy\\integrate\\_odepack_py.py:247: ODEintWarning: Excess work done on this call (perhaps wrong Dfun type). Run with full_output = 1 to get quantitative information.\n",
      "  warnings.warn(warning_msg, ODEintWarning)\n",
      "C:\\Users\\UserALai\\miniconda3\\lib\\site-packages\\scipy\\integrate\\_odepack_py.py:247: ODEintWarning: Excess work done on this call (perhaps wrong Dfun type). Run with full_output = 1 to get quantitative information.\n",
      "  warnings.warn(warning_msg, ODEintWarning)\n",
      "C:\\Users\\UserALai\\miniconda3\\lib\\site-packages\\scipy\\integrate\\_odepack_py.py:247: ODEintWarning: Excess work done on this call (perhaps wrong Dfun type). Run with full_output = 1 to get quantitative information.\n",
      "  warnings.warn(warning_msg, ODEintWarning)\n",
      "C:\\Users\\UserALai\\miniconda3\\lib\\site-packages\\scipy\\integrate\\_odepack_py.py:247: ODEintWarning: Excess work done on this call (perhaps wrong Dfun type). Run with full_output = 1 to get quantitative information.\n",
      "  warnings.warn(warning_msg, ODEintWarning)\n",
      "C:\\Users\\UserALai\\miniconda3\\lib\\site-packages\\scipy\\integrate\\_odepack_py.py:247: ODEintWarning: Excess work done on this call (perhaps wrong Dfun type). Run with full_output = 1 to get quantitative information.\n",
      "  warnings.warn(warning_msg, ODEintWarning)\n",
      "C:\\Users\\UserALai\\miniconda3\\lib\\site-packages\\scipy\\integrate\\_odepack_py.py:247: ODEintWarning: Excess work done on this call (perhaps wrong Dfun type). Run with full_output = 1 to get quantitative information.\n",
      "  warnings.warn(warning_msg, ODEintWarning)\n",
      "C:\\Users\\UserALai\\miniconda3\\lib\\site-packages\\scipy\\integrate\\_odepack_py.py:247: ODEintWarning: Excess work done on this call (perhaps wrong Dfun type). Run with full_output = 1 to get quantitative information.\n",
      "  warnings.warn(warning_msg, ODEintWarning)\n",
      "C:\\Users\\UserALai\\miniconda3\\lib\\site-packages\\scipy\\integrate\\_odepack_py.py:247: ODEintWarning: Excess work done on this call (perhaps wrong Dfun type). Run with full_output = 1 to get quantitative information.\n",
      "  warnings.warn(warning_msg, ODEintWarning)\n",
      "C:\\Users\\UserALai\\miniconda3\\lib\\site-packages\\scipy\\integrate\\_odepack_py.py:247: ODEintWarning: Excess work done on this call (perhaps wrong Dfun type). Run with full_output = 1 to get quantitative information.\n",
      "  warnings.warn(warning_msg, ODEintWarning)\n",
      "C:\\Users\\UserALai\\miniconda3\\lib\\site-packages\\scipy\\integrate\\_odepack_py.py:247: ODEintWarning: Excess work done on this call (perhaps wrong Dfun type). Run with full_output = 1 to get quantitative information.\n",
      "  warnings.warn(warning_msg, ODEintWarning)\n",
      "C:\\Users\\UserALai\\miniconda3\\lib\\site-packages\\scipy\\integrate\\_odepack_py.py:247: ODEintWarning: Excess work done on this call (perhaps wrong Dfun type). Run with full_output = 1 to get quantitative information.\n",
      "  warnings.warn(warning_msg, ODEintWarning)\n",
      "C:\\Users\\UserALai\\miniconda3\\lib\\site-packages\\scipy\\integrate\\_odepack_py.py:247: ODEintWarning: Excess work done on this call (perhaps wrong Dfun type). Run with full_output = 1 to get quantitative information.\n",
      "  warnings.warn(warning_msg, ODEintWarning)\n",
      "C:\\Users\\UserALai\\miniconda3\\lib\\site-packages\\scipy\\integrate\\_odepack_py.py:247: ODEintWarning: Excess work done on this call (perhaps wrong Dfun type). Run with full_output = 1 to get quantitative information.\n",
      "  warnings.warn(warning_msg, ODEintWarning)\n"
     ]
    },
    {
     "name": "stdout",
     "output_type": "stream",
     "text": [
      "[0.001      0.06755556 0.13411111 0.20066667 0.26722222 0.33377778\n",
      " 0.40033333 0.46688889 0.53344444 0.6       ]\n",
      "[0.003997989907353799, 0.13367435055679536, 0.8797143820191712, 0.2313827546165015, 3.807712258804391, 11.396865077148808, 2.1442130680964864, 5.210754494401885, 2.4935067147826095, 2.430267565047271]\n",
      "0.001\n",
      "(u)' = -1.042 u + 9.389 1/(1 + u^1) + -6.390 1/(1 + v^1) + -11.755 1/(1 + u^2) + 16.945 1/(1 + v^2) + 2.166 1/(1 + u^3) + -15.830 1/(1 + v^3) + 2.332 1/(1 + u^4) + 0.137 1/(1 + v^4) + 4.170 1/(1 + v^5)\n",
      "(v)' = -0.944 v + -7.348 1/(1 + u^1) + 2.865 1/(1 + v^1) + 18.954 1/(1 + u^2) + -24.239 1/(1 + u^3) + 15.424 1/(1 + u^4) + -4.805 1/(1 + v^4) + -3.243 1/(1 + u^5) + 3.297 1/(1 + v^5)\n",
      "0.06755555555555555\n",
      "(u)' = -1.232 u + 0.802 v + 0.978 1/(1 + u^1) + -0.274 1/(1 + v^1) + 6.309 1/(1 + u^2) + -12.117 1/(1 + v^2) + -29.003 1/(1 + u^3) + 27.972 1/(1 + v^3) + 30.271 1/(1 + u^4) + -14.378 1/(1 + v^4) + -9.211 1/(1 + u^5) + -0.521 1/(1 + v^5)\n",
      "(v)' = -1.042 v + 3.128 1/(1 + u^1) + 12.291 1/(1 + u^2) + 10.892 1/(1 + v^2) + -60.336 1/(1 + u^3) + -17.568 1/(1 + v^3) + 80.400 1/(1 + u^4) + -33.826 1/(1 + u^5) + 6.437 1/(1 + v^5)\n",
      "0.1341111111111111\n",
      "(u)' = -1.635 u + 1.324 v + 0.534 1/(1 + u^1) + -3.541 1/(1 + v^1) + -2.325 1/(1 + u^2) + 6.767 1/(1 + v^2) + -10.292 1/(1 + u^3) + 11.687 1/(1 + v^3) + 13.879 1/(1 + u^4) + -21.920 1/(1 + v^4) + -4.422 1/(1 + u^5) + 9.612 1/(1 + v^5)\n",
      "(v)' = -0.810 v + 1.326 1/(1 + v^1) + 3.187 1/(1 + u^2) + 3.600 1/(1 + v^2) + -0.949 1/(1 + u^3) + -6.787 1/(1 + v^3) + -7.791 1/(1 + u^4) + 1.184 1/(1 + v^4) + 6.465 1/(1 + u^5) + 0.788 1/(1 + v^5)\n",
      "0.20066666666666666\n",
      "(u)' = -1.898 u + 1.728 v + -1.679 1/(1 + u^1) + 1.853 1/(1 + v^1) + -9.845 1/(1 + v^2) + 0.811 1/(1 + u^3) + 8.130 1/(1 + v^3) + -10.293 1/(1 + u^4) + 25.459 1/(1 + v^4) + 7.605 1/(1 + u^5) + -22.299 1/(1 + v^5)\n",
      "(v)' = 1.469 1/(1 + u^1) + 1.877 1/(1 + v^1) + 2.222 1/(1 + u^2) + -9.440 1/(1 + v^2) + -8.830 1/(1 + u^3) + -0.832 1/(1 + v^3) + -1.780 1/(1 + u^4) + 15.550 1/(1 + v^4) + 7.544 1/(1 + u^5) + -8.188 1/(1 + v^5)\n",
      "0.2672222222222222\n",
      "(u)' = -0.645 u + 1.507 1/(1 + v^1) + 11.593 1/(1 + u^2) + 8.345 1/(1 + v^2) + -11.241 1/(1 + u^3) + -10.075 1/(1 + v^3) + -18.682 1/(1 + u^4) + -8.502 1/(1 + v^4) + 18.734 1/(1 + u^5) + 9.337 1/(1 + v^5)\n",
      "(v)' = 0.636 u + -0.581 v + -1.013 1/(1 + v^1) + -3.795 1/(1 + u^2) + -16.219 1/(1 + v^2) + 8.375 1/(1 + u^3) + 16.230 1/(1 + v^3) + 11.667 1/(1 + u^4) + 20.033 1/(1 + v^4) + -13.967 1/(1 + u^5) + -22.013 1/(1 + v^5)\n",
      "0.33377777777777773\n",
      "(u)' = 2.272 1/(1 + u^1) + 4.016 1/(1 + v^1) + 1.491 1/(1 + u^2) + -5.594 1/(1 + u^3) + -16.909 1/(1 + v^3) + 4.464 1/(1 + u^4) + 4.142 1/(1 + v^4) + -2.033 1/(1 + u^5) + 8.064 1/(1 + v^5)\n",
      "(v)' = -4.810 1/(1 + v^2) + -0.781 1/(1 + u^3) + 3.942 1/(1 + v^4) + 1.300 1/(1 + u^5)\n"
     ]
    },
    {
     "name": "stderr",
     "output_type": "stream",
     "text": [
      "C:\\Users\\UserALai\\miniconda3\\lib\\site-packages\\scipy\\integrate\\_odepack_py.py:247: ODEintWarning: Excess work done on this call (perhaps wrong Dfun type). Run with full_output = 1 to get quantitative information.\n",
      "  warnings.warn(warning_msg, ODEintWarning)\n",
      "C:\\Users\\UserALai\\miniconda3\\lib\\site-packages\\scipy\\integrate\\_odepack_py.py:247: ODEintWarning: Excess work done on this call (perhaps wrong Dfun type). Run with full_output = 1 to get quantitative information.\n",
      "  warnings.warn(warning_msg, ODEintWarning)\n",
      "C:\\Users\\UserALai\\miniconda3\\lib\\site-packages\\scipy\\integrate\\_odepack_py.py:247: ODEintWarning: Excess work done on this call (perhaps wrong Dfun type). Run with full_output = 1 to get quantitative information.\n",
      "  warnings.warn(warning_msg, ODEintWarning)\n",
      "C:\\Users\\UserALai\\miniconda3\\lib\\site-packages\\scipy\\integrate\\_odepack_py.py:247: ODEintWarning: Excess work done on this call (perhaps wrong Dfun type). Run with full_output = 1 to get quantitative information.\n",
      "  warnings.warn(warning_msg, ODEintWarning)\n",
      "C:\\Users\\UserALai\\miniconda3\\lib\\site-packages\\scipy\\integrate\\_odepack_py.py:247: ODEintWarning: Excess work done on this call (perhaps wrong Dfun type). Run with full_output = 1 to get quantitative information.\n",
      "  warnings.warn(warning_msg, ODEintWarning)\n",
      "C:\\Users\\UserALai\\miniconda3\\lib\\site-packages\\scipy\\integrate\\_odepack_py.py:247: ODEintWarning: Excess work done on this call (perhaps wrong Dfun type). Run with full_output = 1 to get quantitative information.\n",
      "  warnings.warn(warning_msg, ODEintWarning)\n",
      "C:\\Users\\UserALai\\miniconda3\\lib\\site-packages\\scipy\\integrate\\_odepack_py.py:247: ODEintWarning: Excess work done on this call (perhaps wrong Dfun type). Run with full_output = 1 to get quantitative information.\n",
      "  warnings.warn(warning_msg, ODEintWarning)\n",
      "C:\\Users\\UserALai\\miniconda3\\lib\\site-packages\\scipy\\integrate\\_odepack_py.py:247: ODEintWarning: Excess work done on this call (perhaps wrong Dfun type). Run with full_output = 1 to get quantitative information.\n",
      "  warnings.warn(warning_msg, ODEintWarning)\n",
      "C:\\Users\\UserALai\\miniconda3\\lib\\site-packages\\scipy\\integrate\\_odepack_py.py:247: ODEintWarning: Excess work done on this call (perhaps wrong Dfun type). Run with full_output = 1 to get quantitative information.\n",
      "  warnings.warn(warning_msg, ODEintWarning)\n",
      "C:\\Users\\UserALai\\miniconda3\\lib\\site-packages\\scipy\\integrate\\_odepack_py.py:247: ODEintWarning: Excess work done on this call (perhaps wrong Dfun type). Run with full_output = 1 to get quantitative information.\n",
      "  warnings.warn(warning_msg, ODEintWarning)\n",
      "C:\\Users\\UserALai\\miniconda3\\lib\\site-packages\\scipy\\integrate\\_odepack_py.py:247: ODEintWarning: Excess work done on this call (perhaps wrong Dfun type). Run with full_output = 1 to get quantitative information.\n",
      "  warnings.warn(warning_msg, ODEintWarning)\n",
      "C:\\Users\\UserALai\\miniconda3\\lib\\site-packages\\scipy\\integrate\\_odepack_py.py:247: ODEintWarning: Excess work done on this call (perhaps wrong Dfun type). Run with full_output = 1 to get quantitative information.\n",
      "  warnings.warn(warning_msg, ODEintWarning)\n",
      "C:\\Users\\UserALai\\miniconda3\\lib\\site-packages\\scipy\\integrate\\_odepack_py.py:247: ODEintWarning: Excess work done on this call (perhaps wrong Dfun type). Run with full_output = 1 to get quantitative information.\n",
      "  warnings.warn(warning_msg, ODEintWarning)\n",
      "C:\\Users\\UserALai\\miniconda3\\lib\\site-packages\\scipy\\integrate\\_odepack_py.py:247: ODEintWarning: Excess work done on this call (perhaps wrong Dfun type). Run with full_output = 1 to get quantitative information.\n",
      "  warnings.warn(warning_msg, ODEintWarning)\n",
      "C:\\Users\\UserALai\\miniconda3\\lib\\site-packages\\scipy\\integrate\\_odepack_py.py:247: ODEintWarning: Excess work done on this call (perhaps wrong Dfun type). Run with full_output = 1 to get quantitative information.\n",
      "  warnings.warn(warning_msg, ODEintWarning)\n",
      "C:\\Users\\UserALai\\miniconda3\\lib\\site-packages\\scipy\\integrate\\_odepack_py.py:247: ODEintWarning: Excess work done on this call (perhaps wrong Dfun type). Run with full_output = 1 to get quantitative information.\n",
      "  warnings.warn(warning_msg, ODEintWarning)\n",
      "C:\\Users\\UserALai\\miniconda3\\lib\\site-packages\\scipy\\integrate\\_odepack_py.py:247: ODEintWarning: Excess work done on this call (perhaps wrong Dfun type). Run with full_output = 1 to get quantitative information.\n",
      "  warnings.warn(warning_msg, ODEintWarning)\n",
      "C:\\Users\\UserALai\\miniconda3\\lib\\site-packages\\scipy\\integrate\\_odepack_py.py:247: ODEintWarning: Excess work done on this call (perhaps wrong Dfun type). Run with full_output = 1 to get quantitative information.\n",
      "  warnings.warn(warning_msg, ODEintWarning)\n",
      "C:\\Users\\UserALai\\miniconda3\\lib\\site-packages\\scipy\\integrate\\_odepack_py.py:247: ODEintWarning: Excess work done on this call (perhaps wrong Dfun type). Run with full_output = 1 to get quantitative information.\n",
      "  warnings.warn(warning_msg, ODEintWarning)\n",
      "C:\\Users\\UserALai\\miniconda3\\lib\\site-packages\\scipy\\integrate\\_odepack_py.py:247: ODEintWarning: Excess work done on this call (perhaps wrong Dfun type). Run with full_output = 1 to get quantitative information.\n",
      "  warnings.warn(warning_msg, ODEintWarning)\n",
      "C:\\Users\\UserALai\\miniconda3\\lib\\site-packages\\scipy\\integrate\\_odepack_py.py:247: ODEintWarning: Excess work done on this call (perhaps wrong Dfun type). Run with full_output = 1 to get quantitative information.\n",
      "  warnings.warn(warning_msg, ODEintWarning)\n",
      "C:\\Users\\UserALai\\miniconda3\\lib\\site-packages\\scipy\\integrate\\_odepack_py.py:247: ODEintWarning: Excess work done on this call (perhaps wrong Dfun type). Run with full_output = 1 to get quantitative information.\n",
      "  warnings.warn(warning_msg, ODEintWarning)\n",
      "C:\\Users\\UserALai\\miniconda3\\lib\\site-packages\\scipy\\integrate\\_odepack_py.py:247: ODEintWarning: Excess work done on this call (perhaps wrong Dfun type). Run with full_output = 1 to get quantitative information.\n",
      "  warnings.warn(warning_msg, ODEintWarning)\n"
     ]
    },
    {
     "name": "stdout",
     "output_type": "stream",
     "text": [
      "0.4003333333333333\n",
      "(u)' = 0.804 v + -1.764 1/(1 + v^1) + -5.238 1/(1 + u^2) + -12.959 1/(1 + v^2) + 2.664 1/(1 + u^3) + 9.291 1/(1 + v^3) + 6.681 1/(1 + u^4) + 11.025 1/(1 + v^4) + -4.422 1/(1 + u^5) + -6.671 1/(1 + v^5)\n",
      "(v)' = -0.849 v + -1.839 1/(1 + u^1) + -4.103 1/(1 + v^1) + 3.825 1/(1 + u^2) + -4.989 1/(1 + v^2) + 13.417 1/(1 + u^3) + 20.890 1/(1 + v^3) + 1.118 1/(1 + u^4) + -13.192 1/(1 + u^5) + -14.286 1/(1 + v^5)\n",
      "0.46688888888888885\n",
      "(u)' = 2.675 1/(1 + u^1) + 0.631 1/(1 + v^1) + 7.473 1/(1 + u^2) + -16.581 1/(1 + u^3) + -4.320 1/(1 + v^3) + -6.693 1/(1 + u^4) + -1.768 1/(1 + v^4) + 14.311 1/(1 + u^5) + 4.121 1/(1 + v^5)\n",
      "(v)' = -4.938 1/(1 + v^1) + -1.228 1/(1 + u^2) + -17.180 1/(1 + v^2) + -1.666 1/(1 + u^3) + 30.709 1/(1 + v^3) + 1.168 1/(1 + u^4) + 16.548 1/(1 + v^4) + 2.791 1/(1 + u^5) + -26.491 1/(1 + v^5)\n",
      "0.5334444444444444\n",
      "(u)' = -2.774 1/(1 + u^1) + 4.480 1/(1 + v^1) + -8.784 1/(1 + u^2) + 16.200 1/(1 + u^3) + -14.980 1/(1 + v^3) + 9.037 1/(1 + u^4) + 6.713 1/(1 + v^4) + -13.134 1/(1 + u^5) + 2.564 1/(1 + v^5)\n",
      "(v)' = -0.653 v + 2.184 1/(1 + v^1) + 13.427 1/(1 + u^2) + 2.684 1/(1 + v^2) + -9.817 1/(1 + u^3) + -7.859 1/(1 + v^3) + -17.500 1/(1 + u^4) + -0.835 1/(1 + v^4) + 16.367 1/(1 + u^5) + 2.205 1/(1 + v^5)\n",
      "0.6\n",
      "(u)' = 2.540 1/(1 + u^1) + 11.007 1/(1 + u^2) + -6.095 1/(1 + v^2) + -15.363 1/(1 + u^3) + -1.533 1/(1 + v^3) + -9.343 1/(1 + u^4) + 3.117 1/(1 + v^4) + 12.905 1/(1 + u^5) + 2.564 1/(1 + v^5)\n",
      "(v)' = -6.464 1/(1 + u^3) + 8.050 1/(1 + v^3) + -5.512 1/(1 + u^4) + 6.394 1/(1 + v^4) + 10.774 1/(1 + u^5) + -13.400 1/(1 + v^5)\n",
      "[0.001      0.06755556 0.13411111 0.20066667 0.26722222 0.33377778\n",
      " 0.40033333 0.46688889 0.53344444 0.6       ]\n",
      "[0.001599651642104738, 0.07186276578902047, 0.28724118074818633, 6.5054970646336985, 0.610773738473451, 15.252834664541954, 1.014594792848508, 1.0790839373409193, 1.5017978793459619, 13.77707649440448]\n",
      "0.001\n",
      "(u)' = -1.214 u + 12.625 1/(1 + u^1) + -15.008 1/(1 + v^1) + -15.618 1/(1 + u^2) + 64.835 1/(1 + v^2) + -9.471 1/(1 + u^3) + -120.782 1/(1 + v^3) + 29.311 1/(1 + u^4) + 104.245 1/(1 + v^4) + -14.441 1/(1 + u^5) + -34.183 1/(1 + v^5)\n",
      "(v)' = -1.019 v + 1.910 1/(1 + u^1) + -4.181 1/(1 + u^2) + 8.871 1/(1 + v^3) + 6.681 1/(1 + u^4) + -16.254 1/(1 + v^4) + -3.558 1/(1 + u^5) + 7.607 1/(1 + v^5)\n",
      "0.06755555555555555\n",
      "(u)' = -0.788 u + 1.951 1/(1 + u^1) + 3.626 1/(1 + v^1) + -10.478 1/(1 + u^2) + -4.380 1/(1 + v^2) + 9.221 1/(1 + u^3) + -0.435 1/(1 + v^3) + 5.685 1/(1 + v^4) + -1.151 1/(1 + u^5) + -3.503 1/(1 + v^5)\n",
      "(v)' = -1.252 v + 0.799 1/(1 + u^1) + 5.820 1/(1 + v^1) + 2.396 1/(1 + u^2) + -3.773 1/(1 + v^2) + 17.491 1/(1 + u^3) + -28.743 1/(1 + v^3) + -44.141 1/(1 + u^4) + 49.661 1/(1 + v^4) + 25.503 1/(1 + u^5) + -23.308 1/(1 + v^5)\n",
      "0.1341111111111111\n",
      "(u)' = -1.216 u + 0.870 v + -3.408 1/(1 + u^1) + -6.283 1/(1 + v^1) + 3.149 1/(1 + u^2) + 7.716 1/(1 + v^2) + 6.990 1/(1 + u^3) + 19.862 1/(1 + v^3) + -16.921 1/(1 + u^4) + -39.359 1/(1 + v^4) + 8.748 1/(1 + u^5) + 19.208 1/(1 + v^5)\n",
      "(v)' = -0.546 v + 0.914 1/(1 + u^1) + -4.684 1/(1 + v^1) + -7.272 1/(1 + u^2) + 9.845 1/(1 + v^2) + -0.904 1/(1 + u^3) + 15.632 1/(1 + v^3) + 23.123 1/(1 + u^4) + -40.603 1/(1 + v^4) + -15.564 1/(1 + u^5) + 19.908 1/(1 + v^5)\n",
      "0.20066666666666666\n",
      "(u)' = -0.825 u + -0.670 1/(1 + v^1) + -4.171 1/(1 + u^2) + 15.088 1/(1 + v^2) + -5.221 1/(1 + v^3) + 2.528 1/(1 + u^4) + -20.597 1/(1 + v^4) + 14.037 1/(1 + v^5)\n",
      "(v)' = 1.145 1/(1 + u^1) + -2.888 1/(1 + v^1) + 1.989 1/(1 + u^2) + -7.519 1/(1 + v^2) + -5.683 1/(1 + u^3) + 15.132 1/(1 + v^3) + -0.801 1/(1 + u^4) + 4.660 1/(1 + v^4) + 3.646 1/(1 + u^5) + -10.060 1/(1 + v^5)\n",
      "0.2672222222222222\n",
      "(u)' = -1.508 u + 1.370 v + -4.881 1/(1 + u^1) + 2.297 1/(1 + v^1) + -8.601 1/(1 + u^2) + 0.706 1/(1 + v^2) + 18.765 1/(1 + u^3) + -2.390 1/(1 + u^4) + 12.054 1/(1 + v^4) + -6.904 1/(1 + u^5) + -11.263 1/(1 + v^5)\n",
      "(v)' = -0.545 v + -1.656 1/(1 + u^1) + -1.671 1/(1 + v^1) + -1.441 1/(1 + u^2) + 3.353 1/(1 + v^2) + 4.959 1/(1 + u^3) + 2.346 1/(1 + v^3) + -0.770 1/(1 + u^4) + -9.429 1/(1 + v^4) + 4.686 1/(1 + v^5)\n",
      "0.33377777777777773\n",
      "(u)' = -0.794 u + 0.827 1/(1 + v^1) + 3.361 1/(1 + u^2) + 11.344 1/(1 + v^2) + -6.014 1/(1 + u^3) + -6.014 1/(1 + v^3) + -8.900 1/(1 + u^4) + -9.423 1/(1 + v^4) + 9.967 1/(1 + u^5) + 5.902 1/(1 + v^5)\n",
      "(v)' = -1.244 1/(1 + u^1) + -5.068 1/(1 + u^2) + 6.928 1/(1 + v^2) + 8.992 1/(1 + u^3) + -5.715 1/(1 + v^3) + 4.987 1/(1 + u^4) + -9.694 1/(1 + v^4) + -8.780 1/(1 + u^5) + 9.615 1/(1 + v^5)\n",
      "0.4003333333333333\n",
      "(u)' = 2.047 1/(1 + u^1) + 1.283 1/(1 + v^1) + 0.969 1/(1 + u^2) + 2.363 1/(1 + v^2) + -10.550 1/(1 + u^3) + -6.338 1/(1 + v^3) + -1.493 1/(1 + v^4) + 7.365 1/(1 + u^5) + 4.142 1/(1 + v^5)\n",
      "(v)' = 1.419 1/(1 + u^1) + 2.690 1/(1 + v^1) + -12.344 1/(1 + u^2) + 4.705 1/(1 + v^2) + -5.752 1/(1 + u^3) + -10.832 1/(1 + v^3) + 12.587 1/(1 + u^4) + 2.478 1/(1 + u^5) + 4.616 1/(1 + v^5)\n",
      "0.46688888888888885\n",
      "(u)' = -0.542 v + -2.643 1/(1 + v^1) + 1.262 1/(1 + u^2) + -1.180 1/(1 + v^2) + 2.229 1/(1 + u^3) + 14.414 1/(1 + v^3) + 1.440 1/(1 + u^4) + -0.711 1/(1 + v^4) + -3.738 1/(1 + u^5) + -10.792 1/(1 + v^5)\n",
      "(v)' = -2.879 1/(1 + v^1) + 8.857 1/(1 + u^2) + -4.682 1/(1 + v^2) + -4.144 1/(1 + u^3) + 11.579 1/(1 + v^3) + -10.465 1/(1 + u^4) + 6.907 1/(1 + u^5) + -4.917 1/(1 + v^5)\n"
     ]
    },
    {
     "name": "stderr",
     "output_type": "stream",
     "text": [
      "C:\\Users\\UserALai\\miniconda3\\lib\\site-packages\\scipy\\integrate\\_odepack_py.py:247: ODEintWarning: Excess work done on this call (perhaps wrong Dfun type). Run with full_output = 1 to get quantitative information.\n",
      "  warnings.warn(warning_msg, ODEintWarning)\n",
      "C:\\Users\\UserALai\\miniconda3\\lib\\site-packages\\scipy\\integrate\\_odepack_py.py:247: ODEintWarning: Excess work done on this call (perhaps wrong Dfun type). Run with full_output = 1 to get quantitative information.\n",
      "  warnings.warn(warning_msg, ODEintWarning)\n",
      "C:\\Users\\UserALai\\miniconda3\\lib\\site-packages\\scipy\\integrate\\_odepack_py.py:247: ODEintWarning: Excess work done on this call (perhaps wrong Dfun type). Run with full_output = 1 to get quantitative information.\n",
      "  warnings.warn(warning_msg, ODEintWarning)\n",
      "C:\\Users\\UserALai\\miniconda3\\lib\\site-packages\\scipy\\integrate\\_odepack_py.py:247: ODEintWarning: Excess work done on this call (perhaps wrong Dfun type). Run with full_output = 1 to get quantitative information.\n",
      "  warnings.warn(warning_msg, ODEintWarning)\n",
      "C:\\Users\\UserALai\\miniconda3\\lib\\site-packages\\scipy\\integrate\\_odepack_py.py:247: ODEintWarning: Excess work done on this call (perhaps wrong Dfun type). Run with full_output = 1 to get quantitative information.\n",
      "  warnings.warn(warning_msg, ODEintWarning)\n",
      "C:\\Users\\UserALai\\miniconda3\\lib\\site-packages\\scipy\\integrate\\_odepack_py.py:247: ODEintWarning: Excess work done on this call (perhaps wrong Dfun type). Run with full_output = 1 to get quantitative information.\n",
      "  warnings.warn(warning_msg, ODEintWarning)\n",
      "C:\\Users\\UserALai\\miniconda3\\lib\\site-packages\\scipy\\integrate\\_odepack_py.py:247: ODEintWarning: Excess work done on this call (perhaps wrong Dfun type). Run with full_output = 1 to get quantitative information.\n",
      "  warnings.warn(warning_msg, ODEintWarning)\n"
     ]
    },
    {
     "name": "stdout",
     "output_type": "stream",
     "text": [
      "0.5334444444444444\n",
      "(u)' = 0.523 1/(1 + u^1) + 1.995 1/(1 + v^1) + 5.891 1/(1 + u^2) + -10.547 1/(1 + v^2) + -4.039 1/(1 + u^3) + -1.887 1/(1 + v^3) + -5.151 1/(1 + u^4) + 15.417 1/(1 + v^4) + 4.133 1/(1 + u^5) + -6.867 1/(1 + v^5)\n",
      "(v)' = -0.744 v + 3.018 1/(1 + u^1) + -5.133 1/(1 + v^1) + 18.649 1/(1 + u^2) + -7.266 1/(1 + v^2) + -24.463 1/(1 + u^3) + 31.698 1/(1 + v^3) + -19.589 1/(1 + u^4) + 5.575 1/(1 + v^4) + 25.704 1/(1 + u^5) + -27.185 1/(1 + v^5)\n",
      "0.6\n",
      "(u)' = 4.209 1/(1 + u^1) + -3.928 1/(1 + v^1) + 8.732 1/(1 + u^2) + -13.520 1/(1 + v^2) + -27.512 1/(1 + u^3) + 25.686 1/(1 + v^3) + -9.688 1/(1 + u^4) + 14.422 1/(1 + v^4) + 24.811 1/(1 + u^5) + -23.107 1/(1 + v^5)\n",
      "(v)' = -0.860 1/(1 + u^1) + -10.299 1/(1 + u^2) + 4.160 1/(1 + u^3) + 12.276 1/(1 + v^3) + 7.869 1/(1 + u^4) + 9.929 1/(1 + v^4) + -2.650 1/(1 + u^5) + -20.426 1/(1 + v^5)\n",
      "[0.001      0.06755556 0.13411111 0.20066667 0.26722222 0.33377778\n",
      " 0.40033333 0.46688889 0.53344444 0.6       ]\n",
      "[0.003828687520155259, 0.10674480852257928, 0.3413746006536999, 0.3549683666339158, 1.0028657812395714, 1.174354476025276, 31.80748215309946, 10.42641811910734, 2.8809213019935704, 9.939436662238945]\n"
     ]
    },
    {
     "data": {
      "image/png": "[encoded data removed]",
      "text/plain": [
       "<Figure size 720x576 with 1 Axes>"
      ]
     },
     "metadata": {
      "needs_background": "light"
     },
     "output_type": "display_data"
    }
   ],
   "source": [
    "numRuns = 20\n",
    "sigma_list = np.linspace(0.001, 0.6, 10)\n",
    "total_MSE_list = np.zeros(len(sigma_list))\n",
    "for i in range(numRuns):\n",
    "    MSE_list = []\n",
    "    for j in range(len(sigma_list)):\n",
    "        sigma = np.zeros((feature_count, feature_count))\n",
    "        sigmaVal = sigma_list[j]\n",
    "        np.fill_diagonal(sigma, sigmaVal)\n",
    "        print(sigmaVal)\n",
    "        #noise = np.random.multivariate_normal(mu, sigma**2, (n_of_ic, len(tvals)))\n",
    "        noise = cn.powerlaw_psd_gaussian(beta, (n_of_ic, len(tvals), feature_count)) * (sigmaVal + 0.03)\n",
    "        model = ps.SINDy(feature_names=['u', 'v'], optimizer=sparse_regression_optimizer, feature_library=netswitch_library)\n",
    "        model.fit(list(netswitch_train_multi + noise), t=dt, multiple_trajectories=True)\n",
    "        model.print()\n",
    "        simulations = []\n",
    "        # create simulations list to hold simulated data for corresponding IC\n",
    "        for k in range(n_of_ic):\n",
    "            # problem area with warnings\n",
    "            #print(netswitch_x0s[k])\n",
    "            netswitch_sim = model.simulate(netswitch_x0s[k], t=tvals, integrator=\"odeint\", integrator_kws=integrator_keywords)\n",
    "            simulations.append(netswitch_sim) \n",
    "        MSE = np.square(np.subtract(netswitch_train_multi, simulations)).sum() / (len(tvals) * feature_count * n_of_ic)\n",
    "        MSE_list.append(MSE)\n",
    "        #print(f\"List for sigma={sigmaVal}: {MSE_list}\")\n",
    "    total_MSE_list = total_MSE_list + np.asarray(MSE_list)\n",
    "    print(sigma_list)\n",
    "    print(MSE_list)\n",
    "total_MSE_list = total_MSE_list / numRuns\n",
    "fig, axs = plt.subplots(figsize=(10,8))\n",
    "axs.plot(sigma_list, MSE_list)\n",
    "axs.set(xlabel=\"$\\sigma$\", ylabel=\"MSE\")\n",
    "plt.grid(True)\n",
    "plt.xlabel(\"$\\sigma$\", fontsize=24)\n",
    "plt.ylabel(\"MSE\", fontsize=24)\n",
    "fig.suptitle('Mean Squared Error vs. Standard Deviation in Gaussian Noise', fontsize=28)\n",
    "plt.yscale('log')"
   ]
  },
  {
   "cell_type": "code",
   "execution_count": 70,
   "id": "5c9b0507",
   "metadata": {
    "scrolled": true
   },
   "outputs": [
    {
     "name": "stdout",
     "output_type": "stream",
     "text": [
      "500\n",
      "(500, 2)\n"
     ]
    },
    {
     "name": "stderr",
     "output_type": "stream",
     "text": [
      "C:\\Users\\UserALai\\miniconda3\\lib\\site-packages\\scipy\\integrate\\_odepack_py.py:247: ODEintWarning: Excess work done on this call (perhaps wrong Dfun type). Run with full_output = 1 to get quantitative information.\n",
      "  warnings.warn(warning_msg, ODEintWarning)\n",
      "C:\\Users\\UserALai\\miniconda3\\lib\\site-packages\\scipy\\integrate\\_odepack_py.py:247: ODEintWarning: Excess work done on this call (perhaps wrong Dfun type). Run with full_output = 1 to get quantitative information.\n",
      "  warnings.warn(warning_msg, ODEintWarning)\n",
      "C:\\Users\\UserALai\\miniconda3\\lib\\site-packages\\scipy\\integrate\\_odepack_py.py:247: ODEintWarning: Excess work done on this call (perhaps wrong Dfun type). Run with full_output = 1 to get quantitative information.\n",
      "  warnings.warn(warning_msg, ODEintWarning)\n"
     ]
    },
    {
     "name": "stdout",
     "output_type": "stream",
     "text": [
      "[0.1 0.2 0.3 0.4 0.5 0.6 0.7 0.8 0.9 1.  1.1 1.2 1.3 1.4 1.5 1.6 1.7 1.8\n",
      " 1.9 2. ]\n",
      "[37.3578045243963, 36.37379970329704, 29.841768973750906, 27.676998815722346, 26.937230446945765, 33.23314990542521, 28.331078676135323, 36.061445615625104, 33.96751323446484, 33.07196064090767, 33.496691804194015, 33.00569735154315, 32.235021649114294, 33.119658136402556, 29.076400317310586, 33.83599033230518, 34.974040063692, 28.676922708877836, 234.49789074432988, 33.40674281423231]\n"
     ]
    },
    {
     "data": {
      "image/png": "[encoded data removed]",
      "text/plain": [
       "<Figure size 720x576 with 1 Axes>"
      ]
     },
     "metadata": {
      "needs_background": "light"
     },
     "output_type": "display_data"
    }
   ],
   "source": [
    "# test of model w/ varying threshold\n",
    "# edit in progress\n",
    "T = 50\n",
    "dt = 0.01\n",
    "trange = np.array([0, T])\n",
    "#tvals = np.arange(0, T + dt, dt)\n",
    "tvals = np.linspace(0, T, 500)\n",
    "n_of_ic = 500\n",
    "feature_count = 2\n",
    "fig, axs = plt.subplots(figsize=(10,8))\n",
    "netswitch_x0s = (np.random.rand(n_of_ic, feature_count) * 5 - np.random.rand(n_of_ic, feature_count))\n",
    "#sigma = 0.01\n",
    "threshold_list = np.linspace(0.1, 2, 20)\n",
    "mu = np.zeros(feature_count)\n",
    "\n",
    "MSE_list = []\n",
    "netswitch_train_multi = []\n",
    "\n",
    "# creation of TRUE data/solution\n",
    "for i in range(n_of_ic):\n",
    "    netswitch_train_temp = solve_ivp(\n",
    "        netswitch, trange, netswitch_x0s[i], t_eval=tvals\n",
    "    ).y.T\n",
    "    netswitch_train_multi.append(netswitch_train_temp)\n",
    "print(len(netswitch_train_multi))\n",
    "print(netswitch_train_multi[0].shape)\n",
    "sigma = np.zeros((feature_count, feature_count))\n",
    "sigmaVal = 0.2\n",
    "np.fill_diagonal(sigma, sigmaVal)\n",
    "# figure out sigma threshold with rmse for prev. cell \n",
    "# train models\n",
    "for j in range(len(threshold_list)):\n",
    "    sparse_regression_optimizer = ps.STLSQ(threshold=threshold_list[j])\n",
    "    model = ps.SINDy(feature_names=['u', 'v'], optimizer=sparse_regression_optimizer, feature_library=netswitch_library)\n",
    "    noise = np.random.multivariate_normal(mu, sigma**2, (n_of_ic, len(tvals)))\n",
    "    model.fit(list(netswitch_train_multi + noise), t=dt, multiple_trajectories=True)\n",
    "    simulations = []\n",
    "    # create simulations list to hold simulated data for corresponding IC\n",
    "    for k in range(n_of_ic):\n",
    "        netswitch_sim = model.simulate(netswitch_x0s[k], t=tvals, integrator=\"odeint\")\n",
    "        simulations.append(netswitch_sim) \n",
    "    #MSE = np.square(np.subtract(netswitch_train_multi, simulations)).mean()\n",
    "    MSE = np.square(np.subtract(netswitch_train_multi, simulations)).sum() / (feature_count * len(tvals) * n_of_ic)\n",
    "    MSE_list.append(MSE)\n",
    "print(threshold_list)\n",
    "print(MSE_list)\n",
    "axs.plot(threshold_list, MSE_list)\n",
    "axs.set(xlabel=\"Sparse Regression Optimizer\", ylabel=\"MSE\")\n",
    "plt.grid(True)\n",
    "plt.xlabel(\"Sparse Regression Optimizer\", fontsize=24)\n",
    "plt.ylabel(\"MSE\", fontsize=24)\n",
    "fig.suptitle('Mean Squared Error vs. SRO Threshold', fontsize=28)\n",
    "plt.savefig(\"C:/Users/UserALai/Downloads\\img.svg\", bbox_inches='tight')\n",
    "plt.yscale('log')"
   ]
  },
  {
   "cell_type": "markdown",
   "id": "5bf2f99d",
   "metadata": {},
   "source": [
    "## Implementation of Network switch with SINDy-PI\n",
    "\n",
    "See notebook 9 for relevant exmaple on 1D example. They use:\n",
    "$$\\dot{x} = 0.6 - \\frac{1.5 x}{0.3 + x} \\longrightarrow \\dot{x} = \\frac{3}{5} -3 x - \\frac{10}{3} x\\dot{x}$$\n",
    "\n",
    "\n",
    "Gene network switch system written implicitly:\n",
    "$$ \\dot{u} = -u + \\frac{a}{b+v^\\beta} \\longrightarrow b\\dot{u} + v^{\\beta}\\dot{u} + bu + uv^{\\beta} = a$$\n",
    "$$ \\dot{v} = -v + \\frac{c}{d+u^\\gamma} \\longrightarrow d\\dot{v} + u^{\\gamma}\\dot{v} + dv + vu^{\\gamma} = c $$"
   ]
  },
  {
   "cell_type": "code",
   "execution_count": 1,
   "id": "b9168e42",
   "metadata": {},
   "outputs": [],
   "source": [
    "import matplotlib.pyplot as plt\n",
    "import numpy as np\n",
    "from scipy.integrate import solve_ivp\n",
    "import pysindy as ps\n",
    "import sympy as sp"
   ]
  },
  {
   "cell_type": "code",
   "execution_count": 59,
   "id": "af5e04d4",
   "metadata": {},
   "outputs": [],
   "source": [
    "# Defining the system\n",
    "a, b = 2, 1\n",
    "beta, gamma = 2, 2\n",
    "dudt = lambda u, v: -u + (a / (1+v**beta))\n",
    "dvdt = lambda u, v: -v + (b / (1+u**gamma))\n",
    "netswitch = lambda t, x: np.array([dudt(x[0], x[1]), dvdt(x[0], x[1])])\n",
    "var = ['u', 'v']\n",
    "integrator_keywords = {}\n",
    "integrator_keywords['rtol'] = 1e-12\n",
    "integrator_keywords['method'] = 'LSODA'\n",
    "integrator_keywords['atol'] = 1e-12\n"
   ]
  },
  {
   "cell_type": "code",
   "execution_count": 105,
   "id": "fac4a113",
   "metadata": {},
   "outputs": [
    {
     "name": "stdout",
     "output_type": "stream",
     "text": [
      "[4.98301064 4.3738914 ]\n",
      "(400, 2)\n"
     ]
    },
    {
     "data": {
      "text/plain": [
       "50"
      ]
     },
     "execution_count": 105,
     "metadata": {},
     "output_type": "execute_result"
    }
   ],
   "source": [
    "# training set\n",
    "r = len(var) # appears to be number of variables in example (x0, x1, x2,...)\n",
    "dt = 0.01\n",
    "T = 4\n",
    "t = np.arange(0, T, dt)\n",
    "t_span = (t[0], t[-1])\n",
    "netswitch0_train = np.random.random(r) * 5\n",
    "netswitch_train = solve_ivp(netswitch, t_span, netswitch0_train, t_eval=t, **integrator_keywords).y.T\n",
    "print(netswitch0_train)\n",
    "netswitch_train_multi = []\n",
    "n_of_ic = 50\n",
    "\n",
    "netswitch_x0s = (np.random.rand(n_of_ic, r) * 5)\n",
    "for i in range(n_of_ic):     \n",
    "    netswitch_train_temp = solve_ivp(\n",
    "        netswitch, t_span, netswitch_x0s[i], t_eval=t\n",
    "    ).y.T\n",
    "    netswitch_train_multi.append(netswitch_train_temp)\n",
    "netswitch_x0s\n",
    "#print(netswitch_train_multi)\n",
    "#print(len(netswitch_train_multi))\n",
    "print(netswitch_train_multi[0].shape)\n",
    "len(netswitch_train_multi)"
   ]
  },
  {
   "cell_type": "code",
   "execution_count": 30,
   "id": "40c5464d",
   "metadata": {},
   "outputs": [
    {
     "name": "stdout",
     "output_type": "stream",
     "text": [
      "100\n"
     ]
    }
   ],
   "source": [
    "print(len(netswitch_train_multi))"
   ]
  },
  {
   "cell_type": "code",
   "execution_count": null,
   "id": "70e1e33a",
   "metadata": {},
   "outputs": [],
   "source": [
    "# PDE Library implementation\n",
    "library_functions = [\n",
    "    lambda x: x,\n",
    "    lambda x, y: x * y,\n",
    "    lambda x: x ** 2,\n",
    "    lambda x, y: x * y ** 2,\n",
    "    lambda x: x ** 3,\n",
    "    lambda x, y: x * y ** 3,\n",
    "    lambda x: x ** 4,\n",
    "]\n",
    "\"\"\"\n",
    "x_dot_library_functions = [\n",
    "    lambda x: x\n",
    "]\n",
    "\"\"\"\n",
    "library_function_names = [\n",
    "    lambda x: x,\n",
    "    lambda x, y: x + y,\n",
    "    lambda x: x + x,\n",
    "    lambda x, y: x + y + y,\n",
    "    lambda x: x + x + x,\n",
    "    lambda x, y: x + y + y + y,\n",
    "    lambda x: x + x + x + x,\n",
    "#    lambda x: x\n",
    "]\n",
    "#\"\"\" PDELibrary lost implicit_terms in 1.7.1\n",
    "pde_library = ps.PDELibrary(\n",
    "    library_functions=library_functions,\n",
    "    spatial_grid=netswitch_train,\n",
    "    #temporal_grid=t,\n",
    "    function_names=library_function_names,\n",
    "    include_bias=False,\n",
    "    #implicit_terms=True,\n",
    "    derivative_order=1,\n",
    "    include_interaction=True,\n",
    ")\n",
    "#\"\"\"\n",
    "\"\"\"\n",
    "sindy_library = ps.SINDyPILibrary(\n",
    "    library_functions=library_functions,\n",
    "    x_dot_library_functions=x_dot_library_functions,\n",
    "    t=t,\n",
    "    function_names=library_function_names,\n",
    "    include_bias=True,\n",
    ")\n",
    "\"\"\"\n",
    "sindy_opt = ps.SINDyPI(\n",
    "    threshold=1e-0,\n",
    "    tol=1e-8,\n",
    "    thresholder=\"l1\",\n",
    "    max_iter=20000,\n",
    "    normalize_columns=True\n",
    ")\n",
    "model = ps.SINDy(\n",
    "    optimizer=sindy_opt,\n",
    "    feature_library=pde_library,\n",
    "    differentiation_method=ps.FiniteDifference(drop_endpoints=True)#,\n",
    "    #feature_names=['u', 'v']\n",
    ")\n",
    "model.fit(netswitch_train_multi, t=dt, multiple_trajectories=True)\n",
    "#model.fit(netswitch_train, t=dt, multiple_trajectories=False)\n",
    "model.feature_names = model.get_feature_names()\n",
    "\n",
    "model.print()\n",
    "pde_library.get_feature_names()\n"
   ]
  },
  {
   "cell_type": "code",
   "execution_count": 110,
   "id": "f2797374",
   "metadata": {},
   "outputs": [
    {
     "name": "stdout",
     "output_type": "stream",
     "text": [
      "(20001, 2)\n"
     ]
    }
   ],
   "source": [
    "print((netswitch_train_multi[0].shape))"
   ]
  },
  {
   "cell_type": "code",
   "execution_count": 106,
   "id": "d806a453",
   "metadata": {},
   "outputs": [
    {
     "name": "stderr",
     "output_type": "stream",
     "text": [
      "C:\\Users\\UserALai\\miniconda3\\lib\\site-packages\\pysindy\\feature_library\\sindy_pi_library.py:161: UserWarning: This library is deprecated in PySINDy versions > 1.7. Please use the PDE or WeakPDE libraries instead. \n",
      "  warnings.warn(\n"
     ]
    }
   ],
   "source": [
    "# generalized library testing \n",
    "# gets u dot\n",
    "library_functions = [\n",
    "    lambda x: x,\n",
    "    lambda x, y: x * y,\n",
    "    lambda x: x ** 2,\n",
    "    lambda x, y: x * y ** 2,\n",
    "    lambda x, y: x ** 2 * y ,\n",
    "]\n",
    "library_function_names = [\n",
    "    lambda x: x,\n",
    "    lambda x, y: x + y,\n",
    "    lambda x: x + x,\n",
    "    lambda x, y: x + y + y,\n",
    "    lambda x, y: x + x + y,\n",
    "]\n",
    "custom_library = ps.CustomLibrary(\n",
    "    library_functions=library_functions,\n",
    "    function_names=library_function_names,\n",
    ")\n",
    "\n",
    "x_dot_library_functions = [\n",
    "    lambda x: x\n",
    "]\n",
    "# only consist of xn_dot\n",
    "sindy_library = ps.SINDyPILibrary(\n",
    "    library_functions=[],\n",
    "    x_dot_library_functions=x_dot_library_functions,\n",
    "    t=t,\n",
    "    function_names=[lambda x: x],\n",
    ")\n",
    "\n",
    "# only consist of constant term 1\n",
    "constant_library = ps.CustomLibrary(\n",
    "    library_functions=[],\n",
    "    function_names=[],\n",
    "    include_bias=True,\n",
    ")\n",
    "\n",
    "sindy_opt = ps.SINDyPI(\n",
    "    threshold=1e-1,\n",
    "    tol=1e-8,\n",
    "    thresholder=\"l1\",\n",
    "    max_iter=40000,\n",
    ")\n"
   ]
  },
  {
   "cell_type": "code",
   "execution_count": 107,
   "id": "abf66082",
   "metadata": {},
   "outputs": [
    {
     "name": "stdout",
     "output_type": "stream",
     "text": [
      "Model  0\n",
      "Model  1\n",
      "Model  2\n",
      "Model  3\n",
      "Model  4\n",
      "Model  5\n",
      "Model  6\n",
      "Model  7\n",
      "Model  8\n",
      "Model  9\n",
      "Model  10\n",
      "Model  11\n",
      "Model  12\n",
      "Model  13\n",
      "Model  14\n",
      "Model  15\n"
     ]
    },
    {
     "data": {
      "text/html": [
       "<style>#sk-container-id-4 {color: black;background-color: white;}#sk-container-id-4 pre{padding: 0;}#sk-container-id-4 div.sk-toggleable {background-color: white;}#sk-container-id-4 label.sk-toggleable__label {cursor: pointer;display: block;width: 100%;margin-bottom: 0;padding: 0.3em;box-sizing: border-box;text-align: center;}#sk-container-id-4 label.sk-toggleable__label-arrow:before {content: \"▸\";float: left;margin-right: 0.25em;color: #696969;}#sk-container-id-4 label.sk-toggleable__label-arrow:hover:before {color: black;}#sk-container-id-4 div.sk-estimator:hover label.sk-toggleable__label-arrow:before {color: black;}#sk-container-id-4 div.sk-toggleable__content {max-height: 0;max-width: 0;overflow: hidden;text-align: left;background-color: #f0f8ff;}#sk-container-id-4 div.sk-toggleable__content pre {margin: 0.2em;color: black;border-radius: 0.25em;background-color: #f0f8ff;}#sk-container-id-4 input.sk-toggleable__control:checked~div.sk-toggleable__content {max-height: 200px;max-width: 100%;overflow: auto;}#sk-container-id-4 input.sk-toggleable__control:checked~label.sk-toggleable__label-arrow:before {content: \"▾\";}#sk-container-id-4 div.sk-estimator input.sk-toggleable__control:checked~label.sk-toggleable__label {background-color: #d4ebff;}#sk-container-id-4 div.sk-label input.sk-toggleable__control:checked~label.sk-toggleable__label {background-color: #d4ebff;}#sk-container-id-4 input.sk-hidden--visually {border: 0;clip: rect(1px 1px 1px 1px);clip: rect(1px, 1px, 1px, 1px);height: 1px;margin: -1px;overflow: hidden;padding: 0;position: absolute;width: 1px;}#sk-container-id-4 div.sk-estimator {font-family: monospace;background-color: #f0f8ff;border: 1px dotted black;border-radius: 0.25em;box-sizing: border-box;margin-bottom: 0.5em;}#sk-container-id-4 div.sk-estimator:hover {background-color: #d4ebff;}#sk-container-id-4 div.sk-parallel-item::after {content: \"\";width: 100%;border-bottom: 1px solid gray;flex-grow: 1;}#sk-container-id-4 div.sk-label:hover label.sk-toggleable__label {background-color: #d4ebff;}#sk-container-id-4 div.sk-serial::before {content: \"\";position: absolute;border-left: 1px solid gray;box-sizing: border-box;top: 0;bottom: 0;left: 50%;z-index: 0;}#sk-container-id-4 div.sk-serial {display: flex;flex-direction: column;align-items: center;background-color: white;padding-right: 0.2em;padding-left: 0.2em;position: relative;}#sk-container-id-4 div.sk-item {position: relative;z-index: 1;}#sk-container-id-4 div.sk-parallel {display: flex;align-items: stretch;justify-content: center;background-color: white;position: relative;}#sk-container-id-4 div.sk-item::before, #sk-container-id-4 div.sk-parallel-item::before {content: \"\";position: absolute;border-left: 1px solid gray;box-sizing: border-box;top: 0;bottom: 0;left: 50%;z-index: -1;}#sk-container-id-4 div.sk-parallel-item {display: flex;flex-direction: column;z-index: 1;position: relative;background-color: white;}#sk-container-id-4 div.sk-parallel-item:first-child::after {align-self: flex-end;width: 50%;}#sk-container-id-4 div.sk-parallel-item:last-child::after {align-self: flex-start;width: 50%;}#sk-container-id-4 div.sk-parallel-item:only-child::after {width: 0;}#sk-container-id-4 div.sk-dashed-wrapped {border: 1px dashed gray;margin: 0 0.4em 0.5em 0.4em;box-sizing: border-box;padding-bottom: 0.4em;background-color: white;}#sk-container-id-4 div.sk-label label {font-family: monospace;font-weight: bold;display: inline-block;line-height: 1.2em;}#sk-container-id-4 div.sk-label-container {text-align: center;}#sk-container-id-4 div.sk-container {/* jupyter's `normalize.less` sets `[hidden] { display: none; }` but bootstrap.min.css set `[hidden] { display: none !important; }` so we also need the `!important` here to be able to override the default hidden behavior on the sphinx rendered scikit-learn.org. See: https://github.com/scikit-learn/scikit-learn/issues/21755 */display: inline-block !important;position: relative;}#sk-container-id-4 div.sk-text-repr-fallback {display: none;}</style><div id=\"sk-container-id-4\" class=\"sk-top-container\"><div class=\"sk-text-repr-fallback\"><pre>SINDy(differentiation_method=FiniteDifference(),\n",
       "      feature_library=&lt;pysindy.feature_library.generalized_library.GeneralizedLibrary object at 0x0000027174A7ADC0&gt;,\n",
       "      feature_names=[&#x27;x0&#x27;, &#x27;x1&#x27;],\n",
       "      optimizer=SINDyPI(max_iter=40000, model_subset=range(0, 16), tol=1e-08))</pre><b>In a Jupyter environment, please rerun this cell to show the HTML representation or trust the notebook. <br />On GitHub, the HTML representation is unable to render, please try loading this page with nbviewer.org.</b></div><div class=\"sk-container\" hidden><div class=\"sk-item sk-dashed-wrapped\"><div class=\"sk-label-container\"><div class=\"sk-label sk-toggleable\"><input class=\"sk-toggleable__control sk-hidden--visually\" id=\"sk-estimator-id-10\" type=\"checkbox\" ><label for=\"sk-estimator-id-10\" class=\"sk-toggleable__label sk-toggleable__label-arrow\">SINDy</label><div class=\"sk-toggleable__content\"><pre>SINDy(differentiation_method=FiniteDifference(),\n",
       "      feature_library=&lt;pysindy.feature_library.generalized_library.GeneralizedLibrary object at 0x0000027174A7ADC0&gt;,\n",
       "      feature_names=[&#x27;x0&#x27;, &#x27;x1&#x27;],\n",
       "      optimizer=SINDyPI(max_iter=40000, model_subset=range(0, 16), tol=1e-08))</pre></div></div></div><div class=\"sk-parallel\"><div class=\"sk-parallel-item\"><div class=\"sk-item\"><div class=\"sk-label-container\"><div class=\"sk-label sk-toggleable\"><input class=\"sk-toggleable__control sk-hidden--visually\" id=\"sk-estimator-id-11\" type=\"checkbox\" ><label for=\"sk-estimator-id-11\" class=\"sk-toggleable__label sk-toggleable__label-arrow\">optimizer: SINDyPI</label><div class=\"sk-toggleable__content\"><pre>SINDyPI(max_iter=40000, model_subset=range(0, 16), tol=1e-08)</pre></div></div></div><div class=\"sk-serial\"><div class=\"sk-item\"><div class=\"sk-estimator sk-toggleable\"><input class=\"sk-toggleable__control sk-hidden--visually\" id=\"sk-estimator-id-12\" type=\"checkbox\" ><label for=\"sk-estimator-id-12\" class=\"sk-toggleable__label sk-toggleable__label-arrow\">SINDyPI</label><div class=\"sk-toggleable__content\"><pre>SINDyPI(max_iter=40000, model_subset=range(0, 16), tol=1e-08)</pre></div></div></div></div></div></div></div></div></div></div>"
      ],
      "text/plain": [
       "SINDy(differentiation_method=FiniteDifference(),\n",
       "      feature_library=<pysindy.feature_library.generalized_library.GeneralizedLibrary object at 0x0000027174A7ADC0>,\n",
       "      feature_names=['x0', 'x1'],\n",
       "      optimizer=SINDyPI(max_iter=40000, model_subset=range(0, 16), tol=1e-08))"
      ]
     },
     "execution_count": 107,
     "metadata": {},
     "output_type": "execute_result"
    }
   ],
   "source": [
    "# getting u_dot w/ generalized lib\n",
    "# Initialize the inputs\n",
    "inputs_u_temp = np.tile([0, 1], 3)\n",
    "inputs_per_u_library = np.reshape(inputs_u_temp, (3, 2))\n",
    "inputs_per_u_library[2, 1] = 0\n",
    "\n",
    "generalized_library = ps.GeneralizedLibrary(\n",
    "    [constant_library, custom_library, sindy_library],\n",
    "    tensor_array=[[0,1,1]],\n",
    "    inputs_per_library=inputs_per_u_library\n",
    ")\n",
    "\n",
    "# Issue running multiple_traj. with generalized_library\n",
    "u_model = ps.SINDy(feature_library=generalized_library,\n",
    "                 optimizer=sindy_opt,\n",
    "                 differentiation_method=ps.FiniteDifference(drop_endpoints=False),\n",
    "                )\n",
    "\n",
    "u_model.fit(netswitch_train_multi, t=t, multiple_trajectories=True)\n",
    "#u_model.fit(netswitch_train, t=dt, multiple_trajectories=False)\n",
    "\n",
    "# lhs= gets the function names since print() will miss the fact that we're using SINDyPI\n",
    "#u_model.print(lhs=u_model.get_feature_names())\n",
    "#generalized_library.get_feature_names()\n",
    "#u_model.get_feature_names()"
   ]
  },
  {
   "cell_type": "markdown",
   "id": "1466218c",
   "metadata": {},
   "source": [
    "### Now we need to reformat all the feature strings for conversion into symbolic variables\n",
    "So we have all these nice models but these are implicit ODEs, and the default Python solvers (solve_ivp and odeint) cannot solve implicit ODEs. There are two options although we only illustrate the first option below; we must convert the equations into symbolic variables and then either (1) use SymPy to symbolically solve the equation for $\\dot{x}$, after which the equation is no longer implicit and can be solved with the default Python solves, or (2) convert the equations into a symbolic differential algebraic equation (DAE), which can be numerically solved with the diffeqpy Python package (but requires Julia to be installed). "
   ]
  },
  {
   "cell_type": "code",
   "execution_count": 108,
   "id": "9debf9f5",
   "metadata": {},
   "outputs": [
    {
     "name": "stdout",
     "output_type": "stream",
     "text": [
      "['1', 'x0', 'x1', 'x0x1', 'x0x0', 'x1x1', 'x0x1x1', 'x0x0x1', 'x0_dot', 'x0x0_dot', 'x1x0_dot', 'x0x1x0_dot', 'x0x0x0_dot', 'x1x1x0_dot', 'x0x1x1x0_dot', 'x0x0x1x0_dot']\n",
      "['1', 'x0', 'x1', 'x0 * x1', 'x0 * x0', 'x1 * x1', 'x0 * x1 * x1', 'x0 * x0 * x1', 'x0_dot', 'x0 * x0_dot', 'x1 * x0_dot', 'x0 * x1 * x0_dot', 'x0 * x0 * x0_dot', 'x1 * x1 * x0_dot', 'x0 * x1 * x1 * x0_dot', 'x0 * x0 * x1 * x0_dot']\n",
      "[1, x0, x1, x0x1, x0x0, x1x1, x0x1x1, x0x0x1, x0_dot, x0x0_dot, x1x0_dot, x0x1x0_dot, x0x0x0_dot, x1x1x0_dot, x0x1x1x0_dot, x0x0x1x0_dot]\n"
     ]
    }
   ],
   "source": [
    "u_features = u_model.get_feature_names()\n",
    "u_features_copy = list(np.copy(u_features))\n",
    "u_nfeatures = len(u_features)\n",
    "u_features_formatted = []\n",
    "# Need to put multiplication between terms for sympy\n",
    "for i in range(u_nfeatures):\n",
    "    for j in range(r):\n",
    "        # Overkill to make sure all the x0, x1, etc. get replaced\n",
    "        temp_string = u_features[i].replace(\"x\" + str(j) + \"x\", \"x\" + str(j) + \" * x\")\n",
    "        temp_string = temp_string.replace(\"x\" + str(j) + \"x\", \"x\" + str(j) + \" * x\")\n",
    "        temp_string = temp_string.replace(\"x\" + str(j) + \"x\", \"x\" + str(j) + \" * x\")\n",
    "        temp_string = temp_string.replace(\"x\" + str(j) + \"x\", \"x\" + str(j) + \" * x\")\n",
    "        temp_string = temp_string.replace(\"x\" + str(j) + \" x\", \"x\" + str(j) + \" * x\")\n",
    "        temp_string = temp_string.replace(\"x\" + str(j) + \" x\", \"x\" + str(j) + \" * x\")\n",
    "        u_features[i] = temp_string\n",
    "    u_features_formatted.append(temp_string)\n",
    "u_features = u_features_copy\n",
    "for i in range(u_nfeatures):\n",
    "    temp_string = u_features[i].replace(\" \", \"\")\n",
    "    u_features[i] = temp_string\n",
    "\n",
    "print(u_features)\n",
    "print(u_features_formatted)\n",
    "u_coefs = u_model.coefficients()\n",
    "u_sym_features = [sp.symbols(feature) for feature in u_features]\n",
    "u_sym_theta = [sp.symbols(feature) for feature in u_features]\n",
    "print(u_sym_theta)"
   ]
  },
  {
   "cell_type": "code",
   "execution_count": 109,
   "id": "dbe20282",
   "metadata": {},
   "outputs": [],
   "source": [
    "u_sym_equations = []\n",
    "u_sym_equations_rounded = []\n",
    "for i in range(u_nfeatures):\n",
    "    u_sym_equations.append(\n",
    "        sp.solve(\n",
    "            sp.Eq(u_sym_theta[i], u_sym_theta @ np.around(u_coefs[i], 10)), u_sym_features[i]\n",
    "        )\n",
    "    )\n",
    "    u_sym_equations_rounded.append(\n",
    "        sp.solve(\n",
    "            sp.Eq(u_sym_theta[i], u_sym_theta @ np.around(u_coefs[i], 2)), u_sym_features[i]\n",
    "        )\n",
    "    )\n",
    "    #print(u_sym_theta[i], \" = \", u_sym_equations_rounded[i][0])"
   ]
  },
  {
   "cell_type": "markdown",
   "id": "6e7787c5",
   "metadata": {},
   "source": [
    "### Formatting equations into $\\dot{u}=f(u, v)$ form"
   ]
  },
  {
   "cell_type": "code",
   "execution_count": 110,
   "id": "1d3295da",
   "metadata": {},
   "outputs": [
    {
     "name": "stdout",
     "output_type": "stream",
     "text": [
      "(x0_dot, x1_dot)\n",
      "0\n",
      "1\n",
      "2\n",
      "3\n",
      "4\n",
      "5\n",
      "6\n",
      "7\n",
      "8\n",
      "9\n",
      "10\n",
      "11\n",
      "12\n",
      "13\n",
      "14\n",
      "15\n"
     ]
    }
   ],
   "source": [
    "# Define the ODE symbol variables\n",
    "t_sym = sp.symbols(\"t_sym\")\n",
    "x_sym = sp.symbols(\"x:%d\" % r)\n",
    "x_dot_sym = sp.symbols(\"x:%d_dot\" % r)\n",
    "print(x_dot_sym)\n",
    "# Need to format the above equations so that there are space between x0 * x0, x0 * x_dot0, and so on.\n",
    "u_sym_equations_formatted = []\n",
    "u_sym_equations_rounded_formatted = []\n",
    "for i in range(u_nfeatures):\n",
    "    temp_string = str(u_sym_equations[i])\n",
    "    temp_rounded_string = str(u_sym_equations_rounded[i])\n",
    "    for j in range(r):\n",
    "        # Overkill to make sure all the x0, x1, etc. get replaced\n",
    "        temp_string = temp_string.replace(\n",
    "            \"x\" + str(j) + \"x\", \"x\" + str(j) + \" * x\"\n",
    "        )\n",
    "        temp_string = temp_string.replace(\"x\" + str(j) + \"x\", \"x\" + str(j) + \" * x\")\n",
    "        temp_string = temp_string.replace(\"x\" + str(j) + \"x\", \"x\" + str(j) + \" * x\")\n",
    "        temp_string = temp_string.replace(\"x\" + str(j) + \"x\", \"x\" + str(j) + \" * x\")\n",
    "        temp_string = temp_string.replace(\"x\" + str(j) + \"x\", \"x\" + str(j) + \" * x\")\n",
    "\n",
    "        temp_rounded_string = temp_rounded_string.replace(\n",
    "            \"x\" + str(j) + \"x\", \"x\" + str(j) + \" * x\"\n",
    "        )\n",
    "        temp_rounded_string = temp_rounded_string.replace(\n",
    "            \"x\" + str(j) + \"x\", \"x\" + str(j) + \" * x\"\n",
    "        )\n",
    "        temp_rounded_string = temp_rounded_string.replace(\n",
    "            \"x\" + str(j) + \"x\", \"x\" + str(j) + \" * x\"\n",
    "        )\n",
    "        temp_rounded_string = temp_rounded_string.replace(\n",
    "            \"x\" + str(j) + \"x\", \"x\" + str(j) + \" * x\"\n",
    "        )\n",
    "        temp_rounded_string = temp_rounded_string.replace(\n",
    "            \"x\" + str(j) + \"x\", \"x\" + str(j) + \" * x\"\n",
    "        )\n",
    "    u_sym_equations_formatted.append(temp_string)\n",
    "    u_sym_equations_rounded_formatted.append(temp_rounded_string)\n",
    "# Now that the equations are mathematically formatted, \n",
    "# solve for x_dot0 in the algebraic equation.\n",
    "u_sym_equations_simplified = []\n",
    "u_sym_equations_rounded_simplified = []\n",
    "for i in range(u_nfeatures):\n",
    "    print(i)\n",
    "    u_sym_equations_simplified.append(\n",
    "        sp.factor(sp.solve(\n",
    "            sp.Add(\n",
    "                sp.sympify(u_sym_equations_formatted)[i][0],\n",
    "                -sp.sympify(u_features_formatted[i]),\n",
    "            ),\n",
    "            x_dot_sym[0],\n",
    "        ))\n",
    "    )\n",
    "    rounded = sp.factor(sp.solve(\n",
    "        sp.Add(\n",
    "            sp.sympify(u_sym_equations_rounded_formatted)[i][0],\n",
    "            -sp.sympify(u_features_formatted[i]),\n",
    "        ),\n",
    "        x_dot_sym[0],\n",
    "    ))\n",
    "    if len(rounded) != 0:\n",
    "        rounded_temp = rounded[0]\n",
    "        for a in sp.preorder_traversal(rounded):\n",
    "            if isinstance(a, sp.Float):\n",
    "                rounded_temp = rounded_temp.subs(a, round(a, 2))\n",
    "        u_sym_equations_rounded_simplified.append(rounded_temp)\n",
    "    else:\n",
    "        u_sym_equations_rounded_simplified.append([])\n"
   ]
  },
  {
   "cell_type": "markdown",
   "id": "d4663548",
   "metadata": {},
   "source": [
    "### Lazy copy+paste format for vdot\n",
    "should find a way to iterate over \\[udot vdot\\] list"
   ]
  },
  {
   "cell_type": "code",
   "execution_count": 111,
   "id": "9f9b8efe",
   "metadata": {},
   "outputs": [
    {
     "name": "stdout",
     "output_type": "stream",
     "text": [
      "Model  0\n",
      "Model  1\n",
      "Model  2\n",
      "Model  3\n",
      "Model  4\n",
      "Model  5\n",
      "Model  6\n",
      "Model  7\n",
      "Model  8\n",
      "Model  9\n",
      "Model  10\n",
      "Model  11\n",
      "Model  12\n",
      "Model  13\n"
     ]
    },
    {
     "name": "stderr",
     "output_type": "stream",
     "text": [
      "C:\\Users\\UserALai\\miniconda3\\lib\\site-packages\\cvxpy\\problems\\problem.py:1337: UserWarning: Solution may be inaccurate. Try another solver, adjusting the solver settings, or solve with verbose=True for more information.\n",
      "  warnings.warn(\n"
     ]
    },
    {
     "name": "stdout",
     "output_type": "stream",
     "text": [
      "Model  14\n",
      "Model  15\n",
      "1 = 0.234 x0 + 1.068 x1 + 0.061 x0x1 + -0.039 x0x0 + -0.130 x1x1 + -0.064 x0x1x1 + 0.577 x0x0x1 + 0.874 x1_dot + 0.170 x0 x1_dot + -0.120 x1 x1_dot + -0.071 x0x1 x1_dot + 0.555 x0x0 x1_dot + -0.001 x1x1 x1_dot + 0.002 x0x0x1 x1_dot\n",
      "x0 = 1.599 1 + -2.000 x1 + -0.134 x0x1 + 0.171 x0x0 + 0.629 x1x1 + 0.249 x0x1x1 + 0.150 x0x0x1 + -1.143 x1_dot + -0.644 x0 x1_dot + 0.608 x1 x1_dot + 0.272 x0x1 x1_dot + 0.251 x0x0 x1_dot + -0.001 x1x1 x1_dot + 0.003 x0x1x1 x1_dot + -0.011 x0x0x1 x1_dot\n",
      "x1 = 0.846 1 + -0.279 x0 + -0.010 x0x1 + 0.047 x0x0 + 0.206 x1x1 + 0.076 x0x1x1 + -0.360 x0x0x1 + -0.724 x1_dot + -0.166 x0 x1_dot + 0.193 x1 x1_dot + 0.085 x0x1 x1_dot + -0.331 x0x0 x1_dot + 0.001 x1x1 x1_dot + -0.003 x0x0x1 x1_dot\n",
      "x0x1 = 0.589 1 + -0.172 x0 + -0.242 x1 + -0.048 x1x1 + 0.351 x0x1x1 + 0.225 x0x0x1 + -0.160 x1_dot + -0.959 x0 x1_dot + 0.339 x0x1 x1_dot + 0.208 x0x0 x1_dot + -0.012 x1x1 x1_dot + 0.003 x0x1x1 x1_dot + 0.001 x0x0x1 x1_dot\n",
      "x0x0 = -9.969 1 + 5.772 x0 + 12.314 x1 + 0.612 x0x1 + -3.625 x1x1 + -1.392 x0x1x1 + 7.400 x1_dot + 3.567 x0 x1_dot + -3.508 x1 x1_dot + -1.522 x0x1 x1_dot + -0.594 x0x0 x1_dot + 0.007 x1x1 x1_dot + -0.016 x0x1x1 x1_dot + 0.064 x0x0x1 x1_dot\n",
      "x1x1 = -1.781 1 + 1.146 x0 + 2.581 x1 + 0.023 x0x1 + -0.189 x0x0 + -0.376 x0x1x1 + -0.255 x0x0x1 + 1.290 x1_dot + 0.742 x0 x1_dot + -0.960 x1 x1_dot + -0.410 x0x1 x1_dot + -0.383 x0x0 x1_dot + -0.002 x1x1 x1_dot + -0.002 x0x1x1 x1_dot + 0.012 x0x0x1 x1_dot\n",
      "x0x1x1 = -3.472 1 + 1.682 x0 + 4.244 x1 + 1.146 x0x1 + -0.245 x0x0 + -1.335 x1x1 + -0.104 x0x0x1 + 2.311 x1_dot + 2.090 x0 x1_dot + -1.321 x1 x1_dot + -1.040 x0x1 x1_dot + -0.256 x0x0 x1_dot + 0.010 x1x1 x1_dot + -0.005 x0x1x1 x1_dot + 0.015 x0x0x1 x1_dot\n",
      "x0x0x1 = 0.902 1 + 0.058 x0 + -0.869 x1 + -0.010 x0x0 + -0.044 x1x1 + -0.007 x0x1x1 + -0.906 x1_dot + 0.031 x0 x1_dot + -0.054 x1 x1_dot + -0.005 x0x1 x1_dot + -1.006 x0x0 x1_dot + 0.002 x1x1 x1_dot + -0.001 x0x1x1 x1_dot\n",
      "x1_dot = 1.036 1 + -0.138 x0 + -1.085 x1 + 0.024 x0x0 + 0.071 x1x1 + 0.021 x0x1x1 + -0.805 x0x0x1 + -0.049 x0 x1_dot + 0.071 x1 x1_dot + 0.021 x0x1 x1_dot + -0.794 x0x0 x1_dot + -0.001 x0x0x1 x1_dot\n",
      "x0 x1_dot = 1.372 1 + -0.737 x0 + -1.519 x1 + -0.624 x0x1 + 0.107 x0x0 + 0.456 x1x1 + 0.392 x0x1x1 + 0.218 x0x0x1 + -0.783 x1_dot + 0.444 x1 x1_dot + 0.414 x0x1 x1_dot + 0.281 x0x0 x1_dot + -0.004 x1x1 x1_dot + 0.002 x0x1x1 x1_dot + -0.008 x0x0x1 x1_dot\n",
      "x1 x1_dot = -1.702 1 + 1.150 x0 + 2.494 x1 + 0.067 x0x1 + -0.190 x0x0 + -0.997 x1x1 + -0.387 x0x1x1 + -0.361 x0x0x1 + 1.271 x1_dot + 0.751 x0 x1_dot + -0.404 x0x1 x1_dot + -0.486 x0x0 x1_dot + 0.005 x1x1 x1_dot + -0.004 x0x1x1 x1_dot + 0.011 x0x0x1 x1_dot\n",
      "x0x1 x1_dot = -3.390 1 + 1.640 x0 + 4.160 x1 + 1.016 x0x1 + -0.241 x0x0 + -1.306 x1x1 + -0.937 x0x1x1 + -0.040 x0x0x1 + 2.202 x1_dot + 1.990 x0 x1_dot + -1.241 x1 x1_dot + -0.196 x0x0 x1_dot + 0.002 x1x1 x1_dot + -0.002 x0x1x1 x1_dot + 0.017 x0x0x1 x1_dot\n",
      "x0x0 x1_dot = 0.811 1 + 0.105 x0 + -0.754 x1 + -0.018 x0x0 + -0.077 x1x1 + -0.018 x0x1x1 + -0.988 x0x0x1 + -0.837 x1_dot + 0.058 x0 x1_dot + -0.085 x1 x1_dot + -0.018 x0x1 x1_dot + 0.001 x1x1 x1_dot + -0.001 x0x1x1 x1_dot + 0.001 x0x0x1 x1_dot\n",
      "x1x1 x1_dot = -3.898 1 + -3.165 x0 + 7.360 x1 + -10.440 x0x1 + 0.482 x0x0 + -0.739 x1x1 + 3.290 x0x1x1 + 13.408 x0x0x1 + -6.900 x0 x1_dot + 5.183 x1 x1_dot + 1.058 x0x1 x1_dot + 13.321 x0x0 x1_dot + 0.347 x0x1x1 x1_dot + 0.023 x0x0x1 x1_dot\n",
      "x0x1x1 x1_dot = -44.614 1 + 34.183 x0 + 48.710 x1 + 18.475 x0x1 + -6.235 x0x0 + -14.870 x1x1 + -10.842 x0x1x1 + -18.114 x0x0x1 + 40.773 x1_dot + 26.114 x0 x1_dot + -25.837 x1 x1_dot + -6.482 x0x1 x1_dot + -21.683 x0x0 x1_dot + 2.011 x1x1 x1_dot + 0.518 x0x0x1 x1_dot\n",
      "x0x0x1 x1_dot = 104.546 1 + -58.949 x0 + -128.118 x1 + -4.910 x0x1 + 10.433 x0x0 + 37.396 x1x1 + 14.610 x0x1x1 + -4.643 x0x0x1 + -72.224 x1_dot + -39.951 x0 x1_dot + 34.305 x1 x1_dot + 17.125 x0x1 x1_dot + 2.642 x0x0 x1_dot + 0.058 x1x1 x1_dot + 0.220 x0x1x1 x1_dot\n",
      "(x0_dot, x1_dot)\n",
      "0\n",
      "1\n",
      "2\n",
      "3\n",
      "4\n",
      "5\n",
      "6\n",
      "7\n",
      "8\n",
      "9\n",
      "10\n",
      "11\n",
      "12\n",
      "13\n",
      "14\n",
      "15\n"
     ]
    }
   ],
   "source": [
    "# getting v_dot w/ generalized lib\n",
    "# Initialize the inputs\n",
    "inputs_v_temp = np.tile([0, 1], 3)\n",
    "inputs_per_v_library = np.reshape(inputs_v_temp, (3, 2))\n",
    "inputs_per_v_library[2, 0] = 1\n",
    "\n",
    "generalized_library = ps.GeneralizedLibrary(\n",
    "    [constant_library, custom_library, sindy_library],\n",
    "    tensor_array=[[0,1,1]],\n",
    "    inputs_per_library=inputs_per_v_library\n",
    ")\n",
    "# Issue running multiple_traj. with generalized_library\n",
    "v_model = ps.SINDy(feature_library=generalized_library,\n",
    "                 optimizer=sindy_opt,\n",
    "                 differentiation_method=ps.FiniteDifference(drop_endpoints=False),\n",
    "                )\n",
    "\n",
    "v_model.fit(netswitch_train_multi, t=dt, multiple_trajectories=True)\n",
    "#v_model.fit(netswitch_train, t=dt, multiple_trajectories=False)\n",
    "\n",
    "# lhs= gets the function names since print() will miss the fact that we're using SINDyPI\n",
    "v_model.print(lhs=v_model.get_feature_names())\n",
    "generalized_library.get_feature_names()\n",
    "v_model.get_feature_names()\n",
    "\n",
    "v_features = v_model.get_feature_names()\n",
    "#features[0] = \"1\"\n",
    "v_features_copy = list(np.copy(v_features))\n",
    "v_nfeatures = len(v_features)\n",
    "v_features_formatted = []\n",
    "# Need to put multiplication between terms for sympy\n",
    "for i in range(v_nfeatures):\n",
    "    for j in range(r):\n",
    "        # Overkill to make sure all the x0, x1, etc. get replaced\n",
    "        temp_string = v_features[i].replace(\"x\" + str(j) + \"x\", \"x\" + str(j) + \" * x\")\n",
    "        temp_string = temp_string.replace(\"x\" + str(j) + \"x\", \"x\" + str(j) + \" * x\")\n",
    "        temp_string = temp_string.replace(\"x\" + str(j) + \"x\", \"x\" + str(j) + \" * x\")\n",
    "        temp_string = temp_string.replace(\"x\" + str(j) + \"x\", \"x\" + str(j) + \" * x\")\n",
    "        temp_string = temp_string.replace(\"x\" + str(j) + \" x\", \"x\" + str(j) + \" * x\")\n",
    "        temp_string = temp_string.replace(\"x\" + str(j) + \" x\", \"x\" + str(j) + \" * x\")\n",
    "        v_features[i] = temp_string\n",
    "    v_features_formatted.append(temp_string)\n",
    "v_features = v_features_copy\n",
    "for i in range(v_nfeatures):\n",
    "    temp_string = v_features[i].replace(\" \", \"\")\n",
    "    v_features[i] = temp_string\n",
    "\n",
    "v_coefs = v_model.coefficients()\n",
    "v_sym_features = [sp.symbols(feature) for feature in v_features]\n",
    "v_sym_theta = [sp.symbols(feature) for feature in v_features]\n",
    "#print(v_sym_theta)\n",
    "\n",
    "v_sym_equations = []\n",
    "v_sym_equations_rounded = []\n",
    "for i in range(v_nfeatures):\n",
    "    v_sym_equations.append(\n",
    "        sp.solve(\n",
    "            sp.Eq(v_sym_theta[i], v_sym_theta @ np.around(v_coefs[i], 10)), v_sym_features[i]\n",
    "        )\n",
    "    )\n",
    "    v_sym_equations_rounded.append(\n",
    "        sp.solve(\n",
    "            sp.Eq(v_sym_theta[i], v_sym_theta @ np.around(v_coefs[i], 2)), v_sym_features[i]\n",
    "        )\n",
    "    )\n",
    "    #print(v_sym_theta[i], \" = \", v_sym_equations_rounded[i][0])\n",
    "    \n",
    "# Define the ODE symbol variables\n",
    "t_sym = sp.symbols(\"t_sym\")\n",
    "x_sym = sp.symbols(\"x:%d\" % r)\n",
    "x_dot_sym = sp.symbols(\"x:%d_dot\" % r)\n",
    "print(x_dot_sym)\n",
    "# Need to format the above equations so that there are space between x0 * x0, x0 * x_dot0, and so on.\n",
    "v_sym_equations_formatted = []\n",
    "v_sym_equations_rounded_formatted = []\n",
    "for i in range(v_nfeatures):\n",
    "    temp_string = str(v_sym_equations[i])\n",
    "    temp_rounded_string = str(v_sym_equations_rounded[i])\n",
    "    for j in range(r):\n",
    "        # Overkill to make sure all the x0, x1, etc. get replaced\n",
    "        temp_string = temp_string.replace(\n",
    "            \"x\" + str(j) + \"x\", \"x\" + str(j) + \" * x\"\n",
    "        )\n",
    "        temp_string = temp_string.replace(\"x\" + str(j) + \"x\", \"x\" + str(j) + \" * x\")\n",
    "        temp_string = temp_string.replace(\"x\" + str(j) + \"x\", \"x\" + str(j) + \" * x\")\n",
    "        temp_string = temp_string.replace(\"x\" + str(j) + \"x\", \"x\" + str(j) + \" * x\")\n",
    "        temp_string = temp_string.replace(\"x\" + str(j) + \"x\", \"x\" + str(j) + \" * x\")\n",
    "\n",
    "        temp_rounded_string = temp_rounded_string.replace(\n",
    "            \"x\" + str(j) + \"x\", \"x\" + str(j) + \" * x\"\n",
    "        )\n",
    "        temp_rounded_string = temp_rounded_string.replace(\n",
    "            \"x\" + str(j) + \"x\", \"x\" + str(j) + \" * x\"\n",
    "        )\n",
    "        temp_rounded_string = temp_rounded_string.replace(\n",
    "            \"x\" + str(j) + \"x\", \"x\" + str(j) + \" * x\"\n",
    "        )\n",
    "        temp_rounded_string = temp_rounded_string.replace(\n",
    "            \"x\" + str(j) + \"x\", \"x\" + str(j) + \" * x\"\n",
    "        )\n",
    "        temp_rounded_string = temp_rounded_string.replace(\n",
    "            \"x\" + str(j) + \"x\", \"x\" + str(j) + \" * x\"\n",
    "        )\n",
    "    v_sym_equations_formatted.append(temp_string)\n",
    "    v_sym_equations_rounded_formatted.append(temp_rounded_string)\n",
    "# Now that the equations are mathematically formatted, \n",
    "# solve for x_dot0 in the algebraic equation.\n",
    "v_sym_equations_simplified = []\n",
    "v_sym_equations_rounded_simplified = []\n",
    "for i in range(v_nfeatures):\n",
    "    print(i)\n",
    "    v_sym_equations_simplified.append(\n",
    "        sp.factor(sp.solve(\n",
    "            sp.Add(\n",
    "                sp.sympify(v_sym_equations_formatted)[i][0],\n",
    "                -sp.sympify(v_features_formatted[i]),\n",
    "            ),\n",
    "            x_dot_sym[1],\n",
    "        ))\n",
    "    )\n",
    "    rounded = sp.factor(sp.solve(\n",
    "        sp.Add(\n",
    "            sp.sympify(v_sym_equations_rounded_formatted)[i][0],\n",
    "            -sp.sympify(v_features_formatted[i]),\n",
    "        ),\n",
    "        x_dot_sym[1],\n",
    "    ))\n",
    "    if len(rounded) != 0:\n",
    "        rounded_temp = rounded[0]\n",
    "        for a in sp.preorder_traversal(rounded):\n",
    "            if isinstance(a, sp.Float):\n",
    "                rounded_temp = rounded_temp.subs(a, round(a, 2))\n",
    "        v_sym_equations_rounded_simplified.append(rounded_temp)\n",
    "    else:\n",
    "        v_sym_equations_rounded_simplified.append([])\n"
   ]
  },
  {
   "cell_type": "markdown",
   "id": "4e45873a",
   "metadata": {},
   "source": [
    "### x_test isolated for reproducibility."
   ]
  },
  {
   "cell_type": "code",
   "execution_count": 112,
   "id": "8ce01b5e",
   "metadata": {},
   "outputs": [
    {
     "data": {
      "text/plain": [
       "array([0.01244733, 2.4607972 ])"
      ]
     },
     "execution_count": 112,
     "metadata": {},
     "output_type": "execute_result"
    }
   ],
   "source": [
    "x0_test = np.random.rand(r) * 5\n",
    "x0_test"
   ]
  },
  {
   "cell_type": "markdown",
   "id": "1f8e059f",
   "metadata": {},
   "source": [
    "### Graphing of test simulation"
   ]
  },
  {
   "cell_type": "code",
   "execution_count": 113,
   "id": "9a883a39",
   "metadata": {},
   "outputs": [
    {
     "data": {
      "image/png": "[encoded data removed]",
      "text/plain": [
       "<Figure size 1152x720 with 1 Axes>"
      ]
     },
     "metadata": {
      "needs_background": "light"
     },
     "output_type": "display_data"
    }
   ],
   "source": [
    "a, b = 2, 1\n",
    "beta, gamma = 2, 2\n",
    "dudt = lambda u, v: -u + (a / (1+v**beta))\n",
    "dvdt = lambda u, v: -v + (b / (1+u**gamma))\n",
    "netswitch = lambda t, x: np.array([dudt(x[0], x[1]),\n",
    "                                   dvdt(x[0], x[1])\n",
    "                                  ])\n",
    "x_test = solve_ivp(netswitch, t_span, x0_test, t_eval=t).y.T\n",
    "# Plot the results for each of the models\n",
    "plt.figure(figsize=(16, 10))\n",
    "plt.plot(t, x_test, color=\"k\", linestyle=\"solid\", label=\"True\")\n",
    "for i in range(u_nfeatures):\n",
    "    ax = plt.gca()\n",
    "    #if i != nfeatures - 1:\n",
    "        #ax.set_xticklabels([])\n",
    "    if len(u_sym_equations_simplified[i]) != 0:\n",
    "        # ODE og code\n",
    "        #ODE_Func1 = sp.lambdify([t_sym, x_sym], u_sym_equations_simplified[i][0])\n",
    "        ODE_Func2 = lambda t, x: np.array([sp.lambdify(x_sym, u_sym_equations_simplified[i][0])(x[0], x[1]),\n",
    "                                           sp.lambdify(x_sym, v_sym_equations_simplified[i][0])(x[0], x[1])\n",
    "                                         ])\n",
    "        #print(f\"ODE_Func1: {type(ODE_Func1)} \\nODE_Func2: {type(ODE_Func2)}\")\n",
    "        #print((x_sym))\n",
    "        # Now simulate the system we identified\n",
    "        x_test_sim = solve_ivp(ODE_Func2, t_span, x0_test, t_eval=t).y.T\n",
    "        if (\n",
    "            np.linalg.norm(x_test_sim) < 1e3\n",
    "            and u_sym_equations_rounded_simplified[i] != 0\n",
    "        ):\n",
    "            plt.plot(\n",
    "                t,\n",
    "                x_test_sim,\n",
    "                linestyle=\"dashed\",\n",
    "                label=str(sp.sympify(u_features_formatted[i]))\n",
    "                + \" = \"\n",
    "                + str(u_sym_equations_rounded_simplified[i]),\n",
    "            )\n",
    "plt.grid(True)\n",
    "#ax.set_ylim([0, 2])\n",
    "#plt.legend(fontsize=8)"
   ]
  },
  {
   "cell_type": "code",
   "execution_count": 49,
   "id": "5b538545",
   "metadata": {
    "scrolled": true
   },
   "outputs": [
    {
     "name": "stdout",
     "output_type": "stream",
     "text": [
      "16\n",
      "[[-1.13798359509877*(0.712322435937586*x0**2*x1 - 0.0161116494021919*x0**2 - 0.062470053171709*x0*x1**2 + 0.0951508782140137*x0*x1 + 0.120458669494972*x0 - 0.0712742465314895*x1**2 + 1.0*x1 - 0.975195721578968)/(0.000840018595749675*x0**2*x1 + 0.80171065992977*x0**2 + 0.000219061984003001*x0*x1**2 - 0.0762235736334163*x0*x1 + 0.170095312289346*x0 - 0.000884250835717567*x1**2 - 0.0715315975180668*x1 + 1.0)], [1.7288602056046*(0.0143818941051701*x0**2*x1 + 0.0582860155653637*x0**2 + 0.190889685716383*x0*x1**2 - 0.241231719714099*x0*x1 - 0.410590981626382*x0 + 0.293782236788246*x1**2 - 1.0*x1 + 0.841753797742273)/(0.00589714268888707*x0**2*x1 - 0.0853264252810417*x0**2 - 0.00191425529819048*x0*x1**2 - 0.346105131911791*x0*x1 + 0.792799809445264*x0 + 0.00373977332939663*x1**2 - 0.503334588113393*x1 + 1.0)], [-1.20025644463145*(0.615922273176816*x0**2*x1 - 0.0201104295959779*x0**2 - 0.0726738748854652*x0*x1**2 + 0.070820084885836*x0*x1 + 0.14645245987071*x0 - 0.118788506076242*x1**2 + 1.0*x1 - 0.921414910615717)/(0.00107342786645109*x0**2*x1 + 0.725241357617986*x0**2 - 3.02513834500852e-5*x0*x1**2 - 0.0917841776638313*x0*x1 + 0.179610408520663*x0 - 0.00031531144881353*x1**2 - 0.135950971732718*x1 + 1.0)], [1.11591919326643*(0.0220762827843835*x0**2*x1 + 0.0392583400514324*x0**2 + 0.349049969382015*x0*x1**2 - 0.756184387335888*x0*x1 - 0.365100574643489*x0 + 0.151361484721633*x1**2 - 0.877484998778016*x1 + 1.0)/(0.00180900386060297*x0**2*x1 - 0.0403487490276969*x0**2 + 0.000417857327330958*x0*x1**2 - 0.405341617673643*x0*x1 + 1.0*x0 + 0.000825546712105877*x1**2 - 0.15483161796583*x1 + 0.556178908479225)], [-1.69161242027774*(5.78568498394914e-10*x0**2*x1 - 0.061549840297863*x0**2 - 0.173950718871135*x0*x1**2 + 0.200345936553891*x0*x1 + 0.414868663631974*x0 - 0.293305087625068*x1**2 + 1.0*x1 - 0.833893978977818)/(0.00689831453628927*x0**2*x1 - 0.0649361351095006*x0**2 - 0.00306665132580764*x0*x1**2 - 0.306109261465811*x0*x1 + 0.710934754308391*x0 + 0.00546953443640195*x1**2 - 0.500633181200888*x1 + 1.0)], [2.01892865713678*(0.0977881836127978*x0**2*x1 + 0.0533451911839298*x0**2 + 0.204712387571797*x0*x1**2 - 0.139566349221947*x0*x1 - 0.383549908054772*x0 + 0.394362505025244*x1**2 - 1.0*x1 + 0.696157579907966)/(0.00591636255734904*x0**2*x1 - 0.275289764428389*x0**2 - 0.00238034098512755*x0*x1**2 - 0.427311537265487*x0*x1 + 0.794249512815208*x0 + 0.00529034872259601*x1**2 - 0.800829109247478*x1 + 1.0)], [1.61635062049545*(1.51538606332786e-8*x0**2*x1 + 0.0442908977088026*x0**2 + 0.293679469695919*x0*x1**2 - 0.413289884457833*x0*x1 - 0.358449114169132*x0 + 0.293475238267473*x1**2 - 1.0*x1 + 0.868787226524333)/(0.00357866697927659*x0**2*x1 - 0.0434257566386672*x0**2 - 0.000315466864726345*x0*x1**2 - 0.493260886862526*x0*x1 + 1.0*x0 + 0.00173789336596003*x1**2 - 0.460536308784133*x1 + 0.855775410449921)], [0.997424060799457*(1.0*x0**2*x1 + 0.0022532675*x0**2 + 0.0019109914*x0*x1**2 - 0.0123178205*x0 + 0.0199855513*x1**2 + 0.9588146342*x1 - 0.9768967416)/(0.000200646910933129*x0**2*x1 - 1.0*x0**2 - 0.000544378791796213*x0*x1**2 + 0.0129819687738967*x0 + 0.00167418536261084*x1**2 - 0.0290592990924501*x1 - 0.966463883798705)], [1.04442784089556*(0.839489911969895*x0**2*x1 - 0.0093856665010139*x0**2 - 0.0225033722554701*x0*x1**2 + 0.0228684148989475*x0*x1 + 0.0666536324169089*x0 - 0.0400891593045918*x1**2 + 1.0*x1 - 0.972081783675847)/(2.95267999970473e-5*x0**2*x1 - 0.873878558312612*x0**2 + 0.00022860179997714*x0*x1**2 + 0.0210665909978933*x0*x1 - 0.0401863916959814*x0 - 0.000274870799972513*x1**2 + 0.0448248915955175*x1 - 1.0)], [1.2741780157*(0.0837648194246741*x0**2*x1 + 0.0530011522470816*x0**2 + 0.314729074555324*x0*x1**2 - 0.545991843626187*x0*x1 - 0.426465382548195*x0 + 0.276553013753273*x1**2 - 1.0*x1 + 0.953834581922461)/(0.004915217*x0**2*x1 - 0.1482071555*x0**2 + 0.0003028699*x0*x1**2 - 0.4301187704*x0*x1 + 1.0*x0 + 0.0001299156*x1**2 - 0.3218087336*x1 + 0.6184993642)], [1.95094133419561*(0.177205525721072*x0**2*x1 + 0.0578482927886754*x0**2 + 0.212495646021951*x0*x1**2 - 0.136364686425433*x0*x1 - 0.407477128938902*x0 + 0.42668830694932*x1**2 - 1.0*x1 + 0.659134203363884)/(0.00577432970356559*x0**2*x1 - 0.425996916068995*x0**2 - 0.00646480800612126*x0*x1**2 - 0.40180849996188*x0*x1 + 0.753009615782024*x0 + 0.0158425083536516*x1**2 - 0.902785455200706*x1 + 1.0)], [-1.5653426138421*(3.15014918213145e-11*x0**2*x1 - 0.0443963458120298*x0**2 - 0.294662980424089*x0*x1**2 + 0.415287568589494*x0*x1 + 0.362109286817382*x0 - 0.292743074878807*x1**2 + 1.0*x1 - 0.875765985171886)/(0.0041883870597612*x0**2*x1 - 0.0443265270707316*x0**2 + 0.00127579660781687*x0*x1**2 - 0.493106275524329*x0*x1 + 1.0*x0 - 0.00189121597180899*x1**2 - 0.41872718358154*x1 + 0.781158939865486)], [0.9963727776*(1.0*x0**2*x1 + 0.00343639005096801*x0**2 + 0.0031546103734097*x0*x1**2 - 0.0191644973942331*x0 + 0.025090776928107*x1**2 + 0.943823132307143*x1 - 0.965327066659514)/(0.0003631061*x0**2*x1 - 1.0*x0**2 - 0.000635807*x0*x1**2 - 0.0013716419*x0*x1 + 0.0176625241*x0 + 0.0018278397*x1**2 - 0.0344277011*x1 - 0.9570986156)], [0.949465802957504*(1.0*x0**2*x1 + 0.0607912867939537*x0**2 + 0.0822890055973495*x0*x1**2 - 0.0855947635268458*x0*x1 - 0.290210089130928*x0 + 0.264533951019637*x1**2 + 0.260850786555417*x1 - 0.502752462988508)/(0.00860709488338739*x0**2*x1 - 1.0*x0**2 - 0.0310208859990787*x0*x1**2 + 0.0722643270473768*x0*x1 + 0.0616442869213517*x0 + 0.0796041561870394*x1**2 - 0.682391258664304*x1 + 0.0332088005879448)], [0.909657128973191*(1.0*x0**2*x1 + 0.105980379380014*x0**2 + 0.0558322281716789*x0*x1**2 + 0.0417974588881386*x0*x1 - 0.45532469516152*x0 + 0.369234537807618*x1**2 + 0.00268839923381726*x1 - 0.342462614323708)/(0.0159463771176057*x0**2*x1 - 1.0*x0**2 - 0.0428180950041618*x0*x1**2 + 0.147849432918045*x0*x1 - 0.0139206156670437*x0 + 0.0921407712619709*x1**2 - 0.829788974146976*x1 + 0.259784721082034)], [1.57349884451553*(0.112008882089913*x0**2*x1 + 0.0892348762275474*x0**2 + 0.192578169956924*x0*x1**2 - 0.194368037940218*x0*x1 - 0.527035517430686*x0 + 0.352000734262946*x1**2 - 1.0*x1 + 0.848953125286384)/(0.0290765674449373*x0**2*x1 - 0.325880013868547*x0**2 - 0.0102862694320322*x0*x1**2 - 0.372891084857097*x0*x1 + 1.0*x0 + 0.0165096111767285*x1**2 - 0.524147450601537*x1 + 0.576104121035294)]]\n"
     ]
    },
    {
     "data": {
      "text/plain": [
       "15"
      ]
     },
     "execution_count": 49,
     "metadata": {},
     "output_type": "execute_result"
    }
   ],
   "source": [
    "print(len(u_sym_equations_simplified))\n",
    "print(u_sym_equations_simplified)\n",
    "i"
   ]
  },
  {
   "cell_type": "code",
   "execution_count": 114,
   "id": "934f6084",
   "metadata": {},
   "outputs": [
    {
     "name": "stdout",
     "output_type": "stream",
     "text": [
      "[0.3016616548114859, 0.30197265864407324, 0.6941355429574565, 0.30222918466717197, 9.63744311237389, 0.30169898792232497, 0.30135750785394144, 0.3037503952829446, 0.30135317081750035, 0.30120452834773337, 0.3025565440613943, 0.30391221535816954, 0.31513137779095235, 0.3013725675712331, 0.31295496972513814, 0.30651388801365903]\n"
     ]
    },
    {
     "data": {
      "text/latex": [
       "$\\displaystyle - \\frac{2.68559383296856 \\cdot \\left(0.0717811565370596 x_{0}^{2} x_{1} + 0.334149644847 x_{0}^{2} + 0.225983594209346 x_{0} x_{1}^{2} + 0.273632098067932 x_{0} x_{1} - 1.0 x_{0} + 0.0897752911718622 x_{1}^{2} - 0.62382189845725 x_{1} + 0.632401956550711\\right)}{0.0208033737020803 x_{0}^{2} x_{1} - 0.05530046590553 x_{0}^{2} - 0.0339734418033973 x_{0} x_{1}^{2} + 0.252124570025212 x_{0} x_{1} + 1.0 x_{0} + 0.839171226683917 x_{1}^{2} - 0.573117827557312 x_{1} - 0.604717397260472}$"
      ],
      "text/plain": [
       "-2.68559383296856*(0.0717811565370596*x0**2*x1 + 0.334149644847*x0**2 + 0.225983594209346*x0*x1**2 + 0.273632098067932*x0*x1 - 1.0*x0 + 0.0897752911718622*x1**2 - 0.62382189845725*x1 + 0.632401956550711)/(0.0208033737020803*x0**2*x1 - 0.05530046590553*x0**2 - 0.0339734418033973*x0*x1**2 + 0.252124570025212*x0*x1 + 1.0*x0 + 0.839171226683917*x1**2 - 0.573117827557312*x1 - 0.604717397260472)"
      ]
     },
     "execution_count": 114,
     "metadata": {},
     "output_type": "execute_result"
    },
    {
     "data": {
      "image/png": "[encoded data removed]",
      "text/plain": [
       "<Figure size 432x288 with 1 Axes>"
      ]
     },
     "metadata": {
      "needs_background": "light"
     },
     "output_type": "display_data"
    }
   ],
   "source": [
    "# model Errors for udot\n",
    "a, b = 2, 1\n",
    "beta, gamma = 2, 2\n",
    "dudt = lambda u, v: -u + (a / (1+v**beta))\n",
    "dvdt = lambda u, v: -v + (b / (1+u**gamma))\n",
    "netswitch = lambda t, x: np.array([dudt(x[0], x[1]), dvdt(x[0], x[1])])\n",
    "\n",
    "# Plot the results for each of the models\n",
    "x_test = solve_ivp(netswitch, t_span, x0_test, t_eval=t).y.T\n",
    "#plt.plot(t, x_test, color=\"k\", linestyle=\"solid\", label=\"True\")\n",
    "u_dot_true = u_model.differentiate(x_test[:, 0])\n",
    "u_dots = []\n",
    "for i in range(u_nfeatures):\n",
    "    if len(u_sym_equations_simplified[i]) != 0:\n",
    "        ODE_Func = sp.lambdify([t_sym, x_sym], u_sym_equations_simplified[i][0])\n",
    "        u_dots.append(ODE_Func(t, [x_test[:,0], x_test[:,1]]))\n",
    "u_dot_error = [(1/20)*np.linalg.norm(u_dot_true.T[0] - u_dot) for u_dot in u_dots]\n",
    "print(u_dot_error)\n",
    "plt.plot(range(16), u_dot_error)\n",
    "plt.grid(True)\n",
    "# res is index of minimum model error\n",
    "temp = min(u_dot_error)\n",
    "res = [i for i, j in enumerate(u_dot_error) if j == temp]\n",
    "u_sym_equations_simplified[res[0]][0]"
   ]
  },
  {
   "cell_type": "code",
   "execution_count": 13,
   "id": "e4ea20d5",
   "metadata": {
    "scrolled": true
   },
   "outputs": [
    {
     "data": {
      "text/plain": [
       "[<matplotlib.lines.Line2D at 0x27175293e20>]"
      ]
     },
     "execution_count": 13,
     "metadata": {},
     "output_type": "execute_result"
    },
    {
     "data": {
      "image/png": "[encoded data removed]",
      "text/plain": [
       "<Figure size 432x288 with 1 Axes>"
      ]
     },
     "metadata": {
      "needs_background": "light"
     },
     "output_type": "display_data"
    }
   ],
   "source": [
    "us = u_model.predict(x_test)[:, 1]\n",
    "plt.plot(t, x_test[:, 0], 'k')\n",
    "plt.plot(t, us,'r--')"
   ]
  },
  {
   "cell_type": "code",
   "execution_count": 104,
   "id": "1b0ca836",
   "metadata": {},
   "outputs": [
    {
     "data": {
      "text/plain": [
       "<matplotlib.legend.Legend at 0x271744a03a0>"
      ]
     },
     "execution_count": 104,
     "metadata": {},
     "output_type": "execute_result"
    },
    {
     "data": {
      "image/png": "[encoded data removed]",
      "text/plain": [
       "<Figure size 1296x720 with 1 Axes>"
      ]
     },
     "metadata": {
      "needs_background": "light"
     },
     "output_type": "display_data"
    }
   ],
   "source": [
    "# derivative comparison\n",
    "plt.figure(figsize=(18, 10))\n",
    "# best model \n",
    "ODE_Func = sp.lambdify([t_sym, x_sym], u_sym_equations_simplified[res[0]][0])\n",
    "plt.plot(t, u_model.differentiate(x_test[:,0], t), 'k', label='True $\\dot{u}$')\n",
    "plt.plot(t, u_model.predict(x_test)[:, 8],'y-.',label='model.predict() for $\\dot{u}$')\n",
    "plt.plot(t, ODE_Func(t, [x_test[:,0], x_test[:,1]]), 'r--', label='sympy\\'d eqn for model with least error')\n",
    "ax = plt.gca()\n",
    "plt.grid(True)\n",
    "ax.set_ylim([-3, 2])\n",
    "plt.legend()"
   ]
  },
  {
   "cell_type": "markdown",
   "id": "5af106f8",
   "metadata": {},
   "source": [
    "## Repressilator/Gene Network Clock"
   ]
  },
  {
   "cell_type": "code",
   "execution_count": 6,
   "id": "3f488109",
   "metadata": {},
   "outputs": [
    {
     "data": {
      "text/plain": [
       "'\\nfig, axs = plt.subplots(1, 2, figsize=(20, 8))\\naxs[0].plot(tvals, x_train1[0, ], \"r\", label=\"$m_{lacI}$\",)\\naxs[0].plot(tvals, x_train1[1, :], \"g\", label=\"$m_{tetR}$\")\\naxs[0].plot(tvals, x_train1[2, :], \"b\", label=\"$m_{cl}$\")\\naxs[0].plot(tvals, x_train1[3, :], \"r--\", label=\"$p_{lacI}$\")\\naxs[0].plot(tvals, x_train1[4, :], \"g--\", label=\"$p_{tetR}$\")\\naxs[0].plot(tvals, x_train1[5, :], \"b--\", label=\"$p_{cl}$\")\\n\\naxs[0].legend()\\naxs[0].set(xlabel=\"t\", title=\"Oscillatory Repressilator solutions\")\\n\\naxs[1].plot(tvals2, x_train2[0, ], \"r\", label=\"$m_{lacI}$\",)\\naxs[1].plot(tvals2, x_train2[1, :], \"g\", label=\"$m_{tetR}$\")\\naxs[1].plot(tvals2, x_train2[2, :], \"b\", label=\"$m_{cl}$\")\\naxs[1].plot(tvals2, x_train2[3, :], \"r--\", label=\"$p_{lacI}$\")\\naxs[1].plot(tvals2, x_train2[4, :], \"g--\", label=\"$p_{tetR}$\")\\naxs[1].plot(tvals2, x_train2[5, :], \"b--\", label=\"$p_{cl}$\")\\n\\naxs[1].legend()\\naxs[1].set(xlabel=\"t\", title=\"Convergent Repressilator solutions\")\\n'"
      ]
     },
     "execution_count": 6,
     "metadata": {},
     "output_type": "execute_result"
    }
   ],
   "source": [
    "# General from of equations; reference pg 112\n",
    "# mdot_i = -m_i + (alpha / (1+p_j**n)) + a0\n",
    "# pdot_i = -beta * (p_i - m_i)\n",
    "# if i = lacI, tetR, cl\n",
    "# then j = cl, lacI, tetR\n",
    "\n",
    "# is there a better way of doing this? kinda spaghetti code \n",
    "#mdot_lacI = lambda m_lacI, m_tetR, m_cl, p_lacI, p_tetR, p_cl: -m_lacI + (alpha / (1+p_cl**n)) + a0\n",
    "#mdot_tetR = lambda m_lacI, m_tetR, m_cl, p_lacI, p_tetR, p_cl: -m_tetR + (alpha / (1+p_lacI**n)) + a0\n",
    "#mdot_cl = lambda m_lacI, m_tetR, m_cl, p_lacI, p_tetR, p_cl: -m_cl + (alpha / (1+p_tetR**n)) + a0\n",
    "#pdot_lacI = lambda m_lacI, m_tetR, m_cl, p_lacI, p_tetR, p_cl: -beta * (p_lacI - m_lacI)\n",
    "#pdot_tetR = lambda m_lacI, m_tetR, m_cl, p_lacI, p_tetR, p_cl: -beta * (p_tetR - m_tetR)\n",
    "#pdot_cl = lambda m_lacI, m_tetR, m_cl, p_lacI, p_tetR, p_cl: -beta * (p_cl - m_cl)\n",
    "\n",
    "alpha=50\n",
    "a0=0\n",
    "n=2\n",
    "beta=0.2\n",
    "# x in form:\n",
    "# [m_lacI, m_tetR, m_cl, p_lacI, p_tetR, p_cl]\n",
    "# [0     , 1     , 2   , 3     , 4     , 5   ]\n",
    "def repressilator(t, x):\n",
    "    return [\n",
    "        -x[0] + (alpha / (1 + x[5]**n)) + a0,\n",
    "        -x[1] + (alpha / (1+x[3]**n)) + a0,\n",
    "        -x[2] + (alpha / (1+x[4]**n)) + a0,\n",
    "        -beta * (x[3] - x[0]),\n",
    "        -beta * (x[4] - x[1]),\n",
    "        -beta * (x[5] - x[2])\n",
    "    ]\n",
    "\n",
    "T = 300\n",
    "dt = 0.01\n",
    "trange = np.array([0, T])\n",
    "tvals = np.arange(0, T + dt, dt)\n",
    "x0 = np.array([0.2, 0.1, 0.3, 0.1, 0.4, 0.5])\n",
    "x_train1 = solve_ivp(repressilator, trange, x0, t_eval=tvals).y\n",
    "\n",
    "alpha=50\n",
    "a0=1\n",
    "n=2\n",
    "beta=0.2\n",
    "#T=100\n",
    "trange2 = np.array([0, T])\n",
    "tvals2 = np.arange(0, T + dt, dt)\n",
    "\n",
    "x_train2 = solve_ivp(repressilator, trange2, x0, t_eval=tvals2).y\n",
    "\"\"\"\n",
    "fig, axs = plt.subplots(1, 2, figsize=(20, 8))\n",
    "axs[0].plot(tvals, x_train1[0, ], \"r\", label=\"$m_{lacI}$\",)\n",
    "axs[0].plot(tvals, x_train1[1, :], \"g\", label=\"$m_{tetR}$\")\n",
    "axs[0].plot(tvals, x_train1[2, :], \"b\", label=\"$m_{cl}$\")\n",
    "axs[0].plot(tvals, x_train1[3, :], \"r--\", label=\"$p_{lacI}$\")\n",
    "axs[0].plot(tvals, x_train1[4, :], \"g--\", label=\"$p_{tetR}$\")\n",
    "axs[0].plot(tvals, x_train1[5, :], \"b--\", label=\"$p_{cl}$\")\n",
    "\n",
    "axs[0].legend()\n",
    "axs[0].set(xlabel=\"t\", title=\"Oscillatory Repressilator solutions\")\n",
    "\n",
    "axs[1].plot(tvals2, x_train2[0, ], \"r\", label=\"$m_{lacI}$\",)\n",
    "axs[1].plot(tvals2, x_train2[1, :], \"g\", label=\"$m_{tetR}$\")\n",
    "axs[1].plot(tvals2, x_train2[2, :], \"b\", label=\"$m_{cl}$\")\n",
    "axs[1].plot(tvals2, x_train2[3, :], \"r--\", label=\"$p_{lacI}$\")\n",
    "axs[1].plot(tvals2, x_train2[4, :], \"g--\", label=\"$p_{tetR}$\")\n",
    "axs[1].plot(tvals2, x_train2[5, :], \"b--\", label=\"$p_{cl}$\")\n",
    "\n",
    "axs[1].legend()\n",
    "axs[1].set(xlabel=\"t\", title=\"Convergent Repressilator solutions\")\n",
    "\"\"\""
   ]
  },
  {
   "cell_type": "markdown",
   "id": "e8baf619",
   "metadata": {},
   "source": [
    "## Morris-Lecar Model\n",
    "    "
   ]
  },
  {
   "cell_type": "code",
   "execution_count": 5,
   "id": "b583a4b9",
   "metadata": {
    "scrolled": false
   },
   "outputs": [
    {
     "data": {
      "text/plain": [
       "[Text(0.5, 0, 't'), Text(0.5, 1.0, 'Morris-Lecar solutions')]"
      ]
     },
     "execution_count": 5,
     "metadata": {},
     "output_type": "execute_result"
    },
    {
     "data": {
      "image/png": "[encoded data removed]",
      "text/plain": [
       "<Figure size 1440x576 with 1 Axes>"
      ]
     },
     "metadata": {
      "needs_background": "light"
     },
     "output_type": "display_data"
    }
   ],
   "source": [
    "gCa, gK, gL, vCa, vK, vL, C, phi, i, v_1, v_2, v_3, v_4 = 4.4, 8, 2, 120, -84, -60, 20, 0.04, 90, -1.2, 18, 2, 30\n",
    "# helper functions v ^ parameters\n",
    "m_inf = lambda v: 0.5 * (1 + np.tanh((v - v_1) / v_2))\n",
    "w_inf = lambda v: 0.5 * (1 + np.tanh((v - v_3) / v_4))\n",
    "t_w = lambda v: 1 / (np.cosh((v-v_3) / (2 * v_4)))\n",
    "\n",
    "# x = [v, w]\n",
    "def morris_lecar(t, x):\n",
    "    return [\n",
    "        (1/C) * (i-gCa * m_inf(x[0]) * (x[0] - vCa)-gK * x[1] * (x[0]-vK) - gL * (x[0]-vL)),\n",
    "        (1/t_w(x[0])) * (phi * (w_inf(x[0]) - x[1]))\n",
    "    ]\n",
    "\n",
    "T = 250\n",
    "dt = 0.01\n",
    "trange = np.array([0, T])\n",
    "tvals = np.arange(0, T + dt, dt)\n",
    "x0 = np.array([10, 10])\n",
    "\n",
    "MorLec_train = solve_ivp(morris_lecar, trange, x0, t_eval=tvals).y\n",
    "\n",
    "fig, axs = plt.subplots(figsize=(20, 8))\n",
    "axs.plot(tvals, MorLec_train[0, ], \"r\", label=\"$v$\")\n",
    "axs.plot(tvals, MorLec_train[1, ], \"b\", label=\"$w$\")\n",
    "\n",
    "\n",
    "axs.legend()\n",
    "axs.set(xlabel=\"t\", title=\"Morris-Lecar solutions\")"
   ]
  }
 ],
 "metadata": {
  "kernelspec": {
   "display_name": "Python 3 (ipykernel)",
   "language": "python",
   "name": "python3"
  },
  "language_info": {
   "codemirror_mode": {
    "name": "ipython",
    "version": 3
   },
   "file_extension": ".py",
   "mimetype": "text/x-python",
   "name": "python",
   "nbconvert_exporter": "python",
   "pygments_lexer": "ipython3",
   "version": "3.9.12"
  }
 },
 "nbformat": 4,
 "nbformat_minor": 5
}
