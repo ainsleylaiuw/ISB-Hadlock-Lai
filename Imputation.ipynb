{
 "cells": [
  {
   "cell_type": "markdown",
   "id": "355a3d74",
   "metadata": {},
   "source": [
    "# \"Imputation\"\n",
    "\n",
    "Goal is as follows:\n",
    "\n",
    "Moving to irregular grid\n",
    "For each initial condition (and from REAL SOLUTION)\n",
    " - arbitrary # of time points (big enough)\n",
    " - arbitrary spacing between them\n",
    " - sample section @ those time points\n",
    "     - https://stackoverflow.com/questions/6482889/get-random-sample-from-list-while-maintaining-ordering-of-items\n",
    " - fit a polynomial (cubic spline)\n",
    " - sample from the fit on a regular grid\n",
    " - Run SINDy on regular grid fit\n",
    " - test the solution MSE (SINDy - real)\n",
    " - MSE (polynomial values - real) as an extra\n",
    " \n",
    " ### 7/13\n",
    "    Have sampled 75% of tvals at random spacing while preserving order in ONE trajectory using stackoverflow code. Need to apply to multiple trajectories. Same # of time points and spacing for all trajectories or no? \n",
    "\n",
    "    Maybe just wrap the code into a for loop of n_of_ic and conglomerate? But then need to resolve difference in length. That's what the polynomial is for? Build poly from sampled points and then use it to \"put back\" points onto our structure?\n",
    "    \n",
    "    NEXT STEP, look into fitting poly w/ cubic spline\n",
    "\n",
    " ### 7/14\n",
    "    Had worries that I'd have trouble getting points outside of our sample time range (i.e. sampled points start at `t=2` and we want to guess t=0 but spline only accounts for max(t)>t>2. Calling the constructed cubicspline method on something slightly outside seems to work though.\n",
    "    End of the day, I also implemented it for multiple trajectories and had it in a 'stack' structure similar to the true data set so that `model.fit()` could operate on it.\n",
    "    \n",
    " ### 7/15\n",
    "     Made SINDy model from cubicspline imputed set. Came out with higher error than the cubicspline... Also found that Radau method of integration takes much longer than LSODA and BDF methods. SINDy error increases more when timestep # is decreased. With `n_of_t=5000`, error is low but still larger than cubic spline."
   ]
  },
  {
   "cell_type": "code",
   "execution_count": 1,
   "id": "17576b59",
   "metadata": {},
   "outputs": [],
   "source": [
    "import matplotlib.pyplot as plt\n",
    "import numpy as np\n",
    "from scipy.integrate import solve_ivp\n",
    "import pysindy as ps\n",
    "#import colorednoise as cn\n",
    "import random\n",
    "from scipy.interpolate import CubicSpline"
   ]
  },
  {
   "cell_type": "code",
   "execution_count": 23,
   "id": "2e97e531",
   "metadata": {},
   "outputs": [
    {
     "ename": "TypeError",
     "evalue": "list indices must be integers or slices, not tuple",
     "output_type": "error",
     "traceback": [
      "\u001b[1;31m---------------------------------------------------------------------------\u001b[0m",
      "\u001b[1;31mTypeError\u001b[0m                                 Traceback (most recent call last)",
      "Input \u001b[1;32mIn [23]\u001b[0m, in \u001b[0;36m<cell line: 13>\u001b[1;34m()\u001b[0m\n\u001b[0;32m     11\u001b[0m rng \u001b[38;5;241m=\u001b[39m np\u001b[38;5;241m.\u001b[39mrandom\u001b[38;5;241m.\u001b[39mdefault_rng()\n\u001b[0;32m     12\u001b[0m rng\u001b[38;5;241m.\u001b[39mintegers(low\u001b[38;5;241m=\u001b[39m\u001b[38;5;28mint\u001b[39m(\u001b[38;5;241m0.25\u001b[39m \u001b[38;5;241m*\u001b[39m n_of_t), high\u001b[38;5;241m=\u001b[39mn_of_t)\n\u001b[1;32m---> 13\u001b[0m \u001b[43mnetswitch_train_multi\u001b[49m\u001b[43m[\u001b[49m\u001b[38;5;241;43m1\u001b[39;49m\u001b[43m,\u001b[49m\u001b[43m \u001b[49m\u001b[43m:\u001b[49m\u001b[43m,\u001b[49m\u001b[43m \u001b[49m\u001b[38;5;241;43m0\u001b[39;49m\u001b[43m]\u001b[49m\n",
      "\u001b[1;31mTypeError\u001b[0m: list indices must be integers or slices, not tuple"
     ]
    }
   ],
   "source": [
    "# test cell\n",
    "len(netswitch_train_multi[0][:, 0])\n",
    "sample_size\n",
    "range(len(first_traj[:, 0]))\n",
    "mylist = [ 1 , 2 , 3 , 4 , 5 , 6 , 7 , 8 ,9  , 10 ]\n",
    "indices = random.sample(range(len(mylist)), 3)\n",
    "[mylist[i] for i in sorted(indices)]\n",
    "\n",
    "[first_traj[i, :] for i in sorted(random.sample(range(len(first_traj[:, 0])), 3000)) ]\n",
    "(np.random.randint(int(0.5 * n_of_t), n_of_t + 1))\n",
    "rng = np.random.default_rng()\n",
    "rng.integers(low=int(0.25 * n_of_t), high=n_of_t)\n",
    "# error in line below because netswitch_train_multi is a list so I have to access it like [i][:, 0]\n",
    "#etswitch_train_multi[1, :, 0]"
   ]
  },
  {
   "cell_type": "code",
   "execution_count": 2,
   "id": "e9219973",
   "metadata": {},
   "outputs": [],
   "source": [
    "# contains functions + basic parameters\n",
    "a_u, a_v = 2, 1\n",
    "beta, gamma = 2, 2\n",
    "dudt = lambda u, v: -u + (a_u / (1+v**beta))\n",
    "dvdt = lambda u, v: -v + (a_v / (1+u**gamma))\n",
    "sigma = 0.01\n",
    "sigma_list = np.linspace(0.001, 0.8, 10)\n",
    "netswitch = lambda t, x: np.array([dudt(x[0], x[1]), dvdt(x[0], x[1])])\n",
    "# 0-5 minus some value between 0-1, no negatives for IC?\n",
    "n_of_ic = 1000\n",
    "u_ic = np.random.random(size=n_of_ic) * 5 - np.random.random(size=n_of_ic)\n",
    "v_ic = np.random.random(size=n_of_ic) * 5 - np.random.random(size=n_of_ic)\n",
    "\n",
    "def plot_data_and_derivative(x, dt, deriv):\n",
    "    feature_name = [\"u\", \"v\"]\n",
    "    plt.figure(figsize=(20, 5))\n",
    "    for i in range(2):\n",
    "        plt.subplot(1, 2, i + 1)\n",
    "        plt.plot(x[:, i], label=feature_name[i])\n",
    "        plt.grid(True)\n",
    "        plt.xlabel(\"t\", fontsize=24)\n",
    "        plt.xticks(fontsize=18)\n",
    "        plt.yticks(fontsize=18)\n",
    "        plt.legend(fontsize=24)\n",
    "    x_dot = deriv(x, t=dt)\n",
    "    plt.figure(figsize=(20, 5))\n",
    "    for i in range(2):\n",
    "        plt.subplot(1, 2, i + 1)\n",
    "        plt.plot(x_dot[:, i], label=r\"$\\dot{\" + feature_name[i] + \"}$\")\n",
    "        plt.grid(True)\n",
    "        plt.xlabel(\"t\", fontsize=24)\n",
    "        plt.xticks(fontsize=18)\n",
    "        plt.yticks(fontsize=18)\n",
    "        plt.legend(fontsize=24)\n",
    "library_functions = [\n",
    "    lambda x: x,\n",
    "    lambda x: 1 / (1 + x**1),\n",
    "    lambda x: 1 / (1 + x**2),\n",
    "    lambda x: 1 / (1 + x**3),\n",
    "    lambda x: 1 / (1 + x**4),\n",
    "    lambda x: 1 / (1 + x**5)\n",
    "]\n",
    "library_function_names = [\n",
    "    lambda x: x,\n",
    "    lambda x: '1/(1 + ' + x + '^1)',\n",
    "    lambda x: '1/(1 + ' + x + '^2)',\n",
    "    lambda x: '1/(1 + ' + x + '^3)',\n",
    "    lambda x: '1/(1 + ' + x + '^4)',\n",
    "    lambda x: '1/(1 + ' + x + '^5)'\n",
    "]\n",
    "netswitch_library = ps.CustomLibrary(\n",
    "    library_functions=library_functions, function_names=library_function_names\n",
    ")"
   ]
  },
  {
   "cell_type": "code",
   "execution_count": 3,
   "id": "4cff477c",
   "metadata": {},
   "outputs": [
    {
     "name": "stdout",
     "output_type": "stream",
     "text": [
      "{'rtol': 1e-12, 'method': 'LSODA', 'atol': 1e-12}\n"
     ]
    }
   ],
   "source": [
    "# creation of TRUE set\n",
    "T = 50\n",
    "dt = 0.01\n",
    "trange = np.array([0, T])\n",
    "#tvals = np.arange(0, T + dt, dt)\n",
    "n_of_t = 5000\n",
    "tvals = np.linspace(0, T, n_of_t)\n",
    "n_of_ic = 500\n",
    "feature_count = 2\n",
    "netswitch_x0s = (np.random.rand(n_of_ic, feature_count) * 5 - np.random.rand(n_of_ic, feature_count))\n",
    "sparse_regression_optimizer = ps.STLSQ()\n",
    "MSE_list = []\n",
    "netswitch_train_multi = []\n",
    "integrator_keywords = {}\n",
    "#integrator_keywords['full_output'] = True\n",
    "integrator_keywords['rtol'] = 1e-12\n",
    "integrator_keywords['method'] = 'LSODA'\n",
    "integrator_keywords['atol'] = 1e-12\n",
    "\n",
    "print(integrator_keywords)\n",
    "\n",
    "# actual creation\n",
    "for i in range(n_of_ic):     \n",
    "    netswitch_train_temp = solve_ivp(\n",
    "        netswitch, trange, netswitch_x0s[i], t_eval=tvals\n",
    "    ).y.T\n",
    "    netswitch_train_multi.append(netswitch_train_temp)"
   ]
  },
  {
   "cell_type": "code",
   "execution_count": 63,
   "id": "9a2261e3",
   "metadata": {},
   "outputs": [
    {
     "name": "stdout",
     "output_type": "stream",
     "text": [
      "1338\n",
      "1338\n",
      "5000\n"
     ]
    },
    {
     "data": {
      "image/png": "[encoded data removed]",
      "text/plain": [
       "<Figure size 432x288 with 1 Axes>"
      ]
     },
     "metadata": {
      "needs_background": "light"
     },
     "output_type": "display_data"
    }
   ],
   "source": [
    "# one trajectory\n",
    "rng = np.random.default_rng()\n",
    "first_traj = netswitch_train_multi[0]\n",
    "\n",
    "\n",
    "sample_size = rng.integers(low=int(0.25 * n_of_t), high=int(0.75 * n_of_t))\n",
    "\n",
    "indices = sorted(\n",
    "    random.sample(range(len(first_traj[:, 0])), int(sample_size)))\n",
    "sorted_sample = np.asarray([\n",
    "    first_traj[j, :] for j in indices\n",
    "])\n",
    "\n",
    "# fit to corresponding time values and not the indices\n",
    "cs_u = CubicSpline(tvals[indices], sorted_sample[:, 0])\n",
    "cs_v = CubicSpline(tvals[indices], sorted_sample[:, 1])\n",
    "\n",
    " # for testing one trajectory\n",
    "fig, axs = plt.subplots()\n",
    "plt.plot(tvals, cs_u(tvals), \"v\", label=\"fitted u\")\n",
    "plt.plot(tvals, first_traj[:,0], 'k', label=\"true u\")\n",
    "plt.plot(tvals, cs_v(tvals), \"c+\", label=\"fitted v\")\n",
    "plt.plot(tvals, first_traj[:, 1], 'g', label=\"true v\")\n",
    "plt.plot(tvals[indices], sorted_sample[:, 0],\"mx\",label=\"sampled u\")\n",
    "plt.legend()\n",
    "\n",
    "\n",
    "print(len(indices))\n",
    "print(len(sorted_sample[:,0]))\n",
    "print(len(tvals))"
   ]
  },
  {
   "cell_type": "code",
   "execution_count": 84,
   "id": "fbe3afbc",
   "metadata": {},
   "outputs": [
    {
     "name": "stdout",
     "output_type": "stream",
     "text": [
      "(u)' = -1.001 u + 2.002 1/(1 + v^2)\n",
      "(v)' = -1.001 v + 1.001 1/(1 + u^2)\n",
      "2.7722759673696267e-05\n",
      "2.02889497845725e-10\n"
     ]
    }
   ],
   "source": [
    "rng = np.random.default_rng()\n",
    "first_traj = netswitch_train_multi[0]\n",
    "netswitch_fitted_multi = []\n",
    "# Takes a random sample of values from the strue solution to emulate missingess\n",
    "# and then uses fits it as cubic spline\n",
    "for i in range(n_of_ic):\n",
    "    sample_size = rng.integers(low=int(0.25 * n_of_t), high=int(0.75 * n_of_t))\n",
    "\n",
    "    indices = sorted(\n",
    "        random.sample(range(len(netswitch_train_multi[i][:, 0])), int(sample_size)))\n",
    "    sorted_sample = np.asarray([\n",
    "        netswitch_train_multi[i][j, :] for j in indices\n",
    "    ])\n",
    "\n",
    "    # fit to corresponding time values and not the indices\n",
    "    cs_u = CubicSpline(tvals[indices], sorted_sample[:, 0])\n",
    "    cs_v = CubicSpline(tvals[indices], sorted_sample[:, 1])\n",
    "    fitted_sheet = np.array([cs_u(tvals), cs_v(tvals)]).T\n",
    "    netswitch_fitted_multi.append(fitted_sheet)\n",
    "\n",
    "model = ps.SINDy(feature_names=['u', 'v'], optimizer=sparse_regression_optimizer, feature_library=netswitch_library)\n",
    "model.fit(netswitch_fitted_multi, t=dt, multiple_trajectories=True)\n",
    "model.print()\n",
    "\n",
    "# create simulations list to hold simulated data for corresponding IC\n",
    "simulations = []\n",
    "for k in range(n_of_ic):\n",
    "    # problem area with warnings\n",
    "    netswitch_sim = model.simulate(netswitch_x0s[k], t=tvals, integrator=\"odeint\", integrator_kws=integrator_keywords)\n",
    "    simulations.append(netswitch_sim)\n",
    "MSE_SINDy_real = np.square(np.subtract(netswitch_train_multi, simulations)).sum() / (len(tvals) * feature_count)\n",
    "MSE_poly_real = np.square(np.subtract(netswitch_train_multi, netswitch_fitted_multi)).sum() / (len(tvals) * feature_count)\n",
    "print(MSE_SINDy_real)\n",
    "print(MSE_poly_real)"
   ]
  }
 ],
 "metadata": {
  "kernelspec": {
   "display_name": "Python 3 (ipykernel)",
   "language": "python",
   "name": "python3"
  },
  "language_info": {
   "codemirror_mode": {
    "name": "ipython",
    "version": 3
   },
   "file_extension": ".py",
   "mimetype": "text/x-python",
   "name": "python",
   "nbconvert_exporter": "python",
   "pygments_lexer": "ipython3",
   "version": "3.9.12"
  }
 },
 "nbformat": 4,
 "nbformat_minor": 5
}
