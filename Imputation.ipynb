{
 "cells": [
  {
   "cell_type": "markdown",
   "id": "355a3d74",
   "metadata": {},
   "source": [
    "# \"Imputation\"\n",
    "\n",
    "Goal is as follows:\n",
    "\n",
    "Moving to irregular grid\n",
    "For each initial condition (and from REAL SOLUTION)\n",
    " - arbitrary # of time points (big enough)\n",
    " - arbitrary spacing between them\n",
    " - sample section @ those time points\n",
    "     - https://stackoverflow.com/questions/6482889/get-random-sample-from-list-while-maintaining-ordering-of-items\n",
    " - fit a polynomial (cubic spline)\n",
    " - sample from the fit on a regular grid\n",
    " - Run SINDy on regular grid fit\n",
    " - test the solution MSE (SINDy - real)\n",
    " - MSE (polynomial values - real) as an extra\n",
    " \n",
    " ### 7/13\n",
    "    Have sampled 75% of tvals at random spacing while preserving order in ONE trajectory using stackoverflow code. Need to apply to multiple trajectories. Same # of time points and spacing for all trajectories or no? \n",
    "\n",
    "    Maybe just wrap the code into a for loop of n_of_ic and conglomerate? But then need to resolve difference in length. That's what the polynomial is for? Build poly from sampled points and then use it to \"put back\" points onto our structure?\n",
    "    \n",
    "    NEXT STEP, look into fitting poly w/ cubic spline\n",
    "\n",
    " ### 7/14\n",
    "    Had worries that I'd have trouble getting points outside of our sample time range (i.e. sampled points start at t=2 and we want to guess t=0 but spline only accounts for max(t)>t>2. Calling the constructed cubicspline method on something slightly outside seems to work though."
   ]
  },
  {
   "cell_type": "code",
   "execution_count": 184,
   "id": "17576b59",
   "metadata": {},
   "outputs": [],
   "source": [
    "import matplotlib.pyplot as plt\n",
    "import numpy as np\n",
    "from scipy.integrate import solve_ivp\n",
    "import pysindy as ps\n",
    "#import colorednoise as cn\n",
    "import random\n",
    "from scipy.interpolate import CubicSpline"
   ]
  },
  {
   "cell_type": "code",
   "execution_count": 407,
   "id": "2e97e531",
   "metadata": {},
   "outputs": [
    {
     "ename": "TypeError",
     "evalue": "list indices must be integers or slices, not tuple",
     "output_type": "error",
     "traceback": [
      "\u001b[1;31m---------------------------------------------------------------------------\u001b[0m",
      "\u001b[1;31mTypeError\u001b[0m                                 Traceback (most recent call last)",
      "Input \u001b[1;32mIn [407]\u001b[0m, in \u001b[0;36m<cell line: 13>\u001b[1;34m()\u001b[0m\n\u001b[0;32m     11\u001b[0m rng \u001b[38;5;241m=\u001b[39m np\u001b[38;5;241m.\u001b[39mrandom\u001b[38;5;241m.\u001b[39mdefault_rng()\n\u001b[0;32m     12\u001b[0m rng\u001b[38;5;241m.\u001b[39mintegers(low\u001b[38;5;241m=\u001b[39m\u001b[38;5;28mint\u001b[39m(\u001b[38;5;241m0.25\u001b[39m \u001b[38;5;241m*\u001b[39m n_of_t), high\u001b[38;5;241m=\u001b[39mn_of_t)\n\u001b[1;32m---> 13\u001b[0m \u001b[43mnetswitch_train_multi\u001b[49m\u001b[43m[\u001b[49m\u001b[38;5;241;43m1\u001b[39;49m\u001b[43m,\u001b[49m\u001b[43m \u001b[49m\u001b[43m:\u001b[49m\u001b[43m,\u001b[49m\u001b[43m \u001b[49m\u001b[38;5;241;43m0\u001b[39;49m\u001b[43m]\u001b[49m\n",
      "\u001b[1;31mTypeError\u001b[0m: list indices must be integers or slices, not tuple"
     ]
    }
   ],
   "source": [
    "# test cell\n",
    "len(netswitch_train_multi[0][:, 0])\n",
    "sample_size\n",
    "range(len(first_traj[:, 0]))\n",
    "mylist = [ 1 , 2 , 3 , 4 , 5 , 6 , 7 , 8 ,9  , 10 ]\n",
    "indices = random.sample(range(len(mylist)), 3)\n",
    "[mylist[i] for i in sorted(indices)]\n",
    "\n",
    "[first_traj[i, :] for i in sorted(random.sample(range(len(first_traj[:, 0])), 3000)) ]\n",
    "(np.random.randint(int(0.5 * n_of_t), n_of_t + 1))\n",
    "rng = np.random.default_rng()\n",
    "rng.integers(low=int(0.25 * n_of_t), high=n_of_t)\n",
    "netswitch_train_multi[1, :, 0]"
   ]
  },
  {
   "cell_type": "code",
   "execution_count": 4,
   "id": "e9219973",
   "metadata": {},
   "outputs": [],
   "source": [
    "# contains functions + basic parameters\n",
    "a_u, a_v = 1, 1\n",
    "beta, gamma = 2, 2\n",
    "dudt = lambda u, v: -u + (a_u / (1+v**beta))\n",
    "dvdt = lambda u, v: -v + (a_v / (1+u**gamma))\n",
    "sigma = 0.01\n",
    "sigma_list = np.linspace(0.001, 0.8, 10)\n",
    "netswitch = lambda t, x: np.array([dudt(x[0], x[1]), dvdt(x[0], x[1])])\n",
    "# 0-5 minus some value between 0-1, no negatives for IC?\n",
    "n_of_ic = 1000\n",
    "u_ic = np.random.random(size=n_of_ic) * 5 - np.random.random(size=n_of_ic)\n",
    "v_ic = np.random.random(size=n_of_ic) * 5 - np.random.random(size=n_of_ic)\n",
    "\n",
    "def plot_data_and_derivative(x, dt, deriv):\n",
    "    feature_name = [\"u\", \"v\"]\n",
    "    plt.figure(figsize=(20, 5))\n",
    "    for i in range(2):\n",
    "        plt.subplot(1, 2, i + 1)\n",
    "        plt.plot(x[:, i], label=feature_name[i])\n",
    "        plt.grid(True)\n",
    "        plt.xlabel(\"t\", fontsize=24)\n",
    "        plt.xticks(fontsize=18)\n",
    "        plt.yticks(fontsize=18)\n",
    "        plt.legend(fontsize=24)\n",
    "    x_dot = deriv(x, t=dt)\n",
    "    plt.figure(figsize=(20, 5))\n",
    "    for i in range(2):\n",
    "        plt.subplot(1, 2, i + 1)\n",
    "        plt.plot(x_dot[:, i], label=r\"$\\dot{\" + feature_name[i] + \"}$\")\n",
    "        plt.grid(True)\n",
    "        plt.xlabel(\"t\", fontsize=24)\n",
    "        plt.xticks(fontsize=18)\n",
    "        plt.yticks(fontsize=18)\n",
    "        plt.legend(fontsize=24)\n",
    "library_functions = [\n",
    "    lambda x: x,\n",
    "    lambda x: 1 / (1 + x**1),\n",
    "    lambda x: 1 / (1 + x**2),\n",
    "    lambda x: 1 / (1 + x**3),\n",
    "    lambda x: 1 / (1 + x**4),\n",
    "    lambda x: 1 / (1 + x**5)\n",
    "]\n",
    "library_function_names = [\n",
    "    lambda x: x,\n",
    "    lambda x: '1/(1 + ' + x + '^1)',\n",
    "    lambda x: '1/(1 + ' + x + '^2)',\n",
    "    lambda x: '1/(1 + ' + x + '^3)',\n",
    "    lambda x: '1/(1 + ' + x + '^4)',\n",
    "    lambda x: '1/(1 + ' + x + '^5)'\n",
    "]\n",
    "netswitch_library = ps.CustomLibrary(\n",
    "    library_functions=library_functions, function_names=library_function_names\n",
    ")"
   ]
  },
  {
   "cell_type": "code",
   "execution_count": 363,
   "id": "4cff477c",
   "metadata": {},
   "outputs": [
    {
     "name": "stdout",
     "output_type": "stream",
     "text": [
      "{'rtol': 1e-12, 'method': 'LSODA', 'atol': 1e-12}\n"
     ]
    }
   ],
   "source": [
    "# creation of TRUE set\n",
    "T = 50\n",
    "dt = 0.01\n",
    "trange = np.array([0, T])\n",
    "#tvals = np.arange(0, T + dt, dt)\n",
    "n_of_t = 4000\n",
    "tvals = np.linspace(0, T, n_of_t)\n",
    "n_of_ic = 200\n",
    "feature_count = 2\n",
    "netswitch_x0s = (np.random.rand(n_of_ic, feature_count) * 5 - np.random.rand(n_of_ic, feature_count))\n",
    "sparse_regression_optimizer = ps.STLSQ(threshold=0.7)\n",
    "MSE_list = []\n",
    "netswitch_train_multi = []\n",
    "integrator_keywords = {}\n",
    "#integrator_keywords['full_output'] = True\n",
    "integrator_keywords['rtol'] = 1e-12\n",
    "integrator_keywords['method'] = 'LSODA'\n",
    "integrator_keywords['atol'] = 1e-12\n",
    "\n",
    "print(integrator_keywords)\n",
    "\n",
    "# creation of TRUE data/solution\n",
    "for i in range(n_of_ic):     \n",
    "    netswitch_train_temp = solve_ivp(\n",
    "        netswitch, trange, netswitch_x0s[i], t_eval=tvals\n",
    "    ).y.T\n",
    "    netswitch_train_multi.append(netswitch_train_temp)"
   ]
  },
  {
   "cell_type": "code",
   "execution_count": 437,
   "id": "fbe3afbc",
   "metadata": {},
   "outputs": [
    {
     "name": "stdout",
     "output_type": "stream",
     "text": [
      "<class 'list'>\n",
      "<class 'list'>\n"
     ]
    },
    {
     "data": {
      "text/plain": [
       "1.5907842556519788e-10"
      ]
     },
     "execution_count": 437,
     "metadata": {},
     "output_type": "execute_result"
    }
   ],
   "source": [
    "\n",
    "# 7/14 , for now, work on getting imputation steps done for one initial condition \"first_traj\".\n",
    "rng = np.random.default_rng()\n",
    "first_traj = netswitch_train_multi[0]\n",
    "netswitch_fitted_multi =[]\n",
    "for i in range(n_of_ic):\n",
    "    sample_size = rng.integers(low=int(0.25 * n_of_t), high=int(0.8 * n_of_t))\n",
    "\n",
    "    indices = sorted(\n",
    "        random.sample(range(len(netswitch_train_multi[i][:, 0])), int(sample_size)))\n",
    "    sorted_sample = np.asarray([\n",
    "        netswitch_train_multi[i][j, :] for j in indices\n",
    "    ])\n",
    "\n",
    "    # fit to corresponding time values and not the indices\n",
    "    cs_u = CubicSpline(tvals[indices], sorted_sample[:, 0])\n",
    "    cs_v = CubicSpline(tvals[indices], sorted_sample[:, 1])\n",
    "    fitted_sheet = np.array([cs_u(tvals), cs_v(tvals)]).T\n",
    "    netswitch_fitted_multi.append(fitted_sheet)\n",
    "    \"\"\"\n",
    "    fig, axs = plt.subplots()\n",
    "    plt.plot(tvals, cs_u(tvals), \"v\", label=\"fitted u\")\n",
    "    plt.plot(tvals, first_traj[:,0], 'k', label=\"true u\")\n",
    "    plt.plot(tvals, cs_v(tvals), \"c+\", label=\"fitted v\")\n",
    "    plt.plot(tvals, first_traj[:, 1], 'g', label=\"true v\")\n",
    "    plt.plot(tvals[indices], sorted_sample[:, 0],\"mx\",label=\"sampled u\")\n",
    "    plt.legend()\n",
    "    \"\"\"\n",
    "    \"\"\"\n",
    "    print((indices))\n",
    "    print((sorted_sample[:,0]))\n",
    "    print(cs_u(-40))\"\"\"\n",
    "print(type(netswitch_fitted_multi))\n",
    "print(type(netswitch_train_multi))\n",
    "np.square(np.subtract(netswitch_train_multi, netswitch_fitted_multi)).sum() / (len(tvals) * feature_count)"
   ]
  }
 ],
 "metadata": {
  "kernelspec": {
   "display_name": "Python 3 (ipykernel)",
   "language": "python",
   "name": "python3"
  },
  "language_info": {
   "codemirror_mode": {
    "name": "ipython",
    "version": 3
   },
   "file_extension": ".py",
   "mimetype": "text/x-python",
   "name": "python",
   "nbconvert_exporter": "python",
   "pygments_lexer": "ipython3",
   "version": "3.9.12"
  }
 },
 "nbformat": 4,
 "nbformat_minor": 5
}
