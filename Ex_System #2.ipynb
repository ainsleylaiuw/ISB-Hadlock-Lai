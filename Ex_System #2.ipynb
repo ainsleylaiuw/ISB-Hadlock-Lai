{
 "cells": [
  {
   "cell_type": "markdown",
   "id": "0a6dcf90",
   "metadata": {},
   "source": [
    "Temporary dump location to resolve the issue of me forgetting to push some code and writing across two devices\n",
    "\n",
    "To do:\n",
    " - ODEint warning is from a Stiff Equation. \"hole\" or jump in our solution points that occurs from having too wide timesteps\n",
    "May want to look into other integration methods to resolve stiffness https://docs.scipy.org/doc/scipy-1.7.1/reference/generated/scipy.integrate.solve_ivp.html#scipy.integrate.solve_ivp\n",
    "\n",
    "Moving to irregular grid\n",
    "For each initial condition (and from REAL SOLUTION)\n",
    " - arbitrary # of time points (big enough)\n",
    " - arbitrary spacing between them\n",
    " - sample section @ those time points\n",
    " - fit a polynomial (cubic spline)\n",
    " - sample from the fit on a regular grid\n",
    " - Run SINDy on regular grid fit\n",
    " - test the solution MSE (SINDy - real)\n",
    " - MSE (polynomial values - real) as an extra\n",
    " \n",
    " "
   ]
  },
  {
   "cell_type": "code",
   "execution_count": null,
   "id": "46c08c32",
   "metadata": {},
   "outputs": [],
   "source": [
    "# code snippet, run w/ len(tvals) 500 and 5000 to see difference\n",
    "# will need supporting code tho\n",
    "test\n",
    "htest = 1 / (1+test**5)\n",
    "#plt.scatter(test, htest)\n",
    "feature_count =2\n",
    "netswitch_x0s = (np.random.rand(n_of_ic, feature_count) * 5 - np.random.rand(n_of_ic, feature_count))\n",
    "model = ps.SINDy(feature_names=['u', 'v'], optimizer=ps.STLSQ(threshold=0.7), feature_library=netswitch_library)\n",
    "model.fit(list(netswitch_train_multi), t=dt, multiple_trajectories=True)\n",
    "model.print()\n",
    "netswitch_sim = model.simulate(netswitch_x0s[0], t=tvals, integrator=\"odeint\")\n",
    "test2 = netswitch_sim[:, 0]\n",
    "htest2 = 1 / (1+test2**5)\n",
    "plt.scatter(tvals, test2)"
   ]
  }
 ],
 "metadata": {
  "kernelspec": {
   "display_name": "Python 3 (ipykernel)",
   "language": "python",
   "name": "python3"
  },
  "language_info": {
   "codemirror_mode": {
    "name": "ipython",
    "version": 3
   },
   "file_extension": ".py",
   "mimetype": "text/x-python",
   "name": "python",
   "nbconvert_exporter": "python",
   "pygments_lexer": "ipython3",
   "version": "3.9.12"
  }
 },
 "nbformat": 4,
 "nbformat_minor": 5
}
